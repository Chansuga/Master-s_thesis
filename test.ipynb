{
 "cells": [
  {
   "cell_type": "code",
   "execution_count": 18,
   "metadata": {},
   "outputs": [
    {
     "name": "stdout",
     "output_type": "stream",
     "text": [
      "tensor([[[[4., 5., 3., 4., 5., 3., 4.],\n",
      "          [7., 8., 6., 7., 8., 6., 7.],\n",
      "          [1., 2., 0., 1., 2., 0., 1.],\n",
      "          [4., 5., 3., 4., 5., 3., 4.],\n",
      "          [7., 8., 6., 7., 8., 6., 7.],\n",
      "          [1., 2., 0., 1., 2., 0., 1.],\n",
      "          [4., 5., 3., 4., 5., 3., 4.]]]])\n"
     ]
    }
   ],
   "source": [
    "import torch\n",
    "import torch.nn.functional as F\n",
    "\n",
    "class PeriodicPad2d(nn.Module):\n",
    "    def __init__(self, pad_size):\n",
    "        super(PeriodicPad2d, self).__init__()\n",
    "        self.pad_size = pad_size\n",
    "\n",
    "    def forward(self, x):\n",
    "        # パディングを適用\n",
    "        x_padded = F.pad(x, (self.pad_size, self.pad_size, self.pad_size, self.pad_size), mode='circular')\n",
    "        return x_padded\n",
    "\n",
    "# テスト用の8x8のテンソルを作成\n",
    "input_tensor = torch.arange(9).view(1, 1, 3, 3).float()\n",
    "\n",
    "# PeriodicPad2dを使って周期境界条件でパディング\n",
    "pad_layer = PeriodicPad2d(pad_size=2)\n",
    "output_tensor = pad_layer(input_tensor)\n",
    "\n",
    "print(output_tensor)\n"
   ]
  },
  {
   "cell_type": "code",
   "execution_count": 19,
   "metadata": {},
   "outputs": [
    {
     "data": {
      "text/plain": [
       "tensor([[[[0., 1., 2.],\n",
       "          [3., 4., 5.],\n",
       "          [6., 7., 8.]]]])"
      ]
     },
     "execution_count": 19,
     "metadata": {},
     "output_type": "execute_result"
    }
   ],
   "source": [
    "input_tensor"
   ]
  },
  {
   "cell_type": "code",
   "execution_count": null,
   "metadata": {},
   "outputs": [],
   "source": []
  }
 ],
 "metadata": {
  "kernelspec": {
   "display_name": "base",
   "language": "python",
   "name": "python3"
  },
  "language_info": {
   "codemirror_mode": {
    "name": "ipython",
    "version": 3
   },
   "file_extension": ".py",
   "mimetype": "text/x-python",
   "name": "python",
   "nbconvert_exporter": "python",
   "pygments_lexer": "ipython3",
   "version": "3.10.9"
  }
 },
 "nbformat": 4,
 "nbformat_minor": 2
}
