{
 "cells": [
  {
   "cell_type": "markdown",
   "metadata": {},
   "source": [
    "以下のサイトを利用した\n",
    "\n",
    "https://dreamer-uma.com/mcmc-ising/"
   ]
  },
  {
   "cell_type": "code",
   "execution_count": 1,
   "metadata": {},
   "outputs": [],
   "source": [
    "import os\n",
    "import numpy as np\n",
    "import random\n",
    "import scipy as sp\n",
    "import pickle\n",
    "from tqdm import tqdm\n",
    "\n",
    "import matplotlib.pyplot as plt\n",
    "from matplotlib import animation, rc\n",
    "from IPython.display import HTML"
   ]
  },
  {
   "cell_type": "markdown",
   "metadata": {},
   "source": [
    "関数の定義"
   ]
  },
  {
   "cell_type": "code",
   "execution_count": 2,
   "metadata": {},
   "outputs": [],
   "source": [
    "class LatticeIsing_2D():\n",
    "    def __init__(self, N, J, h):\n",
    "        \"\"\"\n",
    "        Attributes:\n",
    "            N: 格子サイズ\n",
    "            J: 相互作用\n",
    "            h: 磁場\n",
    "        \"\"\"\n",
    "        self.N=N\n",
    "        self.J=J\n",
    "        self.h=h\n",
    "    \n",
    "    def neighor_spin_sum(self, state, x, y):\n",
    "\n",
    "        center_spin = state[y, x]\n",
    "        right, left, up, down=x+1, x-1, y+1, y-1\n",
    "\n",
    "        # 周期境界条件\n",
    "        if right>=self.N:\n",
    "            right_spin=state[y, 0]\n",
    "        else:\n",
    "            right_spin=state[y, right]\n",
    "            \n",
    "        if left<0:\n",
    "            left=self.N-1\n",
    "            left_spin=state[y, left]\n",
    "        else:\n",
    "            left_spin=state[y, left]\n",
    "            \n",
    "        if down<0:\n",
    "            down=self.N-1\n",
    "            down_spin=state[down, x]\n",
    "        else:\n",
    "            down_spin=state[down, x]\n",
    "    \n",
    "        if up>=self.N:\n",
    "            up_spin=state[0, x]\n",
    "        else:\n",
    "            up_spin=state[up, x]\n",
    "            \n",
    "        neighor_spin_sum=self.J * center_spin * (right_spin+left_spin+up_spin+down_spin)\n",
    "        return neighor_spin_sum\n",
    "\n",
    "    # エネルギーを計算\n",
    "    def energy(self, state):\n",
    "        energy=0\n",
    "        for x in range(self.N):\n",
    "            for y in range(self.N):\n",
    "                energy -= self.neighor_spin_sum(state, x, y)/2\n",
    "        energy -= self.h*np.sum(state)\n",
    "        return energy\n",
    "    \n",
    "    # 磁化を計算\n",
    "    def magnetization(self, state):\n",
    "        return np.mean(state)"
   ]
  },
  {
   "cell_type": "markdown",
   "metadata": {},
   "source": [
    "マルコフ連鎖モンテカルロ法（メトロポリス法，ギブスサンプリング）を定義"
   ]
  },
  {
   "cell_type": "markdown",
   "metadata": {},
   "source": [
    "・gibbsサンプリングのコードが間違っているかも"
   ]
  },
  {
   "cell_type": "code",
   "execution_count": 3,
   "metadata": {},
   "outputs": [],
   "source": [
    "class IsingMC():\n",
    "    def __init__(self, method):\n",
    "        self.method=method\n",
    "\n",
    "    def run_mcmc(self, dist, init_state, beta, n_step):\n",
    "        \n",
    "        state=init_state\n",
    "        state_dynamics=np.zeros((n_step+1, dist.N, dist.N))\n",
    "        state_dynamics[0]=state\n",
    "        AR_dynamics=[]\n",
    "\n",
    "        for step in range(n_step):\n",
    "            if self.method==\"gibbs\":\n",
    "                state, AR = self.step_Gibbs(dist, state, beta)\n",
    "            else:\n",
    "                state, AR = self.step_MH(dist, state, beta)\n",
    "            \n",
    "            AR_dynamics.append(AR)\n",
    "            state_dynamics[step+1] = state\n",
    "        # print(f'ACCEPTANCE RATE : {np.mean(AR_dynamics):.3f}')\n",
    "        return state_dynamics, AR_dynamics    \n",
    "    \n",
    "    # メトロポリス法\n",
    "    def step_MH(self, dist, state, beta):\n",
    "        n_flg = 0\n",
    "        for i in range(dist.N * dist.N):\n",
    "            x = np.random.randint(dist.N)\n",
    "            y = np.random.randint(dist.N)\n",
    "            delta_energy = 2 * (dist.neighor_spin_sum(state, x, y) + dist.h * state[y, x])\n",
    "            trans_prob = np.exp(-beta * delta_energy)\n",
    "            if delta_energy < 0:\n",
    "                state[y, x] *= -1\n",
    "                n_flg += 1\n",
    "            elif np.random.random() <= trans_prob:\n",
    "                state[y, x] *= -1\n",
    "                n_flg += 1\n",
    "        return state, n_flg / (dist.N * dist.N) \n",
    "\n",
    "    # ギブスサンプリング\n",
    "    def step_Gibbs(self, dist, state, beta):\n",
    "        # select rule\n",
    "        flip_order_x = list(range(dist.N))\n",
    "        flip_order_y = list(range(dist.N))\n",
    "        random.shuffle(flip_order_x)\n",
    "        random.shuffle(flip_order_y)\n",
    "        for x in flip_order_x:\n",
    "            for y in flip_order_y:\n",
    "                neighors = (dist.neighor_spin_sum(state, x, y)+dist.h*state[y, x])/state[y, x]\n",
    "                trans_prob = np.exp(beta*neighors)/(np.exp(beta*neighors)+np.exp(-beta*neighors))\n",
    "                if np.random.random()<=trans_prob:\n",
    "                    state[y, x] *=1\n",
    "                else:\n",
    "                    state[y, x] *=-1\n",
    "        return state, 1.0"
   ]
  },
  {
   "cell_type": "markdown",
   "metadata": {},
   "source": [
    "配位生成"
   ]
  },
  {
   "cell_type": "code",
   "execution_count": 5,
   "metadata": {},
   "outputs": [
    {
     "name": "stderr",
     "output_type": "stream",
     "text": [
      "  0%|          | 0/100 [00:00<?, ?it/s]"
     ]
    },
    {
     "name": "stderr",
     "output_type": "stream",
     "text": [
      "100%|██████████| 100/100 [1:43:59<00:00, 62.40s/it]\n"
     ]
    }
   ],
   "source": [
    "spin_data = []  \n",
    "label_data = []\n",
    "# Ising Instance\n",
    "N = 16\n",
    "h = 0.0\n",
    "J = 1\n",
    "dist=LatticeIsing_2D(N, J, h)\n",
    "# MCMC Instance\n",
    "n_step_first = 1000     # 1つ目の配位生成\n",
    "n_step_second = 500     # 2つ目以降の配位生成\n",
    "sampler=IsingMC(method=\"metropolis\")\n",
    "\n",
    "num_label = 100     # ラベルの数\n",
    "number = 100      # 1つの逆温度ラベルに対するスピンデータの数\n",
    "\n",
    "# 0.2から1.0までを100等分した値で回す \n",
    "for i in tqdm(range(num_label)):  \n",
    "    beta = 0.2 + (i / (num_label-1)) * 0.8   \n",
    "    init_state = np.full((dist.N, dist.N), -1) # 初期配位\n",
    "    state_dynamics, _ = sampler.run_mcmc(dist, init_state, beta, n_step=n_step_first)\n",
    "    Ising_state = state_dynamics[n_step_first]\n",
    "    \n",
    "    # 各逆温度で1000個ずつ配位を作成   \n",
    "    for j in range(number):\n",
    "        init_state = Ising_state\n",
    "        state_synamics, _ = sampler.run_mcmc(dist, init_state, beta, n_step=n_step_second)\n",
    "        Ising_state = state_synamics[n_step_second]\n",
    "        magnetization = Ising_state.sum()\n",
    "        if magnetization > 0:\n",
    "            Ising_state *= -1\n",
    "        spin_data.append(Ising_state)\n",
    "        label_data.append(beta)"
   ]
  },
  {
   "cell_type": "markdown",
   "metadata": {},
   "source": [
    "データ読み込み"
   ]
  },
  {
   "cell_type": "code",
   "execution_count": 9,
   "metadata": {},
   "outputs": [],
   "source": [
    "# 保存するデータをtupleにまとめる\n",
    "data_to_save = (spin_data, label_data)\n",
    "\n",
    "# フォルダ名とファイル名を指定\n",
    "folder_name = \"..\\data_storage\"\n",
    "file_name = 'L16_beta.pkl'\n",
    "\n",
    "# データをバイナリ形式で保存\n",
    "file_path = os.path.join(folder_name, file_name)\n",
    "with open(file_path, 'wb') as file:\n",
    "    pickle.dump(data_to_save, file)"
   ]
  }
 ],
 "metadata": {
  "kernelspec": {
   "display_name": "base",
   "language": "python",
   "name": "python3"
  },
  "language_info": {
   "codemirror_mode": {
    "name": "ipython",
    "version": 3
   },
   "file_extension": ".py",
   "mimetype": "text/x-python",
   "name": "python",
   "nbconvert_exporter": "python",
   "pygments_lexer": "ipython3",
   "version": "3.9.12"
  },
  "orig_nbformat": 4
 },
 "nbformat": 4,
 "nbformat_minor": 2
}
