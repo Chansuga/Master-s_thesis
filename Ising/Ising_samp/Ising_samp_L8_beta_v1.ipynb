{
 "cells": [
  {
   "cell_type": "markdown",
   "metadata": {},
   "source": [
    "・16×16のイジングスピン配位を生成する関数を作成\n",
    "\n",
    "・T=0からT=6までの0.25刻みの温度で配位データを1000ずつ取得"
   ]
  },
  {
   "cell_type": "markdown",
   "metadata": {},
   "source": [
    "version2\n",
    "\n",
    "１．温度ではなく逆温度を使う\n",
    "\n",
    "２．取得するデータの範囲をbeta=0.2からbeta=1の100刻みにする"
   ]
  },
  {
   "cell_type": "code",
   "execution_count": 1,
   "metadata": {},
   "outputs": [],
   "source": [
    "# ライブラリのインポート\n",
    "import numpy as np\n",
    "import matplotlib.pyplot as plt\n",
    "import torch\n",
    "from tqdm import tqdm\n",
    "import pickle\n",
    "import os"
   ]
  },
  {
   "cell_type": "code",
   "execution_count": 2,
   "metadata": {},
   "outputs": [],
   "source": [
    "# 磁化が負の場合にスピン全体を反転する関数\n",
    "def reverse(Spin):\n",
    "    Magnetization = Spin.sum()\n",
    "    if Magnetization < 0:\n",
    "        Spin = -Spin\n",
    "    return Spin"
   ]
  },
  {
   "cell_type": "code",
   "execution_count": 3,
   "metadata": {},
   "outputs": [],
   "source": [
    "# メトロポリス法の関数\n",
    "def metropolis_ising(L, beta, num_steps, J=1, device=\"cpu\"):\n",
    "    lattice = np.random.choice([-1, 1], size=(L, L))\n",
    "    \n",
    "    for step in range(num_steps):\n",
    "        i = np.random.randint(L)\n",
    "        j = np.random.randint(L)\n",
    "        \n",
    "        \n",
    "        # 近傍のスピンの総和を計算（周期境界条件を適用）\n",
    "        total = lattice[(i + 1) % L, j] + lattice[(i - 1) % L, j] + \\\n",
    "                lattice[i, (j + 1) % L] + lattice[i, (j - 1) % L]\n",
    "        \n",
    "        # エネルギー差を計算\n",
    "        delta_energy = 2 * J * lattice[i, j] * total\n",
    "        \n",
    "        if delta_energy < 0 or np.random.rand() < np.exp(-delta_energy * beta):\n",
    "            \n",
    "            lattice[i, j] *= -1     # スピンを反転させる\n",
    "            \n",
    "    # # 状況に応じてスピン変数全体を反転\n",
    "    # if np.sum(lattice==1) >= L*L/2:\n",
    "    #     lattice = lattice*-1\n",
    "    # else:\n",
    "    #     lattice = lattice\n",
    "\n",
    "    # NumPy配列をPyTorchテンソルに変換し、デバイスに移動\n",
    "    lattice = torch.tensor(lattice, dtype=torch.float32, device=device)\n",
    "    \n",
    "    return lattice"
   ]
  },
  {
   "cell_type": "markdown",
   "metadata": {},
   "source": [
    "beta=0.2からbeta=1.0まで，100等分"
   ]
  },
  {
   "cell_type": "code",
   "execution_count": 4,
   "metadata": {},
   "outputs": [
    {
     "data": {
      "text/plain": [
       "device(type='cuda')"
      ]
     },
     "execution_count": 4,
     "metadata": {},
     "output_type": "execute_result"
    }
   ],
   "source": [
    "# GPUが利用可能であれば、CUDAデバイスを使用\n",
    "device = torch.device(\"cuda\" if torch.cuda.is_available() else \"cpu\")\n",
    "device"
   ]
  },
  {
   "cell_type": "code",
   "execution_count": 6,
   "metadata": {},
   "outputs": [
    {
     "name": "stderr",
     "output_type": "stream",
     "text": [
      "  0%|          | 0/1000 [00:00<?, ?it/s]C:\\Users\\soken\\AppData\\Local\\Temp\\ipykernel_11648\\34361668.py:15: UserWarning: To copy construct from a tensor, it is recommended to use sourceTensor.clone().detach() or sourceTensor.clone().detach().requires_grad_(True), rather than torch.tensor(sourceTensor).\n",
      "  spin_data.append(torch.tensor(lattice, dtype=torch.float32, device=device))\n",
      "100%|██████████| 1000/1000 [22:54<00:00,  1.37s/it]\n",
      "100%|██████████| 1000/1000 [23:40<00:00,  1.42s/it]\n",
      "100%|██████████| 1000/1000 [24:01<00:00,  1.44s/it]\n",
      "100%|██████████| 1000/1000 [24:21<00:00,  1.46s/it]\n",
      "100%|██████████| 1000/1000 [24:12<00:00,  1.45s/it]\n"
     ]
    }
   ],
   "source": [
    "L = 32\n",
    "num_steps = 300000\n",
    "mum_label = 5\n",
    "\n",
    "spin_data = []\n",
    "temp_data = []\n",
    "\n",
    "# 一次元データを得る\n",
    "for i in range(mum_label):  # 0から100までを100等分で回す\n",
    "    beta = 0.2 + (i / (mum_label-1)) * 0.8   \n",
    "    # 各逆温度で1000個ずつ配位を作成   \n",
    "    for i in tqdm(range(1000)):\n",
    "        lattice = metropolis_ising(L, beta, num_steps)\n",
    "        # latticeをGPUに移動してからspin_dataに追加\n",
    "        spin_data.append(torch.tensor(lattice, dtype=torch.float32, device=device))\n",
    "        temp_data.append(beta)\n",
    "        \n",
    "spin_data = torch.stack(spin_data)  # GPU上でテンソルスタック"
   ]
  },
  {
   "cell_type": "code",
   "execution_count": 7,
   "metadata": {},
   "outputs": [
    {
     "name": "stdout",
     "output_type": "stream",
     "text": [
      "<class 'torch.Tensor'>\n",
      "<class 'list'>\n"
     ]
    }
   ],
   "source": [
    "# 型を確認\n",
    "print(type(spin_data))\n",
    "print(type(temp_data))"
   ]
  },
  {
   "cell_type": "code",
   "execution_count": 8,
   "metadata": {},
   "outputs": [
    {
     "name": "stdout",
     "output_type": "stream",
     "text": [
      "torch.Size([5000, 32, 32])\n",
      "5000\n"
     ]
    }
   ],
   "source": [
    "# データサイズの確認\n",
    "print(torch.Tensor.size(spin_data))\n",
    "print(len(temp_data))"
   ]
  },
  {
   "cell_type": "code",
   "execution_count": null,
   "metadata": {},
   "outputs": [],
   "source": [
    "# i = 10\n",
    "# print(spin_data[i])\n",
    "# print(temp_data[i])\n",
    "\n",
    "# for i in range(100):\n",
    "#     # CUDAデバイス上のテンソルをCPU上のNumPy配列に変換\n",
    "#     spin_data_cpu = spin_data[i].cpu().numpy()\n",
    "\n",
    "#     print(temp_data[i])\n",
    "#     # CUDAデバイス上のテンソルをCPU上のNumPy配列に変換\n",
    "#     plt.imshow(spin_data_cpu, cmap='gray', interpolation='nearest')\n",
    "#     plt.show()"
   ]
  },
  {
   "cell_type": "code",
   "execution_count": 10,
   "metadata": {},
   "outputs": [],
   "source": [
    "# 保存するデータをtupleにまとめる\n",
    "data_to_save = (spin_data, temp_data)\n",
    "\n",
    "# フォルダ名とファイル名を指定\n",
    "folder_name = \"data_storage\"\n",
    "file_name = 'Isig_samp_data_L32_beta_v2.pkl'\n",
    "\n",
    "# データをバイナリ形式で保存\n",
    "file_path = os.path.join(folder_name, file_name)\n",
    "with open(file_path, 'wb') as file:\n",
    "    pickle.dump(data_to_save, file)"
   ]
  },
  {
   "cell_type": "code",
   "execution_count": null,
   "metadata": {},
   "outputs": [
    {
     "data": {
      "text/plain": [
       "tensor([[-1., -1., -1., -1., -1., -1., -1., -1.],\n",
       "        [-1., -1., -1., -1., -1., -1., -1., -1.],\n",
       "        [-1., -1., -1.,  1., -1., -1., -1., -1.],\n",
       "        [-1.,  1., -1.,  1.,  1., -1., -1.,  1.],\n",
       "        [-1.,  1.,  1.,  1.,  1.,  1., -1., -1.],\n",
       "        [-1., -1., -1.,  1.,  1., -1., -1.,  1.],\n",
       "        [-1., -1., -1.,  1.,  1., -1.,  1.,  1.],\n",
       "        [-1., -1.,  1.,  1., -1., -1., -1.,  1.]])"
      ]
     },
     "execution_count": 9,
     "metadata": {},
     "output_type": "execute_result"
    }
   ],
   "source": [
    "spin_data[1]"
   ]
  },
  {
   "cell_type": "code",
   "execution_count": null,
   "metadata": {},
   "outputs": [
    {
     "data": {
      "text/plain": [
       "0.2"
      ]
     },
     "execution_count": 10,
     "metadata": {},
     "output_type": "execute_result"
    }
   ],
   "source": [
    "temp_data[1]"
   ]
  },
  {
   "cell_type": "code",
   "execution_count": null,
   "metadata": {},
   "outputs": [],
   "source": []
  }
 ],
 "metadata": {
  "kernelspec": {
   "display_name": "base",
   "language": "python",
   "name": "python3"
  },
  "language_info": {
   "codemirror_mode": {
    "name": "ipython",
    "version": 3
   },
   "file_extension": ".py",
   "mimetype": "text/x-python",
   "name": "python",
   "nbconvert_exporter": "python",
   "pygments_lexer": "ipython3",
   "version": "3.9.12"
  },
  "orig_nbformat": 4
 },
 "nbformat": 4,
 "nbformat_minor": 2
}
