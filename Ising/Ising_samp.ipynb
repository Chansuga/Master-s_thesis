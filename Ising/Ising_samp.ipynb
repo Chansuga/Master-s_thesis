{
 "cells": [
  {
   "cell_type": "code",
   "execution_count": 1,
   "metadata": {},
   "outputs": [
    {
     "name": "stdout",
     "output_type": "stream",
     "text": [
      "黒(-1)の割合は 1.0\n"
     ]
    },
    {
     "data": {
      "image/png": "[encoded data removed]",
      "text/plain": [
       "<Figure size 640x480 with 1 Axes>"
      ]
     },
     "metadata": {},
     "output_type": "display_data"
    },
    {
     "data": {
      "image/png": "[encoded data removed]",
      "text/plain": [
       "<Figure size 640x480 with 1 Axes>"
      ]
     },
     "metadata": {},
     "output_type": "display_data"
    }
   ],
   "source": [
    "# ライブラリのインポート\n",
    "import numpy as np\n",
    "import matplotlib.pyplot as plt\n",
    "from tqdm import tqdm\n",
    "import pandas as pd\n",
    "\n",
    "# 関数を定義\n",
    "def metropolis_ising(L, T, num_steps, J=1):\n",
    "    lattice = np.random.choice([-1, 1], size=(L, L))\n",
    "    energies = []\n",
    "    \n",
    "    for step in range(num_steps):\n",
    "        i = np.random.randint(L)\n",
    "        j = np.random.randint(L)\n",
    "        \n",
    "        \n",
    "        # 近傍のスピンの総和を計算（周期境界条件を適用）\n",
    "        total = lattice[(i + 1) % L, j] + lattice[(i - 1) % L, j] + \\\n",
    "                lattice[i, (j + 1) % L] + lattice[i, (j - 1) % L]\n",
    "        \n",
    "        # エネルギー差を計算\n",
    "        delta_energy = 2 * J * lattice[i, j] * total\n",
    "        \n",
    "        if delta_energy < 0 or np.random.rand() < np.exp(-delta_energy / T):\n",
    "            # スピンを反転させる\n",
    "            lattice[i, j] *= -1\n",
    "            \n",
    "        energies.append(-J * np.sum(lattice * (np.roll(lattice, 1, axis=0) + np.roll(lattice, 1, axis=1))))\n",
    "        \n",
    "    # スピン変数全体を反転させるかどうかのif文(いらないかも)\n",
    "    # 図だと黒の割合が必ず50%以上になるようにしている\n",
    "    if np.sum(lattice==1) >= L*L/2:\n",
    "        lattice = lattice*-1\n",
    "    else:\n",
    "        lattice = lattice\n",
    "\n",
    "    return lattice, energies\n",
    "\n",
    "\n",
    "# Metropolisモンテカルロ法によるサンプリング\n",
    "# L=10, T=3, num_steps=10000\n",
    "lattice, energies = metropolis_ising(10, 1.00, 10000)\n",
    "\n",
    "# 黒の割合を出力\n",
    "print(\"黒(-1)の割合は\",np.sum(lattice==-1)/lattice.size)\n",
    "\n",
    "# スピン配位の可視化\n",
    "plt.imshow(lattice, cmap='gray', interpolation='nearest')\n",
    "plt.title(\"Spin Configuration\")\n",
    "plt.show()\n",
    "\n",
    "# エネルギーの変化の可視化\n",
    "plt.plot(energies)\n",
    "plt.title(\"Energy\")\n",
    "plt.xlabel(\"Step\")\n",
    "plt.ylabel(\"Energy\")\n",
    "plt.show()\n",
    "\n"
   ]
  },
  {
   "cell_type": "code",
   "execution_count": 2,
   "metadata": {},
   "outputs": [
    {
     "name": "stdout",
     "output_type": "stream",
     "text": [
      "[-1  1  1  1  1  1  1  1  1  1 -1 -1  1  1  1  1  1  1  1 -1 -1 -1  1  1\n",
      " -1  1  1 -1  1  1 -1 -1 -1 -1 -1  1 -1 -1  1 -1 -1 -1  1 -1 -1  1 -1 -1\n",
      " -1 -1 -1 -1 -1 -1 -1 -1 -1 -1 -1 -1 -1  1 -1 -1 -1 -1 -1 -1  1 -1 -1  1\n",
      " -1 -1 -1 -1 -1 -1 -1 -1 -1  1  1 -1 -1 -1 -1  1 -1  1  1  1  1  1  1 -1\n",
      "  1 -1  1  1]\n"
     ]
    }
   ],
   "source": [
    "print(np.ndarray.flatten(lattice))"
   ]
  },
  {
   "cell_type": "markdown",
   "metadata": {},
   "source": [
    "T=1からT=6まで，0.25刻みで配位データを取得"
   ]
  },
  {
   "cell_type": "code",
   "execution_count": 3,
   "metadata": {},
   "outputs": [
    {
     "name": "stderr",
     "output_type": "stream",
     "text": [
      "100%|██████████| 10/10 [00:00<00:00, 38.93it/s]\n",
      "100%|██████████| 10/10 [00:00<00:00, 37.57it/s]\n",
      "100%|██████████| 10/10 [00:00<00:00, 36.62it/s]\n",
      "100%|██████████| 10/10 [00:00<00:00, 29.72it/s]\n",
      "100%|██████████| 10/10 [00:00<00:00, 33.62it/s]\n",
      "100%|██████████| 10/10 [00:00<00:00, 29.95it/s]\n",
      "100%|██████████| 10/10 [00:00<00:00, 33.77it/s]\n",
      "100%|██████████| 10/10 [00:00<00:00, 37.29it/s]\n",
      "100%|██████████| 10/10 [00:00<00:00, 37.76it/s]\n",
      "100%|██████████| 10/10 [00:00<00:00, 32.75it/s]\n",
      "100%|██████████| 10/10 [00:00<00:00, 38.75it/s]\n",
      "100%|██████████| 10/10 [00:00<00:00, 38.99it/s]\n",
      "100%|██████████| 10/10 [00:00<00:00, 38.16it/s]\n",
      "100%|██████████| 10/10 [00:00<00:00, 38.68it/s]\n",
      "100%|██████████| 10/10 [00:00<00:00, 35.57it/s]\n",
      "100%|██████████| 10/10 [00:00<00:00, 38.39it/s]\n",
      "100%|██████████| 10/10 [00:00<00:00, 35.85it/s]\n",
      "100%|██████████| 10/10 [00:00<00:00, 32.78it/s]\n",
      "100%|██████████| 10/10 [00:00<00:00, 39.59it/s]\n",
      "100%|██████████| 10/10 [00:00<00:00, 38.97it/s]\n",
      "100%|██████████| 10/10 [00:00<00:00, 39.27it/s]\n",
      "100%|██████████| 10/10 [00:00<00:00, 39.84it/s]\n",
      "100%|██████████| 10/10 [00:00<00:00, 38.42it/s]\n",
      "100%|██████████| 10/10 [00:00<00:00, 38.36it/s]\n",
      "100%|██████████| 10/10 [00:00<00:00, 32.25it/s]\n",
      "100%|██████████| 25/25 [00:06<00:00,  3.58it/s]\n"
     ]
    }
   ],
   "source": [
    "# 格子サイズを10，マルコフモンテルロ法のステップ数を100*L^2=10000に設定\n",
    "L = 10 \n",
    "num_steps = 100*L^2\n",
    "\n",
    "# とりあえず101列の配列を作成\n",
    "dataset = np.arange(101)\n",
    "\n",
    "# 一次元データを得る\n",
    "for T in tqdm(np.arange(0.0, 6.01, 0.25)):\n",
    "    # T=0はmetropolis_isingには定義されていないのでT=0.01をT=0のデータとする\n",
    "    if T==0:\n",
    "        T = 0.01     \n",
    "    # 各温度で1000個ずつ配位を作成   \n",
    "    for i in tqdm(range(1000)):\n",
    "        lattice, energies = metropolis_ising(L, T, num_steps)\n",
    "        # 10*10を一次元に平坦化\n",
    "        flat_lattice = np.ravel(lattice)\n",
    "        data = np.append(lattice, T)\n",
    "        # dataをdatasetに追加\n",
    "        dataset = np.vstack((dataset, data))\n",
    "    \n",
    "# とりあえずで作成した1列目を削除\n",
    "dataset = np.delete(dataset, 0, axis=0)\n"
   ]
  },
  {
   "cell_type": "code",
   "execution_count": null,
   "metadata": {},
   "outputs": [
    {
     "name": "stdout",
     "output_type": "stream",
     "text": [
      "(25000, 101)\n"
     ]
    }
   ],
   "source": [
    "# データサイズの確認\n",
    "print(np.shape(dataset))"
   ]
  },
  {
   "cell_type": "code",
   "execution_count": null,
   "metadata": {},
   "outputs": [
    {
     "name": "stdout",
     "output_type": "stream",
     "text": [
      "[-1.   -1.   -1.   -1.   -1.   -1.   -1.   -1.   -1.   -1.   -1.   -1.\n",
      " -1.   -1.   -1.    1.    1.   -1.   -1.   -1.   -1.   -1.   -1.   -1.\n",
      " -1.   -1.    1.    1.    1.   -1.   -1.   -1.   -1.   -1.   -1.   -1.\n",
      "  1.    1.    1.   -1.   -1.   -1.   -1.   -1.   -1.   -1.    1.   -1.\n",
      " -1.   -1.   -1.   -1.   -1.   -1.   -1.   -1.   -1.   -1.   -1.   -1.\n",
      " -1.   -1.   -1.   -1.   -1.   -1.   -1.   -1.   -1.   -1.   -1.   -1.\n",
      " -1.   -1.   -1.   -1.   -1.   -1.   -1.   -1.   -1.   -1.   -1.   -1.\n",
      " -1.   -1.   -1.   -1.   -1.   -1.   -1.   -1.   -1.   -1.   -1.   -1.\n",
      " -1.   -1.   -1.   -1.    0.01]\n"
     ]
    }
   ],
   "source": [
    "print(dataset[1])"
   ]
  },
  {
   "cell_type": "code",
   "execution_count": null,
   "metadata": {},
   "outputs": [],
   "source": [
    "# Numpy配列をPandasのデータフレームに変換\n",
    "df = pd.DataFrame(dataset)\n",
    "\n",
    "# CSVファイルを101列目だけ小数第2位で表示するため\n",
    "fmt_list = ['%d']*100 + ['%.2f']\n",
    "\n",
    "# csvファイルで保存\n",
    "df.to_csv('dataframe.csv', index=False)"
   ]
  },
  {
   "cell_type": "code",
   "execution_count": null,
   "metadata": {},
   "outputs": [
    {
     "data": {
      "text/plain": [
       "(25000, 101)"
      ]
     },
     "execution_count": 11,
     "metadata": {},
     "output_type": "execute_result"
    }
   ],
   "source": [
    "df.shape"
   ]
  }
 ],
 "metadata": {
  "kernelspec": {
   "display_name": "base",
   "language": "python",
   "name": "python3"
  },
  "language_info": {
   "codemirror_mode": {
    "name": "ipython",
    "version": 3
   },
   "file_extension": ".py",
   "mimetype": "text/x-python",
   "name": "python",
   "nbconvert_exporter": "python",
   "pygments_lexer": "ipython3",
   "version": "3.9.13"
  },
  "orig_nbformat": 4
 },
 "nbformat": 4,
 "nbformat_minor": 2
}
