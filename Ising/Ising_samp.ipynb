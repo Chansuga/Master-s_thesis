{
 "cells": [
  {
   "cell_type": "code",
   "execution_count": 1,
   "metadata": {},
   "outputs": [],
   "source": [
    "# ライブラリのインポート\n",
    "import numpy as np\n",
    "import matplotlib.pyplot as plt\n",
    "from tqdm import tqdm\n",
    "import pandas as pd"
   ]
  },
  {
   "cell_type": "code",
   "execution_count": 26,
   "metadata": {},
   "outputs": [
    {
     "name": "stdout",
     "output_type": "stream",
     "text": [
      "黒(-1)の割合は 0.62890625\n"
     ]
    },
    {
     "data": {
      "image/png": "[encoded data removed]",
      "text/plain": [
       "<Figure size 432x288 with 1 Axes>"
      ]
     },
     "metadata": {
      "needs_background": "light"
     },
     "output_type": "display_data"
    },
    {
     "data": {
      "image/png": "[encoded data removed]",
      "text/plain": [
       "<Figure size 432x288 with 1 Axes>"
      ]
     },
     "metadata": {
      "needs_background": "light"
     },
     "output_type": "display_data"
    }
   ],
   "source": [
    "# 関数を定義\n",
    "def metropolis_ising(L, T, num_steps, J=1):\n",
    "    lattice = np.random.choice([-1, 1], size=(L, L))\n",
    "    energies = []\n",
    "    \n",
    "    for step in range(num_steps):\n",
    "        i = np.random.randint(L)\n",
    "        j = np.random.randint(L)\n",
    "        \n",
    "        \n",
    "        # 近傍のスピンの総和を計算（周期境界条件を適用）\n",
    "        total = lattice[(i + 1) % L, j] + lattice[(i - 1) % L, j] + \\\n",
    "                lattice[i, (j + 1) % L] + lattice[i, (j - 1) % L]\n",
    "        \n",
    "        # エネルギー差を計算\n",
    "        delta_energy = 2 * J * lattice[i, j] * total\n",
    "        \n",
    "        if delta_energy < 0 or np.random.rand() < np.exp(-delta_energy / T):\n",
    "            # スピンを反転させる\n",
    "            lattice[i, j] *= -1\n",
    "            \n",
    "        energies.append(-J * np.sum(lattice * (np.roll(lattice, 1, axis=0) + np.roll(lattice, 1, axis=1))))\n",
    "        \n",
    "    # スピン変数全体を反転させるかどうかのif文(いらないかも)\n",
    "    # 図だと黒の割合が必ず50%以上になるようにしている\n",
    "    if np.sum(lattice==1) >= L*L/2:\n",
    "        lattice = lattice*-1\n",
    "    else:\n",
    "        lattice = lattice\n",
    "\n",
    "    return lattice, energies\n",
    "\n",
    "\n",
    "# Metropolisモンテカルロ法によるサンプリング\n",
    "# L=10, T=3, num_steps=10000\n",
    "lattice, energies = metropolis_ising(16, 2.3, 30000)\n",
    "\n",
    "# 黒の割合を出力\n",
    "print(\"黒(-1)の割合は\",np.sum(lattice==-1)/lattice.size)\n",
    "\n",
    "# スピン配位の可視化\n",
    "plt.imshow(lattice, cmap='gray', interpolation='nearest')\n",
    "plt.title(\"Spin Configuration\")\n",
    "plt.show()\n",
    "\n",
    "# エネルギーの変化の可視化\n",
    "plt.plot(energies)\n",
    "plt.title(\"Energy\")\n",
    "plt.xlabel(\"Step\")\n",
    "plt.ylabel(\"Energy\")\n",
    "plt.show()\n",
    "\n"
   ]
  },
  {
   "cell_type": "code",
   "execution_count": 4,
   "metadata": {},
   "outputs": [
    {
     "name": "stdout",
     "output_type": "stream",
     "text": [
      "[-1 -1 -1 -1 -1 -1 -1 -1 -1 -1 -1 -1 -1 -1 -1 -1 -1 -1 -1 -1 -1 -1 -1 -1\n",
      " -1 -1 -1 -1 -1 -1 -1 -1 -1 -1 -1 -1 -1 -1  1 -1 -1 -1 -1 -1 -1 -1 -1 -1\n",
      " -1 -1 -1 -1 -1 -1 -1 -1 -1 -1 -1 -1 -1 -1 -1 -1 -1 -1 -1 -1 -1 -1 -1 -1\n",
      " -1 -1 -1 -1 -1 -1 -1 -1 -1 -1 -1 -1 -1 -1 -1 -1 -1 -1 -1 -1 -1 -1 -1 -1\n",
      " -1 -1 -1 -1 -1 -1 -1 -1 -1 -1 -1 -1 -1 -1 -1 -1 -1 -1 -1 -1 -1 -1 -1 -1\n",
      " -1 -1 -1 -1 -1 -1 -1 -1 -1 -1 -1 -1 -1 -1 -1 -1 -1 -1 -1 -1 -1 -1 -1 -1\n",
      " -1 -1 -1 -1 -1 -1 -1 -1 -1 -1 -1 -1 -1 -1 -1 -1 -1 -1 -1 -1 -1 -1 -1 -1\n",
      " -1 -1 -1 -1 -1 -1 -1 -1 -1 -1 -1 -1 -1 -1 -1 -1 -1 -1 -1 -1 -1 -1 -1 -1\n",
      " -1 -1 -1 -1 -1 -1 -1 -1 -1 -1 -1 -1 -1 -1 -1 -1 -1 -1 -1 -1 -1 -1 -1 -1\n",
      " -1 -1 -1 -1 -1 -1 -1 -1 -1 -1 -1 -1 -1 -1 -1 -1 -1 -1 -1 -1 -1 -1 -1 -1\n",
      " -1 -1 -1 -1 -1 -1 -1 -1 -1 -1 -1 -1 -1 -1 -1 -1 -1 -1 -1 -1 -1 -1 -1 -1\n",
      " -1 -1 -1 -1 -1 -1 -1 -1 -1 -1 -1 -1 -1 -1 -1 -1 -1 -1 -1 -1 -1 -1 -1 -1\n",
      " -1 -1 -1 -1 -1 -1 -1 -1 -1 -1 -1 -1 -1 -1 -1 -1 -1 -1 -1 -1 -1 -1 -1 -1\n",
      " -1 -1 -1 -1 -1 -1 -1 -1 -1 -1 -1 -1 -1 -1 -1 -1 -1 -1 -1 -1 -1 -1 -1 -1\n",
      " -1 -1 -1 -1 -1 -1 -1 -1 -1 -1 -1 -1 -1 -1 -1 -1 -1 -1 -1 -1 -1 -1 -1 -1\n",
      " -1 -1 -1 -1 -1 -1 -1 -1 -1 -1 -1 -1 -1 -1 -1 -1 -1 -1 -1 -1 -1 -1 -1 -1\n",
      " -1 -1 -1 -1 -1 -1 -1 -1 -1 -1 -1 -1 -1 -1 -1 -1]\n"
     ]
    }
   ],
   "source": [
    "print(np.ndarray.flatten(lattice))"
   ]
  },
  {
   "cell_type": "markdown",
   "metadata": {},
   "source": [
    "T=1からT=6まで，0.25刻みで配位データを取得"
   ]
  },
  {
   "cell_type": "code",
   "execution_count": 5,
   "metadata": {},
   "outputs": [
    {
     "name": "stderr",
     "output_type": "stream",
     "text": [
      " 60%|██████    | 602/1000 [00:11<00:07, 50.88it/s]\n",
      "  0%|          | 0/25 [00:11<?, ?it/s]\n"
     ]
    },
    {
     "ename": "KeyboardInterrupt",
     "evalue": "",
     "output_type": "error",
     "traceback": [
      "\u001b[1;31m---------------------------------------------------------------------------\u001b[0m",
      "\u001b[1;31mKeyboardInterrupt\u001b[0m                         Traceback (most recent call last)",
      "\u001b[1;32mc:\\Users\\soken\\Documents\\22NM021S\\Master-s_thesis\\Ising\\Ising_samp.ipynb セル 5\u001b[0m in \u001b[0;36m<cell line: 9>\u001b[1;34m()\u001b[0m\n\u001b[0;32m     <a href='vscode-notebook-cell:/c%3A/Users/soken/Documents/22NM021S/Master-s_thesis/Ising/Ising_samp.ipynb#W4sZmlsZQ%3D%3D?line=17'>18</a>\u001b[0m         data \u001b[39m=\u001b[39m np\u001b[39m.\u001b[39mappend(lattice, T)\n\u001b[0;32m     <a href='vscode-notebook-cell:/c%3A/Users/soken/Documents/22NM021S/Master-s_thesis/Ising/Ising_samp.ipynb#W4sZmlsZQ%3D%3D?line=18'>19</a>\u001b[0m         \u001b[39m# dataをdatasetに追加\u001b[39;00m\n\u001b[1;32m---> <a href='vscode-notebook-cell:/c%3A/Users/soken/Documents/22NM021S/Master-s_thesis/Ising/Ising_samp.ipynb#W4sZmlsZQ%3D%3D?line=19'>20</a>\u001b[0m         dataset \u001b[39m=\u001b[39m np\u001b[39m.\u001b[39;49mvstack((dataset, data))\n\u001b[0;32m     <a href='vscode-notebook-cell:/c%3A/Users/soken/Documents/22NM021S/Master-s_thesis/Ising/Ising_samp.ipynb#W4sZmlsZQ%3D%3D?line=21'>22</a>\u001b[0m \u001b[39m# とりあえずで作成した1列目を削除\u001b[39;00m\n\u001b[0;32m     <a href='vscode-notebook-cell:/c%3A/Users/soken/Documents/22NM021S/Master-s_thesis/Ising/Ising_samp.ipynb#W4sZmlsZQ%3D%3D?line=22'>23</a>\u001b[0m dataset \u001b[39m=\u001b[39m np\u001b[39m.\u001b[39mdelete(dataset, \u001b[39m0\u001b[39m, axis\u001b[39m=\u001b[39m\u001b[39m0\u001b[39m)\n",
      "File \u001b[1;32m<__array_function__ internals>:5\u001b[0m, in \u001b[0;36mvstack\u001b[1;34m(*args, **kwargs)\u001b[0m\n",
      "File \u001b[1;32mc:\\Users\\soken\\anaconda3\\lib\\site-packages\\numpy\\core\\shape_base.py:282\u001b[0m, in \u001b[0;36mvstack\u001b[1;34m(tup)\u001b[0m\n\u001b[0;32m    280\u001b[0m \u001b[39mif\u001b[39;00m \u001b[39mnot\u001b[39;00m \u001b[39misinstance\u001b[39m(arrs, \u001b[39mlist\u001b[39m):\n\u001b[0;32m    281\u001b[0m     arrs \u001b[39m=\u001b[39m [arrs]\n\u001b[1;32m--> 282\u001b[0m \u001b[39mreturn\u001b[39;00m _nx\u001b[39m.\u001b[39;49mconcatenate(arrs, \u001b[39m0\u001b[39;49m)\n",
      "File \u001b[1;32m<__array_function__ internals>:5\u001b[0m, in \u001b[0;36mconcatenate\u001b[1;34m(*args, **kwargs)\u001b[0m\n",
      "\u001b[1;31mKeyboardInterrupt\u001b[0m: "
     ]
    }
   ],
   "source": [
    "# 格子サイズを10，マルコフモンテルロ法のステップ数を100*L^2=10000に設定\n",
    "L = 10 \n",
    "num_steps = 100*L^2\n",
    "\n",
    "# とりあえず101列の配列を作成\n",
    "dataset = np.arange(101)\n",
    "\n",
    "# 一次元データを得る\n",
    "for T in tqdm(np.arange(0.0, 6.01, 0.25)):\n",
    "    # T=0はmetropolis_isingには定義されていないのでT=0.01をT=0のデータとする\n",
    "    if T==0:\n",
    "        T = 0.01     \n",
    "    # 各温度で1000個ずつ配位を作成   \n",
    "    for i in tqdm(range(1000)):\n",
    "        lattice, energies = metropolis_ising(L, T, num_steps)\n",
    "        # 10*10を一次元に平坦化\n",
    "        flat_lattice = np.ravel(lattice)\n",
    "        data = np.append(lattice, T)\n",
    "        # dataをdatasetに追加\n",
    "        dataset = np.vstack((dataset, data))\n",
    "    \n",
    "# とりあえずで作成した1列目を削除\n",
    "dataset = np.delete(dataset, 0, axis=0)\n"
   ]
  },
  {
   "cell_type": "code",
   "execution_count": null,
   "metadata": {},
   "outputs": [
    {
     "name": "stdout",
     "output_type": "stream",
     "text": [
      "(25000, 101)\n"
     ]
    }
   ],
   "source": [
    "# データサイズの確認\n",
    "print(np.shape(dataset))"
   ]
  },
  {
   "cell_type": "code",
   "execution_count": null,
   "metadata": {},
   "outputs": [
    {
     "name": "stdout",
     "output_type": "stream",
     "text": [
      "[-1.   -1.   -1.   -1.   -1.   -1.   -1.   -1.   -1.   -1.   -1.   -1.\n",
      " -1.   -1.   -1.    1.    1.   -1.   -1.   -1.   -1.   -1.   -1.   -1.\n",
      " -1.   -1.    1.    1.    1.   -1.   -1.   -1.   -1.   -1.   -1.   -1.\n",
      "  1.    1.    1.   -1.   -1.   -1.   -1.   -1.   -1.   -1.    1.   -1.\n",
      " -1.   -1.   -1.   -1.   -1.   -1.   -1.   -1.   -1.   -1.   -1.   -1.\n",
      " -1.   -1.   -1.   -1.   -1.   -1.   -1.   -1.   -1.   -1.   -1.   -1.\n",
      " -1.   -1.   -1.   -1.   -1.   -1.   -1.   -1.   -1.   -1.   -1.   -1.\n",
      " -1.   -1.   -1.   -1.   -1.   -1.   -1.   -1.   -1.   -1.   -1.   -1.\n",
      " -1.   -1.   -1.   -1.    0.01]\n"
     ]
    }
   ],
   "source": [
    "print(dataset[1])"
   ]
  },
  {
   "cell_type": "code",
   "execution_count": null,
   "metadata": {},
   "outputs": [],
   "source": [
    "# Numpy配列をPandasのデータフレームに変換\n",
    "df = pd.DataFrame(dataset)\n",
    "\n",
    "# CSVファイルを101列目だけ小数第2位で表示するため\n",
    "fmt_list = ['%d']*100 + ['%.2f']\n",
    "\n",
    "# csvファイルで保存\n",
    "df.to_csv('dataframe.csv', index=False)"
   ]
  },
  {
   "cell_type": "code",
   "execution_count": null,
   "metadata": {},
   "outputs": [
    {
     "data": {
      "text/plain": [
       "(25000, 101)"
      ]
     },
     "execution_count": 11,
     "metadata": {},
     "output_type": "execute_result"
    }
   ],
   "source": [
    "df.shape"
   ]
  }
 ],
 "metadata": {
  "kernelspec": {
   "display_name": "base",
   "language": "python",
   "name": "python3"
  },
  "language_info": {
   "codemirror_mode": {
    "name": "ipython",
    "version": 3
   },
   "file_extension": ".py",
   "mimetype": "text/x-python",
   "name": "python",
   "nbconvert_exporter": "python",
   "pygments_lexer": "ipython3",
   "version": "3.9.12"
  },
  "orig_nbformat": 4
 },
 "nbformat": 4,
 "nbformat_minor": 2
}
