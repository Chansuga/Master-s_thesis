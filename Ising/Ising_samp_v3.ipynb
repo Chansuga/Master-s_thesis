{
 "cells": [
  {
   "cell_type": "code",
   "execution_count": 2,
   "metadata": {},
   "outputs": [],
   "source": [
    "# ライブラリのインポート\n",
    "import numpy as np\n",
    "import matplotlib.pyplot as plt\n",
    "import torch\n",
    "import pandas as pd\n",
    "from tqdm import tqdm\n",
    "\n",
    "# 関数を定義\n",
    "def metropolis_ising(L, T, num_steps, J=1):\n",
    "    lattice = np.random.choice([-1, 1], size=(L, L))\n",
    "    \n",
    "    for step in range(num_steps):\n",
    "        i = np.random.randint(L)\n",
    "        j = np.random.randint(L)\n",
    "        \n",
    "        \n",
    "        # 近傍のスピンの総和を計算（周期境界条件を適用）\n",
    "        total = lattice[(i + 1) % L, j] + lattice[(i - 1) % L, j] + \\\n",
    "                lattice[i, (j + 1) % L] + lattice[i, (j - 1) % L]\n",
    "        \n",
    "        # エネルギー差を計算\n",
    "        delta_energy = 2 * J * lattice[i, j] * total\n",
    "        \n",
    "        if delta_energy < 0 or np.random.rand() < np.exp(-delta_energy / T):\n",
    "            # スピンを反転させる\n",
    "            lattice[i, j] *= -1\n",
    "            \n",
    "        \n",
    "    # スピン変数全体を反転させるかどうかのif文(いらないかも)\n",
    "    # 図だと黒の割合が必ず50%以上になるようにしている\n",
    "    if np.sum(lattice==1) >= L*L/2:\n",
    "        lattice = lattice*-1\n",
    "    else:\n",
    "        lattice = lattice\n",
    "\n",
    "    lattice = torch.tensor(lattice)\n",
    "    return lattice"
   ]
  },
  {
   "cell_type": "markdown",
   "metadata": {},
   "source": [
    "T=1からT=6まで，0.25刻みで配位データを取得"
   ]
  },
  {
   "cell_type": "code",
   "execution_count": 42,
   "metadata": {},
   "outputs": [
    {
     "name": "stderr",
     "output_type": "stream",
     "text": [
      "100%|██████████| 3/3 [00:01<00:00,  1.50it/s]\n",
      "100%|██████████| 3/3 [00:01<00:00,  1.56it/s]]\n",
      "100%|██████████| 3/3 [00:01<00:00,  1.54it/s]]\n",
      "100%|██████████| 3/3 [00:01<00:00,  1.53it/s]]\n",
      "100%|██████████| 3/3 [00:01<00:00,  1.56it/s]]\n",
      "100%|██████████| 3/3 [00:01<00:00,  1.51it/s]]\n",
      "100%|██████████| 3/3 [00:02<00:00,  1.42it/s]]\n",
      "100%|██████████| 3/3 [00:02<00:00,  1.48it/s]]\n",
      "100%|██████████| 3/3 [00:01<00:00,  1.62it/s]]\n",
      "100%|██████████| 3/3 [00:01<00:00,  1.59it/s]]\n",
      "100%|██████████| 3/3 [00:02<00:00,  1.42it/s]t]\n",
      "100%|██████████| 3/3 [00:01<00:00,  1.58it/s]t]\n",
      "100%|██████████| 3/3 [00:01<00:00,  1.61it/s]t]\n",
      "100%|██████████| 3/3 [00:01<00:00,  1.58it/s]t]\n",
      "100%|██████████| 3/3 [00:01<00:00,  1.64it/s]t]\n",
      "100%|██████████| 3/3 [00:01<00:00,  1.61it/s]t]\n",
      "100%|██████████| 3/3 [00:01<00:00,  1.63it/s]t]\n",
      "100%|██████████| 3/3 [00:01<00:00,  1.63it/s]t]\n",
      "100%|██████████| 3/3 [00:01<00:00,  1.58it/s]t]\n",
      "100%|██████████| 3/3 [00:01<00:00,  1.63it/s]t]\n",
      "100%|██████████| 3/3 [00:01<00:00,  1.63it/s]t]\n",
      "100%|██████████| 3/3 [00:01<00:00,  1.65it/s]t]\n",
      "100%|██████████| 3/3 [00:01<00:00,  1.66it/s]t]\n",
      "100%|██████████| 3/3 [00:01<00:00,  1.66it/s]t]\n",
      "100%|██████████| 3/3 [00:01<00:00,  1.62it/s]t]\n",
      "100%|██████████| 25/25 [00:47<00:00,  1.91s/it]\n"
     ]
    }
   ],
   "source": [
    "L = 36\n",
    "num_steps = 100000\n",
    "\n",
    "spin_data = []\n",
    "temp_data = []\n",
    "\n",
    "# 一次元データを得る\n",
    "for T in tqdm(np.arange(0.0, 6.01, 0.25)):\n",
    "    # T=0はmetropolis_isingには定義されていないのでT=0.01をT=0のデータとする\n",
    "    if T==0:\n",
    "        T = 0.01     \n",
    "    # 各温度で1000個ずつ配位を作成   \n",
    "    for i in tqdm(range(3)):\n",
    "        lattice = metropolis_ising(L, T, num_steps)\n",
    "        # latticeをspin_dataに追加\n",
    "        spin_data.append(lattice)\n",
    "        temp_data.append(T)\n",
    "# リスト内のすべてのテンソルを1つのテンソルに結合        \n",
    "spin_data = torch.stack(spin_data)"
   ]
  },
  {
   "cell_type": "code",
   "execution_count": 33,
   "metadata": {},
   "outputs": [
    {
     "name": "stdout",
     "output_type": "stream",
     "text": [
      "<class 'torch.Tensor'>\n",
      "<class 'list'>\n"
     ]
    }
   ],
   "source": [
    "# 型を確認\n",
    "print(type(spin_data))\n",
    "print(type(temp_data))"
   ]
  },
  {
   "cell_type": "code",
   "execution_count": 43,
   "metadata": {},
   "outputs": [
    {
     "name": "stdout",
     "output_type": "stream",
     "text": [
      "torch.Size([75, 36, 36])\n",
      "75\n"
     ]
    }
   ],
   "source": [
    "# データサイズの確認\n",
    "print(torch.Tensor.size(spin_data))\n",
    "print(len(temp_data))"
   ]
  },
  {
   "cell_type": "code",
   "execution_count": 44,
   "metadata": {},
   "outputs": [
    {
     "name": "stdout",
     "output_type": "stream",
     "text": [
      "tensor([[-1, -1, -1,  ..., -1, -1, -1],\n",
      "        [-1, -1, -1,  ..., -1, -1, -1],\n",
      "        [-1, -1, -1,  ..., -1, -1, -1],\n",
      "        ...,\n",
      "        [-1, -1, -1,  ..., -1, -1, -1],\n",
      "        [-1, -1, -1,  ..., -1, -1, -1],\n",
      "        [-1, -1, -1,  ..., -1, -1, -1]], dtype=torch.int32)\n"
     ]
    },
    {
     "data": {
      "image/png": "[encoded data removed]",
      "text/plain": [
       "<Figure size 640x480 with 1 Axes>"
      ]
     },
     "metadata": {},
     "output_type": "display_data"
    }
   ],
   "source": [
    "i = 0\n",
    "print(spin_data[i])\n",
    "# スピン配位の可視化\n",
    "plt.imshow(spin_data[i], cmap='gray', interpolation='nearest')\n",
    "plt.show()"
   ]
  },
  {
   "cell_type": "code",
   "execution_count": null,
   "metadata": {},
   "outputs": [],
   "source": [
    "# Numpy配列をPandasのデータフレームに変換\n",
    "df = pd.DataFrame(dataset)\n",
    "\n",
    "# CSVファイルを101列目だけ小数第2位で表示するため\n",
    "fmt_list = ['%d']*100 + ['%.2f']\n",
    "\n",
    "# csvファイルで保存\n",
    "df.to_csv('dataframe.csv', index=False)"
   ]
  }
 ],
 "metadata": {
  "kernelspec": {
   "display_name": "base",
   "language": "python",
   "name": "python3"
  },
  "language_info": {
   "codemirror_mode": {
    "name": "ipython",
    "version": 3
   },
   "file_extension": ".py",
   "mimetype": "text/x-python",
   "name": "python",
   "nbconvert_exporter": "python",
   "pygments_lexer": "ipython3",
   "version": "3.9.13"
  },
  "orig_nbformat": 4
 },
 "nbformat": 4,
 "nbformat_minor": 2
}
