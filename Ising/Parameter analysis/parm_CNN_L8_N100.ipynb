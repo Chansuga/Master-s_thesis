{
 "cells": [
  {
   "cell_type": "code",
   "execution_count": 1,
   "metadata": {},
   "outputs": [],
   "source": [
    "import torch\n",
    "import numpy as np\n",
    "import matplotlib.pyplot as plt"
   ]
  },
  {
   "cell_type": "code",
   "execution_count": 2,
   "metadata": {},
   "outputs": [
    {
     "data": {
      "text/plain": [
       "OrderedDict([('conv.1.weight',\n",
       "              tensor([[[[-0.0065,  0.2142, -0.2504],\n",
       "                        [-0.2913,  0.1332, -0.2380],\n",
       "                        [ 0.0396, -0.3293, -0.1374]]],\n",
       "              \n",
       "              \n",
       "                      [[[ 0.2749,  0.3749, -0.2386],\n",
       "                        [ 0.1003,  0.2851, -0.0729],\n",
       "                        [ 0.2032,  0.4121,  0.3743]]],\n",
       "              \n",
       "              \n",
       "                      [[[ 0.2495, -0.1371,  0.2168],\n",
       "                        [ 0.3633,  0.0693,  0.2120],\n",
       "                        [ 0.0441, -0.2473,  0.0320]]],\n",
       "              \n",
       "              \n",
       "                      [[[ 0.1206, -0.2330, -0.0501],\n",
       "                        [-0.0070,  0.2497,  0.3017],\n",
       "                        [ 0.0203,  0.0419,  0.3608]]],\n",
       "              \n",
       "              \n",
       "                      [[[ 0.0343,  0.2303,  0.3079],\n",
       "                        [ 0.1484,  0.1508, -0.0586],\n",
       "                        [ 0.0922,  0.3811, -0.2248]]]], device='cuda:0')),\n",
       "             ('fc.0.weight',\n",
       "              tensor([[ 1.0918e-02, -1.9528e-02,  8.0447e-06,  ...,  3.4604e-02,\n",
       "                        3.3232e-02,  5.3891e-02],\n",
       "                      [-1.4639e-01, -1.4874e-01,  3.5882e-02,  ..., -2.6625e-02,\n",
       "                        7.7779e-02, -9.2903e-02],\n",
       "                      [-1.2969e-01, -1.7232e-02, -8.6089e-02,  ..., -3.7196e-02,\n",
       "                       -1.1198e-01,  6.2374e-04],\n",
       "                      ...,\n",
       "                      [ 3.3737e-02, -2.4537e-02, -5.1311e-02,  ..., -8.1214e-02,\n",
       "                       -1.4837e-01, -1.5410e-01],\n",
       "                      [-4.8993e-03, -7.3148e-02, -1.0226e-01,  ..., -2.1299e-01,\n",
       "                       -6.1294e-02, -1.5730e-01],\n",
       "                      [ 8.8068e-02, -1.3993e-02,  9.8615e-02,  ..., -1.6273e-01,\n",
       "                       -1.5446e-01, -1.1814e-01]], device='cuda:0'))])"
      ]
     },
     "execution_count": 2,
     "metadata": {},
     "output_type": "execute_result"
    }
   ],
   "source": [
    "model = torch.load('../data_storage/CNN_L8_N100.pth')\n",
    "model"
   ]
  },
  {
   "cell_type": "code",
   "execution_count": 3,
   "metadata": {},
   "outputs": [
    {
     "data": {
      "text/plain": [
       "tensor([[[[-0.0065,  0.2142, -0.2504],\n",
       "          [-0.2913,  0.1332, -0.2380],\n",
       "          [ 0.0396, -0.3293, -0.1374]]],\n",
       "\n",
       "\n",
       "        [[[ 0.2749,  0.3749, -0.2386],\n",
       "          [ 0.1003,  0.2851, -0.0729],\n",
       "          [ 0.2032,  0.4121,  0.3743]]],\n",
       "\n",
       "\n",
       "        [[[ 0.2495, -0.1371,  0.2168],\n",
       "          [ 0.3633,  0.0693,  0.2120],\n",
       "          [ 0.0441, -0.2473,  0.0320]]],\n",
       "\n",
       "\n",
       "        [[[ 0.1206, -0.2330, -0.0501],\n",
       "          [-0.0070,  0.2497,  0.3017],\n",
       "          [ 0.0203,  0.0419,  0.3608]]],\n",
       "\n",
       "\n",
       "        [[[ 0.0343,  0.2303,  0.3079],\n",
       "          [ 0.1484,  0.1508, -0.0586],\n",
       "          [ 0.0922,  0.3811, -0.2248]]]], device='cuda:0')"
      ]
     },
     "execution_count": 3,
     "metadata": {},
     "output_type": "execute_result"
    }
   ],
   "source": [
    "# conv.1.weightの重みテンソルを取得\n",
    "conv1_weight = model['conv.1.weight']\n",
    "conv1_weight"
   ]
  },
  {
   "cell_type": "code",
   "execution_count": 5,
   "metadata": {},
   "outputs": [],
   "source": [
    "# NumPy配列に変換\n",
    "conv1_weight_np = conv1_weight.cpu().numpy()"
   ]
  },
  {
   "cell_type": "code",
   "execution_count": 6,
   "metadata": {},
   "outputs": [
    {
     "data": {
      "image/png": "[encoded data removed]",
      "text/plain": [
       "<Figure size 864x288 with 10 Axes>"
      ]
     },
     "metadata": {
      "needs_background": "light"
     },
     "output_type": "display_data"
    }
   ],
   "source": [
    "# 各重みフィルターに対して成分の和を計算\n",
    "filter_sums = [np.sum(filter) for filter in conv1_weight_np]\n",
    "\n",
    "# 5つの重みフィルターとその成分の和を1つの図にプロット\n",
    "plt.figure(figsize=(12, 4))\n",
    "for i in range(5):\n",
    "    plt.subplot(2, 5, i+1)\n",
    "    plt.imshow(conv1_weight_np[i, 0], cmap='coolwarm', interpolation='nearest')\n",
    "    plt.title(f'Filter {i+1}')\n",
    "    plt.axis('off')\n",
    "    \n",
    "    plt.subplot(2, 5, i+6)\n",
    "    plt.text(0.5, 0.5, f'Sum: {filter_sums[i]:.2f}', fontsize=12, ha='center')\n",
    "    plt.axis('off')\n",
    "\n",
    "plt.suptitle('Conv1 Weight Heatmaps and Sums', fontsize=16)\n",
    "plt.tight_layout(rect=[0, 0, 1, 0.95])\n",
    "plt.show()"
   ]
  },
  {
   "cell_type": "code",
   "execution_count": 7,
   "metadata": {},
   "outputs": [
    {
     "data": {
      "text/plain": [
       "tensor([[ 1.0918e-02, -1.9528e-02,  8.0447e-06,  ...,  3.4604e-02,\n",
       "          3.3232e-02,  5.3891e-02],\n",
       "        [-1.4639e-01, -1.4874e-01,  3.5882e-02,  ..., -2.6625e-02,\n",
       "          7.7779e-02, -9.2903e-02],\n",
       "        [-1.2969e-01, -1.7232e-02, -8.6089e-02,  ..., -3.7196e-02,\n",
       "         -1.1198e-01,  6.2374e-04],\n",
       "        ...,\n",
       "        [ 3.3737e-02, -2.4537e-02, -5.1311e-02,  ..., -8.1214e-02,\n",
       "         -1.4837e-01, -1.5410e-01],\n",
       "        [-4.8993e-03, -7.3148e-02, -1.0226e-01,  ..., -2.1299e-01,\n",
       "         -6.1294e-02, -1.5730e-01],\n",
       "        [ 8.8068e-02, -1.3993e-02,  9.8615e-02,  ..., -1.6273e-01,\n",
       "         -1.5446e-01, -1.1814e-01]], device='cuda:0')"
      ]
     },
     "execution_count": 7,
     "metadata": {},
     "output_type": "execute_result"
    }
   ],
   "source": [
    "fc_weight = model['fc.0.weight']\n",
    "fc_weight"
   ]
  },
  {
   "cell_type": "code",
   "execution_count": 8,
   "metadata": {},
   "outputs": [
    {
     "data": {
      "text/plain": [
       "torch.Size([100, 80])"
      ]
     },
     "execution_count": 8,
     "metadata": {},
     "output_type": "execute_result"
    }
   ],
   "source": [
    "fc_weight.size()"
   ]
  },
  {
   "cell_type": "code",
   "execution_count": 10,
   "metadata": {},
   "outputs": [],
   "source": [
    "# NumPy配列に変換\n",
    "fc_weight_np = fc_weight.cpu().numpy()\n",
    "# データを転置して正方形のデータに変形\n",
    "fc_weight_np_square = fc_weight_np.T"
   ]
  },
  {
   "cell_type": "code",
   "execution_count": 11,
   "metadata": {},
   "outputs": [
    {
     "data": {
      "text/plain": [
       "array([[ 1.09182531e-02, -1.46388665e-01, -1.29686922e-01, ...,\n",
       "         3.37371081e-02, -4.89931693e-03,  8.80682245e-02],\n",
       "       [-1.95276178e-02, -1.48735210e-01, -1.72319487e-02, ...,\n",
       "        -2.45367847e-02, -7.31480569e-02, -1.39934365e-02],\n",
       "       [ 8.04471165e-06,  3.58816348e-02, -8.60893875e-02, ...,\n",
       "        -5.13113961e-02, -1.02259658e-01,  9.86150429e-02],\n",
       "       ...,\n",
       "       [ 3.46038043e-02, -2.66248938e-02, -3.71960662e-02, ...,\n",
       "        -8.12137127e-02, -2.12988466e-01, -1.62728891e-01],\n",
       "       [ 3.32321264e-02,  7.77791440e-02, -1.11983210e-01, ...,\n",
       "        -1.48368061e-01, -6.12938218e-02, -1.54463708e-01],\n",
       "       [ 5.38908914e-02, -9.29032192e-02,  6.23736123e-04, ...,\n",
       "        -1.54101476e-01, -1.57296121e-01, -1.18139468e-01]], dtype=float32)"
      ]
     },
     "execution_count": 11,
     "metadata": {},
     "output_type": "execute_result"
    }
   ],
   "source": [
    "fc_weight_np_square"
   ]
  },
  {
   "cell_type": "code",
   "execution_count": 12,
   "metadata": {},
   "outputs": [
    {
     "data": {
      "text/plain": [
       "(80, 100)"
      ]
     },
     "execution_count": 12,
     "metadata": {},
     "output_type": "execute_result"
    }
   ],
   "source": [
    "fc_weight_np_square.shape"
   ]
  },
  {
   "cell_type": "code",
   "execution_count": 13,
   "metadata": {},
   "outputs": [
    {
     "data": {
      "image/png": "[encoded data removed]",
      "text/plain": [
       "<Figure size 432x432 with 2 Axes>"
      ]
     },
     "metadata": {
      "needs_background": "light"
     },
     "output_type": "display_data"
    }
   ],
   "source": [
    "# ヒートマップをプロット（白黒）\n",
    "plt.figure(figsize=(6, 6))\n",
    "plt.imshow(fc_weight_np_square, cmap='gray', interpolation='nearest', origin='lower')\n",
    "plt.colorbar()\n",
    "plt.title('Grayscale Heatmap')\n",
    "\n",
    "\n",
    "# x軸とy軸に名前を付ける\n",
    "plt.ylabel('weight')\n",
    "\n",
    "plt.show()"
   ]
  },
  {
   "cell_type": "code",
   "execution_count": 14,
   "metadata": {},
   "outputs": [
    {
     "data": {
      "text/plain": [
       "array([ -0.5264257 ,  -1.2983772 ,  -1.8116488 ,  -0.65067226,\n",
       "        -2.0432892 ,  -0.90094924,  -0.8532182 ,  -1.0229816 ,\n",
       "        -1.5565033 ,  -1.399774  ,  -1.1791373 ,  -1.7695003 ,\n",
       "        -0.7055472 ,  -1.9950737 ,  -1.4718201 ,  -0.6494168 ,\n",
       "        -0.66692674,  -0.821385  ,  -1.517334  ,  -1.1567945 ,\n",
       "        -0.9296974 ,   0.02362267,  -1.1910484 ,  -0.88980305,\n",
       "         0.34368783,  -0.6402137 ,  -0.5901754 ,  -1.7574048 ,\n",
       "        -1.0248778 ,  -0.5121523 ,  -3.1721563 ,  -1.4974885 ,\n",
       "        -1.9036528 ,  -3.1079907 ,  -4.8262196 ,  -3.9339092 ,\n",
       "        -3.2918262 ,  -6.955429  ,  -6.9021177 ,  -4.5415134 ,\n",
       "        -7.7011814 ,  -7.108984  ,  -6.0510054 ,  -4.559081  ,\n",
       "        -8.009225  ,  -9.030352  ,  -7.0103197 ,  -8.307722  ,\n",
       "        -8.782494  ,  -8.52928   ,  -8.106419  ,  -7.7775455 ,\n",
       "        -8.486419  ,  -7.8290296 ,  -9.086388  ,  -7.9679112 ,\n",
       "        -8.957575  ,  -9.01874   ,  -9.4412    ,  -8.295877  ,\n",
       "        -9.080921  ,  -8.672179  ,  -7.982313  ,  -8.617647  ,\n",
       "        -7.790983  ,  -9.873564  ,  -8.365448  ,  -8.556071  ,\n",
       "        -9.260182  ,  -8.942875  ,  -7.665887  ,  -8.923062  ,\n",
       "        -9.0715475 ,  -8.590747  ,  -9.293882  ,  -8.67285   ,\n",
       "        -9.131247  ,  -8.877539  ,  -8.139708  ,  -9.542738  ,\n",
       "        -8.649361  ,  -9.363138  ,  -8.549046  ,  -9.490816  ,\n",
       "        -8.306152  ,  -8.512522  ,  -8.542733  ,  -8.92037   ,\n",
       "        -8.879498  ,  -8.669989  ,  -9.159184  ,  -7.797591  ,\n",
       "        -8.822381  ,  -8.509392  ,  -8.744363  ,  -8.808479  ,\n",
       "        -9.146963  ,  -9.075491  , -10.232146  ,  -9.0297165 ],\n",
       "      dtype=float32)"
      ]
     },
     "execution_count": 14,
     "metadata": {},
     "output_type": "execute_result"
    }
   ],
   "source": [
    "fc_weight_np_square_sum = np.sum(fc_weight_np_square, axis=0)\n",
    "fc_weight_np_square_sum"
   ]
  },
  {
   "cell_type": "code",
   "execution_count": 22,
   "metadata": {},
   "outputs": [
    {
     "data": {
      "image/png": "[encoded data removed]",
      "text/plain": [
       "<Figure size 720x360 with 1 Axes>"
      ]
     },
     "metadata": {
      "needs_background": "light"
     },
     "output_type": "display_data"
    },
    {
     "name": "stdout",
     "output_type": "stream",
     "text": [
      "Fitted Parameters:\n",
      "a: -3.8956936313512402\n",
      "b: 0.13272689751255118\n",
      "c: -4.8929154927564005\n",
      "d: -4.851682566307623\n"
     ]
    }
   ],
   "source": [
    "import numpy as np\n",
    "import matplotlib.pyplot as plt\n",
    "from scipy.optimize import curve_fit\n",
    "\n",
    "# フィッティング用のtanh関数\n",
    "def tanh_function(x, a, b, c, d):\n",
    "    return a * np.tanh(b * x + c) + d\n",
    "\n",
    "# データ\n",
    "x = np.arange(len(fc_weight_np_square_sum))\n",
    "y = fc_weight_np_square_sum\n",
    "\n",
    "# tanh関数の初期推定値\n",
    "initial_guess = [1.0, 0.1, 0.0, 0.0]  # パラメータ a, b, c, d の初期推定値\n",
    "\n",
    "# tanh関数のパラメータを推定\n",
    "params, covariance = curve_fit(tanh_function, x, y, p0=initial_guess)\n",
    "\n",
    "# プロット\n",
    "plt.figure(figsize=(10, 5))\n",
    "plt.scatter(x, y, marker='+', color='purple', label='Data')\n",
    "plt.xlabel('Temperature')\n",
    "plt.ylabel('$W_{sum}$')\n",
    "\n",
    "# フィッティング結果をプロットに追加\n",
    "x_fit = np.linspace(min(x), max(x), 1000)\n",
    "y_fit = tanh_function(x_fit, *params)\n",
    "plt.plot(x_fit, y_fit, 'r-', label='Fit', linewidth=2)\n",
    "\n",
    "plt.legend()\n",
    "plt.show()\n",
    "\n",
    "# フィッティングされたパラメータ\n",
    "print(\"Fitted Parameters:\")\n",
    "print(\"a:\", params[0])\n",
    "print(\"b:\", params[1])\n",
    "print(\"c:\", params[2])\n",
    "print(\"d:\", params[3])\n"
   ]
  },
  {
   "cell_type": "markdown",
   "metadata": {},
   "source": [
    "相転移点の算出"
   ]
  },
  {
   "cell_type": "code",
   "execution_count": 24,
   "metadata": {},
   "outputs": [
    {
     "name": "stdout",
     "output_type": "stream",
     "text": [
      "Fitted Center X: 36.86453600931723\n",
      "beta: 0.49789524047933187\n"
     ]
    }
   ],
   "source": [
    "center_x = -params[2] / params[1]\n",
    "print(\"Fitted Center X:\", center_x)\n",
    "\n",
    "beta = (0.0080808080808081 * center_x) + 0.2\n",
    "print(\"beta:\", beta)"
   ]
  }
 ],
 "metadata": {
  "kernelspec": {
   "display_name": "base",
   "language": "python",
   "name": "python3"
  },
  "language_info": {
   "codemirror_mode": {
    "name": "ipython",
    "version": 3
   },
   "file_extension": ".py",
   "mimetype": "text/x-python",
   "name": "python",
   "nbconvert_exporter": "python",
   "pygments_lexer": "ipython3",
   "version": "3.9.12"
  }
 },
 "nbformat": 4,
 "nbformat_minor": 2
}
