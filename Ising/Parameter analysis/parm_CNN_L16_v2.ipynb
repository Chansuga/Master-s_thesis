{
 "cells": [
  {
   "cell_type": "markdown",
   "metadata": {},
   "source": [
    "5000エポックで学習した"
   ]
  },
  {
   "cell_type": "code",
   "execution_count": 5,
   "metadata": {},
   "outputs": [],
   "source": [
    "import torch\n",
    "import numpy as np\n",
    "import matplotlib.pyplot as plt\n",
    "import pickle"
   ]
  },
  {
   "cell_type": "code",
   "execution_count": 6,
   "metadata": {},
   "outputs": [],
   "source": [
    "import io\n",
    "        \n",
    "class CPU_Unpickler(pickle.Unpickler):\n",
    "    def find_class(self, module, name):\n",
    "        if module == 'torch.storage' and name == '_load_from_bytes':\n",
    "            return lambda b: torch.load(io.BytesIO(b), map_location='cpu')\n",
    "        else: return super().find_class(module, name)"
   ]
  },
  {
   "cell_type": "code",
   "execution_count": null,
   "metadata": {},
   "outputs": [],
   "source": [
    "# ファイルの相対パスを指定\n",
    "file_path = 'data_storage/CNN_L16_v4.pth'\n",
    "\n",
    "if torch.cuda.is_available():\n",
    "    with open(file_path, 'rb') as file:\n",
    "        loaded_data = pickle.load(file, encoding='latin1')\n",
    "else:\n",
    "    with open(file_path, 'rb') as file:\n",
    "        loaded_data = CPU_Unpickler(file).load()\n",
    "        \n",
    "# 読み込んだデータを個々の変数に分割\n",
    "spin_data, temp_data = loaded_data"
   ]
  },
  {
   "cell_type": "code",
   "execution_count": 3,
   "metadata": {},
   "outputs": [
    {
     "data": {
      "text/plain": [
       "OrderedDict([('conv.1.weight',\n",
       "              tensor([[[[ 2.5340, -1.0607,  1.8495],\n",
       "                        [-0.8619, -2.3940, -0.0903],\n",
       "                        [-0.3224, -1.0845,  1.3103]]],\n",
       "              \n",
       "              \n",
       "                      [[[-1.6340, -1.6388, -1.8371],\n",
       "                        [-1.7702, -2.3276, -2.5660],\n",
       "                        [-2.1638, -2.2748, -0.8925]]],\n",
       "              \n",
       "              \n",
       "                      [[[-1.4907, -0.6332, -0.7898],\n",
       "                        [ 2.5727, -2.2448,  0.3828],\n",
       "                        [ 0.3272, -0.6255,  2.4082]]],\n",
       "              \n",
       "              \n",
       "                      [[[ 0.5564,  1.8240,  0.3439],\n",
       "                        [-1.8362,  2.8140, -1.0110],\n",
       "                        [-2.2540, -0.9680,  0.5840]]],\n",
       "              \n",
       "              \n",
       "                      [[[ 0.3435, -0.9777,  0.4397],\n",
       "                        [-1.2020,  0.5952, -1.1029],\n",
       "                        [ 1.5063,  2.3322, -1.9218]]]])),\n",
       "             ('fc.0.weight',\n",
       "              tensor([[-1.1184, -0.4028, -1.2472,  ...,  0.0980, -0.4875, -1.0746],\n",
       "                      [-0.3835, -0.3625, -2.0802,  ..., -0.5915, -0.6275, -0.2673],\n",
       "                      [-0.5142, -0.2515, -0.7544,  ..., -1.5252, -1.3798, -1.8302],\n",
       "                      ...,\n",
       "                      [ 0.3465,  0.3467,  0.4966,  ..., -1.0035,  0.7157,  1.2554],\n",
       "                      [ 0.1585,  0.3000, -0.1920,  ..., -0.7964,  0.1599, -0.0488],\n",
       "                      [ 0.3758,  0.0199, -0.0945,  ...,  0.6211,  0.5507,  0.0059]]))])"
      ]
     },
     "execution_count": 3,
     "metadata": {},
     "output_type": "execute_result"
    }
   ],
   "source": [
    "model = torch.load('data_storage/CNN_L16_v4.pth')\n",
    "model"
   ]
  },
  {
   "cell_type": "code",
   "execution_count": 12,
   "metadata": {},
   "outputs": [
    {
     "data": {
      "text/plain": [
       "tensor([[[[ 2.5340, -1.0607,  1.8495],\n",
       "          [-0.8619, -2.3940, -0.0903],\n",
       "          [-0.3224, -1.0845,  1.3103]]],\n",
       "\n",
       "\n",
       "        [[[-1.6340, -1.6388, -1.8371],\n",
       "          [-1.7702, -2.3276, -2.5660],\n",
       "          [-2.1638, -2.2748, -0.8925]]],\n",
       "\n",
       "\n",
       "        [[[-1.4907, -0.6332, -0.7898],\n",
       "          [ 2.5727, -2.2448,  0.3828],\n",
       "          [ 0.3272, -0.6255,  2.4082]]],\n",
       "\n",
       "\n",
       "        [[[ 0.5564,  1.8240,  0.3439],\n",
       "          [-1.8362,  2.8140, -1.0110],\n",
       "          [-2.2540, -0.9680,  0.5840]]],\n",
       "\n",
       "\n",
       "        [[[ 0.3435, -0.9777,  0.4397],\n",
       "          [-1.2020,  0.5952, -1.1029],\n",
       "          [ 1.5063,  2.3322, -1.9218]]]])"
      ]
     },
     "execution_count": 12,
     "metadata": {},
     "output_type": "execute_result"
    }
   ],
   "source": [
    "# conv.1.weightの重みテンソルを取得\n",
    "conv1_weight = model['conv.1.weight']\n",
    "conv1_weight"
   ]
  },
  {
   "cell_type": "code",
   "execution_count": 13,
   "metadata": {},
   "outputs": [],
   "source": [
    "# NumPy配列に変換\n",
    "conv1_weight_np = conv1_weight.numpy()"
   ]
  },
  {
   "cell_type": "code",
   "execution_count": null,
   "metadata": {},
   "outputs": [],
   "source": []
  },
  {
   "cell_type": "code",
   "execution_count": null,
   "metadata": {},
   "outputs": [
    {
     "data": {
      "image/png": "[encoded data removed]",
      "text/plain": [
       "<Figure size 1200x400 with 10 Axes>"
      ]
     },
     "metadata": {},
     "output_type": "display_data"
    }
   ],
   "source": [
    "# 各重みフィルターに対して成分の和を計算\n",
    "filter_sums = [np.sum(filter) for filter in conv1_weight_np]\n",
    "\n",
    "# 5つの重みフィルターとその成分の和を1つの図にプロット\n",
    "plt.figure(figsize=(12, 4))\n",
    "for i in range(5):\n",
    "    plt.subplot(2, 5, i+1)\n",
    "    plt.imshow(conv1_weight_np[i, 0], cmap='coolwarm', interpolation='nearest')\n",
    "    plt.title(f'Filter {i+1}')\n",
    "    plt.axis('off')\n",
    "    \n",
    "    plt.subplot(2, 5, i+6)\n",
    "    plt.text(0.5, 0.5, f'Sum: {filter_sums[i]:.2f}', fontsize=12, ha='center')\n",
    "    plt.axis('off')\n",
    "\n",
    "plt.suptitle('Conv1 Weight Heatmaps and Sums', fontsize=16)\n",
    "plt.tight_layout(rect=[0, 0, 1, 0.95])\n",
    "plt.show()"
   ]
  },
  {
   "cell_type": "code",
   "execution_count": null,
   "metadata": {},
   "outputs": [
    {
     "data": {
      "text/plain": [
       "tensor([[-1.1184, -0.4028, -1.2472,  ...,  0.0980, -0.4875, -1.0746],\n",
       "        [-0.3835, -0.3625, -2.0802,  ..., -0.5915, -0.6275, -0.2673],\n",
       "        [-0.5142, -0.2515, -0.7544,  ..., -1.5252, -1.3798, -1.8302],\n",
       "        ...,\n",
       "        [ 0.3465,  0.3467,  0.4966,  ..., -1.0035,  0.7157,  1.2554],\n",
       "        [ 0.1585,  0.3000, -0.1920,  ..., -0.7964,  0.1599, -0.0488],\n",
       "        [ 0.3758,  0.0199, -0.0945,  ...,  0.6211,  0.5507,  0.0059]])"
      ]
     },
     "execution_count": 21,
     "metadata": {},
     "output_type": "execute_result"
    }
   ],
   "source": [
    "fc_weight = model['fc.0.weight']\n",
    "fc_weight"
   ]
  },
  {
   "cell_type": "code",
   "execution_count": null,
   "metadata": {},
   "outputs": [
    {
     "data": {
      "text/plain": [
       "torch.Size([25, 80])"
      ]
     },
     "execution_count": 22,
     "metadata": {},
     "output_type": "execute_result"
    }
   ],
   "source": [
    "fc_weight.size()"
   ]
  },
  {
   "cell_type": "code",
   "execution_count": null,
   "metadata": {},
   "outputs": [],
   "source": [
    "# NumPy配列に変換\n",
    "fc_weight_np = fc_weight.numpy()\n",
    "# データを転置して正方形のデータに変形\n",
    "fc_weight_np_square = fc_weight_np.T"
   ]
  },
  {
   "cell_type": "code",
   "execution_count": null,
   "metadata": {},
   "outputs": [
    {
     "data": {
      "text/plain": [
       "array([[-1.1184136 , -0.38346517, -0.5142061 , ...,  0.34649736,\n",
       "         0.1584967 ,  0.37584728],\n",
       "       [-0.40276074, -0.36247718, -0.25147784, ...,  0.34674546,\n",
       "         0.30004597,  0.01991135],\n",
       "       [-1.2472324 , -2.0801954 , -0.754438  , ...,  0.496578  ,\n",
       "        -0.19200216, -0.09451459],\n",
       "       ...,\n",
       "       [ 0.09797969, -0.59153414, -1.5252305 , ..., -1.0035038 ,\n",
       "        -0.7963647 ,  0.6211198 ],\n",
       "       [-0.48745164, -0.6274926 , -1.3798273 , ...,  0.7157375 ,\n",
       "         0.15986697,  0.5506944 ],\n",
       "       [-1.0746131 , -0.26729745, -1.8301948 , ...,  1.2553684 ,\n",
       "        -0.04883349,  0.00591184]], dtype=float32)"
      ]
     },
     "execution_count": 24,
     "metadata": {},
     "output_type": "execute_result"
    }
   ],
   "source": [
    "fc_weight_np_square"
   ]
  },
  {
   "cell_type": "code",
   "execution_count": null,
   "metadata": {},
   "outputs": [
    {
     "data": {
      "text/plain": [
       "(80, 25)"
      ]
     },
     "execution_count": 25,
     "metadata": {},
     "output_type": "execute_result"
    }
   ],
   "source": [
    "fc_weight_np_square.shape"
   ]
  },
  {
   "cell_type": "code",
   "execution_count": null,
   "metadata": {},
   "outputs": [
    {
     "data": {
      "image/png": "[encoded data removed]",
      "text/plain": [
       "<Figure size 600x600 with 2 Axes>"
      ]
     },
     "metadata": {},
     "output_type": "display_data"
    }
   ],
   "source": [
    "# ヒートマップをプロット（白黒）\n",
    "plt.figure(figsize=(6, 6))\n",
    "plt.imshow(fc_weight_np_square, cmap='gray', interpolation='nearest', aspect=0.30, origin='lower')\n",
    "plt.colorbar()\n",
    "plt.title('Grayscale Heatmap')\n",
    "\n",
    "\n",
    "# x軸とy軸に名前を付ける\n",
    "plt.ylabel('weight')\n",
    "\n",
    "plt.show()"
   ]
  },
  {
   "cell_type": "code",
   "execution_count": null,
   "metadata": {},
   "outputs": [
    {
     "data": {
      "text/plain": [
       "array([-0.859873  , -0.54764575, -0.74654865, -0.54679215, -0.6021939 ,\n",
       "       -1.7147688 , -0.87744695, -0.21148297, -0.20782955, -0.41184887,\n",
       "       -0.17246237, -0.09685908, -0.09150036, -0.05788966, -0.06638019,\n",
       "        0.0038944 , -0.00558439, -0.03710242,  0.04598955,  0.02298513,\n",
       "        0.06494686,  0.12079874,  0.1501479 ,  0.1143292 ,  0.2038968 ],\n",
       "      dtype=float32)"
      ]
     },
     "execution_count": 33,
     "metadata": {},
     "output_type": "execute_result"
    }
   ],
   "source": [
    "fc_weight_np_square_sum = np.sum(fc_weight_np_square, axis=0)/80\n",
    "fc_weight_np_square_sum"
   ]
  },
  {
   "cell_type": "code",
   "execution_count": null,
   "metadata": {},
   "outputs": [
    {
     "data": {
      "image/png": "[encoded data removed]",
      "text/plain": [
       "<Figure size 1000x500 with 1 Axes>"
      ]
     },
     "metadata": {},
     "output_type": "display_data"
    }
   ],
   "source": [
    "x = [x*0.25 for x in range(len(fc_weight_np_square_sum))]\n",
    "y = fc_weight_np_square_sum\n",
    "\n",
    "# プロット\n",
    "plt.figure(figsize=(10, 5))\n",
    "plt.scatter(x, y, marker='+', color='purple')\n",
    "plt.xlabel('temperture')\n",
    "plt.ylabel('$W_{sum}$')\n",
    "\n",
    "plt.show()"
   ]
  },
  {
   "cell_type": "code",
   "execution_count": null,
   "metadata": {},
   "outputs": [
    {
     "data": {
      "text/plain": [
       "[0,\n",
       " 4.0,\n",
       " 2.0,\n",
       " 1.3333333333333333,\n",
       " 1.0,\n",
       " 0.8,\n",
       " 0.6666666666666666,\n",
       " 0.5714285714285714,\n",
       " 0.5,\n",
       " 0.4444444444444444,\n",
       " 0.4,\n",
       " 0.36363636363636365,\n",
       " 0.3333333333333333,\n",
       " 0.3076923076923077,\n",
       " 0.2857142857142857,\n",
       " 0.26666666666666666,\n",
       " 0.25,\n",
       " 0.23529411764705882,\n",
       " 0.2222222222222222,\n",
       " 0.21052631578947367,\n",
       " 0.2,\n",
       " 0.19047619047619047,\n",
       " 0.18181818181818182,\n",
       " 0.17391304347826086,\n",
       " 0.16666666666666666]"
      ]
     },
     "execution_count": 35,
     "metadata": {},
     "output_type": "execute_result"
    }
   ],
   "source": [
    "x_inverse = []\n",
    "for val in x:\n",
    "    if val != 0:\n",
    "        x_inverse.append(1 / val)\n",
    "    else:\n",
    "        x_inverse.append(0)  # ゼロで割り算を避けるため\n",
    "\n",
    "x_inverse"
   ]
  },
  {
   "cell_type": "code",
   "execution_count": null,
   "metadata": {},
   "outputs": [
    {
     "data": {
      "image/png": "[encoded data removed]",
      "text/plain": [
       "<Figure size 1000x500 with 1 Axes>"
      ]
     },
     "metadata": {},
     "output_type": "display_data"
    }
   ],
   "source": [
    "x = [x*0.25 for x in range(len(fc_weight_np_square_sum))]\n",
    "y = fc_weight_np_square_sum\n",
    "\n",
    "# x軸の値を逆数に変換\n",
    "x_inverse = []\n",
    "for val in x:\n",
    "    if val != 0:\n",
    "        x_inverse.append(1 / val)\n",
    "    else:\n",
    "        x_inverse.append(0)  # ゼロで割り算を避けるため\n",
    "\n",
    "# プロット\n",
    "plt.figure(figsize=(10, 5))\n",
    "plt.scatter(x_inverse, y, marker='+', color='purple')\n",
    "plt.xlabel('$beta$')\n",
    "plt.ylabel('$W_{sum}$')\n",
    "\n",
    "# x軸の範囲を指定\n",
    "plt.xlim(0.2, 1) \n",
    "plt.ylim(-0.4, 0.1)\n",
    "\n",
    "plt.show()"
   ]
  },
  {
   "cell_type": "code",
   "execution_count": null,
   "metadata": {},
   "outputs": [],
   "source": []
  }
 ],
 "metadata": {
  "kernelspec": {
   "display_name": "base",
   "language": "python",
   "name": "python3"
  },
  "language_info": {
   "codemirror_mode": {
    "name": "ipython",
    "version": 3
   },
   "file_extension": ".py",
   "mimetype": "text/x-python",
   "name": "python",
   "nbconvert_exporter": "python",
   "pygments_lexer": "ipython3",
   "version": "3.9.13"
  }
 },
 "nbformat": 4,
 "nbformat_minor": 2
}
