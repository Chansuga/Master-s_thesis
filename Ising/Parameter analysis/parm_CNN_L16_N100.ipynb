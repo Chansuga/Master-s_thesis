{
 "cells": [
  {
   "cell_type": "code",
   "execution_count": 71,
   "metadata": {},
   "outputs": [],
   "source": [
    "import torch\n",
    "import numpy as np\n",
    "import matplotlib.pyplot as plt"
   ]
  },
  {
   "cell_type": "code",
   "execution_count": 72,
   "metadata": {},
   "outputs": [
    {
     "data": {
      "text/plain": [
       "OrderedDict([('conv.1.weight',\n",
       "              tensor([[[[-0.0989, -0.2499, -0.2357,  0.0144],\n",
       "                        [-0.0588,  0.1742, -0.0698,  0.0982],\n",
       "                        [ 0.0606, -0.2591, -0.1993,  0.0177],\n",
       "                        [-0.0588,  0.0697, -0.1059, -0.2593]]],\n",
       "              \n",
       "              \n",
       "                      [[[ 0.1992,  0.2063,  0.2431,  0.2063],\n",
       "                        [-0.2948, -0.0204, -0.1922,  0.0192],\n",
       "                        [-0.1683,  0.0491, -0.2150, -0.1518],\n",
       "                        [ 0.2745,  0.2172, -0.1832, -0.0177]]],\n",
       "              \n",
       "              \n",
       "                      [[[ 0.1407,  0.2782,  0.3005, -0.2132],\n",
       "                        [-0.0379,  0.0332,  0.3505, -0.0523],\n",
       "                        [ 0.2711, -0.1609,  0.1990,  0.0883],\n",
       "                        [-0.0781, -0.0176, -0.0922,  0.2134]]],\n",
       "              \n",
       "              \n",
       "                      [[[ 0.0708, -0.0805, -0.0174, -0.1194],\n",
       "                        [ 0.0092, -0.1636,  0.1391,  0.1055],\n",
       "                        [-0.0381,  0.2535, -0.1210, -0.0009],\n",
       "                        [ 0.3573, -0.0203,  0.0822,  0.3276]]],\n",
       "              \n",
       "              \n",
       "                      [[[-0.0606,  0.0059,  0.3558,  0.1918],\n",
       "                        [ 0.0961,  0.0303,  0.2724, -0.0445],\n",
       "                        [ 0.3060, -0.0232,  0.3882, -0.1605],\n",
       "                        [-0.1894,  0.2517, -0.0914,  0.0754]]]], device='cuda:0')),\n",
       "             ('fc.0.weight',\n",
       "              tensor([[ 0.0071,  0.0432, -0.0295,  ..., -0.0945, -0.0046,  0.0079],\n",
       "                      [ 0.0426, -0.1233, -0.1226,  ...,  0.0054, -0.0032, -0.0661],\n",
       "                      [ 0.0182, -0.0409, -0.0206,  ..., -0.0558,  0.0751,  0.0608],\n",
       "                      ...,\n",
       "                      [-0.0337,  0.0987, -0.0882,  ..., -0.1364, -0.2279, -0.2353],\n",
       "                      [ 0.0737,  0.0715,  0.0746,  ..., -0.1253, -0.0711, -0.0389],\n",
       "                      [ 0.0545, -0.0524, -0.1181,  ..., -0.2533, -0.2211, -0.1726]],\n",
       "                     device='cuda:0'))])"
      ]
     },
     "execution_count": 72,
     "metadata": {},
     "output_type": "execute_result"
    }
   ],
   "source": [
    "model = torch.load('../data_storage/CNN_L16_N100.pth')\n",
    "model"
   ]
  },
  {
   "cell_type": "code",
   "execution_count": 73,
   "metadata": {},
   "outputs": [
    {
     "data": {
      "text/plain": [
       "tensor([[[[-0.0989, -0.2499, -0.2357,  0.0144],\n",
       "          [-0.0588,  0.1742, -0.0698,  0.0982],\n",
       "          [ 0.0606, -0.2591, -0.1993,  0.0177],\n",
       "          [-0.0588,  0.0697, -0.1059, -0.2593]]],\n",
       "\n",
       "\n",
       "        [[[ 0.1992,  0.2063,  0.2431,  0.2063],\n",
       "          [-0.2948, -0.0204, -0.1922,  0.0192],\n",
       "          [-0.1683,  0.0491, -0.2150, -0.1518],\n",
       "          [ 0.2745,  0.2172, -0.1832, -0.0177]]],\n",
       "\n",
       "\n",
       "        [[[ 0.1407,  0.2782,  0.3005, -0.2132],\n",
       "          [-0.0379,  0.0332,  0.3505, -0.0523],\n",
       "          [ 0.2711, -0.1609,  0.1990,  0.0883],\n",
       "          [-0.0781, -0.0176, -0.0922,  0.2134]]],\n",
       "\n",
       "\n",
       "        [[[ 0.0708, -0.0805, -0.0174, -0.1194],\n",
       "          [ 0.0092, -0.1636,  0.1391,  0.1055],\n",
       "          [-0.0381,  0.2535, -0.1210, -0.0009],\n",
       "          [ 0.3573, -0.0203,  0.0822,  0.3276]]],\n",
       "\n",
       "\n",
       "        [[[-0.0606,  0.0059,  0.3558,  0.1918],\n",
       "          [ 0.0961,  0.0303,  0.2724, -0.0445],\n",
       "          [ 0.3060, -0.0232,  0.3882, -0.1605],\n",
       "          [-0.1894,  0.2517, -0.0914,  0.0754]]]], device='cuda:0')"
      ]
     },
     "execution_count": 73,
     "metadata": {},
     "output_type": "execute_result"
    }
   ],
   "source": [
    "# conv.1.weightの重みテンソルを取得\n",
    "conv1_weight = model['conv.1.weight']\n",
    "conv1_weight"
   ]
  },
  {
   "cell_type": "code",
   "execution_count": 74,
   "metadata": {},
   "outputs": [],
   "source": [
    "# NumPy配列に変換\n",
    "conv1_weight_np = conv1_weight.cpu().numpy()"
   ]
  },
  {
   "cell_type": "code",
   "execution_count": 75,
   "metadata": {},
   "outputs": [
    {
     "data": {
      "image/png": "[encoded data removed]",
      "text/plain": [
       "<Figure size 864x288 with 10 Axes>"
      ]
     },
     "metadata": {
      "needs_background": "light"
     },
     "output_type": "display_data"
    }
   ],
   "source": [
    "# 各重みフィルターに対して成分の和を計算\n",
    "filter_sums = [np.sum(filter) for filter in conv1_weight_np]\n",
    "\n",
    "# 5つの重みフィルターとその成分の和を1つの図にプロット\n",
    "plt.figure(figsize=(12, 4))\n",
    "for i in range(5):\n",
    "    plt.subplot(2, 5, i+1)\n",
    "    plt.imshow(conv1_weight_np[i, 0], cmap='coolwarm', interpolation='nearest')\n",
    "    plt.title(f'Filter {i+1}')\n",
    "    plt.axis('off')\n",
    "    \n",
    "    plt.subplot(2, 5, i+6)\n",
    "    plt.text(0.5, 0.5, f'Sum: {filter_sums[i]:.2f}', fontsize=12, ha='center')\n",
    "    plt.axis('off')\n",
    "\n",
    "plt.suptitle('Conv1 Weight Heatmaps and Sums', fontsize=16)\n",
    "plt.tight_layout(rect=[0, 0, 1, 0.95])\n",
    "plt.show()"
   ]
  },
  {
   "cell_type": "code",
   "execution_count": 76,
   "metadata": {},
   "outputs": [
    {
     "data": {
      "text/plain": [
       "tensor([[ 0.0071,  0.0432, -0.0295,  ..., -0.0945, -0.0046,  0.0079],\n",
       "        [ 0.0426, -0.1233, -0.1226,  ...,  0.0054, -0.0032, -0.0661],\n",
       "        [ 0.0182, -0.0409, -0.0206,  ..., -0.0558,  0.0751,  0.0608],\n",
       "        ...,\n",
       "        [-0.0337,  0.0987, -0.0882,  ..., -0.1364, -0.2279, -0.2353],\n",
       "        [ 0.0737,  0.0715,  0.0746,  ..., -0.1253, -0.0711, -0.0389],\n",
       "        [ 0.0545, -0.0524, -0.1181,  ..., -0.2533, -0.2211, -0.1726]],\n",
       "       device='cuda:0')"
      ]
     },
     "execution_count": 76,
     "metadata": {},
     "output_type": "execute_result"
    }
   ],
   "source": [
    "fc_weight = model['fc.0.weight']\n",
    "fc_weight"
   ]
  },
  {
   "cell_type": "code",
   "execution_count": 77,
   "metadata": {},
   "outputs": [
    {
     "data": {
      "text/plain": [
       "torch.Size([100, 80])"
      ]
     },
     "execution_count": 77,
     "metadata": {},
     "output_type": "execute_result"
    }
   ],
   "source": [
    "fc_weight.size()"
   ]
  },
  {
   "cell_type": "code",
   "execution_count": 78,
   "metadata": {},
   "outputs": [],
   "source": [
    "# NumPy配列に変換\n",
    "fc_weight_np = fc_weight.cpu().numpy()\n",
    "# データを転置して正方形のデータに変形\n",
    "fc_weight_np_square = fc_weight_np.T"
   ]
  },
  {
   "cell_type": "code",
   "execution_count": 79,
   "metadata": {},
   "outputs": [
    {
     "data": {
      "text/plain": [
       "array([[ 0.00714341,  0.04263407,  0.01820251, ..., -0.03369166,\n",
       "         0.07370211,  0.05447489],\n",
       "       [ 0.04322316, -0.12329838, -0.0409213 , ...,  0.09867677,\n",
       "         0.07152369, -0.05240341],\n",
       "       [-0.02949178, -0.1226129 , -0.02064904, ..., -0.08821929,\n",
       "         0.07456815, -0.11812437],\n",
       "       ...,\n",
       "       [-0.0944708 ,  0.00536697, -0.05575916, ..., -0.13641685,\n",
       "        -0.12531883, -0.2533126 ],\n",
       "       [-0.00462239, -0.00321009,  0.07507698, ..., -0.22791235,\n",
       "        -0.07108109, -0.22109969],\n",
       "       [ 0.00788979, -0.06606084,  0.06078291, ..., -0.23528348,\n",
       "        -0.03894555, -0.17256404]], dtype=float32)"
      ]
     },
     "execution_count": 79,
     "metadata": {},
     "output_type": "execute_result"
    }
   ],
   "source": [
    "fc_weight_np_square"
   ]
  },
  {
   "cell_type": "code",
   "execution_count": 80,
   "metadata": {},
   "outputs": [
    {
     "data": {
      "text/plain": [
       "(80, 100)"
      ]
     },
     "execution_count": 80,
     "metadata": {},
     "output_type": "execute_result"
    }
   ],
   "source": [
    "fc_weight_np_square.shape"
   ]
  },
  {
   "cell_type": "code",
   "execution_count": 81,
   "metadata": {},
   "outputs": [
    {
     "data": {
      "image/png": "[encoded data removed]",
      "text/plain": [
       "<Figure size 432x432 with 2 Axes>"
      ]
     },
     "metadata": {
      "needs_background": "light"
     },
     "output_type": "display_data"
    }
   ],
   "source": [
    "# ヒートマップをプロット（白黒）\n",
    "plt.figure(figsize=(6, 6))\n",
    "plt.imshow(fc_weight_np_square, cmap='gray', interpolation='nearest', origin='lower')\n",
    "plt.colorbar()\n",
    "plt.title('Grayscale Heatmap')\n",
    "\n",
    "\n",
    "# x軸とy軸に名前を付ける\n",
    "plt.ylabel('weight')\n",
    "\n",
    "plt.show()"
   ]
  },
  {
   "cell_type": "code",
   "execution_count": 82,
   "metadata": {},
   "outputs": [
    {
     "data": {
      "text/plain": [
       "array([ -0.6161336 ,  -0.524215  ,  -0.56056   ,  -1.3821635 ,\n",
       "        -0.770826  ,  -0.5861068 ,  -0.20310682,  -0.30407843,\n",
       "        -1.0853727 ,  -0.987777  ,  -0.67050314,  -0.65346736,\n",
       "        -0.5902779 ,  -1.2384877 ,   0.07617982,  -0.21141881,\n",
       "        -2.1094217 ,  -1.345577  ,  -1.8655702 ,  -0.5120789 ,\n",
       "         0.11833364,  -1.4149526 ,  -0.63398176,   0.7528975 ,\n",
       "        -1.1182787 ,  -0.8410876 ,  -0.9773397 ,  -0.09927052,\n",
       "        -0.49966955,  -1.5668361 ,  -1.8626287 ,  -1.9205761 ,\n",
       "        -4.9065933 ,  -4.753127  ,  -4.5507774 ,  -5.7719445 ,\n",
       "        -6.243713  ,  -6.2662654 ,  -6.13807   ,  -7.043626  ,\n",
       "        -6.8571587 ,  -7.137494  ,  -5.6471434 ,  -7.8170357 ,\n",
       "        -7.148281  ,  -7.0109816 ,  -7.0598645 ,  -7.4592257 ,\n",
       "        -6.4133224 ,  -8.53606   ,  -8.084889  ,  -7.115716  ,\n",
       "        -7.964792  ,  -7.845707  ,  -9.012627  ,  -8.461364  ,\n",
       "        -8.490756  ,  -8.420827  ,  -8.235478  ,  -8.347535  ,\n",
       "        -8.1656    ,  -8.335192  ,  -7.499509  ,  -8.948429  ,\n",
       "        -8.744376  ,  -8.512848  ,  -8.841719  ,  -8.614375  ,\n",
       "        -7.471102  ,  -9.362207  ,  -8.062792  ,  -8.53697   ,\n",
       "        -8.518326  ,  -8.697932  ,  -8.6450405 ,  -9.348084  ,\n",
       "        -8.236675  ,  -9.608669  ,  -8.856173  ,  -8.689655  ,\n",
       "        -9.220476  ,  -8.446168  ,  -9.92145   ,  -9.583967  ,\n",
       "        -9.291527  ,  -9.323124  ,  -9.414034  ,  -8.845771  ,\n",
       "       -10.215472  , -10.375467  ,  -9.404291  ,  -9.795868  ,\n",
       "        -8.90222   ,  -9.811716  ,  -9.02289   ,  -9.301216  ,\n",
       "        -8.470629  ,  -9.861073  ,  -9.954161  ,  -8.906636  ],\n",
       "      dtype=float32)"
      ]
     },
     "execution_count": 82,
     "metadata": {},
     "output_type": "execute_result"
    }
   ],
   "source": [
    "fc_weight_np_square_sum = np.sum(fc_weight_np_square, axis=0)\n",
    "fc_weight_np_square_sum"
   ]
  },
  {
   "cell_type": "code",
   "execution_count": 83,
   "metadata": {},
   "outputs": [
    {
     "data": {
      "image/png": "[encoded data removed]",
      "text/plain": [
       "<Figure size 720x360 with 1 Axes>"
      ]
     },
     "metadata": {
      "needs_background": "light"
     },
     "output_type": "display_data"
    },
    {
     "name": "stdout",
     "output_type": "stream",
     "text": [
      "Fitted Parameters:\n",
      "a: -4.162965388687276\n",
      "b: 0.10542710285674362\n",
      "c: -3.707269877966819\n",
      "d: -4.653717923571371\n"
     ]
    }
   ],
   "source": [
    "import numpy as np\n",
    "import matplotlib.pyplot as plt\n",
    "from scipy.optimize import curve_fit\n",
    "\n",
    "# フィッティング用のtanh関数\n",
    "def tanh_function(x, a, b, c, d):\n",
    "    return a * np.tanh(b * x + c) + d\n",
    "\n",
    "# データ\n",
    "x = np.arange(len(fc_weight_np_square_sum))\n",
    "y = fc_weight_np_square_sum\n",
    "\n",
    "# tanh関数の初期推定値\n",
    "initial_guess = [1.0, 0.1, 0.0, 0.0]  # パラメータ a, b, c, d の初期推定値\n",
    "\n",
    "# tanh関数のパラメータを推定\n",
    "params, covariance = curve_fit(tanh_function, x, y, p0=initial_guess)\n",
    "\n",
    "# プロット\n",
    "plt.figure(figsize=(10, 5))\n",
    "plt.scatter(x, y, marker='+', color='purple', label='Data')\n",
    "plt.xlabel('Temperature')\n",
    "plt.ylabel('$W_{sum}$')\n",
    "\n",
    "# フィッティング結果をプロットに追加\n",
    "x_fit = np.linspace(min(x), max(x), 1000)\n",
    "y_fit = tanh_function(x_fit, *params)\n",
    "plt.plot(x_fit, y_fit, 'r-', label='Fit', linewidth=2)\n",
    "\n",
    "plt.legend()\n",
    "plt.show()\n",
    "\n",
    "# フィッティングされたパラメータ\n",
    "print(\"Fitted Parameters:\")\n",
    "print(\"a:\", params[0])\n",
    "print(\"b:\", params[1])\n",
    "print(\"c:\", params[2])\n",
    "print(\"d:\", params[3])\n"
   ]
  },
  {
   "cell_type": "markdown",
   "metadata": {},
   "source": [
    "相転移点の算出"
   ]
  },
  {
   "cell_type": "code",
   "execution_count": 84,
   "metadata": {},
   "outputs": [
    {
     "name": "stdout",
     "output_type": "stream",
     "text": [
      "Fitted Center X: 35.1642962531592\n",
      "beta: 0.48415592931845886\n"
     ]
    }
   ],
   "source": [
    "center_x = -params[2] / params[1]\n",
    "print(\"Fitted Center X:\", center_x)\n",
    "\n",
    "beta = (0.0080808080808081 * center_x) + 0.2\n",
    "print(\"beta:\", beta)"
   ]
  },
  {
   "cell_type": "code",
   "execution_count": null,
   "metadata": {},
   "outputs": [],
   "source": []
  },
  {
   "cell_type": "code",
   "execution_count": null,
   "metadata": {},
   "outputs": [],
   "source": []
  }
 ],
 "metadata": {
  "kernelspec": {
   "display_name": "base",
   "language": "python",
   "name": "python3"
  },
  "language_info": {
   "codemirror_mode": {
    "name": "ipython",
    "version": 3
   },
   "file_extension": ".py",
   "mimetype": "text/x-python",
   "name": "python",
   "nbconvert_exporter": "python",
   "pygments_lexer": "ipython3",
   "version": "3.9.12"
  }
 },
 "nbformat": 4,
 "nbformat_minor": 2
}
