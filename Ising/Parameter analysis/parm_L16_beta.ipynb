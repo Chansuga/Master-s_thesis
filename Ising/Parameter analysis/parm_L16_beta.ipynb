{
 "cells": [
  {
   "cell_type": "code",
   "execution_count": 1,
   "metadata": {},
   "outputs": [],
   "source": [
    "import torch\n",
    "import numpy as np\n",
    "import matplotlib.pyplot as plt\n"
   ]
  },
  {
   "cell_type": "code",
   "execution_count": 2,
   "metadata": {},
   "outputs": [
    {
     "data": {
      "text/plain": [
       "OrderedDict([('conv.1.weight',\n",
       "              tensor([[[[-0.1150,  0.2896, -0.5591, -1.0493],\n",
       "                        [-0.3246,  0.3497,  0.5051, -0.5417],\n",
       "                        [-0.6192,  0.6018,  0.6735,  0.6919],\n",
       "                        [ 0.1456,  0.3314,  0.3347,  0.5640]]],\n",
       "              \n",
       "              \n",
       "                      [[[-0.0942, -0.1957, -0.4545, -0.2027],\n",
       "                        [-0.4629, -0.5314, -0.3367, -0.3210],\n",
       "                        [-0.5025, -0.6102, -0.5572, -0.4689],\n",
       "                        [-0.4349, -0.5294, -0.4850, -0.2118]]],\n",
       "              \n",
       "              \n",
       "                      [[[-0.2595, -0.4715, -0.2729,  0.4141],\n",
       "                        [-0.3398, -0.0702,  0.9069,  0.3594],\n",
       "                        [ 0.4588,  0.1453, -0.2461, -0.2223],\n",
       "                        [-0.5209,  0.8320,  0.3295, -0.5364]]],\n",
       "              \n",
       "              \n",
       "                      [[[-0.3537, -0.5125, -0.5498, -0.4917],\n",
       "                        [-0.3899, -0.7135, -0.5503, -0.6389],\n",
       "                        [-0.2621, -0.4979, -0.3997, -0.4197],\n",
       "                        [-0.4791, -0.2994, -0.4792, -0.2773]]],\n",
       "              \n",
       "              \n",
       "                      [[[ 0.3146,  0.2686, -0.2947,  0.7707],\n",
       "                        [-0.0738, -0.6844, -0.6767,  0.6492],\n",
       "                        [ 0.5925,  0.0766,  0.3710, -0.5578],\n",
       "                        [-0.3466,  0.1728, -0.2023,  0.6466]]]])),\n",
       "             ('conv.1.bias',\n",
       "              tensor([ 1.2479, -0.5828,  0.4851, -0.6430,  1.0088])),\n",
       "             ('fc.0.weight',\n",
       "              tensor([[ 0.1968,  0.1537, -0.0631,  ...,  0.2290,  0.3570,  0.3577],\n",
       "                      [ 0.3499,  0.2077,  0.3341,  ..., -0.0635,  0.3763,  0.2901],\n",
       "                      [ 0.2249,  0.1875,  0.2959,  ...,  0.0234, -0.0677,  0.1149],\n",
       "                      ...,\n",
       "                      [-0.0719, -0.0701, -0.0749,  ..., -0.0588, -0.0668, -0.0556],\n",
       "                      [-0.0709, -0.0692, -0.0749,  ..., -0.0590, -0.0657, -0.0562],\n",
       "                      [-0.4607,  0.1333, -0.1047,  ..., -0.0019, -0.0243, -0.3068]])),\n",
       "             ('fc.0.bias',\n",
       "              tensor([ 0.2669,  0.3285,  0.1562,  0.0324,  0.0170,  0.0152,  0.0689, -0.0591,\n",
       "                      -0.1429,  0.0196, -0.1462, -0.1116, -0.0523, -0.0488,  0.0633, -0.0402,\n",
       "                      -0.0560, -0.0305, -0.0513, -0.0565, -0.0330, -0.0542, -0.0538, -0.0551,\n",
       "                      -0.0417]))])"
      ]
     },
     "execution_count": 2,
     "metadata": {},
     "output_type": "execute_result"
    }
   ],
   "source": [
    "model = torch.load('data_storage/CNN_L16_beta.pth')\n",
    "model"
   ]
  },
  {
   "cell_type": "code",
   "execution_count": 3,
   "metadata": {},
   "outputs": [
    {
     "data": {
      "text/plain": [
       "tensor([[[[-0.1150,  0.2896, -0.5591, -1.0493],\n",
       "          [-0.3246,  0.3497,  0.5051, -0.5417],\n",
       "          [-0.6192,  0.6018,  0.6735,  0.6919],\n",
       "          [ 0.1456,  0.3314,  0.3347,  0.5640]]],\n",
       "\n",
       "\n",
       "        [[[-0.0942, -0.1957, -0.4545, -0.2027],\n",
       "          [-0.4629, -0.5314, -0.3367, -0.3210],\n",
       "          [-0.5025, -0.6102, -0.5572, -0.4689],\n",
       "          [-0.4349, -0.5294, -0.4850, -0.2118]]],\n",
       "\n",
       "\n",
       "        [[[-0.2595, -0.4715, -0.2729,  0.4141],\n",
       "          [-0.3398, -0.0702,  0.9069,  0.3594],\n",
       "          [ 0.4588,  0.1453, -0.2461, -0.2223],\n",
       "          [-0.5209,  0.8320,  0.3295, -0.5364]]],\n",
       "\n",
       "\n",
       "        [[[-0.3537, -0.5125, -0.5498, -0.4917],\n",
       "          [-0.3899, -0.7135, -0.5503, -0.6389],\n",
       "          [-0.2621, -0.4979, -0.3997, -0.4197],\n",
       "          [-0.4791, -0.2994, -0.4792, -0.2773]]],\n",
       "\n",
       "\n",
       "        [[[ 0.3146,  0.2686, -0.2947,  0.7707],\n",
       "          [-0.0738, -0.6844, -0.6767,  0.6492],\n",
       "          [ 0.5925,  0.0766,  0.3710, -0.5578],\n",
       "          [-0.3466,  0.1728, -0.2023,  0.6466]]]])"
      ]
     },
     "execution_count": 3,
     "metadata": {},
     "output_type": "execute_result"
    }
   ],
   "source": [
    "# conv.1.weightの重みテンソルを取得\n",
    "conv1_weight = model['conv.1.weight']\n",
    "conv1_weight"
   ]
  },
  {
   "cell_type": "code",
   "execution_count": 4,
   "metadata": {},
   "outputs": [],
   "source": [
    "# NumPy配列に変換\n",
    "conv1_weight_np = conv1_weight.detach().cpu().numpy()"
   ]
  },
  {
   "cell_type": "code",
   "execution_count": 5,
   "metadata": {},
   "outputs": [
    {
     "data": {
      "image/png": "[encoded data removed]",
      "text/plain": [
       "<Figure size 1200x400 with 10 Axes>"
      ]
     },
     "metadata": {},
     "output_type": "display_data"
    }
   ],
   "source": [
    "# 各重みフィルターに対して成分の和を計算\n",
    "filter_sums = [np.sum(filter) for filter in conv1_weight_np]\n",
    "\n",
    "# 5つの重みフィルターとその成分の和を1つの図にプロット\n",
    "plt.figure(figsize=(12, 4))\n",
    "for i in range(5):\n",
    "    plt.subplot(2, 5, i+1)\n",
    "    plt.imshow(conv1_weight_np[i, 0], cmap='coolwarm', interpolation='nearest')\n",
    "    plt.title(f'Filter {i+1}')\n",
    "    plt.axis('off')\n",
    "    \n",
    "    plt.subplot(2, 5, i+6)\n",
    "    plt.text(0.5, 0.5, f'Sum: {filter_sums[i]:.2f}', fontsize=12, ha='center')\n",
    "    plt.axis('off')\n",
    "\n",
    "plt.suptitle('Conv1 Weight Heatmaps and Sums', fontsize=16)\n",
    "plt.tight_layout(rect=[0, 0, 1, 0.95])\n",
    "plt.show()"
   ]
  },
  {
   "cell_type": "code",
   "execution_count": 6,
   "metadata": {},
   "outputs": [
    {
     "data": {
      "text/plain": [
       "tensor([[ 0.1968,  0.1537, -0.0631,  ...,  0.2290,  0.3570,  0.3577],\n",
       "        [ 0.3499,  0.2077,  0.3341,  ..., -0.0635,  0.3763,  0.2901],\n",
       "        [ 0.2249,  0.1875,  0.2959,  ...,  0.0234, -0.0677,  0.1149],\n",
       "        ...,\n",
       "        [-0.0719, -0.0701, -0.0749,  ..., -0.0588, -0.0668, -0.0556],\n",
       "        [-0.0709, -0.0692, -0.0749,  ..., -0.0590, -0.0657, -0.0562],\n",
       "        [-0.4607,  0.1333, -0.1047,  ..., -0.0019, -0.0243, -0.3068]])"
      ]
     },
     "execution_count": 6,
     "metadata": {},
     "output_type": "execute_result"
    }
   ],
   "source": [
    "fc_weight = model['fc.0.weight']\n",
    "fc_weight"
   ]
  },
  {
   "cell_type": "code",
   "execution_count": 7,
   "metadata": {},
   "outputs": [
    {
     "data": {
      "text/plain": [
       "torch.Size([25, 80])"
      ]
     },
     "execution_count": 7,
     "metadata": {},
     "output_type": "execute_result"
    }
   ],
   "source": [
    "fc_weight.size()"
   ]
  },
  {
   "cell_type": "code",
   "execution_count": 8,
   "metadata": {},
   "outputs": [],
   "source": [
    "# NumPy配列に変換\n",
    "fc_weight_np = fc_weight.detach().cpu().numpy()\n",
    "# データを転置して正方形のデータに変形\n",
    "fc_weight_np_square = fc_weight_np.T"
   ]
  },
  {
   "cell_type": "code",
   "execution_count": 9,
   "metadata": {},
   "outputs": [
    {
     "data": {
      "text/plain": [
       "array([[ 0.19683278,  0.34993646,  0.22493733, ..., -0.07188074,\n",
       "        -0.07091886, -0.460719  ],\n",
       "       [ 0.15368727,  0.20769058,  0.18752483, ..., -0.07006338,\n",
       "        -0.06921932,  0.13331954],\n",
       "       [-0.06306052,  0.33406603,  0.29591545, ..., -0.07488637,\n",
       "        -0.07485462, -0.10465402],\n",
       "       ...,\n",
       "       [ 0.22897473, -0.06346506,  0.02336722, ..., -0.05882154,\n",
       "        -0.0589532 , -0.00185408],\n",
       "       [ 0.35699525,  0.3762572 , -0.06773363, ..., -0.06681782,\n",
       "        -0.06571666, -0.02430072],\n",
       "       [ 0.3576631 ,  0.2900694 ,  0.11490669, ..., -0.05564649,\n",
       "        -0.05622465, -0.306807  ]], dtype=float32)"
      ]
     },
     "execution_count": 9,
     "metadata": {},
     "output_type": "execute_result"
    }
   ],
   "source": [
    "fc_weight_np_square"
   ]
  },
  {
   "cell_type": "code",
   "execution_count": 10,
   "metadata": {},
   "outputs": [
    {
     "data": {
      "text/plain": [
       "(80, 25)"
      ]
     },
     "execution_count": 10,
     "metadata": {},
     "output_type": "execute_result"
    }
   ],
   "source": [
    "fc_weight_np_square.shape"
   ]
  },
  {
   "cell_type": "code",
   "execution_count": 11,
   "metadata": {},
   "outputs": [
    {
     "data": {
      "image/png": "[encoded data removed]",
      "text/plain": [
       "<Figure size 600x600 with 2 Axes>"
      ]
     },
     "metadata": {},
     "output_type": "display_data"
    }
   ],
   "source": [
    "# ヒートマップをプロット（白黒）\n",
    "plt.figure(figsize=(6, 6))\n",
    "plt.imshow(fc_weight_np_square, cmap='gray', interpolation='nearest', aspect=0.5, origin='lower')\n",
    "#plt.imshow(fc_weight_np_square, cmap='gray', interpolation='nearest', aspect=0.03, origin='lower')\n",
    "plt.colorbar()\n",
    "plt.title('Grayscale Heatmap')\n",
    "\n",
    "\n",
    "# x軸とy軸に名前を付ける\n",
    "plt.ylabel('weight')\n",
    "\n",
    "plt.show()"
   ]
  },
  {
   "cell_type": "code",
   "execution_count": 12,
   "metadata": {},
   "outputs": [
    {
     "data": {
      "text/plain": [
       "array([ -0.8620377 ,  -1.29671   ,  -0.7091541 ,  -0.5119067 ,\n",
       "         0.49535626,  -0.5948779 ,   0.5632608 ,  -0.26800823,\n",
       "         0.77932155,  -1.7121469 ,  -3.3637648 ,  -7.116214  ,\n",
       "        -4.906398  ,  -4.9184427 , -22.133398  , -29.60566   ,\n",
       "        -4.870803  ,  -4.900283  ,  -4.88995   ,  -4.9043546 ,\n",
       "        -9.348757  ,  -4.872367  ,  -4.862441  ,  -4.8861017 ,\n",
       "        -8.603916  ], dtype=float32)"
      ]
     },
     "execution_count": 12,
     "metadata": {},
     "output_type": "execute_result"
    }
   ],
   "source": [
    "fc_weight_np_square_sum = np.sum(fc_weight_np_square, axis=0)\n",
    "fc_weight_np_square_sum"
   ]
  },
  {
   "cell_type": "code",
   "execution_count": 13,
   "metadata": {},
   "outputs": [
    {
     "data": {
      "image/png": "[encoded data removed]",
      "text/plain": [
       "<Figure size 1000x500 with 1 Axes>"
      ]
     },
     "metadata": {},
     "output_type": "display_data"
    }
   ],
   "source": [
    "x = [x*0.04 for x in range(len(fc_weight_np_square_sum))]\n",
    "y = fc_weight_np_square_sum\n",
    "\n",
    "# プロット\n",
    "plt.figure(figsize=(10, 5))\n",
    "plt.scatter(x, y, marker='+', color='purple')\n",
    "plt.xlabel('beta')\n",
    "plt.ylabel('$W_{sum}$')\n",
    "\n",
    "plt.show()"
   ]
  },
  {
   "cell_type": "code",
   "execution_count": 14,
   "metadata": {},
   "outputs": [
    {
     "name": "stdout",
     "output_type": "stream",
     "text": [
      "-0.071635194\n",
      "-0.06981806\n",
      "-0.0745059\n",
      "-0.06689647\n",
      "-0.06768139\n",
      "-0.07074275\n",
      "-0.07793627\n",
      "-0.06563491\n",
      "-0.06712385\n",
      "-0.06524974\n",
      "-0.06384676\n",
      "-0.07823732\n",
      "-0.07733438\n",
      "-0.066295184\n",
      "-0.067024074\n",
      "-0.07971194\n",
      "-0.06563258\n",
      "-0.06800662\n",
      "-0.055379298\n",
      "-0.06298219\n",
      "-0.065524034\n",
      "-0.059809104\n",
      "-0.058325205\n",
      "-0.06147316\n",
      "-0.06512563\n",
      "-0.062640175\n",
      "-0.063205905\n",
      "-0.060688447\n",
      "-0.061009042\n",
      "-0.06759961\n",
      "-0.06900759\n",
      "-0.056787837\n",
      "-0.049741816\n",
      "-0.042798504\n",
      "-0.053344406\n",
      "-0.047682002\n",
      "-0.042147003\n",
      "-0.045618396\n",
      "-0.036709387\n",
      "-0.043873373\n",
      "-0.033400755\n",
      "-0.04670669\n",
      "-0.04343505\n",
      "-0.041694\n",
      "-0.03981479\n",
      "-0.04549563\n",
      "-0.0355293\n",
      "-0.04193247\n",
      "-0.072029375\n",
      "-0.07373661\n",
      "-0.06376535\n",
      "-0.06807021\n",
      "-0.070477396\n",
      "-0.066198416\n",
      "-0.06403315\n",
      "-0.06730828\n",
      "-0.06916099\n",
      "-0.06693583\n",
      "-0.069762595\n",
      "-0.06966203\n",
      "-0.06783942\n",
      "-0.07249606\n",
      "-0.07389725\n",
      "-0.06607164\n",
      "-0.052854884\n",
      "-0.062093455\n",
      "-0.05333725\n",
      "-0.059690647\n",
      "-0.060637288\n",
      "-0.059523772\n",
      "-0.057116598\n",
      "-0.0583078\n",
      "-0.060364574\n",
      "-0.06362031\n",
      "-0.06855542\n",
      "-0.05837981\n",
      "-0.052956242\n",
      "-0.05870075\n",
      "-0.066271044\n",
      "-0.055718347\n"
     ]
    }
   ],
   "source": [
    "for j in range(80):\n",
    "    print(fc_weight_np_square[j,21])"
   ]
  },
  {
   "cell_type": "code",
   "execution_count": 15,
   "metadata": {},
   "outputs": [
    {
     "data": {
      "text/plain": [
       "-0.460719"
      ]
     },
     "execution_count": 15,
     "metadata": {},
     "output_type": "execute_result"
    }
   ],
   "source": [
    "fc_weight_np_square[0,24]"
   ]
  },
  {
   "cell_type": "code",
   "execution_count": null,
   "metadata": {},
   "outputs": [],
   "source": []
  }
 ],
 "metadata": {
  "kernelspec": {
   "display_name": "Python 3 (ipykernel)",
   "language": "python",
   "name": "python3"
  },
  "language_info": {
   "codemirror_mode": {
    "name": "ipython",
    "version": 3
   },
   "file_extension": ".py",
   "mimetype": "text/x-python",
   "name": "python",
   "nbconvert_exporter": "python",
   "pygments_lexer": "ipython3",
   "version": "3.10.9"
  }
 },
 "nbformat": 4,
 "nbformat_minor": 2
}
