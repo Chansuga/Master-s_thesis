{
 "cells": [
  {
   "cell_type": "code",
   "execution_count": 1,
   "metadata": {},
   "outputs": [],
   "source": [
    "import torch\n",
    "import numpy as np\n",
    "import matplotlib.pyplot as plt\n"
   ]
  },
  {
   "cell_type": "code",
   "execution_count": 2,
   "metadata": {},
   "outputs": [
    {
     "data": {
      "text/plain": [
       "OrderedDict([('fc1.weight',\n",
       "              tensor([[-0.0343,  0.0455,  0.0608,  ..., -0.0343, -0.0541, -0.0139],\n",
       "                      [ 0.0104, -0.0732, -0.0045,  ...,  0.0303,  0.1923,  0.0070],\n",
       "                      [-0.0894, -0.0040,  0.1340,  ...,  0.0207, -0.0685,  0.0656],\n",
       "                      ...,\n",
       "                      [-0.0297,  0.0247,  0.0785,  ..., -0.0514, -0.0206, -0.0251],\n",
       "                      [ 0.0331, -0.0580, -0.0115,  ..., -0.0152,  0.1017,  0.0908],\n",
       "                      [-0.0765, -0.0816, -0.1115,  ..., -0.0367, -0.0493, -0.0595]])),\n",
       "             ('fc1.bias',\n",
       "              tensor([-0.4011,  0.2954, -0.3690,  0.5780,  0.1038, -0.3473,  0.3174, -0.4599,\n",
       "                       0.5158,  0.1276,  0.4326, -0.0822, -0.0782, -0.1400,  0.2797, -0.1541,\n",
       "                       0.2873,  0.3108,  0.4644,  0.1449,  0.1820, -0.2982,  0.1681, -0.3459,\n",
       "                      -0.3038,  0.1777, -0.3011,  0.3983,  0.2538,  0.2591, -0.2224,  0.2603,\n",
       "                       0.1791,  0.6199,  0.1316, -0.2926, -0.3129, -0.2143, -0.4781,  0.2119,\n",
       "                      -0.1456,  0.1132, -0.2012, -0.3486, -0.2967, -0.2764,  0.3599,  0.4025,\n",
       "                      -0.4388, -0.3635, -0.4413,  0.2415, -0.4534,  0.1224,  0.3540, -0.3431,\n",
       "                       0.3728,  0.5887,  0.1888,  0.2405, -0.1814, -0.1621, -0.1215, -0.3991,\n",
       "                      -0.3544, -0.3864, -0.2101,  0.4346,  0.2491, -0.0793, -0.2759,  0.2244,\n",
       "                      -0.2764, -0.3720, -0.0294,  0.0514, -0.0110,  0.1673,  0.2440,  0.3376,\n",
       "                      -0.2681, -0.1743,  0.1652, -0.4859, -0.2387,  0.0768,  0.2656,  0.1040,\n",
       "                       0.2539,  0.3545,  0.1472,  0.2538, -0.0149,  0.1755,  0.4105, -0.4887,\n",
       "                      -0.0672,  0.4630, -0.2444, -0.2934])),\n",
       "             ('fc2.weight',\n",
       "              tensor([[-1.8566e-02,  2.3293e-02,  1.8221e-02,  ..., -5.4906e-02,\n",
       "                        1.7817e-01, -3.7320e-02],\n",
       "                      [ 7.8968e-03, -1.3095e-01, -3.8560e-03,  ..., -9.4009e-02,\n",
       "                        2.0400e-01,  1.0673e-01],\n",
       "                      [ 1.0156e-01,  3.9623e-04, -1.4019e-01,  ..., -4.1776e-02,\n",
       "                       -2.6997e-01,  1.6062e-01],\n",
       "                      ...,\n",
       "                      [-1.2475e-01,  9.0516e-02,  2.8741e-01,  ..., -1.2610e-01,\n",
       "                       -4.9193e-01, -2.4723e-01],\n",
       "                      [-5.5478e-01, -1.8870e-01, -5.1128e-01,  ..., -3.6345e-01,\n",
       "                       -8.2740e-02, -4.5647e-01],\n",
       "                      [-5.9093e-01,  2.3789e-01, -5.6952e-01,  ...,  3.5810e-01,\n",
       "                       -1.5141e-01, -2.3670e-01]])),\n",
       "             ('fc2.bias',\n",
       "              tensor([-0.0459, -0.1158, -0.0933, -0.1496, -0.1507, -0.1553, -0.2873, -0.2301,\n",
       "                      -0.3496, -0.3077, -0.1010, -0.0855,  0.0827,  0.0883,  0.1738, -0.0906,\n",
       "                       0.2405,  0.2468,  0.2585,  0.2018,  0.1709,  0.2140,  0.2123,  0.3113,\n",
       "                       0.3379]))])"
      ]
     },
     "execution_count": 2,
     "metadata": {},
     "output_type": "execute_result"
    }
   ],
   "source": [
    "model = torch.load('data_storage/FCNN_L16.pth')\n",
    "model"
   ]
  },
  {
   "cell_type": "code",
   "execution_count": 5,
   "metadata": {},
   "outputs": [
    {
     "data": {
      "text/plain": [
       "tensor([[-0.0343,  0.0455,  0.0608,  ..., -0.0343, -0.0541, -0.0139],\n",
       "        [ 0.0104, -0.0732, -0.0045,  ...,  0.0303,  0.1923,  0.0070],\n",
       "        [-0.0894, -0.0040,  0.1340,  ...,  0.0207, -0.0685,  0.0656],\n",
       "        ...,\n",
       "        [-0.0297,  0.0247,  0.0785,  ..., -0.0514, -0.0206, -0.0251],\n",
       "        [ 0.0331, -0.0580, -0.0115,  ..., -0.0152,  0.1017,  0.0908],\n",
       "        [-0.0765, -0.0816, -0.1115,  ..., -0.0367, -0.0493, -0.0595]])"
      ]
     },
     "execution_count": 5,
     "metadata": {},
     "output_type": "execute_result"
    }
   ],
   "source": [
    "# fc1.weightの重みテンソルを取得\n",
    "fc1_weight = model['fc1.weight']\n",
    "fc1_weight"
   ]
  },
  {
   "cell_type": "code",
   "execution_count": 6,
   "metadata": {},
   "outputs": [],
   "source": [
    "# NumPy配列に変換\n",
    "fc1_weightt_np = fc1_weight.numpy()"
   ]
  },
  {
   "cell_type": "code",
   "execution_count": 10,
   "metadata": {},
   "outputs": [
    {
     "data": {
      "text/plain": [
       "(100, 256)"
      ]
     },
     "execution_count": 10,
     "metadata": {},
     "output_type": "execute_result"
    }
   ],
   "source": [
    "fc1_weightt_np.shape"
   ]
  },
  {
   "cell_type": "code",
   "execution_count": 11,
   "metadata": {},
   "outputs": [
    {
     "data": {
      "text/plain": [
       "tensor([[-1.8566e-02,  2.3293e-02,  1.8221e-02,  ..., -5.4906e-02,\n",
       "          1.7817e-01, -3.7320e-02],\n",
       "        [ 7.8968e-03, -1.3095e-01, -3.8560e-03,  ..., -9.4009e-02,\n",
       "          2.0400e-01,  1.0673e-01],\n",
       "        [ 1.0156e-01,  3.9623e-04, -1.4019e-01,  ..., -4.1776e-02,\n",
       "         -2.6997e-01,  1.6062e-01],\n",
       "        ...,\n",
       "        [-1.2475e-01,  9.0516e-02,  2.8741e-01,  ..., -1.2610e-01,\n",
       "         -4.9193e-01, -2.4723e-01],\n",
       "        [-5.5478e-01, -1.8870e-01, -5.1128e-01,  ..., -3.6345e-01,\n",
       "         -8.2740e-02, -4.5647e-01],\n",
       "        [-5.9093e-01,  2.3789e-01, -5.6952e-01,  ...,  3.5810e-01,\n",
       "         -1.5141e-01, -2.3670e-01]])"
      ]
     },
     "execution_count": 11,
     "metadata": {},
     "output_type": "execute_result"
    }
   ],
   "source": [
    "# fc2.weightの重みテンソルを取得\n",
    "fc2_weight = model['fc2.weight']\n",
    "fc2_weight"
   ]
  },
  {
   "cell_type": "code",
   "execution_count": 12,
   "metadata": {},
   "outputs": [],
   "source": [
    "# NumPy配列に変換\n",
    "fc2_weightt_np = fc2_weight.numpy()"
   ]
  },
  {
   "cell_type": "code",
   "execution_count": 13,
   "metadata": {},
   "outputs": [
    {
     "data": {
      "text/plain": [
       "(25, 100)"
      ]
     },
     "execution_count": 13,
     "metadata": {},
     "output_type": "execute_result"
    }
   ],
   "source": [
    "fc2_weightt_np.shape"
   ]
  },
  {
   "cell_type": "code",
   "execution_count": 14,
   "metadata": {},
   "outputs": [],
   "source": [
    "# データを転置\n",
    "fc2_weightt_np_T = fc2_weightt_np.T"
   ]
  },
  {
   "cell_type": "code",
   "execution_count": 15,
   "metadata": {},
   "outputs": [
    {
     "data": {
      "text/plain": [
       "array([[-1.85663085e-02,  7.89676979e-03,  1.01561561e-01, ...,\n",
       "        -1.24752924e-01, -5.54775059e-01, -5.90928555e-01],\n",
       "       [ 2.32932586e-02, -1.30951330e-01,  3.96233518e-04, ...,\n",
       "         9.05161649e-02, -1.88703284e-01,  2.37890914e-01],\n",
       "       [ 1.82212126e-02, -3.85595090e-03, -1.40192792e-01, ...,\n",
       "         2.87409276e-01, -5.11277616e-01, -5.69521308e-01],\n",
       "       ...,\n",
       "       [-5.49061745e-02, -9.40092877e-02, -4.17763479e-02, ...,\n",
       "        -1.26096070e-01, -3.63447487e-01,  3.58102381e-01],\n",
       "       [ 1.78171903e-01,  2.04003111e-01, -2.69966006e-01, ...,\n",
       "        -4.91931885e-01, -8.27398151e-02, -1.51412949e-01],\n",
       "       [-3.73204574e-02,  1.06727831e-01,  1.60619691e-01, ...,\n",
       "        -2.47232035e-01, -4.56473619e-01, -2.36697450e-01]], dtype=float32)"
      ]
     },
     "execution_count": 15,
     "metadata": {},
     "output_type": "execute_result"
    }
   ],
   "source": [
    "fc2_weightt_np_T"
   ]
  },
  {
   "cell_type": "code",
   "execution_count": 16,
   "metadata": {},
   "outputs": [
    {
     "data": {
      "text/plain": [
       "(100, 25)"
      ]
     },
     "execution_count": 16,
     "metadata": {},
     "output_type": "execute_result"
    }
   ],
   "source": [
    "fc2_weightt_np_T.shape"
   ]
  },
  {
   "cell_type": "code",
   "execution_count": 17,
   "metadata": {},
   "outputs": [
    {
     "data": {
      "image/png": "[encoded data removed]",
      "text/plain": [
       "<Figure size 600x600 with 2 Axes>"
      ]
     },
     "metadata": {},
     "output_type": "display_data"
    }
   ],
   "source": [
    "# ヒートマップをプロット（白黒）\n",
    "plt.figure(figsize=(6, 6))\n",
    "plt.imshow(fc2_weightt_np_T, cmap='gray', interpolation='nearest', aspect=0.30, origin='lower')\n",
    "plt.colorbar()\n",
    "plt.title('Grayscale Heatmap')\n",
    "\n",
    "\n",
    "# x軸とy軸に名前を付ける\n",
    "plt.ylabel('weight')\n",
    "\n",
    "plt.show()"
   ]
  },
  {
   "cell_type": "code",
   "execution_count": 18,
   "metadata": {},
   "outputs": [
    {
     "data": {
      "text/plain": [
       "array([ 9.5799321e-01, -2.2409234e+00, -4.9736387e-01, -1.2076814e-01,\n",
       "       -1.2197820e-01, -1.4479834e-01, -3.1232350e+00,  4.7704315e-01,\n",
       "       -1.4246361e+00,  1.6579885e+00,  3.0143955e+00, -2.5268672e-03,\n",
       "       -2.7331560e+00, -6.3333666e-01,  3.4854681e+00, -1.0017884e-01,\n",
       "        1.7313255e+00,  3.7192419e+00,  5.3177271e+00,  5.4647865e+00,\n",
       "       -4.1775522e+00, -5.3256339e-01, -6.7642765e+00, -2.9781344e+00,\n",
       "        5.1450092e-01], dtype=float32)"
      ]
     },
     "execution_count": 18,
     "metadata": {},
     "output_type": "execute_result"
    }
   ],
   "source": [
    "fc_weight_np_square_sum = np.sum(fc2_weightt_np_T, axis=0)\n",
    "fc_weight_np_square_sum"
   ]
  },
  {
   "cell_type": "code",
   "execution_count": 20,
   "metadata": {},
   "outputs": [
    {
     "data": {
      "text/plain": [
       "(25,)"
      ]
     },
     "execution_count": 20,
     "metadata": {},
     "output_type": "execute_result"
    }
   ],
   "source": [
    "fc_weight_np_square_sum.shape"
   ]
  },
  {
   "cell_type": "code",
   "execution_count": 19,
   "metadata": {},
   "outputs": [
    {
     "data": {
      "image/png": "[encoded data removed]",
      "text/plain": [
       "<Figure size 1000x500 with 1 Axes>"
      ]
     },
     "metadata": {},
     "output_type": "display_data"
    }
   ],
   "source": [
    "x = [x*0.25 for x in range(len(fc_weight_np_square_sum))]\n",
    "y = fc_weight_np_square_sum\n",
    "\n",
    "# プロット\n",
    "plt.figure(figsize=(10, 5))\n",
    "plt.scatter(x, y, marker='+', color='purple')\n",
    "plt.xlabel('temperture')\n",
    "plt.ylabel('$W_{sum}$')\n",
    "\n",
    "plt.show()"
   ]
  },
  {
   "cell_type": "code",
   "execution_count": 52,
   "metadata": {},
   "outputs": [
    {
     "data": {
      "text/plain": [
       "[0,\n",
       " 4.0,\n",
       " 2.0,\n",
       " 1.3333333333333333,\n",
       " 1.0,\n",
       " 0.8,\n",
       " 0.6666666666666666,\n",
       " 0.5714285714285714,\n",
       " 0.5,\n",
       " 0.4444444444444444,\n",
       " 0.4,\n",
       " 0.36363636363636365,\n",
       " 0.3333333333333333,\n",
       " 0.3076923076923077,\n",
       " 0.2857142857142857,\n",
       " 0.26666666666666666,\n",
       " 0.25,\n",
       " 0.23529411764705882,\n",
       " 0.2222222222222222,\n",
       " 0.21052631578947367,\n",
       " 0.2,\n",
       " 0.19047619047619047,\n",
       " 0.18181818181818182,\n",
       " 0.17391304347826086,\n",
       " 0.16666666666666666]"
      ]
     },
     "execution_count": 52,
     "metadata": {},
     "output_type": "execute_result"
    }
   ],
   "source": [
    "x_inverse = []\n",
    "for val in x:\n",
    "    if val != 0:\n",
    "        x_inverse.append(1 / val)\n",
    "    else:\n",
    "        x_inverse.append(0)  # ゼロで割り算を避けるため\n",
    "\n",
    "x_inverse"
   ]
  },
  {
   "cell_type": "code",
   "execution_count": 65,
   "metadata": {},
   "outputs": [
    {
     "data": {
      "image/png": "[encoded data removed]",
      "text/plain": [
       "<Figure size 1000x500 with 1 Axes>"
      ]
     },
     "metadata": {},
     "output_type": "display_data"
    }
   ],
   "source": [
    "x = [x*0.25 for x in range(len(fc_weight_np_square_sum))]\n",
    "y = fc_weight_np_square_sum\n",
    "\n",
    "# x軸の値を逆数に変換\n",
    "x_inverse = []\n",
    "for val in x:\n",
    "    if val != 0:\n",
    "        x_inverse.append(1 / val)\n",
    "    else:\n",
    "        x_inverse.append(0)  # ゼロで割り算を避けるため\n",
    "\n",
    "# プロット\n",
    "plt.figure(figsize=(10, 5))\n",
    "plt.scatter(x_inverse, y, marker='+', color='purple')\n",
    "plt.xlabel('$beta$')\n",
    "plt.ylabel('$W_{sum}$')\n",
    "\n",
    "# x軸の範囲を指定\n",
    "plt.xlim(0.2, 1) \n",
    "\n",
    "plt.show()"
   ]
  },
  {
   "cell_type": "code",
   "execution_count": null,
   "metadata": {},
   "outputs": [],
   "source": []
  }
 ],
 "metadata": {
  "kernelspec": {
   "display_name": "base",
   "language": "python",
   "name": "python3"
  },
  "language_info": {
   "codemirror_mode": {
    "name": "ipython",
    "version": 3
   },
   "file_extension": ".py",
   "mimetype": "text/x-python",
   "name": "python",
   "nbconvert_exporter": "python",
   "pygments_lexer": "ipython3",
   "version": "3.9.13"
  }
 },
 "nbformat": 4,
 "nbformat_minor": 2
}
