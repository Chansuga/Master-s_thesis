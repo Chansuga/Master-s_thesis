{
 "cells": [
  {
   "cell_type": "code",
   "execution_count": 1,
   "metadata": {},
   "outputs": [],
   "source": [
    "import os\n",
    "import torch\n",
    "import torch.nn as nn\n",
    "import torch.optim as optim\n",
    "import torch.nn.functional as F\n",
    "from torchvision import transforms\n",
    "from torch.utils.data import DataLoader, TensorDataset\n",
    "import matplotlib.pyplot as plt\n",
    "import pickle\n",
    "from sklearn.model_selection import train_test_split"
   ]
  },
  {
   "cell_type": "code",
   "execution_count": 2,
   "metadata": {},
   "outputs": [
    {
     "data": {
      "text/plain": [
       "'cuda'"
      ]
     },
     "execution_count": 2,
     "metadata": {},
     "output_type": "execute_result"
    }
   ],
   "source": [
    "# cudaが使えるか確認\n",
    "device = \"cuda\" if torch.cuda.is_available() else \"cpu\"\n",
    "device"
   ]
  },
  {
   "cell_type": "markdown",
   "metadata": {},
   "source": [
    "データの読み込み"
   ]
  },
  {
   "cell_type": "markdown",
   "metadata": {},
   "source": [
    "GPUで作ったPickleのファイルは，CPUではそのままでは使えないため，工夫が必要．\n",
    "\n",
    "https://www.kunita-gamefactory.com/post/%E3%80%90pytorch%E3%80%91gpu%E3%81%A7%E8%A8%93%E7%B7%B4%E3%81%95%E3%81%9B%E3%81%9F%E3%83%A2%E3%83%87%E3%83%AB%E3%82%92cpu%E3%81%A7%E8%AA%AD%E3%81%BF%E8%BE%BC%E3%82%82%E3%81%86%E3%81%A8%E3%81%97%E3%81%9F%E3%81%8A%E8%A9%B1\n",
    "\n",
    "を真似したらうまくCPU上でもファイルを読み込むことができるようになった．"
   ]
  },
  {
   "cell_type": "code",
   "execution_count": 3,
   "metadata": {},
   "outputs": [],
   "source": [
    "import io\n",
    "        \n",
    "class CPU_Unpickler(pickle.Unpickler):\n",
    "    def find_class(self, module, name):\n",
    "        if module == 'torch.storage' and name == '_load_from_bytes':\n",
    "            return lambda b: torch.load(io.BytesIO(b), map_location='cpu')\n",
    "        else: return super().find_class(module, name)"
   ]
  },
  {
   "cell_type": "code",
   "execution_count": 4,
   "metadata": {},
   "outputs": [],
   "source": [
    "# ファイルの相対パスを指定\n",
    "file_path = 'Data/Ising_samp_data_L16.pkl'\n",
    "\n",
    "if torch.cuda.is_available():\n",
    "    with open(file_path, 'rb') as file:\n",
    "        loaded_data = pickle.load(file, encoding='latin1')\n",
    "else:\n",
    "    with open(file_path, 'rb') as file:\n",
    "        loaded_data = CPU_Unpickler(file).load()\n",
    "        \n",
    "# 読み込んだデータを個々の変数に分割\n",
    "spin_data, temp_data = loaded_data"
   ]
  },
  {
   "cell_type": "code",
   "execution_count": 5,
   "metadata": {},
   "outputs": [
    {
     "data": {
      "text/plain": [
       "(torch.Size([25000, 16, 16]), 25000)"
      ]
     },
     "execution_count": 5,
     "metadata": {},
     "output_type": "execute_result"
    }
   ],
   "source": [
    "# データの形を確認\n",
    "spin_data.shape , len(temp_data)"
   ]
  },
  {
   "cell_type": "code",
   "execution_count": 6,
   "metadata": {},
   "outputs": [
    {
     "name": "stdout",
     "output_type": "stream",
     "text": [
      "tensor([[-1., -1., -1., -1., -1.,  1.,  1.,  1., -1.,  1.,  1.,  1.,  1., -1.,\n",
      "         -1., -1.],\n",
      "        [-1., -1.,  1.,  1.,  1.,  1.,  1.,  1.,  1.,  1.,  1.,  1., -1., -1.,\n",
      "         -1., -1.],\n",
      "        [-1., -1., -1., -1.,  1.,  1.,  1.,  1.,  1.,  1., -1., -1., -1., -1.,\n",
      "         -1., -1.],\n",
      "        [-1., -1., -1., -1., -1.,  1.,  1.,  1., -1.,  1.,  1., -1., -1., -1.,\n",
      "          1., -1.],\n",
      "        [-1., -1., -1., -1.,  1., -1., -1.,  1., -1., -1.,  1., -1., -1.,  1.,\n",
      "          1., -1.],\n",
      "        [-1.,  1., -1., -1., -1., -1.,  1.,  1., -1.,  1.,  1., -1., -1.,  1.,\n",
      "          1.,  1.],\n",
      "        [-1., -1., -1., -1., -1.,  1.,  1., -1., -1., -1.,  1., -1.,  1.,  1.,\n",
      "         -1.,  1.],\n",
      "        [-1., -1., -1., -1.,  1.,  1.,  1., -1., -1., -1., -1., -1., -1., -1.,\n",
      "         -1.,  1.],\n",
      "        [ 1., -1., -1.,  1.,  1.,  1., -1., -1., -1., -1., -1., -1.,  1.,  1.,\n",
      "          1.,  1.],\n",
      "        [-1., -1., -1., -1.,  1., -1., -1.,  1.,  1., -1.,  1.,  1.,  1.,  1.,\n",
      "          1.,  1.],\n",
      "        [ 1., -1., -1., -1., -1., -1., -1., -1.,  1.,  1., -1.,  1.,  1.,  1.,\n",
      "          1.,  1.],\n",
      "        [ 1., -1., -1., -1., -1., -1., -1., -1.,  1.,  1., -1., -1., -1., -1.,\n",
      "          1.,  1.],\n",
      "        [-1., -1., -1., -1., -1., -1., -1., -1., -1., -1., -1., -1., -1., -1.,\n",
      "         -1., -1.],\n",
      "        [-1., -1.,  1.,  1., -1., -1.,  1.,  1.,  1.,  1., -1., -1., -1., -1.,\n",
      "         -1., -1.],\n",
      "        [-1., -1.,  1.,  1., -1.,  1.,  1.,  1., -1., -1., -1.,  1., -1., -1.,\n",
      "         -1., -1.],\n",
      "        [-1., -1., -1., -1., -1.,  1.,  1.,  1., -1., -1., -1.,  1., -1., -1.,\n",
      "         -1., -1.]], device='cuda:0') 2.5\n"
     ]
    }
   ],
   "source": [
    "print(spin_data[10000], temp_data[10000])"
   ]
  },
  {
   "cell_type": "code",
   "execution_count": 7,
   "metadata": {},
   "outputs": [],
   "source": [
    "# サンプルデータを訓練用とテスト用に分割(5:5)\n",
    "spin_train, spin_test, temp_train, temp_test = train_test_split(spin_data, temp_data, test_size=0.5)"
   ]
  },
  {
   "cell_type": "code",
   "execution_count": 8,
   "metadata": {},
   "outputs": [
    {
     "name": "stderr",
     "output_type": "stream",
     "text": [
      "C:\\Users\\soken\\AppData\\Local\\Temp\\ipykernel_9904\\3927323180.py:2: UserWarning: To copy construct from a tensor, it is recommended to use sourceTensor.clone().detach() or sourceTensor.clone().detach().requires_grad_(True), rather than torch.tensor(sourceTensor).\n",
      "  spin_train = torch.tensor(spin_train, dtype=torch.float32)\n",
      "C:\\Users\\soken\\AppData\\Local\\Temp\\ipykernel_9904\\3927323180.py:3: UserWarning: To copy construct from a tensor, it is recommended to use sourceTensor.clone().detach() or sourceTensor.clone().detach().requires_grad_(True), rather than torch.tensor(sourceTensor).\n",
      "  spin_test = torch.tensor(spin_test, dtype=torch.float32)\n"
     ]
    }
   ],
   "source": [
    "# PyTorchのテンソルに変換\n",
    "spin_train = torch.tensor(spin_train, dtype=torch.float32)\n",
    "spin_test = torch.tensor(spin_test, dtype=torch.float32)\n",
    "temp_train = torch.tensor(temp_train, dtype=torch.float32).view(-1, 1)  # (25000,) -> (25000, 1)\n",
    "temp_test = torch.tensor(temp_test, dtype=torch.float32).view(-1, 1)    # (6250,) -> (6250, 1)"
   ]
  },
  {
   "cell_type": "code",
   "execution_count": 9,
   "metadata": {},
   "outputs": [
    {
     "data": {
      "text/plain": [
       "tensor([[ 1.,  1.,  1.,  1.,  1.,  1.,  1., -1., -1., -1., -1., -1., -1., -1.,\n",
       "         -1.,  1.],\n",
       "        [ 1.,  1.,  1.,  1.,  1.,  1.,  1.,  1.,  1.,  1., -1.,  1.,  1., -1.,\n",
       "         -1., -1.],\n",
       "        [-1.,  1.,  1., -1.,  1.,  1., -1., -1.,  1.,  1., -1., -1.,  1., -1.,\n",
       "         -1., -1.],\n",
       "        [-1.,  1., -1., -1.,  1.,  1., -1., -1.,  1.,  1., -1., -1.,  1.,  1.,\n",
       "         -1., -1.],\n",
       "        [-1.,  1., -1.,  1., -1., -1., -1.,  1.,  1.,  1., -1.,  1.,  1.,  1.,\n",
       "         -1., -1.],\n",
       "        [-1., -1., -1.,  1., -1., -1., -1.,  1., -1.,  1.,  1.,  1., -1., -1.,\n",
       "         -1., -1.],\n",
       "        [-1., -1.,  1.,  1.,  1.,  1., -1., -1., -1., -1.,  1.,  1.,  1., -1.,\n",
       "         -1., -1.],\n",
       "        [-1., -1., -1., -1.,  1.,  1., -1.,  1., -1.,  1., -1., -1.,  1.,  1.,\n",
       "          1., -1.],\n",
       "        [-1., -1.,  1.,  1.,  1., -1., -1.,  1.,  1.,  1., -1.,  1.,  1., -1.,\n",
       "         -1., -1.],\n",
       "        [ 1., -1.,  1.,  1.,  1., -1.,  1.,  1., -1., -1., -1.,  1., -1., -1.,\n",
       "          1.,  1.],\n",
       "        [-1., -1.,  1.,  1., -1., -1.,  1.,  1., -1., -1., -1.,  1.,  1., -1.,\n",
       "          1.,  1.],\n",
       "        [-1.,  1.,  1., -1.,  1.,  1.,  1., -1., -1., -1., -1.,  1., -1., -1.,\n",
       "         -1.,  1.],\n",
       "        [ 1., -1.,  1.,  1.,  1., -1., -1.,  1., -1., -1., -1.,  1.,  1., -1.,\n",
       "          1.,  1.],\n",
       "        [ 1.,  1.,  1.,  1.,  1.,  1., -1.,  1., -1., -1., -1., -1., -1., -1.,\n",
       "          1.,  1.],\n",
       "        [ 1.,  1.,  1., -1., -1., -1., -1., -1., -1., -1., -1., -1., -1., -1.,\n",
       "          1.,  1.],\n",
       "        [-1., -1.,  1.,  1., -1., -1.,  1.,  1.,  1., -1., -1., -1.,  1.,  1.,\n",
       "          1., -1.]], device='cuda:0')"
      ]
     },
     "execution_count": 9,
     "metadata": {},
     "output_type": "execute_result"
    }
   ],
   "source": [
    "spin_train[1]"
   ]
  },
  {
   "cell_type": "code",
   "execution_count": 10,
   "metadata": {},
   "outputs": [
    {
     "data": {
      "text/plain": [
       "tensor([5.])"
      ]
     },
     "execution_count": 10,
     "metadata": {},
     "output_type": "execute_result"
    }
   ],
   "source": [
    "temp_train[1]"
   ]
  },
  {
   "cell_type": "markdown",
   "metadata": {},
   "source": [
    "正解データはone-hot表現にする必要がある"
   ]
  },
  {
   "cell_type": "code",
   "execution_count": 11,
   "metadata": {},
   "outputs": [],
   "source": [
    "# テンソルを新しいテンソルに変換する関数を定義\n",
    "def to_one_hot(data, num_classes=25):\n",
    "    # one-hotベクトルの初期化\n",
    "    one_hot = torch.zeros(len(data), num_classes)\n",
    "    \n",
    "    # 各要素を25次元のone-hotベクトルに変換\n",
    "    for i, val in enumerate(data):\n",
    "        index = int((val - 0.01) / 0.24)  # 正しいインデックスの計算\n",
    "        one_hot[i, index] = 1.0\n",
    "    \n",
    "    return one_hot\n",
    "\n",
    "# temp_train,temp_testをone-hotベクトルに変換\n",
    "one_hot_temp_train = to_one_hot(temp_train, num_classes=25)\n",
    "one_hot_temp_test = to_one_hot(temp_test, num_classes=25)"
   ]
  },
  {
   "cell_type": "code",
   "execution_count": 12,
   "metadata": {},
   "outputs": [
    {
     "data": {
      "text/plain": [
       "tensor([0., 0., 0., 0., 0., 0., 0., 0., 0., 0., 1., 0., 0., 0., 0., 0., 0., 0.,\n",
       "        0., 0., 0., 0., 0., 0., 0.])"
      ]
     },
     "execution_count": 12,
     "metadata": {},
     "output_type": "execute_result"
    }
   ],
   "source": [
    "one_hot_temp_train[0]"
   ]
  },
  {
   "cell_type": "code",
   "execution_count": 13,
   "metadata": {},
   "outputs": [
    {
     "data": {
      "text/plain": [
       "tensor([2.5000])"
      ]
     },
     "execution_count": 13,
     "metadata": {},
     "output_type": "execute_result"
    }
   ],
   "source": [
    "temp_train[0]"
   ]
  },
  {
   "cell_type": "code",
   "execution_count": 14,
   "metadata": {},
   "outputs": [],
   "source": [
    "# データセットの作成\n",
    "train_dataset = TensorDataset(spin_train, one_hot_temp_train)\n",
    "test_dataset = TensorDataset(spin_test, one_hot_temp_test)"
   ]
  },
  {
   "cell_type": "code",
   "execution_count": 15,
   "metadata": {},
   "outputs": [
    {
     "data": {
      "text/plain": [
       "(tensor([[ 1., -1., -1., -1., -1., -1.,  1.,  1., -1., -1., -1., -1., -1.,  1.,\n",
       "          -1., -1.],\n",
       "         [-1., -1., -1., -1., -1., -1., -1., -1., -1.,  1., -1., -1., -1.,  1.,\n",
       "          -1., -1.],\n",
       "         [ 1., -1.,  1., -1., -1., -1., -1., -1., -1., -1., -1., -1., -1., -1.,\n",
       "           1.,  1.],\n",
       "         [-1., -1., -1., -1., -1., -1., -1., -1.,  1., -1., -1., -1., -1.,  1.,\n",
       "           1., -1.],\n",
       "         [-1., -1., -1.,  1., -1., -1., -1., -1., -1., -1., -1., -1., -1.,  1.,\n",
       "           1., -1.],\n",
       "         [-1., -1., -1., -1., -1.,  1.,  1., -1., -1., -1., -1., -1., -1., -1.,\n",
       "          -1., -1.],\n",
       "         [-1., -1., -1., -1., -1., -1., -1., -1., -1., -1., -1., -1., -1., -1.,\n",
       "          -1., -1.],\n",
       "         [-1., -1.,  1., -1., -1., -1., -1., -1., -1., -1., -1., -1., -1., -1.,\n",
       "          -1., -1.],\n",
       "         [-1., -1., -1., -1., -1., -1., -1., -1., -1., -1., -1., -1., -1., -1.,\n",
       "          -1., -1.],\n",
       "         [-1., -1., -1., -1., -1., -1., -1., -1., -1., -1., -1., -1., -1., -1.,\n",
       "          -1., -1.],\n",
       "         [-1., -1., -1.,  1.,  1., -1., -1.,  1., -1., -1., -1., -1., -1., -1.,\n",
       "           1., -1.],\n",
       "         [-1., -1., -1.,  1., -1., -1.,  1.,  1., -1., -1., -1., -1., -1., -1.,\n",
       "          -1., -1.],\n",
       "         [-1., -1.,  1.,  1.,  1.,  1., -1.,  1., -1., -1.,  1., -1., -1., -1.,\n",
       "          -1., -1.],\n",
       "         [-1., -1., -1., -1., -1., -1.,  1., -1., -1., -1.,  1., -1., -1., -1.,\n",
       "          -1., -1.],\n",
       "         [-1., -1., -1., -1., -1., -1.,  1., -1., -1., -1., -1., -1., -1., -1.,\n",
       "          -1., -1.],\n",
       "         [-1., -1., -1.,  1., -1., -1.,  1., -1., -1., -1., -1., -1., -1., -1.,\n",
       "          -1., -1.]], device='cuda:0'),\n",
       " tensor([0., 0., 0., 0., 0., 0., 0., 0., 0., 0., 1., 0., 0., 0., 0., 0., 0., 0.,\n",
       "         0., 0., 0., 0., 0., 0., 0.]))"
      ]
     },
     "execution_count": 15,
     "metadata": {},
     "output_type": "execute_result"
    }
   ],
   "source": [
    "train_dataset[0]"
   ]
  },
  {
   "cell_type": "code",
   "execution_count": 16,
   "metadata": {},
   "outputs": [],
   "source": [
    "# 前処理を定義\n",
    "transform = transforms.Compose([\n",
    "    transforms.RandomHorizontalFlip(p=0.5),\n",
    "    transforms.RandomVerticalFlip(p=0.5),\n",
    "])\n",
    "\n",
    "# データセットに前処理を適用\n",
    "transformed_train_dataset = [(transform(tensor_sample), label) for tensor_sample, label in train_dataset]\n",
    "transformed_test_dataset = [(transform(tensor_sample), label) for tensor_sample, label in test_dataset]"
   ]
  },
  {
   "cell_type": "code",
   "execution_count": 17,
   "metadata": {},
   "outputs": [
    {
     "data": {
      "text/plain": [
       "(tensor([[-1., -1., -1., -1., -1., -1., -1., -1., -1.,  1., -1., -1.,  1., -1.,\n",
       "          -1., -1.],\n",
       "         [-1., -1., -1., -1., -1., -1., -1., -1., -1.,  1., -1., -1., -1., -1.,\n",
       "          -1., -1.],\n",
       "         [-1., -1., -1., -1., -1.,  1., -1., -1., -1.,  1., -1., -1., -1., -1.,\n",
       "          -1., -1.],\n",
       "         [-1., -1., -1., -1., -1.,  1., -1., -1.,  1., -1.,  1.,  1.,  1.,  1.,\n",
       "          -1., -1.],\n",
       "         [-1., -1., -1., -1., -1., -1., -1., -1.,  1.,  1., -1., -1.,  1., -1.,\n",
       "          -1., -1.],\n",
       "         [-1.,  1., -1., -1., -1., -1., -1., -1.,  1., -1., -1.,  1.,  1., -1.,\n",
       "          -1., -1.],\n",
       "         [-1., -1., -1., -1., -1., -1., -1., -1., -1., -1., -1., -1., -1., -1.,\n",
       "          -1., -1.],\n",
       "         [-1., -1., -1., -1., -1., -1., -1., -1., -1., -1., -1., -1., -1., -1.,\n",
       "          -1., -1.],\n",
       "         [-1., -1., -1., -1., -1., -1., -1., -1., -1., -1., -1., -1., -1.,  1.,\n",
       "          -1., -1.],\n",
       "         [-1., -1., -1., -1., -1., -1., -1., -1., -1., -1., -1., -1., -1., -1.,\n",
       "          -1., -1.],\n",
       "         [-1., -1., -1., -1., -1., -1., -1., -1., -1.,  1.,  1., -1., -1., -1.,\n",
       "          -1., -1.],\n",
       "         [-1.,  1.,  1., -1., -1., -1., -1., -1., -1., -1., -1., -1.,  1., -1.,\n",
       "          -1., -1.],\n",
       "         [-1.,  1.,  1., -1., -1., -1., -1.,  1., -1., -1., -1., -1., -1., -1.,\n",
       "          -1., -1.],\n",
       "         [ 1.,  1., -1., -1., -1., -1., -1., -1., -1., -1., -1., -1., -1.,  1.,\n",
       "          -1.,  1.],\n",
       "         [-1., -1.,  1., -1., -1., -1.,  1., -1., -1., -1., -1., -1., -1., -1.,\n",
       "          -1., -1.],\n",
       "         [-1., -1.,  1., -1., -1., -1., -1., -1.,  1.,  1., -1., -1., -1., -1.,\n",
       "          -1.,  1.]], device='cuda:0'),\n",
       " tensor([0., 0., 0., 0., 0., 0., 0., 0., 0., 0., 1., 0., 0., 0., 0., 0., 0., 0.,\n",
       "         0., 0., 0., 0., 0., 0., 0.]))"
      ]
     },
     "execution_count": 17,
     "metadata": {},
     "output_type": "execute_result"
    }
   ],
   "source": [
    "transformed_train_dataset[0]"
   ]
  },
  {
   "cell_type": "code",
   "execution_count": 18,
   "metadata": {},
   "outputs": [],
   "source": [
    "# dataset内のテンソルを1次元化\n",
    "transformed_train_dataset = [(sample[0].view(-1), sample[1]) for sample in transformed_train_dataset]\n",
    "transformed_test_dataset = [(sample[0].view(-1), sample[1]) for sample in transformed_test_dataset]"
   ]
  },
  {
   "cell_type": "code",
   "execution_count": 19,
   "metadata": {},
   "outputs": [
    {
     "data": {
      "text/plain": [
       "(tensor([-1., -1., -1., -1., -1., -1., -1., -1., -1.,  1., -1., -1.,  1., -1.,\n",
       "         -1., -1., -1., -1., -1., -1., -1., -1., -1., -1., -1.,  1., -1., -1.,\n",
       "         -1., -1., -1., -1., -1., -1., -1., -1., -1.,  1., -1., -1., -1.,  1.,\n",
       "         -1., -1., -1., -1., -1., -1., -1., -1., -1., -1., -1.,  1., -1., -1.,\n",
       "          1., -1.,  1.,  1.,  1.,  1., -1., -1., -1., -1., -1., -1., -1., -1.,\n",
       "         -1., -1.,  1.,  1., -1., -1.,  1., -1., -1., -1., -1.,  1., -1., -1.,\n",
       "         -1., -1., -1., -1.,  1., -1., -1.,  1.,  1., -1., -1., -1., -1., -1.,\n",
       "         -1., -1., -1., -1., -1., -1., -1., -1., -1., -1., -1., -1., -1., -1.,\n",
       "         -1., -1., -1., -1., -1., -1., -1., -1., -1., -1., -1., -1., -1., -1.,\n",
       "         -1., -1., -1., -1., -1., -1., -1., -1., -1., -1., -1., -1., -1., -1.,\n",
       "         -1.,  1., -1., -1., -1., -1., -1., -1., -1., -1., -1., -1., -1., -1.,\n",
       "         -1., -1., -1., -1., -1., -1., -1., -1., -1., -1., -1., -1., -1., -1.,\n",
       "         -1.,  1.,  1., -1., -1., -1., -1., -1., -1.,  1.,  1., -1., -1., -1.,\n",
       "         -1., -1., -1., -1., -1., -1.,  1., -1., -1., -1., -1.,  1.,  1., -1.,\n",
       "         -1., -1., -1.,  1., -1., -1., -1., -1., -1., -1., -1., -1.,  1.,  1.,\n",
       "         -1., -1., -1., -1., -1., -1., -1., -1., -1., -1., -1.,  1., -1.,  1.,\n",
       "         -1., -1.,  1., -1., -1., -1.,  1., -1., -1., -1., -1., -1., -1., -1.,\n",
       "         -1., -1., -1., -1.,  1., -1., -1., -1., -1., -1.,  1.,  1., -1., -1.,\n",
       "         -1., -1., -1.,  1.], device='cuda:0'),\n",
       " tensor([0., 0., 0., 0., 0., 0., 0., 0., 0., 0., 1., 0., 0., 0., 0., 0., 0., 0.,\n",
       "         0., 0., 0., 0., 0., 0., 0.]))"
      ]
     },
     "execution_count": 19,
     "metadata": {},
     "output_type": "execute_result"
    }
   ],
   "source": [
    "transformed_train_dataset[0]"
   ]
  },
  {
   "cell_type": "code",
   "execution_count": 20,
   "metadata": {},
   "outputs": [],
   "source": [
    "# DataLoaderの設定（バッチサイズ12500）\n",
    "train_loader = DataLoader(transformed_train_dataset, batch_size=125, shuffle=True)\n",
    "test_loader = DataLoader(transformed_test_dataset, batch_size=125)"
   ]
  },
  {
   "cell_type": "code",
   "execution_count": 21,
   "metadata": {},
   "outputs": [
    {
     "data": {
      "text/plain": [
       "(torch.Size([125, 256]), torch.Size([125, 25]))"
      ]
     },
     "execution_count": 21,
     "metadata": {},
     "output_type": "execute_result"
    }
   ],
   "source": [
    "x, t = next(iter(train_loader))\n",
    "x.shape, t.shape"
   ]
  },
  {
   "cell_type": "markdown",
   "metadata": {},
   "source": [
    "モデルの定義"
   ]
  },
  {
   "cell_type": "code",
   "execution_count": 22,
   "metadata": {},
   "outputs": [],
   "source": [
    "class FCNN(nn.Module):\n",
    "    def __init__(self, input_size, hidden_size, output_size):\n",
    "        super(FCNN, self).__init__()\n",
    "        self.fc1 = nn.Linear(input_size, hidden_size)\n",
    "        self.fc2 = nn.Linear(hidden_size, output_size)\n",
    "\n",
    "    def forward(self, x):\n",
    "        x = F.tanh(self.fc1(x))\n",
    "        x = F.softmax(self.fc2(x), dim=1)\n",
    "        return x"
   ]
  },
  {
   "cell_type": "markdown",
   "metadata": {},
   "source": [
    "モデルのインスタンス化"
   ]
  },
  {
   "cell_type": "code",
   "execution_count": 23,
   "metadata": {},
   "outputs": [
    {
     "name": "stdout",
     "output_type": "stream",
     "text": [
      "FCNN(\n",
      "  (fc1): Linear(in_features=256, out_features=100, bias=True)\n",
      "  (fc2): Linear(in_features=100, out_features=25, bias=True)\n",
      ")\n"
     ]
    }
   ],
   "source": [
    "input_size = 16*16\n",
    "hidden_size = 100\n",
    "output_size = 25\n",
    "model = FCNN(input_size, hidden_size, output_size)\n",
    "model.to(device)\n",
    "# モデルの概要表示\n",
    "print(model)"
   ]
  },
  {
   "cell_type": "markdown",
   "metadata": {},
   "source": [
    "損失関数と最適化アルゴリズムの設定"
   ]
  },
  {
   "cell_type": "code",
   "execution_count": 24,
   "metadata": {},
   "outputs": [],
   "source": [
    "criterion = nn.CrossEntropyLoss()   # クロスエントロピー誤差\n",
    "optimizer = optim.Adam(model.parameters(), lr=0.001, weight_decay=5e-4)     # Adam,L2正則化"
   ]
  },
  {
   "cell_type": "markdown",
   "metadata": {},
   "source": [
    "学習の実行"
   ]
  },
  {
   "cell_type": "code",
   "execution_count": 25,
   "metadata": {},
   "outputs": [
    {
     "name": "stdout",
     "output_type": "stream",
     "text": [
      "epoch: 0, loss: 3.2030825066566466, acc: 0.058640021830797195, test loss: 3.199124538898468, test acc: 0.0655200257897377\n",
      "epoch: 1, loss: 3.191861937046051, acc: 0.10112001746892929, test loss: 3.1916300153732298, test acc: 0.08111998438835144\n",
      "epoch: 2, loss: 3.1763460636138916, acc: 0.12448003143072128, test loss: 3.1843741965293884, test acc: 0.0904800146818161\n",
      "epoch: 3, loss: 3.1528474617004396, acc: 0.15079998970031738, test loss: 3.180050082206726, test acc: 0.10911998152732849\n",
      "epoch: 4, loss: 3.1308424282073974, acc: 0.17423997819423676, test loss: 3.177067589759827, test acc: 0.10680001229047775\n",
      "epoch: 5, loss: 3.1126974201202393, acc: 0.19607995450496674, test loss: 3.1763101482391356, test acc: 0.10976000130176544\n",
      "epoch: 6, loss: 3.09846010684967, acc: 0.21048001945018768, test loss: 3.1751519298553466, test acc: 0.1069599986076355\n",
      "epoch: 7, loss: 3.087637839317322, acc: 0.22312000393867493, test loss: 3.176116118431091, test acc: 0.10080000758171082\n",
      "epoch: 8, loss: 3.077125520706177, acc: 0.23144002258777618, test loss: 3.1733112478256227, test acc: 0.11208002269268036\n",
      "epoch: 9, loss: 3.0686557507514953, acc: 0.24119998514652252, test loss: 3.174181945323944, test acc: 0.11016000807285309\n",
      "epoch: 10, loss: 3.0596639943122863, acc: 0.25311991572380066, test loss: 3.173235239982605, test acc: 0.10600001364946365\n",
      "epoch: 11, loss: 3.052481231689453, acc: 0.25704002380371094, test loss: 3.1718484950065613, test acc: 0.10815998911857605\n",
      "epoch: 12, loss: 3.0481741666793822, acc: 0.2616800367832184, test loss: 3.1712670278549195, test acc: 0.1103999987244606\n",
      "epoch: 13, loss: 3.0406571078300475, acc: 0.2738399803638458, test loss: 3.17111257314682, test acc: 0.11056001484394073\n",
      "epoch: 14, loss: 3.0359581327438354, acc: 0.27480003237724304, test loss: 3.1717227029800417, test acc: 0.11144000291824341\n",
      "epoch: 15, loss: 3.0311211729049683, acc: 0.2781599760055542, test loss: 3.171746153831482, test acc: 0.11127998679876328\n",
      "epoch: 16, loss: 3.026144597530365, acc: 0.2860800623893738, test loss: 3.1711325430870057, test acc: 0.10816001147031784\n",
      "epoch: 17, loss: 3.0225277233123777, acc: 0.28624001145362854, test loss: 3.17051655292511, test acc: 0.11320000886917114\n",
      "epoch: 18, loss: 3.0189197993278505, acc: 0.29079997539520264, test loss: 3.1699008464813234, test acc: 0.1135999858379364\n",
      "epoch: 19, loss: 3.0165525817871095, acc: 0.2932800054550171, test loss: 3.169307777881622, test acc: 0.11296003311872482\n",
      "epoch: 20, loss: 3.014154062271118, acc: 0.29367995262145996, test loss: 3.16897718667984, test acc: 0.11400002241134644\n",
      "epoch: 21, loss: 3.011808316707611, acc: 0.29319998621940613, test loss: 3.173677306175232, test acc: 0.10151998698711395\n",
      "epoch: 22, loss: 3.0076231074333193, acc: 0.29991990327835083, test loss: 3.168711633682251, test acc: 0.11551999300718307\n",
      "epoch: 23, loss: 3.0043524384498594, acc: 0.30480000376701355, test loss: 3.1707357120513917, test acc: 0.10968002676963806\n",
      "epoch: 24, loss: 3.0030782055854797, acc: 0.3048801124095917, test loss: 3.1684394526481627, test acc: 0.11559999734163284\n",
      "epoch: 25, loss: 3.0003448581695555, acc: 0.30831995606422424, test loss: 3.169070689678192, test acc: 0.11272002011537552\n",
      "epoch: 26, loss: 2.999121208190918, acc: 0.3080000579357147, test loss: 3.170088381767273, test acc: 0.11207999289035797\n",
      "epoch: 27, loss: 2.9998973059654235, acc: 0.3049600422382355, test loss: 3.167770004272461, test acc: 0.11512000113725662\n",
      "epoch: 28, loss: 2.9959859108924864, acc: 0.3117600083351135, test loss: 3.1672062349319456, test acc: 0.11720002442598343\n",
      "epoch: 29, loss: 2.9954781532287598, acc: 0.3107199966907501, test loss: 3.1690580916404723, test acc: 0.11239999532699585\n",
      "epoch: 30, loss: 2.9928076028823853, acc: 0.3154400587081909, test loss: 3.171458559036255, test acc: 0.1059199720621109\n",
      "epoch: 31, loss: 2.991210517883301, acc: 0.3163999617099762, test loss: 3.168359491825104, test acc: 0.11416001617908478\n",
      "epoch: 32, loss: 2.990254797935486, acc: 0.3168000280857086, test loss: 3.167342939376831, test acc: 0.11704001575708389\n",
      "epoch: 33, loss: 2.9910483980178832, acc: 0.313759982585907, test loss: 3.1674425983428955, test acc: 0.11568000912666321\n",
      "epoch: 34, loss: 2.987240266799927, acc: 0.3205600380897522, test loss: 3.1716185712814333, test acc: 0.10480000823736191\n",
      "epoch: 35, loss: 2.9864087390899656, acc: 0.3206399083137512, test loss: 3.170285499095917, test acc: 0.10720003396272659\n",
      "epoch: 36, loss: 2.9863789010047914, acc: 0.31887996196746826, test loss: 3.167386541366577, test acc: 0.11807999759912491\n",
      "epoch: 37, loss: 2.9845561885833742, acc: 0.3229600191116333, test loss: 3.167063224315643, test acc: 0.11616002768278122\n",
      "epoch: 38, loss: 2.9831424927711487, acc: 0.323199987411499, test loss: 3.169794499874115, test acc: 0.11024001240730286\n",
      "epoch: 39, loss: 2.9825555992126467, acc: 0.3240000605583191, test loss: 3.1671502804756164, test acc: 0.1151999831199646\n",
      "epoch: 40, loss: 2.981065263748169, acc: 0.3257599174976349, test loss: 3.1711171770095827, test acc: 0.10672000795602798\n",
      "epoch: 41, loss: 2.9816114640235902, acc: 0.32416000962257385, test loss: 3.1691955614089964, test acc: 0.11159999668598175\n",
      "epoch: 42, loss: 2.9804020953178405, acc: 0.3248800039291382, test loss: 3.167247169017792, test acc: 0.11584001779556274\n",
      "epoch: 43, loss: 2.9796248483657837, acc: 0.3261600434780121, test loss: 3.1686457085609434, test acc: 0.11320003867149353\n",
      "epoch: 44, loss: 2.9789153814315794, acc: 0.3267199397087097, test loss: 3.1681740951538084, test acc: 0.11416001617908478\n",
      "epoch: 45, loss: 2.976906726360321, acc: 0.331279993057251, test loss: 3.1674458622932433, test acc: 0.11591997742652893\n",
      "epoch: 46, loss: 2.9774761462211607, acc: 0.32791993021965027, test loss: 3.169192764759064, test acc: 0.11128005385398865\n",
      "epoch: 47, loss: 2.9765094184875487, acc: 0.32936009764671326, test loss: 3.167991282939911, test acc: 0.11407998204231262\n",
      "epoch: 48, loss: 2.9753488087654114, acc: 0.3305600881576538, test loss: 3.168074266910553, test acc: 0.11520000547170639\n",
      "epoch: 49, loss: 2.9746473622322083, acc: 0.3316799998283386, test loss: 3.167557947635651, test acc: 0.1154399886727333\n",
      "epoch: 50, loss: 2.9744608354568483, acc: 0.3316800594329834, test loss: 3.1713886785507204, test acc: 0.10495998710393906\n",
      "epoch: 51, loss: 2.9756559991836546, acc: 0.329039990901947, test loss: 3.1669329476356505, test acc: 0.11792001873254776\n",
      "epoch: 52, loss: 2.9744156622886657, acc: 0.32879990339279175, test loss: 3.168629388809204, test acc: 0.11200001090765\n",
      "epoch: 53, loss: 2.972584753036499, acc: 0.3336799740791321, test loss: 3.1681004095077516, test acc: 0.11280000954866409\n",
      "epoch: 54, loss: 2.972138662338257, acc: 0.33320003747940063, test loss: 3.166645841598511, test acc: 0.11704002320766449\n",
      "epoch: 55, loss: 2.9711732363700865, acc: 0.33456000685691833, test loss: 3.166018486022949, test acc: 0.11743999272584915\n",
      "epoch: 56, loss: 2.9697498631477357, acc: 0.3381600081920624, test loss: 3.168340222835541, test acc: 0.11432000249624252\n",
      "epoch: 57, loss: 2.9704537630081176, acc: 0.3349599838256836, test loss: 3.1666673612594605, test acc: 0.11544003337621689\n",
      "epoch: 58, loss: 2.969446642398834, acc: 0.3359200358390808, test loss: 3.1671165156364443, test acc: 0.11663998663425446\n",
      "epoch: 59, loss: 2.9698553681373596, acc: 0.33552002906799316, test loss: 3.167535243034363, test acc: 0.11431998014450073\n",
      "epoch: 60, loss: 2.968171637058258, acc: 0.3384000062942505, test loss: 3.1711000871658324, test acc: 0.10671999305486679\n",
      "epoch: 61, loss: 2.970319709777832, acc: 0.33552005887031555, test loss: 3.167139265537262, test acc: 0.11495998501777649\n",
      "epoch: 62, loss: 2.9680618810653687, acc: 0.337039977312088, test loss: 3.1701720142364502, test acc: 0.11039999127388\n",
      "epoch: 63, loss: 2.9670721101760864, acc: 0.33935996890068054, test loss: 3.1674269247055054, test acc: 0.11512000113725662\n",
      "epoch: 64, loss: 2.967830247879028, acc: 0.3376799523830414, test loss: 3.166194920539856, test acc: 0.11768002808094025\n",
      "epoch: 65, loss: 2.966905975341797, acc: 0.33799993991851807, test loss: 3.1701777601242065, test acc: 0.10496000200510025\n",
      "epoch: 66, loss: 2.965840604305267, acc: 0.33984002470970154, test loss: 3.1668614530563355, test acc: 0.11383999139070511\n",
      "epoch: 67, loss: 2.9688120126724242, acc: 0.3344798982143402, test loss: 3.166345629692078, test acc: 0.11583999544382095\n",
      "epoch: 68, loss: 2.965849685668945, acc: 0.3390399217605591, test loss: 3.1695433926582335, test acc: 0.10672000050544739\n",
      "epoch: 69, loss: 2.9645321488380434, acc: 0.3404800295829773, test loss: 3.167251048088074, test acc: 0.11440000683069229\n",
      "epoch: 70, loss: 2.9647100162506104, acc: 0.33952006697654724, test loss: 3.1671749687194826, test acc: 0.11447998881340027\n",
      "epoch: 71, loss: 2.965045063495636, acc: 0.34015998244285583, test loss: 3.1673628664016724, test acc: 0.1138400137424469\n",
      "epoch: 72, loss: 2.9649224185943606, acc: 0.3404799699783325, test loss: 3.169231424331665, test acc: 0.11120002716779709\n",
      "epoch: 73, loss: 2.9638739252090454, acc: 0.34095996618270874, test loss: 3.1656352734565734, test acc: 0.11600003391504288\n",
      "epoch: 74, loss: 2.9637650799751283, acc: 0.34247997403144836, test loss: 3.170223333835602, test acc: 0.11008003354072571\n",
      "epoch: 75, loss: 2.9631610178947447, acc: 0.3430400490760803, test loss: 3.1673897552490233, test acc: 0.11416001617908478\n",
      "epoch: 76, loss: 2.962885465621948, acc: 0.34279996156692505, test loss: 3.167250611782074, test acc: 0.11472001671791077\n",
      "epoch: 77, loss: 2.9625887727737426, acc: 0.34192004799842834, test loss: 3.1671849513053894, test acc: 0.11280003190040588\n",
      "epoch: 78, loss: 2.9625257062911987, acc: 0.3420799970626831, test loss: 3.1676829481124877, test acc: 0.11311998963356018\n",
      "epoch: 79, loss: 2.9629052472114563, acc: 0.34160012006759644, test loss: 3.169051365852356, test acc: 0.10888000577688217\n",
      "epoch: 80, loss: 2.962593126296997, acc: 0.34272000193595886, test loss: 3.1682541751861573, test acc: 0.11112001538276672\n",
      "epoch: 81, loss: 2.961282150745392, acc: 0.345039963722229, test loss: 3.165801432132721, test acc: 0.1146400049328804\n",
      "epoch: 82, loss: 2.9603242111206054, acc: 0.3467999994754791, test loss: 3.1658520436286928, test acc: 0.11535999178886414\n",
      "epoch: 83, loss: 2.960597791671753, acc: 0.3442400395870209, test loss: 3.1681481075286864, test acc: 0.11264001578092575\n",
      "epoch: 84, loss: 2.959466028213501, acc: 0.3465600609779358, test loss: 3.165817346572876, test acc: 0.11528000980615616\n",
      "epoch: 85, loss: 2.960216021537781, acc: 0.3468799889087677, test loss: 3.1678000664711, test acc: 0.11184000223875046\n",
      "epoch: 86, loss: 2.9595391297340394, acc: 0.3456000089645386, test loss: 3.16933274269104, test acc: 0.10943999886512756\n",
      "epoch: 87, loss: 2.958771481513977, acc: 0.34863990545272827, test loss: 3.16789448261261, test acc: 0.1130400076508522\n",
      "epoch: 88, loss: 2.958413484096527, acc: 0.34720003604888916, test loss: 3.1665522384643556, test acc: 0.11560000479221344\n",
      "epoch: 89, loss: 2.959677567481995, acc: 0.34487995505332947, test loss: 3.1654842138290404, test acc: 0.11776001006364822\n",
      "epoch: 90, loss: 2.9592164254188535, acc: 0.34672003984451294, test loss: 3.1664149928092957, test acc: 0.11631999164819717\n",
      "epoch: 91, loss: 2.959564561843872, acc: 0.34439998865127563, test loss: 3.1664506244659423, test acc: 0.11592000722885132\n",
      "epoch: 92, loss: 2.9574057507514953, acc: 0.3484799265861511, test loss: 3.1670173096656797, test acc: 0.11416000127792358\n",
      "epoch: 93, loss: 2.956817982196808, acc: 0.3508799076080322, test loss: 3.166617524623871, test acc: 0.11472000926733017\n",
      "epoch: 94, loss: 2.9577413272857664, acc: 0.3473600447177887, test loss: 3.1655980944633484, test acc: 0.11631999909877777\n",
      "epoch: 95, loss: 2.9568985676765442, acc: 0.349839985370636, test loss: 3.167719542980194, test acc: 0.11207998543977737\n",
      "epoch: 96, loss: 2.956766586303711, acc: 0.3498398959636688, test loss: 3.1668813228607178, test acc: 0.11512000858783722\n",
      "epoch: 97, loss: 2.957449631690979, acc: 0.3471999764442444, test loss: 3.166734712123871, test acc: 0.11367999762296677\n",
      "epoch: 98, loss: 2.9557719087600707, acc: 0.3508000075817108, test loss: 3.1657489705085755, test acc: 0.11504002660512924\n",
      "epoch: 99, loss: 2.958082637786865, acc: 0.3460800051689148, test loss: 3.175791847705841, test acc: 0.10135997831821442\n",
      "epoch: 100, loss: 2.9561820316314695, acc: 0.3492000102996826, test loss: 3.1665417432785032, test acc: 0.11559997498989105\n",
      "epoch: 101, loss: 2.955989818572998, acc: 0.3497600555419922, test loss: 3.1668926310539245, test acc: 0.1146399974822998\n",
      "epoch: 102, loss: 2.95466433763504, acc: 0.3511999249458313, test loss: 3.16579350233078, test acc: 0.11504005640745163\n",
      "epoch: 103, loss: 2.954908483028412, acc: 0.352400004863739, test loss: 3.167051022052765, test acc: 0.1143999844789505\n",
      "epoch: 104, loss: 2.9552943539619445, acc: 0.35040006041526794, test loss: 3.168472497463226, test acc: 0.1119999960064888\n",
      "epoch: 105, loss: 2.95354202747345, acc: 0.35287991166114807, test loss: 3.1679982209205626, test acc: 0.11184000968933105\n",
      "epoch: 106, loss: 2.954353847503662, acc: 0.3516799807548523, test loss: 3.167635049819946, test acc: 0.11312000453472137\n",
      "epoch: 107, loss: 2.955424041748047, acc: 0.350240021944046, test loss: 3.168548686504364, test acc: 0.10936002433300018\n",
      "epoch: 108, loss: 2.954671630859375, acc: 0.3506399989128113, test loss: 3.1658451175689697, test acc: 0.11599999666213989\n",
      "epoch: 109, loss: 2.95385133266449, acc: 0.3527999818325043, test loss: 3.165483622550964, test acc: 0.11592000722885132\n",
      "epoch: 110, loss: 2.9517368388175966, acc: 0.3552800416946411, test loss: 3.166143021583557, test acc: 0.11560000479221344\n",
      "epoch: 111, loss: 2.951358790397644, acc: 0.3564000725746155, test loss: 3.1681916975975035, test acc: 0.10992003232240677\n",
      "epoch: 112, loss: 2.952151620388031, acc: 0.3555198907852173, test loss: 3.165739369392395, test acc: 0.1156800240278244\n",
      "epoch: 113, loss: 2.951413581371307, acc: 0.3559199571609497, test loss: 3.1667232608795164, test acc: 0.11375998705625534\n",
      "epoch: 114, loss: 2.951731572151184, acc: 0.35455989837646484, test loss: 3.1656196641922, test acc: 0.11527998745441437\n",
      "epoch: 115, loss: 2.951636848449707, acc: 0.3539198935031891, test loss: 3.1687139010429384, test acc: 0.11152000725269318\n",
      "epoch: 116, loss: 2.9505284357070924, acc: 0.3565599024295807, test loss: 3.1685863399505614, test acc: 0.11111999303102493\n",
      "epoch: 117, loss: 2.9510131740570067, acc: 0.3559199869632721, test loss: 3.1665531039237975, test acc: 0.11368001252412796\n",
      "epoch: 118, loss: 2.950974133014679, acc: 0.3554399907588959, test loss: 3.1672854804992676, test acc: 0.11264000833034515\n",
      "epoch: 119, loss: 2.952029902935028, acc: 0.3536800146102905, test loss: 3.166442301273346, test acc: 0.11360004544258118\n",
      "epoch: 120, loss: 2.9498067927360534, acc: 0.35728004574775696, test loss: 3.1666528964042664, test acc: 0.11488001048564911\n",
      "epoch: 121, loss: 2.9492091703414918, acc: 0.3576800227165222, test loss: 3.1665277791023256, test acc: 0.11447999626398087\n",
      "epoch: 122, loss: 2.9499430012702943, acc: 0.3564800024032593, test loss: 3.1657005047798155, test acc: 0.11607997119426727\n",
      "epoch: 123, loss: 2.949631464481354, acc: 0.35648003220558167, test loss: 3.168710470199585, test acc: 0.11272000521421432\n",
      "epoch: 124, loss: 2.9483131909370424, acc: 0.35912007093429565, test loss: 3.167074520587921, test acc: 0.11472001671791077\n",
      "epoch: 125, loss: 2.9479807782173157, acc: 0.358879953622818, test loss: 3.167394640445709, test acc: 0.11336000263690948\n",
      "epoch: 126, loss: 2.947893009185791, acc: 0.3593600392341614, test loss: 3.168813943862915, test acc: 0.11184001713991165\n",
      "epoch: 127, loss: 2.9472349286079407, acc: 0.36072006821632385, test loss: 3.166058745384216, test acc: 0.11479999870061874\n",
      "epoch: 128, loss: 2.947483959197998, acc: 0.3585599958896637, test loss: 3.167397150993347, test acc: 0.11312003433704376\n",
      "epoch: 129, loss: 2.9467516493797303, acc: 0.3607199788093567, test loss: 3.1666790986061097, test acc: 0.11575999855995178\n",
      "epoch: 130, loss: 2.9467659306526186, acc: 0.3604799509048462, test loss: 3.1658615612983705, test acc: 0.1162399873137474\n",
      "epoch: 131, loss: 2.9465656757354735, acc: 0.3604799211025238, test loss: 3.1659892177581788, test acc: 0.11471997946500778\n",
      "epoch: 132, loss: 2.9469092059135438, acc: 0.36007994413375854, test loss: 3.168872582912445, test acc: 0.11016002297401428\n",
      "epoch: 133, loss: 2.946297912597656, acc: 0.36024007201194763, test loss: 3.1660657930374145, test acc: 0.11616000533103943\n",
      "epoch: 134, loss: 2.9464184498786925, acc: 0.36128002405166626, test loss: 3.1665114831924437, test acc: 0.11488001048564911\n",
      "epoch: 135, loss: 2.9466255354881286, acc: 0.3593600392341614, test loss: 3.1657617115974426, test acc: 0.11663998663425446\n",
      "epoch: 136, loss: 2.945507593154907, acc: 0.36104002594947815, test loss: 3.165932066440582, test acc: 0.1170399859547615\n",
      "epoch: 137, loss: 2.9459051179885862, acc: 0.3608799874782562, test loss: 3.1665627551078797, test acc: 0.11423999816179276\n",
      "epoch: 138, loss: 2.945327820777893, acc: 0.36191996932029724, test loss: 3.1656131172180175, test acc: 0.11695995926856995\n",
      "epoch: 139, loss: 2.9445050406455993, acc: 0.3628000020980835, test loss: 3.168289966583252, test acc: 0.11136002838611603\n",
      "epoch: 140, loss: 2.9438822984695436, acc: 0.3642399311065674, test loss: 3.16551317691803, test acc: 0.117280013859272\n",
      "epoch: 141, loss: 2.945269432067871, acc: 0.36000004410743713, test loss: 3.1664725589752196, test acc: 0.11440001428127289\n",
      "epoch: 142, loss: 2.9440005660057067, acc: 0.36343997716903687, test loss: 3.166265773773193, test acc: 0.11504001915454865\n",
      "epoch: 143, loss: 2.943723347187042, acc: 0.36296015977859497, test loss: 3.1660189414024353, test acc: 0.11775998771190643\n",
      "epoch: 144, loss: 2.9440106391906737, acc: 0.36232003569602966, test loss: 3.1663181471824644, test acc: 0.11552002280950546\n",
      "epoch: 145, loss: 2.943683979511261, acc: 0.3627200424671173, test loss: 3.1670612955093382, test acc: 0.11376001685857773\n",
      "epoch: 146, loss: 2.9434696936607363, acc: 0.36343997716903687, test loss: 3.1657496809959413, test acc: 0.11560001224279404\n",
      "epoch: 147, loss: 2.942604057788849, acc: 0.36472004652023315, test loss: 3.166543369293213, test acc: 0.11416003108024597\n",
      "epoch: 148, loss: 2.9426921343803407, acc: 0.36615994572639465, test loss: 3.1660512852668763, test acc: 0.11535997688770294\n",
      "epoch: 149, loss: 2.9413804149627687, acc: 0.36632001399993896, test loss: 3.167907168865204, test acc: 0.1122400164604187\n",
      "epoch: 150, loss: 2.9418971705436707, acc: 0.36632001399993896, test loss: 3.1660301446914674, test acc: 0.11560000479221344\n",
      "epoch: 151, loss: 2.941490054130554, acc: 0.36632010340690613, test loss: 3.165686228275299, test acc: 0.11552002280950546\n",
      "epoch: 152, loss: 2.9424148559570313, acc: 0.36279991269111633, test loss: 3.166654682159424, test acc: 0.11375999450683594\n",
      "epoch: 153, loss: 2.941067786216736, acc: 0.3655199706554413, test loss: 3.1668681263923646, test acc: 0.11272002011537552\n",
      "epoch: 154, loss: 2.940658230781555, acc: 0.3675200343132019, test loss: 3.165856709480286, test acc: 0.11495999246835709\n",
      "epoch: 155, loss: 2.941662218570709, acc: 0.36591994762420654, test loss: 3.166907105445862, test acc: 0.11367997527122498\n",
      "epoch: 156, loss: 2.9402105379104615, acc: 0.36736002564430237, test loss: 3.167444338798523, test acc: 0.1138399988412857\n",
      "epoch: 157, loss: 2.9403210878372192, acc: 0.367919921875, test loss: 3.1675762271881105, test acc: 0.11200001090765\n",
      "epoch: 158, loss: 2.940577356815338, acc: 0.3675200641155243, test loss: 3.169040744304657, test acc: 0.10999999940395355\n",
      "epoch: 159, loss: 2.941545548439026, acc: 0.365200012922287, test loss: 3.1667872500419616, test acc: 0.11248001456260681\n",
      "epoch: 160, loss: 2.9401517295837403, acc: 0.36792004108428955, test loss: 3.168162615299225, test acc: 0.11216001212596893\n",
      "epoch: 161, loss: 2.9395076394081117, acc: 0.3689599931240082, test loss: 3.1666028094291687, test acc: 0.11368001997470856\n",
      "epoch: 162, loss: 2.9414975905418395, acc: 0.3654399812221527, test loss: 3.1669599509239195, test acc: 0.11312001198530197\n",
      "epoch: 163, loss: 2.938686532974243, acc: 0.3692000210285187, test loss: 3.1688700556755065, test acc: 0.10936001688241959\n",
      "epoch: 164, loss: 2.9394172382354737, acc: 0.36744004487991333, test loss: 3.1684686660766603, test acc: 0.10871996730566025\n",
      "epoch: 165, loss: 2.9390130734443662, acc: 0.36879998445510864, test loss: 3.1660683155059814, test acc: 0.11400001496076584\n",
      "epoch: 166, loss: 2.9384651041030883, acc: 0.37071993947029114, test loss: 3.1664997363090515, test acc: 0.11320003867149353\n",
      "epoch: 167, loss: 2.938024070262909, acc: 0.370079904794693, test loss: 3.170005280971527, test acc: 0.10983999073505402\n",
      "epoch: 168, loss: 2.940004551410675, acc: 0.36695998907089233, test loss: 3.1658772802352906, test acc: 0.11600000411272049\n",
      "epoch: 169, loss: 2.939901216030121, acc: 0.36663997173309326, test loss: 3.1670745539665224, test acc: 0.11432001739740372\n",
      "epoch: 170, loss: 2.937400233745575, acc: 0.3710400462150574, test loss: 3.165942108631134, test acc: 0.11456000059843063\n",
      "epoch: 171, loss: 2.937642586231232, acc: 0.370479941368103, test loss: 3.164788236618042, test acc: 0.11583998799324036\n",
      "epoch: 172, loss: 2.9376580119132996, acc: 0.37056005001068115, test loss: 3.16517991065979, test acc: 0.11695995926856995\n",
      "epoch: 173, loss: 2.9378719568252563, acc: 0.37032002210617065, test loss: 3.1662169098854065, test acc: 0.11360001564025879\n",
      "epoch: 174, loss: 2.937547242641449, acc: 0.3703199326992035, test loss: 3.1660023880004884, test acc: 0.11560003459453583\n",
      "epoch: 175, loss: 2.9368885946273804, acc: 0.37104010581970215, test loss: 3.164577457904816, test acc: 0.11647998541593552\n",
      "epoch: 176, loss: 2.93687730550766, acc: 0.37112003564834595, test loss: 3.1659129071235657, test acc: 0.11471999436616898\n",
      "epoch: 177, loss: 2.9367732548713685, acc: 0.3705599904060364, test loss: 3.164010269641876, test acc: 0.1186399832367897\n",
      "epoch: 178, loss: 2.937289218902588, acc: 0.3700000047683716, test loss: 3.1642837381362914, test acc: 0.11784001439809799\n",
      "epoch: 179, loss: 2.936463327407837, acc: 0.37088000774383545, test loss: 3.167264621257782, test acc: 0.11416000127792358\n",
      "epoch: 180, loss: 2.9353492403030397, acc: 0.37383994460105896, test loss: 3.166308217048645, test acc: 0.1143999993801117\n",
      "epoch: 181, loss: 2.935682625770569, acc: 0.3728799521923065, test loss: 3.1643542098999022, test acc: 0.11719999462366104\n",
      "epoch: 182, loss: 2.9354932165145873, acc: 0.3735200762748718, test loss: 3.1665250205993654, test acc: 0.1140800267457962\n",
      "epoch: 183, loss: 2.9347560667991637, acc: 0.3739200532436371, test loss: 3.1664951467514038, test acc: 0.11400001496076584\n",
      "epoch: 184, loss: 2.9337476325035095, acc: 0.37536004185676575, test loss: 3.1659297442436216, test acc: 0.11440000683069229\n",
      "epoch: 185, loss: 2.935407700538635, acc: 0.3726399540901184, test loss: 3.1674323964118956, test acc: 0.11288001388311386\n",
      "epoch: 186, loss: 2.9353561401367188, acc: 0.37199997901916504, test loss: 3.166415991783142, test acc: 0.11376003175973892\n",
      "epoch: 187, loss: 2.9350142526626586, acc: 0.3707999289035797, test loss: 3.1663676953315734, test acc: 0.11296005547046661\n",
      "epoch: 188, loss: 2.934008424282074, acc: 0.3741599917411804, test loss: 3.1659025502204896, test acc: 0.11495999991893768\n",
      "epoch: 189, loss: 2.933690514564514, acc: 0.37447988986968994, test loss: 3.165617802143097, test acc: 0.11504000425338745\n",
      "epoch: 190, loss: 2.933055341243744, acc: 0.3757599890232086, test loss: 3.165829119682312, test acc: 0.11495998501777649\n",
      "epoch: 191, loss: 2.9354796242713928, acc: 0.37175998091697693, test loss: 3.165310757160187, test acc: 0.1167999729514122\n",
      "epoch: 192, loss: 2.932629601955414, acc: 0.37648001313209534, test loss: 3.166290776729584, test acc: 0.1143999844789505\n",
      "epoch: 193, loss: 2.933148992061615, acc: 0.3749600648880005, test loss: 3.166910548210144, test acc: 0.11223998665809631\n",
      "epoch: 194, loss: 2.93290887594223, acc: 0.3757599890232086, test loss: 3.1654749870300294, test acc: 0.11600003391504288\n",
      "epoch: 195, loss: 2.93387925863266, acc: 0.37439996004104614, test loss: 3.1650521779060363, test acc: 0.11504001915454865\n",
      "epoch: 196, loss: 2.9326776838302613, acc: 0.3760000467300415, test loss: 3.1654497528076173, test acc: 0.11479999870061874\n",
      "epoch: 197, loss: 2.9320407128334045, acc: 0.3768000900745392, test loss: 3.1665828394889832, test acc: 0.11368003487586975\n",
      "epoch: 198, loss: 2.9321324920654295, acc: 0.37744003534317017, test loss: 3.164534547328949, test acc: 0.11599999666213989\n",
      "epoch: 199, loss: 2.93227530002594, acc: 0.37623992562294006, test loss: 3.164570071697235, test acc: 0.11743998527526855\n",
      "epoch: 200, loss: 2.9330670642852783, acc: 0.37359997630119324, test loss: 3.165808620452881, test acc: 0.11312001198530197\n",
      "epoch: 201, loss: 2.932628951072693, acc: 0.37623995542526245, test loss: 3.1668875551223756, test acc: 0.11392001807689667\n",
      "epoch: 202, loss: 2.931831946372986, acc: 0.37584006786346436, test loss: 3.165493042469025, test acc: 0.1154400035738945\n",
      "epoch: 203, loss: 2.931645576953888, acc: 0.37727996706962585, test loss: 3.1651447224617004, test acc: 0.11591999977827072\n",
      "epoch: 204, loss: 2.9306518507003783, acc: 0.37856003642082214, test loss: 3.167150387763977, test acc: 0.11320000886917114\n",
      "epoch: 205, loss: 2.931379952430725, acc: 0.37807998061180115, test loss: 3.1657338762283325, test acc: 0.11447999626398087\n",
      "epoch: 206, loss: 2.931144618988037, acc: 0.3777599632740021, test loss: 3.16724933385849, test acc: 0.11255999654531479\n",
      "epoch: 207, loss: 2.93073233127594, acc: 0.3774400055408478, test loss: 3.1661306595802308, test acc: 0.1140800192952156\n",
      "epoch: 208, loss: 2.9309241938591004, acc: 0.37727999687194824, test loss: 3.1660156226158143, test acc: 0.11416000127792358\n",
      "epoch: 209, loss: 2.9311399626731873, acc: 0.37744009494781494, test loss: 3.165317394733429, test acc: 0.1154400035738945\n",
      "epoch: 210, loss: 2.931416711807251, acc: 0.3776799738407135, test loss: 3.167856216430664, test acc: 0.11127999424934387\n",
      "epoch: 211, loss: 2.9298061323165894, acc: 0.3797600567340851, test loss: 3.167358441352844, test acc: 0.11256001144647598\n",
      "epoch: 212, loss: 2.9300617504119875, acc: 0.37807998061180115, test loss: 3.1656915068626406, test acc: 0.11511999368667603\n",
      "epoch: 213, loss: 2.9300452780723574, acc: 0.37912002205848694, test loss: 3.1653437662124633, test acc: 0.11608002334833145\n",
      "epoch: 214, loss: 2.9298522758483885, acc: 0.3788800537586212, test loss: 3.1648689532279968, test acc: 0.11520001292228699\n",
      "epoch: 215, loss: 2.9293144798278807, acc: 0.37999996542930603, test loss: 3.167477788925171, test acc: 0.11320000886917114\n",
      "epoch: 216, loss: 2.9304430055618287, acc: 0.37783995270729065, test loss: 3.163983895778656, test acc: 0.11848000437021255\n",
      "epoch: 217, loss: 2.9307523822784423, acc: 0.37567999958992004, test loss: 3.166102256774902, test acc: 0.11376003175973892\n",
      "epoch: 218, loss: 2.9305177211761473, acc: 0.37752002477645874, test loss: 3.1665875363349913, test acc: 0.11256005614995956\n",
      "epoch: 219, loss: 2.9301009249687193, acc: 0.37759995460510254, test loss: 3.167131953239441, test acc: 0.11480000615119934\n",
      "epoch: 220, loss: 2.928719127178192, acc: 0.38047999143600464, test loss: 3.164976258277893, test acc: 0.11608000844717026\n",
      "epoch: 221, loss: 2.928549437522888, acc: 0.37999996542930603, test loss: 3.164814534187317, test acc: 0.11688000708818436\n",
      "epoch: 222, loss: 2.9286073207855225, acc: 0.3806398808956146, test loss: 3.1646476578712464, test acc: 0.11656002700328827\n",
      "epoch: 223, loss: 2.92896213054657, acc: 0.3800000250339508, test loss: 3.16632532119751, test acc: 0.11432001739740372\n",
      "epoch: 224, loss: 2.927960305213928, acc: 0.38127997517585754, test loss: 3.165173895359039, test acc: 0.1148800179362297\n",
      "epoch: 225, loss: 2.9282135796546935, acc: 0.3807201385498047, test loss: 3.165746512413025, test acc: 0.1146400049328804\n",
      "epoch: 226, loss: 2.927775914669037, acc: 0.38088008761405945, test loss: 3.1661936116218565, test acc: 0.1143200621008873\n",
      "epoch: 227, loss: 2.9284663462638854, acc: 0.3800799250602722, test loss: 3.165488398075104, test acc: 0.11512000858783722\n",
      "epoch: 228, loss: 2.92793244600296, acc: 0.38192009925842285, test loss: 3.167464134693146, test acc: 0.11088000982999802\n",
      "epoch: 229, loss: 2.926989734172821, acc: 0.38207998871803284, test loss: 3.16562162399292, test acc: 0.11472000181674957\n",
      "epoch: 230, loss: 2.92968008518219, acc: 0.3782399892807007, test loss: 3.1657942128181458, test acc: 0.11503998935222626\n",
      "epoch: 231, loss: 2.9276777791976927, acc: 0.3807999789714813, test loss: 3.164128587245941, test acc: 0.1172800287604332\n",
      "epoch: 232, loss: 2.927730131149292, acc: 0.38023999333381653, test loss: 3.1647362661361695, test acc: 0.11656000465154648\n",
      "epoch: 233, loss: 2.927109000682831, acc: 0.3817600905895233, test loss: 3.1672791051864624, test acc: 0.11056000739336014\n",
      "epoch: 234, loss: 2.927298460006714, acc: 0.3811200261116028, test loss: 3.164149601459503, test acc: 0.11735998839139938\n",
      "epoch: 235, loss: 2.9283750653266907, acc: 0.37967991828918457, test loss: 3.1649523043632506, test acc: 0.11592002213001251\n",
      "epoch: 236, loss: 2.9269390010833742, acc: 0.38183993101119995, test loss: 3.164752917289734, test acc: 0.11704002320766449\n",
      "epoch: 237, loss: 2.926766822338104, acc: 0.3826400637626648, test loss: 3.164260091781616, test acc: 0.11576002836227417\n",
      "epoch: 238, loss: 2.926392066478729, acc: 0.383760005235672, test loss: 3.166777160167694, test acc: 0.11408001184463501\n",
      "epoch: 239, loss: 2.9264862084388734, acc: 0.3823999762535095, test loss: 3.1644830989837645, test acc: 0.11680000275373459\n",
      "epoch: 240, loss: 2.9265863347053527, acc: 0.3815999925136566, test loss: 3.164758446216583, test acc: 0.11647998541593552\n",
      "epoch: 241, loss: 2.9257444596290587, acc: 0.3844001293182373, test loss: 3.164201123714447, test acc: 0.11727998405694962\n",
      "epoch: 242, loss: 2.924944767951965, acc: 0.3847198784351349, test loss: 3.164436848163605, test acc: 0.1162400171160698\n",
      "epoch: 243, loss: 2.92767276763916, acc: 0.38112011551856995, test loss: 3.1656950330734253, test acc: 0.11367998272180557\n",
      "epoch: 244, loss: 2.9255282330513, acc: 0.38439998030662537, test loss: 3.1647509813308714, test acc: 0.11552000790834427\n",
      "epoch: 245, loss: 2.925095093250275, acc: 0.38456007838249207, test loss: 3.1639744806289674, test acc: 0.11776001006364822\n",
      "epoch: 246, loss: 2.9260185170173645, acc: 0.38280001282691956, test loss: 3.164598593711853, test acc: 0.11832001060247421\n",
      "epoch: 247, loss: 2.9250811553001403, acc: 0.3838399648666382, test loss: 3.1663566875457763, test acc: 0.11448004841804504\n",
      "epoch: 248, loss: 2.9250259947776795, acc: 0.3844800293445587, test loss: 3.1653716588020324, test acc: 0.11504000425338745\n",
      "epoch: 249, loss: 2.926249237060547, acc: 0.3835200071334839, test loss: 3.1645540022850036, test acc: 0.11575999855995178\n",
      "epoch: 250, loss: 2.924518890380859, acc: 0.38496002554893494, test loss: 3.164135477542877, test acc: 0.1170400083065033\n",
      "epoch: 251, loss: 2.9244451189041136, acc: 0.3852001130580902, test loss: 3.1636649322509767, test acc: 0.11832001805305481\n",
      "epoch: 252, loss: 2.9241752219200134, acc: 0.384799987077713, test loss: 3.1670257806777955, test acc: 0.11496001482009888\n",
      "epoch: 253, loss: 2.9236119866371153, acc: 0.3864798843860626, test loss: 3.1647155189514162, test acc: 0.11799998581409454\n",
      "epoch: 254, loss: 2.9236543226242064, acc: 0.38600003719329834, test loss: 3.1658364367485046, test acc: 0.11352000385522842\n",
      "epoch: 255, loss: 2.924709916114807, acc: 0.3836000859737396, test loss: 3.16465140581131, test acc: 0.11607995629310608\n",
      "epoch: 256, loss: 2.9236093235015868, acc: 0.38544002175331116, test loss: 3.165275254249573, test acc: 0.11471999436616898\n",
      "epoch: 257, loss: 2.923957850933075, acc: 0.3868800401687622, test loss: 3.1656170225143434, test acc: 0.1143999844789505\n",
      "epoch: 258, loss: 2.923245770931244, acc: 0.3863999843597412, test loss: 3.1655840706825256, test acc: 0.1156800240278244\n",
      "epoch: 259, loss: 2.9237408900260924, acc: 0.38655993342399597, test loss: 3.1647132229804993, test acc: 0.11592000722885132\n",
      "epoch: 260, loss: 2.923119056224823, acc: 0.3871198892593384, test loss: 3.1634175968170166, test acc: 0.11856003105640411\n",
      "epoch: 261, loss: 2.922972033023834, acc: 0.3875200152397156, test loss: 3.1656157970428467, test acc: 0.11352001130580902\n",
      "epoch: 262, loss: 2.9224956917762754, acc: 0.38767993450164795, test loss: 3.1653363704681396, test acc: 0.11392001062631607\n",
      "epoch: 263, loss: 2.9228156304359434, acc: 0.3870398998260498, test loss: 3.1641837406158446, test acc: 0.11720000207424164\n",
      "epoch: 264, loss: 2.923404264450073, acc: 0.3854401111602783, test loss: 3.1673910784721375, test acc: 0.10895997285842896\n",
      "epoch: 265, loss: 2.922416603565216, acc: 0.38752007484436035, test loss: 3.164011790752411, test acc: 0.11616000533103943\n",
      "epoch: 266, loss: 2.922541046142578, acc: 0.3860000669956207, test loss: 3.163668940067291, test acc: 0.11768000572919846\n",
      "epoch: 267, loss: 2.9228608298301695, acc: 0.38656002283096313, test loss: 3.164948663711548, test acc: 0.11632003635168076\n",
      "epoch: 268, loss: 2.921861889362335, acc: 0.3875199854373932, test loss: 3.1654168462753294, test acc: 0.11320000886917114\n",
      "epoch: 269, loss: 2.9217234086990356, acc: 0.3875200152397156, test loss: 3.1650831413269045, test acc: 0.11448001116514206\n",
      "epoch: 270, loss: 2.9214326548576355, acc: 0.38880008459091187, test loss: 3.1671771717071535, test acc: 0.11152002215385437\n",
      "epoch: 271, loss: 2.921629867553711, acc: 0.3876800835132599, test loss: 3.1643555212020873, test acc: 0.11656000465154648\n",
      "epoch: 272, loss: 2.922131409645081, acc: 0.3864798843860626, test loss: 3.16321448802948, test acc: 0.11831998080015182\n",
      "epoch: 273, loss: 2.9248126697540284, acc: 0.38168013095855713, test loss: 3.1652319049835205, test acc: 0.11472000926733017\n",
      "epoch: 274, loss: 2.921415936946869, acc: 0.3888000249862671, test loss: 3.165010094642639, test acc: 0.11376000195741653\n",
      "epoch: 275, loss: 2.9206531190872194, acc: 0.38927996158599854, test loss: 3.1640935564041137, test acc: 0.11560001224279404\n",
      "epoch: 276, loss: 2.9218258810043336, acc: 0.3867999315261841, test loss: 3.16511146068573, test acc: 0.11408001184463501\n",
      "epoch: 277, loss: 2.920530014038086, acc: 0.390080064535141, test loss: 3.1650799703598023, test acc: 0.1170399934053421\n",
      "epoch: 278, loss: 2.921297242641449, acc: 0.3879200220108032, test loss: 3.16491694688797, test acc: 0.11463999003171921\n",
      "epoch: 279, loss: 2.9210621166229247, acc: 0.388480007648468, test loss: 3.1655186080932616, test acc: 0.1119999960064888\n",
      "epoch: 280, loss: 2.9205560207366945, acc: 0.3896799087524414, test loss: 3.1632185578346252, test acc: 0.11840000748634338\n",
      "epoch: 281, loss: 2.9214056658744814, acc: 0.38855990767478943, test loss: 3.1656757736206056, test acc: 0.11344002932310104\n",
      "epoch: 282, loss: 2.9195534229278564, acc: 0.3904799520969391, test loss: 3.16410085439682, test acc: 0.11575999855995178\n",
      "epoch: 283, loss: 2.921092269420624, acc: 0.38791999220848083, test loss: 3.164223639965057, test acc: 0.11688000708818436\n",
      "epoch: 284, loss: 2.92059193611145, acc: 0.38983994722366333, test loss: 3.1641225028038025, test acc: 0.11592000722885132\n",
      "epoch: 285, loss: 2.920236177444458, acc: 0.3898400366306305, test loss: 3.1645708012580873, test acc: 0.11608001589775085\n",
      "epoch: 286, loss: 2.92101936340332, acc: 0.38808003067970276, test loss: 3.1642431640625, test acc: 0.11496001482009888\n",
      "epoch: 287, loss: 2.920137677192688, acc: 0.3904000222682953, test loss: 3.164379532337189, test acc: 0.11663997918367386\n",
      "epoch: 288, loss: 2.920427367687225, acc: 0.38927996158599854, test loss: 3.1646080327034, test acc: 0.11639998108148575\n",
      "epoch: 289, loss: 2.9189566564559937, acc: 0.3904000222682953, test loss: 3.1670910501480103, test acc: 0.11007997393608093\n",
      "epoch: 290, loss: 2.9200513553619385, acc: 0.3903200030326843, test loss: 3.1641267848014833, test acc: 0.1162399873137474\n",
      "epoch: 291, loss: 2.9193483853340148, acc: 0.39031994342803955, test loss: 3.166741495132446, test acc: 0.11232000589370728\n",
      "epoch: 292, loss: 2.9201589679718016, acc: 0.3893600106239319, test loss: 3.165152015686035, test acc: 0.11407999694347382\n",
      "epoch: 293, loss: 2.920919506549835, acc: 0.3870401382446289, test loss: 3.1650522708892823, test acc: 0.11335999518632889\n",
      "epoch: 294, loss: 2.9196034383773806, acc: 0.38903987407684326, test loss: 3.166340157985687, test acc: 0.11296002566814423\n",
      "epoch: 295, loss: 2.9191450810432436, acc: 0.39016014337539673, test loss: 3.166249716281891, test acc: 0.11312000453472137\n",
      "epoch: 296, loss: 2.918614866733551, acc: 0.39200007915496826, test loss: 3.1631454634666443, test acc: 0.11807996779680252\n",
      "epoch: 297, loss: 2.9192166233062746, acc: 0.39063990116119385, test loss: 3.164525444507599, test acc: 0.11535999923944473\n",
      "epoch: 298, loss: 2.920276165008545, acc: 0.3890400230884552, test loss: 3.1653269934654236, test acc: 0.1151999980211258\n",
      "epoch: 299, loss: 2.9193976664543153, acc: 0.38944000005722046, test loss: 3.1640978765487673, test acc: 0.11583998799324036\n",
      "epoch: 300, loss: 2.918747401237488, acc: 0.39239996671676636, test loss: 3.165653612613678, test acc: 0.1146400198340416\n",
      "epoch: 301, loss: 2.9188234543800355, acc: 0.3919200897216797, test loss: 3.165126428604126, test acc: 0.11424002796411514\n",
      "epoch: 302, loss: 2.9187141489982604, acc: 0.3919200599193573, test loss: 3.165222406387329, test acc: 0.11495999246835709\n",
      "epoch: 303, loss: 2.9178014850616454, acc: 0.39280009269714355, test loss: 3.1661157965660096, test acc: 0.11192000657320023\n",
      "epoch: 304, loss: 2.9184204077720644, acc: 0.3913600444793701, test loss: 3.1644396424293517, test acc: 0.11535999923944473\n",
      "epoch: 305, loss: 2.918718681335449, acc: 0.39007991552352905, test loss: 3.165466945171356, test acc: 0.11391997337341309\n",
      "epoch: 306, loss: 2.9185373830795287, acc: 0.3911999762058258, test loss: 3.1642996978759768, test acc: 0.11648000031709671\n",
      "epoch: 307, loss: 2.9179396486282347, acc: 0.39232006669044495, test loss: 3.1644217133522035, test acc: 0.11616002023220062\n",
      "epoch: 308, loss: 2.9185632634162904, acc: 0.3916800022125244, test loss: 3.164120192527771, test acc: 0.11655998975038528\n",
      "epoch: 309, loss: 2.9176659655570982, acc: 0.3923199474811554, test loss: 3.165619809627533, test acc: 0.11327999085187912\n",
      "epoch: 310, loss: 2.918431861400604, acc: 0.39096012711524963, test loss: 3.1647945499420165, test acc: 0.1151999682188034\n",
      "epoch: 311, loss: 2.917958836555481, acc: 0.39200007915496826, test loss: 3.1641577768325804, test acc: 0.11752002686262131\n",
      "epoch: 312, loss: 2.917383086681366, acc: 0.39224007725715637, test loss: 3.1645826625823976, test acc: 0.11671999841928482\n",
      "epoch: 313, loss: 2.917722392082214, acc: 0.3919200599193573, test loss: 3.1638343715667725, test acc: 0.11672002077102661\n",
      "epoch: 314, loss: 2.9173431301116945, acc: 0.3930400013923645, test loss: 3.1653748750686646, test acc: 0.11303999274969101\n",
      "epoch: 315, loss: 2.917085235118866, acc: 0.3935999572277069, test loss: 3.166085946559906, test acc: 0.11176001280546188\n",
      "epoch: 316, loss: 2.918019640445709, acc: 0.3917599618434906, test loss: 3.163389365673065, test acc: 0.11776000261306763\n",
      "epoch: 317, loss: 2.9168040895462037, acc: 0.39264002442359924, test loss: 3.1648566269874574, test acc: 0.11479999870061874\n",
      "epoch: 318, loss: 2.9185513281822204, acc: 0.38976001739501953, test loss: 3.167464306354523, test acc: 0.1085599884390831\n",
      "epoch: 319, loss: 2.917459988594055, acc: 0.39248013496398926, test loss: 3.1663823318481445, test acc: 0.11432000994682312\n",
      "epoch: 320, loss: 2.918250367641449, acc: 0.3916800022125244, test loss: 3.1654191398620606, test acc: 0.11431998014450073\n",
      "epoch: 321, loss: 2.916559340953827, acc: 0.39344000816345215, test loss: 3.1640650987625123, test acc: 0.11616001278162003\n",
      "epoch: 322, loss: 2.9167745327949524, acc: 0.3929600417613983, test loss: 3.1639404010772707, test acc: 0.11663998663425446\n",
      "epoch: 323, loss: 2.9169146680831908, acc: 0.392799973487854, test loss: 3.1636269378662107, test acc: 0.11712000519037247\n",
      "epoch: 324, loss: 2.918050830364227, acc: 0.39344000816345215, test loss: 3.16452175617218, test acc: 0.11551999300718307\n",
      "epoch: 325, loss: 2.917298905849457, acc: 0.39128002524375916, test loss: 3.166181809902191, test acc: 0.1133599728345871\n",
      "epoch: 326, loss: 2.9171444964408875, acc: 0.3936000168323517, test loss: 3.164183416366577, test acc: 0.11631996929645538\n",
      "epoch: 327, loss: 2.9161181116104125, acc: 0.39384007453918457, test loss: 3.164632830619812, test acc: 0.11544002592563629\n",
      "epoch: 328, loss: 2.916427435874939, acc: 0.39327991008758545, test loss: 3.16536509513855, test acc: 0.11256002634763718\n",
      "epoch: 329, loss: 2.916206443309784, acc: 0.39384007453918457, test loss: 3.1641547322273254, test acc: 0.11608000844717026\n",
      "epoch: 330, loss: 2.9176603627204893, acc: 0.3914400041103363, test loss: 3.1628919768333437, test acc: 0.11768001317977905\n",
      "epoch: 331, loss: 2.9154053997993468, acc: 0.3948799967765808, test loss: 3.1642879366874697, test acc: 0.11592002213001251\n",
      "epoch: 332, loss: 2.915927412509918, acc: 0.394800066947937, test loss: 3.1652367901802063, test acc: 0.11423996835947037\n",
      "epoch: 333, loss: 2.9157406163215636, acc: 0.394400030374527, test loss: 3.163885939121246, test acc: 0.11720000207424164\n",
      "epoch: 334, loss: 2.9159614634513855, acc: 0.39399996399879456, test loss: 3.1640533947944642, test acc: 0.11615999042987823\n",
      "epoch: 335, loss: 2.916636099815369, acc: 0.3941600024700165, test loss: 3.166211953163147, test acc: 0.11191998422145844\n",
      "epoch: 336, loss: 2.915312640666962, acc: 0.39416003227233887, test loss: 3.164308624267578, test acc: 0.11720000207424164\n",
      "epoch: 337, loss: 2.91629900932312, acc: 0.39472004771232605, test loss: 3.164782452583313, test acc: 0.11440001428127289\n",
      "epoch: 338, loss: 2.9154599595069883, acc: 0.3953600227832794, test loss: 3.165119938850403, test acc: 0.11432001739740372\n",
      "epoch: 339, loss: 2.916089777946472, acc: 0.39392003417015076, test loss: 3.164842731952667, test acc: 0.11376000195741653\n",
      "epoch: 340, loss: 2.9155759763717652, acc: 0.3941599726676941, test loss: 3.164792151451111, test acc: 0.11487998813390732\n",
      "epoch: 341, loss: 2.9154140400886535, acc: 0.3945600390434265, test loss: 3.1646366024017336, test acc: 0.11567998677492142\n",
      "epoch: 342, loss: 2.914727444648743, acc: 0.3950400650501251, test loss: 3.1628627824783324, test acc: 0.11872000992298126\n",
      "epoch: 343, loss: 2.9148716521263123, acc: 0.39528000354766846, test loss: 3.1649761176109314, test acc: 0.11456000059843063\n",
      "epoch: 344, loss: 2.914739921092987, acc: 0.3954399526119232, test loss: 3.1640233612060547, test acc: 0.1167999729514122\n",
      "epoch: 345, loss: 2.9143740844726564, acc: 0.3955998718738556, test loss: 3.1653233098983766, test acc: 0.11567998677492142\n",
      "epoch: 346, loss: 2.914520945549011, acc: 0.3958400785923004, test loss: 3.166369535923004, test acc: 0.11231997609138489\n",
      "epoch: 347, loss: 2.914409432411194, acc: 0.3959199786186218, test loss: 3.1656230688095093, test acc: 0.11368001997470856\n",
      "epoch: 348, loss: 2.915322606563568, acc: 0.3939199149608612, test loss: 3.1640144968032837, test acc: 0.11648000031709671\n",
      "epoch: 349, loss: 2.9156116604804994, acc: 0.3941600024700165, test loss: 3.165148973464966, test acc: 0.11375998705625534\n",
      "epoch: 350, loss: 2.914453597068787, acc: 0.3962399661540985, test loss: 3.165393359661102, test acc: 0.11327999830245972\n",
      "epoch: 351, loss: 2.914871814250946, acc: 0.3956800103187561, test loss: 3.1649674439430235, test acc: 0.11503996700048447\n",
      "epoch: 352, loss: 2.9136777210235594, acc: 0.39656010270118713, test loss: 3.1653044486045836, test acc: 0.11456000059843063\n",
      "epoch: 353, loss: 2.913599739074707, acc: 0.39760005474090576, test loss: 3.165665557384491, test acc: 0.1130400076508522\n",
      "epoch: 354, loss: 2.9145420718193056, acc: 0.39568012952804565, test loss: 3.1639513850212095, test acc: 0.11639999598264694\n",
      "epoch: 355, loss: 2.914418625831604, acc: 0.395920068025589, test loss: 3.1664570236206053, test acc: 0.11215999722480774\n",
      "epoch: 356, loss: 2.9137839221954347, acc: 0.3972800076007843, test loss: 3.1648779702186585, test acc: 0.11535998433828354\n",
      "epoch: 357, loss: 2.914106619358063, acc: 0.39559993147850037, test loss: 3.1655829763412475, test acc: 0.11319997161626816\n",
      "epoch: 358, loss: 2.9143334794044495, acc: 0.39544007182121277, test loss: 3.1649014472961428, test acc: 0.11432001739740372\n",
      "epoch: 359, loss: 2.9130498933792115, acc: 0.39743995666503906, test loss: 3.1647691202163695, test acc: 0.11447998881340027\n",
      "epoch: 360, loss: 2.9141023421287535, acc: 0.3966400921344757, test loss: 3.1642250418663025, test acc: 0.11487999558448792\n",
      "epoch: 361, loss: 2.913059401512146, acc: 0.39768004417419434, test loss: 3.1650489950180054, test acc: 0.11447998881340027\n",
      "epoch: 362, loss: 2.913014016151428, acc: 0.3974399268627167, test loss: 3.1647127747535704, test acc: 0.11392001062631607\n",
      "epoch: 363, loss: 2.9132989025115967, acc: 0.39680004119873047, test loss: 3.1639404344558715, test acc: 0.11680004000663757\n",
      "epoch: 364, loss: 2.9144885611534117, acc: 0.39535996317863464, test loss: 3.1654316926002504, test acc: 0.11336002498865128\n",
      "epoch: 365, loss: 2.912305495738983, acc: 0.3984000086784363, test loss: 3.1658900928497316, test acc: 0.11239999532699585\n",
      "epoch: 366, loss: 2.9137333917617796, acc: 0.3974400460720062, test loss: 3.1650042843818667, test acc: 0.11544003337621689\n",
      "epoch: 367, loss: 2.912847821712494, acc: 0.3973599970340729, test loss: 3.1651807546615602, test acc: 0.11472000181674957\n",
      "epoch: 368, loss: 2.912365906238556, acc: 0.3985600173473358, test loss: 3.1632912659645083, test acc: 0.11743999272584915\n",
      "epoch: 369, loss: 2.913522744178772, acc: 0.3960001468658447, test loss: 3.1647947692871092, test acc: 0.11480001360177994\n",
      "epoch: 370, loss: 2.912061116695404, acc: 0.3991199731826782, test loss: 3.1663317584991457, test acc: 0.11264003068208694\n",
      "epoch: 371, loss: 2.9131646299362184, acc: 0.3975200355052948, test loss: 3.1655016326904297, test acc: 0.11495999246835709\n",
      "epoch: 372, loss: 2.911964602470398, acc: 0.3988800048828125, test loss: 3.1655120849609375, test acc: 0.11543998122215271\n",
      "epoch: 373, loss: 2.9125677871704103, acc: 0.3989599943161011, test loss: 3.1639930176734925, test acc: 0.11599999666213989\n",
      "epoch: 374, loss: 2.912109181880951, acc: 0.3994399309158325, test loss: 3.166499824523926, test acc: 0.11320000886917114\n",
      "epoch: 375, loss: 2.911939561367035, acc: 0.39807990193367004, test loss: 3.1664691758155823, test acc: 0.11343999952077866\n",
      "epoch: 376, loss: 2.916135137081146, acc: 0.39256003499031067, test loss: 3.164052782058716, test acc: 0.11672002822160721\n",
      "epoch: 377, loss: 2.9123290014266967, acc: 0.39823997020721436, test loss: 3.164364926815033, test acc: 0.11448001861572266\n",
      "epoch: 378, loss: 2.9121022915840147, acc: 0.39848002791404724, test loss: 3.1646260738372805, test acc: 0.11511999368667603\n",
      "epoch: 379, loss: 2.9121950268745422, acc: 0.3974400758743286, test loss: 3.164337682723999, test acc: 0.11695998162031174\n",
      "epoch: 380, loss: 2.9116282153129576, acc: 0.3994399607181549, test loss: 3.164746084213257, test acc: 0.11696000397205353\n",
      "epoch: 381, loss: 2.9117011284828185, acc: 0.39903995394706726, test loss: 3.1653651809692382, test acc: 0.11456000059843063\n",
      "epoch: 382, loss: 2.912122628688812, acc: 0.39792004227638245, test loss: 3.1642472076416017, test acc: 0.11559997498989105\n",
      "epoch: 383, loss: 2.9116964101791383, acc: 0.3988000154495239, test loss: 3.1644039154052734, test acc: 0.1151999980211258\n",
      "epoch: 384, loss: 2.9113140177726744, acc: 0.3991200625896454, test loss: 3.1636322927474976, test acc: 0.11696001887321472\n",
      "epoch: 385, loss: 2.9118655800819395, acc: 0.39855992794036865, test loss: 3.166081438064575, test acc: 0.11311998218297958\n",
      "epoch: 386, loss: 2.9111460876464843, acc: 0.3996800184249878, test loss: 3.164784052371979, test acc: 0.11367999762296677\n",
      "epoch: 387, loss: 2.9122187948226927, acc: 0.398639976978302, test loss: 3.1649098443984984, test acc: 0.11456000059843063\n",
      "epoch: 388, loss: 2.9121849513053895, acc: 0.39831995964050293, test loss: 3.164758460521698, test acc: 0.11487998813390732\n",
      "epoch: 389, loss: 2.9114863014221193, acc: 0.3986399471759796, test loss: 3.1637942814826965, test acc: 0.11727999895811081\n",
      "epoch: 390, loss: 2.911424660682678, acc: 0.3987199664115906, test loss: 3.1645785093307497, test acc: 0.1151999831199646\n",
      "epoch: 391, loss: 2.912073800563812, acc: 0.39848005771636963, test loss: 3.1639799237251283, test acc: 0.11791999638080597\n",
      "epoch: 392, loss: 2.9120877599716186, acc: 0.39743998646736145, test loss: 3.164484839439392, test acc: 0.11480001360177994\n",
      "epoch: 393, loss: 2.911136059761047, acc: 0.39976000785827637, test loss: 3.164033105373383, test acc: 0.1175999864935875\n",
      "epoch: 394, loss: 2.9108257031440736, acc: 0.39991995692253113, test loss: 3.1667787218093872, test acc: 0.11040002107620239\n",
      "epoch: 395, loss: 2.91112056016922, acc: 0.39976000785827637, test loss: 3.1635255932807924, test acc: 0.11696001142263412\n",
      "epoch: 396, loss: 2.911695342063904, acc: 0.39816007018089294, test loss: 3.1653789186477663, test acc: 0.11288002133369446\n",
      "epoch: 397, loss: 2.910700514316559, acc: 0.40000003576278687, test loss: 3.1640287613868714, test acc: 0.11631998419761658\n",
      "epoch: 398, loss: 2.911259570121765, acc: 0.3996799886226654, test loss: 3.1644959664344787, test acc: 0.11527998000383377\n",
      "epoch: 399, loss: 2.911128051280975, acc: 0.39944005012512207, test loss: 3.1638863134384154, test acc: 0.11616000533103943\n",
      "epoch: 400, loss: 2.91126002073288, acc: 0.3988799750804901, test loss: 3.164134521484375, test acc: 0.11735998839139938\n",
      "epoch: 401, loss: 2.910194942951202, acc: 0.4006398916244507, test loss: 3.165194261074066, test acc: 0.11560000479221344\n",
      "epoch: 402, loss: 2.910095989704132, acc: 0.40032002329826355, test loss: 3.16437903881073, test acc: 0.11592002213001251\n",
      "epoch: 403, loss: 2.9108674550056457, acc: 0.4000000059604645, test loss: 3.16409428358078, test acc: 0.11551999300718307\n",
      "epoch: 404, loss: 2.9104211831092837, acc: 0.400640070438385, test loss: 3.164117970466614, test acc: 0.11703997850418091\n",
      "epoch: 405, loss: 2.909991090297699, acc: 0.40087997913360596, test loss: 3.167643392086029, test acc: 0.10728002339601517\n",
      "epoch: 406, loss: 2.9103823566436766, acc: 0.40032002329826355, test loss: 3.1659760999679567, test acc: 0.1115199625492096\n",
      "epoch: 407, loss: 2.91171813249588, acc: 0.39831995964050293, test loss: 3.164427740573883, test acc: 0.11480001360177994\n",
      "epoch: 408, loss: 2.910498945713043, acc: 0.399679958820343, test loss: 3.1650835275650024, test acc: 0.11576002091169357\n",
      "epoch: 409, loss: 2.910217547416687, acc: 0.40040016174316406, test loss: 3.166412971019745, test acc: 0.11207999289035797\n",
      "epoch: 410, loss: 2.910896496772766, acc: 0.39935988187789917, test loss: 3.165029742717743, test acc: 0.11528001725673676\n",
      "epoch: 411, loss: 2.9094974255561827, acc: 0.40136006474494934, test loss: 3.1655336093902586, test acc: 0.11423999071121216\n",
      "epoch: 412, loss: 2.910043878555298, acc: 0.39927998185157776, test loss: 3.1643840622901918, test acc: 0.11600002646446228\n",
      "epoch: 413, loss: 2.910000624656677, acc: 0.40136006474494934, test loss: 3.1656125831604003, test acc: 0.11232001334428787\n",
      "epoch: 414, loss: 2.9108473587036134, acc: 0.3999200165271759, test loss: 3.1651716804504395, test acc: 0.11552000045776367\n",
      "epoch: 415, loss: 2.9094160771369935, acc: 0.40160003304481506, test loss: 3.1677326440811155, test acc: 0.11144000291824341\n",
      "epoch: 416, loss: 2.9094722437858582, acc: 0.4013599753379822, test loss: 3.165714159011841, test acc: 0.1130400076508522\n",
      "epoch: 417, loss: 2.9102550387382506, acc: 0.40063998103141785, test loss: 3.1660829687118532, test acc: 0.11288001388311386\n",
      "epoch: 418, loss: 2.9094546389579774, acc: 0.40112006664276123, test loss: 3.163714044094086, test acc: 0.11600000411272049\n",
      "epoch: 419, loss: 2.9090981388092043, acc: 0.4013599157333374, test loss: 3.165717775821686, test acc: 0.11207998543977737\n",
      "epoch: 420, loss: 2.909995539188385, acc: 0.4012000560760498, test loss: 3.166339430809021, test acc: 0.11239999532699585\n",
      "epoch: 421, loss: 2.909586844444275, acc: 0.4015200436115265, test loss: 3.1674945950508118, test acc: 0.10991998761892319\n",
      "epoch: 422, loss: 2.9096215629577635, acc: 0.4016800820827484, test loss: 3.165360891819, test acc: 0.11463997513055801\n",
      "epoch: 423, loss: 2.909865906238556, acc: 0.4010399878025055, test loss: 3.1663939452171324, test acc: 0.11232002079486847\n",
      "epoch: 424, loss: 2.9091135096549987, acc: 0.4017599821090698, test loss: 3.165026793479919, test acc: 0.1140800192952156\n",
      "epoch: 425, loss: 2.908930323123932, acc: 0.4013599753379822, test loss: 3.1644985628128053, test acc: 0.11591999232769012\n",
      "epoch: 426, loss: 2.9095615434646604, acc: 0.4007999897003174, test loss: 3.163781464099884, test acc: 0.11719999462366104\n",
      "epoch: 427, loss: 2.909618306159973, acc: 0.4009600579738617, test loss: 3.1653809356689453, test acc: 0.11375999450683594\n",
      "epoch: 428, loss: 2.908535375595093, acc: 0.402319997549057, test loss: 3.1640490460395814, test acc: 0.116239994764328\n",
      "epoch: 429, loss: 2.9097093605995177, acc: 0.40063998103141785, test loss: 3.1659519839286805, test acc: 0.11136002838611603\n",
      "epoch: 430, loss: 2.911444833278656, acc: 0.39784005284309387, test loss: 3.165907237529755, test acc: 0.11232002079486847\n",
      "epoch: 431, loss: 2.910223762989044, acc: 0.40032005310058594, test loss: 3.165199329853058, test acc: 0.11559997498989105\n",
      "epoch: 432, loss: 2.9088291215896604, acc: 0.40192002058029175, test loss: 3.1643169593811034, test acc: 0.11559999734163284\n",
      "epoch: 433, loss: 2.9098047327995302, acc: 0.40168002247810364, test loss: 3.1633885288238526, test acc: 0.11632000654935837\n",
      "epoch: 434, loss: 2.910174231529236, acc: 0.4007999300956726, test loss: 3.1658798003196718, test acc: 0.11344001442193985\n",
      "epoch: 435, loss: 2.9083651638031007, acc: 0.40279996395111084, test loss: 3.1645961928367616, test acc: 0.11671999841928482\n",
      "epoch: 436, loss: 2.9079374146461485, acc: 0.4031199514865875, test loss: 3.1647543334960937, test acc: 0.1140800192952156\n",
      "epoch: 437, loss: 2.9083501935005187, acc: 0.40303996205329895, test loss: 3.1666308856010437, test acc: 0.11295997351408005\n",
      "epoch: 438, loss: 2.908155026435852, acc: 0.4035201668739319, test loss: 3.1639486813545226, test acc: 0.11776000261306763\n",
      "epoch: 439, loss: 2.9087733101844786, acc: 0.40215983986854553, test loss: 3.163772904872894, test acc: 0.1167999804019928\n",
      "epoch: 440, loss: 2.9098975968360903, acc: 0.40024009346961975, test loss: 3.164815278053284, test acc: 0.11416000127792358\n",
      "epoch: 441, loss: 2.9083692812919617, acc: 0.4029600918292999, test loss: 3.1665762281417846, test acc: 0.11175999790430069\n",
      "epoch: 442, loss: 2.9111546778678896, acc: 0.39823997020721436, test loss: 3.1659802436828612, test acc: 0.11264000833034515\n",
      "epoch: 443, loss: 2.909293932914734, acc: 0.40104007720947266, test loss: 3.164349224567413, test acc: 0.11560001224279404\n",
      "epoch: 444, loss: 2.908439328670502, acc: 0.40168002247810364, test loss: 3.16381591796875, test acc: 0.11768000572919846\n",
      "epoch: 445, loss: 2.907832689285278, acc: 0.4031999707221985, test loss: 3.1649649643898012, test acc: 0.11479999870061874\n",
      "epoch: 446, loss: 2.9075853610038758, acc: 0.4038400650024414, test loss: 3.1653890299797056, test acc: 0.11295999586582184\n",
      "epoch: 447, loss: 2.908391225337982, acc: 0.4020800292491913, test loss: 3.164296875, test acc: 0.11495998501777649\n",
      "epoch: 448, loss: 2.90901064157486, acc: 0.40240001678466797, test loss: 3.163877239227295, test acc: 0.11568000167608261\n",
      "epoch: 449, loss: 2.909221532344818, acc: 0.40000006556510925, test loss: 3.168110158443451, test acc: 0.10776002705097198\n",
      "epoch: 450, loss: 2.9082533168792724, acc: 0.402319997549057, test loss: 3.1638834118843078, test acc: 0.11591999977827072\n",
      "epoch: 451, loss: 2.9073200845718383, acc: 0.4030400514602661, test loss: 3.164848976135254, test acc: 0.11264003068208694\n",
      "epoch: 452, loss: 2.908716766834259, acc: 0.4016800820827484, test loss: 3.1635276889801025, test acc: 0.11600001156330109\n",
      "epoch: 453, loss: 2.907576389312744, acc: 0.4022400677204132, test loss: 3.165189173221588, test acc: 0.11336001753807068\n",
      "epoch: 454, loss: 2.9071882343292237, acc: 0.40432000160217285, test loss: 3.1641343331336973, test acc: 0.1167999804019928\n",
      "epoch: 455, loss: 2.9071265268325805, acc: 0.4039999842643738, test loss: 3.1648890566825867, test acc: 0.1130400076508522\n",
      "epoch: 456, loss: 2.9079582834243776, acc: 0.4036000072956085, test loss: 3.164285068511963, test acc: 0.11631999164819717\n",
      "epoch: 457, loss: 2.907182080745697, acc: 0.40368008613586426, test loss: 3.163302431106567, test acc: 0.11704001575708389\n",
      "epoch: 458, loss: 2.9076288628578184, acc: 0.4034399390220642, test loss: 3.1648463010787964, test acc: 0.11343999207019806\n",
      "epoch: 459, loss: 2.9078263425827027, acc: 0.40240001678466797, test loss: 3.164969744682312, test acc: 0.1130400076508522\n",
      "epoch: 460, loss: 2.906906611919403, acc: 0.40503990650177, test loss: 3.1641807436943052, test acc: 0.11720000207424164\n",
      "epoch: 461, loss: 2.906960427761078, acc: 0.4043199121952057, test loss: 3.165770297050476, test acc: 0.11239999532699585\n",
      "epoch: 462, loss: 2.9075327825546267, acc: 0.4028800129890442, test loss: 3.1646827840805054, test acc: 0.11432000994682312\n",
      "epoch: 463, loss: 2.907380714416504, acc: 0.4028000235557556, test loss: 3.164572560787201, test acc: 0.1162400022149086\n",
      "epoch: 464, loss: 2.9070750284194946, acc: 0.40352001786231995, test loss: 3.165269901752472, test acc: 0.11328001320362091\n",
      "epoch: 465, loss: 2.9072206091880797, acc: 0.40384018421173096, test loss: 3.16502014875412, test acc: 0.11447998881340027\n",
      "epoch: 466, loss: 2.907577350139618, acc: 0.4032798707485199, test loss: 3.1638099718093873, test acc: 0.11624002456665039\n",
      "epoch: 467, loss: 2.908479769229889, acc: 0.401919960975647, test loss: 3.165382752418518, test acc: 0.11247999221086502\n",
      "epoch: 468, loss: 2.9069183444976807, acc: 0.4047999978065491, test loss: 3.165154986381531, test acc: 0.11343999207019806\n",
      "epoch: 469, loss: 2.9064844703674315, acc: 0.4049600660800934, test loss: 3.164445865154266, test acc: 0.11527998000383377\n",
      "epoch: 470, loss: 2.90747585773468, acc: 0.40240001678466797, test loss: 3.1645901942253114, test acc: 0.11416001617908478\n",
      "epoch: 471, loss: 2.90654833316803, acc: 0.4039199948310852, test loss: 3.1647102665901183, test acc: 0.1154400184750557\n",
      "epoch: 472, loss: 2.906695170402527, acc: 0.40415990352630615, test loss: 3.164029026031494, test acc: 0.11568000167608261\n",
      "epoch: 473, loss: 2.906904673576355, acc: 0.40408003330230713, test loss: 3.1645546317100526, test acc: 0.11527998745441437\n",
      "epoch: 474, loss: 2.905802948474884, acc: 0.4057599902153015, test loss: 3.1648735404014587, test acc: 0.11567998677492142\n",
      "epoch: 475, loss: 2.9063096261024475, acc: 0.40487992763519287, test loss: 3.164685297012329, test acc: 0.11376000195741653\n",
      "epoch: 476, loss: 2.906099066734314, acc: 0.4052800238132477, test loss: 3.1657576990127563, test acc: 0.11320002377033234\n",
      "epoch: 477, loss: 2.905983579158783, acc: 0.40567997097969055, test loss: 3.165431432723999, test acc: 0.11248002201318741\n",
      "epoch: 478, loss: 2.9063494348526, acc: 0.40504002571105957, test loss: 3.1657972860336305, test acc: 0.11160002648830414\n",
      "epoch: 479, loss: 2.905338010787964, acc: 0.40664005279541016, test loss: 3.164948697090149, test acc: 0.11551997810602188\n",
      "epoch: 480, loss: 2.905744781494141, acc: 0.4056800603866577, test loss: 3.1642174553871154, test acc: 0.11528000980615616\n",
      "epoch: 481, loss: 2.905727505683899, acc: 0.40535998344421387, test loss: 3.1636286091804506, test acc: 0.11664000153541565\n",
      "epoch: 482, loss: 2.905948302745819, acc: 0.4054400622844696, test loss: 3.1640372824668885, test acc: 0.1156800165772438\n",
      "epoch: 483, loss: 2.9054033017158507, acc: 0.40648019313812256, test loss: 3.164456751346588, test acc: 0.11520003527402878\n",
      "epoch: 484, loss: 2.905766472816467, acc: 0.4060799479484558, test loss: 3.1635327553749084, test acc: 0.11720000207424164\n",
      "epoch: 485, loss: 2.905510423183441, acc: 0.4059999883174896, test loss: 3.1657995891571047, test acc: 0.11216001212596893\n",
      "epoch: 486, loss: 2.906297209262848, acc: 0.4042400121688843, test loss: 3.1669267416000366, test acc: 0.11168000102043152\n",
      "epoch: 487, loss: 2.9056558346748353, acc: 0.4057599604129791, test loss: 3.163677411079407, test acc: 0.11552002280950546\n",
      "epoch: 488, loss: 2.9053872990608216, acc: 0.4056800603866577, test loss: 3.1643590474128724, test acc: 0.11543995887041092\n",
      "epoch: 489, loss: 2.9050272059440614, acc: 0.40647992491722107, test loss: 3.1653757238388063, test acc: 0.11440000683069229\n",
      "epoch: 490, loss: 2.90464604139328, acc: 0.406480073928833, test loss: 3.1650574469566344, test acc: 0.1138400062918663\n",
      "epoch: 491, loss: 2.9064203310012817, acc: 0.4041599631309509, test loss: 3.167052857875824, test acc: 0.1106400191783905\n",
      "epoch: 492, loss: 2.9061428046226503, acc: 0.40400004386901855, test loss: 3.1644135475158692, test acc: 0.11424000561237335\n",
      "epoch: 493, loss: 2.904834017753601, acc: 0.40687987208366394, test loss: 3.163750638961792, test acc: 0.1162399873137474\n",
      "epoch: 494, loss: 2.9049645614624025, acc: 0.4068000018596649, test loss: 3.163191816806793, test acc: 0.11752002686262131\n",
      "epoch: 495, loss: 2.9060755944252015, acc: 0.4043999910354614, test loss: 3.1653058910369873, test acc: 0.11431999504566193\n",
      "epoch: 496, loss: 2.9047446846961975, acc: 0.40568000078201294, test loss: 3.1638444089889526, test acc: 0.11632002890110016\n",
      "epoch: 497, loss: 2.905022678375244, acc: 0.4055200219154358, test loss: 3.164312741756439, test acc: 0.11551999300718307\n",
      "epoch: 498, loss: 2.9044188475608825, acc: 0.4073600769042969, test loss: 3.166212673187256, test acc: 0.1114400178194046\n",
      "epoch: 499, loss: 2.9049042153358458, acc: 0.40584003925323486, test loss: 3.1649645948410035, test acc: 0.11559997498989105\n",
      "epoch: 500, loss: 2.904245710372925, acc: 0.4083999991416931, test loss: 3.165595166683197, test acc: 0.11343999207019806\n",
      "epoch: 501, loss: 2.9043350791931153, acc: 0.4068000018596649, test loss: 3.1649206709861755, test acc: 0.11368001252412796\n",
      "epoch: 502, loss: 2.9044698214530946, acc: 0.40800002217292786, test loss: 3.16490430355072, test acc: 0.11264001578092575\n",
      "epoch: 503, loss: 2.904866759777069, acc: 0.4062400460243225, test loss: 3.1659275770187376, test acc: 0.11344000697135925\n",
      "epoch: 504, loss: 2.9051240849494935, acc: 0.4060800075531006, test loss: 3.164165344238281, test acc: 0.11552000045776367\n",
      "epoch: 505, loss: 2.90562447309494, acc: 0.4052800238132477, test loss: 3.163309106826782, test acc: 0.11712002009153366\n",
      "epoch: 506, loss: 2.9055272126197815, acc: 0.40392005443573, test loss: 3.1649822211265564, test acc: 0.11527998745441437\n",
      "epoch: 507, loss: 2.90492835521698, acc: 0.4060799479484558, test loss: 3.1649088621139527, test acc: 0.11503998935222626\n",
      "epoch: 508, loss: 2.9046130084991457, acc: 0.40703994035720825, test loss: 3.1637497758865356, test acc: 0.11656002700328827\n",
      "epoch: 509, loss: 2.905718379020691, acc: 0.4046400487422943, test loss: 3.163948938846588, test acc: 0.11472000181674957\n",
      "epoch: 510, loss: 2.9043010759353636, acc: 0.40744003653526306, test loss: 3.163842947483063, test acc: 0.11712002754211426\n",
      "epoch: 511, loss: 2.9058562660217286, acc: 0.4046398997306824, test loss: 3.163674521446228, test acc: 0.11720000207424164\n",
      "epoch: 512, loss: 2.904990246295929, acc: 0.4063999056816101, test loss: 3.163664617538452, test acc: 0.11696001142263412\n",
      "epoch: 513, loss: 2.904633719921112, acc: 0.40671998262405396, test loss: 3.16341712474823, test acc: 0.11688003689050674\n",
      "epoch: 514, loss: 2.904078469276428, acc: 0.40744006633758545, test loss: 3.164563834667206, test acc: 0.11432000994682312\n",
      "epoch: 515, loss: 2.9048322510719298, acc: 0.40656009316444397, test loss: 3.163390107154846, test acc: 0.11696001142263412\n",
      "epoch: 516, loss: 2.904187045097351, acc: 0.4068000316619873, test loss: 3.164840679168701, test acc: 0.11423997581005096\n",
      "epoch: 517, loss: 2.904045662879944, acc: 0.4074399471282959, test loss: 3.1647619509696963, test acc: 0.11488001048564911\n",
      "epoch: 518, loss: 2.903840653896332, acc: 0.4075999855995178, test loss: 3.1643423223495484, test acc: 0.11448002606630325\n",
      "epoch: 519, loss: 2.903952980041504, acc: 0.4068799912929535, test loss: 3.1648323273658754, test acc: 0.11440000683069229\n",
      "epoch: 520, loss: 2.9044628739356995, acc: 0.4061600863933563, test loss: 3.1646350121498106, test acc: 0.11647997796535492\n",
      "epoch: 521, loss: 2.904407444000244, acc: 0.40551987290382385, test loss: 3.1646847677230836, test acc: 0.11455996334552765\n",
      "epoch: 522, loss: 2.9044125509262084, acc: 0.4069599211215973, test loss: 3.165793616771698, test acc: 0.11216001212596893\n",
      "epoch: 523, loss: 2.9058069658279417, acc: 0.4039199948310852, test loss: 3.16459810256958, test acc: 0.11600000411272049\n",
      "epoch: 524, loss: 2.904180152416229, acc: 0.40720000863075256, test loss: 3.1643534517288208, test acc: 0.116239994764328\n",
      "epoch: 525, loss: 2.9042736792564394, acc: 0.4074400067329407, test loss: 3.164725248813629, test acc: 0.11543998122215271\n",
      "epoch: 526, loss: 2.90364364862442, acc: 0.4068799614906311, test loss: 3.1647608613967897, test acc: 0.11336001753807068\n",
      "epoch: 527, loss: 2.903653507232666, acc: 0.4073599576950073, test loss: 3.1645415115356443, test acc: 0.1162399873137474\n",
      "epoch: 528, loss: 2.903594682216644, acc: 0.4086400270462036, test loss: 3.1631859230995176, test acc: 0.11664000153541565\n",
      "epoch: 529, loss: 2.9038222455978393, acc: 0.4073599874973297, test loss: 3.1659707593917847, test acc: 0.1122400164604187\n",
      "epoch: 530, loss: 2.9037328219413756, acc: 0.4075201749801636, test loss: 3.1645445442199707, test acc: 0.11527998745441437\n",
      "epoch: 531, loss: 2.9061083006858826, acc: 0.40383997559547424, test loss: 3.16454199552536, test acc: 0.116239994764328\n",
      "epoch: 532, loss: 2.903294253349304, acc: 0.4083200693130493, test loss: 3.1638724398612976, test acc: 0.11575997620820999\n",
      "epoch: 533, loss: 2.90375572681427, acc: 0.40759995579719543, test loss: 3.164085133075714, test acc: 0.11552002280950546\n",
      "epoch: 534, loss: 2.9042170071601867, acc: 0.40744003653526306, test loss: 3.165325756072998, test acc: 0.11495999991893768\n",
      "epoch: 535, loss: 2.903701980113983, acc: 0.40832003951072693, test loss: 3.163966872692108, test acc: 0.11760002374649048\n",
      "epoch: 536, loss: 2.9034198474884034, acc: 0.4075199365615845, test loss: 3.16392603635788, test acc: 0.11600004136562347\n",
      "epoch: 537, loss: 2.9032578897476196, acc: 0.4079199731349945, test loss: 3.1645424938201905, test acc: 0.11455999314785004\n",
      "epoch: 538, loss: 2.9030652499198912, acc: 0.407679945230484, test loss: 3.1659080958366395, test acc: 0.113040030002594\n",
      "epoch: 539, loss: 2.90434063911438, acc: 0.4065600633621216, test loss: 3.1661735916137697, test acc: 0.11296000331640244\n",
      "epoch: 540, loss: 2.903106544017792, acc: 0.40839993953704834, test loss: 3.16402765750885, test acc: 0.11615997552871704\n",
      "epoch: 541, loss: 2.903107211589813, acc: 0.4085600972175598, test loss: 3.165251715183258, test acc: 0.11376001685857773\n",
      "epoch: 542, loss: 2.9041938304901125, acc: 0.40720003843307495, test loss: 3.165564479827881, test acc: 0.11535999178886414\n",
      "epoch: 543, loss: 2.9027546405792237, acc: 0.4088801443576813, test loss: 3.1644541144371034, test acc: 0.11496002227067947\n",
      "epoch: 544, loss: 2.9037569856643675, acc: 0.40688008069992065, test loss: 3.1639689660072325, test acc: 0.11680000275373459\n",
      "epoch: 545, loss: 2.9035847902297975, acc: 0.40727993845939636, test loss: 3.1659300351142883, test acc: 0.11312001198530197\n",
      "epoch: 546, loss: 2.9020891785621643, acc: 0.4095200002193451, test loss: 3.166443166732788, test acc: 0.11287999898195267\n",
      "epoch: 547, loss: 2.9029804110527038, acc: 0.4087199866771698, test loss: 3.164248549938202, test acc: 0.11447998881340027\n",
      "epoch: 548, loss: 2.9028145241737366, acc: 0.40943995118141174, test loss: 3.16426251411438, test acc: 0.11600004136562347\n",
      "epoch: 549, loss: 2.9026147413253782, acc: 0.40904003381729126, test loss: 3.1643379878997804, test acc: 0.11360002309083939\n",
      "epoch: 550, loss: 2.9032943558692934, acc: 0.4070400297641754, test loss: 3.164579255580902, test acc: 0.1154400184750557\n",
      "epoch: 551, loss: 2.902362861633301, acc: 0.40880003571510315, test loss: 3.164178557395935, test acc: 0.11416003108024597\n",
      "epoch: 552, loss: 2.9021905493736266, acc: 0.40952005982398987, test loss: 3.1649404549598694, test acc: 0.11360002309083939\n",
      "epoch: 553, loss: 2.9030558252334595, acc: 0.40815991163253784, test loss: 3.1636479759216307, test acc: 0.11688000708818436\n",
      "epoch: 554, loss: 2.9034244441986083, acc: 0.40824002027511597, test loss: 3.1650418424606324, test acc: 0.11304003745317459\n",
      "epoch: 555, loss: 2.901937389373779, acc: 0.4096800684928894, test loss: 3.1649084520339965, test acc: 0.11432000994682312\n",
      "epoch: 556, loss: 2.901864731311798, acc: 0.4095999002456665, test loss: 3.1656644773483276, test acc: 0.11280001699924469\n",
      "epoch: 557, loss: 2.901743607521057, acc: 0.41016003489494324, test loss: 3.164534480571747, test acc: 0.11584001779556274\n",
      "epoch: 558, loss: 2.9025165605545045, acc: 0.40991997718811035, test loss: 3.164433789253235, test acc: 0.11471999436616898\n",
      "epoch: 559, loss: 2.9015676045417784, acc: 0.41008007526397705, test loss: 3.1635828971862794, test acc: 0.11576001346111298\n",
      "epoch: 560, loss: 2.902292013168335, acc: 0.4095999598503113, test loss: 3.164218690395355, test acc: 0.11640002578496933\n",
      "epoch: 561, loss: 2.9020609498023986, acc: 0.4096800684928894, test loss: 3.163238925933838, test acc: 0.11720000207424164\n",
      "epoch: 562, loss: 2.90317357301712, acc: 0.4078400135040283, test loss: 3.1648346304893495, test acc: 0.11392001807689667\n",
      "epoch: 563, loss: 2.902757000923157, acc: 0.40871986746788025, test loss: 3.1644674587249755, test acc: 0.1170400083065033\n",
      "epoch: 564, loss: 2.902228136062622, acc: 0.40903979539871216, test loss: 3.1648188543319704, test acc: 0.1132800281047821\n",
      "epoch: 565, loss: 2.9021377468109133, acc: 0.409120112657547, test loss: 3.164198920726776, test acc: 0.11608000844717026\n",
      "epoch: 566, loss: 2.9015892601013182, acc: 0.41072002053260803, test loss: 3.1636308312416075, test acc: 0.11583999544382095\n",
      "epoch: 567, loss: 2.9019051122665407, acc: 0.41016003489494324, test loss: 3.1643843936920164, test acc: 0.11687999963760376\n",
      "epoch: 568, loss: 2.9014210867881776, acc: 0.4102400839328766, test loss: 3.1649121046066284, test acc: 0.11568000912666321\n",
      "epoch: 569, loss: 2.9014451241493227, acc: 0.41016003489494324, test loss: 3.1650652718544006, test acc: 0.11320001631975174\n",
      "epoch: 570, loss: 2.901599464416504, acc: 0.40984007716178894, test loss: 3.162819764614105, test acc: 0.117280013859272\n",
      "epoch: 571, loss: 2.9007732343673704, acc: 0.41127997636795044, test loss: 3.165262780189514, test acc: 0.11471997946500778\n",
      "epoch: 572, loss: 2.9013372111320495, acc: 0.40967997908592224, test loss: 3.164954197406769, test acc: 0.11335999518632889\n",
      "epoch: 573, loss: 2.9012953805923463, acc: 0.41008004546165466, test loss: 3.1649426364898683, test acc: 0.11383999139070511\n",
      "epoch: 574, loss: 2.901527009010315, acc: 0.4104800522327423, test loss: 3.1645707154273985, test acc: 0.1170400083065033\n",
      "epoch: 575, loss: 2.9014074206352234, acc: 0.4100000858306885, test loss: 3.163885335922241, test acc: 0.11552000790834427\n",
      "epoch: 576, loss: 2.900906112194061, acc: 0.4113600254058838, test loss: 3.168830981254578, test acc: 0.10632000863552094\n",
      "epoch: 577, loss: 2.9015368604660035, acc: 0.40880003571510315, test loss: 3.1643719387054445, test acc: 0.11648000776767731\n",
      "epoch: 578, loss: 2.9007610630989076, acc: 0.4111201763153076, test loss: 3.167339107990265, test acc: 0.11096000671386719\n",
      "epoch: 579, loss: 2.9023031306266787, acc: 0.40991997718811035, test loss: 3.1630563807487486, test acc: 0.1186400055885315\n",
      "epoch: 580, loss: 2.901246793270111, acc: 0.4105599522590637, test loss: 3.1662935829162597, test acc: 0.11368001997470856\n",
      "epoch: 581, loss: 2.901411280632019, acc: 0.41103991866111755, test loss: 3.164850862026215, test acc: 0.11496002227067947\n",
      "epoch: 582, loss: 2.900489375591278, acc: 0.41175997257232666, test loss: 3.1640355348587037, test acc: 0.11640002578496933\n",
      "epoch: 583, loss: 2.900830256938934, acc: 0.4105599522590637, test loss: 3.165414710044861, test acc: 0.11456000059843063\n",
      "epoch: 584, loss: 2.9008300614356997, acc: 0.40984004735946655, test loss: 3.165006306171417, test acc: 0.11591999977827072\n",
      "epoch: 585, loss: 2.900380494594574, acc: 0.41160014271736145, test loss: 3.1640939903259278, test acc: 0.11664002388715744\n",
      "epoch: 586, loss: 2.8999037456512453, acc: 0.412479966878891, test loss: 3.1644909811019897, test acc: 0.11391997337341309\n",
      "epoch: 587, loss: 2.902797281742096, acc: 0.40776005387306213, test loss: 3.163367023468018, test acc: 0.11936002969741821\n",
      "epoch: 588, loss: 2.899989674091339, acc: 0.4113600254058838, test loss: 3.1641622304916384, test acc: 0.11535999178886414\n",
      "epoch: 589, loss: 2.9005335187911987, acc: 0.41159993410110474, test loss: 3.1633746004104615, test acc: 0.1175999864935875\n",
      "epoch: 590, loss: 2.9016206002235414, acc: 0.40984001755714417, test loss: 3.1630767035484313, test acc: 0.11831999570131302\n",
      "epoch: 591, loss: 2.900195236206055, acc: 0.41112005710601807, test loss: 3.163854088783264, test acc: 0.11656000465154648\n",
      "epoch: 592, loss: 2.900341031551361, acc: 0.4118399918079376, test loss: 3.1644735980033873, test acc: 0.11512000113725662\n",
      "epoch: 593, loss: 2.900169324874878, acc: 0.4120800793170929, test loss: 3.1672945475578307, test acc: 0.11016000807285309\n",
      "epoch: 594, loss: 2.9021598410606386, acc: 0.4089599549770355, test loss: 3.1639354968070985, test acc: 0.11720000952482224\n",
      "epoch: 595, loss: 2.8997032022476197, acc: 0.41144001483917236, test loss: 3.164452488422394, test acc: 0.1148800253868103\n",
      "epoch: 596, loss: 2.899630184173584, acc: 0.4115200340747833, test loss: 3.165110559463501, test acc: 0.11687998473644257\n",
      "epoch: 597, loss: 2.9007295823097228, acc: 0.4123200476169586, test loss: 3.1634641003608706, test acc: 0.11712002009153366\n",
      "epoch: 598, loss: 2.899695887565613, acc: 0.41119998693466187, test loss: 3.164540991783142, test acc: 0.11447999626398087\n",
      "epoch: 599, loss: 2.901442108154297, acc: 0.41032010316848755, test loss: 3.1636124444007874, test acc: 0.11616001278162003\n",
      "epoch: 600, loss: 2.8995075583457948, acc: 0.41224002838134766, test loss: 3.1645952820777894, test acc: 0.11600001156330109\n",
      "epoch: 601, loss: 2.89980815410614, acc: 0.41168007254600525, test loss: 3.164838287830353, test acc: 0.11528000980615616\n",
      "epoch: 602, loss: 2.8998731708526613, acc: 0.4119999408721924, test loss: 3.1635675716400145, test acc: 0.11760000884532928\n",
      "epoch: 603, loss: 2.8995179891586305, acc: 0.4126400053501129, test loss: 3.1632962584495545, test acc: 0.1170399859547615\n",
      "epoch: 604, loss: 2.9001695728302, acc: 0.41272011399269104, test loss: 3.1636771893501283, test acc: 0.11760002374649048\n",
      "epoch: 605, loss: 2.9015976357460023, acc: 0.4091200530529022, test loss: 3.163210566043854, test acc: 0.11848000437021255\n",
      "epoch: 606, loss: 2.8997182726860045, acc: 0.4127200245857239, test loss: 3.165388081073761, test acc: 0.11487999558448792\n",
      "epoch: 607, loss: 2.9000697708129883, acc: 0.41168010234832764, test loss: 3.1644173860549927, test acc: 0.11535999923944473\n",
      "epoch: 608, loss: 2.899611945152283, acc: 0.41120001673698425, test loss: 3.164279863834381, test acc: 0.11520002037286758\n",
      "epoch: 609, loss: 2.8999566078186034, acc: 0.4107999801635742, test loss: 3.1647502899169924, test acc: 0.11575999110937119\n",
      "epoch: 610, loss: 2.8998834800720217, acc: 0.4123200476169586, test loss: 3.164533977508545, test acc: 0.11647998541593552\n",
      "epoch: 611, loss: 2.900727536678314, acc: 0.4104800522327423, test loss: 3.1658333253860476, test acc: 0.11367999762296677\n",
      "epoch: 612, loss: 2.899715247154236, acc: 0.4115200936794281, test loss: 3.165707535743713, test acc: 0.11528000980615616\n",
      "epoch: 613, loss: 2.9000654816627502, acc: 0.41127997636795044, test loss: 3.1651864671707153, test acc: 0.11392000317573547\n",
      "epoch: 614, loss: 2.8993767404556277, acc: 0.4128800332546234, test loss: 3.163056492805481, test acc: 0.11743998527526855\n",
      "epoch: 615, loss: 2.8991583156585694, acc: 0.4129600524902344, test loss: 3.164822728633881, test acc: 0.11408001184463501\n",
      "epoch: 616, loss: 2.900630600452423, acc: 0.4107999801635742, test loss: 3.1652322125434877, test acc: 0.11287999153137207\n",
      "epoch: 617, loss: 2.8991872000694277, acc: 0.4124799966812134, test loss: 3.163374330997467, test acc: 0.11695998907089233\n",
      "epoch: 618, loss: 2.8988842439651488, acc: 0.41248008608818054, test loss: 3.166701374053955, test acc: 0.11264000087976456\n",
      "epoch: 619, loss: 2.9002193808555603, acc: 0.4113600254058838, test loss: 3.1647598528862, test acc: 0.11432000249624252\n",
      "epoch: 620, loss: 2.8991197776794433, acc: 0.4129599630832672, test loss: 3.1646550631523134, test acc: 0.11416001617908478\n",
      "epoch: 621, loss: 2.9018677854537964, acc: 0.40856003761291504, test loss: 3.1646817040443422, test acc: 0.11272001266479492\n",
      "epoch: 622, loss: 2.899480586051941, acc: 0.41232001781463623, test loss: 3.1637824535369874, test acc: 0.11656000465154648\n",
      "epoch: 623, loss: 2.8985368728637697, acc: 0.4128800928592682, test loss: 3.1637544941902163, test acc: 0.11631999164819717\n",
      "epoch: 624, loss: 2.898935706615448, acc: 0.4127199053764343, test loss: 3.163384025096893, test acc: 0.11704002320766449\n",
      "epoch: 625, loss: 2.8989766001701356, acc: 0.4127199947834015, test loss: 3.1635666131973266, test acc: 0.11656000465154648\n",
      "epoch: 626, loss: 2.8996738457679747, acc: 0.41200006008148193, test loss: 3.1637532258033754, test acc: 0.11687998473644257\n",
      "epoch: 627, loss: 2.900734944343567, acc: 0.4108000695705414, test loss: 3.1656379318237304, test acc: 0.11368001252412796\n",
      "epoch: 628, loss: 2.8978199648857115, acc: 0.41391998529434204, test loss: 3.1645813298225405, test acc: 0.11648000776767731\n",
      "epoch: 629, loss: 2.8996013522148134, acc: 0.41152000427246094, test loss: 3.16397155046463, test acc: 0.11583995819091797\n",
      "epoch: 630, loss: 2.899889760017395, acc: 0.4125599265098572, test loss: 3.16343302488327, test acc: 0.11792001873254776\n",
      "epoch: 631, loss: 2.899293122291565, acc: 0.41231998801231384, test loss: 3.16456494808197, test acc: 0.11568000912666321\n",
      "epoch: 632, loss: 2.898580906391144, acc: 0.41272011399269104, test loss: 3.1642056846618654, test acc: 0.11528000235557556\n",
      "epoch: 633, loss: 2.8988851213455202, acc: 0.41304004192352295, test loss: 3.16413969039917, test acc: 0.11455999314785004\n",
      "epoch: 634, loss: 2.8990586304664614, acc: 0.41328006982803345, test loss: 3.163465766906738, test acc: 0.11903997510671616\n",
      "epoch: 635, loss: 2.8991988134384155, acc: 0.41135990619659424, test loss: 3.164869508743286, test acc: 0.11487998068332672\n",
      "epoch: 636, loss: 2.898617286682129, acc: 0.41335994005203247, test loss: 3.1645602989196777, test acc: 0.11424000561237335\n",
      "epoch: 637, loss: 2.898361783027649, acc: 0.41359999775886536, test loss: 3.1644454622268676, test acc: 0.11552000790834427\n",
      "epoch: 638, loss: 2.898494381904602, acc: 0.41184002161026, test loss: 3.164415457248688, test acc: 0.11591997742652893\n",
      "epoch: 639, loss: 2.8985951852798464, acc: 0.413360059261322, test loss: 3.164813213348389, test acc: 0.11400003731250763\n",
      "epoch: 640, loss: 2.8994630861282347, acc: 0.4120800495147705, test loss: 3.1654221057891845, test acc: 0.11503999680280685\n",
      "epoch: 641, loss: 2.899519441127777, acc: 0.4127200245857239, test loss: 3.1653852796554567, test acc: 0.11520000547170639\n",
      "epoch: 642, loss: 2.8988265061378478, acc: 0.41360005736351013, test loss: 3.163400323390961, test acc: 0.11640000343322754\n",
      "epoch: 643, loss: 2.9001585721969603, acc: 0.4104800820350647, test loss: 3.166946828365326, test acc: 0.11112000793218613\n",
      "epoch: 644, loss: 2.899064826965332, acc: 0.41120001673698425, test loss: 3.164226560592651, test acc: 0.11528000980615616\n",
      "epoch: 645, loss: 2.8984974789619447, acc: 0.4131200313568115, test loss: 3.166678466796875, test acc: 0.11296002566814423\n",
      "epoch: 646, loss: 2.8993239521980287, acc: 0.4113600552082062, test loss: 3.163048701286316, test acc: 0.11656000465154648\n",
      "epoch: 647, loss: 2.8989199137687685, acc: 0.4122399389743805, test loss: 3.16405796289444, test acc: 0.11447999626398087\n",
      "epoch: 648, loss: 2.899178867340088, acc: 0.41336002945899963, test loss: 3.1649348855018617, test acc: 0.11567998677492142\n",
      "epoch: 649, loss: 2.8991318249702456, acc: 0.4126400649547577, test loss: 3.1637245416641235, test acc: 0.11639998108148575\n",
      "epoch: 650, loss: 2.898990092277527, acc: 0.4126400351524353, test loss: 3.163711712360382, test acc: 0.11712000519037247\n",
      "epoch: 651, loss: 2.8980697703361513, acc: 0.41376006603240967, test loss: 3.163825931549072, test acc: 0.11535997688770294\n",
      "epoch: 652, loss: 2.897526113986969, acc: 0.4145600497722626, test loss: 3.165657465457916, test acc: 0.11504000425338745\n",
      "epoch: 653, loss: 2.897532935142517, acc: 0.41543999314308167, test loss: 3.163610143661499, test acc: 0.11839999258518219\n",
      "epoch: 654, loss: 2.8997778558731078, acc: 0.41287997364997864, test loss: 3.163754606246948, test acc: 0.11607998609542847\n",
      "epoch: 655, loss: 2.8978152894973754, acc: 0.4157599210739136, test loss: 3.165176193714142, test acc: 0.1154400035738945\n",
      "epoch: 656, loss: 2.897756054401398, acc: 0.4135199785232544, test loss: 3.1641001892089844, test acc: 0.11688002943992615\n",
      "epoch: 657, loss: 2.8976896095275877, acc: 0.4148799479007721, test loss: 3.1637850856781005, test acc: 0.11559999734163284\n",
      "epoch: 658, loss: 2.897816972732544, acc: 0.41480007767677307, test loss: 3.165148603916168, test acc: 0.11487999558448792\n",
      "epoch: 659, loss: 2.897930142879486, acc: 0.41447991132736206, test loss: 3.163875262737274, test acc: 0.11511999368667603\n",
      "epoch: 660, loss: 2.8976992177963257, acc: 0.41392001509666443, test loss: 3.1643572640419007, test acc: 0.11576001346111298\n",
      "epoch: 661, loss: 2.897160043716431, acc: 0.41511988639831543, test loss: 3.16579354763031, test acc: 0.11240001022815704\n",
      "epoch: 662, loss: 2.8972600150108336, acc: 0.41447991132736206, test loss: 3.1642944908142088, test acc: 0.11591997742652893\n",
      "epoch: 663, loss: 2.896919105052948, acc: 0.415039986371994, test loss: 3.1644528555870055, test acc: 0.11576002091169357\n",
      "epoch: 664, loss: 2.898595051765442, acc: 0.4126399755477905, test loss: 3.1649039793014526, test acc: 0.11368002742528915\n",
      "epoch: 665, loss: 2.898715283870697, acc: 0.41296008229255676, test loss: 3.1632581114768983, test acc: 0.1180800050497055\n",
      "epoch: 666, loss: 2.896655464172363, acc: 0.4152000844478607, test loss: 3.1636311483383177, test acc: 0.11656000465154648\n",
      "epoch: 667, loss: 2.8975100326538086, acc: 0.4135199785232544, test loss: 3.1639363098144533, test acc: 0.11656000465154648\n",
      "epoch: 668, loss: 2.8969524478912354, acc: 0.41504010558128357, test loss: 3.16380925655365, test acc: 0.11720000952482224\n",
      "epoch: 669, loss: 2.896781709194183, acc: 0.41527992486953735, test loss: 3.163133807182312, test acc: 0.11760000139474869\n",
      "epoch: 670, loss: 2.897138149738312, acc: 0.41464003920555115, test loss: 3.1646514773368835, test acc: 0.11552000790834427\n",
      "epoch: 671, loss: 2.8985827445983885, acc: 0.41216015815734863, test loss: 3.1646501779556275, test acc: 0.11631999909877777\n",
      "epoch: 672, loss: 2.896952784061432, acc: 0.41503992676734924, test loss: 3.163832333087921, test acc: 0.11640002578496933\n",
      "epoch: 673, loss: 2.897311210632324, acc: 0.4143199622631073, test loss: 3.16442325592041, test acc: 0.11440001428127289\n",
      "epoch: 674, loss: 2.8968703174591064, acc: 0.4141600430011749, test loss: 3.1638788843154906, test acc: 0.11743999272584915\n",
      "epoch: 675, loss: 2.8974093914031984, acc: 0.41359999775886536, test loss: 3.1645593452453613, test acc: 0.11520000547170639\n",
      "epoch: 676, loss: 2.898583698272705, acc: 0.4113599359989166, test loss: 3.1635533952713013, test acc: 0.1180800274014473\n",
      "epoch: 677, loss: 2.8975142526626585, acc: 0.41480007767677307, test loss: 3.1655310726165773, test acc: 0.11535999178886414\n",
      "epoch: 678, loss: 2.8964563822746277, acc: 0.4162401258945465, test loss: 3.1647741270065306, test acc: 0.11352000385522842\n",
      "epoch: 679, loss: 2.8979701733589174, acc: 0.41408002376556396, test loss: 3.164990940093994, test acc: 0.1146400049328804\n",
      "epoch: 680, loss: 2.8964704871177673, acc: 0.4155999422073364, test loss: 3.1645130705833435, test acc: 0.11591999977827072\n",
      "epoch: 681, loss: 2.897290086746216, acc: 0.41384002566337585, test loss: 3.164593152999878, test acc: 0.11503998935222626\n",
      "epoch: 682, loss: 2.896168487071991, acc: 0.41648003458976746, test loss: 3.163600945472717, test acc: 0.11800000816583633\n",
      "epoch: 683, loss: 2.8978894639015196, acc: 0.4133600890636444, test loss: 3.165542757511139, test acc: 0.1119999811053276\n",
      "epoch: 684, loss: 2.8968242979049683, acc: 0.41623997688293457, test loss: 3.1637516236305236, test acc: 0.11655998229980469\n",
      "epoch: 685, loss: 2.895989146232605, acc: 0.4159199893474579, test loss: 3.1644347858428956, test acc: 0.11680001020431519\n",
      "epoch: 686, loss: 2.895765628814697, acc: 0.41631993651390076, test loss: 3.164475829601288, test acc: 0.11623996496200562\n",
      "epoch: 687, loss: 2.897531042098999, acc: 0.4145600497722626, test loss: 3.1655994868278503, test acc: 0.11151998490095139\n",
      "epoch: 688, loss: 2.8971503472328184, acc: 0.41496002674102783, test loss: 3.164428594112396, test acc: 0.1151999980211258\n",
      "epoch: 689, loss: 2.8960019040107725, acc: 0.4166400134563446, test loss: 3.1649963331222533, test acc: 0.11407999694347382\n",
      "epoch: 690, loss: 2.895951702594757, acc: 0.41687992215156555, test loss: 3.1645780181884766, test acc: 0.11599999666213989\n",
      "epoch: 691, loss: 2.8959308958053587, acc: 0.4166399836540222, test loss: 3.165156755447388, test acc: 0.11479998379945755\n",
      "epoch: 692, loss: 2.8958247399330137, acc: 0.41576001048088074, test loss: 3.1640659523010255, test acc: 0.11568000167608261\n",
      "epoch: 693, loss: 2.8959325432777403, acc: 0.4160800576210022, test loss: 3.1635594844818113, test acc: 0.11743999272584915\n",
      "epoch: 694, loss: 2.896422209739685, acc: 0.4159199893474579, test loss: 3.1644481468200683, test acc: 0.11584001779556274\n",
      "epoch: 695, loss: 2.896115577220917, acc: 0.41624003648757935, test loss: 3.1628967261314394, test acc: 0.11776001751422882\n",
      "epoch: 696, loss: 2.896303997039795, acc: 0.4157600402832031, test loss: 3.164005181789398, test acc: 0.11631999909877777\n",
      "epoch: 697, loss: 2.895888226032257, acc: 0.4166399836540222, test loss: 3.1675116443634033, test acc: 0.11207998543977737\n",
      "epoch: 698, loss: 2.896495432853699, acc: 0.4153599441051483, test loss: 3.1643511962890627, test acc: 0.11672002822160721\n",
      "epoch: 699, loss: 2.8960083389282225, acc: 0.41648006439208984, test loss: 3.163903687000275, test acc: 0.11648000031709671\n",
      "epoch: 700, loss: 2.895586950778961, acc: 0.41703999042510986, test loss: 3.163652632236481, test acc: 0.11655998229980469\n",
      "epoch: 701, loss: 2.8957075667381287, acc: 0.416000097990036, test loss: 3.164095394611359, test acc: 0.11680000275373459\n",
      "epoch: 702, loss: 2.896049473285675, acc: 0.4169600307941437, test loss: 3.1640591621398926, test acc: 0.1170400083065033\n",
      "epoch: 703, loss: 2.8957048320770262, acc: 0.4167200028896332, test loss: 3.1643635392189027, test acc: 0.1146400049328804\n",
      "epoch: 704, loss: 2.8969190335273742, acc: 0.4149600565433502, test loss: 3.164757492542267, test acc: 0.1138400062918663\n",
      "epoch: 705, loss: 2.895028862953186, acc: 0.4175199270248413, test loss: 3.1639546179771423, test acc: 0.11640003323554993\n",
      "epoch: 706, loss: 2.895606880187988, acc: 0.41752010583877563, test loss: 3.1630138325691224, test acc: 0.11792001128196716\n",
      "epoch: 707, loss: 2.8951569867134093, acc: 0.4163200855255127, test loss: 3.1638552951812744, test acc: 0.1167999804019928\n",
      "epoch: 708, loss: 2.8948423576354982, acc: 0.4180799722671509, test loss: 3.1663799476623535, test acc: 0.11023999005556107\n",
      "epoch: 709, loss: 2.8950349259376527, acc: 0.41711997985839844, test loss: 3.163570444583893, test acc: 0.11816000938415527\n",
      "epoch: 710, loss: 2.895728714466095, acc: 0.41664010286331177, test loss: 3.163793568611145, test acc: 0.11560000479221344\n",
      "epoch: 711, loss: 2.8954676675796507, acc: 0.4172801971435547, test loss: 3.164181976318359, test acc: 0.11552004516124725\n",
      "epoch: 712, loss: 2.8948543095588684, acc: 0.41728001832962036, test loss: 3.164644582271576, test acc: 0.1154399886727333\n",
      "epoch: 713, loss: 2.895339243412018, acc: 0.41744011640548706, test loss: 3.164751796722412, test acc: 0.11408001184463501\n",
      "epoch: 714, loss: 2.894788906574249, acc: 0.41760003566741943, test loss: 3.1624909377098085, test acc: 0.11800002306699753\n",
      "epoch: 715, loss: 2.8962299466133117, acc: 0.41335999965667725, test loss: 3.16346620798111, test acc: 0.11752002686262131\n",
      "epoch: 716, loss: 2.8959261870384214, acc: 0.416640043258667, test loss: 3.1651739645004273, test acc: 0.11272001266479492\n",
      "epoch: 717, loss: 2.895412549972534, acc: 0.4171999394893646, test loss: 3.164206087589264, test acc: 0.11568000167608261\n",
      "epoch: 718, loss: 2.8954243278503418, acc: 0.41720008850097656, test loss: 3.1629429721832274, test acc: 0.1180800274014473\n",
      "epoch: 719, loss: 2.895679099559784, acc: 0.4153600335121155, test loss: 3.1633570551872254, test acc: 0.11664001643657684\n",
      "epoch: 720, loss: 2.8947854447364807, acc: 0.4179200232028961, test loss: 3.164686064720154, test acc: 0.1151999980211258\n",
      "epoch: 721, loss: 2.8947139883041384, acc: 0.4180000424385071, test loss: 3.1663682222366334, test acc: 0.11223998665809631\n",
      "epoch: 722, loss: 2.895142824649811, acc: 0.4159200191497803, test loss: 3.1652193999290468, test acc: 0.1154399961233139\n",
      "epoch: 723, loss: 2.8943173909187316, acc: 0.41776013374328613, test loss: 3.1633462595939634, test acc: 0.11744001507759094\n",
      "epoch: 724, loss: 2.8970540976524353, acc: 0.41503989696502686, test loss: 3.163955726623535, test acc: 0.11575999855995178\n",
      "epoch: 725, loss: 2.8947781324386597, acc: 0.41704002022743225, test loss: 3.1656740880012513, test acc: 0.11224000155925751\n",
      "epoch: 726, loss: 2.894964370727539, acc: 0.41792014241218567, test loss: 3.1629997801780703, test acc: 0.11712002009153366\n",
      "epoch: 727, loss: 2.8942357158660887, acc: 0.4180799722671509, test loss: 3.164311912059784, test acc: 0.11591999977827072\n",
      "epoch: 728, loss: 2.8943718218803407, acc: 0.41791996359825134, test loss: 3.163089315891266, test acc: 0.11743997782468796\n",
      "epoch: 729, loss: 2.895955452919006, acc: 0.41607993841171265, test loss: 3.163416979312897, test acc: 0.11632002145051956\n",
      "epoch: 730, loss: 2.89449649810791, acc: 0.41815999150276184, test loss: 3.1639369773864745, test acc: 0.11520000547170639\n",
      "epoch: 731, loss: 2.895047338008881, acc: 0.417199969291687, test loss: 3.1644334602355957, test acc: 0.11551997810602188\n",
      "epoch: 732, loss: 2.894758839607239, acc: 0.41728001832962036, test loss: 3.1625843381881715, test acc: 0.11823997646570206\n",
      "epoch: 733, loss: 2.8941608619689942, acc: 0.4184800386428833, test loss: 3.163887541294098, test acc: 0.11560003459453583\n",
      "epoch: 734, loss: 2.894597973823547, acc: 0.4167200028896332, test loss: 3.1629857206344605, test acc: 0.11760000139474869\n",
      "epoch: 735, loss: 2.8946287345886232, acc: 0.41847991943359375, test loss: 3.164383807182312, test acc: 0.11487998068332672\n",
      "epoch: 736, loss: 2.894077618122101, acc: 0.4187198579311371, test loss: 3.1631178760528567, test acc: 0.11672000586986542\n",
      "epoch: 737, loss: 2.894312472343445, acc: 0.4173600375652313, test loss: 3.1657209157943726, test acc: 0.11247996985912323\n",
      "epoch: 738, loss: 2.8959942865371704, acc: 0.41568005084991455, test loss: 3.163761339187622, test acc: 0.11639998108148575\n",
      "epoch: 739, loss: 2.894036614894867, acc: 0.4183200001716614, test loss: 3.1642282819747924, test acc: 0.11512000113725662\n",
      "epoch: 740, loss: 2.894117679595947, acc: 0.41815993189811707, test loss: 3.1647798013687134, test acc: 0.11480000615119934\n",
      "epoch: 741, loss: 2.8940372490882873, acc: 0.41752007603645325, test loss: 3.1656932830810547, test acc: 0.11351997405290604\n",
      "epoch: 742, loss: 2.894748866558075, acc: 0.41696012020111084, test loss: 3.1636757135391234, test acc: 0.1156800165772438\n",
      "epoch: 743, loss: 2.8937917351722717, acc: 0.4184000492095947, test loss: 3.1652158856391908, test acc: 0.11343999207019806\n",
      "epoch: 744, loss: 2.89392450094223, acc: 0.41816002130508423, test loss: 3.1629720902442933, test acc: 0.11776000261306763\n",
      "epoch: 745, loss: 2.8948516750335695, acc: 0.41888004541397095, test loss: 3.1629969906806945, test acc: 0.11696000397205353\n",
      "epoch: 746, loss: 2.893072254657745, acc: 0.41839995980262756, test loss: 3.169395987987518, test acc: 0.10815998911857605\n",
      "epoch: 747, loss: 2.894733498096466, acc: 0.41744014620780945, test loss: 3.1629826068878173, test acc: 0.11800005286931992\n",
      "epoch: 748, loss: 2.8931332278251647, acc: 0.4201601445674896, test loss: 3.163546931743622, test acc: 0.11720000952482224\n",
      "epoch: 749, loss: 2.894265432357788, acc: 0.41696006059646606, test loss: 3.1635341906547545, test acc: 0.11743999272584915\n",
      "epoch: 750, loss: 2.8936289501190187, acc: 0.42008018493652344, test loss: 3.163211727142334, test acc: 0.11751999706029892\n",
      "epoch: 751, loss: 2.895084190368652, acc: 0.4189598858356476, test loss: 3.163581335544586, test acc: 0.11671999096870422\n",
      "epoch: 752, loss: 2.8937475204467775, acc: 0.41815999150276184, test loss: 3.1636395049095154, test acc: 0.11680002510547638\n",
      "epoch: 753, loss: 2.8932410860061646, acc: 0.4189600348472595, test loss: 3.166397707462311, test acc: 0.11104000359773636\n",
      "epoch: 754, loss: 2.8942738699913027, acc: 0.41783997416496277, test loss: 3.1637612795829773, test acc: 0.11576001346111298\n",
      "epoch: 755, loss: 2.8933397269248964, acc: 0.41968002915382385, test loss: 3.1647741746902467, test acc: 0.11415998637676239\n",
      "epoch: 756, loss: 2.894157726764679, acc: 0.4179200232028961, test loss: 3.169530646800995, test acc: 0.10655999183654785\n",
      "epoch: 757, loss: 2.8938651943206786, acc: 0.41776004433631897, test loss: 3.163529224395752, test acc: 0.11736000329256058\n",
      "epoch: 758, loss: 2.8937509083747863, acc: 0.4183999300003052, test loss: 3.1671119499206544, test acc: 0.11095999926328659\n",
      "epoch: 759, loss: 2.8943309116363527, acc: 0.4168801009654999, test loss: 3.1667323231697084, test acc: 0.11167999356985092\n",
      "epoch: 760, loss: 2.8935275149345396, acc: 0.4195198714733124, test loss: 3.164059772491455, test acc: 0.11575998365879059\n",
      "epoch: 761, loss: 2.8945260214805604, acc: 0.41759997606277466, test loss: 3.165684928894043, test acc: 0.11392001062631607\n",
      "epoch: 762, loss: 2.893095622062683, acc: 0.4201600253582001, test loss: 3.1632698655128477, test acc: 0.11631999909877777\n",
      "epoch: 763, loss: 2.8926651525497435, acc: 0.4201600253582001, test loss: 3.163545091152191, test acc: 0.11743997782468796\n",
      "epoch: 764, loss: 2.893847804069519, acc: 0.41759994626045227, test loss: 3.1642086577415465, test acc: 0.11552000790834427\n",
      "epoch: 765, loss: 2.893275942802429, acc: 0.4195999503135681, test loss: 3.164494216442108, test acc: 0.11535999923944473\n",
      "epoch: 766, loss: 2.89271360874176, acc: 0.4200800359249115, test loss: 3.1634696102142335, test acc: 0.11687998473644257\n",
      "epoch: 767, loss: 2.893633711338043, acc: 0.4195200204849243, test loss: 3.1664346075057983, test acc: 0.11072002351284027\n",
      "epoch: 768, loss: 2.89400426864624, acc: 0.4184800684452057, test loss: 3.1649622678756715, test acc: 0.11383996903896332\n",
      "epoch: 769, loss: 2.8932156419754027, acc: 0.4180801510810852, test loss: 3.1630658864974976, test acc: 0.11639995872974396\n",
      "epoch: 770, loss: 2.892352609634399, acc: 0.42007994651794434, test loss: 3.1646451139450074, test acc: 0.11528004705905914\n",
      "epoch: 771, loss: 2.894492623806, acc: 0.415679931640625, test loss: 3.1641723990440367, test acc: 0.1154399961233139\n",
      "epoch: 772, loss: 2.893008675575256, acc: 0.42040008306503296, test loss: 3.165046501159668, test acc: 0.11351999640464783\n",
      "epoch: 773, loss: 2.8921780681610105, acc: 0.42103999853134155, test loss: 3.1631069111824037, test acc: 0.11799999326467514\n",
      "epoch: 774, loss: 2.8922705340385435, acc: 0.4206400215625763, test loss: 3.165397026538849, test acc: 0.11487999558448792\n",
      "epoch: 775, loss: 2.8933976006507875, acc: 0.41944000124931335, test loss: 3.162749345302582, test acc: 0.1170399859547615\n",
      "epoch: 776, loss: 2.893079459667206, acc: 0.418720006942749, test loss: 3.163866102695465, test acc: 0.11639998108148575\n",
      "epoch: 777, loss: 2.8921142053604125, acc: 0.42072010040283203, test loss: 3.1657198667526245, test acc: 0.11223997175693512\n",
      "epoch: 778, loss: 2.8921805667877196, acc: 0.42039984464645386, test loss: 3.1658216190338133, test acc: 0.113040030002594\n",
      "epoch: 779, loss: 2.8929589676856993, acc: 0.4194400906562805, test loss: 3.1641244792938235, test acc: 0.11487999558448792\n",
      "epoch: 780, loss: 2.892044932842255, acc: 0.42151981592178345, test loss: 3.16633948802948, test acc: 0.11160001903772354\n",
      "epoch: 781, loss: 2.892165176868439, acc: 0.42087990045547485, test loss: 3.164889385700226, test acc: 0.1151999980211258\n",
      "epoch: 782, loss: 2.892151243686676, acc: 0.42144012451171875, test loss: 3.164391770362854, test acc: 0.11328001320362091\n",
      "epoch: 783, loss: 2.8923629307746888, acc: 0.4190399944782257, test loss: 3.166715478897095, test acc: 0.1077599972486496\n",
      "epoch: 784, loss: 2.8937857127189637, acc: 0.4179200232028961, test loss: 3.1648985314369202, test acc: 0.11311998963356018\n",
      "epoch: 785, loss: 2.89246559381485, acc: 0.4208000600337982, test loss: 3.1678099846839904, test acc: 0.10968001186847687\n",
      "epoch: 786, loss: 2.8920205783843995, acc: 0.42055997252464294, test loss: 3.1634068989753725, test acc: 0.11600000411272049\n",
      "epoch: 787, loss: 2.892207887172699, acc: 0.42048004269599915, test loss: 3.164201891422272, test acc: 0.11592000722885132\n",
      "epoch: 788, loss: 2.892632761001587, acc: 0.4202401041984558, test loss: 3.164794237613678, test acc: 0.11568000167608261\n",
      "epoch: 789, loss: 2.891568148136139, acc: 0.42064008116722107, test loss: 3.166484522819519, test acc: 0.11240001022815704\n",
      "epoch: 790, loss: 2.892228503227234, acc: 0.42087993025779724, test loss: 3.163667953014374, test acc: 0.11696000397205353\n",
      "epoch: 791, loss: 2.891732409000397, acc: 0.42159998416900635, test loss: 3.1650016140937804, test acc: 0.11399999260902405\n",
      "epoch: 792, loss: 2.8915929627418517, acc: 0.4213600158691406, test loss: 3.164377589225769, test acc: 0.11511997133493423\n",
      "epoch: 793, loss: 2.8927276659011842, acc: 0.4188000559806824, test loss: 3.1634825134277342, test acc: 0.11680000275373459\n",
      "epoch: 794, loss: 2.8921438789367677, acc: 0.4203200042247772, test loss: 3.1652260518074034, test acc: 0.11367999017238617\n",
      "epoch: 795, loss: 2.8918676924705506, acc: 0.42055997252464294, test loss: 3.16471549987793, test acc: 0.11367999017238617\n",
      "epoch: 796, loss: 2.891898696422577, acc: 0.4210399389266968, test loss: 3.163446011543274, test acc: 0.11647997796535492\n",
      "epoch: 797, loss: 2.892279813289642, acc: 0.42103996872901917, test loss: 3.1628765058517456, test acc: 0.11879999935626984\n",
      "epoch: 798, loss: 2.8922208404541014, acc: 0.4208800196647644, test loss: 3.163509240150452, test acc: 0.11551997065544128\n",
      "epoch: 799, loss: 2.8915191793441775, acc: 0.42112019658088684, test loss: 3.1645519518852234, test acc: 0.11407998949289322\n",
      "epoch: 800, loss: 2.8920707869529725, acc: 0.4203200042247772, test loss: 3.163416340351105, test acc: 0.11880002915859222\n",
      "epoch: 801, loss: 2.8922423911094666, acc: 0.4200800359249115, test loss: 3.162863008975983, test acc: 0.11799997091293335\n",
      "epoch: 802, loss: 2.89179874420166, acc: 0.42079994082450867, test loss: 3.1628788256645204, test acc: 0.11983997374773026\n",
      "epoch: 803, loss: 2.8910498428344726, acc: 0.4222399592399597, test loss: 3.163611991405487, test acc: 0.11640002578496933\n",
      "epoch: 804, loss: 2.891765410900116, acc: 0.4220799207687378, test loss: 3.1643706154823303, test acc: 0.11447998881340027\n",
      "epoch: 805, loss: 2.8903917860984802, acc: 0.4228000342845917, test loss: 3.1656399297714235, test acc: 0.11232001334428787\n",
      "epoch: 806, loss: 2.8928832149505617, acc: 0.4187999665737152, test loss: 3.163186376094818, test acc: 0.11815997958183289\n",
      "epoch: 807, loss: 2.8917412853240965, acc: 0.4208000600337982, test loss: 3.1633510303497316, test acc: 0.11664000153541565\n",
      "epoch: 808, loss: 2.892130789756775, acc: 0.4202401340007782, test loss: 3.164631476402283, test acc: 0.1140800192952156\n",
      "epoch: 809, loss: 2.891323432922363, acc: 0.4214400351047516, test loss: 3.164369480609894, test acc: 0.11471997201442719\n",
      "epoch: 810, loss: 2.89178035736084, acc: 0.4212000370025635, test loss: 3.16398154258728, test acc: 0.1156800165772438\n",
      "epoch: 811, loss: 2.89164395570755, acc: 0.41999995708465576, test loss: 3.16348174571991, test acc: 0.11656001210212708\n",
      "epoch: 812, loss: 2.891679794788361, acc: 0.4200800061225891, test loss: 3.163168206214905, test acc: 0.11600000411272049\n",
      "epoch: 813, loss: 2.8921111750602724, acc: 0.4208000600337982, test loss: 3.1641492080688476, test acc: 0.11535997688770294\n",
      "epoch: 814, loss: 2.8928745913505556, acc: 0.4191199541091919, test loss: 3.1667313814163207, test acc: 0.10943998396396637\n",
      "epoch: 815, loss: 2.894161319732666, acc: 0.4168000817298889, test loss: 3.163794467449188, test acc: 0.11495999246835709\n",
      "epoch: 816, loss: 2.891891906261444, acc: 0.4208800196647644, test loss: 3.1649628925323485, test acc: 0.11319999396800995\n",
      "epoch: 817, loss: 2.8912172627449038, acc: 0.4216800928115845, test loss: 3.1635389709472657, test acc: 0.11711999028921127\n",
      "epoch: 818, loss: 2.8917374205589295, acc: 0.41968008875846863, test loss: 3.1641611361503603, test acc: 0.11672002822160721\n",
      "epoch: 819, loss: 2.890930736064911, acc: 0.4223199784755707, test loss: 3.1649367904663084, test acc: 0.11463999003171921\n",
      "epoch: 820, loss: 2.8917691493034363, acc: 0.42040008306503296, test loss: 3.165122389793396, test acc: 0.113599993288517\n",
      "epoch: 821, loss: 2.890520396232605, acc: 0.42232006788253784, test loss: 3.164079225063324, test acc: 0.11431999504566193\n",
      "epoch: 822, loss: 2.892524950504303, acc: 0.4205601215362549, test loss: 3.1625571513175963, test acc: 0.11759999394416809\n",
      "epoch: 823, loss: 2.8924893355369568, acc: 0.4200000464916229, test loss: 3.165843493938446, test acc: 0.11311997473239899\n",
      "epoch: 824, loss: 2.891230082511902, acc: 0.4216000735759735, test loss: 3.164115285873413, test acc: 0.11648000031709671\n",
      "epoch: 825, loss: 2.8912782859802246, acc: 0.4222399890422821, test loss: 3.1629195690155028, test acc: 0.1170399859547615\n",
      "epoch: 826, loss: 2.89071070432663, acc: 0.42223984003067017, test loss: 3.165584285259247, test acc: 0.11368001997470856\n",
      "epoch: 827, loss: 2.8914158821105955, acc: 0.4216001033782959, test loss: 3.163838977813721, test acc: 0.11479997634887695\n",
      "epoch: 828, loss: 2.8911962580680846, acc: 0.4212799072265625, test loss: 3.1653502678871153, test acc: 0.11400000751018524\n",
      "epoch: 829, loss: 2.891464364528656, acc: 0.4219200611114502, test loss: 3.1632733368873596, test acc: 0.11944001168012619\n",
      "epoch: 830, loss: 2.8912385725975036, acc: 0.42168015241622925, test loss: 3.163679187297821, test acc: 0.11568000912666321\n",
      "epoch: 831, loss: 2.8917712664604185, acc: 0.4210401475429535, test loss: 3.165762867927551, test acc: 0.11191999167203903\n",
      "epoch: 832, loss: 2.8917873692512512, acc: 0.42079994082450867, test loss: 3.16451651096344, test acc: 0.11504001915454865\n",
      "epoch: 833, loss: 2.890855495929718, acc: 0.4215999245643616, test loss: 3.1643751311302184, test acc: 0.11535999178886414\n",
      "epoch: 834, loss: 2.891279592514038, acc: 0.42103996872901917, test loss: 3.1636524486541746, test acc: 0.11631999909877777\n",
      "epoch: 835, loss: 2.8917114543914795, acc: 0.42111992835998535, test loss: 3.164757809638977, test acc: 0.11224000155925751\n",
      "epoch: 836, loss: 2.8915616130828856, acc: 0.42111995816230774, test loss: 3.162762460708618, test acc: 0.1178400069475174\n",
      "epoch: 837, loss: 2.890674729347229, acc: 0.421519935131073, test loss: 3.1635743594169616, test acc: 0.11704002320766449\n",
      "epoch: 838, loss: 2.8910800576210023, acc: 0.4220801293849945, test loss: 3.163473143577576, test acc: 0.11495999246835709\n",
      "epoch: 839, loss: 2.8908089709281923, acc: 0.4219999313354492, test loss: 3.163945140838623, test acc: 0.11608000844717026\n",
      "epoch: 840, loss: 2.8908423447608946, acc: 0.42176005244255066, test loss: 3.1652303338050842, test acc: 0.11328002065420151\n",
      "epoch: 841, loss: 2.891274325847626, acc: 0.42096006870269775, test loss: 3.164262602329254, test acc: 0.11543998122215271\n",
      "epoch: 842, loss: 2.891014881134033, acc: 0.4215199947357178, test loss: 3.163986694812775, test acc: 0.11391998082399368\n",
      "epoch: 843, loss: 2.890774464607239, acc: 0.4224000573158264, test loss: 3.16439936876297, test acc: 0.11392000317573547\n",
      "epoch: 844, loss: 2.890284035205841, acc: 0.42263999581336975, test loss: 3.1642051196098326, test acc: 0.11583998799324036\n",
      "epoch: 845, loss: 2.8908863282203674, acc: 0.42287999391555786, test loss: 3.165348927974701, test acc: 0.11247999966144562\n",
      "epoch: 846, loss: 2.890442099571228, acc: 0.4228000342845917, test loss: 3.1634857177734377, test acc: 0.11592000722885132\n",
      "epoch: 847, loss: 2.8907581067085264, acc: 0.42184001207351685, test loss: 3.1632424902915957, test acc: 0.1156800240278244\n",
      "epoch: 848, loss: 2.8909189534187316, acc: 0.42208001017570496, test loss: 3.163427391052246, test acc: 0.11511997878551483\n",
      "epoch: 849, loss: 2.891557745933533, acc: 0.42031997442245483, test loss: 3.165792770385742, test acc: 0.11287996917963028\n",
      "epoch: 850, loss: 2.891439633369446, acc: 0.4211199879646301, test loss: 3.166392436027527, test acc: 0.11032000184059143\n",
      "epoch: 851, loss: 2.8914949011802675, acc: 0.42096006870269775, test loss: 3.161853311061859, test acc: 0.1194399893283844\n",
      "epoch: 852, loss: 2.891080343723297, acc: 0.4215998947620392, test loss: 3.162674186229706, test acc: 0.11744001507759094\n",
      "epoch: 853, loss: 2.8904134941101076, acc: 0.4222399890422821, test loss: 3.165002386569977, test acc: 0.11440000683069229\n",
      "epoch: 854, loss: 2.890875401496887, acc: 0.421519935131073, test loss: 3.163034977912903, test acc: 0.11632000654935837\n",
      "epoch: 855, loss: 2.8909072613716127, acc: 0.4212799072265625, test loss: 3.169346418380737, test acc: 0.10687998682260513\n",
      "epoch: 856, loss: 2.8909007596969603, acc: 0.4219999611377716, test loss: 3.165582685470581, test acc: 0.11256003379821777\n",
      "epoch: 857, loss: 2.8905006980895998, acc: 0.42176002264022827, test loss: 3.1645650339126585, test acc: 0.11455999314785004\n",
      "epoch: 858, loss: 2.8906975531578065, acc: 0.4222400188446045, test loss: 3.163931198120117, test acc: 0.11503999680280685\n",
      "epoch: 859, loss: 2.8905744457244875, acc: 0.42208003997802734, test loss: 3.1639331817626952, test acc: 0.11672000586986542\n",
      "epoch: 860, loss: 2.8905622434616087, acc: 0.42295998334884644, test loss: 3.1634341621398927, test acc: 0.11551996320486069\n",
      "epoch: 861, loss: 2.8906647634506224, acc: 0.4227199852466583, test loss: 3.165018045902252, test acc: 0.11367999762296677\n",
      "epoch: 862, loss: 2.889743905067444, acc: 0.4239199459552765, test loss: 3.16455908536911, test acc: 0.11271995306015015\n",
      "epoch: 863, loss: 2.889877772331238, acc: 0.42343997955322266, test loss: 3.164043736457825, test acc: 0.11447998881340027\n",
      "epoch: 864, loss: 2.889359481334686, acc: 0.4241600036621094, test loss: 3.165743844509125, test acc: 0.11328001320362091\n",
      "epoch: 865, loss: 2.8899204540252685, acc: 0.4227199852466583, test loss: 3.1618352484703065, test acc: 0.1194399893283844\n",
      "epoch: 866, loss: 2.8909894013404847, acc: 0.4221600592136383, test loss: 3.1641364526748657, test acc: 0.11400000751018524\n",
      "epoch: 867, loss: 2.8907323241233827, acc: 0.4214400351047516, test loss: 3.1634570717811585, test acc: 0.11600001156330109\n",
      "epoch: 868, loss: 2.890232081413269, acc: 0.42176005244255066, test loss: 3.1622832465171813, test acc: 0.11927999556064606\n",
      "epoch: 869, loss: 2.8898187637329102, acc: 0.42368000745773315, test loss: 3.1627514147758484, test acc: 0.1188800036907196\n",
      "epoch: 870, loss: 2.8892437744140627, acc: 0.42368003726005554, test loss: 3.163268666267395, test acc: 0.11800000816583633\n",
      "epoch: 871, loss: 2.889897232055664, acc: 0.42311999201774597, test loss: 3.162347319126129, test acc: 0.11776001751422882\n",
      "epoch: 872, loss: 2.8895066499710085, acc: 0.4231199622154236, test loss: 3.164161355495453, test acc: 0.11687998473644257\n",
      "epoch: 873, loss: 2.889541244506836, acc: 0.4236000180244446, test loss: 3.162446901798248, test acc: 0.11824000626802444\n",
      "epoch: 874, loss: 2.8901185154914857, acc: 0.4227999448776245, test loss: 3.1638479113578795, test acc: 0.116239994764328\n",
      "epoch: 875, loss: 2.889855456352234, acc: 0.42343997955322266, test loss: 3.164919877052307, test acc: 0.11311997473239899\n",
      "epoch: 876, loss: 2.89092214345932, acc: 0.4215199649333954, test loss: 3.163592300415039, test acc: 0.11480002105236053\n",
      "epoch: 877, loss: 2.88949508190155, acc: 0.42368003726005554, test loss: 3.163577356338501, test acc: 0.11672000586986542\n",
      "epoch: 878, loss: 2.890028409957886, acc: 0.4232000410556793, test loss: 3.1620214772224426, test acc: 0.11871998757123947\n",
      "epoch: 879, loss: 2.8893806290626527, acc: 0.42384013533592224, test loss: 3.16286386013031, test acc: 0.11751999706029892\n",
      "epoch: 880, loss: 2.8900192308425905, acc: 0.4228799343109131, test loss: 3.1637118339538572, test acc: 0.11536001414060593\n",
      "epoch: 881, loss: 2.8897600984573364, acc: 0.42360004782676697, test loss: 3.164036555290222, test acc: 0.11456002295017242\n",
      "epoch: 882, loss: 2.8890781927108766, acc: 0.42343997955322266, test loss: 3.1632800197601316, test acc: 0.11687999963760376\n",
      "epoch: 883, loss: 2.8898671960830686, acc: 0.42215999960899353, test loss: 3.165293962955475, test acc: 0.11295998841524124\n",
      "epoch: 884, loss: 2.8893793559074403, acc: 0.4243200421333313, test loss: 3.162865610122681, test acc: 0.11696001887321472\n",
      "epoch: 885, loss: 2.8896286606788637, acc: 0.4236799478530884, test loss: 3.1642818236351014, test acc: 0.11456000059843063\n",
      "epoch: 886, loss: 2.8896451210975647, acc: 0.4232000410556793, test loss: 3.163980689048767, test acc: 0.11440000683069229\n",
      "epoch: 887, loss: 2.8897729754447936, acc: 0.42368000745773315, test loss: 3.162998948097229, test acc: 0.11736001074314117\n",
      "epoch: 888, loss: 2.888898527622223, acc: 0.4236801564693451, test loss: 3.1622372674942016, test acc: 0.11767998337745667\n",
      "epoch: 889, loss: 2.8909008073806763, acc: 0.42304015159606934, test loss: 3.1624787759780886, test acc: 0.1188800111413002\n",
      "epoch: 890, loss: 2.890223286151886, acc: 0.4224800169467926, test loss: 3.16294890165329, test acc: 0.11704002320766449\n",
      "epoch: 891, loss: 2.889059944152832, acc: 0.42328011989593506, test loss: 3.1631845307350157, test acc: 0.11800003051757812\n",
      "epoch: 892, loss: 2.8904233622550963, acc: 0.4216800034046173, test loss: 3.1644350719451904, test acc: 0.11407999694347382\n",
      "epoch: 893, loss: 2.890185010433197, acc: 0.42200005054473877, test loss: 3.163152220249176, test acc: 0.11727999895811081\n",
      "epoch: 894, loss: 2.889103877544403, acc: 0.4243201017379761, test loss: 3.1629628133773804, test acc: 0.11768003553152084\n",
      "epoch: 895, loss: 2.8890862226486207, acc: 0.4235199987888336, test loss: 3.163907730579376, test acc: 0.11591997742652893\n",
      "epoch: 896, loss: 2.8887985134124756, acc: 0.4243999719619751, test loss: 3.1641127848625183, test acc: 0.11568000167608261\n",
      "epoch: 897, loss: 2.8903979802131654, acc: 0.42224010825157166, test loss: 3.164709405899048, test acc: 0.11472000181674957\n",
      "epoch: 898, loss: 2.8889159202575683, acc: 0.42336004972457886, test loss: 3.1634913945198058, test acc: 0.11616001278162003\n",
      "epoch: 899, loss: 2.889157032966614, acc: 0.42431995272636414, test loss: 3.1638402462005617, test acc: 0.11631999164819717\n",
      "epoch: 900, loss: 2.888576488494873, acc: 0.42431995272636414, test loss: 3.163768420219421, test acc: 0.1154399961233139\n",
      "epoch: 901, loss: 2.8892514276504517, acc: 0.42448002099990845, test loss: 3.165516445636749, test acc: 0.11431997269392014\n",
      "epoch: 902, loss: 2.8893697094917297, acc: 0.4227999746799469, test loss: 3.1639036107063294, test acc: 0.11664000153541565\n",
      "epoch: 903, loss: 2.8906272220611573, acc: 0.422559916973114, test loss: 3.1652418518066407, test acc: 0.11375998705625534\n",
      "epoch: 904, loss: 2.891384801864624, acc: 0.42016011476516724, test loss: 3.163792471885681, test acc: 0.11583999544382095\n",
      "epoch: 905, loss: 2.8890262699127196, acc: 0.4244000315666199, test loss: 3.1654510140419005, test acc: 0.11304005980491638\n",
      "epoch: 906, loss: 2.888467857837677, acc: 0.424480140209198, test loss: 3.163875141143799, test acc: 0.11607998609542847\n",
      "epoch: 907, loss: 2.8884136295318603, acc: 0.4242399334907532, test loss: 3.1633700299263, test acc: 0.11624003201723099\n",
      "epoch: 908, loss: 2.8903964376449585, acc: 0.4221600294113159, test loss: 3.1631783032417298, test acc: 0.11751999706029892\n",
      "epoch: 909, loss: 2.8894334745407106, acc: 0.42312008142471313, test loss: 3.163950412273407, test acc: 0.11615997552871704\n",
      "epoch: 910, loss: 2.888275763988495, acc: 0.42464005947113037, test loss: 3.1634077858924865, test acc: 0.11576002091169357\n",
      "epoch: 911, loss: 2.887980101108551, acc: 0.4249599874019623, test loss: 3.165671284198761, test acc: 0.11232000589370728\n",
      "epoch: 912, loss: 2.8897367119789124, acc: 0.4226400852203369, test loss: 3.1631810212135316, test acc: 0.1162400171160698\n",
      "epoch: 913, loss: 2.8887031626701356, acc: 0.42503994703292847, test loss: 3.166813645362854, test acc: 0.11295999586582184\n",
      "epoch: 914, loss: 2.889050886631012, acc: 0.42480000853538513, test loss: 3.1663383722305296, test acc: 0.11272001266479492\n",
      "epoch: 915, loss: 2.8886119651794435, acc: 0.42504000663757324, test loss: 3.1630606770515444, test acc: 0.11776003986597061\n",
      "epoch: 916, loss: 2.8882878041267395, acc: 0.4249599575996399, test loss: 3.1636674976348877, test acc: 0.11688000708818436\n",
      "epoch: 917, loss: 2.8886277532577513, acc: 0.42496001720428467, test loss: 3.1629699444770814, test acc: 0.11672000586986542\n",
      "epoch: 918, loss: 2.888240783214569, acc: 0.4247998297214508, test loss: 3.1633966422080992, test acc: 0.11696004122495651\n",
      "epoch: 919, loss: 2.889066514968872, acc: 0.4236001670360565, test loss: 3.1626533579826357, test acc: 0.11871998757123947\n",
      "epoch: 920, loss: 2.888702182769775, acc: 0.4248800277709961, test loss: 3.162181122303009, test acc: 0.11847997456789017\n",
      "epoch: 921, loss: 2.889285900592804, acc: 0.4227200746536255, test loss: 3.1650437331199646, test acc: 0.11224000155925751\n",
      "epoch: 922, loss: 2.8892973184585573, acc: 0.4222399890422821, test loss: 3.1623594188690185, test acc: 0.1188800111413002\n",
      "epoch: 923, loss: 2.889822585582733, acc: 0.4224001169204712, test loss: 3.1625460815429687, test acc: 0.11896001547574997\n",
      "epoch: 924, loss: 2.8885319018363953, acc: 0.4239199757575989, test loss: 3.1642345285415647, test acc: 0.11648000776767731\n",
      "epoch: 925, loss: 2.8884993481636045, acc: 0.425040066242218, test loss: 3.164785315990448, test acc: 0.11584002524614334\n",
      "epoch: 926, loss: 2.8882094287872313, acc: 0.4256000220775604, test loss: 3.1632470059394837, test acc: 0.11768000572919846\n",
      "epoch: 927, loss: 2.888403751850128, acc: 0.4254399836063385, test loss: 3.1640117239952086, test acc: 0.1159999668598175\n",
      "epoch: 928, loss: 2.888264327049255, acc: 0.42487990856170654, test loss: 3.165452971458435, test acc: 0.11368002742528915\n",
      "epoch: 929, loss: 2.887775328159332, acc: 0.4253599941730499, test loss: 3.165124695301056, test acc: 0.11376001685857773\n",
      "epoch: 930, loss: 2.8886328744888305, acc: 0.42375996708869934, test loss: 3.163044738769531, test acc: 0.11799999326467514\n",
      "epoch: 931, loss: 2.887803084850311, acc: 0.4251200556755066, test loss: 3.161722197532654, test acc: 0.11904000490903854\n",
      "epoch: 932, loss: 2.88886919260025, acc: 0.42368003726005554, test loss: 3.162607822418213, test acc: 0.11823999136686325\n",
      "epoch: 933, loss: 2.88797244310379, acc: 0.42631995677948, test loss: 3.1642708230018615, test acc: 0.11528003960847855\n",
      "epoch: 934, loss: 2.8889067792892456, acc: 0.42399996519088745, test loss: 3.1632017517089843, test acc: 0.11672002822160721\n",
      "epoch: 935, loss: 2.8876384830474855, acc: 0.4259200692176819, test loss: 3.1636059165000914, test acc: 0.11664000153541565\n",
      "epoch: 936, loss: 2.8894554209709167, acc: 0.4233599603176117, test loss: 3.1629783844947816, test acc: 0.11760000139474869\n",
      "epoch: 937, loss: 2.8876098442077636, acc: 0.4256800711154938, test loss: 3.1620292019844056, test acc: 0.11872000992298126\n",
      "epoch: 938, loss: 2.888263318538666, acc: 0.42559996247291565, test loss: 3.1642921423912047, test acc: 0.1154399961233139\n",
      "epoch: 939, loss: 2.8880217242240906, acc: 0.4252001643180847, test loss: 3.163782608509064, test acc: 0.11736004799604416\n",
      "epoch: 940, loss: 2.8865977811813353, acc: 0.4267198443412781, test loss: 3.1636263394355773, test acc: 0.11640002578496933\n",
      "epoch: 941, loss: 2.887614572048187, acc: 0.4255199432373047, test loss: 3.1620786714553835, test acc: 0.11928000301122665\n",
      "epoch: 942, loss: 2.887857983112335, acc: 0.4255199730396271, test loss: 3.161590054035187, test acc: 0.12015997618436813\n",
      "epoch: 943, loss: 2.8888620018959044, acc: 0.4238399267196655, test loss: 3.1644390416145325, test acc: 0.11560001224279404\n",
      "epoch: 944, loss: 2.888178653717041, acc: 0.42464008927345276, test loss: 3.1638718366622927, test acc: 0.11487999558448792\n",
      "epoch: 945, loss: 2.8877226901054383, acc: 0.42583993077278137, test loss: 3.164297168254852, test acc: 0.11656000465154648\n",
      "epoch: 946, loss: 2.886680040359497, acc: 0.4270399212837219, test loss: 3.1629582977294923, test acc: 0.11688000708818436\n",
      "epoch: 947, loss: 2.887876579761505, acc: 0.4253599941730499, test loss: 3.1641492557525637, test acc: 0.11584001779556274\n",
      "epoch: 948, loss: 2.8867328429222106, acc: 0.42647990584373474, test loss: 3.1639928579330445, test acc: 0.11672000586986542\n",
      "epoch: 949, loss: 2.887393696308136, acc: 0.42520004510879517, test loss: 3.1634903836250303, test acc: 0.1175200343132019\n",
      "epoch: 950, loss: 2.8866946148872374, acc: 0.42712002992630005, test loss: 3.1633046460151673, test acc: 0.11639996618032455\n",
      "epoch: 951, loss: 2.887218508720398, acc: 0.4270399808883667, test loss: 3.1647352719306947, test acc: 0.11575999855995178\n",
      "epoch: 952, loss: 2.886585903167725, acc: 0.42656010389328003, test loss: 3.1628347730636595, test acc: 0.11847999691963196\n",
      "epoch: 953, loss: 2.8874174785614013, acc: 0.42639994621276855, test loss: 3.1633523869514466, test acc: 0.11567997932434082\n",
      "epoch: 954, loss: 2.8871892714500427, acc: 0.4261600971221924, test loss: 3.163391230106354, test acc: 0.11616000533103943\n",
      "epoch: 955, loss: 2.8868623900413515, acc: 0.4270399510860443, test loss: 3.163415994644165, test acc: 0.11696001887321472\n",
      "epoch: 956, loss: 2.887942867279053, acc: 0.4248000383377075, test loss: 3.161645200252533, test acc: 0.12055999040603638\n",
      "epoch: 957, loss: 2.888288559913635, acc: 0.4238399863243103, test loss: 3.162671933174133, test acc: 0.11912001669406891\n",
      "epoch: 958, loss: 2.887089364528656, acc: 0.42631998658180237, test loss: 3.1646659183502197, test acc: 0.11592000722885132\n",
      "epoch: 959, loss: 2.886829283237457, acc: 0.42656001448631287, test loss: 3.1637950491905213, test acc: 0.11552000790834427\n",
      "epoch: 960, loss: 2.886234607696533, acc: 0.4271200895309448, test loss: 3.162423617839813, test acc: 0.1188800036907196\n",
      "epoch: 961, loss: 2.8869259572029113, acc: 0.42687997221946716, test loss: 3.163394024372101, test acc: 0.11712002009153366\n",
      "epoch: 962, loss: 2.886186077594757, acc: 0.4272800385951996, test loss: 3.1647990202903746, test acc: 0.11512000113725662\n",
      "epoch: 963, loss: 2.8866235065460204, acc: 0.42680004239082336, test loss: 3.1631219005584716, test acc: 0.1172800064086914\n",
      "epoch: 964, loss: 2.8872807145118715, acc: 0.4261600971221924, test loss: 3.1632153177261353, test acc: 0.11912001669406891\n",
      "epoch: 965, loss: 2.887754831314087, acc: 0.42528000473976135, test loss: 3.1637358140945433, test acc: 0.11743998527526855\n",
      "epoch: 966, loss: 2.8867281913757323, acc: 0.42631998658180237, test loss: 3.1647967982292173, test acc: 0.11344000697135925\n",
      "epoch: 967, loss: 2.886853742599487, acc: 0.42631995677948, test loss: 3.1639891242980958, test acc: 0.11584004759788513\n",
      "epoch: 968, loss: 2.8868928074836733, acc: 0.4267999231815338, test loss: 3.1638180088996886, test acc: 0.11599999666213989\n",
      "epoch: 969, loss: 2.88682382106781, acc: 0.42607998847961426, test loss: 3.1643487763404847, test acc: 0.11608000099658966\n",
      "epoch: 970, loss: 2.886169846057892, acc: 0.427200049161911, test loss: 3.1681002449989317, test acc: 0.10720003396272659\n",
      "epoch: 971, loss: 2.8867939043045046, acc: 0.42600008845329285, test loss: 3.1636754298210144, test acc: 0.11687998473644257\n",
      "epoch: 972, loss: 2.8871893978118894, acc: 0.4256800711154938, test loss: 3.164236595630646, test acc: 0.11479999870061874\n",
      "epoch: 973, loss: 2.8884994864463804, acc: 0.42472007870674133, test loss: 3.163265419006348, test acc: 0.11671999841928482\n",
      "epoch: 974, loss: 2.8861653327941896, acc: 0.42615997791290283, test loss: 3.1620643877983095, test acc: 0.12007999420166016\n",
      "epoch: 975, loss: 2.886350755691528, acc: 0.42647993564605713, test loss: 3.1646159386634825, test acc: 0.11615998297929764\n",
      "epoch: 976, loss: 2.886821818351746, acc: 0.4264799952507019, test loss: 3.164186110496521, test acc: 0.11472000181674957\n",
      "epoch: 977, loss: 2.8866975712776184, acc: 0.4266400933265686, test loss: 3.163039517402649, test acc: 0.11920002102851868\n",
      "epoch: 978, loss: 2.886800649166107, acc: 0.42631998658180237, test loss: 3.164683063030243, test acc: 0.11408005654811859\n",
      "epoch: 979, loss: 2.8874612259864807, acc: 0.42552006244659424, test loss: 3.1640212821960447, test acc: 0.11560003459453583\n",
      "epoch: 980, loss: 2.887263422012329, acc: 0.42615997791290283, test loss: 3.164383373260498, test acc: 0.11608002334833145\n",
      "epoch: 981, loss: 2.88594673871994, acc: 0.42816025018692017, test loss: 3.163332853317261, test acc: 0.1175999864935875\n",
      "epoch: 982, loss: 2.8864451479911803, acc: 0.42743992805480957, test loss: 3.1669406199455263, test acc: 0.11055999994277954\n",
      "epoch: 983, loss: 2.8856277227401734, acc: 0.42736008763313293, test loss: 3.1629244446754456, test acc: 0.11824000626802444\n",
      "epoch: 984, loss: 2.886949336528778, acc: 0.4266400635242462, test loss: 3.1622859811782837, test acc: 0.11855998635292053\n",
      "epoch: 985, loss: 2.8858314418792723, acc: 0.42768001556396484, test loss: 3.161818952560425, test acc: 0.1207200363278389\n",
      "epoch: 986, loss: 2.885755136013031, acc: 0.42768004536628723, test loss: 3.1623332571983336, test acc: 0.11975999921560287\n",
      "epoch: 987, loss: 2.886222686767578, acc: 0.427280068397522, test loss: 3.1634423398971556, test acc: 0.1172800287604332\n",
      "epoch: 988, loss: 2.8868887400627137, acc: 0.42624008655548096, test loss: 3.1632333993911743, test acc: 0.11760005354881287\n",
      "epoch: 989, loss: 2.8861311292648315, acc: 0.42743992805480957, test loss: 3.1624278831481933, test acc: 0.11823998391628265\n",
      "epoch: 990, loss: 2.886156005859375, acc: 0.4264800250530243, test loss: 3.164450113773346, test acc: 0.11736002564430237\n",
      "epoch: 991, loss: 2.885638234615326, acc: 0.42823997139930725, test loss: 3.1621658325195314, test acc: 0.12080001831054688\n",
      "epoch: 992, loss: 2.885085415840149, acc: 0.4280799627304077, test loss: 3.1615879845619204, test acc: 0.11984000355005264\n",
      "epoch: 993, loss: 2.8860679864883423, acc: 0.427200049161911, test loss: 3.1635708665847777, test acc: 0.1164800152182579\n",
      "epoch: 994, loss: 2.8850964498519898, acc: 0.4284798800945282, test loss: 3.1619710111618042, test acc: 0.12064000964164734\n",
      "epoch: 995, loss: 2.8856479811668394, acc: 0.4285599887371063, test loss: 3.1623942971229555, test acc: 0.11856000870466232\n",
      "epoch: 996, loss: 2.88674378156662, acc: 0.4270399510860443, test loss: 3.165315227508545, test acc: 0.11343999952077866\n",
      "epoch: 997, loss: 2.885953025817871, acc: 0.4275999963283539, test loss: 3.1631670713424684, test acc: 0.11647998541593552\n",
      "epoch: 998, loss: 2.8855597281455996, acc: 0.4271999001502991, test loss: 3.164847521781921, test acc: 0.11399999260902405\n",
      "epoch: 999, loss: 2.8863656663894655, acc: 0.42712002992630005, test loss: 3.165365319252014, test acc: 0.11479999870061874\n"
     ]
    }
   ],
   "source": [
    "num_epochs = 1000\n",
    "train_losses = []\n",
    "train_accs = []\n",
    "test_losses = []\n",
    "test_accs = []\n",
    "for epoch in range(num_epochs):\n",
    "    running_loss = 0.0\n",
    "    running_acc = 0.0\n",
    "    for inputs, targets in train_loader:\n",
    "        inputs = inputs.to(device)\n",
    "        targets = targets.to(device)\n",
    "        optimizer.zero_grad()\n",
    "        output = model(inputs)\n",
    "        loss = criterion(output, targets)\n",
    "        loss.backward()\n",
    "        running_loss += loss.item()\n",
    "        pred = torch.argmax(output, dim=1)      # outputの一番値が大きい成分\n",
    "        targets = torch.argmax(targets, dim=1)  # targetの一番値が大きい成分\n",
    "        running_acc += torch.mean(pred.eq(targets).float().cpu()) # predとtargetが同じになった数の平均\n",
    "        optimizer.step()\n",
    "    running_loss /= len(train_loader)   # 12500個の訓練データ全体での損失関数の平均\n",
    "    running_acc /= len(train_loader)    # 12500個の訓練データ全体での正解率\n",
    "    train_losses.append(running_loss)\n",
    "    train_accs.append(running_acc)\n",
    "    #\n",
    "    #   test loop\n",
    "    #\n",
    "    test_running_loss = 0.0\n",
    "    test_running_acc = 0.0\n",
    "    for test_inputs, test_targets in test_loader:\n",
    "        test_inputs = test_inputs.to(device)\n",
    "        test_targets = test_targets.to(device)\n",
    "        test_output = model(test_inputs)\n",
    "        test_loss = criterion(test_output, test_targets)\n",
    "        test_running_loss += test_loss.item()\n",
    "        test_pred = torch.argmax(test_output, dim=1)      # outputの一番値が大きい成分\n",
    "        test_targets = torch.argmax(test_targets, dim=1)  # targetの一番値が大きい成分\n",
    "        test_running_acc += torch.mean(test_pred.eq(test_targets).float().cpu()) # 正解数の平均\n",
    "    test_running_loss /= len(test_loader)   # 12500個の訓練データ全体での損失関数の平均\n",
    "    test_running_acc /= len(test_loader)    # 12500個の訓練データ全体での正解率\n",
    "    test_losses.append(test_running_loss)\n",
    "    test_accs.append(test_running_acc)\n",
    "        \n",
    "    print(\"epoch: {}, loss: {}, acc: {}, test loss: {}, test acc: {}\".format(epoch, running_loss, running_acc, test_running_loss, test_running_acc))"
   ]
  },
  {
   "cell_type": "markdown",
   "metadata": {},
   "source": [
    "損失関数と正解率のグラフの作成"
   ]
  },
  {
   "cell_type": "code",
   "execution_count": 26,
   "metadata": {},
   "outputs": [
    {
     "data": {
      "image/png": "[encoded data removed]",
      "text/plain": [
       "<Figure size 864x288 with 2 Axes>"
      ]
     },
     "metadata": {
      "needs_background": "light"
     },
     "output_type": "display_data"
    }
   ],
   "source": [
    "# グラフのプロット\n",
    "plt.figure(figsize=(12, 4))\n",
    "\n",
    "# 損失関数のグラフ\n",
    "plt.subplot(1, 2, 1)\n",
    "plt.plot(train_losses, label='Training Loss')\n",
    "plt.plot(test_losses, label='Test Loss')\n",
    "plt.xlabel('Epoch')\n",
    "plt.ylabel('Loss')\n",
    "plt.legend()\n",
    "\n",
    "# 正解率のグラフ\n",
    "plt.subplot(1, 2, 2)\n",
    "plt.plot(train_accs, label='Training Accuracy')\n",
    "plt.plot(test_accs, label='Test Accuracy')\n",
    "plt.xlabel('Epoch')\n",
    "plt.ylabel('Accuracy')\n",
    "plt.legend()\n",
    "\n",
    "plt.tight_layout()\n",
    "plt.show()"
   ]
  },
  {
   "cell_type": "markdown",
   "metadata": {},
   "source": [
    "実際に予測値と正解がどうなっているか見てみる"
   ]
  },
  {
   "cell_type": "code",
   "execution_count": 27,
   "metadata": {},
   "outputs": [
    {
     "name": "stdout",
     "output_type": "stream",
     "text": [
      "tensor([21, 23, 20, 19,  1, 21,  7,  7, 17, 12,  9, 14,  2, 21, 12, 19, 23, 23,\n",
      "         7, 22,  7, 12, 23, 20, 11, 11, 24,  8,  0,  8, 12, 22,  7, 12,  1, 17,\n",
      "        21, 16,  7, 14, 11, 21, 17,  7, 21,  7, 24,  2,  7, 23, 21,  9,  1, 17,\n",
      "         7,  7,  7,  7, 19, 14,  2, 20,  9,  7, 18,  7,  7, 22,  7, 14, 11,  7,\n",
      "         8,  7,  2,  7, 17, 16, 23,  8,  1,  7, 12, 22, 11, 18, 21,  7,  7,  8,\n",
      "        14, 20, 19,  7,  7,  0, 16, 21,  7,  7], device='cuda:0')\n"
     ]
    }
   ],
   "source": [
    "print(test_pred[:100])"
   ]
  },
  {
   "cell_type": "code",
   "execution_count": 28,
   "metadata": {},
   "outputs": [
    {
     "name": "stdout",
     "output_type": "stream",
     "text": [
      "tensor([16, 18, 15, 16,  0, 24,  2,  6, 23,  0, 10, 11,  5, 18, 23, 23, 10, 20,\n",
      "         3, 21,  6, 12, 11, 22, 19, 13, 22,  9, 12,  9, 22, 17,  7, 24,  0, 18,\n",
      "        22, 23,  0, 23, 10, 24, 15,  6, 21,  2, 19,  2,  6, 18, 20,  2,  1, 12,\n",
      "         5,  2,  6,  3, 15, 13, 12, 15,  9,  1, 12,  1,  4, 21,  3, 21, 10,  2,\n",
      "         7,  6,  3,  2, 22, 15, 15,  9,  2,  2, 15, 24, 10, 22, 15,  0,  5,  7,\n",
      "        21, 20, 21,  1,  8, 12, 19, 18,  3,  4], device='cuda:0')\n"
     ]
    }
   ],
   "source": [
    "print(test_targets[:100])"
   ]
  },
  {
   "cell_type": "code",
   "execution_count": 29,
   "metadata": {},
   "outputs": [
    {
     "data": {
      "text/plain": [
       "torch.Size([125, 25])"
      ]
     },
     "execution_count": 29,
     "metadata": {},
     "output_type": "execute_result"
    }
   ],
   "source": [
    "test_output.shape"
   ]
  },
  {
   "cell_type": "code",
   "execution_count": 30,
   "metadata": {},
   "outputs": [
    {
     "data": {
      "image/png": "[encoded data removed]",
      "text/plain": [
       "<Figure size 432x288 with 1 Axes>"
      ]
     },
     "metadata": {
      "needs_background": "light"
     },
     "output_type": "display_data"
    },
    {
     "name": "stdout",
     "output_type": "stream",
     "text": [
      "tensor(4., device='cuda:0')\n"
     ]
    },
    {
     "data": {
      "image/png": "[encoded data removed]",
      "text/plain": [
       "<Figure size 432x288 with 1 Axes>"
      ]
     },
     "metadata": {
      "needs_background": "light"
     },
     "output_type": "display_data"
    },
    {
     "name": "stdout",
     "output_type": "stream",
     "text": [
      "tensor(4.5000, device='cuda:0')\n"
     ]
    },
    {
     "data": {
      "image/png": "[encoded data removed]",
      "text/plain": [
       "<Figure size 432x288 with 1 Axes>"
      ]
     },
     "metadata": {
      "needs_background": "light"
     },
     "output_type": "display_data"
    },
    {
     "name": "stdout",
     "output_type": "stream",
     "text": [
      "tensor(3.7500, device='cuda:0')\n"
     ]
    },
    {
     "data": {
      "image/png": "[encoded data removed]",
      "text/plain": [
       "<Figure size 432x288 with 1 Axes>"
      ]
     },
     "metadata": {
      "needs_background": "light"
     },
     "output_type": "display_data"
    },
    {
     "name": "stdout",
     "output_type": "stream",
     "text": [
      "tensor(4., device='cuda:0')\n"
     ]
    },
    {
     "data": {
      "image/png": "[encoded data removed]",
      "text/plain": [
       "<Figure size 432x288 with 1 Axes>"
      ]
     },
     "metadata": {
      "needs_background": "light"
     },
     "output_type": "display_data"
    },
    {
     "name": "stdout",
     "output_type": "stream",
     "text": [
      "tensor(0., device='cuda:0')\n"
     ]
    },
    {
     "data": {
      "image/png": "[encoded data removed]",
      "text/plain": [
       "<Figure size 432x288 with 1 Axes>"
      ]
     },
     "metadata": {
      "needs_background": "light"
     },
     "output_type": "display_data"
    },
    {
     "name": "stdout",
     "output_type": "stream",
     "text": [
      "tensor(6., device='cuda:0')\n"
     ]
    },
    {
     "data": {
      "image/png": "[encoded data removed]",
      "text/plain": [
       "<Figure size 432x288 with 1 Axes>"
      ]
     },
     "metadata": {
      "needs_background": "light"
     },
     "output_type": "display_data"
    },
    {
     "name": "stdout",
     "output_type": "stream",
     "text": [
      "tensor(0.5000, device='cuda:0')\n"
     ]
    },
    {
     "data": {
      "image/png": "[encoded data removed]",
      "text/plain": [
       "<Figure size 432x288 with 1 Axes>"
      ]
     },
     "metadata": {
      "needs_background": "light"
     },
     "output_type": "display_data"
    },
    {
     "name": "stdout",
     "output_type": "stream",
     "text": [
      "tensor(1.5000, device='cuda:0')\n"
     ]
    },
    {
     "data": {
      "image/png": "[encoded data removed]",
      "text/plain": [
       "<Figure size 432x288 with 1 Axes>"
      ]
     },
     "metadata": {
      "needs_background": "light"
     },
     "output_type": "display_data"
    },
    {
     "name": "stdout",
     "output_type": "stream",
     "text": [
      "tensor(5.7500, device='cuda:0')\n"
     ]
    },
    {
     "data": {
      "image/png": "[encoded data removed]",
      "text/plain": [
       "<Figure size 432x288 with 1 Axes>"
      ]
     },
     "metadata": {
      "needs_background": "light"
     },
     "output_type": "display_data"
    },
    {
     "name": "stdout",
     "output_type": "stream",
     "text": [
      "tensor(0., device='cuda:0')\n"
     ]
    }
   ],
   "source": [
    "# データのx軸値\n",
    "x = [i * 0.25 for i in range(25)]\n",
    "\n",
    "for n in range(10):\n",
    "    # テンソルをホストメモリにコピーしてNumpy配列に変換\n",
    "    test_output_cpu = test_output[n].detach().cpu().numpy()\n",
    "\n",
    "    # グラフを描画\n",
    "    plt.plot(x, test_output_cpu, marker='o', linestyle='-', color='b', markersize=5)\n",
    "\n",
    "    # グラフのタイトルと軸ラベルを設定\n",
    "    plt.title('line graph:')\n",
    "    plt.xlabel('Temperture')\n",
    "    plt.ylabel('probability distribution')\n",
    "\n",
    "    # グラフを表示\n",
    "    plt.show()\n",
    "\n",
    "    print(test_targets[n]*0.25)\n"
   ]
  },
  {
   "cell_type": "markdown",
   "metadata": {},
   "source": [
    "モデルの保存"
   ]
  },
  {
   "cell_type": "code",
   "execution_count": 31,
   "metadata": {},
   "outputs": [],
   "source": [
    "# params = model.state_dict()\n",
    "# torch.save(params, \"model_L=20.prm\")"
   ]
  },
  {
   "cell_type": "code",
   "execution_count": 32,
   "metadata": {},
   "outputs": [],
   "source": [
    "# データを保存するディレクトリのパス\n",
    "save_dir = \"Data\"\n",
    "\n",
    "# ファイル名\n",
    "file_name = \"FCNN_L16.prm\"\n",
    "\n",
    "# フルパスを作成\n",
    "full_path = os.path.join(save_dir, file_name)\n",
    "\n",
    "# パラメータを保存\n",
    "torch.save(file_name, full_path)"
   ]
  }
 ],
 "metadata": {
  "kernelspec": {
   "display_name": "base",
   "language": "python",
   "name": "python3"
  },
  "language_info": {
   "codemirror_mode": {
    "name": "ipython",
    "version": 3
   },
   "file_extension": ".py",
   "mimetype": "text/x-python",
   "name": "python",
   "nbconvert_exporter": "python",
   "pygments_lexer": "ipython3",
   "version": "3.9.12"
  },
  "orig_nbformat": 4
 },
 "nbformat": 4,
 "nbformat_minor": 2
}
