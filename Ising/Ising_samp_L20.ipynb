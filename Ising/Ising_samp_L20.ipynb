{
 "cells": [
  {
   "cell_type": "markdown",
   "metadata": {},
   "source": [
    "・20×20のイジングスピン配位を生成する関数を作成\n",
    "\n",
    "・T=0からT=6までの0.25刻みの温度で配位データを取得"
   ]
  },
  {
   "cell_type": "code",
   "execution_count": 2,
   "metadata": {},
   "outputs": [],
   "source": [
    "# ライブラリのインポート\n",
    "import numpy as np\n",
    "import matplotlib.pyplot as plt\n",
    "import torch\n",
    "from tqdm import tqdm\n",
    "import pickle\n",
    "import os"
   ]
  },
  {
   "cell_type": "code",
   "execution_count": 3,
   "metadata": {},
   "outputs": [],
   "source": [
    "# 関数を定義\n",
    "def metropolis_ising(L, T, num_steps, J=1, device=\"cpu\"):\n",
    "    lattice = np.random.choice([-1, 1], size=(L, L))\n",
    "    \n",
    "    for step in range(num_steps):\n",
    "        i = np.random.randint(L)\n",
    "        j = np.random.randint(L)\n",
    "        \n",
    "        \n",
    "        # 近傍のスピンの総和を計算（周期境界条件を適用）\n",
    "        total = lattice[(i + 1) % L, j] + lattice[(i - 1) % L, j] + \\\n",
    "                lattice[i, (j + 1) % L] + lattice[i, (j - 1) % L]\n",
    "        \n",
    "        # エネルギー差を計算\n",
    "        delta_energy = 2 * J * lattice[i, j] * total\n",
    "        \n",
    "        if delta_energy < 0 or np.random.rand() < np.exp(-delta_energy / T):\n",
    "            \n",
    "            lattice[i, j] *= -1     # スピンを反転させる\n",
    "            \n",
    "    # 状況に応じてスピン変数全体を反転\n",
    "    if np.sum(lattice==1) >= L*L/2:\n",
    "        lattice = lattice*-1\n",
    "    else:\n",
    "        lattice = lattice\n",
    "\n",
    "    # NumPy配列をPyTorchテンソルに変換し、デバイスに移動\n",
    "    lattice = torch.tensor(lattice, dtype=torch.float32, device=device)\n",
    "    \n",
    "    return lattice"
   ]
  },
  {
   "cell_type": "markdown",
   "metadata": {},
   "source": [
    "T=1からT=6まで，0.25刻みで配位データを取得"
   ]
  },
  {
   "cell_type": "code",
   "execution_count": 4,
   "metadata": {},
   "outputs": [
    {
     "name": "stderr",
     "output_type": "stream",
     "text": [
      "  0%|          | 0/25 [00:00<?, ?it/s]C:\\Users\\sugay\\AppData\\Local\\Temp\\ipykernel_6828\\888069091.py:19: UserWarning: To copy construct from a tensor, it is recommended to use sourceTensor.clone().detach() or sourceTensor.clone().detach().requires_grad_(True), rather than torch.tensor(sourceTensor).\n",
      "  spin_data.append(torch.tensor(lattice, dtype=torch.float32, device=device))\n",
      "100%|██████████| 10/10 [00:00<00:00, 22696.45it/s]\n",
      "100%|██████████| 10/10 [00:00<00:00, 2503.31it/s]\n",
      "100%|██████████| 10/10 [00:00<00:00, 4997.98it/s]\n",
      "100%|██████████| 10/10 [00:00<00:00, 2494.23it/s]\n",
      "100%|██████████| 10/10 [00:00<?, ?it/s]\n",
      "100%|██████████| 10/10 [00:00<?, ?it/s]\n",
      "100%|██████████| 10/10 [00:00<00:00, 6627.12it/s]\n",
      "100%|██████████| 10/10 [00:00<?, ?it/s]\n",
      "100%|██████████| 10/10 [00:00<00:00, 3324.06it/s]\n",
      "100%|██████████| 10/10 [00:00<00:00, 3333.31it/s]\n",
      "100%|██████████| 10/10 [00:00<00:00, 10007.88it/s]\n",
      "100%|██████████| 10/10 [00:00<00:00, 4978.99it/s]\n",
      "100%|██████████| 10/10 [00:00<00:00, 4986.69it/s]\n",
      "100%|██████████| 10/10 [00:00<00:00, 9976.94it/s]\n",
      "100%|██████████| 10/10 [00:00<00:00, 3331.46it/s]\n",
      "100%|██████████| 10/10 [00:00<00:00, 4998.57it/s]\n",
      "100%|██████████| 10/10 [00:00<00:00, 2340.31it/s]\n",
      "100%|██████████| 10/10 [00:00<00:00, 3330.66it/s]\n",
      "100%|██████████| 10/10 [00:00<00:00, 4999.17it/s]\n",
      "100%|██████████| 10/10 [00:00<00:00, 4988.47it/s]\n",
      "100%|██████████| 10/10 [00:00<00:00, 2502.87it/s]\n",
      "100%|██████████| 10/10 [00:00<?, ?it/s]\n",
      "100%|██████████| 10/10 [00:00<?, ?it/s]\n",
      "100%|██████████| 10/10 [00:00<00:00, 3337.55it/s]\n",
      "100%|██████████| 10/10 [00:00<00:00, 6754.11it/s]\n",
      "100%|██████████| 25/25 [00:00<00:00, 148.35it/s]\n"
     ]
    }
   ],
   "source": [
    "L = 20\n",
    "num_steps = 10000\n",
    "\n",
    "# GPUが利用可能であれば、CUDAデバイスを使用\n",
    "device = torch.device(\"cuda\" if torch.cuda.is_available() else \"cpu\")\n",
    "\n",
    "spin_data = []\n",
    "temp_data = []\n",
    "\n",
    "# 一次元データを得る\n",
    "for T in tqdm(np.arange(0.0, 6.01, 0.25)):\n",
    "    # T=0はmetropolis_isingには定義されていないのでT=0.01をT=0のデータとする\n",
    "    if T==0:\n",
    "        T = 0.01     \n",
    "    # 各温度で1000個ずつ配位を作成   \n",
    "    for i in tqdm(range(1000)):\n",
    "        lattice = metropolis_ising(L, T, num_steps)\n",
    "        # latticeをGPUに移動してからspin_dataに追加\n",
    "        spin_data.append(torch.tensor(lattice, dtype=torch.float32, device=device))\n",
    "        temp_data.append(T)\n",
    "        \n",
    "spin_data = torch.stack(spin_data)  # GPU上でテンソルスタック"
   ]
  },
  {
   "cell_type": "code",
   "execution_count": 5,
   "metadata": {},
   "outputs": [
    {
     "name": "stdout",
     "output_type": "stream",
     "text": [
      "<class 'torch.Tensor'>\n",
      "<class 'list'>\n"
     ]
    }
   ],
   "source": [
    "# 型を確認\n",
    "print(type(spin_data))\n",
    "print(type(temp_data))"
   ]
  },
  {
   "cell_type": "code",
   "execution_count": 6,
   "metadata": {},
   "outputs": [
    {
     "name": "stdout",
     "output_type": "stream",
     "text": [
      "torch.Size([250, 20, 20])\n",
      "250\n"
     ]
    }
   ],
   "source": [
    "# データサイズの確認\n",
    "print(torch.Tensor.size(spin_data))\n",
    "print(len(temp_data))"
   ]
  },
  {
   "cell_type": "code",
   "execution_count": 7,
   "metadata": {},
   "outputs": [
    {
     "name": "stdout",
     "output_type": "stream",
     "text": [
      "tensor([[-1., -1.,  1.,  1.,  1.,  1.,  1.,  1.,  1., -1., -1., -1., -1.,  1.,\n",
      "         -1., -1.,  1., -1., -1., -1.],\n",
      "        [ 1.,  1., -1., -1., -1., -1.,  1., -1., -1.,  1.,  1., -1., -1.,  1.,\n",
      "         -1.,  1., -1.,  1.,  1.,  1.],\n",
      "        [-1., -1., -1.,  1.,  1., -1., -1., -1.,  1., -1., -1.,  1., -1., -1.,\n",
      "          1.,  1.,  1.,  1.,  1., -1.],\n",
      "        [ 1., -1., -1.,  1.,  1., -1., -1., -1.,  1.,  1.,  1., -1., -1., -1.,\n",
      "         -1., -1.,  1., -1., -1., -1.],\n",
      "        [-1., -1., -1., -1.,  1., -1.,  1., -1., -1.,  1.,  1., -1., -1.,  1.,\n",
      "          1., -1., -1.,  1.,  1.,  1.],\n",
      "        [-1., -1., -1.,  1.,  1., -1.,  1.,  1., -1., -1., -1.,  1., -1.,  1.,\n",
      "          1.,  1.,  1., -1.,  1., -1.],\n",
      "        [ 1.,  1.,  1.,  1.,  1., -1., -1.,  1., -1.,  1., -1., -1.,  1.,  1.,\n",
      "         -1.,  1., -1.,  1., -1., -1.],\n",
      "        [-1., -1.,  1.,  1., -1., -1.,  1.,  1., -1., -1., -1.,  1.,  1.,  1.,\n",
      "         -1.,  1., -1., -1.,  1.,  1.],\n",
      "        [ 1., -1., -1., -1.,  1., -1.,  1., -1.,  1.,  1., -1.,  1., -1.,  1.,\n",
      "          1.,  1.,  1.,  1.,  1., -1.],\n",
      "        [ 1., -1., -1., -1.,  1., -1., -1.,  1.,  1.,  1.,  1.,  1.,  1., -1.,\n",
      "          1.,  1.,  1.,  1., -1.,  1.],\n",
      "        [ 1.,  1., -1.,  1., -1.,  1.,  1.,  1.,  1.,  1., -1., -1., -1.,  1.,\n",
      "         -1.,  1.,  1.,  1.,  1.,  1.],\n",
      "        [ 1., -1.,  1., -1.,  1., -1., -1.,  1., -1.,  1., -1., -1.,  1.,  1.,\n",
      "         -1.,  1., -1., -1., -1., -1.],\n",
      "        [-1.,  1.,  1.,  1.,  1., -1.,  1.,  1., -1.,  1., -1., -1.,  1., -1.,\n",
      "         -1., -1.,  1., -1., -1., -1.],\n",
      "        [ 1.,  1., -1., -1., -1.,  1., -1., -1.,  1., -1., -1.,  1.,  1.,  1.,\n",
      "         -1.,  1., -1.,  1., -1.,  1.],\n",
      "        [ 1.,  1., -1.,  1., -1., -1.,  1.,  1., -1., -1., -1., -1., -1., -1.,\n",
      "          1.,  1.,  1., -1.,  1., -1.],\n",
      "        [ 1.,  1.,  1.,  1., -1.,  1.,  1., -1.,  1., -1., -1.,  1., -1.,  1.,\n",
      "          1., -1., -1., -1., -1.,  1.],\n",
      "        [-1., -1., -1., -1., -1., -1.,  1., -1., -1., -1., -1., -1.,  1., -1.,\n",
      "         -1.,  1.,  1.,  1., -1.,  1.],\n",
      "        [-1., -1.,  1.,  1.,  1.,  1.,  1., -1.,  1.,  1.,  1., -1.,  1., -1.,\n",
      "         -1.,  1.,  1., -1.,  1.,  1.],\n",
      "        [ 1.,  1.,  1.,  1., -1.,  1.,  1., -1., -1., -1.,  1.,  1.,  1., -1.,\n",
      "         -1., -1.,  1.,  1., -1., -1.],\n",
      "        [-1., -1., -1., -1.,  1.,  1., -1., -1., -1.,  1.,  1.,  1.,  1., -1.,\n",
      "         -1.,  1.,  1.,  1., -1., -1.]])\n",
      "0.01\n"
     ]
    },
    {
     "data": {
      "image/png": "[encoded data removed]",
      "text/plain": [
       "<Figure size 640x480 with 1 Axes>"
      ]
     },
     "metadata": {},
     "output_type": "display_data"
    }
   ],
   "source": [
    "i = 2\n",
    "print(spin_data[i])\n",
    "print(temp_data[i])\n",
    "\n",
    "# CUDAデバイス上のテンソルをCPU上のNumPy配列に変換\n",
    "spin_data_cpu = spin_data[i].cpu().numpy()\n",
    "\n",
    "# CUDAデバイス上のテンソルをCPU上のNumPy配列に変換\n",
    "plt.imshow(spin_data_cpu, cmap='gray', interpolation='nearest')\n",
    "plt.show()"
   ]
  },
  {
   "cell_type": "code",
   "execution_count": 10,
   "metadata": {},
   "outputs": [],
   "source": [
    "# 保存するデータをtupleにまとめる\n",
    "data_to_save = (spin_data, temp_data)\n",
    "\n",
    "# フォルダ名とファイル名を指定\n",
    "folder_name = \"Data\"\n",
    "file_name = 'spin_data_L=20.pkl'\n",
    "\n",
    "# データをバイナリ形式で保存\n",
    "file_path = os.path.join(folder_name, file_name)\n",
    "with open(file_path, 'wb') as file:\n",
    "    pickle.dump(data_to_save, file)"
   ]
  },
  {
   "cell_type": "code",
   "execution_count": 43,
   "metadata": {},
   "outputs": [
    {
     "data": {
      "text/plain": [
       "tensor([[-1., -1., -1.,  ..., -1., -1., -1.],\n",
       "        [-1., -1., -1.,  ..., -1., -1., -1.],\n",
       "        [-1., -1., -1.,  ..., -1., -1., -1.],\n",
       "        ...,\n",
       "        [-1., -1., -1.,  ..., -1., -1., -1.],\n",
       "        [-1., -1., -1.,  ..., -1., -1., -1.],\n",
       "        [-1., -1., -1.,  ..., -1., -1., -1.]], device='cuda:0')"
      ]
     },
     "execution_count": 43,
     "metadata": {},
     "output_type": "execute_result"
    }
   ],
   "source": [
    "spin_data[1]"
   ]
  },
  {
   "cell_type": "code",
   "execution_count": 45,
   "metadata": {},
   "outputs": [
    {
     "data": {
      "text/plain": [
       "0.01"
      ]
     },
     "execution_count": 45,
     "metadata": {},
     "output_type": "execute_result"
    }
   ],
   "source": [
    "temp_data[1]"
   ]
  },
  {
   "cell_type": "code",
   "execution_count": null,
   "metadata": {},
   "outputs": [],
   "source": []
  }
 ],
 "metadata": {
  "kernelspec": {
   "display_name": "base",
   "language": "python",
   "name": "python3"
  },
  "language_info": {
   "codemirror_mode": {
    "name": "ipython",
    "version": 3
   },
   "file_extension": ".py",
   "mimetype": "text/x-python",
   "name": "python",
   "nbconvert_exporter": "python",
   "pygments_lexer": "ipython3",
   "version": "3.11.5"
  },
  "orig_nbformat": 4
 },
 "nbformat": 4,
 "nbformat_minor": 2
}
