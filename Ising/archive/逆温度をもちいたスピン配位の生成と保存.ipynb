{
 "cells": [
  {
   "cell_type": "markdown",
   "id": "41c54149",
   "metadata": {},
   "source": [
    "スピン配位の生成と保存 \n",
    "lattice size: L = 16\n",
    "inverse teemperature: β=0.04, 0.08, ・・・, 1.0"
   ]
  },
  {
   "cell_type": "code",
   "execution_count": 1,
   "id": "447925d1",
   "metadata": {},
   "outputs": [],
   "source": [
    "# ライブラリのインポート\n",
    "import numpy as np\n",
    "import random\n",
    "import tqdm\n",
    "\n",
    "nsp = 16   # model size "
   ]
  },
  {
   "cell_type": "code",
   "execution_count": 2,
   "id": "823ea46c",
   "metadata": {},
   "outputs": [],
   "source": [
    "import glob\n",
    "import os\n",
    "import re\n",
    "\n",
    "# ファイルに自動的に連番を付ける関数\n",
    "def make_filename_by_seq(dirname, filename, seq_digit=3):\n",
    "    filename_without_ext, ext = os.path.splitext(filename)\n",
    "    \n",
    "    pattern = f\"{filename_without_ext}_([0-9]*){ext}\"\n",
    "    prog = re.compile(pattern)\n",
    "\n",
    "    files = glob.glob(\n",
    "        os.path.join(dirname, f\"{filename_without_ext}_[0-9]*{ext}\")\n",
    "    )\n",
    "\n",
    "    max_seq = -1\n",
    "    for f in files:\n",
    "        m = prog.match(os.path.basename(f))\n",
    "        if m:\n",
    "            max_seq = max(max_seq, int(m.group(1)))\n",
    "    \n",
    "    new_filename = os.path.join(dirname, f\"{filename_without_ext}_{max_seq+1:0{seq_digit}}{ext}\")\n",
    "    \n",
    "    return new_filename"
   ]
  },
  {
   "cell_type": "markdown",
   "id": "048ddb48",
   "metadata": {},
   "source": [
    "Metropolis MC 法"
   ]
  },
  {
   "cell_type": "code",
   "execution_count": 3,
   "id": "7ff99260",
   "metadata": {},
   "outputs": [
    {
     "name": "stderr",
     "output_type": "stream",
     "text": [
      "100%|█████████████████████████████████████████████████████████████████████| 1100000/1100000 [00:12<00:00, 84845.07it/s]\n",
      "100%|█████████████████████████████████████████████████████████████████████| 1100000/1100000 [00:12<00:00, 85162.32it/s]\n",
      "100%|█████████████████████████████████████████████████████████████████████| 1100000/1100000 [00:12<00:00, 84959.74it/s]\n",
      "100%|█████████████████████████████████████████████████████████████████████| 1100000/1100000 [00:12<00:00, 85231.93it/s]\n",
      "100%|█████████████████████████████████████████████████████████████████████| 1100000/1100000 [00:12<00:00, 85547.26it/s]\n",
      "100%|█████████████████████████████████████████████████████████████████████| 1100000/1100000 [00:12<00:00, 85575.80it/s]\n",
      "100%|█████████████████████████████████████████████████████████████████████| 1100000/1100000 [00:12<00:00, 85997.85it/s]\n",
      "100%|█████████████████████████████████████████████████████████████████████| 1100000/1100000 [00:12<00:00, 86286.92it/s]\n",
      "100%|█████████████████████████████████████████████████████████████████████| 1100000/1100000 [00:12<00:00, 86452.72it/s]\n",
      "100%|█████████████████████████████████████████████████████████████████████| 1100000/1100000 [00:12<00:00, 86837.97it/s]\n",
      "100%|█████████████████████████████████████████████████████████████████████| 1100000/1100000 [00:12<00:00, 87410.30it/s]\n",
      "100%|█████████████████████████████████████████████████████████████████████| 1100000/1100000 [00:12<00:00, 87459.58it/s]\n",
      "100%|█████████████████████████████████████████████████████████████████████| 1100000/1100000 [00:12<00:00, 87656.52it/s]\n",
      "100%|█████████████████████████████████████████████████████████████████████| 1100000/1100000 [00:12<00:00, 88068.44it/s]\n",
      "100%|█████████████████████████████████████████████████████████████████████| 1100000/1100000 [00:12<00:00, 88106.81it/s]\n",
      "100%|█████████████████████████████████████████████████████████████████████| 1100000/1100000 [00:12<00:00, 87930.90it/s]\n",
      "100%|█████████████████████████████████████████████████████████████████████| 1100000/1100000 [00:12<00:00, 87459.61it/s]\n",
      "100%|█████████████████████████████████████████████████████████████████████| 1100000/1100000 [00:12<00:00, 87808.95it/s]\n",
      "100%|█████████████████████████████████████████████████████████████████████| 1100000/1100000 [00:12<00:00, 87891.51it/s]\n",
      "100%|█████████████████████████████████████████████████████████████████████| 1100000/1100000 [00:12<00:00, 88268.57it/s]\n",
      "100%|█████████████████████████████████████████████████████████████████████| 1100000/1100000 [00:12<00:00, 85228.19it/s]\n",
      "100%|█████████████████████████████████████████████████████████████████████| 1100000/1100000 [00:12<00:00, 85526.50it/s]\n",
      "100%|█████████████████████████████████████████████████████████████████████| 1100000/1100000 [00:12<00:00, 88221.13it/s]\n",
      "100%|█████████████████████████████████████████████████████████████████████| 1100000/1100000 [00:12<00:00, 87498.19it/s]\n",
      "100%|█████████████████████████████████████████████████████████████████████| 1100000/1100000 [00:12<00:00, 87701.12it/s]\n"
     ]
    }
   ],
   "source": [
    "# 初期配位から n_th ステップまで配位をアップデートし最初の平衡配位とする\n",
    "# その後 n_MC 回アップデートするごとに平衡配位をピックアップ\n",
    "n_th = 1000000\n",
    "#n_data = 10000    # train data 作成時\n",
    "#n_data = 1000     # test data 作成時\n",
    "n_data = 10       # 測定資料作成時\n",
    "n_MC = 10000\n",
    "n_loop = n_th+n_data * n_MC\n",
    "\n",
    "# T = T_i から　T＝T_f まで dT=(T_f-T_i)/n_T 刻みでデータを生成\n",
    "beta_i = 0.04\n",
    "beta_f = 1.0\n",
    "n_beta = 25\n",
    "dbeta =beta_f/n_beta\n",
    "\n",
    "# 磁化が負の場合にすべてのスピンを反転\n",
    "def reverse(Spin):\n",
    "    Mag = Spin.sum()\n",
    "    if Mag <0:\n",
    "        Spin = -Spin\n",
    "    return Spin\n",
    "\n",
    "for n_temp in range(n_beta):\n",
    "    # temperature and its inverse\n",
    "    random.seed(n_temp*n_data)   # 訓練データとテストデータで異なる乱数の設定\n",
    "    beta = beta_i+n_temp * dbeta\n",
    "    K =beta\n",
    "    #　initialization by random spin configuration（温度を変えるごとにスピン配位をランダムに初期化)\n",
    "    spin = np.array([[(2*random.randint(0,1)-1) for i in range(nsp)] for j in range(nsp)])\n",
    "\n",
    "    for n in tqdm.tqdm(range(n_loop)):    # 進捗状況のバー表示\n",
    "        i = random.randint(0,nsp-1)\n",
    "        j = random.randint(0,nsp-1)\n",
    "        En = K*(spin[(i-1)%nsp,j] + spin[(i+1)%nsp,j]+spin[i,(j+1)%nsp]+spin[i,(j-1)%nsp])*spin[i,j]\n",
    "        p = np.exp(-2*En)\n",
    "        r = np.random.uniform()\n",
    "        if r < p:\n",
    "            spin[i,j] = -spin[i,j]\n",
    "        if (n == n_th) and (n_temp == 0):\n",
    "            spin = reverse(spin)\n",
    "            spin_data = np.append(spin, beta)    # 最初の熱平衡状態の配位を spin_data に登録\n",
    "        elif (n >= n_th) and (n % n_MC == 0):\n",
    "            spin = reverse(spin)\n",
    "            s_temp = np.append(spin, beta)\n",
    "            spin_data = np.append(spin_data, s_temp) # n_MC 毎にスピン配位をspin_data に追加\n",
    "\n",
    "path_w = make_filename_by_seq(\"Data\", \"spin_data\")\n",
    "np.save(path_w, spin_data)"
   ]
  },
  {
   "cell_type": "code",
   "execution_count": null,
   "id": "b626f708",
   "metadata": {},
   "outputs": [],
   "source": [
    "spin_data.shape"
   ]
  },
  {
   "cell_type": "code",
   "execution_count": null,
   "id": "c3cef910",
   "metadata": {},
   "outputs": [],
   "source": []
  },
  {
   "cell_type": "code",
   "execution_count": null,
   "id": "23c36ddb",
   "metadata": {},
   "outputs": [],
   "source": []
  }
 ],
 "metadata": {
  "kernelspec": {
   "display_name": "Python 3 (ipykernel)",
   "language": "python",
   "name": "python3"
  },
  "language_info": {
   "codemirror_mode": {
    "name": "ipython",
    "version": 3
   },
   "file_extension": ".py",
   "mimetype": "text/x-python",
   "name": "python",
   "nbconvert_exporter": "python",
   "pygments_lexer": "ipython3",
   "version": "3.10.9"
  }
 },
 "nbformat": 4,
 "nbformat_minor": 5
}
