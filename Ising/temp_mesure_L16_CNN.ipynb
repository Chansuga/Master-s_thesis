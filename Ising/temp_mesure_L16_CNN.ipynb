{
 "cells": [
  {
   "cell_type": "code",
   "execution_count": 1,
   "metadata": {},
   "outputs": [],
   "source": [
    "import os\n",
    "import torch\n",
    "import torch.nn as nn\n",
    "import torch.optim as optim\n",
    "import torch.nn.functional as F\n",
    "from torchvision import transforms\n",
    "from torch.utils.data import DataLoader, TensorDataset\n",
    "import matplotlib.pyplot as plt\n",
    "import pickle\n",
    "from sklearn.model_selection import train_test_split"
   ]
  },
  {
   "cell_type": "code",
   "execution_count": 2,
   "metadata": {},
   "outputs": [
    {
     "data": {
      "text/plain": [
       "'cpu'"
      ]
     },
     "execution_count": 2,
     "metadata": {},
     "output_type": "execute_result"
    }
   ],
   "source": [
    "# cudaが使えるか確認\n",
    "device = \"cuda\" if torch.cuda.is_available() else \"cpu\"\n",
    "device"
   ]
  },
  {
   "cell_type": "markdown",
   "metadata": {},
   "source": [
    "データの読み込み"
   ]
  },
  {
   "cell_type": "markdown",
   "metadata": {},
   "source": [
    "GPUで作ったPickleのファイルは，CPUではそのままでは使えないため，工夫が必要．\n",
    "\n",
    "https://www.kunita-gamefactory.com/post/%E3%80%90pytorch%E3%80%91gpu%E3%81%A7%E8%A8%93%E7%B7%B4%E3%81%95%E3%81%9B%E3%81%9F%E3%83%A2%E3%83%87%E3%83%AB%E3%82%92cpu%E3%81%A7%E8%AA%AD%E3%81%BF%E8%BE%BC%E3%82%82%E3%81%86%E3%81%A8%E3%81%97%E3%81%9F%E3%81%8A%E8%A9%B1\n",
    "\n",
    "を真似したらうまくCPU上でもファイルを読み込むことができるようになった．"
   ]
  },
  {
   "cell_type": "code",
   "execution_count": 3,
   "metadata": {},
   "outputs": [],
   "source": [
    "import io\n",
    "        \n",
    "class CPU_Unpickler(pickle.Unpickler):\n",
    "    def find_class(self, module, name):\n",
    "        if module == 'torch.storage' and name == '_load_from_bytes':\n",
    "            return lambda b: torch.load(io.BytesIO(b), map_location='cpu')\n",
    "        else: return super().find_class(module, name)"
   ]
  },
  {
   "cell_type": "code",
   "execution_count": 4,
   "metadata": {},
   "outputs": [],
   "source": [
    "# ファイルの相対パスを指定\n",
    "file_path = 'data_storage/Ising_samp_data_L16.pkl'\n",
    "\n",
    "if torch.cuda.is_available():\n",
    "    with open(file_path, 'rb') as file:\n",
    "        loaded_data = pickle.load(file, encoding='latin1')\n",
    "else:\n",
    "    with open(file_path, 'rb') as file:\n",
    "        loaded_data = CPU_Unpickler(file).load()\n",
    "        \n",
    "# 読み込んだデータを個々の変数に分割\n",
    "spin_data, temp_data = loaded_data"
   ]
  },
  {
   "cell_type": "code",
   "execution_count": 5,
   "metadata": {},
   "outputs": [
    {
     "data": {
      "text/plain": [
       "(torch.Size([25000, 16, 16]), 25000)"
      ]
     },
     "execution_count": 5,
     "metadata": {},
     "output_type": "execute_result"
    }
   ],
   "source": [
    "# データの形を確認\n",
    "spin_data.shape , len(temp_data)"
   ]
  },
  {
   "cell_type": "code",
   "execution_count": 6,
   "metadata": {},
   "outputs": [
    {
     "data": {
      "text/plain": [
       "torch.Size([25000, 1, 16, 16])"
      ]
     },
     "execution_count": 6,
     "metadata": {},
     "output_type": "execute_result"
    }
   ],
   "source": [
    "spin_data = spin_data.unsqueeze(1)\n",
    "spin_data.shape"
   ]
  },
  {
   "cell_type": "code",
   "execution_count": 7,
   "metadata": {},
   "outputs": [
    {
     "name": "stdout",
     "output_type": "stream",
     "text": [
      "tensor([[[-1., -1., -1., -1., -1.,  1.,  1.,  1., -1.,  1.,  1.,  1.,  1., -1.,\n",
      "          -1., -1.],\n",
      "         [-1., -1.,  1.,  1.,  1.,  1.,  1.,  1.,  1.,  1.,  1.,  1., -1., -1.,\n",
      "          -1., -1.],\n",
      "         [-1., -1., -1., -1.,  1.,  1.,  1.,  1.,  1.,  1., -1., -1., -1., -1.,\n",
      "          -1., -1.],\n",
      "         [-1., -1., -1., -1., -1.,  1.,  1.,  1., -1.,  1.,  1., -1., -1., -1.,\n",
      "           1., -1.],\n",
      "         [-1., -1., -1., -1.,  1., -1., -1.,  1., -1., -1.,  1., -1., -1.,  1.,\n",
      "           1., -1.],\n",
      "         [-1.,  1., -1., -1., -1., -1.,  1.,  1., -1.,  1.,  1., -1., -1.,  1.,\n",
      "           1.,  1.],\n",
      "         [-1., -1., -1., -1., -1.,  1.,  1., -1., -1., -1.,  1., -1.,  1.,  1.,\n",
      "          -1.,  1.],\n",
      "         [-1., -1., -1., -1.,  1.,  1.,  1., -1., -1., -1., -1., -1., -1., -1.,\n",
      "          -1.,  1.],\n",
      "         [ 1., -1., -1.,  1.,  1.,  1., -1., -1., -1., -1., -1., -1.,  1.,  1.,\n",
      "           1.,  1.],\n",
      "         [-1., -1., -1., -1.,  1., -1., -1.,  1.,  1., -1.,  1.,  1.,  1.,  1.,\n",
      "           1.,  1.],\n",
      "         [ 1., -1., -1., -1., -1., -1., -1., -1.,  1.,  1., -1.,  1.,  1.,  1.,\n",
      "           1.,  1.],\n",
      "         [ 1., -1., -1., -1., -1., -1., -1., -1.,  1.,  1., -1., -1., -1., -1.,\n",
      "           1.,  1.],\n",
      "         [-1., -1., -1., -1., -1., -1., -1., -1., -1., -1., -1., -1., -1., -1.,\n",
      "          -1., -1.],\n",
      "         [-1., -1.,  1.,  1., -1., -1.,  1.,  1.,  1.,  1., -1., -1., -1., -1.,\n",
      "          -1., -1.],\n",
      "         [-1., -1.,  1.,  1., -1.,  1.,  1.,  1., -1., -1., -1.,  1., -1., -1.,\n",
      "          -1., -1.],\n",
      "         [-1., -1., -1., -1., -1.,  1.,  1.,  1., -1., -1., -1.,  1., -1., -1.,\n",
      "          -1., -1.]]]) 2.5\n"
     ]
    }
   ],
   "source": [
    "print(spin_data[10000], temp_data[10000])"
   ]
  },
  {
   "cell_type": "code",
   "execution_count": 8,
   "metadata": {},
   "outputs": [],
   "source": [
    "# サンプルデータを訓練用とテスト用に分割(5:5)\n",
    "spin_train, spin_test, temp_train, temp_test = train_test_split(spin_data, temp_data, test_size=0.5)"
   ]
  },
  {
   "cell_type": "code",
   "execution_count": 9,
   "metadata": {},
   "outputs": [
    {
     "name": "stderr",
     "output_type": "stream",
     "text": [
      "C:\\Users\\sugay\\AppData\\Local\\Temp\\ipykernel_21796\\3927323180.py:2: UserWarning: To copy construct from a tensor, it is recommended to use sourceTensor.clone().detach() or sourceTensor.clone().detach().requires_grad_(True), rather than torch.tensor(sourceTensor).\n",
      "  spin_train = torch.tensor(spin_train, dtype=torch.float32)\n",
      "C:\\Users\\sugay\\AppData\\Local\\Temp\\ipykernel_21796\\3927323180.py:3: UserWarning: To copy construct from a tensor, it is recommended to use sourceTensor.clone().detach() or sourceTensor.clone().detach().requires_grad_(True), rather than torch.tensor(sourceTensor).\n",
      "  spin_test = torch.tensor(spin_test, dtype=torch.float32)\n"
     ]
    }
   ],
   "source": [
    "# PyTorchのテンソルに変換\n",
    "spin_train = torch.tensor(spin_train, dtype=torch.float32)\n",
    "spin_test = torch.tensor(spin_test, dtype=torch.float32)\n",
    "temp_train = torch.tensor(temp_train, dtype=torch.float32).view(-1, 1)  # (25000,) -> (25000, 1)\n",
    "temp_test = torch.tensor(temp_test, dtype=torch.float32).view(-1, 1)    # (6250,) -> (6250, 1)"
   ]
  },
  {
   "cell_type": "code",
   "execution_count": 10,
   "metadata": {},
   "outputs": [
    {
     "data": {
      "text/plain": [
       "tensor([[[-1., -1., -1., -1., -1.,  1.,  1.,  1.,  1., -1.,  1.,  1., -1., -1.,\n",
       "           1., -1.],\n",
       "         [-1.,  1., -1., -1.,  1.,  1.,  1., -1.,  1.,  1., -1., -1.,  1.,  1.,\n",
       "           1.,  1.],\n",
       "         [ 1.,  1.,  1.,  1.,  1., -1.,  1., -1., -1., -1.,  1.,  1.,  1., -1.,\n",
       "          -1.,  1.],\n",
       "         [ 1., -1.,  1., -1., -1., -1., -1.,  1., -1.,  1.,  1., -1., -1., -1.,\n",
       "           1.,  1.],\n",
       "         [ 1., -1.,  1., -1., -1., -1., -1.,  1.,  1.,  1.,  1., -1., -1., -1.,\n",
       "          -1.,  1.],\n",
       "         [-1.,  1., -1., -1., -1.,  1., -1.,  1., -1., -1.,  1.,  1.,  1., -1.,\n",
       "          -1., -1.],\n",
       "         [-1., -1., -1., -1., -1.,  1.,  1., -1.,  1., -1., -1.,  1., -1.,  1.,\n",
       "           1., -1.],\n",
       "         [ 1., -1., -1.,  1.,  1., -1., -1., -1.,  1., -1.,  1.,  1.,  1.,  1.,\n",
       "           1.,  1.],\n",
       "         [ 1., -1., -1., -1., -1., -1., -1.,  1.,  1.,  1.,  1., -1.,  1.,  1.,\n",
       "           1.,  1.],\n",
       "         [ 1.,  1., -1.,  1., -1., -1., -1., -1., -1.,  1., -1., -1., -1., -1.,\n",
       "          -1., -1.],\n",
       "         [ 1., -1.,  1., -1., -1., -1., -1.,  1.,  1.,  1., -1.,  1., -1., -1.,\n",
       "          -1.,  1.],\n",
       "         [ 1., -1., -1., -1.,  1.,  1.,  1.,  1.,  1.,  1., -1., -1.,  1., -1.,\n",
       "          -1.,  1.],\n",
       "         [ 1.,  1., -1.,  1.,  1.,  1.,  1.,  1.,  1.,  1.,  1.,  1., -1., -1.,\n",
       "          -1.,  1.],\n",
       "         [-1.,  1., -1., -1., -1., -1., -1.,  1., -1., -1., -1.,  1., -1., -1.,\n",
       "          -1., -1.],\n",
       "         [-1.,  1., -1.,  1., -1.,  1.,  1., -1., -1., -1., -1., -1., -1., -1.,\n",
       "           1., -1.],\n",
       "         [-1., -1., -1., -1., -1.,  1., -1.,  1., -1., -1.,  1.,  1., -1.,  1.,\n",
       "          -1., -1.]]])"
      ]
     },
     "execution_count": 10,
     "metadata": {},
     "output_type": "execute_result"
    }
   ],
   "source": [
    "spin_train[1]"
   ]
  },
  {
   "cell_type": "code",
   "execution_count": 11,
   "metadata": {},
   "outputs": [
    {
     "data": {
      "text/plain": [
       "tensor([5.7500])"
      ]
     },
     "execution_count": 11,
     "metadata": {},
     "output_type": "execute_result"
    }
   ],
   "source": [
    "temp_train[1]"
   ]
  },
  {
   "cell_type": "markdown",
   "metadata": {},
   "source": [
    "正解データはone-hot表現にする必要がある"
   ]
  },
  {
   "cell_type": "code",
   "execution_count": 12,
   "metadata": {},
   "outputs": [],
   "source": [
    "# テンソルを新しいテンソルに変換する関数を定義\n",
    "def to_one_hot(data, num_classes=25):\n",
    "    # one-hotベクトルの初期化\n",
    "    one_hot = torch.zeros(len(data), num_classes)\n",
    "    \n",
    "    # 各要素を25次元のone-hotベクトルに変換\n",
    "    for i, val in enumerate(data):\n",
    "        index = int((val - 0.01) / 0.24)  # 正しいインデックスの計算\n",
    "        one_hot[i, index] = 1.0\n",
    "    \n",
    "    return one_hot\n",
    "\n",
    "# temp_train,temp_testをone-hotベクトルに変換\n",
    "one_hot_temp_train = to_one_hot(temp_train, num_classes=25)\n",
    "one_hot_temp_test = to_one_hot(temp_test, num_classes=25)"
   ]
  },
  {
   "cell_type": "code",
   "execution_count": 13,
   "metadata": {},
   "outputs": [
    {
     "data": {
      "text/plain": [
       "tensor([0., 0., 0., 0., 0., 0., 0., 0., 0., 0., 1., 0., 0., 0., 0., 0., 0., 0.,\n",
       "        0., 0., 0., 0., 0., 0., 0.])"
      ]
     },
     "execution_count": 13,
     "metadata": {},
     "output_type": "execute_result"
    }
   ],
   "source": [
    "one_hot_temp_train[0]"
   ]
  },
  {
   "cell_type": "code",
   "execution_count": 14,
   "metadata": {},
   "outputs": [
    {
     "data": {
      "text/plain": [
       "tensor([2.5000])"
      ]
     },
     "execution_count": 14,
     "metadata": {},
     "output_type": "execute_result"
    }
   ],
   "source": [
    "temp_train[0]"
   ]
  },
  {
   "cell_type": "code",
   "execution_count": 15,
   "metadata": {},
   "outputs": [],
   "source": [
    "# データセットの作成\n",
    "train_dataset = TensorDataset(spin_train, one_hot_temp_train)\n",
    "test_dataset = TensorDataset(spin_test, one_hot_temp_test)"
   ]
  },
  {
   "cell_type": "code",
   "execution_count": 16,
   "metadata": {},
   "outputs": [
    {
     "data": {
      "text/plain": [
       "(tensor([[[-1., -1., -1., -1.,  1.,  1.,  1.,  1., -1., -1., -1., -1., -1., -1.,\n",
       "           -1., -1.],\n",
       "          [ 1., -1., -1., -1., -1., -1.,  1.,  1., -1., -1.,  1., -1., -1., -1.,\n",
       "           -1., -1.],\n",
       "          [-1., -1., -1., -1., -1.,  1.,  1.,  1., -1., -1., -1., -1., -1., -1.,\n",
       "           -1., -1.],\n",
       "          [-1.,  1.,  1.,  1.,  1.,  1.,  1.,  1., -1., -1., -1., -1., -1., -1.,\n",
       "           -1., -1.],\n",
       "          [-1., -1., -1., -1.,  1., -1., -1., -1., -1., -1., -1., -1., -1., -1.,\n",
       "            1., -1.],\n",
       "          [-1., -1., -1., -1., -1., -1., -1.,  1.,  1., -1., -1., -1., -1., -1.,\n",
       "           -1., -1.],\n",
       "          [ 1., -1., -1., -1., -1., -1., -1.,  1., -1., -1., -1.,  1., -1., -1.,\n",
       "           -1., -1.],\n",
       "          [ 1., -1., -1., -1., -1., -1., -1.,  1., -1., -1., -1., -1., -1., -1.,\n",
       "           -1., -1.],\n",
       "          [-1., -1., -1., -1., -1., -1., -1., -1., -1., -1., -1., -1., -1., -1.,\n",
       "           -1., -1.],\n",
       "          [-1., -1.,  1., -1., -1., -1.,  1., -1., -1., -1., -1., -1., -1., -1.,\n",
       "           -1., -1.],\n",
       "          [-1., -1., -1., -1., -1., -1., -1., -1., -1., -1., -1., -1., -1., -1.,\n",
       "           -1., -1.],\n",
       "          [-1., -1., -1., -1., -1., -1., -1., -1., -1., -1., -1.,  1.,  1.,  1.,\n",
       "           -1., -1.],\n",
       "          [-1., -1., -1., -1., -1., -1., -1., -1., -1., -1., -1., -1.,  1., -1.,\n",
       "           -1., -1.],\n",
       "          [-1., -1., -1., -1., -1., -1., -1., -1., -1.,  1., -1., -1.,  1., -1.,\n",
       "           -1., -1.],\n",
       "          [-1., -1., -1., -1., -1., -1., -1., -1., -1.,  1., -1., -1., -1., -1.,\n",
       "           -1., -1.],\n",
       "          [-1., -1., -1., -1., -1.,  1.,  1., -1., -1., -1., -1., -1., -1., -1.,\n",
       "           -1., -1.]]]),\n",
       " tensor([0., 0., 0., 0., 0., 0., 0., 0., 0., 0., 1., 0., 0., 0., 0., 0., 0., 0.,\n",
       "         0., 0., 0., 0., 0., 0., 0.]))"
      ]
     },
     "execution_count": 16,
     "metadata": {},
     "output_type": "execute_result"
    }
   ],
   "source": [
    "train_dataset[0]"
   ]
  },
  {
   "cell_type": "code",
   "execution_count": 17,
   "metadata": {},
   "outputs": [],
   "source": [
    "# 前処理を定義\n",
    "transform = transforms.Compose([\n",
    "    transforms.RandomHorizontalFlip(p=0.5),\n",
    "    transforms.RandomVerticalFlip(p=0.5),\n",
    "])\n",
    "\n",
    "# データセットに前処理を適用\n",
    "transformed_train_dataset = [(transform(tensor_sample), label) for tensor_sample, label in train_dataset]\n",
    "transformed_test_dataset = [(transform(tensor_sample), label) for tensor_sample, label in test_dataset]"
   ]
  },
  {
   "cell_type": "code",
   "execution_count": 18,
   "metadata": {},
   "outputs": [
    {
     "data": {
      "text/plain": [
       "(tensor([[[-1., -1., -1., -1., -1., -1., -1., -1., -1.,  1.,  1., -1., -1., -1.,\n",
       "           -1., -1.],\n",
       "          [-1., -1., -1., -1., -1., -1.,  1., -1., -1., -1., -1., -1., -1., -1.,\n",
       "           -1., -1.],\n",
       "          [-1., -1., -1.,  1., -1., -1.,  1., -1., -1., -1., -1., -1., -1., -1.,\n",
       "           -1., -1.],\n",
       "          [-1., -1., -1.,  1., -1., -1., -1., -1., -1., -1., -1., -1., -1., -1.,\n",
       "           -1., -1.],\n",
       "          [-1., -1.,  1.,  1.,  1., -1., -1., -1., -1., -1., -1., -1., -1., -1.,\n",
       "           -1., -1.],\n",
       "          [-1., -1., -1., -1., -1., -1., -1., -1., -1., -1., -1., -1., -1., -1.,\n",
       "           -1., -1.],\n",
       "          [-1., -1., -1., -1., -1., -1., -1., -1., -1.,  1., -1., -1., -1.,  1.,\n",
       "           -1., -1.],\n",
       "          [-1., -1., -1., -1., -1., -1., -1., -1., -1., -1., -1., -1., -1., -1.,\n",
       "           -1., -1.],\n",
       "          [-1., -1., -1., -1., -1., -1., -1., -1.,  1., -1., -1., -1., -1., -1.,\n",
       "           -1.,  1.],\n",
       "          [-1., -1., -1., -1.,  1., -1., -1., -1.,  1., -1., -1., -1., -1., -1.,\n",
       "           -1.,  1.],\n",
       "          [-1., -1., -1., -1., -1., -1., -1.,  1.,  1., -1., -1., -1., -1., -1.,\n",
       "           -1., -1.],\n",
       "          [-1.,  1., -1., -1., -1., -1., -1., -1., -1., -1., -1.,  1., -1., -1.,\n",
       "           -1., -1.],\n",
       "          [-1., -1., -1., -1., -1., -1., -1., -1.,  1.,  1.,  1.,  1.,  1.,  1.,\n",
       "            1., -1.],\n",
       "          [-1., -1., -1., -1., -1., -1., -1., -1.,  1.,  1.,  1., -1., -1., -1.,\n",
       "           -1., -1.],\n",
       "          [-1., -1., -1., -1., -1.,  1., -1., -1.,  1.,  1., -1., -1., -1., -1.,\n",
       "           -1.,  1.],\n",
       "          [-1., -1., -1., -1., -1., -1., -1., -1.,  1.,  1.,  1.,  1., -1., -1.,\n",
       "           -1., -1.]]]),\n",
       " tensor([0., 0., 0., 0., 0., 0., 0., 0., 0., 0., 1., 0., 0., 0., 0., 0., 0., 0.,\n",
       "         0., 0., 0., 0., 0., 0., 0.]))"
      ]
     },
     "execution_count": 18,
     "metadata": {},
     "output_type": "execute_result"
    }
   ],
   "source": [
    "transformed_train_dataset[0]"
   ]
  },
  {
   "cell_type": "code",
   "execution_count": 19,
   "metadata": {},
   "outputs": [],
   "source": [
    "# DataLoaderの設定（バッチサイズ125）\n",
    "train_loader = DataLoader(transformed_train_dataset, batch_size=125, shuffle=True)\n",
    "test_loader = DataLoader(transformed_test_dataset, batch_size=125)"
   ]
  },
  {
   "cell_type": "code",
   "execution_count": 20,
   "metadata": {},
   "outputs": [
    {
     "data": {
      "text/plain": [
       "tensor([[0., 0., 0.,  ..., 0., 0., 0.],\n",
       "        [0., 0., 0.,  ..., 0., 0., 0.],\n",
       "        [0., 0., 0.,  ..., 0., 0., 0.],\n",
       "        ...,\n",
       "        [0., 0., 0.,  ..., 0., 0., 0.],\n",
       "        [1., 0., 0.,  ..., 0., 0., 0.],\n",
       "        [0., 0., 0.,  ..., 0., 0., 0.]])"
      ]
     },
     "execution_count": 20,
     "metadata": {},
     "output_type": "execute_result"
    }
   ],
   "source": [
    "data_iter = iter(train_loader)\n",
    "imgs, labels = next(data_iter)\n",
    "labels"
   ]
  },
  {
   "cell_type": "code",
   "execution_count": 21,
   "metadata": {},
   "outputs": [
    {
     "data": {
      "text/plain": [
       "(torch.Size([125, 1, 16, 16]), torch.Size([125, 25]))"
      ]
     },
     "execution_count": 21,
     "metadata": {},
     "output_type": "execute_result"
    }
   ],
   "source": [
    "imgs.size(), labels.size()"
   ]
  },
  {
   "cell_type": "code",
   "execution_count": 22,
   "metadata": {},
   "outputs": [
    {
     "data": {
      "text/plain": [
       "(torch.Size([125, 1, 16, 16]), torch.Size([125, 25]))"
      ]
     },
     "execution_count": 22,
     "metadata": {},
     "output_type": "execute_result"
    }
   ],
   "source": [
    "x, t = next(iter(train_loader))\n",
    "x.shape, t.shape"
   ]
  },
  {
   "cell_type": "markdown",
   "metadata": {},
   "source": [
    "モデルを定義"
   ]
  },
  {
   "cell_type": "code",
   "execution_count": 23,
   "metadata": {},
   "outputs": [],
   "source": [
    "class CNN(nn.Module):\n",
    "    def __init__(self, input_size, output_size, in_channels, out_channels):\n",
    "        super().__init__()\n",
    "        # 畳み込みの部分\n",
    "        self.conv = nn.Sequential(\n",
    "            nn.ReflectionPad2d(1),  # 反射パディング\n",
    "            nn.Conv2d(in_channels, out_channels, kernel_size=3, stride=int(((input_size)**0.5)/4), bias=False),\n",
    "            nn.ReLU(inplace=True),\n",
    "        )\n",
    "        # 全結合の部分\n",
    "        self.fc = nn.Sequential(\n",
    "            nn.Linear(out_channels*4*4, output_size, bias=False),\n",
    "            nn.Softmax(dim=1)\n",
    "        )\n",
    "    def forward(self, x):\n",
    "        x = self.conv(x)\n",
    "        x = x.view(x.size(0), -1)\n",
    "        x = self.fc(x)\n",
    "        return x"
   ]
  },
  {
   "cell_type": "markdown",
   "metadata": {},
   "source": [
    "モデルのインスタンス化"
   ]
  },
  {
   "cell_type": "code",
   "execution_count": 24,
   "metadata": {},
   "outputs": [
    {
     "name": "stdout",
     "output_type": "stream",
     "text": [
      "CNN(\n",
      "  (conv): Sequential(\n",
      "    (0): ReflectionPad2d((1, 1, 1, 1))\n",
      "    (1): Conv2d(1, 5, kernel_size=(3, 3), stride=(4, 4), bias=False)\n",
      "    (2): ReLU(inplace=True)\n",
      "  )\n",
      "  (fc): Sequential(\n",
      "    (0): Linear(in_features=80, out_features=25, bias=False)\n",
      "    (1): Softmax(dim=1)\n",
      "  )\n",
      ")\n"
     ]
    }
   ],
   "source": [
    "input_size = 16*16\n",
    "output_size = 25\n",
    "in_channels = 1\n",
    "out_channels = 5  \n",
    "model = CNN(input_size, output_size, in_channels, out_channels)\n",
    "model.to(device)\n",
    "# モデルの概要表示\n",
    "print(model)"
   ]
  },
  {
   "cell_type": "markdown",
   "metadata": {},
   "source": [
    "損失関数と最適化アルゴリズムの設定"
   ]
  },
  {
   "cell_type": "code",
   "execution_count": 25,
   "metadata": {},
   "outputs": [],
   "source": [
    "criterion = nn.CrossEntropyLoss()   # クロスエントロピー誤差\n",
    "optimizer = optim.Adam(model.parameters(), lr=0.0007, weight_decay=5e-4)     # Adam,L2正則化"
   ]
  },
  {
   "cell_type": "markdown",
   "metadata": {},
   "source": [
    "学習の実行"
   ]
  },
  {
   "cell_type": "code",
   "execution_count": 26,
   "metadata": {},
   "outputs": [
    {
     "name": "stdout",
     "output_type": "stream",
     "text": [
      "epoch: 0, loss: 3.209205853939056, acc: 0.04808001220226288, test loss: 3.2028997230529783, test acc: 0.05008000507950783\n",
      "epoch: 1, loss: 3.1971346974372863, acc: 0.07135999947786331, test loss: 3.1937394332885742, test acc: 0.07664001733064651\n",
      "epoch: 2, loss: 3.1889588928222654, acc: 0.08295999467372894, test loss: 3.188547933101654, test acc: 0.07767999917268753\n",
      "epoch: 3, loss: 3.1841630864143373, acc: 0.0894399955868721, test loss: 3.1852229404449464, test acc: 0.0862400159239769\n",
      "epoch: 4, loss: 3.1799217009544374, acc: 0.10408002138137817, test loss: 3.181548218727112, test acc: 0.09312000125646591\n",
      "epoch: 5, loss: 3.174857454299927, acc: 0.11416003108024597, test loss: 3.1787959575653075, test acc: 0.09576000273227692\n",
      "epoch: 6, loss: 3.1705197405815126, acc: 0.11680002510547638, test loss: 3.175844931602478, test acc: 0.09888002276420593\n",
      "epoch: 7, loss: 3.166500008106232, acc: 0.12272001057863235, test loss: 3.1733109855651858, test acc: 0.10544002801179886\n",
      "epoch: 8, loss: 3.162287662029266, acc: 0.12888000905513763, test loss: 3.171210391521454, test acc: 0.11152000725269318\n",
      "epoch: 9, loss: 3.1581563210487364, acc: 0.1316000074148178, test loss: 3.169511423110962, test acc: 0.12064000964164734\n",
      "epoch: 10, loss: 3.1544094371795652, acc: 0.13488000631332397, test loss: 3.1685860419273375, test acc: 0.1119999960064888\n",
      "epoch: 11, loss: 3.1515991568565367, acc: 0.14240001142024994, test loss: 3.167443509101868, test acc: 0.11648000776767731\n",
      "epoch: 12, loss: 3.1491294479370118, acc: 0.14551998674869537, test loss: 3.1669313287734986, test acc: 0.1151200383901596\n",
      "epoch: 13, loss: 3.1470474123954775, acc: 0.1456799954175949, test loss: 3.1661667609214783, test acc: 0.11328002065420151\n",
      "epoch: 14, loss: 3.1445909214019774, acc: 0.1502400040626526, test loss: 3.1659489488601684, test acc: 0.11112002283334732\n",
      "epoch: 15, loss: 3.1424473619461057, acc: 0.15528003871440887, test loss: 3.1662933897972105, test acc: 0.10840000957250595\n",
      "epoch: 16, loss: 3.1400817751884462, acc: 0.1597600132226944, test loss: 3.165209262371063, test acc: 0.1104000061750412\n",
      "epoch: 17, loss: 3.1384574127197267, acc: 0.15912002325057983, test loss: 3.164793646335602, test acc: 0.11824002116918564\n",
      "epoch: 18, loss: 3.136792235374451, acc: 0.15856003761291504, test loss: 3.1643994736671446, test acc: 0.11551999300718307\n",
      "epoch: 19, loss: 3.134545166492462, acc: 0.16368001699447632, test loss: 3.1649031949043276, test acc: 0.11135996878147125\n",
      "epoch: 20, loss: 3.132693877220154, acc: 0.1674400120973587, test loss: 3.164129259586334, test acc: 0.11656002700328827\n",
      "epoch: 21, loss: 3.1317652654647827, acc: 0.16648004949092865, test loss: 3.164211189746857, test acc: 0.12016000598669052\n",
      "epoch: 22, loss: 3.129993381500244, acc: 0.17007999122142792, test loss: 3.1639937925338746, test acc: 0.11272000521421432\n",
      "epoch: 23, loss: 3.12844872713089, acc: 0.16976003348827362, test loss: 3.1641807985305785, test acc: 0.11328002065420151\n",
      "epoch: 24, loss: 3.127735335826874, acc: 0.1706400364637375, test loss: 3.1641747617721556, test acc: 0.11016003787517548\n",
      "epoch: 25, loss: 3.126084704399109, acc: 0.17256000638008118, test loss: 3.165313632488251, test acc: 0.10808001458644867\n",
      "epoch: 26, loss: 3.1248703694343565, acc: 0.17791995406150818, test loss: 3.163399715423584, test acc: 0.11976001411676407\n",
      "epoch: 27, loss: 3.1241288208961486, acc: 0.17368002235889435, test loss: 3.1633545207977294, test acc: 0.11696001142263412\n",
      "epoch: 28, loss: 3.1232719564437867, acc: 0.1777600646018982, test loss: 3.1631940245628356, test acc: 0.11720003932714462\n",
      "epoch: 29, loss: 3.1220090079307554, acc: 0.1786399781703949, test loss: 3.1629856491088866, test acc: 0.12080004811286926\n",
      "epoch: 30, loss: 3.121293170452118, acc: 0.18184000253677368, test loss: 3.1628718400001525, test acc: 0.12000002712011337\n",
      "epoch: 31, loss: 3.120681273937225, acc: 0.17824001610279083, test loss: 3.1628637290000916, test acc: 0.12512002885341644\n",
      "epoch: 32, loss: 3.1201092624664306, acc: 0.18079997599124908, test loss: 3.1627204322814944, test acc: 0.11712000519037247\n",
      "epoch: 33, loss: 3.118529260158539, acc: 0.1857600212097168, test loss: 3.162107455730438, test acc: 0.12191999703645706\n",
      "epoch: 34, loss: 3.118106737136841, acc: 0.18376001715660095, test loss: 3.1643650484085084, test acc: 0.11096000671386719\n",
      "epoch: 35, loss: 3.1170123648643493, acc: 0.18591998517513275, test loss: 3.1621598172187806, test acc: 0.12176000326871872\n",
      "epoch: 36, loss: 3.1166130185127257, acc: 0.18575997650623322, test loss: 3.1620160603523253, test acc: 0.12120002508163452\n",
      "epoch: 37, loss: 3.11617050409317, acc: 0.18415997922420502, test loss: 3.1641983509063722, test acc: 0.11144000291824341\n",
      "epoch: 38, loss: 3.1155549621582033, acc: 0.18423998355865479, test loss: 3.1628775930404665, test acc: 0.10768000781536102\n",
      "epoch: 39, loss: 3.1147457432746886, acc: 0.18832001090049744, test loss: 3.1618643379211426, test acc: 0.12216000258922577\n",
      "epoch: 40, loss: 3.1138560247421263, acc: 0.1904800534248352, test loss: 3.161456620693207, test acc: 0.12416002154350281\n",
      "epoch: 41, loss: 3.113398048877716, acc: 0.18968002498149872, test loss: 3.161718761920929, test acc: 0.12455998361110687\n",
      "epoch: 42, loss: 3.1129491043090822, acc: 0.19119998812675476, test loss: 3.16149484872818, test acc: 0.12216003239154816\n",
      "epoch: 43, loss: 3.112225468158722, acc: 0.19207997620105743, test loss: 3.1616148710250855, test acc: 0.12016003578901291\n",
      "epoch: 44, loss: 3.1114039731025698, acc: 0.19224001467227936, test loss: 3.1623463940620424, test acc: 0.1154400035738945\n",
      "epoch: 45, loss: 3.1113498282432555, acc: 0.19200003147125244, test loss: 3.161050708293915, test acc: 0.12463998794555664\n",
      "epoch: 46, loss: 3.111318972110748, acc: 0.19208002090454102, test loss: 3.161299364566803, test acc: 0.12488003075122833\n",
      "epoch: 47, loss: 3.110562553405762, acc: 0.19359999895095825, test loss: 3.162113456726074, test acc: 0.11712002754211426\n",
      "epoch: 48, loss: 3.1097614908218385, acc: 0.19495999813079834, test loss: 3.1604224157333376, test acc: 0.12304003536701202\n",
      "epoch: 49, loss: 3.109192054271698, acc: 0.1956000179052353, test loss: 3.160474007129669, test acc: 0.1268000304698944\n",
      "epoch: 50, loss: 3.109647672176361, acc: 0.19248002767562866, test loss: 3.161626443862915, test acc: 0.11112000793218613\n",
      "epoch: 51, loss: 3.10872652053833, acc: 0.19480003416538239, test loss: 3.1606638622283936, test acc: 0.12264002114534378\n",
      "epoch: 52, loss: 3.1080365443229674, acc: 0.19464002549648285, test loss: 3.1600156736373903, test acc: 0.1263200342655182\n",
      "epoch: 53, loss: 3.10754221200943, acc: 0.19671998918056488, test loss: 3.1597232937812807, test acc: 0.125760018825531\n",
      "epoch: 54, loss: 3.1071515250205994, acc: 0.1979999989271164, test loss: 3.1603171896934508, test acc: 0.12904001772403717\n",
      "epoch: 55, loss: 3.1067943024635314, acc: 0.19519998133182526, test loss: 3.1599442648887632, test acc: 0.12344000488519669\n",
      "epoch: 56, loss: 3.1059134149551393, acc: 0.1995200216770172, test loss: 3.1608032155036927, test acc: 0.12151998281478882\n",
      "epoch: 57, loss: 3.1058028292655946, acc: 0.19703999161720276, test loss: 3.1590094780921936, test acc: 0.12672001123428345\n",
      "epoch: 58, loss: 3.105347006320953, acc: 0.19655996561050415, test loss: 3.1592028522491455, test acc: 0.1292800009250641\n",
      "epoch: 59, loss: 3.1049592971801756, acc: 0.1984800100326538, test loss: 3.159098916053772, test acc: 0.1281599998474121\n",
      "epoch: 60, loss: 3.1044509410858154, acc: 0.20120000839233398, test loss: 3.159465985298157, test acc: 0.12968000769615173\n",
      "epoch: 61, loss: 3.104340019226074, acc: 0.2001599669456482, test loss: 3.1594897055625917, test acc: 0.12432005256414413\n",
      "epoch: 62, loss: 3.1034615063667297, acc: 0.197999969124794, test loss: 3.160123999118805, test acc: 0.11184001713991165\n",
      "epoch: 63, loss: 3.1030651760101318, acc: 0.20031999051570892, test loss: 3.1586795353889467, test acc: 0.12784002721309662\n",
      "epoch: 64, loss: 3.102371611595154, acc: 0.20048002898693085, test loss: 3.158980987071991, test acc: 0.12672004103660583\n",
      "epoch: 65, loss: 3.102126142978668, acc: 0.20120002329349518, test loss: 3.158789472579956, test acc: 0.12600000202655792\n",
      "epoch: 66, loss: 3.1019160175323486, acc: 0.20327997207641602, test loss: 3.1583973956108093, test acc: 0.12799999117851257\n",
      "epoch: 67, loss: 3.101435992717743, acc: 0.20488004386425018, test loss: 3.158717918395996, test acc: 0.125760018825531\n",
      "epoch: 68, loss: 3.1009353971481324, acc: 0.20360004901885986, test loss: 3.1586982131004335, test acc: 0.1257600337266922\n",
      "epoch: 69, loss: 3.1009308910369873, acc: 0.20368005335330963, test loss: 3.1591462969779966, test acc: 0.12343999743461609\n",
      "epoch: 70, loss: 3.1005158591270447, acc: 0.20504005253314972, test loss: 3.158527626991272, test acc: 0.1260799914598465\n",
      "epoch: 71, loss: 3.1002281641960145, acc: 0.20471997559070587, test loss: 3.158550703525543, test acc: 0.12528002262115479\n",
      "epoch: 72, loss: 3.100006332397461, acc: 0.2035999745130539, test loss: 3.158577160835266, test acc: 0.12599997222423553\n",
      "epoch: 73, loss: 3.099218761920929, acc: 0.20583997666835785, test loss: 3.1582325291633606, test acc: 0.1295200139284134\n",
      "epoch: 74, loss: 3.0988703632354735, acc: 0.20735999941825867, test loss: 3.1582719922065734, test acc: 0.1271200180053711\n",
      "epoch: 75, loss: 3.0986113715171815, acc: 0.20655998587608337, test loss: 3.158231656551361, test acc: 0.1260799914598465\n",
      "epoch: 76, loss: 3.0981140756607055, acc: 0.20768003165721893, test loss: 3.1582359170913694, test acc: 0.127360001206398\n",
      "epoch: 77, loss: 3.097720067501068, acc: 0.20775997638702393, test loss: 3.159278781414032, test acc: 0.1228800117969513\n",
      "epoch: 78, loss: 3.097425045967102, acc: 0.20872001349925995, test loss: 3.1605638313293456, test acc: 0.11896000057458878\n",
      "epoch: 79, loss: 3.0980835366249084, acc: 0.20823998749256134, test loss: 3.1586201572418213, test acc: 0.12664002180099487\n",
      "epoch: 80, loss: 3.097101891040802, acc: 0.2088000327348709, test loss: 3.158061695098877, test acc: 0.12648001313209534\n",
      "epoch: 81, loss: 3.0965769481658936, acc: 0.20752005279064178, test loss: 3.159551100730896, test acc: 0.11096002906560898\n",
      "epoch: 82, loss: 3.0963552236557006, acc: 0.20975998044013977, test loss: 3.1579500222206116, test acc: 0.1263200044631958\n",
      "epoch: 83, loss: 3.0959134340286254, acc: 0.20999999344348907, test loss: 3.1581287717819215, test acc: 0.12808001041412354\n",
      "epoch: 84, loss: 3.0958218336105348, acc: 0.21128001809120178, test loss: 3.158688950538635, test acc: 0.12464003264904022\n",
      "epoch: 85, loss: 3.0958325624465943, acc: 0.21111997961997986, test loss: 3.161052417755127, test acc: 0.11784002184867859\n",
      "epoch: 86, loss: 3.095118455886841, acc: 0.21152006089687347, test loss: 3.15806134223938, test acc: 0.12872003018856049\n",
      "epoch: 87, loss: 3.0948294591903687, acc: 0.21119998395442963, test loss: 3.158018374443054, test acc: 0.1265600174665451\n",
      "epoch: 88, loss: 3.0943970537185668, acc: 0.2122400403022766, test loss: 3.1585853505134582, test acc: 0.12992000579833984\n",
      "epoch: 89, loss: 3.0947454500198366, acc: 0.21199998259544373, test loss: 3.157898895740509, test acc: 0.12784002721309662\n",
      "epoch: 90, loss: 3.0938759589195253, acc: 0.2136799842119217, test loss: 3.15807407617569, test acc: 0.1287200152873993\n",
      "epoch: 91, loss: 3.0944575881958007, acc: 0.2107200175523758, test loss: 3.1579836678504942, test acc: 0.12624001502990723\n",
      "epoch: 92, loss: 3.0935081529617308, acc: 0.21320003271102905, test loss: 3.1577671456336973, test acc: 0.12728004157543182\n",
      "epoch: 93, loss: 3.093552906513214, acc: 0.21320004761219025, test loss: 3.1579369163513182, test acc: 0.126320019364357\n",
      "epoch: 94, loss: 3.0929502630233765, acc: 0.21384002268314362, test loss: 3.157885978221893, test acc: 0.12752002477645874\n",
      "epoch: 95, loss: 3.092883062362671, acc: 0.21335996687412262, test loss: 3.1581981134414674, test acc: 0.1249600201845169\n",
      "epoch: 96, loss: 3.092437219619751, acc: 0.21328000724315643, test loss: 3.157629373073578, test acc: 0.12696000933647156\n",
      "epoch: 97, loss: 3.0924489188194273, acc: 0.21543999016284943, test loss: 3.1579170060157775, test acc: 0.12800000607967377\n",
      "epoch: 98, loss: 3.0921566390991213, acc: 0.21512004733085632, test loss: 3.157712473869324, test acc: 0.12800000607967377\n",
      "epoch: 99, loss: 3.091879630088806, acc: 0.21384000778198242, test loss: 3.1586914539337156, test acc: 0.13064004480838776\n"
     ]
    }
   ],
   "source": [
    "num_epochs = 100\n",
    "train_losses = []\n",
    "train_accs = []\n",
    "test_losses = []\n",
    "test_accs = []\n",
    "for epoch in range(num_epochs):\n",
    "    running_loss = 0.0\n",
    "    running_acc = 0.0\n",
    "    for inputs, targets in train_loader:\n",
    "        inputs = inputs.to(device)\n",
    "        targets = targets.to(device)\n",
    "        optimizer.zero_grad()\n",
    "        output = model(inputs)\n",
    "        loss = criterion(output, targets)\n",
    "        loss.backward()\n",
    "        running_loss += loss.item()\n",
    "        pred = torch.argmax(output, dim=1)      # outputの一番値が大きい成分\n",
    "        targets = torch.argmax(targets, dim=1)  # targetの一番値が大きい成分\n",
    "        running_acc += torch.mean(pred.eq(targets).float().cpu()) # predとtargetが同じになった数の平均\n",
    "        optimizer.step()\n",
    "    running_loss /= len(train_loader)   # 12500個の訓練データ全体での損失関数の平均\n",
    "    running_acc /= len(train_loader)    # 12500個の訓練データ全体での正解率\n",
    "    train_losses.append(running_loss)\n",
    "    train_accs.append(running_acc)\n",
    "    #\n",
    "    #   test loop\n",
    "    #\n",
    "    test_running_loss = 0.0\n",
    "    test_running_acc = 0.0\n",
    "    for test_inputs, test_targets in test_loader:\n",
    "        test_inputs = test_inputs.to(device)\n",
    "        test_targets = test_targets.to(device)\n",
    "        test_output = model(test_inputs)\n",
    "        test_loss = criterion(test_output, test_targets)\n",
    "        test_running_loss += test_loss.item()\n",
    "        test_pred = torch.argmax(test_output, dim=1)      # outputの一番値が大きい成分\n",
    "        test_targets = torch.argmax(test_targets, dim=1)  # targetの一番値が大きい成分\n",
    "        test_running_acc += torch.mean(test_pred.eq(test_targets).float().cpu()) # 正解数の平均\n",
    "    test_running_loss /= len(test_loader)   # 12500個の訓練データ全体での損失関数の平均\n",
    "    test_running_acc /= len(test_loader)    # 12500個の訓練データ全体での正解率\n",
    "    test_losses.append(test_running_loss)\n",
    "    test_accs.append(test_running_acc)\n",
    "        \n",
    "    print(\"epoch: {}, loss: {}, acc: {}, test loss: {}, test acc: {}\".format(epoch, running_loss, running_acc, test_running_loss, test_running_acc))"
   ]
  },
  {
   "cell_type": "markdown",
   "metadata": {},
   "source": [
    "損失関数と正解率のグラフの作成"
   ]
  },
  {
   "cell_type": "code",
   "execution_count": 27,
   "metadata": {},
   "outputs": [
    {
     "data": {
      "image/png": "[encoded data removed]",
      "text/plain": [
       "<Figure size 1200x400 with 2 Axes>"
      ]
     },
     "metadata": {},
     "output_type": "display_data"
    }
   ],
   "source": [
    "# グラフのプロット\n",
    "plt.figure(figsize=(12, 4))\n",
    "\n",
    "# 損失関数のグラフ\n",
    "plt.subplot(1, 2, 1)\n",
    "plt.plot(train_losses, label='Training Loss')\n",
    "plt.plot(test_losses, label='Test Loss')\n",
    "plt.xlabel('Epoch')\n",
    "plt.ylabel('Loss')\n",
    "plt.legend()\n",
    "\n",
    "# 正解率のグラフ\n",
    "plt.subplot(1, 2, 2)\n",
    "plt.plot(train_accs, label='Training Accuracy')\n",
    "plt.plot(test_accs, label='Test Accuracy')\n",
    "plt.xlabel('Epoch')\n",
    "plt.ylabel('Accuracy')\n",
    "plt.legend()\n",
    "\n",
    "plt.tight_layout()\n",
    "plt.show()"
   ]
  },
  {
   "cell_type": "markdown",
   "metadata": {},
   "source": [
    "実際に予測値と正解がどうなっているか見てみる"
   ]
  },
  {
   "cell_type": "code",
   "execution_count": 28,
   "metadata": {},
   "outputs": [
    {
     "name": "stdout",
     "output_type": "stream",
     "text": [
      "tensor([11,  5, 11, 12, 24,  5, 24,  5, 11, 10,  5, 21, 21, 13, 20, 22,  5, 21,\n",
      "        21, 22, 16,  7, 12, 22,  7, 14,  5,  7,  7, 24,  5, 24, 14, 10,  5,  5,\n",
      "         5,  2,  5,  7, 11, 24, 13,  7, 19, 24, 19,  7,  7,  5, 21, 22, 19, 12,\n",
      "        24,  5,  5,  5, 22,  5,  5, 10, 18,  7,  5, 11,  5,  7, 19,  7, 19, 13,\n",
      "        10, 10, 11, 19,  5, 23,  7, 22,  5,  5, 14, 11, 15, 24,  5, 11,  5,  7,\n",
      "        16, 18,  7, 11, 11,  5, 24, 19, 21, 10])\n"
     ]
    }
   ],
   "source": [
    "print(test_pred[:100])"
   ]
  },
  {
   "cell_type": "code",
   "execution_count": 29,
   "metadata": {},
   "outputs": [
    {
     "name": "stdout",
     "output_type": "stream",
     "text": [
      "tensor([13,  0, 17, 20, 23,  0, 20,  4,  5, 10,  5, 13, 20, 13, 20, 15,  4, 23,\n",
      "        14, 19, 13,  6, 15, 24,  7, 17,  0,  7,  8, 20,  1, 21, 23,  8,  6,  4,\n",
      "         5,  3,  6,  8, 12, 23, 13,  7, 13, 20, 18,  6,  6,  4, 15, 17, 18,  8,\n",
      "        13,  0,  3,  1, 13,  3,  4, 21, 22,  8,  4, 14,  1,  7, 21,  8, 14,  8,\n",
      "        13, 23, 18, 20,  0, 22,  6, 14,  3,  0, 15, 10, 11, 24,  2,  8,  3,  8,\n",
      "        22, 20,  7, 11, 13,  6, 12, 19, 23, 11])\n"
     ]
    }
   ],
   "source": [
    "print(test_targets[:100])"
   ]
  },
  {
   "cell_type": "code",
   "execution_count": 30,
   "metadata": {},
   "outputs": [
    {
     "data": {
      "text/plain": [
       "torch.Size([125, 25])"
      ]
     },
     "execution_count": 30,
     "metadata": {},
     "output_type": "execute_result"
    }
   ],
   "source": [
    "test_output.shape"
   ]
  },
  {
   "cell_type": "code",
   "execution_count": 31,
   "metadata": {},
   "outputs": [
    {
     "data": {
      "image/png": "[encoded data removed]",
      "text/plain": [
       "<Figure size 640x480 with 1 Axes>"
      ]
     },
     "metadata": {},
     "output_type": "display_data"
    },
    {
     "name": "stdout",
     "output_type": "stream",
     "text": [
      "tensor(3.2500)\n"
     ]
    },
    {
     "data": {
      "image/png": "[encoded data removed]",
      "text/plain": [
       "<Figure size 640x480 with 1 Axes>"
      ]
     },
     "metadata": {},
     "output_type": "display_data"
    },
    {
     "name": "stdout",
     "output_type": "stream",
     "text": [
      "tensor(0.)\n"
     ]
    },
    {
     "data": {
      "image/png": "[encoded data removed]",
      "text/plain": [
       "<Figure size 640x480 with 1 Axes>"
      ]
     },
     "metadata": {},
     "output_type": "display_data"
    },
    {
     "name": "stdout",
     "output_type": "stream",
     "text": [
      "tensor(4.2500)\n"
     ]
    }
   ],
   "source": [
    "# データのx軸値\n",
    "x = [i * 0.25 for i in range(25)]\n",
    "\n",
    "for n in range(3):\n",
    "    # テンソルをホストメモリにコピーしてNumpy配列に変換\n",
    "    test_output_cpu = test_output[n].detach().cpu().numpy()\n",
    "\n",
    "    # グラフを描画\n",
    "    plt.plot(x, test_output_cpu, marker='o', linestyle='-', color='b', markersize=5)\n",
    "\n",
    "    # グラフのタイトルと軸ラベルを設定\n",
    "    plt.title('line graph:')\n",
    "    plt.xlabel('Temperture')\n",
    "    plt.ylabel('probability distribution')\n",
    "\n",
    "    # グラフを表示\n",
    "    plt.show()\n",
    "\n",
    "    print(test_targets[n]*0.25)\n"
   ]
  },
  {
   "cell_type": "markdown",
   "metadata": {},
   "source": [
    "モデルの保存"
   ]
  },
  {
   "cell_type": "code",
   "execution_count": 32,
   "metadata": {},
   "outputs": [],
   "source": [
    "# # データを保存するディレクトリのパス\n",
    "# save_dir = \"data_storage\"\n",
    "\n",
    "# # ファイル名\n",
    "# file_name = \"CNN_L16.prm\"\n",
    "\n",
    "# # フルパスを作成\n",
    "# full_path = os.path.join(save_dir, file_name)\n",
    "\n",
    "# # パラメータを保存\n",
    "# # torch.save(file_name, full_path)"
   ]
  },
  {
   "cell_type": "code",
   "execution_count": 36,
   "metadata": {},
   "outputs": [],
   "source": [
    "torch.save(model.state_dict(), 'data_storage/CNN_L16.pth')"
   ]
  },
  {
   "cell_type": "code",
   "execution_count": null,
   "metadata": {},
   "outputs": [],
   "source": []
  }
 ],
 "metadata": {
  "kernelspec": {
   "display_name": "base",
   "language": "python",
   "name": "python3"
  },
  "language_info": {
   "codemirror_mode": {
    "name": "ipython",
    "version": 3
   },
   "file_extension": ".py",
   "mimetype": "text/x-python",
   "name": "python",
   "nbconvert_exporter": "python",
   "pygments_lexer": "ipython3",
   "version": "3.9.13"
  },
  "orig_nbformat": 4
 },
 "nbformat": 4,
 "nbformat_minor": 2
}
