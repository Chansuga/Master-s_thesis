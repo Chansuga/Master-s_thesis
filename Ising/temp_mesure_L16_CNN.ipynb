{
 "cells": [
  {
   "cell_type": "code",
   "execution_count": 1,
   "metadata": {},
   "outputs": [],
   "source": [
    "import os\n",
    "import torch\n",
    "import torch.nn as nn\n",
    "import torch.optim as optim\n",
    "import torch.nn.functional as F\n",
    "from torchvision import transforms\n",
    "from torch.utils.data import DataLoader, TensorDataset\n",
    "import matplotlib.pyplot as plt\n",
    "import pickle\n",
    "from sklearn.model_selection import train_test_split"
   ]
  },
  {
   "cell_type": "code",
   "execution_count": 2,
   "metadata": {},
   "outputs": [
    {
     "data": {
      "text/plain": [
       "'cuda'"
      ]
     },
     "execution_count": 2,
     "metadata": {},
     "output_type": "execute_result"
    }
   ],
   "source": [
    "# cudaが使えるか確認\n",
    "device = \"cuda\" if torch.cuda.is_available() else \"cpu\"\n",
    "device"
   ]
  },
  {
   "cell_type": "markdown",
   "metadata": {},
   "source": [
    "データの読み込み"
   ]
  },
  {
   "cell_type": "markdown",
   "metadata": {},
   "source": [
    "GPUで作ったPickleのファイルは，CPUではそのままでは使えないため，工夫が必要．\n",
    "\n",
    "https://www.kunita-gamefactory.com/post/%E3%80%90pytorch%E3%80%91gpu%E3%81%A7%E8%A8%93%E7%B7%B4%E3%81%95%E3%81%9B%E3%81%9F%E3%83%A2%E3%83%87%E3%83%AB%E3%82%92cpu%E3%81%A7%E8%AA%AD%E3%81%BF%E8%BE%BC%E3%82%82%E3%81%86%E3%81%A8%E3%81%97%E3%81%9F%E3%81%8A%E8%A9%B1\n",
    "\n",
    "を真似したらうまくCPU上でもファイルを読み込むことができるようになった．"
   ]
  },
  {
   "cell_type": "code",
   "execution_count": 3,
   "metadata": {},
   "outputs": [],
   "source": [
    "import io\n",
    "        \n",
    "class CPU_Unpickler(pickle.Unpickler):\n",
    "    def find_class(self, module, name):\n",
    "        if module == 'torch.storage' and name == '_load_from_bytes':\n",
    "            return lambda b: torch.load(io.BytesIO(b), map_location='cpu')\n",
    "        else: return super().find_class(module, name)"
   ]
  },
  {
   "cell_type": "code",
   "execution_count": 4,
   "metadata": {},
   "outputs": [],
   "source": [
    "# ファイルの相対パスを指定\n",
    "file_path = 'Data/Ising_samp_data_L16.pkl'\n",
    "\n",
    "if torch.cuda.is_available():\n",
    "    with open(file_path, 'rb') as file:\n",
    "        loaded_data = pickle.load(file, encoding='latin1')\n",
    "else:\n",
    "    with open(file_path, 'rb') as file:\n",
    "        loaded_data = CPU_Unpickler(file).load()\n",
    "        \n",
    "# 読み込んだデータを個々の変数に分割\n",
    "spin_data, temp_data = loaded_data"
   ]
  },
  {
   "cell_type": "code",
   "execution_count": 5,
   "metadata": {},
   "outputs": [
    {
     "data": {
      "text/plain": [
       "(torch.Size([25000, 16, 16]), 25000)"
      ]
     },
     "execution_count": 5,
     "metadata": {},
     "output_type": "execute_result"
    }
   ],
   "source": [
    "# データの形を確認\n",
    "spin_data.shape , len(temp_data)"
   ]
  },
  {
   "cell_type": "code",
   "execution_count": 6,
   "metadata": {},
   "outputs": [
    {
     "data": {
      "text/plain": [
       "torch.Size([25000, 1, 16, 16])"
      ]
     },
     "execution_count": 6,
     "metadata": {},
     "output_type": "execute_result"
    }
   ],
   "source": [
    "spin_data = spin_data.unsqueeze(1)\n",
    "spin_data.shape"
   ]
  },
  {
   "cell_type": "code",
   "execution_count": 7,
   "metadata": {},
   "outputs": [
    {
     "name": "stdout",
     "output_type": "stream",
     "text": [
      "tensor([[[-1., -1., -1., -1., -1.,  1.,  1.,  1., -1.,  1.,  1.,  1.,  1., -1.,\n",
      "          -1., -1.],\n",
      "         [-1., -1.,  1.,  1.,  1.,  1.,  1.,  1.,  1.,  1.,  1.,  1., -1., -1.,\n",
      "          -1., -1.],\n",
      "         [-1., -1., -1., -1.,  1.,  1.,  1.,  1.,  1.,  1., -1., -1., -1., -1.,\n",
      "          -1., -1.],\n",
      "         [-1., -1., -1., -1., -1.,  1.,  1.,  1., -1.,  1.,  1., -1., -1., -1.,\n",
      "           1., -1.],\n",
      "         [-1., -1., -1., -1.,  1., -1., -1.,  1., -1., -1.,  1., -1., -1.,  1.,\n",
      "           1., -1.],\n",
      "         [-1.,  1., -1., -1., -1., -1.,  1.,  1., -1.,  1.,  1., -1., -1.,  1.,\n",
      "           1.,  1.],\n",
      "         [-1., -1., -1., -1., -1.,  1.,  1., -1., -1., -1.,  1., -1.,  1.,  1.,\n",
      "          -1.,  1.],\n",
      "         [-1., -1., -1., -1.,  1.,  1.,  1., -1., -1., -1., -1., -1., -1., -1.,\n",
      "          -1.,  1.],\n",
      "         [ 1., -1., -1.,  1.,  1.,  1., -1., -1., -1., -1., -1., -1.,  1.,  1.,\n",
      "           1.,  1.],\n",
      "         [-1., -1., -1., -1.,  1., -1., -1.,  1.,  1., -1.,  1.,  1.,  1.,  1.,\n",
      "           1.,  1.],\n",
      "         [ 1., -1., -1., -1., -1., -1., -1., -1.,  1.,  1., -1.,  1.,  1.,  1.,\n",
      "           1.,  1.],\n",
      "         [ 1., -1., -1., -1., -1., -1., -1., -1.,  1.,  1., -1., -1., -1., -1.,\n",
      "           1.,  1.],\n",
      "         [-1., -1., -1., -1., -1., -1., -1., -1., -1., -1., -1., -1., -1., -1.,\n",
      "          -1., -1.],\n",
      "         [-1., -1.,  1.,  1., -1., -1.,  1.,  1.,  1.,  1., -1., -1., -1., -1.,\n",
      "          -1., -1.],\n",
      "         [-1., -1.,  1.,  1., -1.,  1.,  1.,  1., -1., -1., -1.,  1., -1., -1.,\n",
      "          -1., -1.],\n",
      "         [-1., -1., -1., -1., -1.,  1.,  1.,  1., -1., -1., -1.,  1., -1., -1.,\n",
      "          -1., -1.]]], device='cuda:0') 2.5\n"
     ]
    }
   ],
   "source": [
    "print(spin_data[10000], temp_data[10000])"
   ]
  },
  {
   "cell_type": "code",
   "execution_count": 8,
   "metadata": {},
   "outputs": [],
   "source": [
    "# サンプルデータを訓練用とテスト用に分割(5:5)\n",
    "spin_train, spin_test, temp_train, temp_test = train_test_split(spin_data, temp_data, test_size=0.5)"
   ]
  },
  {
   "cell_type": "code",
   "execution_count": 9,
   "metadata": {},
   "outputs": [
    {
     "name": "stderr",
     "output_type": "stream",
     "text": [
      "C:\\Users\\soken\\AppData\\Local\\Temp\\ipykernel_15724\\3927323180.py:2: UserWarning: To copy construct from a tensor, it is recommended to use sourceTensor.clone().detach() or sourceTensor.clone().detach().requires_grad_(True), rather than torch.tensor(sourceTensor).\n",
      "  spin_train = torch.tensor(spin_train, dtype=torch.float32)\n",
      "C:\\Users\\soken\\AppData\\Local\\Temp\\ipykernel_15724\\3927323180.py:3: UserWarning: To copy construct from a tensor, it is recommended to use sourceTensor.clone().detach() or sourceTensor.clone().detach().requires_grad_(True), rather than torch.tensor(sourceTensor).\n",
      "  spin_test = torch.tensor(spin_test, dtype=torch.float32)\n"
     ]
    }
   ],
   "source": [
    "# PyTorchのテンソルに変換\n",
    "spin_train = torch.tensor(spin_train, dtype=torch.float32)\n",
    "spin_test = torch.tensor(spin_test, dtype=torch.float32)\n",
    "temp_train = torch.tensor(temp_train, dtype=torch.float32).view(-1, 1)  # (25000,) -> (25000, 1)\n",
    "temp_test = torch.tensor(temp_test, dtype=torch.float32).view(-1, 1)    # (6250,) -> (6250, 1)"
   ]
  },
  {
   "cell_type": "code",
   "execution_count": 10,
   "metadata": {},
   "outputs": [
    {
     "data": {
      "text/plain": [
       "tensor([[[-1., -1., -1., -1., -1., -1., -1., -1., -1., -1., -1., -1., -1., -1.,\n",
       "          -1., -1.],\n",
       "         [-1., -1., -1., -1., -1., -1., -1., -1., -1., -1., -1., -1., -1., -1.,\n",
       "          -1., -1.],\n",
       "         [-1., -1., -1., -1., -1., -1., -1., -1., -1., -1., -1., -1., -1., -1.,\n",
       "          -1., -1.],\n",
       "         [-1., -1., -1., -1., -1., -1., -1., -1., -1., -1., -1., -1., -1., -1.,\n",
       "          -1., -1.],\n",
       "         [-1., -1., -1., -1., -1., -1., -1., -1., -1., -1., -1., -1., -1., -1.,\n",
       "          -1., -1.],\n",
       "         [-1., -1., -1., -1., -1., -1., -1., -1., -1., -1., -1., -1., -1., -1.,\n",
       "          -1., -1.],\n",
       "         [-1., -1., -1., -1., -1., -1., -1., -1., -1., -1., -1., -1., -1., -1.,\n",
       "          -1., -1.],\n",
       "         [-1., -1., -1., -1., -1., -1., -1., -1., -1., -1., -1., -1., -1., -1.,\n",
       "          -1., -1.],\n",
       "         [-1., -1., -1., -1., -1., -1., -1., -1., -1., -1., -1., -1., -1., -1.,\n",
       "          -1., -1.],\n",
       "         [-1., -1., -1., -1., -1., -1., -1., -1., -1., -1., -1., -1., -1., -1.,\n",
       "          -1., -1.],\n",
       "         [-1., -1., -1., -1., -1., -1., -1., -1., -1., -1., -1., -1., -1., -1.,\n",
       "          -1., -1.],\n",
       "         [-1., -1., -1., -1., -1., -1., -1., -1., -1., -1., -1., -1., -1., -1.,\n",
       "          -1., -1.],\n",
       "         [-1., -1., -1., -1., -1., -1., -1., -1., -1., -1., -1., -1., -1., -1.,\n",
       "          -1., -1.],\n",
       "         [-1., -1., -1., -1., -1., -1., -1., -1., -1., -1., -1., -1., -1., -1.,\n",
       "          -1., -1.],\n",
       "         [-1., -1., -1., -1., -1., -1., -1., -1., -1., -1., -1., -1., -1., -1.,\n",
       "          -1., -1.],\n",
       "         [-1., -1., -1., -1., -1., -1., -1., -1., -1., -1., -1., -1., -1., -1.,\n",
       "          -1., -1.]]], device='cuda:0')"
      ]
     },
     "execution_count": 10,
     "metadata": {},
     "output_type": "execute_result"
    }
   ],
   "source": [
    "spin_train[1]"
   ]
  },
  {
   "cell_type": "code",
   "execution_count": 11,
   "metadata": {},
   "outputs": [
    {
     "data": {
      "text/plain": [
       "tensor([0.0100])"
      ]
     },
     "execution_count": 11,
     "metadata": {},
     "output_type": "execute_result"
    }
   ],
   "source": [
    "temp_train[1]"
   ]
  },
  {
   "cell_type": "markdown",
   "metadata": {},
   "source": [
    "正解データはone-hot表現にする必要がある"
   ]
  },
  {
   "cell_type": "code",
   "execution_count": 12,
   "metadata": {},
   "outputs": [],
   "source": [
    "# テンソルを新しいテンソルに変換する関数を定義\n",
    "def to_one_hot(data, num_classes=25):\n",
    "    # one-hotベクトルの初期化\n",
    "    one_hot = torch.zeros(len(data), num_classes)\n",
    "    \n",
    "    # 各要素を25次元のone-hotベクトルに変換\n",
    "    for i, val in enumerate(data):\n",
    "        index = int((val - 0.01) / 0.24)  # 正しいインデックスの計算\n",
    "        one_hot[i, index] = 1.0\n",
    "    \n",
    "    return one_hot\n",
    "\n",
    "# temp_train,temp_testをone-hotベクトルに変換\n",
    "one_hot_temp_train = to_one_hot(temp_train, num_classes=25)\n",
    "one_hot_temp_test = to_one_hot(temp_test, num_classes=25)"
   ]
  },
  {
   "cell_type": "code",
   "execution_count": 13,
   "metadata": {},
   "outputs": [
    {
     "data": {
      "text/plain": [
       "tensor([0., 0., 0., 0., 0., 0., 0., 1., 0., 0., 0., 0., 0., 0., 0., 0., 0., 0.,\n",
       "        0., 0., 0., 0., 0., 0., 0.])"
      ]
     },
     "execution_count": 13,
     "metadata": {},
     "output_type": "execute_result"
    }
   ],
   "source": [
    "one_hot_temp_train[0]"
   ]
  },
  {
   "cell_type": "code",
   "execution_count": 14,
   "metadata": {},
   "outputs": [
    {
     "data": {
      "text/plain": [
       "tensor([1.7500])"
      ]
     },
     "execution_count": 14,
     "metadata": {},
     "output_type": "execute_result"
    }
   ],
   "source": [
    "temp_train[0]"
   ]
  },
  {
   "cell_type": "code",
   "execution_count": 15,
   "metadata": {},
   "outputs": [],
   "source": [
    "# データセットの作成\n",
    "train_dataset = TensorDataset(spin_train, one_hot_temp_train)\n",
    "test_dataset = TensorDataset(spin_test, one_hot_temp_test)"
   ]
  },
  {
   "cell_type": "code",
   "execution_count": 16,
   "metadata": {},
   "outputs": [
    {
     "data": {
      "text/plain": [
       "(tensor([[[-1., -1., -1., -1., -1., -1., -1., -1., -1., -1., -1., -1., -1., -1.,\n",
       "           -1., -1.],\n",
       "          [-1., -1., -1., -1., -1., -1., -1., -1., -1., -1., -1., -1., -1., -1.,\n",
       "           -1.,  1.],\n",
       "          [-1., -1., -1., -1., -1., -1., -1., -1., -1., -1., -1., -1.,  1., -1.,\n",
       "           -1., -1.],\n",
       "          [-1., -1., -1., -1., -1., -1., -1., -1., -1., -1., -1., -1., -1., -1.,\n",
       "           -1., -1.],\n",
       "          [-1., -1., -1., -1., -1., -1., -1., -1., -1., -1., -1., -1., -1., -1.,\n",
       "           -1., -1.],\n",
       "          [-1., -1., -1., -1., -1., -1., -1., -1., -1., -1., -1., -1., -1., -1.,\n",
       "           -1., -1.],\n",
       "          [ 1., -1., -1., -1., -1., -1., -1., -1., -1., -1., -1., -1.,  1.,  1.,\n",
       "            1., -1.],\n",
       "          [-1., -1., -1., -1., -1., -1., -1., -1., -1., -1., -1., -1., -1.,  1.,\n",
       "           -1., -1.],\n",
       "          [-1., -1., -1., -1., -1., -1., -1., -1., -1., -1., -1., -1., -1., -1.,\n",
       "           -1., -1.],\n",
       "          [-1., -1., -1., -1., -1., -1., -1., -1., -1., -1., -1., -1., -1., -1.,\n",
       "           -1., -1.],\n",
       "          [-1., -1., -1., -1., -1., -1., -1., -1., -1., -1., -1., -1., -1., -1.,\n",
       "           -1., -1.],\n",
       "          [-1., -1., -1., -1., -1., -1., -1., -1., -1., -1., -1., -1., -1., -1.,\n",
       "           -1., -1.],\n",
       "          [-1., -1., -1., -1., -1., -1., -1., -1., -1., -1., -1., -1., -1., -1.,\n",
       "           -1., -1.],\n",
       "          [-1., -1., -1., -1., -1., -1., -1., -1., -1., -1., -1., -1., -1., -1.,\n",
       "           -1., -1.],\n",
       "          [-1., -1., -1., -1., -1., -1., -1., -1., -1., -1., -1., -1., -1., -1.,\n",
       "           -1., -1.],\n",
       "          [-1., -1., -1.,  1.,  1., -1., -1., -1., -1., -1., -1., -1., -1., -1.,\n",
       "           -1., -1.]]], device='cuda:0'),\n",
       " tensor([0., 0., 0., 0., 0., 0., 0., 1., 0., 0., 0., 0., 0., 0., 0., 0., 0., 0.,\n",
       "         0., 0., 0., 0., 0., 0., 0.]))"
      ]
     },
     "execution_count": 16,
     "metadata": {},
     "output_type": "execute_result"
    }
   ],
   "source": [
    "train_dataset[0]"
   ]
  },
  {
   "cell_type": "code",
   "execution_count": 17,
   "metadata": {},
   "outputs": [],
   "source": [
    "# 前処理を定義\n",
    "transform = transforms.Compose([\n",
    "    transforms.RandomHorizontalFlip(p=0.5),\n",
    "    transforms.RandomVerticalFlip(p=0.5),\n",
    "])\n",
    "\n",
    "# データセットに前処理を適用\n",
    "transformed_train_dataset = [(transform(tensor_sample), label) for tensor_sample, label in train_dataset]\n",
    "transformed_test_dataset = [(transform(tensor_sample), label) for tensor_sample, label in test_dataset]"
   ]
  },
  {
   "cell_type": "code",
   "execution_count": 18,
   "metadata": {},
   "outputs": [
    {
     "data": {
      "text/plain": [
       "(tensor([[[-1., -1., -1.,  1.,  1., -1., -1., -1., -1., -1., -1., -1., -1., -1.,\n",
       "           -1., -1.],\n",
       "          [-1., -1., -1., -1., -1., -1., -1., -1., -1., -1., -1., -1., -1., -1.,\n",
       "           -1., -1.],\n",
       "          [-1., -1., -1., -1., -1., -1., -1., -1., -1., -1., -1., -1., -1., -1.,\n",
       "           -1., -1.],\n",
       "          [-1., -1., -1., -1., -1., -1., -1., -1., -1., -1., -1., -1., -1., -1.,\n",
       "           -1., -1.],\n",
       "          [-1., -1., -1., -1., -1., -1., -1., -1., -1., -1., -1., -1., -1., -1.,\n",
       "           -1., -1.],\n",
       "          [-1., -1., -1., -1., -1., -1., -1., -1., -1., -1., -1., -1., -1., -1.,\n",
       "           -1., -1.],\n",
       "          [-1., -1., -1., -1., -1., -1., -1., -1., -1., -1., -1., -1., -1., -1.,\n",
       "           -1., -1.],\n",
       "          [-1., -1., -1., -1., -1., -1., -1., -1., -1., -1., -1., -1., -1., -1.,\n",
       "           -1., -1.],\n",
       "          [-1., -1., -1., -1., -1., -1., -1., -1., -1., -1., -1., -1., -1.,  1.,\n",
       "           -1., -1.],\n",
       "          [ 1., -1., -1., -1., -1., -1., -1., -1., -1., -1., -1., -1.,  1.,  1.,\n",
       "            1., -1.],\n",
       "          [-1., -1., -1., -1., -1., -1., -1., -1., -1., -1., -1., -1., -1., -1.,\n",
       "           -1., -1.],\n",
       "          [-1., -1., -1., -1., -1., -1., -1., -1., -1., -1., -1., -1., -1., -1.,\n",
       "           -1., -1.],\n",
       "          [-1., -1., -1., -1., -1., -1., -1., -1., -1., -1., -1., -1., -1., -1.,\n",
       "           -1., -1.],\n",
       "          [-1., -1., -1., -1., -1., -1., -1., -1., -1., -1., -1., -1.,  1., -1.,\n",
       "           -1., -1.],\n",
       "          [-1., -1., -1., -1., -1., -1., -1., -1., -1., -1., -1., -1., -1., -1.,\n",
       "           -1.,  1.],\n",
       "          [-1., -1., -1., -1., -1., -1., -1., -1., -1., -1., -1., -1., -1., -1.,\n",
       "           -1., -1.]]], device='cuda:0'),\n",
       " tensor([0., 0., 0., 0., 0., 0., 0., 1., 0., 0., 0., 0., 0., 0., 0., 0., 0., 0.,\n",
       "         0., 0., 0., 0., 0., 0., 0.]))"
      ]
     },
     "execution_count": 18,
     "metadata": {},
     "output_type": "execute_result"
    }
   ],
   "source": [
    "transformed_train_dataset[0]"
   ]
  },
  {
   "cell_type": "code",
   "execution_count": 19,
   "metadata": {},
   "outputs": [],
   "source": [
    "# DataLoaderの設定（バッチサイズ125）\n",
    "train_loader = DataLoader(transformed_train_dataset, batch_size=125, shuffle=True)\n",
    "test_loader = DataLoader(transformed_test_dataset, batch_size=125)"
   ]
  },
  {
   "cell_type": "code",
   "execution_count": 20,
   "metadata": {},
   "outputs": [
    {
     "data": {
      "text/plain": [
       "tensor([[0., 1., 0.,  ..., 0., 0., 0.],\n",
       "        [0., 0., 0.,  ..., 0., 0., 0.],\n",
       "        [0., 0., 0.,  ..., 0., 0., 0.],\n",
       "        ...,\n",
       "        [0., 0., 0.,  ..., 0., 0., 0.],\n",
       "        [0., 0., 0.,  ..., 0., 0., 0.],\n",
       "        [0., 0., 0.,  ..., 0., 0., 0.]])"
      ]
     },
     "execution_count": 20,
     "metadata": {},
     "output_type": "execute_result"
    }
   ],
   "source": [
    "data_iter = iter(train_loader)\n",
    "imgs, labels = next(data_iter)\n",
    "labels"
   ]
  },
  {
   "cell_type": "code",
   "execution_count": 21,
   "metadata": {},
   "outputs": [
    {
     "data": {
      "text/plain": [
       "(torch.Size([125, 1, 16, 16]), torch.Size([125, 25]))"
      ]
     },
     "execution_count": 21,
     "metadata": {},
     "output_type": "execute_result"
    }
   ],
   "source": [
    "imgs.size(), labels.size()"
   ]
  },
  {
   "cell_type": "code",
   "execution_count": 22,
   "metadata": {},
   "outputs": [
    {
     "data": {
      "text/plain": [
       "(torch.Size([125, 1, 16, 16]), torch.Size([125, 25]))"
      ]
     },
     "execution_count": 22,
     "metadata": {},
     "output_type": "execute_result"
    }
   ],
   "source": [
    "x, t = next(iter(train_loader))\n",
    "x.shape, t.shape"
   ]
  },
  {
   "cell_type": "markdown",
   "metadata": {},
   "source": [
    "モデルを定義"
   ]
  },
  {
   "cell_type": "code",
   "execution_count": 23,
   "metadata": {},
   "outputs": [],
   "source": [
    "class CNN(nn.Module):\n",
    "    def __init__(self, input_size, output_size, in_channels, out_channels):\n",
    "        super().__init__()\n",
    "        # 畳み込みの部分\n",
    "        self.conv = nn.Sequential(\n",
    "            nn.ReflectionPad2d(1),  # 反射パディング\n",
    "            nn.Conv2d(in_channels, out_channels, kernel_size=3, stride=int(((input_size)**0.5)/4), bias=False),\n",
    "            nn.ReLU(inplace=True),\n",
    "        )\n",
    "        # 全結合の部分\n",
    "        self.fc = nn.Sequential(\n",
    "            nn.Linear(out_channels*4*4, output_size, bias=False),\n",
    "            nn.Softmax(dim=1)\n",
    "        )\n",
    "    def forward(self, x):\n",
    "        x = self.conv(x)\n",
    "        x = x.view(x.size(0), -1)\n",
    "        x = self.fc(x)\n",
    "        return x"
   ]
  },
  {
   "cell_type": "markdown",
   "metadata": {},
   "source": [
    "モデルのインスタンス化"
   ]
  },
  {
   "cell_type": "code",
   "execution_count": 24,
   "metadata": {},
   "outputs": [
    {
     "name": "stdout",
     "output_type": "stream",
     "text": [
      "CNN(\n",
      "  (conv): Sequential(\n",
      "    (0): ReflectionPad2d((1, 1, 1, 1))\n",
      "    (1): Conv2d(1, 5, kernel_size=(3, 3), stride=(4, 4), bias=False)\n",
      "    (2): ReLU(inplace=True)\n",
      "  )\n",
      "  (fc): Sequential(\n",
      "    (0): Linear(in_features=80, out_features=25, bias=False)\n",
      "    (1): Softmax(dim=1)\n",
      "  )\n",
      ")\n"
     ]
    }
   ],
   "source": [
    "input_size = 16*16\n",
    "output_size = 25\n",
    "in_channels = 1\n",
    "out_channels = 5  \n",
    "model = CNN(input_size, output_size, in_channels, out_channels)\n",
    "model.to(device)\n",
    "# モデルの概要表示\n",
    "print(model)"
   ]
  },
  {
   "cell_type": "markdown",
   "metadata": {},
   "source": [
    "損失関数と最適化アルゴリズムの設定"
   ]
  },
  {
   "cell_type": "code",
   "execution_count": 25,
   "metadata": {},
   "outputs": [],
   "source": [
    "criterion = nn.CrossEntropyLoss()   # クロスエントロピー誤差\n",
    "optimizer = optim.Adam(model.parameters(), lr=0.001, weight_decay=5e-4)     # Adam,L2正則化"
   ]
  },
  {
   "cell_type": "markdown",
   "metadata": {},
   "source": [
    "学習の実行"
   ]
  },
  {
   "cell_type": "code",
   "execution_count": 26,
   "metadata": {},
   "outputs": [
    {
     "name": "stdout",
     "output_type": "stream",
     "text": [
      "epoch: 0, loss: 3.208441812992096, acc: 0.058080002665519714, test loss: 3.1972206330299375, test acc: 0.07048000395298004\n",
      "epoch: 1, loss: 3.1903899002075193, acc: 0.08128000050783157, test loss: 3.188996984958649, test acc: 0.07688002288341522\n",
      "epoch: 2, loss: 3.182785279750824, acc: 0.09671998023986816, test loss: 3.1850605535507204, test acc: 0.08328001946210861\n",
      "epoch: 3, loss: 3.1760920095443725, acc: 0.11184000223875046, test loss: 3.1794946575164795, test acc: 0.09671997278928757\n",
      "epoch: 4, loss: 3.1673646450042723, acc: 0.12848001718521118, test loss: 3.17300509929657, test acc: 0.1124800369143486\n",
      "epoch: 5, loss: 3.1574336457252503, acc: 0.13951998949050903, test loss: 3.1674408864974977, test acc: 0.11712002009153366\n",
      "epoch: 6, loss: 3.148242349624634, acc: 0.15296003222465515, test loss: 3.163031656742096, test acc: 0.12152006477117538\n",
      "epoch: 7, loss: 3.142060627937317, acc: 0.1573600471019745, test loss: 3.1611719346046447, test acc: 0.12520001828670502\n",
      "epoch: 8, loss: 3.1380281329154966, acc: 0.1600000560283661, test loss: 3.1590242838859557, test acc: 0.1239200308918953\n",
      "epoch: 9, loss: 3.1340021514892578, acc: 0.16184002161026, test loss: 3.1579134130477904, test acc: 0.12352002412080765\n",
      "epoch: 10, loss: 3.1310979080200196, acc: 0.1642400175333023, test loss: 3.156804540157318, test acc: 0.12688001990318298\n",
      "epoch: 11, loss: 3.128605935573578, acc: 0.17080001533031464, test loss: 3.1566768980026243, test acc: 0.12783999741077423\n",
      "epoch: 12, loss: 3.125712251663208, acc: 0.17216002941131592, test loss: 3.155627610683441, test acc: 0.12672001123428345\n",
      "epoch: 13, loss: 3.123716673851013, acc: 0.1740799844264984, test loss: 3.1573473978042603, test acc: 0.11688001453876495\n",
      "epoch: 14, loss: 3.121785218715668, acc: 0.178320050239563, test loss: 3.15455402135849, test acc: 0.12727999687194824\n",
      "epoch: 15, loss: 3.120008900165558, acc: 0.1799200028181076, test loss: 3.153730323314667, test acc: 0.12968002259731293\n",
      "epoch: 16, loss: 3.117390387058258, acc: 0.18375997245311737, test loss: 3.1560999059677126, test acc: 0.12040001153945923\n",
      "epoch: 17, loss: 3.1168376994132996, acc: 0.18240000307559967, test loss: 3.153088057041168, test acc: 0.1289599984884262\n",
      "epoch: 18, loss: 3.1142773175239564, acc: 0.187360018491745, test loss: 3.1538333559036253, test acc: 0.12999999523162842\n",
      "epoch: 19, loss: 3.1131827521324156, acc: 0.18984004855155945, test loss: 3.1530808210372925, test acc: 0.1297600120306015\n",
      "epoch: 20, loss: 3.1113681268692015, acc: 0.18848001956939697, test loss: 3.1520103359222413, test acc: 0.13056005537509918\n",
      "epoch: 21, loss: 3.1104388356208803, acc: 0.1897599995136261, test loss: 3.152741196155548, test acc: 0.12880004942417145\n",
      "epoch: 22, loss: 3.108873145580292, acc: 0.1935199499130249, test loss: 3.1521848583221437, test acc: 0.1281600147485733\n",
      "epoch: 23, loss: 3.1073436450958254, acc: 0.19616003334522247, test loss: 3.152016890048981, test acc: 0.13064001500606537\n",
      "epoch: 24, loss: 3.107283294200897, acc: 0.19344007968902588, test loss: 3.153251745700836, test acc: 0.12648002803325653\n",
      "epoch: 25, loss: 3.106192317008972, acc: 0.19488000869750977, test loss: 3.151870837211609, test acc: 0.1303200125694275\n",
      "epoch: 26, loss: 3.104811236858368, acc: 0.19671998918056488, test loss: 3.1518573117256166, test acc: 0.1305600255727768\n",
      "epoch: 27, loss: 3.1041140365600586, acc: 0.19600003957748413, test loss: 3.151495454311371, test acc: 0.12960000336170197\n",
      "epoch: 28, loss: 3.1027842426300047, acc: 0.20111989974975586, test loss: 3.15166410446167, test acc: 0.13040003180503845\n",
      "epoch: 29, loss: 3.102286720275879, acc: 0.2001599669456482, test loss: 3.151448674201965, test acc: 0.1308000236749649\n",
      "epoch: 30, loss: 3.1016820311546325, acc: 0.20176002383232117, test loss: 3.151053171157837, test acc: 0.13064001500606537\n",
      "epoch: 31, loss: 3.10070960521698, acc: 0.2029600292444229, test loss: 3.1511626267433166, test acc: 0.12872003018856049\n",
      "epoch: 32, loss: 3.0996728920936585, acc: 0.20360000431537628, test loss: 3.1517643332481384, test acc: 0.1305600255727768\n",
      "epoch: 33, loss: 3.0994411277770997, acc: 0.20263998210430145, test loss: 3.1516516041755676, test acc: 0.12912002205848694\n",
      "epoch: 34, loss: 3.0988832974433898, acc: 0.20191991329193115, test loss: 3.150776789188385, test acc: 0.1313599795103073\n",
      "epoch: 35, loss: 3.097965967655182, acc: 0.20392000675201416, test loss: 3.150455825328827, test acc: 0.1324000209569931\n",
      "epoch: 36, loss: 3.097321579456329, acc: 0.2056799829006195, test loss: 3.151465425491333, test acc: 0.1308000236749649\n",
      "epoch: 37, loss: 3.09691606760025, acc: 0.2051200121641159, test loss: 3.1522603178024293, test acc: 0.12984001636505127\n",
      "epoch: 38, loss: 3.096259825229645, acc: 0.20600003004074097, test loss: 3.15170592546463, test acc: 0.13024002313613892\n",
      "epoch: 39, loss: 3.095503053665161, acc: 0.2064000368118286, test loss: 3.1511134910583496, test acc: 0.13088002800941467\n",
      "epoch: 40, loss: 3.095281467437744, acc: 0.20760005712509155, test loss: 3.1512374973297117, test acc: 0.13007999956607819\n",
      "epoch: 41, loss: 3.09455427646637, acc: 0.20871998369693756, test loss: 3.151351020336151, test acc: 0.13032002747058868\n",
      "epoch: 42, loss: 3.0943715167045593, acc: 0.2091200053691864, test loss: 3.1523576259613035, test acc: 0.12848001718521118\n",
      "epoch: 43, loss: 3.0934543371200562, acc: 0.20840002596378326, test loss: 3.1509680724143982, test acc: 0.13024002313613892\n",
      "epoch: 44, loss: 3.0931336426734926, acc: 0.21160002052783966, test loss: 3.150710394382477, test acc: 0.1327200084924698\n",
      "epoch: 45, loss: 3.092552661895752, acc: 0.20976004004478455, test loss: 3.1508149838447572, test acc: 0.13248004019260406\n",
      "epoch: 46, loss: 3.092560293674469, acc: 0.2109600007534027, test loss: 3.150736255645752, test acc: 0.1308000087738037\n",
      "epoch: 47, loss: 3.0920352959632873, acc: 0.2104800045490265, test loss: 3.1502483558654784, test acc: 0.13167999684810638\n",
      "epoch: 48, loss: 3.0916178226470947, acc: 0.21056002378463745, test loss: 3.151063027381897, test acc: 0.13096000254154205\n",
      "epoch: 49, loss: 3.090835835933685, acc: 0.21327997744083405, test loss: 3.151294550895691, test acc: 0.13007999956607819\n",
      "epoch: 50, loss: 3.0905437064170838, acc: 0.21567998826503754, test loss: 3.150752351284027, test acc: 0.13200001418590546\n",
      "epoch: 51, loss: 3.0902770352363587, acc: 0.21256008744239807, test loss: 3.150495069026947, test acc: 0.13047999143600464\n",
      "epoch: 52, loss: 3.0899094319343567, acc: 0.2141600400209427, test loss: 3.1515498876571657, test acc: 0.13072003424167633\n",
      "epoch: 53, loss: 3.0897574067115783, acc: 0.2136799842119217, test loss: 3.1517403173446654, test acc: 0.12944000959396362\n",
      "epoch: 54, loss: 3.088919837474823, acc: 0.2162400484085083, test loss: 3.1520028710365295, test acc: 0.12968000769615173\n",
      "epoch: 55, loss: 3.088728280067444, acc: 0.21679995954036713, test loss: 3.1507897663116453, test acc: 0.1313600093126297\n",
      "epoch: 56, loss: 3.0887073373794554, acc: 0.2133600264787674, test loss: 3.1506755232810972, test acc: 0.13008004426956177\n",
      "epoch: 57, loss: 3.088117568492889, acc: 0.21655993163585663, test loss: 3.15146803855896, test acc: 0.13168002665042877\n",
      "epoch: 58, loss: 3.0876878476142884, acc: 0.21760006248950958, test loss: 3.1515721535682677, test acc: 0.12904003262519836\n",
      "epoch: 59, loss: 3.0875074791908266, acc: 0.21792002022266388, test loss: 3.1507784295082093, test acc: 0.13032002747058868\n",
      "epoch: 60, loss: 3.087638585567474, acc: 0.21504005789756775, test loss: 3.151341474056244, test acc: 0.13032002747058868\n",
      "epoch: 61, loss: 3.0866979503631593, acc: 0.21824003756046295, test loss: 3.1508117437362673, test acc: 0.1289600133895874\n",
      "epoch: 62, loss: 3.0864072394371034, acc: 0.21879999339580536, test loss: 3.151205286979675, test acc: 0.12912002205848694\n",
      "epoch: 63, loss: 3.086249690055847, acc: 0.2163199633359909, test loss: 3.150602443218231, test acc: 0.130560040473938\n",
      "epoch: 64, loss: 3.085798544883728, acc: 0.22007997334003448, test loss: 3.1519463658332825, test acc: 0.1287200003862381\n",
      "epoch: 65, loss: 3.0859885430336, acc: 0.21856006979942322, test loss: 3.1507191276550293, test acc: 0.12888003885746002\n",
      "epoch: 66, loss: 3.0853732419013977, acc: 0.22144001722335815, test loss: 3.1512239146232606, test acc: 0.12832003831863403\n",
      "epoch: 67, loss: 3.0850157642364504, acc: 0.22088003158569336, test loss: 3.150293490886688, test acc: 0.1295199990272522\n",
      "epoch: 68, loss: 3.0846966242790224, acc: 0.22015996277332306, test loss: 3.152181661128998, test acc: 0.12264002114534378\n",
      "epoch: 69, loss: 3.08431316614151, acc: 0.2213600128889084, test loss: 3.150299217700958, test acc: 0.1308000236749649\n",
      "epoch: 70, loss: 3.0841289520263673, acc: 0.22312003374099731, test loss: 3.150398561954498, test acc: 0.12952002882957458\n",
      "epoch: 71, loss: 3.0841057562828063, acc: 0.22240003943443298, test loss: 3.1515415000915525, test acc: 0.12824001908302307\n",
      "epoch: 72, loss: 3.08398033618927, acc: 0.22112001478672028, test loss: 3.150344338417053, test acc: 0.13007999956607819\n",
      "epoch: 73, loss: 3.08292316198349, acc: 0.2234399914741516, test loss: 3.1511719703674315, test acc: 0.12800002098083496\n",
      "epoch: 74, loss: 3.0832848620414732, acc: 0.22200000286102295, test loss: 3.1508130168914796, test acc: 0.12912000715732574\n",
      "epoch: 75, loss: 3.0837494254112245, acc: 0.22143998742103577, test loss: 3.150108392238617, test acc: 0.13119998574256897\n",
      "epoch: 76, loss: 3.0825880718231202, acc: 0.22296005487442017, test loss: 3.1513766860961914, test acc: 0.1292000412940979\n",
      "epoch: 77, loss: 3.0825104761123656, acc: 0.2239200472831726, test loss: 3.149979679584503, test acc: 0.13176000118255615\n",
      "epoch: 78, loss: 3.0820172810554505, acc: 0.2232799381017685, test loss: 3.150345664024353, test acc: 0.13032002747058868\n",
      "epoch: 79, loss: 3.0818157625198364, acc: 0.22343997657299042, test loss: 3.1509929847717286, test acc: 0.1292800009250641\n",
      "epoch: 80, loss: 3.0815932893753053, acc: 0.22328004240989685, test loss: 3.15128609418869, test acc: 0.1284799873828888\n",
      "epoch: 81, loss: 3.0816066789627077, acc: 0.2233600616455078, test loss: 3.1507303142547607, test acc: 0.12992002069950104\n",
      "epoch: 82, loss: 3.081669452190399, acc: 0.2232000231742859, test loss: 3.1515673422813415, test acc: 0.12824001908302307\n",
      "epoch: 83, loss: 3.0809003496170044, acc: 0.22440005838871002, test loss: 3.1504850339889527, test acc: 0.13072001934051514\n",
      "epoch: 84, loss: 3.081058168411255, acc: 0.22368000447750092, test loss: 3.150581455230713, test acc: 0.13120001554489136\n",
      "epoch: 85, loss: 3.0808709263801575, acc: 0.22495999932289124, test loss: 3.1512480640411376, test acc: 0.12992002069950104\n",
      "epoch: 86, loss: 3.0805379819869994, acc: 0.2244800180196762, test loss: 3.150978858470917, test acc: 0.1313599944114685\n",
      "epoch: 87, loss: 3.080545711517334, acc: 0.22440005838871002, test loss: 3.1505188369750976, test acc: 0.13040000200271606\n",
      "epoch: 88, loss: 3.08116824388504, acc: 0.22304002940654755, test loss: 3.150894811153412, test acc: 0.12944000959396362\n",
      "epoch: 89, loss: 3.079816129207611, acc: 0.2263999879360199, test loss: 3.150552089214325, test acc: 0.12999999523162842\n",
      "epoch: 90, loss: 3.0793598222732546, acc: 0.2263999879360199, test loss: 3.1509154295921324, test acc: 0.12967999279499054\n",
      "epoch: 91, loss: 3.0798529148101808, acc: 0.22464004158973694, test loss: 3.150432434082031, test acc: 0.13072001934051514\n",
      "epoch: 92, loss: 3.079048295021057, acc: 0.22704002261161804, test loss: 3.1504051280021668, test acc: 0.13040003180503845\n",
      "epoch: 93, loss: 3.078823561668396, acc: 0.22583995759487152, test loss: 3.1509015274047854, test acc: 0.12928001582622528\n",
      "epoch: 94, loss: 3.079154272079468, acc: 0.22631996870040894, test loss: 3.150570025444031, test acc: 0.13071997463703156\n",
      "epoch: 95, loss: 3.079465410709381, acc: 0.22576004266738892, test loss: 3.1506606435775755, test acc: 0.1297600120306015\n",
      "epoch: 96, loss: 3.0785535955429078, acc: 0.2276800125837326, test loss: 3.1504694962501527, test acc: 0.13008002936840057\n",
      "epoch: 97, loss: 3.078891613483429, acc: 0.22648002207279205, test loss: 3.1511053586006166, test acc: 0.13064004480838776\n",
      "epoch: 98, loss: 3.078579239845276, acc: 0.22560001909732819, test loss: 3.1503797149658204, test acc: 0.13104002177715302\n",
      "epoch: 99, loss: 3.0781312584877014, acc: 0.22775991261005402, test loss: 3.151336808204651, test acc: 0.1302400380373001\n",
      "epoch: 100, loss: 3.0778225874900818, acc: 0.22776004672050476, test loss: 3.1502158093452453, test acc: 0.1308000236749649\n",
      "epoch: 101, loss: 3.0772865653038024, acc: 0.23007994890213013, test loss: 3.150720167160034, test acc: 0.13007999956607819\n",
      "epoch: 102, loss: 3.0772226738929747, acc: 0.22992004454135895, test loss: 3.150747001171112, test acc: 0.12967999279499054\n",
      "epoch: 103, loss: 3.0771393156051636, acc: 0.22720001637935638, test loss: 3.1501485824584963, test acc: 0.1313600093126297\n",
      "epoch: 104, loss: 3.077010853290558, acc: 0.22880001366138458, test loss: 3.15108775138855, test acc: 0.13072001934051514\n",
      "epoch: 105, loss: 3.076950693130493, acc: 0.22784002125263214, test loss: 3.1506368851661684, test acc: 0.1305600106716156\n",
      "epoch: 106, loss: 3.0766250395774843, acc: 0.22815997898578644, test loss: 3.1502726078033447, test acc: 0.12952002882957458\n",
      "epoch: 107, loss: 3.0763703894615175, acc: 0.23176002502441406, test loss: 3.1504124093055723, test acc: 0.13184000551700592\n",
      "epoch: 108, loss: 3.076334400177002, acc: 0.2308800369501114, test loss: 3.1513808512687684, test acc: 0.1292000114917755\n",
      "epoch: 109, loss: 3.076420617103577, acc: 0.22776004672050476, test loss: 3.1505483531951906, test acc: 0.12999999523162842\n",
      "epoch: 110, loss: 3.0758662939071657, acc: 0.2290399968624115, test loss: 3.1513030409812925, test acc: 0.13048003613948822\n",
      "epoch: 111, loss: 3.0755972170829775, acc: 0.23224005103111267, test loss: 3.1518356585502625, test acc: 0.12991999089717865\n",
      "epoch: 112, loss: 3.075959506034851, acc: 0.22895994782447815, test loss: 3.1516847729682924, test acc: 0.12823998928070068\n",
      "epoch: 113, loss: 3.075386853218079, acc: 0.2295200228691101, test loss: 3.152930135726929, test acc: 0.12016001343727112\n",
      "epoch: 114, loss: 3.0755926990509033, acc: 0.22967994213104248, test loss: 3.1504184675216673, test acc: 0.13064000010490417\n",
      "epoch: 115, loss: 3.074890584945679, acc: 0.23239989578723907, test loss: 3.150735559463501, test acc: 0.13087999820709229\n",
      "epoch: 116, loss: 3.0750422215461732, acc: 0.23200000822544098, test loss: 3.151131503582001, test acc: 0.1324000358581543\n",
      "epoch: 117, loss: 3.0747669172286987, acc: 0.23160000145435333, test loss: 3.1511271929740907, test acc: 0.1303199976682663\n",
      "epoch: 118, loss: 3.0749052596092223, acc: 0.22912000119686127, test loss: 3.1506939506530762, test acc: 0.13024000823497772\n",
      "epoch: 119, loss: 3.074479629993439, acc: 0.23056000471115112, test loss: 3.151222131252289, test acc: 0.12984001636505127\n",
      "epoch: 120, loss: 3.0746857500076294, acc: 0.23071999847888947, test loss: 3.1507271313667298, test acc: 0.12968000769615173\n",
      "epoch: 121, loss: 3.0740486431121825, acc: 0.22975996136665344, test loss: 3.1525292706489565, test acc: 0.12856002151966095\n",
      "epoch: 122, loss: 3.074544117450714, acc: 0.2316000759601593, test loss: 3.151736900806427, test acc: 0.12888003885746002\n",
      "epoch: 123, loss: 3.074207835197449, acc: 0.23304004967212677, test loss: 3.1510969495773313, test acc: 0.12959998846054077\n",
      "epoch: 124, loss: 3.0739808440208436, acc: 0.2327200472354889, test loss: 3.1506006932258606, test acc: 0.13048000633716583\n",
      "epoch: 125, loss: 3.0737027764320373, acc: 0.23056001961231232, test loss: 3.150725543498993, test acc: 0.1308000087738037\n",
      "epoch: 126, loss: 3.072946674823761, acc: 0.23359999060630798, test loss: 3.15161878824234, test acc: 0.12992003560066223\n",
      "epoch: 127, loss: 3.0734808325767515, acc: 0.23336000740528107, test loss: 3.1511891174316404, test acc: 0.12912002205848694\n",
      "epoch: 128, loss: 3.072837333679199, acc: 0.23239994049072266, test loss: 3.1515900254249574, test acc: 0.12992000579833984\n",
      "epoch: 129, loss: 3.0738745403289793, acc: 0.229200080037117, test loss: 3.1527042102813723, test acc: 0.12087999284267426\n",
      "epoch: 130, loss: 3.0735260319709776, acc: 0.23344005644321442, test loss: 3.1508803510665895, test acc: 0.1308000236749649\n",
      "epoch: 131, loss: 3.0731267619132994, acc: 0.232479989528656, test loss: 3.150973026752472, test acc: 0.13048002123832703\n",
      "epoch: 132, loss: 3.0727469086647035, acc: 0.23312003910541534, test loss: 3.1517175221443177, test acc: 0.13024002313613892\n",
      "epoch: 133, loss: 3.0729701685905457, acc: 0.23464004695415497, test loss: 3.1509895443916323, test acc: 0.13008001446723938\n",
      "epoch: 134, loss: 3.0730041384696962, acc: 0.2345600575208664, test loss: 3.151420249938965, test acc: 0.13040003180503845\n",
      "epoch: 135, loss: 3.072856752872467, acc: 0.2349599003791809, test loss: 3.1512676286697388, test acc: 0.13039998710155487\n",
      "epoch: 136, loss: 3.0724686193466186, acc: 0.2335999310016632, test loss: 3.153719174861908, test acc: 0.12136001884937286\n",
      "epoch: 137, loss: 3.072807559967041, acc: 0.2338400036096573, test loss: 3.150819363594055, test acc: 0.1300000101327896\n",
      "epoch: 138, loss: 3.0718014144897463, acc: 0.2346400022506714, test loss: 3.151848793029785, test acc: 0.13088004291057587\n",
      "epoch: 139, loss: 3.071855878829956, acc: 0.23504000902175903, test loss: 3.1513878965377806, test acc: 0.131600022315979\n",
      "epoch: 140, loss: 3.072082889080048, acc: 0.23448002338409424, test loss: 3.1522151589393617, test acc: 0.12936004996299744\n",
      "epoch: 141, loss: 3.0713549137115477, acc: 0.23551996052265167, test loss: 3.152746412754059, test acc: 0.12960003316402435\n",
      "epoch: 142, loss: 3.071616702079773, acc: 0.23503997921943665, test loss: 3.152746043205261, test acc: 0.1297600120306015\n",
      "epoch: 143, loss: 3.0715947270393373, acc: 0.2351999282836914, test loss: 3.1517974805831908, test acc: 0.1297600120306015\n",
      "epoch: 144, loss: 3.071529276371002, acc: 0.2364000380039215, test loss: 3.151263189315796, test acc: 0.13096000254154205\n",
      "epoch: 145, loss: 3.07143892288208, acc: 0.23504005372524261, test loss: 3.1525304818153383, test acc: 0.1297600120306015\n",
      "epoch: 146, loss: 3.0709496331214905, acc: 0.23496001958847046, test loss: 3.1513478207588195, test acc: 0.1305599957704544\n",
      "epoch: 147, loss: 3.0713217854499817, acc: 0.23295997083187103, test loss: 3.1508803153038025, test acc: 0.12992002069950104\n",
      "epoch: 148, loss: 3.07132244348526, acc: 0.2348000705242157, test loss: 3.1518853235244753, test acc: 0.13087999820709229\n",
      "epoch: 149, loss: 3.0704000091552732, acc: 0.23551996052265167, test loss: 3.156108202934265, test acc: 0.11976000666618347\n",
      "epoch: 150, loss: 3.071276752948761, acc: 0.23560000956058502, test loss: 3.151621766090393, test acc: 0.13088004291057587\n",
      "epoch: 151, loss: 3.070507094860077, acc: 0.2359200119972229, test loss: 3.1511083889007567, test acc: 0.13104000687599182\n",
      "epoch: 152, loss: 3.070495316982269, acc: 0.23527999222278595, test loss: 3.151215302944183, test acc: 0.12944000959396362\n",
      "epoch: 153, loss: 3.0704987382888795, acc: 0.2356000542640686, test loss: 3.151288902759552, test acc: 0.13024000823497772\n",
      "epoch: 154, loss: 3.070205338001251, acc: 0.23655995726585388, test loss: 3.1519017314910887, test acc: 0.12984001636505127\n",
      "epoch: 155, loss: 3.070516014099121, acc: 0.23712001740932465, test loss: 3.151337351799011, test acc: 0.13024000823497772\n",
      "epoch: 156, loss: 3.0698489236831663, acc: 0.23759999871253967, test loss: 3.15145605802536, test acc: 0.13032002747058868\n",
      "epoch: 157, loss: 3.070167210102081, acc: 0.23680004477500916, test loss: 3.1525469398498536, test acc: 0.1297600418329239\n",
      "epoch: 158, loss: 3.070266830921173, acc: 0.2354399859905243, test loss: 3.1516292834281923, test acc: 0.12912002205848694\n",
      "epoch: 159, loss: 3.069900920391083, acc: 0.2366400510072708, test loss: 3.1508628249168398, test acc: 0.13128001987934113\n",
      "epoch: 160, loss: 3.069807472229004, acc: 0.23656000196933746, test loss: 3.151839475631714, test acc: 0.1303200125694275\n",
      "epoch: 161, loss: 3.0698106336593627, acc: 0.23607999086380005, test loss: 3.151073360443115, test acc: 0.1308000385761261\n",
      "epoch: 162, loss: 3.0697959733009337, acc: 0.23632000386714935, test loss: 3.151610963344574, test acc: 0.1292000263929367\n",
      "epoch: 163, loss: 3.069771921634674, acc: 0.23679998517036438, test loss: 3.151815485954285, test acc: 0.13024002313613892\n",
      "epoch: 164, loss: 3.0697354388237, acc: 0.23479999601840973, test loss: 3.152386870384216, test acc: 0.12888002395629883\n",
      "epoch: 165, loss: 3.0696466374397278, acc: 0.2372799813747406, test loss: 3.1516260957717894, test acc: 0.12944000959396362\n",
      "epoch: 166, loss: 3.069710774421692, acc: 0.23751996457576752, test loss: 3.151684262752533, test acc: 0.12904001772403717\n",
      "epoch: 167, loss: 3.068881993293762, acc: 0.2377600073814392, test loss: 3.1522684788703916, test acc: 0.13032002747058868\n",
      "epoch: 168, loss: 3.0693208503723146, acc: 0.23680000007152557, test loss: 3.1514082837104795, test acc: 0.13168004155158997\n",
      "epoch: 169, loss: 3.0688292741775514, acc: 0.2375999391078949, test loss: 3.1517403745651245, test acc: 0.1300000250339508\n",
      "epoch: 170, loss: 3.069700517654419, acc: 0.23655995726585388, test loss: 3.151139042377472, test acc: 0.13008002936840057\n",
      "epoch: 171, loss: 3.069347133636475, acc: 0.2356000393629074, test loss: 3.1524192476272583, test acc: 0.12912003695964813\n",
      "epoch: 172, loss: 3.069385688304901, acc: 0.23719991743564606, test loss: 3.1510784459114074, test acc: 0.12960000336170197\n",
      "epoch: 173, loss: 3.0689192843437194, acc: 0.23688004910945892, test loss: 3.150988984107971, test acc: 0.13016000390052795\n",
      "epoch: 174, loss: 3.0685110974311827, acc: 0.23792001605033875, test loss: 3.1516629362106325, test acc: 0.12992002069950104\n",
      "epoch: 175, loss: 3.068550477027893, acc: 0.2372799664735794, test loss: 3.15172149181366, test acc: 0.12992005050182343\n",
      "epoch: 176, loss: 3.0687972784042357, acc: 0.23568002879619598, test loss: 3.1522739815711973, test acc: 0.12936002016067505\n",
      "epoch: 177, loss: 3.0686300230026244, acc: 0.23695997893810272, test loss: 3.1521416330337524, test acc: 0.130560040473938\n",
      "epoch: 178, loss: 3.0683858752250672, acc: 0.23903998732566833, test loss: 3.151385657787323, test acc: 0.13192005455493927\n",
      "epoch: 179, loss: 3.068381190299988, acc: 0.238240048289299, test loss: 3.151549460887909, test acc: 0.13176003098487854\n",
      "epoch: 180, loss: 3.068418626785278, acc: 0.23800009489059448, test loss: 3.151221311092377, test acc: 0.12936002016067505\n",
      "epoch: 181, loss: 3.0687104201316835, acc: 0.23792007565498352, test loss: 3.151410527229309, test acc: 0.13120001554489136\n",
      "epoch: 182, loss: 3.0679817247390746, acc: 0.23879992961883545, test loss: 3.154190175533295, test acc: 0.12136001884937286\n",
      "epoch: 183, loss: 3.067975928783417, acc: 0.23944002389907837, test loss: 3.1517938446998595, test acc: 0.13072003424167633\n",
      "epoch: 184, loss: 3.068198351860046, acc: 0.23823997378349304, test loss: 3.1517737221717836, test acc: 0.13120003044605255\n",
      "epoch: 185, loss: 3.0679583144187927, acc: 0.24031993746757507, test loss: 3.1514299082756043, test acc: 0.1295200139284134\n",
      "epoch: 186, loss: 3.067949347496033, acc: 0.23831994831562042, test loss: 3.151651599407196, test acc: 0.12952002882957458\n",
      "epoch: 187, loss: 3.0683358263969422, acc: 0.23855999112129211, test loss: 3.152224671840668, test acc: 0.12888000905513763\n",
      "epoch: 188, loss: 3.0685165524482727, acc: 0.2380800098180771, test loss: 3.152166428565979, test acc: 0.1313600093126297\n",
      "epoch: 189, loss: 3.0676248931884764, acc: 0.23791998624801636, test loss: 3.1516836524009704, test acc: 0.12912002205848694\n",
      "epoch: 190, loss: 3.067350115776062, acc: 0.23919999599456787, test loss: 3.1515513253211975, test acc: 0.130560040473938\n",
      "epoch: 191, loss: 3.067789340019226, acc: 0.23791994154453278, test loss: 3.1515755963325502, test acc: 0.1302400827407837\n",
      "epoch: 192, loss: 3.067785768508911, acc: 0.23751996457576752, test loss: 3.151304790973663, test acc: 0.1313600093126297\n",
      "epoch: 193, loss: 3.0674364376068115, acc: 0.23904003202915192, test loss: 3.1515618777275085, test acc: 0.12936000525951385\n",
      "epoch: 194, loss: 3.0677322268486025, acc: 0.23728002607822418, test loss: 3.152640154361725, test acc: 0.1265600025653839\n",
      "epoch: 195, loss: 3.067429223060608, acc: 0.24039997160434723, test loss: 3.1513427305221557, test acc: 0.1300000250339508\n",
      "epoch: 196, loss: 3.06724666595459, acc: 0.23919998109340668, test loss: 3.152262945175171, test acc: 0.1286400407552719\n",
      "epoch: 197, loss: 3.0666023230552675, acc: 0.24080005288124084, test loss: 3.1515327167510985, test acc: 0.12936002016067505\n",
      "epoch: 198, loss: 3.0674698829650877, acc: 0.23815995454788208, test loss: 3.151890704631805, test acc: 0.12864002585411072\n",
      "epoch: 199, loss: 3.0672062849998474, acc: 0.23928001523017883, test loss: 3.151499238014221, test acc: 0.12991999089717865\n",
      "epoch: 200, loss: 3.0668502640724182, acc: 0.23959997296333313, test loss: 3.1520407509803774, test acc: 0.1287199854850769\n",
      "epoch: 201, loss: 3.0670998978614805, acc: 0.238319993019104, test loss: 3.1517185878753664, test acc: 0.12919999659061432\n",
      "epoch: 202, loss: 3.0670020508766176, acc: 0.24151994287967682, test loss: 3.151596417427063, test acc: 0.1297600418329239\n",
      "epoch: 203, loss: 3.0672902274131775, acc: 0.24064001441001892, test loss: 3.1518672251701356, test acc: 0.13072003424167633\n",
      "epoch: 204, loss: 3.0665402007102966, acc: 0.2407200038433075, test loss: 3.151971879005432, test acc: 0.12831999361515045\n",
      "epoch: 205, loss: 3.067606060504913, acc: 0.23792003095149994, test loss: 3.152756371498108, test acc: 0.12832000851631165\n",
      "epoch: 206, loss: 3.0667359471321105, acc: 0.23888006806373596, test loss: 3.1515816187858583, test acc: 0.13024002313613892\n",
      "epoch: 207, loss: 3.0668744111061095, acc: 0.23991996049880981, test loss: 3.1512009644508363, test acc: 0.1292800009250641\n",
      "epoch: 208, loss: 3.0671292448043825, acc: 0.2400800585746765, test loss: 3.1519556641578674, test acc: 0.12848004698753357\n",
      "epoch: 209, loss: 3.066389937400818, acc: 0.2418399602174759, test loss: 3.151532654762268, test acc: 0.12999999523162842\n",
      "epoch: 210, loss: 3.06658899307251, acc: 0.24056001007556915, test loss: 3.1518272447586058, test acc: 0.12944000959396362\n",
      "epoch: 211, loss: 3.0662345910072326, acc: 0.24088001251220703, test loss: 3.1528864979743956, test acc: 0.1276800036430359\n",
      "epoch: 212, loss: 3.066885371208191, acc: 0.23927997052669525, test loss: 3.152599220275879, test acc: 0.12912002205848694\n",
      "epoch: 213, loss: 3.06638384103775, acc: 0.24208006262779236, test loss: 3.1515383291244508, test acc: 0.1305600106716156\n",
      "epoch: 214, loss: 3.0659131050109862, acc: 0.2412000149488449, test loss: 3.152402822971344, test acc: 0.12784002721309662\n",
      "epoch: 215, loss: 3.0666470193862914, acc: 0.23919998109340668, test loss: 3.151960530281067, test acc: 0.12960003316402435\n",
      "epoch: 216, loss: 3.0663361310958863, acc: 0.2415200024843216, test loss: 3.1514305877685547, test acc: 0.13048002123832703\n",
      "epoch: 217, loss: 3.0662292528152464, acc: 0.24159997701644897, test loss: 3.1517578840255736, test acc: 0.13071998953819275\n",
      "epoch: 218, loss: 3.066406147480011, acc: 0.24135997891426086, test loss: 3.1517622327804564, test acc: 0.13096003234386444\n",
      "epoch: 219, loss: 3.0660917949676514, acc: 0.24128006398677826, test loss: 3.1513073444366455, test acc: 0.12944002449512482\n",
      "epoch: 220, loss: 3.0660233545303344, acc: 0.23960000276565552, test loss: 3.1543186593055723, test acc: 0.11911998689174652\n",
      "epoch: 221, loss: 3.0662792778015135, acc: 0.23864004015922546, test loss: 3.1520758080482483, test acc: 0.12928003072738647\n",
      "epoch: 222, loss: 3.06578665971756, acc: 0.24264003336429596, test loss: 3.1516125845909118, test acc: 0.12968003749847412\n",
      "epoch: 223, loss: 3.0656301188468933, acc: 0.24208007752895355, test loss: 3.152507426738739, test acc: 0.1297600120306015\n",
      "epoch: 224, loss: 3.0653971934318545, acc: 0.2428799867630005, test loss: 3.151540169715881, test acc: 0.13088001310825348\n",
      "epoch: 225, loss: 3.065462582111359, acc: 0.24216003715991974, test loss: 3.1515063548088076, test acc: 0.13088001310825348\n",
      "epoch: 226, loss: 3.065393900871277, acc: 0.24135997891426086, test loss: 3.1514750218391416, test acc: 0.13103999197483063\n",
      "epoch: 227, loss: 3.0657187867164613, acc: 0.24264003336429596, test loss: 3.15185941696167, test acc: 0.12984001636505127\n",
      "epoch: 228, loss: 3.065364396572113, acc: 0.24359996616840363, test loss: 3.1517351722717284, test acc: 0.1297600269317627\n",
      "epoch: 229, loss: 3.065443391799927, acc: 0.24191990494728088, test loss: 3.1517663836479186, test acc: 0.1311200112104416\n",
      "epoch: 230, loss: 3.065065975189209, acc: 0.2414400428533554, test loss: 3.1520886969566346, test acc: 0.12928003072738647\n",
      "epoch: 231, loss: 3.065785138607025, acc: 0.24088001251220703, test loss: 3.1527689027786256, test acc: 0.12144002318382263\n",
      "epoch: 232, loss: 3.065969500541687, acc: 0.23999999463558197, test loss: 3.1517692184448243, test acc: 0.12928003072738647\n",
      "epoch: 233, loss: 3.065222008228302, acc: 0.2425599843263626, test loss: 3.152064208984375, test acc: 0.13040003180503845\n",
      "epoch: 234, loss: 3.0649347615242006, acc: 0.2420799881219864, test loss: 3.1515067648887634, test acc: 0.13152000308036804\n",
      "epoch: 235, loss: 3.0654724526405333, acc: 0.2425599992275238, test loss: 3.151912498474121, test acc: 0.12936002016067505\n",
      "epoch: 236, loss: 3.0650696754455566, acc: 0.24279996752738953, test loss: 3.1511726236343383, test acc: 0.12952002882957458\n",
      "epoch: 237, loss: 3.0649207615852356, acc: 0.24279996752738953, test loss: 3.151883521080017, test acc: 0.13048002123832703\n",
      "epoch: 238, loss: 3.0655187225341796, acc: 0.2399200052022934, test loss: 3.1515383958816527, test acc: 0.13016000390052795\n",
      "epoch: 239, loss: 3.065035183429718, acc: 0.2423200011253357, test loss: 3.151690249443054, test acc: 0.1297600120306015\n",
      "epoch: 240, loss: 3.0646005487442016, acc: 0.24344000220298767, test loss: 3.1514532446861265, test acc: 0.1306399703025818\n",
      "epoch: 241, loss: 3.065114986896515, acc: 0.24303999543190002, test loss: 3.151454977989197, test acc: 0.13048000633716583\n",
      "epoch: 242, loss: 3.0653417801856992, acc: 0.24192005395889282, test loss: 3.1512810611724853, test acc: 0.1292000263929367\n",
      "epoch: 243, loss: 3.0654182028770447, acc: 0.24056001007556915, test loss: 3.1513485050201417, test acc: 0.12968000769615173\n",
      "epoch: 244, loss: 3.064835169315338, acc: 0.24328000843524933, test loss: 3.151825494766235, test acc: 0.13048000633716583\n",
      "epoch: 245, loss: 3.0645686841011046, acc: 0.24375995993614197, test loss: 3.1527004480361938, test acc: 0.12880003452301025\n",
      "epoch: 246, loss: 3.0650441789627076, acc: 0.2434399425983429, test loss: 3.1518128085136414, test acc: 0.13047999143600464\n",
      "epoch: 247, loss: 3.064533076286316, acc: 0.24247997999191284, test loss: 3.1511916756629943, test acc: 0.1303199827671051\n",
      "epoch: 248, loss: 3.0645762419700624, acc: 0.24383996427059174, test loss: 3.151936640739441, test acc: 0.13048003613948822\n",
      "epoch: 249, loss: 3.064554605484009, acc: 0.24240002036094666, test loss: 3.1519195342063906, test acc: 0.1297600120306015\n",
      "epoch: 250, loss: 3.064720513820648, acc: 0.24327994883060455, test loss: 3.1523776960372927, test acc: 0.13024000823497772\n",
      "epoch: 251, loss: 3.06430438041687, acc: 0.24431996047496796, test loss: 3.1512687468528746, test acc: 0.12984001636505127\n",
      "epoch: 252, loss: 3.064806036949158, acc: 0.24255996942520142, test loss: 3.1511369800567626, test acc: 0.12984001636505127\n",
      "epoch: 253, loss: 3.064154179096222, acc: 0.24439997971057892, test loss: 3.151198673248291, test acc: 0.13087999820709229\n",
      "epoch: 254, loss: 3.0642312955856323, acc: 0.24295996129512787, test loss: 3.1510073709487916, test acc: 0.12960003316402435\n",
      "epoch: 255, loss: 3.06409029006958, acc: 0.24439996480941772, test loss: 3.1525171875953673, test acc: 0.12904004752635956\n",
      "epoch: 256, loss: 3.064995737075806, acc: 0.24223995208740234, test loss: 3.150920524597168, test acc: 0.13096000254154205\n",
      "epoch: 257, loss: 3.064560718536377, acc: 0.24432000517845154, test loss: 3.1518235874176024, test acc: 0.12992002069950104\n",
      "epoch: 258, loss: 3.06398645401001, acc: 0.24247999489307404, test loss: 3.15182302236557, test acc: 0.1313600391149521\n",
      "epoch: 259, loss: 3.06440975189209, acc: 0.2437600940465927, test loss: 3.1521145939826964, test acc: 0.13104002177715302\n",
      "epoch: 260, loss: 3.0644235229492187, acc: 0.24368001520633698, test loss: 3.15179851770401, test acc: 0.13128000497817993\n",
      "epoch: 261, loss: 3.0639286136627195, acc: 0.24423998594284058, test loss: 3.150849688053131, test acc: 0.13088002800941467\n",
      "epoch: 262, loss: 3.0641729927062986, acc: 0.24263997375965118, test loss: 3.1512880516052246, test acc: 0.13072001934051514\n",
      "epoch: 263, loss: 3.0643599605560303, acc: 0.2404799610376358, test loss: 3.1513797664642333, test acc: 0.13184002041816711\n",
      "epoch: 264, loss: 3.064086241722107, acc: 0.2433600276708603, test loss: 3.1511606311798097, test acc: 0.13128000497817993\n",
      "epoch: 265, loss: 3.0643765830993654, acc: 0.24271999299526215, test loss: 3.151446304321289, test acc: 0.1289600133895874\n",
      "epoch: 266, loss: 3.0645433378219606, acc: 0.24055998027324677, test loss: 3.151905584335327, test acc: 0.13007999956607819\n",
      "epoch: 267, loss: 3.0647464919090273, acc: 0.2407999485731125, test loss: 3.1511917185783385, test acc: 0.13184002041816711\n",
      "epoch: 268, loss: 3.06389262676239, acc: 0.2439199835062027, test loss: 3.1520586895942686, test acc: 0.1305600255727768\n",
      "epoch: 269, loss: 3.063811535835266, acc: 0.24448001384735107, test loss: 3.151072018146515, test acc: 0.1308000087738037\n",
      "epoch: 270, loss: 3.064031090736389, acc: 0.2420799881219864, test loss: 3.1532576990127565, test acc: 0.12144000828266144\n",
      "epoch: 271, loss: 3.0636845564842226, acc: 0.2439199984073639, test loss: 3.15121408700943, test acc: 0.1313600093126297\n",
      "epoch: 272, loss: 3.063993079662323, acc: 0.244159996509552, test loss: 3.150810470581055, test acc: 0.13088002800941467\n",
      "epoch: 273, loss: 3.063461947441101, acc: 0.24392002820968628, test loss: 3.1514935541152953, test acc: 0.13008002936840057\n",
      "epoch: 274, loss: 3.0635452842712403, acc: 0.24424000084400177, test loss: 3.1514475202560424, test acc: 0.13120000064373016\n",
      "epoch: 275, loss: 3.063457534313202, acc: 0.2431199997663498, test loss: 3.151033790111542, test acc: 0.13200001418590546\n",
      "epoch: 276, loss: 3.0639761757850645, acc: 0.24360007047653198, test loss: 3.151121156215668, test acc: 0.12984000146389008\n",
      "epoch: 277, loss: 3.0641631388664248, acc: 0.24344000220298767, test loss: 3.150852506160736, test acc: 0.1310400366783142\n",
      "epoch: 278, loss: 3.0635957074165345, acc: 0.24376001954078674, test loss: 3.1510762000083923, test acc: 0.13232000172138214\n",
      "epoch: 279, loss: 3.063931131362915, acc: 0.24375995993614197, test loss: 3.1528984618186953, test acc: 0.12872003018856049\n",
      "epoch: 280, loss: 3.0650062584877014, acc: 0.24112007021903992, test loss: 3.1506768703460692, test acc: 0.13072003424167633\n",
      "epoch: 281, loss: 3.0644230318069456, acc: 0.24263997375965118, test loss: 3.1511840128898623, test acc: 0.13168001174926758\n",
      "epoch: 282, loss: 3.0639871764183044, acc: 0.2430400401353836, test loss: 3.1511222457885744, test acc: 0.131600022315979\n",
      "epoch: 283, loss: 3.063432586193085, acc: 0.2449599802494049, test loss: 3.150928645133972, test acc: 0.1300000250339508\n",
      "epoch: 284, loss: 3.0634908509254455, acc: 0.2438400685787201, test loss: 3.150943636894226, test acc: 0.13128000497817993\n",
      "epoch: 285, loss: 3.0634725666046143, acc: 0.24424001574516296, test loss: 3.1529339146614075, test acc: 0.12160000205039978\n",
      "epoch: 286, loss: 3.0638040113449097, acc: 0.24296002089977264, test loss: 3.151467742919922, test acc: 0.12984001636505127\n",
      "epoch: 287, loss: 3.063546302318573, acc: 0.2428799569606781, test loss: 3.151007661819458, test acc: 0.13088002800941467\n",
      "epoch: 288, loss: 3.0633870816230773, acc: 0.24607999622821808, test loss: 3.1510043287277223, test acc: 0.13223999738693237\n",
      "epoch: 289, loss: 3.063512156009674, acc: 0.2444000095129013, test loss: 3.1509028005599977, test acc: 0.13048003613948822\n",
      "epoch: 290, loss: 3.0637492609024046, acc: 0.24288006126880646, test loss: 3.150510413646698, test acc: 0.1321600079536438\n",
      "epoch: 291, loss: 3.063533437252045, acc: 0.24400004744529724, test loss: 3.15094110250473, test acc: 0.12968002259731293\n",
      "epoch: 292, loss: 3.0644859576225283, acc: 0.2415200024843216, test loss: 3.1517382884025573, test acc: 0.13128000497817993\n",
      "epoch: 293, loss: 3.0626880502700806, acc: 0.24447999894618988, test loss: 3.1504461336135865, test acc: 0.13120000064373016\n",
      "epoch: 294, loss: 3.0635819482803344, acc: 0.24424001574516296, test loss: 3.1506930685043333, test acc: 0.13064002990722656\n",
      "epoch: 295, loss: 3.0633095717430114, acc: 0.2454400509595871, test loss: 3.1515362811088563, test acc: 0.13032002747058868\n",
      "epoch: 296, loss: 3.0634268450737, acc: 0.24432000517845154, test loss: 3.151099371910095, test acc: 0.12968000769615173\n",
      "epoch: 297, loss: 3.063625795841217, acc: 0.24352005124092102, test loss: 3.1511297106742857, test acc: 0.13072003424167633\n",
      "epoch: 298, loss: 3.063540871143341, acc: 0.24328000843524933, test loss: 3.1511274719238282, test acc: 0.1311200112104416\n",
      "epoch: 299, loss: 3.063267767429352, acc: 0.2458399534225464, test loss: 3.1518219923973083, test acc: 0.12904001772403717\n",
      "epoch: 300, loss: 3.063152618408203, acc: 0.24448001384735107, test loss: 3.15138601064682, test acc: 0.13112002611160278\n",
      "epoch: 301, loss: 3.063321611881256, acc: 0.2438400238752365, test loss: 3.152272193431854, test acc: 0.13247999548912048\n",
      "epoch: 302, loss: 3.0633953738212587, acc: 0.2428000420331955, test loss: 3.1518007135391235, test acc: 0.13088002800941467\n",
      "epoch: 303, loss: 3.063135795593262, acc: 0.24383994936943054, test loss: 3.151024224758148, test acc: 0.1316000074148178\n",
      "epoch: 304, loss: 3.0629710865020754, acc: 0.24512000381946564, test loss: 3.1506339478492738, test acc: 0.13096003234386444\n",
      "epoch: 305, loss: 3.06309579372406, acc: 0.24415992200374603, test loss: 3.150718960762024, test acc: 0.13200001418590546\n",
      "epoch: 306, loss: 3.063412618637085, acc: 0.24359998106956482, test loss: 3.1512731814384463, test acc: 0.1310400515794754\n",
      "epoch: 307, loss: 3.062615602016449, acc: 0.24583999812602997, test loss: 3.151393940448761, test acc: 0.1303200125694275\n",
      "epoch: 308, loss: 3.063996136188507, acc: 0.24136003851890564, test loss: 3.1511336278915407, test acc: 0.1295199990272522\n",
      "epoch: 309, loss: 3.062758994102478, acc: 0.24375997483730316, test loss: 3.1506500387191774, test acc: 0.1318400353193283\n",
      "epoch: 310, loss: 3.063089213371277, acc: 0.24472005665302277, test loss: 3.1512298941612245, test acc: 0.13032002747058868\n",
      "epoch: 311, loss: 3.062977497577667, acc: 0.2441600263118744, test loss: 3.1515966773033144, test acc: 0.13088004291057587\n",
      "epoch: 312, loss: 3.0635436582565307, acc: 0.24320000410079956, test loss: 3.151713266372681, test acc: 0.12992003560066223\n",
      "epoch: 313, loss: 3.06260936498642, acc: 0.244640052318573, test loss: 3.1509206223487856, test acc: 0.13143998384475708\n",
      "epoch: 314, loss: 3.0636256074905397, acc: 0.2428799420595169, test loss: 3.150971763134003, test acc: 0.13104000687599182\n",
      "epoch: 315, loss: 3.063557493686676, acc: 0.24352005124092102, test loss: 3.151874253749847, test acc: 0.12983998656272888\n",
      "epoch: 316, loss: 3.0627348136901857, acc: 0.24439994990825653, test loss: 3.1516726064682006, test acc: 0.13008001446723938\n",
      "epoch: 317, loss: 3.062755286693573, acc: 0.24424003064632416, test loss: 3.150760676860809, test acc: 0.1313600242137909\n",
      "epoch: 318, loss: 3.062741792201996, acc: 0.24591997265815735, test loss: 3.151810655593872, test acc: 0.13064001500606537\n",
      "epoch: 319, loss: 3.0631406474113465, acc: 0.24424000084400177, test loss: 3.1513731265068055, test acc: 0.13048000633716583\n",
      "epoch: 320, loss: 3.0627034068107606, acc: 0.24296005070209503, test loss: 3.1540604972839357, test acc: 0.12216003239154816\n",
      "epoch: 321, loss: 3.0632693099975588, acc: 0.24456003308296204, test loss: 3.1513975787162782, test acc: 0.130079984664917\n",
      "epoch: 322, loss: 3.0629723930358885, acc: 0.24368005990982056, test loss: 3.1516165947914123, test acc: 0.1311200112104416\n",
      "epoch: 323, loss: 3.0633260202407837, acc: 0.24288004636764526, test loss: 3.1511430287361146, test acc: 0.1308000087738037\n",
      "epoch: 324, loss: 3.062480947971344, acc: 0.24447999894618988, test loss: 3.151346836090088, test acc: 0.13096003234386444\n",
      "epoch: 325, loss: 3.0627438712120054, acc: 0.24536004662513733, test loss: 3.1508966422080995, test acc: 0.13152001798152924\n",
      "epoch: 326, loss: 3.0630487418174743, acc: 0.24383999407291412, test loss: 3.1512791085243226, test acc: 0.13007999956607819\n",
      "epoch: 327, loss: 3.0629503560066222, acc: 0.24511998891830444, test loss: 3.1510947942733765, test acc: 0.13247999548912048\n",
      "epoch: 328, loss: 3.0630049753189086, acc: 0.2454400658607483, test loss: 3.1511391019821167, test acc: 0.13128003478050232\n",
      "epoch: 329, loss: 3.063149130344391, acc: 0.24320000410079956, test loss: 3.150918381214142, test acc: 0.1300000250339508\n",
      "epoch: 330, loss: 3.0630944681167604, acc: 0.24528005719184875, test loss: 3.1512328124046327, test acc: 0.13064004480838776\n",
      "epoch: 331, loss: 3.0633088111877442, acc: 0.2436799854040146, test loss: 3.150850548744202, test acc: 0.13087999820709229\n",
      "epoch: 332, loss: 3.0627603125572205, acc: 0.24416005611419678, test loss: 3.151213614940643, test acc: 0.13159999251365662\n",
      "epoch: 333, loss: 3.0627143025398254, acc: 0.24400001764297485, test loss: 3.1509450578689577, test acc: 0.1305599957704544\n",
      "epoch: 334, loss: 3.062704019546509, acc: 0.24511998891830444, test loss: 3.1507515859603883, test acc: 0.13152000308036804\n",
      "epoch: 335, loss: 3.0627084803581237, acc: 0.245759978890419, test loss: 3.1509457421302796, test acc: 0.13104002177715302\n",
      "epoch: 336, loss: 3.062742176055908, acc: 0.24439996480941772, test loss: 3.1509402585029602, test acc: 0.1303199976682663\n",
      "epoch: 337, loss: 3.0623689460754395, acc: 0.24615998566150665, test loss: 3.1524277234077456, test acc: 0.1276800036430359\n",
      "epoch: 338, loss: 3.0627566409111022, acc: 0.2438400238752365, test loss: 3.1514850807189942, test acc: 0.1311199963092804\n",
      "epoch: 339, loss: 3.063054540157318, acc: 0.2425599843263626, test loss: 3.1510475945472716, test acc: 0.13096004724502563\n",
      "epoch: 340, loss: 3.0623812532424926, acc: 0.2457600235939026, test loss: 3.151305949687958, test acc: 0.12968002259731293\n",
      "epoch: 341, loss: 3.0624915313720704, acc: 0.24519996345043182, test loss: 3.1510135245323183, test acc: 0.1311199814081192\n",
      "epoch: 342, loss: 3.062908728122711, acc: 0.2438400238752365, test loss: 3.1508481764793395, test acc: 0.13104000687599182\n",
      "epoch: 343, loss: 3.0627580428123475, acc: 0.24439997971057892, test loss: 3.1511023592948915, test acc: 0.13032002747058868\n",
      "epoch: 344, loss: 3.062430603504181, acc: 0.24519993364810944, test loss: 3.1509501576423644, test acc: 0.13087999820709229\n",
      "epoch: 345, loss: 3.0630204677581787, acc: 0.24488002061843872, test loss: 3.152002670764923, test acc: 0.13096003234386444\n",
      "epoch: 346, loss: 3.0626823711395263, acc: 0.24504001438617706, test loss: 3.151285398006439, test acc: 0.13064004480838776\n",
      "epoch: 347, loss: 3.0625128245353697, acc: 0.24296002089977264, test loss: 3.151014659404755, test acc: 0.1295199990272522\n",
      "epoch: 348, loss: 3.0626834654808044, acc: 0.24479997158050537, test loss: 3.1514994502067566, test acc: 0.13072000443935394\n",
      "epoch: 349, loss: 3.0621938037872316, acc: 0.24608001112937927, test loss: 3.1508645963668824, test acc: 0.13159999251365662\n",
      "epoch: 350, loss: 3.0632218313217163, acc: 0.24392004311084747, test loss: 3.15197411775589, test acc: 0.13128003478050232\n",
      "epoch: 351, loss: 3.062286686897278, acc: 0.2452799677848816, test loss: 3.1511986517906188, test acc: 0.1311200112104416\n",
      "epoch: 352, loss: 3.062566092014313, acc: 0.2442399561405182, test loss: 3.1511439657211304, test acc: 0.1324000358581543\n",
      "epoch: 353, loss: 3.062005693912506, acc: 0.2460799664258957, test loss: 3.1507673192024233, test acc: 0.13007999956607819\n",
      "epoch: 354, loss: 3.0628807044029234, acc: 0.2454400211572647, test loss: 3.1511120295524595, test acc: 0.13152000308036804\n",
      "epoch: 355, loss: 3.0619813132286073, acc: 0.2465600222349167, test loss: 3.1512269401550292, test acc: 0.13120000064373016\n",
      "epoch: 356, loss: 3.0622582411766053, acc: 0.24431996047496796, test loss: 3.1521836590766905, test acc: 0.12864001095294952\n",
      "epoch: 357, loss: 3.0628755021095277, acc: 0.24375998973846436, test loss: 3.1515535569190978, test acc: 0.13152001798152924\n",
      "epoch: 358, loss: 3.0623478507995605, acc: 0.2454400211572647, test loss: 3.1513108658790587, test acc: 0.12960001826286316\n",
      "epoch: 359, loss: 3.0625442910194396, acc: 0.244640052318573, test loss: 3.150483314990997, test acc: 0.13096003234386444\n",
      "epoch: 360, loss: 3.06225932598114, acc: 0.24584001302719116, test loss: 3.1513407373428346, test acc: 0.13112005591392517\n",
      "epoch: 361, loss: 3.0633247780799864, acc: 0.24472004175186157, test loss: 3.1509627628326418, test acc: 0.13088002800941467\n",
      "epoch: 362, loss: 3.0618092942237856, acc: 0.24536001682281494, test loss: 3.151252422332764, test acc: 0.1305600106716156\n",
      "epoch: 363, loss: 3.06237110376358, acc: 0.24560001492500305, test loss: 3.1505501508712768, test acc: 0.13248001039028168\n",
      "epoch: 364, loss: 3.062039306163788, acc: 0.24503998458385468, test loss: 3.1514782738685607, test acc: 0.1300000250339508\n",
      "epoch: 365, loss: 3.0624242782592774, acc: 0.24431999027729034, test loss: 3.151634361743927, test acc: 0.13096004724502563\n",
      "epoch: 366, loss: 3.062032220363617, acc: 0.24639999866485596, test loss: 3.1515189695358274, test acc: 0.1303200125694275\n",
      "epoch: 367, loss: 3.0623811221122743, acc: 0.24616001546382904, test loss: 3.1514564418792723, test acc: 0.13072000443935394\n",
      "epoch: 368, loss: 3.0622280406951905, acc: 0.24552005529403687, test loss: 3.1510668659210204, test acc: 0.13048000633716583\n",
      "epoch: 369, loss: 3.0627891874313353, acc: 0.24432000517845154, test loss: 3.1518413257598876, test acc: 0.13104002177715302\n",
      "epoch: 370, loss: 3.0618896484375, acc: 0.24616001546382904, test loss: 3.1506552791595457, test acc: 0.12968000769615173\n",
      "epoch: 371, loss: 3.062212166786194, acc: 0.24624000489711761, test loss: 3.1506401252746583, test acc: 0.13072001934051514\n",
      "epoch: 372, loss: 3.062517638206482, acc: 0.2452000081539154, test loss: 3.1511192774772643, test acc: 0.12960000336170197\n",
      "epoch: 373, loss: 3.061738920211792, acc: 0.24640001356601715, test loss: 3.1509652948379516, test acc: 0.1305599957704544\n",
      "epoch: 374, loss: 3.0626293325424196, acc: 0.24528001248836517, test loss: 3.1506412267684936, test acc: 0.13120003044605255\n",
      "epoch: 375, loss: 3.062620553970337, acc: 0.24671998620033264, test loss: 3.150274260044098, test acc: 0.1329599916934967\n",
      "epoch: 376, loss: 3.0627169156074525, acc: 0.24512004852294922, test loss: 3.1507076835632324, test acc: 0.13096001744270325\n",
      "epoch: 377, loss: 3.062512834072113, acc: 0.2444799542427063, test loss: 3.1509946250915526, test acc: 0.13048003613948822\n",
      "epoch: 378, loss: 3.0622023510932923, acc: 0.2452000379562378, test loss: 3.150813579559326, test acc: 0.1305600255727768\n",
      "epoch: 379, loss: 3.0619687461853027, acc: 0.24703998863697052, test loss: 3.151225745677948, test acc: 0.13151998817920685\n",
      "epoch: 380, loss: 3.062020115852356, acc: 0.24495995044708252, test loss: 3.151504716873169, test acc: 0.13016004860401154\n",
      "epoch: 381, loss: 3.0618599796295167, acc: 0.246319979429245, test loss: 3.1507302641868593, test acc: 0.131600022315979\n",
      "epoch: 382, loss: 3.0621442890167234, acc: 0.24672004580497742, test loss: 3.1506677532196044, test acc: 0.1303199976682663\n",
      "epoch: 383, loss: 3.062496454715729, acc: 0.24480003118515015, test loss: 3.150959219932556, test acc: 0.1313600391149521\n",
      "epoch: 384, loss: 3.0622638654708862, acc: 0.2457600235939026, test loss: 3.1506614542007445, test acc: 0.13088004291057587\n",
      "epoch: 385, loss: 3.062385594844818, acc: 0.24559997022151947, test loss: 3.1505656576156618, test acc: 0.13192002475261688\n",
      "epoch: 386, loss: 3.062242872714996, acc: 0.24543996155261993, test loss: 3.1507582378387453, test acc: 0.13048000633716583\n",
      "epoch: 387, loss: 3.0618508291244506, acc: 0.24624000489711761, test loss: 3.150982286930084, test acc: 0.13079999387264252\n",
      "epoch: 388, loss: 3.061757671833038, acc: 0.24623998999595642, test loss: 3.1514795136451723, test acc: 0.13120003044605255\n",
      "epoch: 389, loss: 3.062241005897522, acc: 0.24560000002384186, test loss: 3.15101895570755, test acc: 0.13200001418590546\n",
      "epoch: 390, loss: 3.0618420600891114, acc: 0.244080051779747, test loss: 3.15190593957901, test acc: 0.13048000633716583\n",
      "epoch: 391, loss: 3.0618124651908873, acc: 0.24703994393348694, test loss: 3.1510553646087645, test acc: 0.13120003044605255\n",
      "epoch: 392, loss: 3.062164595127106, acc: 0.2460000216960907, test loss: 3.1507309246063233, test acc: 0.1308000236749649\n",
      "epoch: 393, loss: 3.0622812342643737, acc: 0.24480001628398895, test loss: 3.150450096130371, test acc: 0.13144004344940186\n",
      "epoch: 394, loss: 3.0620228838920593, acc: 0.24480001628398895, test loss: 3.1510264682769775, test acc: 0.1318400353193283\n",
      "epoch: 395, loss: 3.062760126590729, acc: 0.24391993880271912, test loss: 3.150504779815674, test acc: 0.13120003044605255\n",
      "epoch: 396, loss: 3.061820874214172, acc: 0.24703998863697052, test loss: 3.1510638213157653, test acc: 0.13200005888938904\n",
      "epoch: 397, loss: 3.0621530842781066, acc: 0.24528004229068756, test loss: 3.151021671295166, test acc: 0.13064005970954895\n",
      "epoch: 398, loss: 3.062007315158844, acc: 0.2455199807882309, test loss: 3.1511016154289244, test acc: 0.1313600391149521\n",
      "epoch: 399, loss: 3.0617269349098204, acc: 0.24496005475521088, test loss: 3.153042347431183, test acc: 0.1212800145149231\n",
      "epoch: 400, loss: 3.062134485244751, acc: 0.2439199835062027, test loss: 3.1516109991073606, test acc: 0.12992000579833984\n",
      "epoch: 401, loss: 3.0618087792396547, acc: 0.24351999163627625, test loss: 3.151180365085602, test acc: 0.12992003560066223\n",
      "epoch: 402, loss: 3.061579785346985, acc: 0.247359961271286, test loss: 3.1507655906677248, test acc: 0.13176006078720093\n",
      "epoch: 403, loss: 3.0625576734542848, acc: 0.24408002197742462, test loss: 3.151143479347229, test acc: 0.1324000209569931\n",
      "epoch: 404, loss: 3.0617499494552614, acc: 0.24504007399082184, test loss: 3.1513738346099855, test acc: 0.13040003180503845\n",
      "epoch: 405, loss: 3.061948249340057, acc: 0.2464800328016281, test loss: 3.151136026382446, test acc: 0.13128000497817993\n",
      "epoch: 406, loss: 3.06192658662796, acc: 0.24536001682281494, test loss: 3.150945522785187, test acc: 0.1305600255727768\n",
      "epoch: 407, loss: 3.0616287398338318, acc: 0.24584002792835236, test loss: 3.150758295059204, test acc: 0.13072001934051514\n",
      "epoch: 408, loss: 3.061541271209717, acc: 0.24687999486923218, test loss: 3.1509623384475707, test acc: 0.13104000687599182\n",
      "epoch: 409, loss: 3.0627419710159303, acc: 0.24392002820968628, test loss: 3.1507196378707887, test acc: 0.13088002800941467\n",
      "epoch: 410, loss: 3.0613738799095156, acc: 0.24695998430252075, test loss: 3.1516574907302854, test acc: 0.13040000200271606\n",
      "epoch: 411, loss: 3.0618244099617002, acc: 0.24664008617401123, test loss: 3.151407766342163, test acc: 0.12984001636505127\n",
      "epoch: 412, loss: 3.0617628693580627, acc: 0.24752004444599152, test loss: 3.151100459098816, test acc: 0.13136005401611328\n",
      "epoch: 413, loss: 3.0614067983627318, acc: 0.24512000381946564, test loss: 3.150824007987976, test acc: 0.13151998817920685\n",
      "epoch: 414, loss: 3.061806032657623, acc: 0.24663999676704407, test loss: 3.1511238169670106, test acc: 0.12984000146389008\n",
      "epoch: 415, loss: 3.0619770002365114, acc: 0.24480003118515015, test loss: 3.1517446732521055, test acc: 0.12912002205848694\n",
      "epoch: 416, loss: 3.062024624347687, acc: 0.24615998566150665, test loss: 3.1525537276268008, test acc: 0.13016001880168915\n",
      "epoch: 417, loss: 3.0618413853645325, acc: 0.24535995721817017, test loss: 3.150503225326538, test acc: 0.13016003370285034\n",
      "epoch: 418, loss: 3.0620388340950013, acc: 0.2462400197982788, test loss: 3.151026680469513, test acc: 0.13104000687599182\n",
      "epoch: 419, loss: 3.061972424983978, acc: 0.2455199807882309, test loss: 3.150643491744995, test acc: 0.1303200125694275\n",
      "epoch: 420, loss: 3.06206285238266, acc: 0.24591998755931854, test loss: 3.1507136106491087, test acc: 0.13064001500606537\n",
      "epoch: 421, loss: 3.0620011687278748, acc: 0.24615998566150665, test loss: 3.150908877849579, test acc: 0.12968003749847412\n",
      "epoch: 422, loss: 3.0624582266807554, acc: 0.2460799664258957, test loss: 3.1509128475189208, test acc: 0.12983998656272888\n",
      "epoch: 423, loss: 3.0616026949882507, acc: 0.24615998566150665, test loss: 3.15094753742218, test acc: 0.13088002800941467\n",
      "epoch: 424, loss: 3.061742076873779, acc: 0.24783998727798462, test loss: 3.1514159417152405, test acc: 0.13128001987934113\n",
      "epoch: 425, loss: 3.062013771533966, acc: 0.24584001302719116, test loss: 3.150867941379547, test acc: 0.13096001744270325\n",
      "epoch: 426, loss: 3.0617369842529296, acc: 0.2473600059747696, test loss: 3.151141140460968, test acc: 0.12936002016067505\n",
      "epoch: 427, loss: 3.0619223737716674, acc: 0.24720001220703125, test loss: 3.150810055732727, test acc: 0.1313600093126297\n",
      "epoch: 428, loss: 3.0616743111610414, acc: 0.24624000489711761, test loss: 3.1513713598251343, test acc: 0.13120001554489136\n",
      "epoch: 429, loss: 3.0616623306274415, acc: 0.2465600073337555, test loss: 3.151317880153656, test acc: 0.12944002449512482\n",
      "epoch: 430, loss: 3.0616814064979554, acc: 0.24744005501270294, test loss: 3.150871984958649, test acc: 0.1308000236749649\n",
      "epoch: 431, loss: 3.061368818283081, acc: 0.24744001030921936, test loss: 3.151476776599884, test acc: 0.13048003613948822\n",
      "epoch: 432, loss: 3.0615365386009215, acc: 0.2471199631690979, test loss: 3.1516101384162902, test acc: 0.13120004534721375\n",
      "epoch: 433, loss: 3.0617949199676513, acc: 0.2447199821472168, test loss: 3.1519933772087096, test acc: 0.12880000472068787\n",
      "epoch: 434, loss: 3.0621205306053163, acc: 0.24512000381946564, test loss: 3.1512032675743105, test acc: 0.1305600106716156\n",
      "epoch: 435, loss: 3.061181118488312, acc: 0.24728010594844818, test loss: 3.152283651828766, test acc: 0.12824001908302307\n",
      "epoch: 436, loss: 3.0621549534797667, acc: 0.24576003849506378, test loss: 3.15094678401947, test acc: 0.12912002205848694\n",
      "epoch: 437, loss: 3.0618425250053405, acc: 0.24576005339622498, test loss: 3.15156468629837, test acc: 0.131600022315979\n",
      "epoch: 438, loss: 3.061451082229614, acc: 0.24576005339622498, test loss: 3.151516659259796, test acc: 0.13064001500606537\n",
      "epoch: 439, loss: 3.0612430286407473, acc: 0.2481599748134613, test loss: 3.150818393230438, test acc: 0.13008002936840057\n",
      "epoch: 440, loss: 3.0618058156967165, acc: 0.24568000435829163, test loss: 3.150353207588196, test acc: 0.1316000074148178\n",
      "epoch: 441, loss: 3.061777341365814, acc: 0.24568000435829163, test loss: 3.150933198928833, test acc: 0.13096003234386444\n",
      "epoch: 442, loss: 3.061912224292755, acc: 0.24591997265815735, test loss: 3.1506790113449097, test acc: 0.1303200125694275\n",
      "epoch: 443, loss: 3.0617864656448366, acc: 0.2456800490617752, test loss: 3.1507383704185488, test acc: 0.1310400366783142\n",
      "epoch: 444, loss: 3.061328098773956, acc: 0.24616003036499023, test loss: 3.1509676480293276, test acc: 0.12912003695964813\n",
      "epoch: 445, loss: 3.0616242933273314, acc: 0.24696004390716553, test loss: 3.150859580039978, test acc: 0.1319200098514557\n",
      "epoch: 446, loss: 3.061640512943268, acc: 0.2464800328016281, test loss: 3.1510502433776857, test acc: 0.12984003126621246\n",
      "epoch: 447, loss: 3.0617669224739075, acc: 0.24656003713607788, test loss: 3.1504349398612974, test acc: 0.12959995865821838\n",
      "epoch: 448, loss: 3.0614819622039793, acc: 0.24671997129917145, test loss: 3.1510978388786315, test acc: 0.13008002936840057\n",
      "epoch: 449, loss: 3.0617517185211183, acc: 0.24632003903388977, test loss: 3.1506509971618653, test acc: 0.12936003506183624\n",
      "epoch: 450, loss: 3.0613632464408873, acc: 0.24640001356601715, test loss: 3.1501758670806885, test acc: 0.1308799833059311\n",
      "epoch: 451, loss: 3.0615115213394164, acc: 0.24447999894618988, test loss: 3.1505335998535156, test acc: 0.13072000443935394\n",
      "epoch: 452, loss: 3.0613133406639097, acc: 0.24896003305912018, test loss: 3.150192906856537, test acc: 0.1319200098514557\n",
      "epoch: 453, loss: 3.061273446083069, acc: 0.24775999784469604, test loss: 3.150422213077545, test acc: 0.1310400366783142\n",
      "epoch: 454, loss: 3.0612364983558655, acc: 0.24824008345603943, test loss: 3.150684232711792, test acc: 0.13256001472473145\n",
      "epoch: 455, loss: 3.0612864804267885, acc: 0.2478400468826294, test loss: 3.150474183559418, test acc: 0.13016000390052795\n",
      "epoch: 456, loss: 3.061170539855957, acc: 0.24768000841140747, test loss: 3.151143593788147, test acc: 0.12999998033046722\n",
      "epoch: 457, loss: 3.0616064047813416, acc: 0.2465599626302719, test loss: 3.150752646923065, test acc: 0.13088002800941467\n",
      "epoch: 458, loss: 3.0617856431007384, acc: 0.2452000230550766, test loss: 3.151081426143646, test acc: 0.13088002800941467\n",
      "epoch: 459, loss: 3.061907460689545, acc: 0.24616001546382904, test loss: 3.1503534054756166, test acc: 0.13095997273921967\n",
      "epoch: 460, loss: 3.0612877368927003, acc: 0.24823999404907227, test loss: 3.1512554478645325, test acc: 0.1310400366783142\n",
      "epoch: 461, loss: 3.0616929936408996, acc: 0.24719999730587006, test loss: 3.1507208013534544, test acc: 0.1308799833059311\n",
      "epoch: 462, loss: 3.061376700401306, acc: 0.24583998322486877, test loss: 3.1504137325286865, test acc: 0.1311200112104416\n",
      "epoch: 463, loss: 3.061073079109192, acc: 0.24647998809814453, test loss: 3.150861868858337, test acc: 0.13008002936840057\n",
      "epoch: 464, loss: 3.0619557809829714, acc: 0.24736003577709198, test loss: 3.150355362892151, test acc: 0.13047999143600464\n",
      "epoch: 465, loss: 3.0611108326911927, acc: 0.24775995314121246, test loss: 3.150328321456909, test acc: 0.13104000687599182\n",
      "epoch: 466, loss: 3.0618217182159424, acc: 0.24768000841140747, test loss: 3.1504429054260252, test acc: 0.12992002069950104\n",
      "epoch: 467, loss: 3.062443470954895, acc: 0.24407999217510223, test loss: 3.150314209461212, test acc: 0.13256001472473145\n",
      "epoch: 468, loss: 3.061089220046997, acc: 0.24744006991386414, test loss: 3.1498870730400084, test acc: 0.13199999928474426\n",
      "epoch: 469, loss: 3.0611364579200746, acc: 0.2468799352645874, test loss: 3.1536918544769286, test acc: 0.12144000083208084\n",
      "epoch: 470, loss: 3.061476662158966, acc: 0.24736008048057556, test loss: 3.150870714187622, test acc: 0.13048000633716583\n",
      "epoch: 471, loss: 3.0612373423576353, acc: 0.24751996994018555, test loss: 3.150550808906555, test acc: 0.12984000146389008\n",
      "epoch: 472, loss: 3.061205985546112, acc: 0.24832001328468323, test loss: 3.1503382396697996, test acc: 0.13016000390052795\n",
      "epoch: 473, loss: 3.0612015962600707, acc: 0.2488800287246704, test loss: 3.1521231508255005, test acc: 0.13008001446723938\n",
      "epoch: 474, loss: 3.0611103224754332, acc: 0.24744004011154175, test loss: 3.1503860116004945, test acc: 0.13024000823497772\n",
      "epoch: 475, loss: 3.0616108536720277, acc: 0.24568000435829163, test loss: 3.150463206768036, test acc: 0.1292800009250641\n",
      "epoch: 476, loss: 3.0611125898361204, acc: 0.2475200593471527, test loss: 3.1507567095756532, test acc: 0.13208000361919403\n",
      "epoch: 477, loss: 3.061045591831207, acc: 0.2479199469089508, test loss: 3.1510215282440184, test acc: 0.12960001826286316\n",
      "epoch: 478, loss: 3.061239206790924, acc: 0.2488800436258316, test loss: 3.1511812925338747, test acc: 0.13159999251365662\n",
      "epoch: 479, loss: 3.061152529716492, acc: 0.24807998538017273, test loss: 3.151088421344757, test acc: 0.12960003316402435\n",
      "epoch: 480, loss: 3.0613130068778993, acc: 0.2480800449848175, test loss: 3.150424222946167, test acc: 0.13151998817920685\n",
      "epoch: 481, loss: 3.0612536597251894, acc: 0.24783994257450104, test loss: 3.1518785762786865, test acc: 0.13016001880168915\n",
      "epoch: 482, loss: 3.061392250061035, acc: 0.247840017080307, test loss: 3.1503872227668763, test acc: 0.1303200125694275\n",
      "epoch: 483, loss: 3.0617322278022767, acc: 0.2457600235939026, test loss: 3.1505935430526733, test acc: 0.13128001987934113\n",
      "epoch: 484, loss: 3.0607898879051207, acc: 0.25016000866889954, test loss: 3.1517886900901795, test acc: 0.13072001934051514\n",
      "epoch: 485, loss: 3.0611193013191222, acc: 0.24768000841140747, test loss: 3.1508446073532106, test acc: 0.1319199800491333\n",
      "epoch: 486, loss: 3.0610349798202514, acc: 0.2478400468826294, test loss: 3.152335865497589, test acc: 0.1225600317120552\n",
      "epoch: 487, loss: 3.0616003179550173, acc: 0.244719997048378, test loss: 3.15057311296463, test acc: 0.1303199976682663\n",
      "epoch: 488, loss: 3.06128937959671, acc: 0.24679993093013763, test loss: 3.151234791278839, test acc: 0.131600022315979\n",
      "epoch: 489, loss: 3.0612940192222595, acc: 0.24655994772911072, test loss: 3.1507454466819764, test acc: 0.13096000254154205\n",
      "epoch: 490, loss: 3.0612558197975157, acc: 0.24687999486923218, test loss: 3.1503002500534056, test acc: 0.1313600093126297\n",
      "epoch: 491, loss: 3.061459379196167, acc: 0.24743999540805817, test loss: 3.1510091423988342, test acc: 0.13143998384475708\n",
      "epoch: 492, loss: 3.060574538707733, acc: 0.24736003577709198, test loss: 3.1504653310775756, test acc: 0.13040001690387726\n",
      "epoch: 493, loss: 3.060907199382782, acc: 0.24695998430252075, test loss: 3.1506235551834108, test acc: 0.1297600120306015\n",
      "epoch: 494, loss: 3.0609683561325074, acc: 0.2487199753522873, test loss: 3.1510148859024047, test acc: 0.12960000336170197\n",
      "epoch: 495, loss: 3.061228449344635, acc: 0.2467999905347824, test loss: 3.151406316757202, test acc: 0.12984001636505127\n",
      "epoch: 496, loss: 3.061283926963806, acc: 0.24623998999595642, test loss: 3.1503991365432737, test acc: 0.1303200125694275\n",
      "epoch: 497, loss: 3.0616020917892457, acc: 0.24647998809814453, test loss: 3.1504528951644897, test acc: 0.1310400366783142\n",
      "epoch: 498, loss: 3.060991680622101, acc: 0.24728000164031982, test loss: 3.150421793460846, test acc: 0.13176003098487854\n",
      "epoch: 499, loss: 3.06089316368103, acc: 0.24816001951694489, test loss: 3.1524017071723938, test acc: 0.12184000015258789\n",
      "epoch: 500, loss: 3.06104065656662, acc: 0.2470400035381317, test loss: 3.1505218601226805, test acc: 0.13088002800941467\n",
      "epoch: 501, loss: 3.061521611213684, acc: 0.24719995260238647, test loss: 3.1501657128334046, test acc: 0.13151998817920685\n",
      "epoch: 502, loss: 3.0605846405029298, acc: 0.24792002141475677, test loss: 3.150339617729187, test acc: 0.13079999387264252\n",
      "epoch: 503, loss: 3.060925121307373, acc: 0.2465599626302719, test loss: 3.1503261160850524, test acc: 0.13016000390052795\n",
      "epoch: 504, loss: 3.0606471133232116, acc: 0.24887996912002563, test loss: 3.1502701163291933, test acc: 0.13183996081352234\n",
      "epoch: 505, loss: 3.0611154866218566, acc: 0.24743995070457458, test loss: 3.1505908131599427, test acc: 0.13079999387264252\n",
      "epoch: 506, loss: 3.061127099990845, acc: 0.24743995070457458, test loss: 3.15110791683197, test acc: 0.13168001174926758\n",
      "epoch: 507, loss: 3.061273832321167, acc: 0.24727994203567505, test loss: 3.1505290842056275, test acc: 0.13144001364707947\n",
      "epoch: 508, loss: 3.061113908290863, acc: 0.24687997996807098, test loss: 3.151390993595123, test acc: 0.12968003749847412\n",
      "epoch: 509, loss: 3.0617032408714295, acc: 0.24615997076034546, test loss: 3.1514927172660827, test acc: 0.13128000497817993\n",
      "epoch: 510, loss: 3.0608142471313475, acc: 0.24792003631591797, test loss: 3.15055614233017, test acc: 0.13176000118255615\n",
      "epoch: 511, loss: 3.0606848883628843, acc: 0.2497599720954895, test loss: 3.1512692046165465, test acc: 0.13016000390052795\n",
      "epoch: 512, loss: 3.0607896780967714, acc: 0.24703998863697052, test loss: 3.150119299888611, test acc: 0.13103996217250824\n",
      "epoch: 513, loss: 3.0612135195732115, acc: 0.24711990356445312, test loss: 3.150314965248108, test acc: 0.131600022315979\n",
      "epoch: 514, loss: 3.061893322467804, acc: 0.2449600100517273, test loss: 3.150505816936493, test acc: 0.1313600093126297\n",
      "epoch: 515, loss: 3.0610122084617615, acc: 0.24664005637168884, test loss: 3.151884665489197, test acc: 0.1313600242137909\n",
      "epoch: 516, loss: 3.0609343528747557, acc: 0.24759995937347412, test loss: 3.1507004427909853, test acc: 0.12904004752635956\n",
      "epoch: 517, loss: 3.061165125370026, acc: 0.24847999215126038, test loss: 3.1509089946746824, test acc: 0.1289600282907486\n",
      "epoch: 518, loss: 3.0612203454971314, acc: 0.24783998727798462, test loss: 3.1504717588424684, test acc: 0.13064001500606537\n",
      "epoch: 519, loss: 3.061051375865936, acc: 0.24807998538017273, test loss: 3.1506027746200562, test acc: 0.12928003072738647\n",
      "epoch: 520, loss: 3.0610309982299806, acc: 0.24752004444599152, test loss: 3.1512949419021608, test acc: 0.13104002177715302\n",
      "epoch: 521, loss: 3.061406934261322, acc: 0.24736003577709198, test loss: 3.1501222753524782, test acc: 0.1308000087738037\n",
      "epoch: 522, loss: 3.0607917976379393, acc: 0.24720008671283722, test loss: 3.1500799441337586, test acc: 0.13087999820709229\n",
      "epoch: 523, loss: 3.0604533314704896, acc: 0.247359961271286, test loss: 3.150418748855591, test acc: 0.13023999333381653\n",
      "epoch: 524, loss: 3.0605621123313904, acc: 0.2485600709915161, test loss: 3.150614607334137, test acc: 0.13095997273921967\n",
      "epoch: 525, loss: 3.061024730205536, acc: 0.24880000948905945, test loss: 3.1504561138153075, test acc: 0.13016001880168915\n",
      "epoch: 526, loss: 3.0610208392143248, acc: 0.24655994772911072, test loss: 3.1504688167572024, test acc: 0.13152000308036804\n",
      "epoch: 527, loss: 3.0609570217132567, acc: 0.24767997860908508, test loss: 3.1510523200035094, test acc: 0.13159999251365662\n",
      "epoch: 528, loss: 3.0610769891738894, acc: 0.24664001166820526, test loss: 3.151281440258026, test acc: 0.1312800496816635\n",
      "epoch: 529, loss: 3.0607374119758606, acc: 0.24880005419254303, test loss: 3.1501701164245604, test acc: 0.13087999820709229\n",
      "epoch: 530, loss: 3.061497004032135, acc: 0.24615998566150665, test loss: 3.151024158000946, test acc: 0.12928001582622528\n",
      "epoch: 531, loss: 3.0615566039085387, acc: 0.24727998673915863, test loss: 3.151059374809265, test acc: 0.13072001934051514\n",
      "epoch: 532, loss: 3.060903556346893, acc: 0.24768000841140747, test loss: 3.1503140497207642, test acc: 0.1300000101327896\n",
      "epoch: 533, loss: 3.0604720759391784, acc: 0.24855999648571014, test loss: 3.1507731437683106, test acc: 0.1306399703025818\n",
      "epoch: 534, loss: 3.0605201268196107, acc: 0.24855999648571014, test loss: 3.1507850551605223, test acc: 0.1300000250339508\n",
      "epoch: 535, loss: 3.060623490810394, acc: 0.24815993010997772, test loss: 3.1508848428726197, test acc: 0.13040000200271606\n",
      "epoch: 536, loss: 3.0606302976608277, acc: 0.24976003170013428, test loss: 3.1512310457229615, test acc: 0.13144002854824066\n",
      "epoch: 537, loss: 3.0611054420471193, acc: 0.24800001084804535, test loss: 3.150650987625122, test acc: 0.13048000633716583\n",
      "epoch: 538, loss: 3.060433197021484, acc: 0.2487199604511261, test loss: 3.1514180397987364, test acc: 0.12960000336170197\n",
      "epoch: 539, loss: 3.0611328148841856, acc: 0.24792003631591797, test loss: 3.1504519248008727, test acc: 0.13127997517585754\n",
      "epoch: 540, loss: 3.0604775857925417, acc: 0.24807998538017273, test loss: 3.151172676086426, test acc: 0.1300000250339508\n",
      "epoch: 541, loss: 3.060868833065033, acc: 0.24679996073246002, test loss: 3.1508289480209353, test acc: 0.13072003424167633\n",
      "epoch: 542, loss: 3.060629680156708, acc: 0.24935995042324066, test loss: 3.1506681132316587, test acc: 0.13104000687599182\n",
      "epoch: 543, loss: 3.06045645236969, acc: 0.24928003549575806, test loss: 3.150170774459839, test acc: 0.13112005591392517\n",
      "epoch: 544, loss: 3.061112916469574, acc: 0.2462400197982788, test loss: 3.1509868192672728, test acc: 0.13104000687599182\n",
      "epoch: 545, loss: 3.0605713653564455, acc: 0.25079992413520813, test loss: 3.1509816908836363, test acc: 0.13151998817920685\n",
      "epoch: 546, loss: 3.0606304383277894, acc: 0.2486400008201599, test loss: 3.1502341055870056, test acc: 0.1311199963092804\n",
      "epoch: 547, loss: 3.060467038154602, acc: 0.2485600709915161, test loss: 3.1510906505584715, test acc: 0.13104002177715302\n",
      "epoch: 548, loss: 3.0610191559791566, acc: 0.2478400021791458, test loss: 3.150471124649048, test acc: 0.13120000064373016\n",
      "epoch: 549, loss: 3.0605772137641907, acc: 0.24872002005577087, test loss: 3.1503589582443237, test acc: 0.13064004480838776\n",
      "epoch: 550, loss: 3.0606589412689207, acc: 0.24776002764701843, test loss: 3.150417730808258, test acc: 0.1303200125694275\n",
      "epoch: 551, loss: 3.061366310119629, acc: 0.2487998902797699, test loss: 3.1507081174850464, test acc: 0.13087999820709229\n",
      "epoch: 552, loss: 3.060633673667908, acc: 0.24896003305912018, test loss: 3.150925238132477, test acc: 0.130560040473938\n",
      "epoch: 553, loss: 3.0607798528671264, acc: 0.2467999905347824, test loss: 3.150503568649292, test acc: 0.1305600106716156\n",
      "epoch: 554, loss: 3.0609107065200805, acc: 0.24967992305755615, test loss: 3.1505250787734984, test acc: 0.12992002069950104\n",
      "epoch: 555, loss: 3.0603300023078917, acc: 0.24856002628803253, test loss: 3.1505894470214844, test acc: 0.1303200125694275\n",
      "epoch: 556, loss: 3.0604166078567503, acc: 0.25008001923561096, test loss: 3.1515204882621766, test acc: 0.1313600093126297\n",
      "epoch: 557, loss: 3.060582320690155, acc: 0.2478400021791458, test loss: 3.1505543613433837, test acc: 0.13063998520374298\n",
      "epoch: 558, loss: 3.060323612689972, acc: 0.2491999864578247, test loss: 3.1506397342681884, test acc: 0.13152000308036804\n",
      "epoch: 559, loss: 3.0608956718444826, acc: 0.24855999648571014, test loss: 3.151115190982819, test acc: 0.13128003478050232\n",
      "epoch: 560, loss: 3.060816090106964, acc: 0.24935999512672424, test loss: 3.1505012702941895, test acc: 0.13040001690387726\n",
      "epoch: 561, loss: 3.060627586841583, acc: 0.24855999648571014, test loss: 3.1512399673461915, test acc: 0.12848003208637238\n",
      "epoch: 562, loss: 3.0605113387107847, acc: 0.2495199739933014, test loss: 3.1503441739082336, test acc: 0.13032002747058868\n",
      "epoch: 563, loss: 3.060968873500824, acc: 0.2481599748134613, test loss: 3.150697090625763, test acc: 0.1313600242137909\n",
      "epoch: 564, loss: 3.06057954788208, acc: 0.2487199604511261, test loss: 3.1511260962486265, test acc: 0.13128001987934113\n",
      "epoch: 565, loss: 3.0603754544258117, acc: 0.24952007830142975, test loss: 3.150543124675751, test acc: 0.13200002908706665\n",
      "epoch: 566, loss: 3.0602143931388857, acc: 0.24943996965885162, test loss: 3.150318648815155, test acc: 0.13103999197483063\n",
      "epoch: 567, loss: 3.060843164920807, acc: 0.24784007668495178, test loss: 3.1503643584251404, test acc: 0.1313600093126297\n",
      "epoch: 568, loss: 3.0605461621284484, acc: 0.24832001328468323, test loss: 3.151091015338898, test acc: 0.1308000087738037\n",
      "epoch: 569, loss: 3.0602766466140747, acc: 0.2492000162601471, test loss: 3.1506029772758484, test acc: 0.13176001608371735\n",
      "epoch: 570, loss: 3.0605793380737305, acc: 0.24848002195358276, test loss: 3.150899555683136, test acc: 0.13072000443935394\n",
      "epoch: 571, loss: 3.0607388114929197, acc: 0.24823999404907227, test loss: 3.1505594873428344, test acc: 0.12968000769615173\n",
      "epoch: 572, loss: 3.0602744007110596, acc: 0.2501600384712219, test loss: 3.150881145000458, test acc: 0.1297600120306015\n",
      "epoch: 573, loss: 3.060854082107544, acc: 0.2476000040769577, test loss: 3.150406219959259, test acc: 0.13024002313613892\n",
      "epoch: 574, loss: 3.0600071692466737, acc: 0.24799995124340057, test loss: 3.1541421031951904, test acc: 0.12160000950098038\n",
      "epoch: 575, loss: 3.06098717212677, acc: 0.24688005447387695, test loss: 3.150606291294098, test acc: 0.13096000254154205\n",
      "epoch: 576, loss: 3.0602971649169923, acc: 0.24776007235050201, test loss: 3.150669596195221, test acc: 0.13104002177715302\n",
      "epoch: 577, loss: 3.0609326577186584, acc: 0.2473600059747696, test loss: 3.1502804160118103, test acc: 0.13152001798152924\n",
      "epoch: 578, loss: 3.059797134399414, acc: 0.24872004985809326, test loss: 3.153034918308258, test acc: 0.12088005989789963\n",
      "epoch: 579, loss: 3.0607592606544496, acc: 0.24768000841140747, test loss: 3.151630024909973, test acc: 0.12912000715732574\n",
      "epoch: 580, loss: 3.060573420524597, acc: 0.249519944190979, test loss: 3.1508898377418517, test acc: 0.13040001690387726\n",
      "epoch: 581, loss: 3.0602025604248047, acc: 0.24952004849910736, test loss: 3.1523554849624635, test acc: 0.12168002128601074\n",
      "epoch: 582, loss: 3.0615496134757993, acc: 0.24560000002384186, test loss: 3.1511893582344057, test acc: 0.12936000525951385\n",
      "epoch: 583, loss: 3.0611322593688963, acc: 0.24824005365371704, test loss: 3.150676290988922, test acc: 0.1297600120306015\n",
      "epoch: 584, loss: 3.0606407952308654, acc: 0.2478400021791458, test loss: 3.1519763588905336, test acc: 0.13064004480838776\n",
      "epoch: 585, loss: 3.0605048727989197, acc: 0.2495199739933014, test loss: 3.150512888431549, test acc: 0.13176001608371735\n",
      "epoch: 586, loss: 3.0603221654891968, acc: 0.24904006719589233, test loss: 3.1505567765235902, test acc: 0.13176001608371735\n",
      "epoch: 587, loss: 3.0600540709495543, acc: 0.2495199739933014, test loss: 3.150247371196747, test acc: 0.13176001608371735\n",
      "epoch: 588, loss: 3.0603031754493712, acc: 0.24792003631591797, test loss: 3.1506260561943056, test acc: 0.13096001744270325\n",
      "epoch: 589, loss: 3.059338972568512, acc: 0.24952000379562378, test loss: 3.150188705921173, test acc: 0.13144001364707947\n",
      "epoch: 590, loss: 3.0603055906295777, acc: 0.24839994311332703, test loss: 3.1512986540794374, test acc: 0.13024002313613892\n",
      "epoch: 591, loss: 3.0603747010231017, acc: 0.24960005283355713, test loss: 3.1503202509880066, test acc: 0.13104002177715302\n",
      "epoch: 592, loss: 3.060485098361969, acc: 0.25071996450424194, test loss: 3.150989148616791, test acc: 0.13032002747058868\n",
      "epoch: 593, loss: 3.0601975989341734, acc: 0.24896006286144257, test loss: 3.150419523715973, test acc: 0.13047997653484344\n",
      "epoch: 594, loss: 3.0605342102050783, acc: 0.24983997642993927, test loss: 3.1507487082481385, test acc: 0.13167999684810638\n",
      "epoch: 595, loss: 3.060516002178192, acc: 0.24832004308700562, test loss: 3.1513237309455873, test acc: 0.13096000254154205\n",
      "epoch: 596, loss: 3.060066783428192, acc: 0.24880002439022064, test loss: 3.1510255765914916, test acc: 0.12960000336170197\n",
      "epoch: 597, loss: 3.060144443511963, acc: 0.25, test loss: 3.1507854533195494, test acc: 0.12952002882957458\n",
      "epoch: 598, loss: 3.060248019695282, acc: 0.2492000013589859, test loss: 3.1501774525642396, test acc: 0.13120001554489136\n",
      "epoch: 599, loss: 3.0604388427734377, acc: 0.24984003603458405, test loss: 3.150866165161133, test acc: 0.1313599944114685\n",
      "epoch: 600, loss: 3.0599170684814454, acc: 0.24911998212337494, test loss: 3.150564742088318, test acc: 0.13040003180503845\n",
      "epoch: 601, loss: 3.060728681087494, acc: 0.24880005419254303, test loss: 3.150871686935425, test acc: 0.13112002611160278\n",
      "epoch: 602, loss: 3.0599711751937866, acc: 0.2492799609899521, test loss: 3.151142816543579, test acc: 0.13032004237174988\n",
      "epoch: 603, loss: 3.0598773431777953, acc: 0.250480055809021, test loss: 3.151115982532501, test acc: 0.13088002800941467\n",
      "epoch: 604, loss: 3.0602986311912534, acc: 0.24952001869678497, test loss: 3.1501187896728515, test acc: 0.1324000060558319\n",
      "epoch: 605, loss: 3.0601309013366698, acc: 0.2502399682998657, test loss: 3.150891146659851, test acc: 0.1305599808692932\n",
      "epoch: 606, loss: 3.0601117777824403, acc: 0.2470400035381317, test loss: 3.1512814497947694, test acc: 0.13016003370285034\n",
      "epoch: 607, loss: 3.0606318593025206, acc: 0.2485600858926773, test loss: 3.1503491520881655, test acc: 0.13168001174926758\n",
      "epoch: 608, loss: 3.0603856539726255, acc: 0.24991996586322784, test loss: 3.151207540035248, test acc: 0.13144001364707947\n",
      "epoch: 609, loss: 3.0600140619277956, acc: 0.2489599734544754, test loss: 3.149937679767609, test acc: 0.1313600093126297\n",
      "epoch: 610, loss: 3.060132203102112, acc: 0.24848003685474396, test loss: 3.1506652283668517, test acc: 0.12968005239963531\n",
      "epoch: 611, loss: 3.0602083897590635, acc: 0.25016000866889954, test loss: 3.150483479499817, test acc: 0.1308000236749649\n",
      "epoch: 612, loss: 3.059760048389435, acc: 0.2503200173377991, test loss: 3.150605103969574, test acc: 0.13208000361919403\n",
      "epoch: 613, loss: 3.060223848819733, acc: 0.24927997589111328, test loss: 3.151177101135254, test acc: 0.13144001364707947\n",
      "epoch: 614, loss: 3.060145378112793, acc: 0.24824003875255585, test loss: 3.1504051542282103, test acc: 0.13096000254154205\n",
      "epoch: 615, loss: 3.060168035030365, acc: 0.24720001220703125, test loss: 3.1508455801010133, test acc: 0.12960000336170197\n",
      "epoch: 616, loss: 3.060263102054596, acc: 0.24888008832931519, test loss: 3.150881905555725, test acc: 0.13143999874591827\n",
      "epoch: 617, loss: 3.0600340270996096, acc: 0.2493600696325302, test loss: 3.1503750038146974, test acc: 0.1311199963092804\n",
      "epoch: 618, loss: 3.059873445034027, acc: 0.25015994906425476, test loss: 3.1509619545936585, test acc: 0.12895998358726501\n",
      "epoch: 619, loss: 3.0605173563957213, acc: 0.24991998076438904, test loss: 3.1506191301345825, test acc: 0.13168001174926758\n",
      "epoch: 620, loss: 3.0606044149398803, acc: 0.24775996804237366, test loss: 3.151198031902313, test acc: 0.13264000415802002\n",
      "epoch: 621, loss: 3.0600066328048707, acc: 0.25016000866889954, test loss: 3.150661222934723, test acc: 0.13016000390052795\n",
      "epoch: 622, loss: 3.0606727981567383, acc: 0.24632002413272858, test loss: 3.150604703426361, test acc: 0.13040001690387726\n",
      "epoch: 623, loss: 3.059948229789734, acc: 0.24839994311332703, test loss: 3.150375471115112, test acc: 0.13032005727291107\n",
      "epoch: 624, loss: 3.060233495235443, acc: 0.24912001192569733, test loss: 3.1527712297439576, test acc: 0.13032004237174988\n",
      "epoch: 625, loss: 3.0602026271820066, acc: 0.24895994365215302, test loss: 3.1524521493911744, test acc: 0.1225600317120552\n",
      "epoch: 626, loss: 3.0603715705871584, acc: 0.2480800300836563, test loss: 3.1504868364334104, test acc: 0.12992002069950104\n",
      "epoch: 627, loss: 3.0598416209220884, acc: 0.2504799962043762, test loss: 3.15100825548172, test acc: 0.12880000472068787\n",
      "epoch: 628, loss: 3.060263006687164, acc: 0.24960000813007355, test loss: 3.1504484605789185, test acc: 0.13040000200271606\n",
      "epoch: 629, loss: 3.0600025939941404, acc: 0.24968008697032928, test loss: 3.150893044471741, test acc: 0.1313599944114685\n",
      "epoch: 630, loss: 3.0600989985466005, acc: 0.24823997914791107, test loss: 3.151147015094757, test acc: 0.13016000390052795\n",
      "epoch: 631, loss: 3.0597012352943422, acc: 0.2476799637079239, test loss: 3.1513589239120483, test acc: 0.12903998792171478\n",
      "epoch: 632, loss: 3.0605445432662965, acc: 0.24664001166820526, test loss: 3.1509250354766847, test acc: 0.13151997327804565\n",
      "epoch: 633, loss: 3.0603478169441223, acc: 0.24783998727798462, test loss: 3.15014408826828, test acc: 0.1313600242137909\n",
      "epoch: 634, loss: 3.0610203456878664, acc: 0.24496003985404968, test loss: 3.1508365511894225, test acc: 0.1305600106716156\n",
      "epoch: 635, loss: 3.0602339792251585, acc: 0.2476799637079239, test loss: 3.151493475437164, test acc: 0.13096001744270325\n",
      "epoch: 636, loss: 3.0597620224952697, acc: 0.24928003549575806, test loss: 3.150521819591522, test acc: 0.13032005727291107\n",
      "epoch: 637, loss: 3.060186789035797, acc: 0.24967998266220093, test loss: 3.151739263534546, test acc: 0.1316000074148178\n",
      "epoch: 638, loss: 3.060587317943573, acc: 0.24927997589111328, test loss: 3.1506389689445498, test acc: 0.12984001636505127\n",
      "epoch: 639, loss: 3.059865863323212, acc: 0.25008001923561096, test loss: 3.151887986660004, test acc: 0.12936002016067505\n",
      "epoch: 640, loss: 3.059994065761566, acc: 0.2508000433444977, test loss: 3.1505421018600464, test acc: 0.1311199963092804\n",
      "epoch: 641, loss: 3.059715118408203, acc: 0.2502399682998657, test loss: 3.1501524567604067, test acc: 0.13096003234386444\n",
      "epoch: 642, loss: 3.059639849662781, acc: 0.2513599693775177, test loss: 3.1509552359580995, test acc: 0.12968003749847412\n",
      "epoch: 643, loss: 3.0608908867836, acc: 0.24744001030921936, test loss: 3.150865707397461, test acc: 0.13008001446723938\n",
      "epoch: 644, loss: 3.0597887659072875, acc: 0.24823999404907227, test loss: 3.1508814120292663, test acc: 0.1297599822282791\n",
      "epoch: 645, loss: 3.0599674725532533, acc: 0.24903999269008636, test loss: 3.151822884082794, test acc: 0.13112002611160278\n",
      "epoch: 646, loss: 3.0601493239402773, acc: 0.24728000164031982, test loss: 3.151454975605011, test acc: 0.1308000087738037\n",
      "epoch: 647, loss: 3.060289790630341, acc: 0.24807998538017273, test loss: 3.1504458713531496, test acc: 0.1305600106716156\n",
      "epoch: 648, loss: 3.0597809743881226, acc: 0.25071999430656433, test loss: 3.150921242237091, test acc: 0.13159999251365662\n",
      "epoch: 649, loss: 3.059718554019928, acc: 0.24935996532440186, test loss: 3.1506109642982483, test acc: 0.13143999874591827\n",
      "epoch: 650, loss: 3.059944612979889, acc: 0.24991996586322784, test loss: 3.150934054851532, test acc: 0.1306399703025818\n",
      "epoch: 651, loss: 3.0601581025123594, acc: 0.2492000162601471, test loss: 3.1503525400161743, test acc: 0.13072000443935394\n",
      "epoch: 652, loss: 3.0603705525398253, acc: 0.24719999730587006, test loss: 3.1527698683738707, test acc: 0.12208004295825958\n",
      "epoch: 653, loss: 3.0596190333366393, acc: 0.25112006068229675, test loss: 3.151377339363098, test acc: 0.13264000415802002\n",
      "epoch: 654, loss: 3.0603849148750304, acc: 0.24807998538017273, test loss: 3.1497183203697205, test acc: 0.131600022315979\n",
      "epoch: 655, loss: 3.060090765953064, acc: 0.24855999648571014, test loss: 3.1514595079422, test acc: 0.13151998817920685\n",
      "epoch: 656, loss: 3.0601906251907347, acc: 0.24992002546787262, test loss: 3.1505564045906067, test acc: 0.1316000074148178\n",
      "epoch: 657, loss: 3.0598087525367736, acc: 0.24936003983020782, test loss: 3.1509082174301146, test acc: 0.12904001772403717\n",
      "epoch: 658, loss: 3.059859502315521, acc: 0.24863998591899872, test loss: 3.150465087890625, test acc: 0.13048000633716583\n",
      "epoch: 659, loss: 3.0601340436935427, acc: 0.2489599734544754, test loss: 3.150799388885498, test acc: 0.13112002611160278\n",
      "epoch: 660, loss: 3.0596597933769227, acc: 0.24911995232105255, test loss: 3.1506787657737734, test acc: 0.12952002882957458\n",
      "epoch: 661, loss: 3.0594566011428834, acc: 0.24992002546787262, test loss: 3.151580820083618, test acc: 0.13088002800941467\n",
      "epoch: 662, loss: 3.0596258568763735, acc: 0.25032004714012146, test loss: 3.1526987171173095, test acc: 0.13071998953819275\n",
      "epoch: 663, loss: 3.0600655269622803, acc: 0.24911998212337494, test loss: 3.1503893899917603, test acc: 0.13040000200271606\n",
      "epoch: 664, loss: 3.0598841166496276, acc: 0.25088003277778625, test loss: 3.1508055186271666, test acc: 0.13104002177715302\n",
      "epoch: 665, loss: 3.059654507637024, acc: 0.24848003685474396, test loss: 3.1510612082481386, test acc: 0.13176000118255615\n",
      "epoch: 666, loss: 3.059695072174072, acc: 0.2507999837398529, test loss: 3.150772953033447, test acc: 0.13024002313613892\n",
      "epoch: 667, loss: 3.059926655292511, acc: 0.24887999892234802, test loss: 3.1508667826652528, test acc: 0.12952002882957458\n",
      "epoch: 668, loss: 3.0600108432769777, acc: 0.24919992685317993, test loss: 3.150583555698395, test acc: 0.13048003613948822\n",
      "epoch: 669, loss: 3.06066987991333, acc: 0.24720002710819244, test loss: 3.1511577486991884, test acc: 0.13087999820709229\n",
      "epoch: 670, loss: 3.0594088053703308, acc: 0.25056004524230957, test loss: 3.1506338691711426, test acc: 0.13040001690387726\n",
      "epoch: 671, loss: 3.060105526447296, acc: 0.24816001951694489, test loss: 3.150489614009857, test acc: 0.13168001174926758\n",
      "epoch: 672, loss: 3.060103006362915, acc: 0.2476000040769577, test loss: 3.15074471950531, test acc: 0.13103999197483063\n",
      "epoch: 673, loss: 3.0602533650398254, acc: 0.2502399682998657, test loss: 3.150353684425354, test acc: 0.13024000823497772\n",
      "epoch: 674, loss: 3.0600287747383117, acc: 0.24976003170013428, test loss: 3.15066775560379, test acc: 0.1308000236749649\n",
      "epoch: 675, loss: 3.0600644636154173, acc: 0.2496800422668457, test loss: 3.150847895145416, test acc: 0.13008001446723938\n",
      "epoch: 676, loss: 3.0598392629623414, acc: 0.24927997589111328, test loss: 3.1513474440574645, test acc: 0.13128001987934113\n",
      "epoch: 677, loss: 3.060250129699707, acc: 0.24992001056671143, test loss: 3.150825979709625, test acc: 0.131600022315979\n",
      "epoch: 678, loss: 3.059574625492096, acc: 0.24920004606246948, test loss: 3.1508090901374817, test acc: 0.13144002854824066\n",
      "epoch: 679, loss: 3.05995397567749, acc: 0.24935999512672424, test loss: 3.1508407187461853, test acc: 0.13007999956607819\n",
      "epoch: 680, loss: 3.059625949859619, acc: 0.25040003657341003, test loss: 3.1512834143638613, test acc: 0.13183999061584473\n",
      "epoch: 681, loss: 3.0595454502105714, acc: 0.24856002628803253, test loss: 3.1512060737609864, test acc: 0.13184000551700592\n",
      "epoch: 682, loss: 3.059680473804474, acc: 0.24991998076438904, test loss: 3.1507062482833863, test acc: 0.13088002800941467\n",
      "epoch: 683, loss: 3.0596142482757567, acc: 0.25056007504463196, test loss: 3.1510966515541075, test acc: 0.13112004101276398\n",
      "epoch: 684, loss: 3.059566261768341, acc: 0.2515200078487396, test loss: 3.151115365028381, test acc: 0.13128000497817993\n",
      "epoch: 685, loss: 3.0598477220535276, acc: 0.24983996152877808, test loss: 3.1510748934745787, test acc: 0.13151998817920685\n",
      "epoch: 686, loss: 3.0598850274086, acc: 0.24976001679897308, test loss: 3.1508097553253176, test acc: 0.1313599944114685\n",
      "epoch: 687, loss: 3.0596916246414185, acc: 0.24744005501270294, test loss: 3.1510372281074526, test acc: 0.13040003180503845\n",
      "epoch: 688, loss: 3.0600665831565856, acc: 0.24928003549575806, test loss: 3.150937650203705, test acc: 0.13104000687599182\n",
      "epoch: 689, loss: 3.059630289077759, acc: 0.25071999430656433, test loss: 3.150729856491089, test acc: 0.12960003316402435\n",
      "epoch: 690, loss: 3.060031545162201, acc: 0.2496800422668457, test loss: 3.1506403255462647, test acc: 0.12960000336170197\n",
      "epoch: 691, loss: 3.059478554725647, acc: 0.2488800287246704, test loss: 3.151162006855011, test acc: 0.13096001744270325\n",
      "epoch: 692, loss: 3.0595993494987486, acc: 0.24768000841140747, test loss: 3.1509570193290712, test acc: 0.13040001690387726\n",
      "epoch: 693, loss: 3.0597835087776186, acc: 0.24816001951694489, test loss: 3.1504165148735046, test acc: 0.13096003234386444\n",
      "epoch: 694, loss: 3.0596685671806334, acc: 0.24824003875255585, test loss: 3.152318103313446, test acc: 0.12888003885746002\n",
      "epoch: 695, loss: 3.059476079940796, acc: 0.2496800422668457, test loss: 3.1507171511650087, test acc: 0.1319200098514557\n",
      "epoch: 696, loss: 3.0597237229347227, acc: 0.24952001869678497, test loss: 3.1505993676185606, test acc: 0.13096000254154205\n",
      "epoch: 697, loss: 3.0593139123916626, acc: 0.25039997696876526, test loss: 3.1510005497932436, test acc: 0.13128003478050232\n",
      "epoch: 698, loss: 3.0595903611183166, acc: 0.2494400441646576, test loss: 3.150954897403717, test acc: 0.12992005050182343\n",
      "epoch: 699, loss: 3.0599374771118164, acc: 0.2486400008201599, test loss: 3.1507097721099853, test acc: 0.12952002882957458\n",
      "epoch: 700, loss: 3.059969503879547, acc: 0.24896003305912018, test loss: 3.1506010413169863, test acc: 0.1319200098514557\n",
      "epoch: 701, loss: 3.059289343357086, acc: 0.25088009238243103, test loss: 3.1516762137413026, test acc: 0.13047999143600464\n",
      "epoch: 702, loss: 3.0609703612327577, acc: 0.2463199645280838, test loss: 3.1515424394607545, test acc: 0.12359999865293503\n",
      "epoch: 703, loss: 3.0597776889801027, acc: 0.24967998266220093, test loss: 3.1507252192497255, test acc: 0.13104000687599182\n",
      "epoch: 704, loss: 3.0596500706672667, acc: 0.2500000298023224, test loss: 3.1509111022949217, test acc: 0.13167999684810638\n",
      "epoch: 705, loss: 3.059617645740509, acc: 0.24816009402275085, test loss: 3.1503308963775636, test acc: 0.13256002962589264\n",
      "epoch: 706, loss: 3.0597435307502745, acc: 0.25, test loss: 3.1531393909454346, test acc: 0.12160000950098038\n",
      "epoch: 707, loss: 3.061186120510101, acc: 0.2463199645280838, test loss: 3.1504689717292784, test acc: 0.13040000200271606\n",
      "epoch: 708, loss: 3.0596158623695375, acc: 0.25080010294914246, test loss: 3.150891125202179, test acc: 0.1308000236749649\n",
      "epoch: 709, loss: 3.0595138907432555, acc: 0.24887996912002563, test loss: 3.1507236480712892, test acc: 0.13159999251365662\n",
      "epoch: 710, loss: 3.0598512387275694, acc: 0.24927999079227448, test loss: 3.150842306613922, test acc: 0.13120003044605255\n",
      "epoch: 711, loss: 3.0592591857910154, acc: 0.24967999756336212, test loss: 3.15175822019577, test acc: 0.1295199990272522\n",
      "epoch: 712, loss: 3.059690568447113, acc: 0.24919994175434113, test loss: 3.1505301356315614, test acc: 0.13096003234386444\n",
      "epoch: 713, loss: 3.0596064639091494, acc: 0.25071999430656433, test loss: 3.1506795835494996, test acc: 0.1313599944114685\n",
      "epoch: 714, loss: 3.0598704862594603, acc: 0.24816006422042847, test loss: 3.1507039999961854, test acc: 0.12992002069950104\n",
      "epoch: 715, loss: 3.0592246651649475, acc: 0.250639945268631, test loss: 3.150842866897583, test acc: 0.13127999007701874\n",
      "epoch: 716, loss: 3.0596748208999633, acc: 0.25096002221107483, test loss: 3.1504444909095763, test acc: 0.13199999928474426\n",
      "epoch: 717, loss: 3.059662480354309, acc: 0.24743995070457458, test loss: 3.1512488985061644, test acc: 0.132160022854805\n",
      "epoch: 718, loss: 3.0597998476028443, acc: 0.2470400631427765, test loss: 3.150783920288086, test acc: 0.13120001554489136\n",
      "epoch: 719, loss: 3.059973692893982, acc: 0.24800005555152893, test loss: 3.1506608080863954, test acc: 0.12991999089717865\n",
      "epoch: 720, loss: 3.0592221283912657, acc: 0.25032004714012146, test loss: 3.1520187783241274, test acc: 0.12960000336170197\n",
      "epoch: 721, loss: 3.0596909308433533, acc: 0.24903997778892517, test loss: 3.151641764640808, test acc: 0.13120001554489136\n",
      "epoch: 722, loss: 3.059566123485565, acc: 0.24880006909370422, test loss: 3.1508858752250672, test acc: 0.13103997707366943\n",
      "epoch: 723, loss: 3.0598383712768555, acc: 0.24896003305912018, test loss: 3.1508779907226563, test acc: 0.1305599957704544\n",
      "epoch: 724, loss: 3.059975986480713, acc: 0.2504799962043762, test loss: 3.150947334766388, test acc: 0.1297600269317627\n",
      "epoch: 725, loss: 3.0592544174194334, acc: 0.2505600154399872, test loss: 3.1506618571281435, test acc: 0.12992003560066223\n",
      "epoch: 726, loss: 3.059733076095581, acc: 0.24856002628803253, test loss: 3.15094167470932, test acc: 0.12879997491836548\n",
      "epoch: 727, loss: 3.0593668389320374, acc: 0.24976001679897308, test loss: 3.1512346482276916, test acc: 0.13231998682022095\n",
      "epoch: 728, loss: 3.059265093803406, acc: 0.25032004714012146, test loss: 3.150719172954559, test acc: 0.131600022315979\n",
      "epoch: 729, loss: 3.0596421694755556, acc: 0.25016000866889954, test loss: 3.1509261608123778, test acc: 0.13048002123832703\n",
      "epoch: 730, loss: 3.0592202949523926, acc: 0.2504799962043762, test loss: 3.151048221588135, test acc: 0.13159999251365662\n",
      "epoch: 731, loss: 3.059374668598175, acc: 0.24920004606246948, test loss: 3.151698694229126, test acc: 0.13088002800941467\n",
      "epoch: 732, loss: 3.0594239234924316, acc: 0.24992002546787262, test loss: 3.1507285332679746, test acc: 0.13048000633716583\n",
      "epoch: 733, loss: 3.058989622592926, acc: 0.2520800530910492, test loss: 3.151242253780365, test acc: 0.1313599944114685\n",
      "epoch: 734, loss: 3.0595409893989562, acc: 0.2504800260066986, test loss: 3.151462986469269, test acc: 0.1303200125694275\n",
      "epoch: 735, loss: 3.0600126695632937, acc: 0.24999994039535522, test loss: 3.1504221820831297, test acc: 0.13127999007701874\n",
      "epoch: 736, loss: 3.0594553327560425, acc: 0.24984008073806763, test loss: 3.150456988811493, test acc: 0.13176000118255615\n",
      "epoch: 737, loss: 3.0593562841415407, acc: 0.24952000379562378, test loss: 3.150518741607666, test acc: 0.131600022315979\n",
      "epoch: 738, loss: 3.059455668926239, acc: 0.24959999322891235, test loss: 3.15183274269104, test acc: 0.12991999089717865\n",
      "epoch: 739, loss: 3.0599136686325075, acc: 0.24799995124340057, test loss: 3.1513233971595764, test acc: 0.1324799656867981\n",
      "epoch: 740, loss: 3.0596662640571592, acc: 0.2488800436258316, test loss: 3.150790860652924, test acc: 0.13104000687599182\n",
      "epoch: 741, loss: 3.0599739837646482, acc: 0.248400017619133, test loss: 3.1504340386390686, test acc: 0.13223999738693237\n",
      "epoch: 742, loss: 3.059377133846283, acc: 0.24983999133110046, test loss: 3.1506291103363036, test acc: 0.13016003370285034\n",
      "epoch: 743, loss: 3.0600218868255613, acc: 0.24855999648571014, test loss: 3.1516203689575195, test acc: 0.13263998925685883\n",
      "epoch: 744, loss: 3.0595826745033263, acc: 0.2503200173377991, test loss: 3.150801601409912, test acc: 0.1300799697637558\n",
      "epoch: 745, loss: 3.0594557332992554, acc: 0.25016000866889954, test loss: 3.1506819772720336, test acc: 0.13120004534721375\n",
      "epoch: 746, loss: 3.059399974346161, acc: 0.2492000162601471, test loss: 3.1508415937423706, test acc: 0.13112002611160278\n",
      "epoch: 747, loss: 3.059269826412201, acc: 0.24959994852542877, test loss: 3.1510856318473817, test acc: 0.13071998953819275\n",
      "epoch: 748, loss: 3.0594452023506165, acc: 0.24952003359794617, test loss: 3.1514412689208986, test acc: 0.13104000687599182\n",
      "epoch: 749, loss: 3.059345223903656, acc: 0.2497600018978119, test loss: 3.151365396976471, test acc: 0.13016000390052795\n",
      "epoch: 750, loss: 3.0595734786987303, acc: 0.24967998266220093, test loss: 3.1509020566940307, test acc: 0.13024000823497772\n",
      "epoch: 751, loss: 3.0595632719993593, acc: 0.24896006286144257, test loss: 3.150599160194397, test acc: 0.13088001310825348\n",
      "epoch: 752, loss: 3.060092132091522, acc: 0.248400017619133, test loss: 3.1507178211212157, test acc: 0.1303200125694275\n",
      "epoch: 753, loss: 3.059300813674927, acc: 0.2486400008201599, test loss: 3.150532531738281, test acc: 0.13040001690387726\n",
      "epoch: 754, loss: 3.0595440030097962, acc: 0.24943993985652924, test loss: 3.1513625288009646, test acc: 0.12936002016067505\n",
      "epoch: 755, loss: 3.059320511817932, acc: 0.2496800422668457, test loss: 3.150436723232269, test acc: 0.13008002936840057\n",
      "epoch: 756, loss: 3.059309482574463, acc: 0.24896001815795898, test loss: 3.1505656957626345, test acc: 0.13176000118255615\n",
      "epoch: 757, loss: 3.059165127277374, acc: 0.24936003983020782, test loss: 3.1511565494537352, test acc: 0.12832002341747284\n",
      "epoch: 758, loss: 3.059257619380951, acc: 0.2499200701713562, test loss: 3.151237921714783, test acc: 0.1303199976682663\n",
      "epoch: 759, loss: 3.059299261569977, acc: 0.25008001923561096, test loss: 3.1506339573860167, test acc: 0.1300000101327896\n",
      "epoch: 760, loss: 3.0591707396507264, acc: 0.2499999850988388, test loss: 3.151389284133911, test acc: 0.13119998574256897\n",
      "epoch: 761, loss: 3.0591740655899047, acc: 0.25119999051094055, test loss: 3.15087837934494, test acc: 0.1303200125694275\n",
      "epoch: 762, loss: 3.059464373588562, acc: 0.2487199604511261, test loss: 3.1511491537094116, test acc: 0.13096000254154205\n",
      "epoch: 763, loss: 3.0592667150497435, acc: 0.2501600384712219, test loss: 3.150861592292786, test acc: 0.13055996596813202\n",
      "epoch: 764, loss: 3.0594844007492066, acc: 0.24863991141319275, test loss: 3.1509763598442078, test acc: 0.13096000254154205\n",
      "epoch: 765, loss: 3.0593395972251893, acc: 0.24919995665550232, test loss: 3.150927255153656, test acc: 0.130079984664917\n",
      "epoch: 766, loss: 3.0591197276115416, acc: 0.24976003170013428, test loss: 3.1502892708778383, test acc: 0.13144004344940186\n",
      "epoch: 767, loss: 3.059691963195801, acc: 0.2489599734544754, test loss: 3.151948034763336, test acc: 0.12848000228405\n",
      "epoch: 768, loss: 3.0594929313659667, acc: 0.24887999892234802, test loss: 3.1504323744773863, test acc: 0.13079999387264252\n",
      "epoch: 769, loss: 3.0591324591636657, acc: 0.25032007694244385, test loss: 3.1506896162033082, test acc: 0.12991999089717865\n",
      "epoch: 770, loss: 3.0597948932647707, acc: 0.24768005311489105, test loss: 3.1512747502326963, test acc: 0.13128000497817993\n",
      "epoch: 771, loss: 3.059330186843872, acc: 0.24927999079227448, test loss: 3.1506575894355775, test acc: 0.13064001500606537\n",
      "epoch: 772, loss: 3.0593773460388185, acc: 0.24783994257450104, test loss: 3.1507149267196657, test acc: 0.12943997979164124\n",
      "epoch: 773, loss: 3.0592298460006715, acc: 0.2501600682735443, test loss: 3.151224339008331, test acc: 0.13200001418590546\n",
      "epoch: 774, loss: 3.0591799354553224, acc: 0.25064000487327576, test loss: 3.151665298938751, test acc: 0.13032002747058868\n",
      "epoch: 775, loss: 3.0594619846343996, acc: 0.25015997886657715, test loss: 3.1507859015464783, test acc: 0.1308000236749649\n",
      "epoch: 776, loss: 3.059524359703064, acc: 0.24984006583690643, test loss: 3.1511800599098208, test acc: 0.12959998846054077\n",
      "epoch: 777, loss: 3.05995719909668, acc: 0.24831998348236084, test loss: 3.1512053871154784, test acc: 0.12991999089717865\n",
      "epoch: 778, loss: 3.0587241148948667, acc: 0.24943993985652924, test loss: 3.153029384613037, test acc: 0.12136000394821167\n",
      "epoch: 779, loss: 3.0597983455657958, acc: 0.2472800463438034, test loss: 3.150450167655945, test acc: 0.1297600120306015\n",
      "epoch: 780, loss: 3.0592274594306947, acc: 0.24952000379562378, test loss: 3.1507623624801635, test acc: 0.1311199963092804\n",
      "epoch: 781, loss: 3.059266004562378, acc: 0.24984006583690643, test loss: 3.151147840023041, test acc: 0.1297600120306015\n",
      "epoch: 782, loss: 3.059241228103638, acc: 0.25015997886657715, test loss: 3.1508157062530517, test acc: 0.12960003316402435\n",
      "epoch: 783, loss: 3.059518880844116, acc: 0.24935999512672424, test loss: 3.1510483193397523, test acc: 0.12936000525951385\n",
      "epoch: 784, loss: 3.0593507957458494, acc: 0.2499999850988388, test loss: 3.1514310121536253, test acc: 0.13120000064373016\n",
      "epoch: 785, loss: 3.0592661833763124, acc: 0.2500799894332886, test loss: 3.150818076133728, test acc: 0.12960001826286316\n",
      "epoch: 786, loss: 3.0592427825927735, acc: 0.24960005283355713, test loss: 3.151394965648651, test acc: 0.1297599971294403\n",
      "epoch: 787, loss: 3.060081045627594, acc: 0.24719999730587006, test loss: 3.1510355472564697, test acc: 0.13143998384475708\n",
      "epoch: 788, loss: 3.0591354513168336, acc: 0.24880006909370422, test loss: 3.1511249923706055, test acc: 0.1310400366783142\n",
      "epoch: 789, loss: 3.059269428253174, acc: 0.24959997832775116, test loss: 3.1507576298713684, test acc: 0.13048000633716583\n",
      "epoch: 790, loss: 3.0591209387779235, acc: 0.24983996152877808, test loss: 3.150679466724396, test acc: 0.1305600255727768\n",
      "epoch: 791, loss: 3.059121117591858, acc: 0.25047996640205383, test loss: 3.1513949179649354, test acc: 0.13007999956607819\n",
      "epoch: 792, loss: 3.0597283005714417, acc: 0.24983997642993927, test loss: 3.15155960559845, test acc: 0.12880006432533264\n",
      "epoch: 793, loss: 3.059817199707031, acc: 0.2471199631690979, test loss: 3.1512009263038636, test acc: 0.12888002395629883\n",
      "epoch: 794, loss: 3.059610142707825, acc: 0.24800001084804535, test loss: 3.15189115524292, test acc: 0.1308799833059311\n",
      "epoch: 795, loss: 3.0599328303337097, acc: 0.24903999269008636, test loss: 3.1525746178627014, test acc: 0.12160000205039978\n",
      "epoch: 796, loss: 3.059591510295868, acc: 0.24935999512672424, test loss: 3.150976886749268, test acc: 0.13071998953819275\n",
      "epoch: 797, loss: 3.059308111667633, acc: 0.2508799731731415, test loss: 3.151338300704956, test acc: 0.12856000661849976\n",
      "epoch: 798, loss: 3.0595500087738037, acc: 0.2512800097465515, test loss: 3.1504874420166016, test acc: 0.13096000254154205\n",
      "epoch: 799, loss: 3.0593905210494996, acc: 0.2489599734544754, test loss: 3.151018195152283, test acc: 0.1311199963092804\n",
      "epoch: 800, loss: 3.059091374874115, acc: 0.24863998591899872, test loss: 3.150949971675873, test acc: 0.12952002882957458\n",
      "epoch: 801, loss: 3.0592120242118837, acc: 0.2508799731731415, test loss: 3.1521595454216005, test acc: 0.13128000497817993\n",
      "epoch: 802, loss: 3.058932282924652, acc: 0.2503199875354767, test loss: 3.151458764076233, test acc: 0.1303199827671051\n",
      "epoch: 803, loss: 3.059455444812775, acc: 0.2508000135421753, test loss: 3.151076555252075, test acc: 0.1292000412940979\n",
      "epoch: 804, loss: 3.0594006991386413, acc: 0.24943996965885162, test loss: 3.150888080596924, test acc: 0.1295200139284134\n",
      "epoch: 805, loss: 3.0596041893959045, acc: 0.2485600858926773, test loss: 3.1506811451911925, test acc: 0.13048000633716583\n",
      "epoch: 806, loss: 3.0589515805244445, acc: 0.25, test loss: 3.152138111591339, test acc: 0.13048000633716583\n",
      "epoch: 807, loss: 3.0598548412323, acc: 0.24672001600265503, test loss: 3.1514908719062804, test acc: 0.12935996055603027\n",
      "epoch: 808, loss: 3.059620985984802, acc: 0.2495199590921402, test loss: 3.151705596446991, test acc: 0.12943997979164124\n",
      "epoch: 809, loss: 3.0592198848724363, acc: 0.2483999878168106, test loss: 3.1513396453857423, test acc: 0.12968000769615173\n",
      "epoch: 810, loss: 3.0591941618919374, acc: 0.24976006150245667, test loss: 3.1520778822898863, test acc: 0.13176001608371735\n",
      "epoch: 811, loss: 3.0594645977020263, acc: 0.25095999240875244, test loss: 3.151542489528656, test acc: 0.12968000769615173\n",
      "epoch: 812, loss: 3.059277739524841, acc: 0.24984000623226166, test loss: 3.1511882662773134, test acc: 0.13152000308036804\n",
      "epoch: 813, loss: 3.0593767762184143, acc: 0.25039997696876526, test loss: 3.150586528778076, test acc: 0.13183997571468353\n",
      "epoch: 814, loss: 3.05914954662323, acc: 0.25064003467559814, test loss: 3.150996685028076, test acc: 0.13168001174926758\n",
      "epoch: 815, loss: 3.0594870138168333, acc: 0.24976001679897308, test loss: 3.150611584186554, test acc: 0.13063998520374298\n",
      "epoch: 816, loss: 3.059128136634827, acc: 0.25088000297546387, test loss: 3.1517613887786866, test acc: 0.13087999820709229\n",
      "epoch: 817, loss: 3.059675831794739, acc: 0.24679993093013763, test loss: 3.1516134905815125, test acc: 0.13079999387264252\n",
      "epoch: 818, loss: 3.0591065216064455, acc: 0.24991993606090546, test loss: 3.150602297782898, test acc: 0.13088002800941467\n",
      "epoch: 819, loss: 3.0594014000892638, acc: 0.2487199753522873, test loss: 3.151421639919281, test acc: 0.13064000010490417\n",
      "epoch: 820, loss: 3.059035575389862, acc: 0.2503200173377991, test loss: 3.150779206752777, test acc: 0.1297599971294403\n",
      "epoch: 821, loss: 3.0604886770248414, acc: 0.2476000189781189, test loss: 3.150602631568909, test acc: 0.1300000250339508\n",
      "epoch: 822, loss: 3.059019467830658, acc: 0.2496800273656845, test loss: 3.15094322681427, test acc: 0.1292000263929367\n",
      "epoch: 823, loss: 3.0591352200508117, acc: 0.25039997696876526, test loss: 3.1521511483192444, test acc: 0.13127999007701874\n",
      "epoch: 824, loss: 3.0590313982963564, acc: 0.24984006583690643, test loss: 3.150678243637085, test acc: 0.13064001500606537\n",
      "epoch: 825, loss: 3.05954719543457, acc: 0.24896003305912018, test loss: 3.150747153759003, test acc: 0.13079999387264252\n",
      "epoch: 826, loss: 3.059053781032562, acc: 0.2508799433708191, test loss: 3.150921447277069, test acc: 0.12959997355937958\n",
      "epoch: 827, loss: 3.0589817214012145, acc: 0.24879992008209229, test loss: 3.151671702861786, test acc: 0.12960000336170197\n",
      "epoch: 828, loss: 3.059681191444397, acc: 0.24879997968673706, test loss: 3.1508931636810305, test acc: 0.1303199827671051\n",
      "epoch: 829, loss: 3.0594738793373106, acc: 0.24911998212337494, test loss: 3.151426944732666, test acc: 0.1321599930524826\n",
      "epoch: 830, loss: 3.059654595851898, acc: 0.24960005283355713, test loss: 3.15113121509552, test acc: 0.12968000769615173\n",
      "epoch: 831, loss: 3.0589835095405578, acc: 0.24984006583690643, test loss: 3.1510771536827087, test acc: 0.1295200139284134\n",
      "epoch: 832, loss: 3.059583704471588, acc: 0.24928002059459686, test loss: 3.15066867351532, test acc: 0.12944000959396362\n",
      "epoch: 833, loss: 3.0592927718162537, acc: 0.24863994121551514, test loss: 3.1509594774246215, test acc: 0.1292800009250641\n",
      "epoch: 834, loss: 3.0599371194839478, acc: 0.24880002439022064, test loss: 3.151212363243103, test acc: 0.13040001690387726\n",
      "epoch: 835, loss: 3.059389717578888, acc: 0.24880002439022064, test loss: 3.151365637779236, test acc: 0.13072000443935394\n",
      "epoch: 836, loss: 3.0594922494888306, acc: 0.2494400590658188, test loss: 3.150513644218445, test acc: 0.13063998520374298\n",
      "epoch: 837, loss: 3.0589959144592287, acc: 0.25088000297546387, test loss: 3.1511745142936705, test acc: 0.12984001636505127\n",
      "epoch: 838, loss: 3.0590711212158204, acc: 0.24959997832775116, test loss: 3.1509317421913146, test acc: 0.1292799860239029\n",
      "epoch: 839, loss: 3.058948185443878, acc: 0.2505599856376648, test loss: 3.150705976486206, test acc: 0.13088001310825348\n",
      "epoch: 840, loss: 3.058978805541992, acc: 0.2499200403690338, test loss: 3.1506610321998596, test acc: 0.13040000200271606\n",
      "epoch: 841, loss: 3.059078161716461, acc: 0.24983997642993927, test loss: 3.1508528566360474, test acc: 0.1292800009250641\n",
      "epoch: 842, loss: 3.0589144158363344, acc: 0.2505599856376648, test loss: 3.151460421085358, test acc: 0.13151998817920685\n",
      "epoch: 843, loss: 3.059464771747589, acc: 0.24839995801448822, test loss: 3.1510803079605103, test acc: 0.13040001690387726\n",
      "epoch: 844, loss: 3.059733603000641, acc: 0.24904003739356995, test loss: 3.150591332912445, test acc: 0.1297600120306015\n",
      "epoch: 845, loss: 3.059696934223175, acc: 0.24936002492904663, test loss: 3.151403934955597, test acc: 0.12999998033046722\n",
      "epoch: 846, loss: 3.059601345062256, acc: 0.2500000596046448, test loss: 3.15065559387207, test acc: 0.12944000959396362\n",
      "epoch: 847, loss: 3.0591103625297547, acc: 0.24984000623226166, test loss: 3.1507309675216675, test acc: 0.13024002313613892\n",
      "epoch: 848, loss: 3.0592426896095275, acc: 0.2504799962043762, test loss: 3.1508998036384583, test acc: 0.13023999333381653\n",
      "epoch: 849, loss: 3.0588380098342896, acc: 0.2492799609899521, test loss: 3.15098824262619, test acc: 0.1300000250339508\n",
      "epoch: 850, loss: 3.0590870785713196, acc: 0.25127995014190674, test loss: 3.151392126083374, test acc: 0.13072000443935394\n",
      "epoch: 851, loss: 3.0589133429527284, acc: 0.2503199577331543, test loss: 3.1512984299659728, test acc: 0.12991999089717865\n",
      "epoch: 852, loss: 3.0590848302841187, acc: 0.2502400279045105, test loss: 3.1507366728782653, test acc: 0.129440039396286\n",
      "epoch: 853, loss: 3.058942632675171, acc: 0.2501600384712219, test loss: 3.15077091217041, test acc: 0.1297600120306015\n",
      "epoch: 854, loss: 3.059154736995697, acc: 0.24975992739200592, test loss: 3.1505033373832703, test acc: 0.13063998520374298\n",
      "epoch: 855, loss: 3.0589115619659424, acc: 0.24872003495693207, test loss: 3.150745575428009, test acc: 0.1308000236749649\n",
      "epoch: 856, loss: 3.0590662121772767, acc: 0.2502400577068329, test loss: 3.150729625225067, test acc: 0.13119998574256897\n",
      "epoch: 857, loss: 3.059343042373657, acc: 0.24960005283355713, test loss: 3.1508623480796816, test acc: 0.1289599984884262\n",
      "epoch: 858, loss: 3.0593880677223204, acc: 0.2489599585533142, test loss: 3.1507463693618774, test acc: 0.12888003885746002\n",
      "epoch: 859, loss: 3.0592303347587584, acc: 0.24935996532440186, test loss: 3.1520268654823305, test acc: 0.13079999387264252\n",
      "epoch: 860, loss: 3.0588830423355104, acc: 0.24983997642993927, test loss: 3.151894783973694, test acc: 0.12959998846054077\n",
      "epoch: 861, loss: 3.059539611339569, acc: 0.2496800273656845, test loss: 3.150861985683441, test acc: 0.13128000497817993\n",
      "epoch: 862, loss: 3.0597503638267516, acc: 0.2470400035381317, test loss: 3.151722056865692, test acc: 0.13007999956607819\n",
      "epoch: 863, loss: 3.0593647074699404, acc: 0.2489599734544754, test loss: 3.151573805809021, test acc: 0.12879998981952667\n",
      "epoch: 864, loss: 3.059475107192993, acc: 0.2489599734544754, test loss: 3.1504116678237915, test acc: 0.13071998953819275\n",
      "epoch: 865, loss: 3.058889875411987, acc: 0.25064003467559814, test loss: 3.1515603375434877, test acc: 0.12936004996299744\n",
      "epoch: 866, loss: 3.059324426651001, acc: 0.2504000663757324, test loss: 3.1511115503311156, test acc: 0.1305600106716156\n",
      "epoch: 867, loss: 3.0587867093086243, acc: 0.2515198886394501, test loss: 3.151374454498291, test acc: 0.130079984664917\n",
      "epoch: 868, loss: 3.0591139602661133, acc: 0.2492000013589859, test loss: 3.151811754703522, test acc: 0.13120003044605255\n",
      "epoch: 869, loss: 3.058728184700012, acc: 0.25, test loss: 3.150854687690735, test acc: 0.12999996542930603\n",
      "epoch: 870, loss: 3.059204089641571, acc: 0.24999995529651642, test loss: 3.150764315128326, test acc: 0.13095997273921967\n",
      "epoch: 871, loss: 3.0596697616577146, acc: 0.24903997778892517, test loss: 3.150872676372528, test acc: 0.13007999956607819\n",
      "epoch: 872, loss: 3.0591851329803466, acc: 0.2500000298023224, test loss: 3.151459677219391, test acc: 0.12880003452301025\n",
      "epoch: 873, loss: 3.0591435742378237, acc: 0.2486400455236435, test loss: 3.1511072087287904, test acc: 0.13023999333381653\n",
      "epoch: 874, loss: 3.0589736771583556, acc: 0.2520000636577606, test loss: 3.151693320274353, test acc: 0.1313599944114685\n",
      "epoch: 875, loss: 3.0592796635627746, acc: 0.24960005283355713, test loss: 3.151106209754944, test acc: 0.12928004562854767\n",
      "epoch: 876, loss: 3.059336142539978, acc: 0.24887999892234802, test loss: 3.150938425064087, test acc: 0.13096000254154205\n",
      "epoch: 877, loss: 3.0591574549674987, acc: 0.2507999837398529, test loss: 3.151402721405029, test acc: 0.12959998846054077\n",
      "epoch: 878, loss: 3.059206812381744, acc: 0.25095999240875244, test loss: 3.151438043117523, test acc: 0.12903998792171478\n",
      "epoch: 879, loss: 3.0596842169761658, acc: 0.24863992631435394, test loss: 3.1510193443298338, test acc: 0.12864002585411072\n",
      "epoch: 880, loss: 3.059302272796631, acc: 0.24799993634223938, test loss: 3.15126841545105, test acc: 0.13120001554489136\n",
      "epoch: 881, loss: 3.0596145844459532, acc: 0.24728000164031982, test loss: 3.1517075371742247, test acc: 0.1289599984884262\n",
      "epoch: 882, loss: 3.059377360343933, acc: 0.24960002303123474, test loss: 3.1511252665519716, test acc: 0.13039998710155487\n",
      "epoch: 883, loss: 3.059450228214264, acc: 0.24952000379562378, test loss: 3.1512794351577758, test acc: 0.1292799711227417\n",
      "epoch: 884, loss: 3.0594985938072203, acc: 0.24823999404907227, test loss: 3.1509677600860595, test acc: 0.13072000443935394\n",
      "epoch: 885, loss: 3.059350392818451, acc: 0.24952001869678497, test loss: 3.1512290358543398, test acc: 0.12919999659061432\n",
      "epoch: 886, loss: 3.059471187591553, acc: 0.2495199739933014, test loss: 3.1508602905273437, test acc: 0.13008002936840057\n",
      "epoch: 887, loss: 3.0591950273513793, acc: 0.25039997696876526, test loss: 3.1511244487762453, test acc: 0.12935999035835266\n",
      "epoch: 888, loss: 3.059047646522522, acc: 0.25040003657341003, test loss: 3.1505771899223327, test acc: 0.1297600120306015\n",
      "epoch: 889, loss: 3.059282956123352, acc: 0.2486400157213211, test loss: 3.1517208886146544, test acc: 0.12776000797748566\n",
      "epoch: 890, loss: 3.0593294596672056, acc: 0.24976007640361786, test loss: 3.1523504185676576, test acc: 0.1296800673007965\n",
      "epoch: 891, loss: 3.059151406288147, acc: 0.24919995665550232, test loss: 3.1509786009788514, test acc: 0.13008001446723938\n",
      "epoch: 892, loss: 3.0592077374458313, acc: 0.25095999240875244, test loss: 3.151999809741974, test acc: 0.1287200003862381\n",
      "epoch: 893, loss: 3.0591528105735777, acc: 0.24720001220703125, test loss: 3.152790439128876, test acc: 0.1226399689912796\n",
      "epoch: 894, loss: 3.0591678833961486, acc: 0.2483200579881668, test loss: 3.1511101150512695, test acc: 0.1303200125694275\n",
      "epoch: 895, loss: 3.0591193222999573, acc: 0.25063997507095337, test loss: 3.151170094013214, test acc: 0.13104000687599182\n",
      "epoch: 896, loss: 3.0591615223884583, acc: 0.2496800422668457, test loss: 3.1515548610687256, test acc: 0.13128000497817993\n",
      "epoch: 897, loss: 3.0591059875488282, acc: 0.24991996586322784, test loss: 3.1508105635643004, test acc: 0.13016000390052795\n",
      "epoch: 898, loss: 3.0591903591156004, acc: 0.25039997696876526, test loss: 3.151428990364075, test acc: 0.13024000823497772\n",
      "epoch: 899, loss: 3.0593200159072875, acc: 0.25088003277778625, test loss: 3.1510161542892456, test acc: 0.12936000525951385\n",
      "epoch: 900, loss: 3.059254925251007, acc: 0.25088006258010864, test loss: 3.1508772015571593, test acc: 0.12904001772403717\n",
      "epoch: 901, loss: 3.0592552280426024, acc: 0.24919995665550232, test loss: 3.150866160392761, test acc: 0.1284000128507614\n",
      "epoch: 902, loss: 3.0592976069450377, acc: 0.2505600154399872, test loss: 3.151350426673889, test acc: 0.12799999117851257\n",
      "epoch: 903, loss: 3.059661521911621, acc: 0.2484799176454544, test loss: 3.151203410625458, test acc: 0.12991999089717865\n",
      "epoch: 904, loss: 3.0592602133750915, acc: 0.2492000013589859, test loss: 3.150427758693695, test acc: 0.13024000823497772\n",
      "epoch: 905, loss: 3.058997840881348, acc: 0.24904003739356995, test loss: 3.151643817424774, test acc: 0.13048000633716583\n",
      "epoch: 906, loss: 3.060214524269104, acc: 0.24831998348236084, test loss: 3.151246914863586, test acc: 0.12911999225616455\n",
      "epoch: 907, loss: 3.058731369972229, acc: 0.2505600154399872, test loss: 3.1517331743240358, test acc: 0.13087999820709229\n",
      "epoch: 908, loss: 3.05916499376297, acc: 0.2497600018978119, test loss: 3.151105782985687, test acc: 0.13015998899936676\n",
      "epoch: 909, loss: 3.059014256000519, acc: 0.25032007694244385, test loss: 3.151335344314575, test acc: 0.127920001745224\n",
      "epoch: 910, loss: 3.05910914182663, acc: 0.24976003170013428, test loss: 3.1513629865646364, test acc: 0.13032002747058868\n",
      "epoch: 911, loss: 3.059572615623474, acc: 0.24847999215126038, test loss: 3.1505296182632447, test acc: 0.1295199990272522\n",
      "epoch: 912, loss: 3.0590789127349853, acc: 0.2507999837398529, test loss: 3.1505678606033327, test acc: 0.13079999387264252\n",
      "epoch: 913, loss: 3.059054419994354, acc: 0.24903997778892517, test loss: 3.1515432739257814, test acc: 0.13120000064373016\n",
      "epoch: 914, loss: 3.059118013381958, acc: 0.2492000162601471, test loss: 3.1527925300598145, test acc: 0.12192003428936005\n",
      "epoch: 915, loss: 3.0598890805244445, acc: 0.24832004308700562, test loss: 3.1509775519371033, test acc: 0.13007999956607819\n",
      "epoch: 916, loss: 3.0589925336837767, acc: 0.2497600018978119, test loss: 3.150817017555237, test acc: 0.13072001934051514\n",
      "epoch: 917, loss: 3.058928325176239, acc: 0.2501600384712219, test loss: 3.150838418006897, test acc: 0.13016000390052795\n",
      "epoch: 918, loss: 3.0595623898506163, acc: 0.2489599734544754, test loss: 3.1514307284355163, test acc: 0.13159999251365662\n",
      "epoch: 919, loss: 3.0588516426086425, acc: 0.2502400279045105, test loss: 3.1509795117378236, test acc: 0.12967997789382935\n",
      "epoch: 920, loss: 3.059293465614319, acc: 0.24952003359794617, test loss: 3.153809766769409, test acc: 0.1212799921631813\n",
      "epoch: 921, loss: 3.059184215068817, acc: 0.24847997725009918, test loss: 3.1513188672065735, test acc: 0.12903998792171478\n",
      "epoch: 922, loss: 3.0589763927459717, acc: 0.24768005311489105, test loss: 3.151754605770111, test acc: 0.12856000661849976\n",
      "epoch: 923, loss: 3.0600251507759095, acc: 0.24823999404907227, test loss: 3.1506508922576906, test acc: 0.1308000236749649\n",
      "epoch: 924, loss: 3.058812279701233, acc: 0.2496800422668457, test loss: 3.15155960559845, test acc: 0.12864002585411072\n",
      "epoch: 925, loss: 3.0592535376548766, acc: 0.2503199875354767, test loss: 3.1510281682014467, test acc: 0.1292800009250641\n",
      "epoch: 926, loss: 3.058587715625763, acc: 0.251120001077652, test loss: 3.151023552417755, test acc: 0.13048000633716583\n",
      "epoch: 927, loss: 3.0592361378669737, acc: 0.2497600018978119, test loss: 3.15089465379715, test acc: 0.12952002882957458\n",
      "epoch: 928, loss: 3.05883199930191, acc: 0.24968008697032928, test loss: 3.1528775763511656, test acc: 0.13016003370285034\n",
      "epoch: 929, loss: 3.059629571437836, acc: 0.24839994311332703, test loss: 3.151663811206818, test acc: 0.12992003560066223\n",
      "epoch: 930, loss: 3.0591665267944337, acc: 0.2500000298023224, test loss: 3.1510396814346313, test acc: 0.12928001582622528\n",
      "epoch: 931, loss: 3.0588257002830503, acc: 0.25039997696876526, test loss: 3.1508637261390686, test acc: 0.1300000101327896\n",
      "epoch: 932, loss: 3.0595975017547605, acc: 0.24952000379562378, test loss: 3.1517356848716735, test acc: 0.12928003072738647\n",
      "epoch: 933, loss: 3.059097092151642, acc: 0.24976009130477905, test loss: 3.151801631450653, test acc: 0.12936000525951385\n",
      "epoch: 934, loss: 3.0587709522247315, acc: 0.2504799962043762, test loss: 3.150816886425018, test acc: 0.12984001636505127\n",
      "epoch: 935, loss: 3.05869398355484, acc: 0.2503199577331543, test loss: 3.1506275749206543, test acc: 0.13039997220039368\n",
      "epoch: 936, loss: 3.0589149236679076, acc: 0.2508799433708191, test loss: 3.151524095535278, test acc: 0.12959998846054077\n",
      "epoch: 937, loss: 3.0587095952034, acc: 0.25080007314682007, test loss: 3.1511491918563843, test acc: 0.1289600133895874\n",
      "epoch: 938, loss: 3.059148943424225, acc: 0.25071999430656433, test loss: 3.1506630897521974, test acc: 0.13016000390052795\n",
      "epoch: 939, loss: 3.0593571996688844, acc: 0.24896006286144257, test loss: 3.1509956550598144, test acc: 0.1300000101327896\n",
      "epoch: 940, loss: 3.059431233406067, acc: 0.24984005093574524, test loss: 3.1510882353782654, test acc: 0.13072000443935394\n",
      "epoch: 941, loss: 3.0585016584396363, acc: 0.24912011623382568, test loss: 3.1508543276786805, test acc: 0.12960003316402435\n",
      "epoch: 942, loss: 3.058913998603821, acc: 0.25095999240875244, test loss: 3.1512496733665465, test acc: 0.12944002449512482\n",
      "epoch: 943, loss: 3.0589972829818723, acc: 0.25039997696876526, test loss: 3.1515134716033937, test acc: 0.129519984126091\n",
      "epoch: 944, loss: 3.0592205262184144, acc: 0.24880002439022064, test loss: 3.1513903307914735, test acc: 0.12800000607967377\n",
      "epoch: 945, loss: 3.0592730927467344, acc: 0.2479199767112732, test loss: 3.151931953430176, test acc: 0.12776000797748566\n",
      "epoch: 946, loss: 3.0593823528289796, acc: 0.24959994852542877, test loss: 3.150849108695984, test acc: 0.13024002313613892\n",
      "epoch: 947, loss: 3.059441039562225, acc: 0.24936002492904663, test loss: 3.151153316497803, test acc: 0.1287200003862381\n",
      "epoch: 948, loss: 3.059157495498657, acc: 0.24808000028133392, test loss: 3.151233627796173, test acc: 0.12984004616737366\n",
      "epoch: 949, loss: 3.0594637799263, acc: 0.24856001138687134, test loss: 3.150787498950958, test acc: 0.1300000101327896\n",
      "epoch: 950, loss: 3.0598128271102905, acc: 0.2486400008201599, test loss: 3.1505251860618593, test acc: 0.13088002800941467\n",
      "epoch: 951, loss: 3.0595509958267213, acc: 0.24983999133110046, test loss: 3.151026515960693, test acc: 0.12967999279499054\n",
      "epoch: 952, loss: 3.05929318189621, acc: 0.24976001679897308, test loss: 3.1509095072746276, test acc: 0.13040003180503845\n",
      "epoch: 953, loss: 3.059216523170471, acc: 0.2492000013589859, test loss: 3.1518344354629515, test acc: 0.130560040473938\n",
      "epoch: 954, loss: 3.0592441821098326, acc: 0.24952000379562378, test loss: 3.1507673478126526, test acc: 0.1295199990272522\n",
      "epoch: 955, loss: 3.0588469076156617, acc: 0.2502399981021881, test loss: 3.1513091325759888, test acc: 0.1305600255727768\n",
      "epoch: 956, loss: 3.0587971377372742, acc: 0.25015997886657715, test loss: 3.1510821104049684, test acc: 0.12992002069950104\n",
      "epoch: 957, loss: 3.058990135192871, acc: 0.24983999133110046, test loss: 3.151134657859802, test acc: 0.1289600133895874\n",
      "epoch: 958, loss: 3.059311316013336, acc: 0.2492000013589859, test loss: 3.1512177348136903, test acc: 0.12832002341747284\n",
      "epoch: 959, loss: 3.059319281578064, acc: 0.24935996532440186, test loss: 3.1508818888664245, test acc: 0.1311200112104416\n",
      "epoch: 960, loss: 3.0586940312385558, acc: 0.24952004849910736, test loss: 3.1507468032836914, test acc: 0.1303199827671051\n",
      "epoch: 961, loss: 3.0590276098251343, acc: 0.248479962348938, test loss: 3.150482747554779, test acc: 0.13071997463703156\n",
      "epoch: 962, loss: 3.0590702724456786, acc: 0.24816003441810608, test loss: 3.151202039718628, test acc: 0.12960000336170197\n",
      "epoch: 963, loss: 3.0588085722923277, acc: 0.24976001679897308, test loss: 3.151918439865112, test acc: 0.13120001554489136\n",
      "epoch: 964, loss: 3.0588310027122496, acc: 0.2497600018978119, test loss: 3.1515403819084167, test acc: 0.13040000200271606\n",
      "epoch: 965, loss: 3.0590800070762634, acc: 0.25071999430656433, test loss: 3.1509373784065247, test acc: 0.1311199814081192\n",
      "epoch: 966, loss: 3.0589877796173095, acc: 0.2502399981021881, test loss: 3.151328489780426, test acc: 0.12831999361515045\n",
      "epoch: 967, loss: 3.0591805028915404, acc: 0.24879999458789825, test loss: 3.1509362387657167, test acc: 0.12999999523162842\n",
      "epoch: 968, loss: 3.0592228746414185, acc: 0.24984000623226166, test loss: 3.150746510028839, test acc: 0.13071998953819275\n",
      "epoch: 969, loss: 3.058715205192566, acc: 0.25088003277778625, test loss: 3.1505648064613343, test acc: 0.13071998953819275\n",
      "epoch: 970, loss: 3.058784537315369, acc: 0.2500799894332886, test loss: 3.1512108206748963, test acc: 0.12912003695964813\n",
      "epoch: 971, loss: 3.058774995803833, acc: 0.2505599856376648, test loss: 3.151167447566986, test acc: 0.12912003695964813\n",
      "epoch: 972, loss: 3.0598150992393496, acc: 0.24511997401714325, test loss: 3.1516817235946655, test acc: 0.12863999605178833\n",
      "epoch: 973, loss: 3.0595435881614685, acc: 0.24911996722221375, test loss: 3.150934171676636, test acc: 0.1308000087738037\n",
      "epoch: 974, loss: 3.0594908809661865, acc: 0.24952003359794617, test loss: 3.1511069321632386, test acc: 0.12967997789382935\n",
      "epoch: 975, loss: 3.058947706222534, acc: 0.251039981842041, test loss: 3.151620676517487, test acc: 0.12807998061180115\n",
      "epoch: 976, loss: 3.05892098903656, acc: 0.24879997968673706, test loss: 3.1516435384750365, test acc: 0.1287199854850769\n",
      "epoch: 977, loss: 3.0592703557014467, acc: 0.2485600858926773, test loss: 3.150592043399811, test acc: 0.13024000823497772\n",
      "epoch: 978, loss: 3.059921145439148, acc: 0.2476799637079239, test loss: 3.1514205932617188, test acc: 0.12815998494625092\n",
      "epoch: 979, loss: 3.059371919631958, acc: 0.2486400455236435, test loss: 3.151573505401611, test acc: 0.129519984126091\n",
      "epoch: 980, loss: 3.058623869419098, acc: 0.24855995178222656, test loss: 3.1508347678184507, test acc: 0.13087999820709229\n",
      "epoch: 981, loss: 3.058998427391052, acc: 0.2497600018978119, test loss: 3.1511936378479004, test acc: 0.12863999605178833\n",
      "epoch: 982, loss: 3.0595724058151244, acc: 0.24800005555152893, test loss: 3.150626924037933, test acc: 0.13096000254154205\n",
      "epoch: 983, loss: 3.059070339202881, acc: 0.2487199902534485, test loss: 3.1518153023719786, test acc: 0.12879998981952667\n",
      "epoch: 984, loss: 3.0590295124053957, acc: 0.2485600709915161, test loss: 3.152029197216034, test acc: 0.12864001095294952\n",
      "epoch: 985, loss: 3.0586677503585817, acc: 0.2510400712490082, test loss: 3.151147961616516, test acc: 0.1292000263929367\n",
      "epoch: 986, loss: 3.0591298651695253, acc: 0.2505600154399872, test loss: 3.15138897895813, test acc: 0.1289600282907486\n",
      "epoch: 987, loss: 3.0590848469734193, acc: 0.24936001002788544, test loss: 3.1512027764320374, test acc: 0.13040001690387726\n",
      "epoch: 988, loss: 3.058524990081787, acc: 0.2513600289821625, test loss: 3.1509787583351136, test acc: 0.1303200125694275\n",
      "epoch: 989, loss: 3.0587614607810973, acc: 0.25040003657341003, test loss: 3.1508455944061278, test acc: 0.1289600282907486\n",
      "epoch: 990, loss: 3.0587727999687195, acc: 0.24911996722221375, test loss: 3.1508208560943602, test acc: 0.1300000101327896\n",
      "epoch: 991, loss: 3.0590066504478455, acc: 0.2488800287246704, test loss: 3.150896291732788, test acc: 0.13128000497817993\n",
      "epoch: 992, loss: 3.0587734365463257, acc: 0.24967999756336212, test loss: 3.151530122756958, test acc: 0.12960000336170197\n",
      "epoch: 993, loss: 3.0591784739494323, acc: 0.2489600032567978, test loss: 3.1509832191467284, test acc: 0.12960000336170197\n",
      "epoch: 994, loss: 3.0588819646835326, acc: 0.24928003549575806, test loss: 3.1519608902931213, test acc: 0.13120001554489136\n",
      "epoch: 995, loss: 3.0589418768882752, acc: 0.24984000623226166, test loss: 3.1516121554374696, test acc: 0.1292000114917755\n",
      "epoch: 996, loss: 3.0589783334732057, acc: 0.2504800260066986, test loss: 3.1512073636054994, test acc: 0.12984000146389008\n",
      "epoch: 997, loss: 3.0587167024612425, acc: 0.2503199875354767, test loss: 3.1512621235847473, test acc: 0.13072003424167633\n",
      "epoch: 998, loss: 3.058981890678406, acc: 0.2501600384712219, test loss: 3.15051922082901, test acc: 0.132160022854805\n",
      "epoch: 999, loss: 3.058637387752533, acc: 0.25040000677108765, test loss: 3.1509427666664123, test acc: 0.12992002069950104\n"
     ]
    }
   ],
   "source": [
    "num_epochs = 1000\n",
    "train_losses = []\n",
    "train_accs = []\n",
    "test_losses = []\n",
    "test_accs = []\n",
    "for epoch in range(num_epochs):\n",
    "    running_loss = 0.0\n",
    "    running_acc = 0.0\n",
    "    for inputs, targets in train_loader:\n",
    "        inputs = inputs.to(device)\n",
    "        targets = targets.to(device)\n",
    "        optimizer.zero_grad()\n",
    "        output = model(inputs)\n",
    "        loss = criterion(output, targets)\n",
    "        loss.backward()\n",
    "        running_loss += loss.item()\n",
    "        pred = torch.argmax(output, dim=1)      # outputの一番値が大きい成分\n",
    "        targets = torch.argmax(targets, dim=1)  # targetの一番値が大きい成分\n",
    "        running_acc += torch.mean(pred.eq(targets).float().cpu()) # predとtargetが同じになった数の平均\n",
    "        optimizer.step()\n",
    "    running_loss /= len(train_loader)   # 12500個の訓練データ全体での損失関数の平均\n",
    "    running_acc /= len(train_loader)    # 12500個の訓練データ全体での正解率\n",
    "    train_losses.append(running_loss)\n",
    "    train_accs.append(running_acc)\n",
    "    #\n",
    "    #   test loop\n",
    "    #\n",
    "    test_running_loss = 0.0\n",
    "    test_running_acc = 0.0\n",
    "    for test_inputs, test_targets in test_loader:\n",
    "        test_inputs = test_inputs.to(device)\n",
    "        test_targets = test_targets.to(device)\n",
    "        test_output = model(test_inputs)\n",
    "        test_loss = criterion(test_output, test_targets)\n",
    "        test_running_loss += test_loss.item()\n",
    "        test_pred = torch.argmax(test_output, dim=1)      # outputの一番値が大きい成分\n",
    "        test_targets = torch.argmax(test_targets, dim=1)  # targetの一番値が大きい成分\n",
    "        test_running_acc += torch.mean(test_pred.eq(test_targets).float().cpu()) # 正解数の平均\n",
    "    test_running_loss /= len(test_loader)   # 12500個の訓練データ全体での損失関数の平均\n",
    "    test_running_acc /= len(test_loader)    # 12500個の訓練データ全体での正解率\n",
    "    test_losses.append(test_running_loss)\n",
    "    test_accs.append(test_running_acc)\n",
    "        \n",
    "    print(\"epoch: {}, loss: {}, acc: {}, test loss: {}, test acc: {}\".format(epoch, running_loss, running_acc, test_running_loss, test_running_acc))"
   ]
  },
  {
   "cell_type": "markdown",
   "metadata": {},
   "source": [
    "損失関数と正解率のグラフの作成"
   ]
  },
  {
   "cell_type": "code",
   "execution_count": 27,
   "metadata": {},
   "outputs": [
    {
     "data": {
      "image/png": "[encoded data removed]",
      "text/plain": [
       "<Figure size 864x288 with 2 Axes>"
      ]
     },
     "metadata": {
      "needs_background": "light"
     },
     "output_type": "display_data"
    }
   ],
   "source": [
    "# グラフのプロット\n",
    "plt.figure(figsize=(12, 4))\n",
    "\n",
    "# 損失関数のグラフ\n",
    "plt.subplot(1, 2, 1)\n",
    "plt.plot(train_losses, label='Training Loss')\n",
    "plt.plot(test_losses, label='Test Loss')\n",
    "plt.xlabel('Epoch')\n",
    "plt.ylabel('Loss')\n",
    "plt.legend()\n",
    "\n",
    "# 正解率のグラフ\n",
    "plt.subplot(1, 2, 2)\n",
    "plt.plot(train_accs, label='Training Accuracy')\n",
    "plt.plot(test_accs, label='Test Accuracy')\n",
    "plt.xlabel('Epoch')\n",
    "plt.ylabel('Accuracy')\n",
    "plt.legend()\n",
    "\n",
    "plt.tight_layout()\n",
    "plt.show()"
   ]
  },
  {
   "cell_type": "markdown",
   "metadata": {},
   "source": [
    "実際に予測値と正解がどうなっているか見てみる"
   ]
  },
  {
   "cell_type": "code",
   "execution_count": 28,
   "metadata": {},
   "outputs": [
    {
     "name": "stdout",
     "output_type": "stream",
     "text": [
      "tensor([ 6, 12,  6, 10, 20,  7, 13, 10,  6,  6,  6,  9, 16, 24,  0, 16,  6, 11,\n",
      "         6,  6,  6, 17, 24, 21, 11,  9,  0,  6, 21, 24, 17,  7,  6, 12,  7,  6,\n",
      "         6, 12, 12, 21,  7, 21, 11,  6, 11, 12, 22, 23, 20,  0,  0, 23,  9,  6,\n",
      "        22,  6, 13,  0, 10, 20,  6,  6, 22,  6, 11, 10, 12, 22, 22,  0, 13, 20,\n",
      "         9, 21, 12, 21,  6, 23,  7, 20,  6, 16,  9, 10, 10, 24,  6,  6, 20, 23,\n",
      "         6, 12,  0, 24, 21,  6, 24, 21,  6, 16], device='cuda:0')\n"
     ]
    }
   ],
   "source": [
    "print(test_pred[:100])"
   ]
  },
  {
   "cell_type": "code",
   "execution_count": 29,
   "metadata": {},
   "outputs": [
    {
     "name": "stdout",
     "output_type": "stream",
     "text": [
      "tensor([ 5, 11,  3, 15, 15,  5, 17, 19,  4,  4,  8,  9, 21, 24,  0, 20,  0, 14,\n",
      "         1,  4,  2, 19, 24, 24, 15,  9,  0,  5, 21, 23, 15,  7,  5, 11,  8,  2,\n",
      "         5, 15, 23, 15,  9, 12, 19,  8, 11, 13, 14, 23, 14,  1,  1, 19,  9,  5,\n",
      "        13,  7, 19,  1, 11, 24,  7,  3, 18,  6,  7, 11, 15, 17, 22,  0, 14, 15,\n",
      "         8, 16, 14, 19,  1, 20,  6, 14,  6, 24,  9, 14, 13, 17,  1,  6, 18, 23,\n",
      "         5, 24,  1, 13, 18,  8, 10, 14,  2, 18], device='cuda:0')\n"
     ]
    }
   ],
   "source": [
    "print(test_targets[:100])"
   ]
  },
  {
   "cell_type": "code",
   "execution_count": 30,
   "metadata": {},
   "outputs": [
    {
     "data": {
      "text/plain": [
       "torch.Size([125, 25])"
      ]
     },
     "execution_count": 30,
     "metadata": {},
     "output_type": "execute_result"
    }
   ],
   "source": [
    "test_output.shape"
   ]
  },
  {
   "cell_type": "code",
   "execution_count": 31,
   "metadata": {},
   "outputs": [
    {
     "data": {
      "image/png": "[encoded data removed]",
      "text/plain": [
       "<Figure size 432x288 with 1 Axes>"
      ]
     },
     "metadata": {
      "needs_background": "light"
     },
     "output_type": "display_data"
    },
    {
     "name": "stdout",
     "output_type": "stream",
     "text": [
      "tensor(1.2500, device='cuda:0')\n"
     ]
    },
    {
     "data": {
      "image/png": "[encoded data removed]",
      "text/plain": [
       "<Figure size 432x288 with 1 Axes>"
      ]
     },
     "metadata": {
      "needs_background": "light"
     },
     "output_type": "display_data"
    },
    {
     "name": "stdout",
     "output_type": "stream",
     "text": [
      "tensor(2.7500, device='cuda:0')\n"
     ]
    },
    {
     "data": {
      "image/png": "[encoded data removed]",
      "text/plain": [
       "<Figure size 432x288 with 1 Axes>"
      ]
     },
     "metadata": {
      "needs_background": "light"
     },
     "output_type": "display_data"
    },
    {
     "name": "stdout",
     "output_type": "stream",
     "text": [
      "tensor(0.7500, device='cuda:0')\n"
     ]
    },
    {
     "data": {
      "image/png": "[encoded data removed]",
      "text/plain": [
       "<Figure size 432x288 with 1 Axes>"
      ]
     },
     "metadata": {
      "needs_background": "light"
     },
     "output_type": "display_data"
    },
    {
     "name": "stdout",
     "output_type": "stream",
     "text": [
      "tensor(3.7500, device='cuda:0')\n"
     ]
    },
    {
     "data": {
      "image/png": "[encoded data removed]",
      "text/plain": [
       "<Figure size 432x288 with 1 Axes>"
      ]
     },
     "metadata": {
      "needs_background": "light"
     },
     "output_type": "display_data"
    },
    {
     "name": "stdout",
     "output_type": "stream",
     "text": [
      "tensor(3.7500, device='cuda:0')\n"
     ]
    },
    {
     "data": {
      "image/png": "[encoded data removed]",
      "text/plain": [
       "<Figure size 432x288 with 1 Axes>"
      ]
     },
     "metadata": {
      "needs_background": "light"
     },
     "output_type": "display_data"
    },
    {
     "name": "stdout",
     "output_type": "stream",
     "text": [
      "tensor(1.2500, device='cuda:0')\n"
     ]
    },
    {
     "data": {
      "image/png": "[encoded data removed]",
      "text/plain": [
       "<Figure size 432x288 with 1 Axes>"
      ]
     },
     "metadata": {
      "needs_background": "light"
     },
     "output_type": "display_data"
    },
    {
     "name": "stdout",
     "output_type": "stream",
     "text": [
      "tensor(4.2500, device='cuda:0')\n"
     ]
    },
    {
     "data": {
      "image/png": "[encoded data removed]",
      "text/plain": [
       "<Figure size 432x288 with 1 Axes>"
      ]
     },
     "metadata": {
      "needs_background": "light"
     },
     "output_type": "display_data"
    },
    {
     "name": "stdout",
     "output_type": "stream",
     "text": [
      "tensor(4.7500, device='cuda:0')\n"
     ]
    },
    {
     "data": {
      "image/png": "[encoded data removed]",
      "text/plain": [
       "<Figure size 432x288 with 1 Axes>"
      ]
     },
     "metadata": {
      "needs_background": "light"
     },
     "output_type": "display_data"
    },
    {
     "name": "stdout",
     "output_type": "stream",
     "text": [
      "tensor(1., device='cuda:0')\n"
     ]
    },
    {
     "data": {
      "image/png": "[encoded data removed]",
      "text/plain": [
       "<Figure size 432x288 with 1 Axes>"
      ]
     },
     "metadata": {
      "needs_background": "light"
     },
     "output_type": "display_data"
    },
    {
     "name": "stdout",
     "output_type": "stream",
     "text": [
      "tensor(1., device='cuda:0')\n"
     ]
    }
   ],
   "source": [
    "# データのx軸値\n",
    "x = [i * 0.25 for i in range(25)]\n",
    "\n",
    "for n in range(10):\n",
    "    # テンソルをホストメモリにコピーしてNumpy配列に変換\n",
    "    test_output_cpu = test_output[n].detach().cpu().numpy()\n",
    "\n",
    "    # グラフを描画\n",
    "    plt.plot(x, test_output_cpu, marker='o', linestyle='-', color='b', markersize=5)\n",
    "\n",
    "    # グラフのタイトルと軸ラベルを設定\n",
    "    plt.title('line graph:')\n",
    "    plt.xlabel('Temperture')\n",
    "    plt.ylabel('probability distribution')\n",
    "\n",
    "    # グラフを表示\n",
    "    plt.show()\n",
    "\n",
    "    print(test_targets[n]*0.25)\n"
   ]
  },
  {
   "cell_type": "markdown",
   "metadata": {},
   "source": [
    "モデルの保存"
   ]
  },
  {
   "cell_type": "code",
   "execution_count": 32,
   "metadata": {},
   "outputs": [],
   "source": [
    "# データを保存するディレクトリのパス\n",
    "save_dir = \"Data\"\n",
    "\n",
    "# ファイル名\n",
    "file_name = \"CNN_L16.prm\"\n",
    "\n",
    "# フルパスを作成\n",
    "full_path = os.path.join(save_dir, file_name)\n",
    "\n",
    "# パラメータを保存\n",
    "torch.save(file_name, full_path)"
   ]
  },
  {
   "cell_type": "code",
   "execution_count": null,
   "metadata": {},
   "outputs": [],
   "source": []
  }
 ],
 "metadata": {
  "kernelspec": {
   "display_name": "base",
   "language": "python",
   "name": "python3"
  },
  "language_info": {
   "codemirror_mode": {
    "name": "ipython",
    "version": 3
   },
   "file_extension": ".py",
   "mimetype": "text/x-python",
   "name": "python",
   "nbconvert_exporter": "python",
   "pygments_lexer": "ipython3",
   "version": "3.9.12"
  },
  "orig_nbformat": 4
 },
 "nbformat": 4,
 "nbformat_minor": 2
}
