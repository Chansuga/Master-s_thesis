{
 "cells": [
  {
   "cell_type": "code",
   "execution_count": 1,
   "metadata": {},
   "outputs": [],
   "source": [
    "import os\n",
    "import torch\n",
    "import torch.nn as nn\n",
    "import torch.optim as optim\n",
    "import torch.nn.functional as F\n",
    "from torchvision import transforms\n",
    "from torch.utils.data import DataLoader, TensorDataset\n",
    "import matplotlib.pyplot as plt\n",
    "import pickle\n",
    "from sklearn.model_selection import train_test_split"
   ]
  },
  {
   "cell_type": "code",
   "execution_count": 2,
   "metadata": {},
   "outputs": [
    {
     "data": {
      "text/plain": [
       "'cpu'"
      ]
     },
     "execution_count": 2,
     "metadata": {},
     "output_type": "execute_result"
    }
   ],
   "source": [
    "# cudaが使えるか確認\n",
    "device = \"cuda\" if torch.cuda.is_available() else \"cpu\"\n",
    "device"
   ]
  },
  {
   "cell_type": "markdown",
   "metadata": {},
   "source": [
    "データの読み込み"
   ]
  },
  {
   "cell_type": "markdown",
   "metadata": {},
   "source": [
    "GPUで作ったPickleのファイルは，CPUではそのままでは使えないため，工夫が必要．\n",
    "\n",
    "https://www.kunita-gamefactory.com/post/%E3%80%90pytorch%E3%80%91gpu%E3%81%A7%E8%A8%93%E7%B7%B4%E3%81%95%E3%81%9B%E3%81%9F%E3%83%A2%E3%83%87%E3%83%AB%E3%82%92cpu%E3%81%A7%E8%AA%AD%E3%81%BF%E8%BE%BC%E3%82%82%E3%81%86%E3%81%A8%E3%81%97%E3%81%9F%E3%81%8A%E8%A9%B1\n",
    "\n",
    "を真似したらうまくCPU上でもファイルを読み込むことができるようになった．"
   ]
  },
  {
   "cell_type": "code",
   "execution_count": 3,
   "metadata": {},
   "outputs": [],
   "source": [
    "import io\n",
    "        \n",
    "class CPU_Unpickler(pickle.Unpickler):\n",
    "    def find_class(self, module, name):\n",
    "        if module == 'torch.storage' and name == '_load_from_bytes':\n",
    "            return lambda b: torch.load(io.BytesIO(b), map_location='cpu')\n",
    "        else: return super().find_class(module, name)"
   ]
  },
  {
   "cell_type": "code",
   "execution_count": 4,
   "metadata": {},
   "outputs": [],
   "source": [
    "# ファイルの相対パスを指定\n",
    "file_path = 'data_storage/Ising_samp_data_L16.pkl'\n",
    "\n",
    "if torch.cuda.is_available():\n",
    "    with open(file_path, 'rb') as file:\n",
    "        loaded_data = pickle.load(file, encoding='latin1')\n",
    "else:\n",
    "    with open(file_path, 'rb') as file:\n",
    "        loaded_data = CPU_Unpickler(file).load()\n",
    "        \n",
    "# 読み込んだデータを個々の変数に分割\n",
    "spin_data, temp_data = loaded_data"
   ]
  },
  {
   "cell_type": "code",
   "execution_count": 5,
   "metadata": {},
   "outputs": [
    {
     "data": {
      "text/plain": [
       "(torch.Size([25000, 16, 16]), 25000)"
      ]
     },
     "execution_count": 5,
     "metadata": {},
     "output_type": "execute_result"
    }
   ],
   "source": [
    "# データの形を確認\n",
    "spin_data.shape , len(temp_data)"
   ]
  },
  {
   "cell_type": "code",
   "execution_count": 6,
   "metadata": {},
   "outputs": [
    {
     "data": {
      "text/plain": [
       "torch.Size([25000, 1, 16, 16])"
      ]
     },
     "execution_count": 6,
     "metadata": {},
     "output_type": "execute_result"
    }
   ],
   "source": [
    "spin_data = spin_data.unsqueeze(1)\n",
    "spin_data.shape"
   ]
  },
  {
   "cell_type": "code",
   "execution_count": 7,
   "metadata": {},
   "outputs": [
    {
     "name": "stdout",
     "output_type": "stream",
     "text": [
      "tensor([[[-1., -1., -1., -1., -1.,  1.,  1.,  1., -1.,  1.,  1.,  1.,  1., -1.,\n",
      "          -1., -1.],\n",
      "         [-1., -1.,  1.,  1.,  1.,  1.,  1.,  1.,  1.,  1.,  1.,  1., -1., -1.,\n",
      "          -1., -1.],\n",
      "         [-1., -1., -1., -1.,  1.,  1.,  1.,  1.,  1.,  1., -1., -1., -1., -1.,\n",
      "          -1., -1.],\n",
      "         [-1., -1., -1., -1., -1.,  1.,  1.,  1., -1.,  1.,  1., -1., -1., -1.,\n",
      "           1., -1.],\n",
      "         [-1., -1., -1., -1.,  1., -1., -1.,  1., -1., -1.,  1., -1., -1.,  1.,\n",
      "           1., -1.],\n",
      "         [-1.,  1., -1., -1., -1., -1.,  1.,  1., -1.,  1.,  1., -1., -1.,  1.,\n",
      "           1.,  1.],\n",
      "         [-1., -1., -1., -1., -1.,  1.,  1., -1., -1., -1.,  1., -1.,  1.,  1.,\n",
      "          -1.,  1.],\n",
      "         [-1., -1., -1., -1.,  1.,  1.,  1., -1., -1., -1., -1., -1., -1., -1.,\n",
      "          -1.,  1.],\n",
      "         [ 1., -1., -1.,  1.,  1.,  1., -1., -1., -1., -1., -1., -1.,  1.,  1.,\n",
      "           1.,  1.],\n",
      "         [-1., -1., -1., -1.,  1., -1., -1.,  1.,  1., -1.,  1.,  1.,  1.,  1.,\n",
      "           1.,  1.],\n",
      "         [ 1., -1., -1., -1., -1., -1., -1., -1.,  1.,  1., -1.,  1.,  1.,  1.,\n",
      "           1.,  1.],\n",
      "         [ 1., -1., -1., -1., -1., -1., -1., -1.,  1.,  1., -1., -1., -1., -1.,\n",
      "           1.,  1.],\n",
      "         [-1., -1., -1., -1., -1., -1., -1., -1., -1., -1., -1., -1., -1., -1.,\n",
      "          -1., -1.],\n",
      "         [-1., -1.,  1.,  1., -1., -1.,  1.,  1.,  1.,  1., -1., -1., -1., -1.,\n",
      "          -1., -1.],\n",
      "         [-1., -1.,  1.,  1., -1.,  1.,  1.,  1., -1., -1., -1.,  1., -1., -1.,\n",
      "          -1., -1.],\n",
      "         [-1., -1., -1., -1., -1.,  1.,  1.,  1., -1., -1., -1.,  1., -1., -1.,\n",
      "          -1., -1.]]]) 2.5\n"
     ]
    }
   ],
   "source": [
    "print(spin_data[10000], temp_data[10000])"
   ]
  },
  {
   "cell_type": "code",
   "execution_count": 8,
   "metadata": {},
   "outputs": [],
   "source": [
    "# サンプルデータを訓練用とテスト用に分割(5:5)\n",
    "spin_train, spin_test, temp_train, temp_test = train_test_split(spin_data, temp_data, test_size=0.5)"
   ]
  },
  {
   "cell_type": "code",
   "execution_count": 9,
   "metadata": {},
   "outputs": [
    {
     "name": "stderr",
     "output_type": "stream",
     "text": [
      "C:\\Users\\sugay\\AppData\\Local\\Temp\\ipykernel_22076\\3927323180.py:2: UserWarning: To copy construct from a tensor, it is recommended to use sourceTensor.clone().detach() or sourceTensor.clone().detach().requires_grad_(True), rather than torch.tensor(sourceTensor).\n",
      "  spin_train = torch.tensor(spin_train, dtype=torch.float32)\n",
      "C:\\Users\\sugay\\AppData\\Local\\Temp\\ipykernel_22076\\3927323180.py:3: UserWarning: To copy construct from a tensor, it is recommended to use sourceTensor.clone().detach() or sourceTensor.clone().detach().requires_grad_(True), rather than torch.tensor(sourceTensor).\n",
      "  spin_test = torch.tensor(spin_test, dtype=torch.float32)\n"
     ]
    }
   ],
   "source": [
    "# PyTorchのテンソルに変換\n",
    "spin_train = torch.tensor(spin_train, dtype=torch.float32)\n",
    "spin_test = torch.tensor(spin_test, dtype=torch.float32)\n",
    "temp_train = torch.tensor(temp_train, dtype=torch.float32).view(-1, 1)  # (25000,) -> (25000, 1)\n",
    "temp_test = torch.tensor(temp_test, dtype=torch.float32).view(-1, 1)    # (6250,) -> (6250, 1)"
   ]
  },
  {
   "cell_type": "code",
   "execution_count": 10,
   "metadata": {},
   "outputs": [
    {
     "data": {
      "text/plain": [
       "tensor([[[-1., -1.,  1., -1., -1.,  1., -1., -1.,  1., -1., -1., -1.,  1.,  1.,\n",
       "          -1., -1.],\n",
       "         [ 1.,  1.,  1.,  1., -1., -1., -1.,  1.,  1., -1., -1.,  1.,  1.,  1.,\n",
       "          -1.,  1.],\n",
       "         [-1., -1., -1., -1.,  1.,  1., -1., -1.,  1., -1.,  1.,  1.,  1., -1.,\n",
       "           1.,  1.],\n",
       "         [ 1., -1., -1.,  1.,  1., -1., -1., -1., -1.,  1.,  1., -1.,  1.,  1.,\n",
       "           1.,  1.],\n",
       "         [ 1., -1., -1., -1.,  1.,  1.,  1., -1., -1.,  1., -1., -1.,  1.,  1.,\n",
       "          -1., -1.],\n",
       "         [-1., -1., -1., -1., -1., -1.,  1., -1., -1., -1., -1., -1.,  1.,  1.,\n",
       "          -1.,  1.],\n",
       "         [ 1., -1., -1., -1., -1.,  1.,  1.,  1., -1., -1., -1., -1.,  1., -1.,\n",
       "          -1.,  1.],\n",
       "         [-1., -1., -1., -1., -1., -1.,  1., -1., -1., -1., -1.,  1., -1., -1.,\n",
       "           1.,  1.],\n",
       "         [ 1., -1., -1., -1., -1., -1., -1.,  1., -1.,  1.,  1.,  1.,  1.,  1.,\n",
       "           1.,  1.],\n",
       "         [ 1., -1., -1., -1.,  1.,  1.,  1.,  1.,  1.,  1., -1.,  1.,  1., -1.,\n",
       "           1.,  1.],\n",
       "         [-1., -1.,  1.,  1.,  1., -1.,  1.,  1.,  1.,  1., -1.,  1.,  1.,  1.,\n",
       "           1.,  1.],\n",
       "         [ 1.,  1., -1., -1., -1.,  1.,  1., -1., -1., -1.,  1.,  1.,  1.,  1.,\n",
       "          -1., -1.],\n",
       "         [-1.,  1.,  1., -1.,  1.,  1.,  1.,  1., -1., -1., -1.,  1., -1.,  1.,\n",
       "           1., -1.],\n",
       "         [-1.,  1., -1.,  1.,  1.,  1., -1., -1., -1.,  1., -1., -1., -1., -1.,\n",
       "          -1.,  1.],\n",
       "         [-1., -1., -1.,  1., -1.,  1., -1., -1.,  1.,  1.,  1., -1., -1., -1.,\n",
       "          -1., -1.],\n",
       "         [-1.,  1.,  1.,  1., -1., -1., -1.,  1.,  1.,  1.,  1.,  1.,  1., -1.,\n",
       "          -1.,  1.]]])"
      ]
     },
     "execution_count": 10,
     "metadata": {},
     "output_type": "execute_result"
    }
   ],
   "source": [
    "spin_train[1]"
   ]
  },
  {
   "cell_type": "code",
   "execution_count": 11,
   "metadata": {},
   "outputs": [
    {
     "data": {
      "text/plain": [
       "tensor([5.7500])"
      ]
     },
     "execution_count": 11,
     "metadata": {},
     "output_type": "execute_result"
    }
   ],
   "source": [
    "temp_train[1]"
   ]
  },
  {
   "cell_type": "markdown",
   "metadata": {},
   "source": [
    "正解データはone-hot表現にする必要がある"
   ]
  },
  {
   "cell_type": "code",
   "execution_count": 12,
   "metadata": {},
   "outputs": [],
   "source": [
    "# テンソルを新しいテンソルに変換する関数を定義\n",
    "def to_one_hot(data, num_classes=25):\n",
    "    # one-hotベクトルの初期化\n",
    "    one_hot = torch.zeros(len(data), num_classes)\n",
    "    \n",
    "    # 各要素を25次元のone-hotベクトルに変換\n",
    "    for i, val in enumerate(data):\n",
    "        index = int((val - 0.01) / 0.24)  # 正しいインデックスの計算\n",
    "        one_hot[i, index] = 1.0\n",
    "    \n",
    "    return one_hot\n",
    "\n",
    "# temp_train,temp_testをone-hotベクトルに変換\n",
    "one_hot_temp_train = to_one_hot(temp_train, num_classes=25)\n",
    "one_hot_temp_test = to_one_hot(temp_test, num_classes=25)"
   ]
  },
  {
   "cell_type": "code",
   "execution_count": 13,
   "metadata": {},
   "outputs": [
    {
     "data": {
      "text/plain": [
       "tensor([0., 1., 0., 0., 0., 0., 0., 0., 0., 0., 0., 0., 0., 0., 0., 0., 0., 0.,\n",
       "        0., 0., 0., 0., 0., 0., 0.])"
      ]
     },
     "execution_count": 13,
     "metadata": {},
     "output_type": "execute_result"
    }
   ],
   "source": [
    "one_hot_temp_train[0]"
   ]
  },
  {
   "cell_type": "code",
   "execution_count": 14,
   "metadata": {},
   "outputs": [
    {
     "data": {
      "text/plain": [
       "tensor([0.2500])"
      ]
     },
     "execution_count": 14,
     "metadata": {},
     "output_type": "execute_result"
    }
   ],
   "source": [
    "temp_train[0]"
   ]
  },
  {
   "cell_type": "code",
   "execution_count": 15,
   "metadata": {},
   "outputs": [],
   "source": [
    "# データセットの作成\n",
    "train_dataset = TensorDataset(spin_train, one_hot_temp_train)\n",
    "test_dataset = TensorDataset(spin_test, one_hot_temp_test)"
   ]
  },
  {
   "cell_type": "code",
   "execution_count": 16,
   "metadata": {},
   "outputs": [
    {
     "data": {
      "text/plain": [
       "(tensor([[[-1., -1., -1., -1., -1., -1., -1., -1., -1., -1., -1., -1., -1., -1.,\n",
       "           -1., -1.],\n",
       "          [-1., -1., -1., -1., -1., -1., -1., -1., -1., -1., -1., -1., -1., -1.,\n",
       "           -1., -1.],\n",
       "          [-1., -1., -1., -1., -1., -1., -1., -1., -1., -1., -1., -1., -1., -1.,\n",
       "           -1., -1.],\n",
       "          [-1., -1., -1., -1., -1., -1., -1., -1., -1., -1., -1., -1., -1., -1.,\n",
       "           -1., -1.],\n",
       "          [-1., -1., -1., -1., -1., -1., -1., -1., -1., -1., -1., -1., -1., -1.,\n",
       "           -1., -1.],\n",
       "          [-1., -1., -1., -1., -1., -1., -1., -1., -1., -1., -1., -1., -1., -1.,\n",
       "           -1., -1.],\n",
       "          [-1., -1., -1., -1., -1., -1., -1., -1., -1., -1., -1., -1., -1., -1.,\n",
       "           -1., -1.],\n",
       "          [-1., -1., -1., -1., -1., -1., -1., -1., -1., -1., -1., -1., -1., -1.,\n",
       "           -1., -1.],\n",
       "          [-1., -1., -1., -1., -1., -1., -1., -1., -1., -1., -1., -1., -1., -1.,\n",
       "           -1., -1.],\n",
       "          [-1., -1., -1., -1., -1., -1., -1., -1., -1., -1., -1., -1., -1., -1.,\n",
       "           -1., -1.],\n",
       "          [-1., -1., -1., -1., -1., -1., -1., -1., -1., -1., -1., -1., -1., -1.,\n",
       "           -1., -1.],\n",
       "          [-1., -1., -1., -1., -1., -1., -1., -1., -1., -1., -1., -1., -1., -1.,\n",
       "           -1., -1.],\n",
       "          [-1., -1., -1., -1., -1., -1., -1., -1., -1., -1., -1., -1., -1., -1.,\n",
       "           -1., -1.],\n",
       "          [-1., -1., -1., -1., -1., -1., -1., -1., -1., -1., -1., -1., -1., -1.,\n",
       "           -1., -1.],\n",
       "          [-1., -1., -1., -1., -1., -1., -1., -1., -1., -1., -1., -1., -1., -1.,\n",
       "           -1., -1.],\n",
       "          [-1., -1., -1., -1., -1., -1., -1., -1., -1., -1., -1., -1., -1., -1.,\n",
       "           -1., -1.]]]),\n",
       " tensor([0., 1., 0., 0., 0., 0., 0., 0., 0., 0., 0., 0., 0., 0., 0., 0., 0., 0.,\n",
       "         0., 0., 0., 0., 0., 0., 0.]))"
      ]
     },
     "execution_count": 16,
     "metadata": {},
     "output_type": "execute_result"
    }
   ],
   "source": [
    "train_dataset[0]"
   ]
  },
  {
   "cell_type": "code",
   "execution_count": 17,
   "metadata": {},
   "outputs": [],
   "source": [
    "# 前処理を定義\n",
    "transform = transforms.Compose([\n",
    "#     transforms.RandomHorizontalFlip(p=0.5),\n",
    "#     transforms.RandomVerticalFlip(p=0.5),\n",
    "])\n",
    "\n",
    "# データセットに前処理を適用\n",
    "transformed_train_dataset = [(transform(tensor_sample), label) for tensor_sample, label in train_dataset]\n",
    "transformed_test_dataset = [(transform(tensor_sample), label) for tensor_sample, label in test_dataset]"
   ]
  },
  {
   "cell_type": "code",
   "execution_count": 18,
   "metadata": {},
   "outputs": [
    {
     "data": {
      "text/plain": [
       "(tensor([[[-1., -1., -1., -1., -1., -1., -1., -1., -1., -1., -1., -1., -1., -1.,\n",
       "           -1., -1.],\n",
       "          [-1., -1., -1., -1., -1., -1., -1., -1., -1., -1., -1., -1., -1., -1.,\n",
       "           -1., -1.],\n",
       "          [-1., -1., -1., -1., -1., -1., -1., -1., -1., -1., -1., -1., -1., -1.,\n",
       "           -1., -1.],\n",
       "          [-1., -1., -1., -1., -1., -1., -1., -1., -1., -1., -1., -1., -1., -1.,\n",
       "           -1., -1.],\n",
       "          [-1., -1., -1., -1., -1., -1., -1., -1., -1., -1., -1., -1., -1., -1.,\n",
       "           -1., -1.],\n",
       "          [-1., -1., -1., -1., -1., -1., -1., -1., -1., -1., -1., -1., -1., -1.,\n",
       "           -1., -1.],\n",
       "          [-1., -1., -1., -1., -1., -1., -1., -1., -1., -1., -1., -1., -1., -1.,\n",
       "           -1., -1.],\n",
       "          [-1., -1., -1., -1., -1., -1., -1., -1., -1., -1., -1., -1., -1., -1.,\n",
       "           -1., -1.],\n",
       "          [-1., -1., -1., -1., -1., -1., -1., -1., -1., -1., -1., -1., -1., -1.,\n",
       "           -1., -1.],\n",
       "          [-1., -1., -1., -1., -1., -1., -1., -1., -1., -1., -1., -1., -1., -1.,\n",
       "           -1., -1.],\n",
       "          [-1., -1., -1., -1., -1., -1., -1., -1., -1., -1., -1., -1., -1., -1.,\n",
       "           -1., -1.],\n",
       "          [-1., -1., -1., -1., -1., -1., -1., -1., -1., -1., -1., -1., -1., -1.,\n",
       "           -1., -1.],\n",
       "          [-1., -1., -1., -1., -1., -1., -1., -1., -1., -1., -1., -1., -1., -1.,\n",
       "           -1., -1.],\n",
       "          [-1., -1., -1., -1., -1., -1., -1., -1., -1., -1., -1., -1., -1., -1.,\n",
       "           -1., -1.],\n",
       "          [-1., -1., -1., -1., -1., -1., -1., -1., -1., -1., -1., -1., -1., -1.,\n",
       "           -1., -1.],\n",
       "          [-1., -1., -1., -1., -1., -1., -1., -1., -1., -1., -1., -1., -1., -1.,\n",
       "           -1., -1.]]]),\n",
       " tensor([0., 1., 0., 0., 0., 0., 0., 0., 0., 0., 0., 0., 0., 0., 0., 0., 0., 0.,\n",
       "         0., 0., 0., 0., 0., 0., 0.]))"
      ]
     },
     "execution_count": 18,
     "metadata": {},
     "output_type": "execute_result"
    }
   ],
   "source": [
    "transformed_train_dataset[0]"
   ]
  },
  {
   "cell_type": "code",
   "execution_count": 19,
   "metadata": {},
   "outputs": [],
   "source": [
    "# DataLoaderの設定（バッチサイズ125）\n",
    "train_loader = DataLoader(transformed_train_dataset, batch_size=125, shuffle=True)\n",
    "test_loader = DataLoader(transformed_test_dataset, batch_size=125)"
   ]
  },
  {
   "cell_type": "code",
   "execution_count": 20,
   "metadata": {},
   "outputs": [
    {
     "data": {
      "text/plain": [
       "tensor([[0., 0., 0.,  ..., 0., 0., 0.],\n",
       "        [0., 0., 0.,  ..., 0., 0., 1.],\n",
       "        [0., 0., 0.,  ..., 0., 0., 0.],\n",
       "        ...,\n",
       "        [0., 0., 0.,  ..., 0., 0., 0.],\n",
       "        [0., 1., 0.,  ..., 0., 0., 0.],\n",
       "        [0., 0., 0.,  ..., 0., 0., 0.]])"
      ]
     },
     "execution_count": 20,
     "metadata": {},
     "output_type": "execute_result"
    }
   ],
   "source": [
    "data_iter = iter(train_loader)\n",
    "imgs, labels = next(data_iter)\n",
    "labels"
   ]
  },
  {
   "cell_type": "code",
   "execution_count": 21,
   "metadata": {},
   "outputs": [
    {
     "data": {
      "text/plain": [
       "(torch.Size([125, 1, 16, 16]), torch.Size([125, 25]))"
      ]
     },
     "execution_count": 21,
     "metadata": {},
     "output_type": "execute_result"
    }
   ],
   "source": [
    "imgs.size(), labels.size()"
   ]
  },
  {
   "cell_type": "code",
   "execution_count": 22,
   "metadata": {},
   "outputs": [
    {
     "data": {
      "text/plain": [
       "(torch.Size([125, 1, 16, 16]), torch.Size([125, 25]))"
      ]
     },
     "execution_count": 22,
     "metadata": {},
     "output_type": "execute_result"
    }
   ],
   "source": [
    "x, t = next(iter(train_loader))\n",
    "x.shape, t.shape"
   ]
  },
  {
   "cell_type": "markdown",
   "metadata": {},
   "source": [
    "モデルを定義"
   ]
  },
  {
   "cell_type": "code",
   "execution_count": 23,
   "metadata": {},
   "outputs": [],
   "source": [
    "class CNN(nn.Module):\n",
    "    def __init__(self, input_size, output_size, in_channels, out_channels):\n",
    "        super().__init__()\n",
    "        # 畳み込みの部分\n",
    "        self.conv = nn.Sequential(\n",
    "            nn.ReflectionPad2d(1),  # 反射パディング\n",
    "            nn.Conv2d(in_channels, out_channels, kernel_size=3, stride=int(((input_size)**0.5)/4), bias=False),\n",
    "            nn.ReLU(inplace=True),\n",
    "        )\n",
    "        # 全結合の部分\n",
    "        self.fc = nn.Sequential(\n",
    "            nn.Linear(out_channels*4*4, output_size, bias=False),\n",
    "            nn.Softmax(dim=1)\n",
    "        )\n",
    "    def forward(self, x):\n",
    "        x = self.conv(x)\n",
    "        x = x.view(x.size(0), -1)\n",
    "        x = self.fc(x)\n",
    "        return x"
   ]
  },
  {
   "cell_type": "markdown",
   "metadata": {},
   "source": [
    "モデルのインスタンス化"
   ]
  },
  {
   "cell_type": "code",
   "execution_count": 24,
   "metadata": {},
   "outputs": [
    {
     "name": "stdout",
     "output_type": "stream",
     "text": [
      "CNN(\n",
      "  (conv): Sequential(\n",
      "    (0): ReflectionPad2d((1, 1, 1, 1))\n",
      "    (1): Conv2d(1, 5, kernel_size=(3, 3), stride=(4, 4), bias=False)\n",
      "    (2): ReLU(inplace=True)\n",
      "  )\n",
      "  (fc): Sequential(\n",
      "    (0): Linear(in_features=80, out_features=25, bias=False)\n",
      "    (1): Softmax(dim=1)\n",
      "  )\n",
      ")\n"
     ]
    }
   ],
   "source": [
    "input_size = 16*16\n",
    "output_size = 25\n",
    "in_channels = 1\n",
    "out_channels = 5  \n",
    "model = CNN(input_size, output_size, in_channels, out_channels)\n",
    "model.to(device)\n",
    "# モデルの概要表示\n",
    "print(model)"
   ]
  },
  {
   "cell_type": "markdown",
   "metadata": {},
   "source": [
    "損失関数と最適化アルゴリズムの設定"
   ]
  },
  {
   "cell_type": "code",
   "execution_count": 25,
   "metadata": {},
   "outputs": [],
   "source": [
    "criterion = nn.CrossEntropyLoss()   # クロスエントロピー誤差\n",
    "optimizer = optim.Adam(model.parameters(), lr=0.003)     # Adam,L2正則化{, weight_decay=5e-4}"
   ]
  },
  {
   "cell_type": "markdown",
   "metadata": {},
   "source": [
    "学習の実行"
   ]
  },
  {
   "cell_type": "code",
   "execution_count": 26,
   "metadata": {},
   "outputs": [
    {
     "name": "stdout",
     "output_type": "stream",
     "text": [
      "epoch: 0, loss: 3.1921058392524717, acc: 0.08352000266313553, test loss: 3.1777654123306274, test acc: 0.09480000287294388\n",
      "epoch: 1, loss: 3.164642641544342, acc: 0.11592000722885132, test loss: 3.1661509037017823, test acc: 0.11208000034093857\n",
      "epoch: 2, loss: 3.151130373477936, acc: 0.13936001062393188, test loss: 3.1576090264320373, test acc: 0.12296005338430405\n",
      "epoch: 3, loss: 3.134681305885315, acc: 0.15880002081394196, test loss: 3.1503283953666688, test acc: 0.13176003098487854\n",
      "epoch: 4, loss: 3.122171483039856, acc: 0.1714400351047516, test loss: 3.147174048423767, test acc: 0.13335999846458435\n",
      "epoch: 5, loss: 3.111775360107422, acc: 0.17984001338481903, test loss: 3.143009865283966, test acc: 0.14128005504608154\n",
      "epoch: 6, loss: 3.1041162395477295, acc: 0.18903999030590057, test loss: 3.1425084853172303, test acc: 0.13760003447532654\n",
      "epoch: 7, loss: 3.0972571063041685, acc: 0.19944000244140625, test loss: 3.1413987398147585, test acc: 0.1380000114440918\n",
      "epoch: 8, loss: 3.092902138233185, acc: 0.2019200176000595, test loss: 3.1435595512390138, test acc: 0.13200002908706665\n",
      "epoch: 9, loss: 3.086473150253296, acc: 0.20872001349925995, test loss: 3.1439781951904298, test acc: 0.1313600242137909\n",
      "epoch: 10, loss: 3.083577060699463, acc: 0.2133600413799286, test loss: 3.141715908050537, test acc: 0.13512000441551208\n",
      "epoch: 11, loss: 3.0777555775642393, acc: 0.2189600020647049, test loss: 3.1420020771026613, test acc: 0.13512003421783447\n",
      "epoch: 12, loss: 3.074942183494568, acc: 0.2215999960899353, test loss: 3.1421156883239747, test acc: 0.1348000168800354\n",
      "epoch: 13, loss: 3.0721037340164186, acc: 0.2258400321006775, test loss: 3.1394832491874696, test acc: 0.14344000816345215\n",
      "epoch: 14, loss: 3.0687075877189636, acc: 0.22808000445365906, test loss: 3.1396429681777955, test acc: 0.14160002768039703\n",
      "epoch: 15, loss: 3.066315321922302, acc: 0.23120000958442688, test loss: 3.1405319499969484, test acc: 0.1369599997997284\n",
      "epoch: 16, loss: 3.063896095752716, acc: 0.23304006457328796, test loss: 3.14396968126297, test acc: 0.13415999710559845\n",
      "epoch: 17, loss: 3.0615476036071776, acc: 0.2348000407218933, test loss: 3.139475419521332, test acc: 0.14304006099700928\n",
      "epoch: 18, loss: 3.0581519031524658, acc: 0.2399200201034546, test loss: 3.140090374946594, test acc: 0.14104002714157104\n",
      "epoch: 19, loss: 3.0586103129386903, acc: 0.23615999519824982, test loss: 3.1408721017837524, test acc: 0.1384800374507904\n",
      "epoch: 20, loss: 3.0564054656028747, acc: 0.23864001035690308, test loss: 3.143787372112274, test acc: 0.1350400149822235\n",
      "epoch: 21, loss: 3.055069873332977, acc: 0.2422400414943695, test loss: 3.140568859577179, test acc: 0.13448002934455872\n",
      "epoch: 22, loss: 3.0529537320137026, acc: 0.24400004744529724, test loss: 3.1399061632156373, test acc: 0.1408800482749939\n",
      "epoch: 23, loss: 3.050471000671387, acc: 0.2471199929714203, test loss: 3.1397898316383364, test acc: 0.14207999408245087\n",
      "epoch: 24, loss: 3.048527913093567, acc: 0.2499200701713562, test loss: 3.1401613092422487, test acc: 0.1396000236272812\n",
      "epoch: 25, loss: 3.047716209888458, acc: 0.2505599856376648, test loss: 3.1395378136634826, test acc: 0.14152000844478607\n",
      "epoch: 26, loss: 3.046444981098175, acc: 0.25200003385543823, test loss: 3.1398424649238588, test acc: 0.14152000844478607\n",
      "epoch: 27, loss: 3.0450427293777467, acc: 0.25127995014190674, test loss: 3.142462658882141, test acc: 0.13408000767230988\n",
      "epoch: 28, loss: 3.0441749930381774, acc: 0.2550400495529175, test loss: 3.138986806869507, test acc: 0.141759991645813\n",
      "epoch: 29, loss: 3.042737808227539, acc: 0.2555199861526489, test loss: 3.140941653251648, test acc: 0.13992004096508026\n",
      "epoch: 30, loss: 3.0419834423065186, acc: 0.2556000053882599, test loss: 3.1399938464164734, test acc: 0.14176002144813538\n",
      "epoch: 31, loss: 3.0414026618003844, acc: 0.2553600072860718, test loss: 3.1400190234184264, test acc: 0.141199991106987\n",
      "epoch: 32, loss: 3.0393454790115357, acc: 0.25647997856140137, test loss: 3.1417050766944885, test acc: 0.13336001336574554\n",
      "epoch: 33, loss: 3.0390949296951293, acc: 0.2587999403476715, test loss: 3.140882759094238, test acc: 0.14016002416610718\n",
      "epoch: 34, loss: 3.039258875846863, acc: 0.25727999210357666, test loss: 3.1439737987518313, test acc: 0.13488002121448517\n",
      "epoch: 35, loss: 3.039569854736328, acc: 0.2577599883079529, test loss: 3.141359820365906, test acc: 0.1348000168800354\n",
      "epoch: 36, loss: 3.0364190125465393, acc: 0.26016002893447876, test loss: 3.140139408111572, test acc: 0.1430400311946869\n",
      "epoch: 37, loss: 3.035931830406189, acc: 0.26175999641418457, test loss: 3.1418634462356567, test acc: 0.13928000628948212\n",
      "epoch: 38, loss: 3.0350015354156494, acc: 0.26239997148513794, test loss: 3.1402585244178773, test acc: 0.14112000167369843\n",
      "epoch: 39, loss: 3.0331025242805483, acc: 0.2634400427341461, test loss: 3.1416541075706483, test acc: 0.13392002880573273\n",
      "epoch: 40, loss: 3.0337054443359377, acc: 0.26392000913619995, test loss: 3.140618598461151, test acc: 0.13952003419399261\n",
      "epoch: 41, loss: 3.0320279216766357, acc: 0.2648800015449524, test loss: 3.1401166129112243, test acc: 0.14079999923706055\n",
      "epoch: 42, loss: 3.0310779190063477, acc: 0.2655999958515167, test loss: 3.1397520017623903, test acc: 0.1406400054693222\n",
      "epoch: 43, loss: 3.031562132835388, acc: 0.2648800015449524, test loss: 3.1401401209831237, test acc: 0.1419999897480011\n",
      "epoch: 44, loss: 3.035461258888245, acc: 0.26168006658554077, test loss: 3.14754625082016, test acc: 0.1345600187778473\n",
      "epoch: 45, loss: 3.031300013065338, acc: 0.2640799880027771, test loss: 3.139900918006897, test acc: 0.141680046916008\n",
      "epoch: 46, loss: 3.0284029626846314, acc: 0.26719996333122253, test loss: 3.1398401856422424, test acc: 0.14159999787807465\n",
      "epoch: 47, loss: 3.029379065036774, acc: 0.26607999205589294, test loss: 3.1415349769592287, test acc: 0.14048004150390625\n",
      "epoch: 48, loss: 3.027802565097809, acc: 0.2685600221157074, test loss: 3.141409783363342, test acc: 0.1387999802827835\n",
      "epoch: 49, loss: 3.0283616256713866, acc: 0.26743996143341064, test loss: 3.142314462661743, test acc: 0.13319997489452362\n",
      "epoch: 50, loss: 3.0270430207252503, acc: 0.26896002888679504, test loss: 3.139579083919525, test acc: 0.14240002632141113\n",
      "epoch: 51, loss: 3.0261708092689514, acc: 0.2704799771308899, test loss: 3.1398993849754335, test acc: 0.1419200450181961\n",
      "epoch: 52, loss: 3.0255008602142333, acc: 0.2694399654865265, test loss: 3.1410830307006834, test acc: 0.141680046916008\n",
      "epoch: 53, loss: 3.026196026802063, acc: 0.2691200375556946, test loss: 3.1416928339004517, test acc: 0.14024001359939575\n",
      "epoch: 54, loss: 3.024980278015137, acc: 0.27216002345085144, test loss: 3.1415225315093993, test acc: 0.13920003175735474\n",
      "epoch: 55, loss: 3.024597737789154, acc: 0.27000001072883606, test loss: 3.1398108983039856, test acc: 0.14200003445148468\n",
      "epoch: 56, loss: 3.023472235202789, acc: 0.2714399993419647, test loss: 3.1394001269340515, test acc: 0.14256000518798828\n",
      "epoch: 57, loss: 3.023425643444061, acc: 0.2731199860572815, test loss: 3.140193212032318, test acc: 0.1419200450181961\n",
      "epoch: 58, loss: 3.023878688812256, acc: 0.272320032119751, test loss: 3.145842442512512, test acc: 0.13408002257347107\n",
      "epoch: 59, loss: 3.0238103532791136, acc: 0.2709600329399109, test loss: 3.1411774921417237, test acc: 0.14128004014492035\n",
      "epoch: 60, loss: 3.0218616104125977, acc: 0.27296003699302673, test loss: 3.140841624736786, test acc: 0.14056004583835602\n",
      "epoch: 61, loss: 3.021651270389557, acc: 0.27344000339508057, test loss: 3.1438155508041383, test acc: 0.13232000172138214\n",
      "epoch: 62, loss: 3.0222693872451782, acc: 0.27216005325317383, test loss: 3.1404525804519654, test acc: 0.1419200450181961\n",
      "epoch: 63, loss: 3.021364767551422, acc: 0.2736000120639801, test loss: 3.14066068649292, test acc: 0.14232002198696136\n",
      "epoch: 64, loss: 3.021577377319336, acc: 0.2726399302482605, test loss: 3.1396873593330383, test acc: 0.1420000046491623\n",
      "epoch: 65, loss: 3.0205956411361696, acc: 0.2720800042152405, test loss: 3.140768883228302, test acc: 0.14208000898361206\n",
      "epoch: 66, loss: 3.0193020915985107, acc: 0.2750399708747864, test loss: 3.140890872478485, test acc: 0.14159999787807465\n",
      "epoch: 67, loss: 3.020002691745758, acc: 0.2736799716949463, test loss: 3.1399034571647646, test acc: 0.1419200301170349\n",
      "epoch: 68, loss: 3.0270366978645327, acc: 0.2671999931335449, test loss: 3.1479084157943724, test acc: 0.13512001931667328\n",
      "epoch: 69, loss: 3.021269953250885, acc: 0.2711200416088104, test loss: 3.141508638858795, test acc: 0.14152002334594727\n",
      "epoch: 70, loss: 3.0197719073295595, acc: 0.27375999093055725, test loss: 3.1401367926597596, test acc: 0.14216002821922302\n",
      "epoch: 71, loss: 3.019735860824585, acc: 0.2727999985218048, test loss: 3.140024664402008, test acc: 0.14264000952243805\n",
      "epoch: 72, loss: 3.0176034665107725, acc: 0.27608004212379456, test loss: 3.1399533677101137, test acc: 0.14272001385688782\n",
      "epoch: 73, loss: 3.0184486174583434, acc: 0.2746399939060211, test loss: 3.139835331439972, test acc: 0.14216004312038422\n",
      "epoch: 74, loss: 3.016584725379944, acc: 0.2766399681568146, test loss: 3.1398571300506593, test acc: 0.14296001195907593\n",
      "epoch: 75, loss: 3.017357804775238, acc: 0.27479997277259827, test loss: 3.145390272140503, test acc: 0.13568000495433807\n",
      "epoch: 76, loss: 3.0181444764137266, acc: 0.27504003047943115, test loss: 3.140668411254883, test acc: 0.1424800306558609\n",
      "epoch: 77, loss: 3.0180084919929504, acc: 0.2753600776195526, test loss: 3.140623376369476, test acc: 0.1416800171136856\n",
      "epoch: 78, loss: 3.0181610012054443, acc: 0.2733600437641144, test loss: 3.1414399337768555, test acc: 0.1408800184726715\n",
      "epoch: 79, loss: 3.017104744911194, acc: 0.27616000175476074, test loss: 3.1406367015838623, test acc: 0.14216004312038422\n",
      "epoch: 80, loss: 3.0155928564071655, acc: 0.2766399681568146, test loss: 3.1404045963287355, test acc: 0.14288005232810974\n",
      "epoch: 81, loss: 3.0158358907699583, acc: 0.27727994322776794, test loss: 3.1404799890518187, test acc: 0.1416800171136856\n",
      "epoch: 82, loss: 3.0154882645606995, acc: 0.2778399884700775, test loss: 3.1398619842529296, test acc: 0.1430400013923645\n",
      "epoch: 83, loss: 3.0147735023498536, acc: 0.2783999741077423, test loss: 3.139830424785614, test acc: 0.14319999516010284\n",
      "epoch: 84, loss: 3.015559277534485, acc: 0.2762399911880493, test loss: 3.1417608976364138, test acc: 0.13936005532741547\n",
      "epoch: 85, loss: 3.0151732468605044, acc: 0.278080016374588, test loss: 3.140422639846802, test acc: 0.14232002198696136\n",
      "epoch: 86, loss: 3.015457818508148, acc: 0.27639997005462646, test loss: 3.1393086647987367, test acc: 0.14368000626564026\n",
      "epoch: 87, loss: 3.015500464439392, acc: 0.276559978723526, test loss: 3.1401320195198057, test acc: 0.142720028758049\n",
      "epoch: 88, loss: 3.0155147981643675, acc: 0.2762400507926941, test loss: 3.140480580329895, test acc: 0.14208000898361206\n",
      "epoch: 89, loss: 3.013057520389557, acc: 0.27960002422332764, test loss: 3.143331549167633, test acc: 0.1332000494003296\n",
      "epoch: 90, loss: 3.013866989612579, acc: 0.279680073261261, test loss: 3.139869611263275, test acc: 0.14232000708580017\n",
      "epoch: 91, loss: 3.0134682774543764, acc: 0.2784799635410309, test loss: 3.140103666782379, test acc: 0.14264005422592163\n",
      "epoch: 92, loss: 3.0145917749404907, acc: 0.27792006731033325, test loss: 3.1412743401527403, test acc: 0.14128002524375916\n",
      "epoch: 93, loss: 3.019181969165802, acc: 0.2717599868774414, test loss: 3.1407829904556275, test acc: 0.14136002957820892\n",
      "epoch: 94, loss: 3.012765636444092, acc: 0.27935999631881714, test loss: 3.140838029384613, test acc: 0.1412000209093094\n",
      "epoch: 95, loss: 3.012732274532318, acc: 0.27880001068115234, test loss: 3.1410926294326784, test acc: 0.14112001657485962\n",
      "epoch: 96, loss: 3.012784945964813, acc: 0.2788800001144409, test loss: 3.1410915660858154, test acc: 0.1419200450181961\n",
      "epoch: 97, loss: 3.012253305912018, acc: 0.2792799770832062, test loss: 3.1410078024864196, test acc: 0.14280001819133759\n",
      "epoch: 98, loss: 3.0119145560264586, acc: 0.2797599732875824, test loss: 3.1405107808113097, test acc: 0.14256002008914948\n",
      "epoch: 99, loss: 3.012049472332001, acc: 0.2800799608230591, test loss: 3.140055959224701, test acc: 0.1433599889278412\n"
     ]
    }
   ],
   "source": [
    "num_epochs = 100\n",
    "train_losses = []\n",
    "train_accs = []\n",
    "test_losses = []\n",
    "test_accs = []\n",
    "for epoch in range(num_epochs):\n",
    "    running_loss = 0.0\n",
    "    running_acc = 0.0\n",
    "    for inputs, targets in train_loader:\n",
    "        inputs = inputs.to(device)\n",
    "        targets = targets.to(device)\n",
    "        optimizer.zero_grad()\n",
    "        output = model(inputs)\n",
    "        loss = criterion(output, targets)\n",
    "        loss.backward()\n",
    "        running_loss += loss.item()\n",
    "        pred = torch.argmax(output, dim=1)      # outputの一番値が大きい成分\n",
    "        targets = torch.argmax(targets, dim=1)  # targetの一番値が大きい成分\n",
    "        running_acc += torch.mean(pred.eq(targets).float().cpu()) # predとtargetが同じになった数の平均\n",
    "        optimizer.step()\n",
    "    running_loss /= len(train_loader)   # 12500個の訓練データ全体での損失関数の平均\n",
    "    running_acc /= len(train_loader)    # 12500個の訓練データ全体での正解率\n",
    "    train_losses.append(running_loss)\n",
    "    train_accs.append(running_acc)\n",
    "    #\n",
    "    #   test loop\n",
    "    #\n",
    "    test_running_loss = 0.0\n",
    "    test_running_acc = 0.0\n",
    "    for test_inputs, test_targets in test_loader:\n",
    "        test_inputs = test_inputs.to(device)\n",
    "        test_targets = test_targets.to(device)\n",
    "        test_output = model(test_inputs)\n",
    "        test_loss = criterion(test_output, test_targets)\n",
    "        test_running_loss += test_loss.item()\n",
    "        test_pred = torch.argmax(test_output, dim=1)      # outputの一番値が大きい成分\n",
    "        test_targets = torch.argmax(test_targets, dim=1)  # targetの一番値が大きい成分\n",
    "        test_running_acc += torch.mean(test_pred.eq(test_targets).float().cpu()) # 正解数の平均\n",
    "    test_running_loss /= len(test_loader)   # 12500個の訓練データ全体での損失関数の平均\n",
    "    test_running_acc /= len(test_loader)    # 12500個の訓練データ全体での正解率\n",
    "    test_losses.append(test_running_loss)\n",
    "    test_accs.append(test_running_acc)\n",
    "        \n",
    "    print(\"epoch: {}, loss: {}, acc: {}, test loss: {}, test acc: {}\".format(epoch, running_loss, running_acc, test_running_loss, test_running_acc))"
   ]
  },
  {
   "cell_type": "markdown",
   "metadata": {},
   "source": [
    "損失関数と正解率のグラフの作成"
   ]
  },
  {
   "cell_type": "code",
   "execution_count": 27,
   "metadata": {},
   "outputs": [
    {
     "data": {
      "image/png": "[encoded data removed]",
      "text/plain": [
       "<Figure size 1200x400 with 2 Axes>"
      ]
     },
     "metadata": {},
     "output_type": "display_data"
    }
   ],
   "source": [
    "# グラフのプロット\n",
    "plt.figure(figsize=(12, 4))\n",
    "\n",
    "# 損失関数のグラフ\n",
    "plt.subplot(1, 2, 1)\n",
    "plt.plot(train_losses, label='Training Loss')\n",
    "plt.plot(test_losses, label='Test Loss')\n",
    "plt.xlabel('Epoch')\n",
    "plt.ylabel('Loss')\n",
    "plt.legend()\n",
    "\n",
    "# 正解率のグラフ\n",
    "plt.subplot(1, 2, 2)\n",
    "plt.plot(train_accs, label='Training Accuracy')\n",
    "plt.plot(test_accs, label='Test Accuracy')\n",
    "plt.xlabel('Epoch')\n",
    "plt.ylabel('Accuracy')\n",
    "plt.legend()\n",
    "\n",
    "plt.tight_layout()\n",
    "plt.show()"
   ]
  },
  {
   "cell_type": "markdown",
   "metadata": {},
   "source": [
    "実際に予測値と正解がどうなっているか見てみる"
   ]
  },
  {
   "cell_type": "code",
   "execution_count": 28,
   "metadata": {},
   "outputs": [
    {
     "name": "stdout",
     "output_type": "stream",
     "text": [
      "tensor([ 5, 12, 19,  5,  5, 14,  5,  6,  5,  0,  5, 23, 22,  5, 13,  5, 22,  0,\n",
      "        18,  6, 24, 12, 14, 11,  9, 10,  5, 12, 16, 15, 23,  9,  5, 24, 16, 14,\n",
      "        23,  6, 22, 15, 15, 22, 13,  5, 24,  5, 22, 13, 12, 24,  5, 11, 11, 14,\n",
      "        22, 17, 23,  5,  5,  5,  6, 10, 15,  0, 14, 10, 23,  5, 24,  0, 13,  5,\n",
      "         5,  5, 18,  9, 24, 15,  0, 10,  5,  6, 17,  6, 21, 24,  3,  1, 10, 15,\n",
      "        11, 14, 16, 11, 10,  1, 24,  5,  9,  5])\n"
     ]
    }
   ],
   "source": [
    "print(test_pred[:100])"
   ]
  },
  {
   "cell_type": "code",
   "execution_count": 29,
   "metadata": {},
   "outputs": [
    {
     "name": "stdout",
     "output_type": "stream",
     "text": [
      "tensor([ 0,  8, 24,  6,  3, 21,  3,  9,  2,  2,  2, 13, 20,  2, 15,  1, 15,  1,\n",
      "        21,  2, 22, 10, 24, 22,  9, 14,  0, 10, 22, 18, 15,  7,  1, 15, 24, 21,\n",
      "        20,  6, 18, 17, 19, 16, 19,  0, 24,  1, 20, 10, 12, 23,  0, 11,  9, 15,\n",
      "        23, 19, 18,  1,  1,  2,  6, 15, 16,  0, 12, 11, 17,  0, 18,  2, 12,  3,\n",
      "         3,  0, 11,  5, 23, 13,  1, 16,  4,  6, 24,  9, 23, 23,  6,  0, 10, 12,\n",
      "        15, 20, 16, 10, 11,  7, 20,  1,  7,  3])\n"
     ]
    }
   ],
   "source": [
    "print(test_targets[:100])"
   ]
  },
  {
   "cell_type": "code",
   "execution_count": 30,
   "metadata": {},
   "outputs": [
    {
     "data": {
      "text/plain": [
       "torch.Size([125, 25])"
      ]
     },
     "execution_count": 30,
     "metadata": {},
     "output_type": "execute_result"
    }
   ],
   "source": [
    "test_output.shape"
   ]
  },
  {
   "cell_type": "code",
   "execution_count": 31,
   "metadata": {},
   "outputs": [
    {
     "data": {
      "image/png": "[encoded data removed]",
      "text/plain": [
       "<Figure size 640x480 with 1 Axes>"
      ]
     },
     "metadata": {},
     "output_type": "display_data"
    },
    {
     "name": "stdout",
     "output_type": "stream",
     "text": [
      "tensor(0.)\n"
     ]
    },
    {
     "data": {
      "image/png": "[encoded data removed]",
      "text/plain": [
       "<Figure size 640x480 with 1 Axes>"
      ]
     },
     "metadata": {},
     "output_type": "display_data"
    },
    {
     "name": "stdout",
     "output_type": "stream",
     "text": [
      "tensor(2.)\n"
     ]
    },
    {
     "data": {
      "image/png": "[encoded data removed]",
      "text/plain": [
       "<Figure size 640x480 with 1 Axes>"
      ]
     },
     "metadata": {},
     "output_type": "display_data"
    },
    {
     "name": "stdout",
     "output_type": "stream",
     "text": [
      "tensor(6.)\n"
     ]
    }
   ],
   "source": [
    "# データのx軸値\n",
    "x = [i * 0.25 for i in range(25)]\n",
    "\n",
    "for n in range(3):\n",
    "    # テンソルをホストメモリにコピーしてNumpy配列に変換\n",
    "    test_output_cpu = test_output[n].detach().cpu().numpy()\n",
    "\n",
    "    # グラフを描画\n",
    "    plt.plot(x, test_output_cpu, marker='o', linestyle='-', color='b', markersize=5)\n",
    "\n",
    "    # グラフのタイトルと軸ラベルを設定\n",
    "    plt.title('line graph:')\n",
    "    plt.xlabel('Temperture')\n",
    "    plt.ylabel('probability distribution')\n",
    "\n",
    "    # グラフを表示\n",
    "    plt.show()\n",
    "\n",
    "    print(test_targets[n]*0.25)\n"
   ]
  },
  {
   "cell_type": "markdown",
   "metadata": {},
   "source": [
    "モデルの保存"
   ]
  },
  {
   "cell_type": "code",
   "execution_count": 32,
   "metadata": {},
   "outputs": [],
   "source": [
    "torch.save(model.state_dict(), 'data_storage/CNN_L16_v3.pth')"
   ]
  },
  {
   "cell_type": "code",
   "execution_count": null,
   "metadata": {},
   "outputs": [],
   "source": []
  }
 ],
 "metadata": {
  "kernelspec": {
   "display_name": "base",
   "language": "python",
   "name": "python3"
  },
  "language_info": {
   "codemirror_mode": {
    "name": "ipython",
    "version": 3
   },
   "file_extension": ".py",
   "mimetype": "text/x-python",
   "name": "python",
   "nbconvert_exporter": "python",
   "pygments_lexer": "ipython3",
   "version": "3.9.13"
  },
  "orig_nbformat": 4
 },
 "nbformat": 4,
 "nbformat_minor": 2
}
