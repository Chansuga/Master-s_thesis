{
 "cells": [
  {
   "cell_type": "code",
   "execution_count": 15,
   "metadata": {},
   "outputs": [],
   "source": [
    "# ライブラリのインポート\n",
    "import matplotlib.pyplot as plt\n",
    "import numpy as np\n",
    "import pandas as pd\n",
    "import seaborn as sns\n",
    "from tqdm.notebook import tqdm\n",
    "from sklearn.model_selection import train_test_split\n",
    "\n",
    "import torch\n",
    "import torch.nn as nn\n",
    "import torch.optim as optim\n",
    "import torch.nn.functional as F\n",
    "\n",
    "\n",
    "# deviceの設定 (cpu or gpu)\n",
    "device = torch.device(\"cuda\" if torch.cuda.is_available() else \"cpu\")\n",
    "\n"
   ]
  },
  {
   "cell_type": "code",
   "execution_count": 41,
   "metadata": {},
   "outputs": [
    {
     "name": "stdout",
     "output_type": "stream",
     "text": [
      "(25000, 101)\n",
      "     0    1    2    3    4    5    6    7    8    9  ...   91   92   93   94  \\\n",
      "0 -1.0 -1.0 -1.0 -1.0 -1.0 -1.0 -1.0 -1.0 -1.0 -1.0  ... -1.0 -1.0 -1.0 -1.0   \n",
      "1 -1.0 -1.0 -1.0 -1.0 -1.0 -1.0 -1.0 -1.0 -1.0 -1.0  ... -1.0 -1.0 -1.0 -1.0   \n",
      "2 -1.0 -1.0 -1.0  1.0  1.0  1.0 -1.0 -1.0 -1.0 -1.0  ... -1.0 -1.0  1.0  1.0   \n",
      "3 -1.0 -1.0 -1.0 -1.0 -1.0 -1.0 -1.0 -1.0 -1.0 -1.0  ...  1.0  1.0  1.0  1.0   \n",
      "4 -1.0 -1.0 -1.0 -1.0 -1.0 -1.0 -1.0 -1.0 -1.0 -1.0  ... -1.0 -1.0 -1.0 -1.0   \n",
      "\n",
      "    95   96   97   98   99   100  \n",
      "0 -1.0 -1.0 -1.0 -1.0 -1.0  0.01  \n",
      "1 -1.0 -1.0 -1.0 -1.0 -1.0  0.01  \n",
      "2  1.0 -1.0 -1.0 -1.0 -1.0  0.01  \n",
      "3  1.0  1.0  1.0  1.0  1.0  0.01  \n",
      "4 -1.0 -1.0 -1.0 -1.0 -1.0  0.01  \n",
      "\n",
      "[5 rows x 101 columns]\n",
      "(25000, 101)\n"
     ]
    },
    {
     "data": {
      "text/plain": [
       "pandas.core.frame.DataFrame"
      ]
     },
     "execution_count": 41,
     "metadata": {},
     "output_type": "execute_result"
    }
   ],
   "source": [
    "# data.csvをインポート\n",
    "df = pd.read_csv('dataframe.csv')\n",
    "print(df.shape)\n",
    "print(df.head())\n",
    "# データのサイズを確認\n",
    "print(df.shape)\n",
    "# 型を確認\n",
    "type(df)"
   ]
  },
  {
   "cell_type": "code",
   "execution_count": 43,
   "metadata": {},
   "outputs": [
    {
     "name": "stdout",
     "output_type": "stream",
     "text": [
      "         0    1    2    3    4    5    6    7    8    9  ...   90   91   92  \\\n",
      "0     -1.0 -1.0 -1.0 -1.0 -1.0 -1.0 -1.0 -1.0 -1.0 -1.0  ... -1.0 -1.0 -1.0   \n",
      "1     -1.0 -1.0 -1.0 -1.0 -1.0 -1.0 -1.0 -1.0 -1.0 -1.0  ... -1.0 -1.0 -1.0   \n",
      "2     -1.0 -1.0 -1.0  1.0  1.0  1.0 -1.0 -1.0 -1.0 -1.0  ... -1.0 -1.0 -1.0   \n",
      "3     -1.0 -1.0 -1.0 -1.0 -1.0 -1.0 -1.0 -1.0 -1.0 -1.0  ...  1.0  1.0  1.0   \n",
      "4     -1.0 -1.0 -1.0 -1.0 -1.0 -1.0 -1.0 -1.0 -1.0 -1.0  ... -1.0 -1.0 -1.0   \n",
      "...    ...  ...  ...  ...  ...  ...  ...  ...  ...  ...  ...  ...  ...  ...   \n",
      "24995 -1.0 -1.0 -1.0  1.0 -1.0  1.0 -1.0  1.0 -1.0 -1.0  ...  1.0 -1.0 -1.0   \n",
      "24996 -1.0 -1.0 -1.0 -1.0 -1.0  1.0  1.0  1.0  1.0  1.0  ...  1.0 -1.0 -1.0   \n",
      "24997 -1.0 -1.0 -1.0 -1.0 -1.0 -1.0  1.0  1.0 -1.0  1.0  ...  1.0 -1.0 -1.0   \n",
      "24998 -1.0 -1.0 -1.0  1.0  1.0 -1.0 -1.0  1.0  1.0 -1.0  ... -1.0 -1.0 -1.0   \n",
      "24999  1.0  1.0  1.0  1.0  1.0 -1.0 -1.0  1.0 -1.0  1.0  ... -1.0  1.0 -1.0   \n",
      "\n",
      "        93   94   95   96   97   98   99  \n",
      "0     -1.0 -1.0 -1.0 -1.0 -1.0 -1.0 -1.0  \n",
      "1     -1.0 -1.0 -1.0 -1.0 -1.0 -1.0 -1.0  \n",
      "2      1.0  1.0  1.0 -1.0 -1.0 -1.0 -1.0  \n",
      "3      1.0  1.0  1.0  1.0  1.0  1.0  1.0  \n",
      "4     -1.0 -1.0 -1.0 -1.0 -1.0 -1.0 -1.0  \n",
      "...    ...  ...  ...  ...  ...  ...  ...  \n",
      "24995 -1.0 -1.0 -1.0 -1.0 -1.0 -1.0  1.0  \n",
      "24996  1.0 -1.0  1.0  1.0 -1.0  1.0  1.0  \n",
      "24997 -1.0 -1.0 -1.0  1.0  1.0  1.0  1.0  \n",
      "24998 -1.0 -1.0  1.0 -1.0  1.0 -1.0 -1.0  \n",
      "24999  1.0  1.0 -1.0 -1.0  1.0 -1.0 -1.0  \n",
      "\n",
      "[25000 rows x 100 columns]\n",
      "0        0.01\n",
      "1        0.01\n",
      "2        0.01\n",
      "3        0.01\n",
      "4        0.01\n",
      "         ... \n",
      "24995    6.00\n",
      "24996    6.00\n",
      "24997    6.00\n",
      "24998    6.00\n",
      "24999    6.00\n",
      "Name: 100, Length: 25000, dtype: float64\n"
     ]
    }
   ],
   "source": [
    "# 教師データを分離する\n",
    "data = df.iloc[:, 0: 100]\n",
    "teacher_data = df.iloc[:, 100]\n",
    "print(data)\n",
    "print(teacher_data)"
   ]
  },
  {
   "cell_type": "code",
   "execution_count": 45,
   "metadata": {},
   "outputs": [
    {
     "name": "stdout",
     "output_type": "stream",
     "text": [
      "<class 'torch.Tensor'>\n"
     ]
    }
   ],
   "source": [
    "# pytorchで機械学習を行うためデータの型を\n",
    "tensor_df = torch.tensor(df.values, dtype=torch.float32)\n",
    "# 型を確認\n",
    "print(type(tensor_df))\n",
    "# 訓練用データとテスト用データに比率5:5でランダムに分割\n",
    "X_train, X_test, y_train, y_test = train_test_split(data, teacher_data, train_size=0.5)"
   ]
  },
  {
   "cell_type": "markdown",
   "metadata": {},
   "source": [
    "ここまでで機械学習用のデータを作成することができた．以降，RBMの実装を行っていく"
   ]
  },
  {
   "cell_type": "code",
   "execution_count": null,
   "metadata": {},
   "outputs": [],
   "source": []
  }
 ],
 "metadata": {
  "kernelspec": {
   "display_name": "base",
   "language": "python",
   "name": "python3"
  },
  "language_info": {
   "codemirror_mode": {
    "name": "ipython",
    "version": 3
   },
   "file_extension": ".py",
   "mimetype": "text/x-python",
   "name": "python",
   "nbconvert_exporter": "python",
   "pygments_lexer": "ipython3",
   "version": "3.10.9"
  },
  "orig_nbformat": 4
 },
 "nbformat": 4,
 "nbformat_minor": 2
}
