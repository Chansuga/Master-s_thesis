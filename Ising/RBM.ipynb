{
 "cells": [
  {
   "cell_type": "code",
   "execution_count": 16,
   "metadata": {},
   "outputs": [
    {
     "name": "stdout",
     "output_type": "stream",
     "text": [
      "   1    2    3    4    5    6    7    8    9    10   ...  92   93   94   95   \\\n",
      "0   -1   -1   -1   -1   -1   -1   -1   -1   -1   -1  ...   -1   -1   -1   -1   \n",
      "1   -1   -1   -1   -1   -1   -1   -1   -1   -1   -1  ...   -1   -1   -1   -1   \n",
      "2   -1   -1   -1   -1   -1   -1   -1   -1   -1   -1  ...   -1   -1   -1   -1   \n",
      "3   -1    1    1   -1   -1   -1   -1   -1   -1   -1  ...    1    1    1   -1   \n",
      "4   -1   -1   -1   -1   -1   -1   -1   -1    1   -1  ...   -1   -1   -1   -1   \n",
      "\n",
      "   96   97   98   99   100   101  \n",
      "0   -1   -1   -1   -1   -1  0.01  \n",
      "1   -1   -1   -1   -1   -1  0.01  \n",
      "2   -1   -1   -1   -1   -1  0.01  \n",
      "3   -1   -1   -1   -1    1  0.01  \n",
      "4   -1   -1   -1   -1   -1  0.01  \n",
      "\n",
      "[5 rows x 101 columns]\n"
     ]
    }
   ],
   "source": [
    "# ライブラリのインポート\n",
    "import pandas as pd\n",
    "\n",
    "df = pd.read_csv('data.csv')\n",
    "\n",
    "# 列を1,2,3,...,101のように連番で指定\n",
    "df = df.reset_index(drop=True)\n",
    "df.columns = range(1, len(df.columns) + 1)\n",
    "# 先頭5列を表示\n",
    "print(df.head())"
   ]
  },
  {
   "cell_type": "code",
   "execution_count": 15,
   "metadata": {},
   "outputs": [
    {
     "name": "stdout",
     "output_type": "stream",
     "text": [
      "1     -1.00\n",
      "2     -1.00\n",
      "3     -1.00\n",
      "4     -1.00\n",
      "5     -1.00\n",
      "       ... \n",
      "97    -1.00\n",
      "98    -1.00\n",
      "99    -1.00\n",
      "100   -1.00\n",
      "101    0.01\n",
      "Name: 1, Length: 101, dtype: float64\n"
     ]
    }
   ],
   "source": [
    "\n",
    "\n"
   ]
  },
  {
   "cell_type": "code",
   "execution_count": null,
   "metadata": {},
   "outputs": [],
   "source": []
  }
 ],
 "metadata": {
  "kernelspec": {
   "display_name": "base",
   "language": "python",
   "name": "python3"
  },
  "language_info": {
   "codemirror_mode": {
    "name": "ipython",
    "version": 3
   },
   "file_extension": ".py",
   "mimetype": "text/x-python",
   "name": "python",
   "nbconvert_exporter": "python",
   "pygments_lexer": "ipython3",
   "version": "3.9.12"
  },
  "orig_nbformat": 4
 },
 "nbformat": 4,
 "nbformat_minor": 2
}
