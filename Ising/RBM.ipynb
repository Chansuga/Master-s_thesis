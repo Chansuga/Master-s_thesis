{
 "cells": [
  {
   "cell_type": "code",
   "execution_count": 5,
   "metadata": {},
   "outputs": [],
   "source": [
    "# ライブラリのインポート\n",
    "import matplotlib.pyplot as plt\n",
    "import numpy as np\n",
    "import pandas as pd\n",
    "import seaborn as sns\n",
    "from tqdm.notebook import tqdm\n",
    "from sklearn.model_selection import train_test_split\n",
    "\n",
    "import torch\n",
    "import torch.nn as nn\n",
    "import torch.optim as optim\n",
    "import torch.nn.functional as F\n",
    "\n",
    "\n",
    "# deviceの設定 (cpu or gpu)\n",
    "device = torch.device(\"cuda\" if torch.cuda.is_available() else \"cpu\")\n",
    "\n"
   ]
  },
  {
   "cell_type": "code",
   "execution_count": 14,
   "metadata": {},
   "outputs": [
    {
     "name": "stdout",
     "output_type": "stream",
     "text": [
      "   1    2    3    4    5    6    7    8    9    10   ...  92   93   94   95   \\\n",
      "0   -1   -1   -1   -1   -1   -1   -1   -1   -1   -1  ...   -1   -1   -1   -1   \n",
      "1   -1   -1   -1   -1   -1   -1   -1   -1   -1   -1  ...   -1   -1   -1   -1   \n",
      "2   -1   -1   -1   -1   -1   -1   -1   -1   -1   -1  ...   -1   -1   -1   -1   \n",
      "3   -1    1    1   -1   -1   -1   -1   -1   -1   -1  ...    1    1    1   -1   \n",
      "4   -1   -1   -1   -1   -1   -1   -1   -1    1   -1  ...   -1   -1   -1   -1   \n",
      "\n",
      "   96   97   98   99   100   101  \n",
      "0   -1   -1   -1   -1   -1  0.01  \n",
      "1   -1   -1   -1   -1   -1  0.01  \n",
      "2   -1   -1   -1   -1   -1  0.01  \n",
      "3   -1   -1   -1   -1    1  0.01  \n",
      "4   -1   -1   -1   -1   -1  0.01  \n",
      "\n",
      "[5 rows x 101 columns]\n",
      "(24999, 101)\n"
     ]
    }
   ],
   "source": [
    "# data.csvをインポート\n",
    "df = pd.read_csv('data.csv')\n",
    "\n",
    "# 列を1,2,3,...,101のように連番で指定\n",
    "df = df.reset_index(drop=True)\n",
    "df.columns = range(1, len(df.columns) + 1)\n",
    "# 先頭5列を表示\n",
    "print(df.head())\n",
    "# データのサイズを確認\n",
    "print(df.shape)"
   ]
  },
  {
   "cell_type": "code",
   "execution_count": 17,
   "metadata": {},
   "outputs": [],
   "source": [
    "# 訓練用データとテスト用データに比率5:5でランダムに分割\n",
    "X_train, y_test = train_test_split(df, train_size=0.5)"
   ]
  },
  {
   "cell_type": "code",
   "execution_count": 20,
   "metadata": {},
   "outputs": [
    {
     "ename": "TypeError",
     "evalue": "expected np.ndarray (got DataFrame)",
     "output_type": "error",
     "traceback": [
      "\u001b[1;31m---------------------------------------------------------------------------\u001b[0m",
      "\u001b[1;31mTypeError\u001b[0m                                 Traceback (most recent call last)",
      "\u001b[1;32mc:\\Users\\soken\\Documents\\22NM021S\\Master-s_thesis\\Ising\\RBM.ipynb セル 4\u001b[0m in \u001b[0;36m<cell line: 2>\u001b[1;34m()\u001b[0m\n\u001b[0;32m      <a href='vscode-notebook-cell:/c%3A/Users/soken/Documents/22NM021S/Master-s_thesis/Ising/RBM.ipynb#X10sZmlsZQ%3D%3D?line=0'>1</a>\u001b[0m X_train \u001b[39m=\u001b[39m X_train\u001b[39m.\u001b[39mastype(\u001b[39m'\u001b[39m\u001b[39mfloat32\u001b[39m\u001b[39m'\u001b[39m)\n\u001b[1;32m----> <a href='vscode-notebook-cell:/c%3A/Users/soken/Documents/22NM021S/Master-s_thesis/Ising/RBM.ipynb#X10sZmlsZQ%3D%3D?line=1'>2</a>\u001b[0m X_train \u001b[39m=\u001b[39m torch\u001b[39m.\u001b[39;49mfrom_numpy(X_train\u001b[39m.\u001b[39;49mastype(np\u001b[39m.\u001b[39;49mfloat32))\u001b[39m.\u001b[39mclone()\n",
      "\u001b[1;31mTypeError\u001b[0m: expected np.ndarray (got DataFrame)"
     ]
    }
   ],
   "source": [
    "X_train = X_train.astype('float32')\n",
    "X_train = torch.from_numpy(X_train.astype(np.float32)).clone()"
   ]
  },
  {
   "cell_type": "code",
   "execution_count": null,
   "metadata": {},
   "outputs": [],
   "source": []
  }
 ],
 "metadata": {
  "kernelspec": {
   "display_name": "base",
   "language": "python",
   "name": "python3"
  },
  "language_info": {
   "codemirror_mode": {
    "name": "ipython",
    "version": 3
   },
   "file_extension": ".py",
   "mimetype": "text/x-python",
   "name": "python",
   "nbconvert_exporter": "python",
   "pygments_lexer": "ipython3",
   "version": "3.9.12"
  },
  "orig_nbformat": 4
 },
 "nbformat": 4,
 "nbformat_minor": 2
}
