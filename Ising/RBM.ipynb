{
 "cells": [
  {
   "cell_type": "code",
   "execution_count": 15,
   "metadata": {},
   "outputs": [],
   "source": [
    "# ライブラリのインポート\n",
    "import matplotlib.pyplot as plt\n",
    "import numpy as np\n",
    "import pandas as pd\n",
    "import seaborn as sns\n",
    "from tqdm.notebook import tqdm\n",
    "from sklearn.model_selection import train_test_split\n",
    "\n",
    "import torch\n",
    "import torch.nn as nn\n",
    "import torch.optim as optim\n",
    "import torch.nn.functional as F\n",
    "\n",
    "\n",
    "# deviceの設定 (cpu or gpu)\n",
    "device = torch.device(\"cuda\" if torch.cuda.is_available() else \"cpu\")\n",
    "\n"
   ]
  },
  {
   "cell_type": "code",
   "execution_count": 39,
   "metadata": {},
   "outputs": [
    {
     "name": "stdout",
     "output_type": "stream",
     "text": [
      "(24999, 101)\n",
      "   0    1    2    3    4    5    6    7    8    9    ...  91   92   93   94   \\\n",
      "0   -1   -1   -1   -1   -1   -1   -1   -1   -1   -1  ...   -1   -1   -1   -1   \n",
      "1   -1   -1   -1   -1   -1   -1   -1   -1   -1   -1  ...   -1   -1   -1   -1   \n",
      "2   -1   -1   -1   -1   -1   -1   -1   -1   -1   -1  ...   -1   -1   -1   -1   \n",
      "3   -1    1    1   -1   -1   -1   -1   -1   -1   -1  ...    1    1    1   -1   \n",
      "4   -1   -1   -1   -1   -1   -1   -1   -1    1   -1  ...   -1   -1   -1   -1   \n",
      "\n",
      "   95   96   97   98   99    100  \n",
      "0   -1   -1   -1   -1   -1  0.01  \n",
      "1   -1   -1   -1   -1   -1  0.01  \n",
      "2   -1   -1   -1   -1   -1  0.01  \n",
      "3   -1   -1   -1   -1    1  0.01  \n",
      "4   -1   -1   -1   -1   -1  0.01  \n",
      "\n",
      "[5 rows x 101 columns]\n",
      "(24999, 101)\n"
     ]
    },
    {
     "data": {
      "text/plain": [
       "pandas.core.frame.DataFrame"
      ]
     },
     "execution_count": 39,
     "metadata": {},
     "output_type": "execute_result"
    }
   ],
   "source": [
    "# data.csvをインポート\n",
    "dataframe = pd.read_csv('data.csv')\n",
    "print(dataframe.shape)\n",
    "# 列を0,1,2,3,...,100のように連番で指定\n",
    "dataframe = dataframe.reset_index(drop=True)\n",
    "dataframe.columns = range(0, len(dataframe.columns))\n",
    "# 先頭5列を表示\n",
    "print(dataframe.head())\n",
    "# データのサイズを確認\n",
    "print(dataframe.shape)\n",
    "# 型を確認\n",
    "type(dataframe)"
   ]
  },
  {
   "cell_type": "code",
   "execution_count": 38,
   "metadata": {},
   "outputs": [
    {
     "name": "stdout",
     "output_type": "stream",
     "text": [
      "0        0.01\n",
      "1        0.01\n",
      "2        0.01\n",
      "3        0.01\n",
      "4        0.01\n",
      "         ... \n",
      "24994    6.00\n",
      "24995    6.00\n",
      "24996    6.00\n",
      "24997    6.00\n",
      "24998    6.00\n",
      "Name: 100, Length: 24999, dtype: float64\n"
     ]
    }
   ],
   "source": [
    "# 教師データを分離する\n",
    "data = dataframe.iloc[:, 0: 100]\n",
    "teacher_data = dataframe.iloc[:, 100]\n",
    "\n",
    "print(teacher_data)"
   ]
  },
  {
   "cell_type": "code",
   "execution_count": 7,
   "metadata": {},
   "outputs": [],
   "source": [
    "# pytorchで機械学習を行うためデータの型を\n",
    "tensor_df = torch.tensor(df.values, dtype=torch.float32)\n",
    "# 型を確認\n",
    "type(tensor_df)\n",
    "# データセットをデータと教師データに分割\n",
    "data = tensor_df.iloc[:, :-1]\n",
    "teacher_data = tensor_df.iloc[:, -1]\n",
    "\n",
    "# 訓練用データとテスト用データに比率5:5でランダムに分割\n",
    "X_train, X_test, y_train, y_test = train_test_split(tensor_df, train_size=0.5)"
   ]
  },
  {
   "cell_type": "code",
   "execution_count": 8,
   "metadata": {},
   "outputs": [
    {
     "data": {
      "text/plain": [
       "torch.Tensor"
      ]
     },
     "execution_count": 8,
     "metadata": {},
     "output_type": "execute_result"
    }
   ],
   "source": []
  },
  {
   "cell_type": "code",
   "execution_count": 9,
   "metadata": {},
   "outputs": [],
   "source": []
  },
  {
   "cell_type": "code",
   "execution_count": 11,
   "metadata": {},
   "outputs": [
    {
     "data": {
      "text/plain": [
       "torch.Tensor"
      ]
     },
     "execution_count": 11,
     "metadata": {},
     "output_type": "execute_result"
    }
   ],
   "source": [
    "# 型を確認\n",
    "type(X_train)"
   ]
  },
  {
   "cell_type": "code",
   "execution_count": 13,
   "metadata": {},
   "outputs": [
    {
     "name": "stdout",
     "output_type": "stream",
     "text": [
      "tensor([[ 1.0000,  1.0000, -1.0000,  ..., -1.0000, -1.0000,  3.2500],\n",
      "        [-1.0000, -1.0000, -1.0000,  ..., -1.0000, -1.0000,  1.7500],\n",
      "        [-1.0000, -1.0000, -1.0000,  ..., -1.0000, -1.0000,  5.2500],\n",
      "        ...,\n",
      "        [ 1.0000,  1.0000,  1.0000,  ..., -1.0000, -1.0000,  4.0000],\n",
      "        [-1.0000,  1.0000, -1.0000,  ..., -1.0000, -1.0000,  1.7500],\n",
      "        [-1.0000,  1.0000, -1.0000,  ...,  1.0000, -1.0000,  4.0000]])\n"
     ]
    }
   ],
   "source": [
    "print(X_train)"
   ]
  }
 ],
 "metadata": {
  "kernelspec": {
   "display_name": "base",
   "language": "python",
   "name": "python3"
  },
  "language_info": {
   "codemirror_mode": {
    "name": "ipython",
    "version": 3
   },
   "file_extension": ".py",
   "mimetype": "text/x-python",
   "name": "python",
   "nbconvert_exporter": "python",
   "pygments_lexer": "ipython3",
   "version": "3.10.9"
  },
  "orig_nbformat": 4
 },
 "nbformat": 4,
 "nbformat_minor": 2
}
