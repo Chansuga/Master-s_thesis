{
 "cells": [
  {
   "cell_type": "code",
   "execution_count": 1,
   "metadata": {},
   "outputs": [],
   "source": [
    "import numpy as np\n",
    "import matplotlib.pyplot as plt\n",
    "import torch\n",
    "import torch.nn as nn\n",
    "import torch.optim as optim\n",
    "from torch.utils.data import DataLoader, TensorDataset"
   ]
  },
  {
   "cell_type": "code",
   "execution_count": 2,
   "metadata": {},
   "outputs": [],
   "source": [
    "N_dis = 10**2   # 捨てる個数\n",
    "N_trj = 10**3   # トータルのアップデート回数\n",
    "N_sav = 10      # アップデート10回ごとに配位を保存\n",
    "prm_list = [\n",
    "    # beta, # of_trj, # of_discard, file_name, save_every\n",
    "    [0.90, N_trj, N_dis, \"conf/L32b090_\", N_sav],\n",
    "    [0.85, N_trj, N_dis, \"conf/L32b085_\", N_sav],\n",
    "    [0.80, N_trj, N_dis, \"conf/L32b080_\", N_sav],\n",
    "    [0.75, N_trj, N_dis, \"conf/L32b075_\", N_sav],\n",
    "    [0.70, N_trj, N_dis, \"conf/L32b070_\", N_sav],\n",
    "    [0.65, N_trj, N_dis, \"conf/L32b065_\", N_sav],\n",
    "    [0.60, N_trj, N_dis, \"conf/L32b060_\", N_sav],\n",
    "    [0.55, N_trj, N_dis, \"conf/L32b055_\", N_sav],\n",
    "    [0.50, N_trj, N_dis, \"conf/L32b050_\", N_sav],\n",
    "    [0.47, N_trj, N_dis, \"conf/L32b047_\", N_sav],\n",
    "    [0.42, N_trj, N_dis, \"conf/L32b042_\", N_sav],\n",
    "    [0.40, N_trj, N_dis, \"conf/L32b040_\", N_sav],\n",
    "    [0.35, N_trj, N_dis, \"conf/L32b035_\", N_sav],\n",
    "    [0.30, N_trj, N_dis, \"conf/L32b030_\", N_sav],\n",
    "    [0.25, N_trj, N_dis, \"conf/L32b025_\", N_sav],\n",
    "    [0.20, N_trj, N_dis, \"conf/L32b020_\", N_sav],\n",
    "    [0.15, N_trj, N_dis, \"conf/L32b015_\", N_sav],\n",
    "    [0.10, N_trj, N_dis, \"conf/L32b010_\", N_sav],\n",
    "    [0.05, N_trj, N_dis, \"conf/L32b005_\", N_sav],\n",
    "    [0.00, N_trj, N_dis, \"conf/L32b000_\", N_sav],\n",
    "    ]"
   ]
  },
  {
   "cell_type": "code",
   "execution_count": 3,
   "metadata": {},
   "outputs": [],
   "source": [
    "nconf = 90     # 各ベータでの配位の生成\n",
    "betacr = 0.440686\n",
    "\n",
    "data = []\n",
    "labels = []\n",
    "betas = []\n",
    "nprm = len(prm_list)\n",
    "for ibeta in range(nprm):\n",
    "    beta = prm_list[ibeta][0]\n",
    "    fname = prm_list[ibeta][3]\n",
    "    for itrj in range(nconf):\n",
    "        npsc = np.load(f\"{fname}{itrj}.npy\")\n",
    "        data.append(npsc)\n",
    "        if beta > betacr:\n",
    "            labels.append([0, 1])   # 低温相の one-hot ベクトル\n",
    "        else:\n",
    "            labels.append([1, 0])   # 高温相の one-hot ベクトル\n",
    "        betas.append(beta)\n",
    "data = np.array(data)\n",
    "labels = np.array(labels)\n",
    "\n",
    "train_data = data[0::2]\n",
    "train_labels = labels[0::2]\n",
    "train_betas = betas[0::2]\n",
    "\n",
    "val_data = data[1::2]\n",
    "val_labels = labels[1::2]\n",
    "val_betas = betas[1::2]"
   ]
  },
  {
   "cell_type": "code",
   "execution_count": 4,
   "metadata": {},
   "outputs": [
    {
     "name": "stdout",
     "output_type": "stream",
     "text": [
      "train_data.hape =  (900, 32, 32)\n",
      "val_data.hape =  (900, 32, 32)\n"
     ]
    }
   ],
   "source": [
    "# データのサイズを確認\n",
    "print(\"train_data.hape = \", train_data.shape)\n",
    "print(\"val_data.hape = \", val_data.shape)"
   ]
  },
  {
   "cell_type": "markdown",
   "metadata": {},
   "source": [
    "ここからモデルを定義して学習を行う．富谷さんの書籍ではtensorflowを用いているが，ここからはpytorchで実装を行う"
   ]
  },
  {
   "cell_type": "code",
   "execution_count": 5,
   "metadata": {},
   "outputs": [],
   "source": [
    "# tensor型に変換\n",
    "train_data_tensor = torch.tensor(train_data, dtype=torch.float32)\n",
    "train_labels_tensor = torch.tensor(train_labels, dtype=torch.float32)\n",
    "train_betas_tensor = torch.tensor(train_betas, dtype=torch.float32)\n",
    "\n",
    "val_data_tensor = torch.tensor(val_data, dtype=torch.float32)\n",
    "val_labels_tensor = torch.tensor(val_labels, dtype=torch.float32)\n",
    "val_betas_tensor = torch.tensor(val_betas, dtype=torch.float32)"
   ]
  },
  {
   "cell_type": "code",
   "execution_count": 6,
   "metadata": {},
   "outputs": [],
   "source": [
    "# データセットの作成\n",
    "train_dataset = TensorDataset(train_data_tensor, train_labels_tensor, train_betas_tensor)\n",
    "val_dataset = TensorDataset(val_data_tensor, val_labels_tensor, val_betas_tensor)"
   ]
  },
  {
   "cell_type": "code",
   "execution_count": 7,
   "metadata": {},
   "outputs": [
    {
     "data": {
      "text/plain": [
       "(torch.Size([32, 32, 32]), torch.Size([32, 2]), torch.Size([32]))"
      ]
     },
     "execution_count": 7,
     "metadata": {},
     "output_type": "execute_result"
    }
   ],
   "source": [
    "# DataLoaderの設定（バッチサイズ32）\n",
    "train_loader = DataLoader(train_dataset, batch_size=32, shuffle=True)\n",
    "val_loader = DataLoader(val_dataset, batch_size=32)\n",
    "# サイズを確認\n",
    "train_data, train_label, train_beta = next(iter(train_loader))\n",
    "train_data.shape, train_label.shape, train_beta.shape"
   ]
  },
  {
   "cell_type": "code",
   "execution_count": 8,
   "metadata": {},
   "outputs": [],
   "source": [
    "# モデルを定義\n",
    "class FCNN(nn.Module):\n",
    "    def __init__(self, input_size, hidden_size, output_size):\n",
    "        super(FCNN, self).__init__()\n",
    "        self.flatten = nn.Flatten()\n",
    "        self.fc1 = nn.Linear(input_size, hidden_size)\n",
    "        self.fc2 = nn.Linear(hidden_size, output_size)\n",
    "        \n",
    "    def forward(self, x):\n",
    "        x = self.flatten(x)\n",
    "        x = torch.relu(self.fc1(x))\n",
    "        x = torch.sigmoid(self.fc2(x))\n",
    "        return x"
   ]
  },
  {
   "cell_type": "code",
   "execution_count": 9,
   "metadata": {},
   "outputs": [
    {
     "name": "stdout",
     "output_type": "stream",
     "text": [
      "FCNN(\n",
      "  (flatten): Flatten(start_dim=1, end_dim=-1)\n",
      "  (fc1): Linear(in_features=1024, out_features=100, bias=True)\n",
      "  (fc2): Linear(in_features=100, out_features=2, bias=True)\n",
      ")\n"
     ]
    }
   ],
   "source": [
    "# モデルのインスタンス化\n",
    "input_size = 32*32\n",
    "hidden_size = 100\n",
    "output_size = 2\n",
    "model = FCNN(input_size, hidden_size, output_size)\n",
    "# モデルの概要表示\n",
    "print(model)"
   ]
  },
  {
   "cell_type": "code",
   "execution_count": 10,
   "metadata": {},
   "outputs": [],
   "source": [
    "# 損失関数と最適化手法を定義\n",
    "criterion = nn.BCELoss()   # バイナリクロスエントロピー誤差\n",
    "optimizer = optim.Adam(model.parameters(), lr=0.001)     # Adam"
   ]
  },
  {
   "cell_type": "code",
   "execution_count": 11,
   "metadata": {},
   "outputs": [
    {
     "name": "stdout",
     "output_type": "stream",
     "text": [
      "epoch: 0, loss: 0.34561059803798283, acc: 0.875, val loss: 0.24985391100675897, val acc: 0.9493534564971924\n",
      "epoch: 1, loss: 0.12322064296438776, acc: 0.985991358757019, val loss: 0.155669407116185, val acc: 0.9806034564971924\n",
      "epoch: 2, loss: 0.04455510671411095, acc: 0.993534505367279, val loss: 0.11414093606109763, val acc: 0.9806034564971924\n",
      "epoch: 3, loss: 0.019782008378413218, acc: 0.9989224076271057, val loss: 0.09532742049737737, val acc: 0.9806034564971924\n",
      "epoch: 4, loss: 0.010207677404556808, acc: 0.9989224076271057, val loss: 0.08443830696994374, val acc: 0.9849137663841248\n",
      "epoch: 5, loss: 0.005686850110390063, acc: 1.0, val loss: 0.08321896023197292, val acc: 0.9816810488700867\n",
      "epoch: 6, loss: 0.0037774291563907572, acc: 1.0, val loss: 0.07732371775361163, val acc: 0.982758641242981\n",
      "epoch: 7, loss: 0.0027427900409936136, acc: 1.0, val loss: 0.07397639627291436, val acc: 0.9838362336158752\n",
      "epoch: 8, loss: 0.0021818654194217303, acc: 1.0, val loss: 0.07242821064599035, val acc: 0.9838362336158752\n",
      "epoch: 9, loss: 0.00173771351220584, acc: 1.0, val loss: 0.07017847623651975, val acc: 0.9849137663841248\n",
      "epoch: 10, loss: 0.0014945094028070312, acc: 1.0, val loss: 0.06906284552703788, val acc: 0.9849137663841248\n",
      "epoch: 11, loss: 0.0012340404149466034, acc: 1.0, val loss: 0.0678066904501034, val acc: 0.9849137663841248\n",
      "epoch: 12, loss: 0.001056461008907906, acc: 1.0, val loss: 0.06739651109242474, val acc: 0.9849137663841248\n",
      "epoch: 13, loss: 0.0009011628019928547, acc: 1.0, val loss: 0.06578547322489361, val acc: 0.9849137663841248\n",
      "epoch: 14, loss: 0.0007876967589756282, acc: 1.0, val loss: 0.06508505141667636, val acc: 0.9838362336158752\n",
      "epoch: 15, loss: 0.0006964743370190263, acc: 1.0, val loss: 0.06424806933826968, val acc: 0.985991358757019\n",
      "epoch: 16, loss: 0.0006192627559608683, acc: 1.0, val loss: 0.06385980169366591, val acc: 0.9849137663841248\n",
      "epoch: 17, loss: 0.0005496984211214144, acc: 1.0, val loss: 0.06292893625492259, val acc: 0.985991358757019\n",
      "epoch: 18, loss: 0.0004931167882048236, acc: 1.0, val loss: 0.062460628475397746, val acc: 0.985991358757019\n",
      "epoch: 19, loss: 0.0004477273674826298, acc: 1.0, val loss: 0.06237764983184049, val acc: 0.985991358757019\n"
     ]
    }
   ],
   "source": [
    "# 学習の実行\n",
    "num_epochs = 20\n",
    "train_losses = []\n",
    "train_accs = []\n",
    "val_losses = []\n",
    "val_accs = []\n",
    "for epoch in range(num_epochs):\n",
    "    # train loop\n",
    "    running_loss = 0.0\n",
    "    running_acc = 0.0\n",
    "    for inputs, targets, beta in train_loader:\n",
    "        optimizer.zero_grad()\n",
    "        output = model(inputs)\n",
    "        loss = criterion(output, targets)\n",
    "        loss.backward()\n",
    "        running_loss += loss.item()\n",
    "        pred = torch.argmax(output, dim=1)      \n",
    "        targets = torch.argmax(targets, dim=1)  \n",
    "        running_acc += torch.mean(pred.eq(targets).float().cpu()) \n",
    "        optimizer.step()\n",
    "    running_loss /= len(train_loader)   \n",
    "    running_acc /= len(train_loader)    \n",
    "    train_losses.append(running_loss)\n",
    "    train_accs.append(running_acc)\n",
    "\n",
    "    #   val loop\n",
    "    val_running_loss = 0.0\n",
    "    val_running_acc = 0.0\n",
    "    for val_inputs, val_targets, val_beta in val_loader:\n",
    "        val_output = model(val_inputs)\n",
    "        val_loss = criterion(val_output, val_targets)\n",
    "        val_running_loss += val_loss.item()\n",
    "        val_pred = torch.argmax(val_output, dim=1)      \n",
    "        val_targets = torch.argmax(val_targets, dim=1)  \n",
    "        val_running_acc += torch.mean(val_pred.eq(val_targets).float().cpu()) \n",
    "    val_running_loss /= len(val_loader)   \n",
    "    val_running_acc /= len(val_loader)    \n",
    "    val_losses.append(val_running_loss)\n",
    "    val_accs.append(val_running_acc)\n",
    "        \n",
    "    print(\"epoch: {}, loss: {}, acc: {}, val loss: {}, val acc: {}\".format(epoch, running_loss, running_acc, val_running_loss, val_running_acc))"
   ]
  },
  {
   "cell_type": "code",
   "execution_count": 12,
   "metadata": {},
   "outputs": [
    {
     "name": "stdout",
     "output_type": "stream",
     "text": [
      "No. 0\n",
      "tensor([[3.6289e-05, 9.9997e-01]], grad_fn=<SigmoidBackward0>)\n",
      "tensor([0., 1.])\n",
      "tensor(0.9000)\n",
      "No. 200\n",
      "tensor([[4.3436e-05, 9.9996e-01]], grad_fn=<SigmoidBackward0>)\n",
      "tensor([0., 1.])\n",
      "tensor(0.7000)\n",
      "No. 400\n",
      "tensor([[6.4686e-05, 9.9995e-01]], grad_fn=<SigmoidBackward0>)\n",
      "tensor([0., 1.])\n",
      "tensor(0.5000)\n",
      "No. 600\n",
      "tensor([[0.9954, 0.0058]], grad_fn=<SigmoidBackward0>)\n",
      "tensor([1., 0.])\n",
      "tensor(0.3000)\n",
      "No. 800\n",
      "tensor([[0.7549, 0.1861]], grad_fn=<SigmoidBackward0>)\n",
      "tensor([1., 0.])\n",
      "tensor(0.1000)\n"
     ]
    }
   ],
   "source": [
    "for i in range(0, 900, 200):\n",
    "    A = val_data_tensor[i].unsqueeze(0)\n",
    "    B = val_labels_tensor[i]\n",
    "    C = val_betas_tensor[i]\n",
    "\n",
    "    print(\"No.\", i)\n",
    "    print(model(A))\n",
    "    print(B)\n",
    "    print(C)"
   ]
  },
  {
   "cell_type": "code",
   "execution_count": 14,
   "metadata": {},
   "outputs": [
    {
     "name": "stdout",
     "output_type": "stream",
     "text": [
      "0.9 3.6607584e-05 0.99997073\n",
      "0.85 3.7214104e-05 0.99997014\n",
      "0.8 3.721481e-05 0.9999701\n",
      "0.75 3.8021913e-05 0.9999693\n",
      "0.7 4.0993797e-05 0.9999673\n",
      "0.65 4.789146e-05 0.99996203\n",
      "0.6 5.2786527e-05 0.9999574\n",
      "0.55 7.702239e-05 0.9999376\n",
      "0.5 0.00014926928 0.99987346\n",
      "0.47 0.0057568154 0.9927636\n",
      "0.42 0.8718883 0.13338299\n",
      "0.4 0.9359133 0.05990203\n",
      "0.35 0.8839551 0.10947238\n",
      "0.3 0.94972444 0.046098035\n",
      "0.25 0.916577 0.075926624\n",
      "0.2 0.92971283 0.066607244\n",
      "0.15 0.9232848 0.06792687\n",
      "0.1 0.9018669 0.09243177\n",
      "0.05 0.9369607 0.06654187\n",
      "0.0 0.9251468 0.06959873\n"
     ]
    },
    {
     "data": {
      "image/png": "[encoded data removed]",
      "text/plain": [
       "<Figure size 640x480 with 1 Axes>"
      ]
     },
     "metadata": {},
     "output_type": "display_data"
    }
   ],
   "source": [
    "# 各逆温度での予測(確率)を可視化\n",
    "xs = []\n",
    "y1s = []\n",
    "y2s = []\n",
    "Ndatamax = 900\n",
    "Nsameclass = 45\n",
    "for ii in range(0, Ndatamax, Nsameclass):\n",
    "    val_data = val_data_tensor.unsqueeze(1)\n",
    "    res = model(val_data[ii : ii+Nsameclass])\n",
    "    x = val_betas[ii]\n",
    "    y1 = np.mean(res.detach().numpy().T[0])\n",
    "    y2 = np.mean(res.detach().numpy().T[1])    \n",
    "    xs.append(x)\n",
    "    y1s.append(y1)\n",
    "    y2s.append(y2)\n",
    "    print(x, y1, y2)\n",
    "plt.axvline(x=0.440686, ymin=0, ymax=1, ls=\"dashed\", color=\"gray\", label=\"Critical\")\n",
    "plt.plot(xs, y1s, label=\"class:high\", marker=\"o\", color=\"red\")\n",
    "plt.plot(xs, y2s, label=\"class:low\", marker=\"o\", color=\"blue\")\n",
    "plt.legend()\n",
    "plt.xlabel(r\"$\\beta = 1/T$\")\n",
    "plt.ylabel(r\"Prob\")\n",
    "# 図をファイルとして保存\n",
    "plt.savefig('plot.png')  # ファイル名を適切に指定\n",
    "plt.show()"
   ]
  },
  {
   "cell_type": "code",
   "execution_count": null,
   "metadata": {},
   "outputs": [],
   "source": []
  }
 ],
 "metadata": {
  "kernelspec": {
   "display_name": "base",
   "language": "python",
   "name": "python3"
  },
  "language_info": {
   "codemirror_mode": {
    "name": "ipython",
    "version": 3
   },
   "file_extension": ".py",
   "mimetype": "text/x-python",
   "name": "python",
   "nbconvert_exporter": "python",
   "pygments_lexer": "ipython3",
   "version": "3.10.9"
  }
 },
 "nbformat": 4,
 "nbformat_minor": 2
}
