{
 "cells": [
  {
   "cell_type": "code",
   "execution_count": 3,
   "metadata": {},
   "outputs": [],
   "source": [
    "import os\n",
    "import numpy as np\n",
    "import random\n",
    "import scipy as sp\n",
    "import pickle\n",
    "from tqdm import tqdm\n",
    "\n",
    "import matplotlib.pyplot as plt\n",
    "from matplotlib import animation, rc\n",
    "from IPython.display import HTML"
   ]
  },
  {
   "cell_type": "code",
   "execution_count": 4,
   "metadata": {},
   "outputs": [],
   "source": [
    "class LatticeIsing_2D():\n",
    "    def __init__(self, N, J=1, h=0):\n",
    "        \"\"\"\n",
    "        Attributes:\n",
    "            N: 格子サイズ\n",
    "            J: 相互作用\n",
    "            h: 磁場\n",
    "        \"\"\"\n",
    "        self.N=N\n",
    "        self.J=J\n",
    "        self.h=h\n",
    "    \n",
    "    def neighor_spin_sum(self, state, x, y):\n",
    "\n",
    "        center_spin = state[y, x]\n",
    "        right, left, up, down=x+1, x-1, y+1, y-1\n",
    "\n",
    "        # 周期境界条件\n",
    "        if right>=self.N:\n",
    "            right_spin=state[y, 0]\n",
    "        else:\n",
    "            right_spin=state[y, right]\n",
    "            \n",
    "        if left<0:\n",
    "            left=self.N-1\n",
    "            left_spin=state[y, left]\n",
    "        else:\n",
    "            left_spin=state[y, left]\n",
    "            \n",
    "        if down<0:\n",
    "            down=self.N-1\n",
    "            down_spin=state[down, x]\n",
    "        else:\n",
    "            down_spin=state[down, x]\n",
    "    \n",
    "        if up>=self.N:\n",
    "            up_spin=state[0, x]\n",
    "        else:\n",
    "            up_spin=state[up, x]\n",
    "            \n",
    "        neighor_spin_sum=self.J * center_spin * (right_spin+left_spin+up_spin+down_spin)\n",
    "        return neighor_spin_sum\n",
    "\n",
    "    # エネルギーを計算\n",
    "    def energy(self, state):\n",
    "        energy=0\n",
    "        for x in range(self.N):\n",
    "            for y in range(self.N):\n",
    "                energy -= self.neighor_spin_sum(state, x, y)/2\n",
    "        energy -= self.h*np.sum(state)\n",
    "        return energy\n",
    "    \n",
    "    # 磁化を計算\n",
    "    def magnetization(self, state):\n",
    "        return np.mean(state)"
   ]
  },
  {
   "cell_type": "code",
   "execution_count": 10,
   "metadata": {},
   "outputs": [
    {
     "name": "stdout",
     "output_type": "stream",
     "text": [
      "Initial State:\n",
      "[[-1  1  1]\n",
      " [-1  1 -1]\n",
      " [-1 -1 -1]]\n",
      "\n",
      "Energy of the Initial State: -2.0\n"
     ]
    }
   ],
   "source": [
    "# 16x16のランダムなスピン配位を生成\n",
    "N = 3\n",
    "initial_state = np.random.choice([-1, 1], size=(N, N))\n",
    "\n",
    "# イジングモデルのインスタンスを作成\n",
    "ising_model = LatticeIsing_2D(N)\n",
    "\n",
    "# エネルギーを計算\n",
    "energy = ising_model.energy(initial_state)\n",
    "\n",
    "print(\"Initial State:\")\n",
    "print(initial_state)\n",
    "print(\"\\nEnergy of the Initial State:\", energy)"
   ]
  },
  {
   "cell_type": "code",
   "execution_count": null,
   "metadata": {},
   "outputs": [],
   "source": []
  }
 ],
 "metadata": {
  "kernelspec": {
   "display_name": "base",
   "language": "python",
   "name": "python3"
  },
  "language_info": {
   "codemirror_mode": {
    "name": "ipython",
    "version": 3
   },
   "file_extension": ".py",
   "mimetype": "text/x-python",
   "name": "python",
   "nbconvert_exporter": "python",
   "pygments_lexer": "ipython3",
   "version": "3.9.13"
  }
 },
 "nbformat": 4,
 "nbformat_minor": 2
}
