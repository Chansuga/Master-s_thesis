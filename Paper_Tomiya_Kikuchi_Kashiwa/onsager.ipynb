{
 "cells": [
  {
   "cell_type": "code",
   "execution_count": 5,
   "metadata": {},
   "outputs": [
    {
     "name": "stdout",
     "output_type": "stream",
     "text": [
      "CPU times: total: 281 ms\n",
      "Wall time: 3.13 s\n"
     ]
    }
   ],
   "source": [
    "%%time\n",
    "import numpy as np\n",
    "from scipy.integrate import dblquad\n",
    "from math import sin, cos, pi, log1p\n",
    "import matplotlib.pyplot as plt\n",
    "\n",
    "K = np.arange(0.2, 0.7 , 0.0005) # temperature\n",
    "k12 = 2 * np.sinh(2 * K) / np.cosh(2 * K)**2 \n",
    "f = np.log(2 * np.cosh(2 * K))  # free energy\n",
    "\n",
    "for k in range(len(K)):\n",
    "    integrant = lambda y, x: log1p(- k12[k] * cos(x) * cos(y))\n",
    "    f[k] += 0.5 / pi**2 * dblquad(integrant, 0, pi, lambda x: 0, lambda x: pi)[0]\n",
    "\n",
    "E = - np.gradient(f, K, edge_order=2)\n",
    "# C = - np.gradient(E, K, edge_order=2)"
   ]
  },
  {
   "cell_type": "code",
   "execution_count": 6,
   "metadata": {},
   "outputs": [
    {
     "data": {
      "image/png": "[encoded data removed]",
      "text/plain": [
       "<Figure size 432x288 with 1 Axes>"
      ]
     },
     "metadata": {
      "needs_background": "light"
     },
     "output_type": "display_data"
    }
   ],
   "source": [
    "plt.plot(K, E, linewidth=\"0\", marker=\".\", markersize=1)\n",
    "plt.xlabel('K')\n",
    "plt.ylabel('E')\n",
    "plt.show()\n",
    "\n",
    "# plt.plot(K, C, linewidth=\"0\", marker=\".\", markersize=1)\n",
    "# plt.xlabel('K')\n",
    "# plt.ylabel('C')\n",
    "# plt.show()"
   ]
  },
  {
   "cell_type": "code",
   "execution_count": null,
   "metadata": {},
   "outputs": [],
   "source": []
  }
 ],
 "metadata": {
  "kernelspec": {
   "display_name": "base",
   "language": "python",
   "name": "python3"
  },
  "language_info": {
   "codemirror_mode": {
    "name": "ipython",
    "version": 3
   },
   "file_extension": ".py",
   "mimetype": "text/x-python",
   "name": "python",
   "nbconvert_exporter": "python",
   "pygments_lexer": "ipython3",
   "version": "3.9.12"
  }
 },
 "nbformat": 4,
 "nbformat_minor": 2
}
