{
 "cells": [
  {
   "cell_type": "code",
   "execution_count": 1,
   "metadata": {},
   "outputs": [
    {
     "name": "stderr",
     "output_type": "stream",
     "text": [
      "c:\\Users\\sugay\\anaconda3\\lib\\site-packages\\torchvision\\io\\image.py:13: UserWarning: Failed to load image Python extension: '[WinError 127] 指定されたプロシージャが見つかりません。'If you don't plan on using image functionality from `torchvision.io`, you can ignore this warning. Otherwise, there might be something wrong with your environment. Did you have `libjpeg` or `libpng` installed before building `torchvision` from source?\n",
      "  warn(\n"
     ]
    }
   ],
   "source": [
    "import os\n",
    "import numpy as np\n",
    "import torch\n",
    "import torch.nn as nn\n",
    "import torch.optim as optim\n",
    "import torch.nn.functional as F\n",
    "from torchvision import transforms\n",
    "from torch.utils.data import DataLoader, TensorDataset\n",
    "import matplotlib.pyplot as plt\n",
    "import pickle\n",
    "from sklearn.model_selection import train_test_split"
   ]
  },
  {
   "cell_type": "code",
   "execution_count": 2,
   "metadata": {},
   "outputs": [
    {
     "data": {
      "text/plain": [
       "'cpu'"
      ]
     },
     "execution_count": 2,
     "metadata": {},
     "output_type": "execute_result"
    }
   ],
   "source": [
    "# cudaが使えるか確認\n",
    "device = \"cuda\" if torch.cuda.is_available() else \"cpu\"\n",
    "device"
   ]
  },
  {
   "cell_type": "markdown",
   "metadata": {},
   "source": [
    "データの読み込み"
   ]
  },
  {
   "cell_type": "markdown",
   "metadata": {},
   "source": [
    "GPUで作ったPickleのファイルは，CPUではそのままでは使えないため，工夫が必要．\n",
    "\n",
    "https://www.kunita-gamefactory.com/post/%E3%80%90pytorch%E3%80%91gpu%E3%81%A7%E8%A8%93%E7%B7%B4%E3%81%95%E3%81%9B%E3%81%9F%E3%83%A2%E3%83%87%E3%83%AB%E3%82%92cpu%E3%81%A7%E8%AA%AD%E3%81%BF%E8%BE%BC%E3%82%82%E3%81%86%E3%81%A8%E3%81%97%E3%81%9F%E3%81%8A%E8%A9%B1\n",
    "\n",
    "を真似したらうまくCPU上でもファイルを読み込むことができるようになった．"
   ]
  },
  {
   "cell_type": "code",
   "execution_count": 3,
   "metadata": {},
   "outputs": [],
   "source": [
    "import io\n",
    "        \n",
    "class CPU_Unpickler(pickle.Unpickler):\n",
    "    def find_class(self, module, name):\n",
    "        if module == 'torch.storage' and name == '_load_from_bytes':\n",
    "            return lambda b: torch.load(io.BytesIO(b), map_location='cpu')\n",
    "        else: return super().find_class(module, name)"
   ]
  },
  {
   "cell_type": "code",
   "execution_count": 4,
   "metadata": {},
   "outputs": [],
   "source": [
    "# ファイルの相対パスを指定\n",
    "file_path = '../data storage/Ising_data_L16_v3.pkl'\n",
    "\n",
    "if torch.cuda.is_available():\n",
    "    with open(file_path, 'rb') as file:\n",
    "        loaded_data = pickle.load(file)\n",
    "else:\n",
    "    with open(file_path, 'rb') as file:\n",
    "        loaded_data = CPU_Unpickler(file).load()\n",
    "        \n",
    "# 読み込んだデータを個々の変数に分割\n",
    "spin_data, label_data = loaded_data"
   ]
  },
  {
   "cell_type": "code",
   "execution_count": 5,
   "metadata": {},
   "outputs": [],
   "source": [
    "# # 磁化を計算\n",
    "# def magnetization(state):\n",
    "#     return np.mean(state)\n",
    "\n",
    "# for i in range(len(spin_data)):\n",
    "#     mag = magnetization(spin_data[i])\n",
    "#     if mag > 0:\n",
    "#         spin_data[i] *= -1"
   ]
  },
  {
   "cell_type": "code",
   "execution_count": 6,
   "metadata": {},
   "outputs": [],
   "source": [
    "# データのリストをNumPy配列に変換\n",
    "spin_data_np = np.array(spin_data)\n",
    "label_data_np = np.array(label_data)\n",
    "\n",
    "# NumPy配列をPyTorchテンソルに変換\n",
    "spin_data_tensor = torch.from_numpy(spin_data_np)\n",
    "label_data_tensor = torch.from_numpy(label_data_np)"
   ]
  },
  {
   "cell_type": "code",
   "execution_count": 7,
   "metadata": {},
   "outputs": [
    {
     "data": {
      "text/plain": [
       "torch.Size([40000, 1, 16, 16])"
      ]
     },
     "execution_count": 7,
     "metadata": {},
     "output_type": "execute_result"
    }
   ],
   "source": [
    "spin_data_tensor = spin_data_tensor.unsqueeze(1)\n",
    "spin_data_tensor.shape"
   ]
  },
  {
   "cell_type": "code",
   "execution_count": 8,
   "metadata": {},
   "outputs": [],
   "source": [
    "# サンプルデータを訓練用とテスト用に分割(5:5)\n",
    "spin_train, spin_test, label_train, label_test = train_test_split(spin_data_tensor, label_data_tensor, test_size=0.5)"
   ]
  },
  {
   "cell_type": "code",
   "execution_count": 9,
   "metadata": {},
   "outputs": [
    {
     "name": "stderr",
     "output_type": "stream",
     "text": [
      "C:\\Users\\sugay\\AppData\\Local\\Temp\\ipykernel_6800\\168836570.py:2: UserWarning: To copy construct from a tensor, it is recommended to use sourceTensor.clone().detach() or sourceTensor.clone().detach().requires_grad_(True), rather than torch.tensor(sourceTensor).\n",
      "  spin_train = torch.tensor(spin_train, dtype=torch.float32)\n",
      "C:\\Users\\sugay\\AppData\\Local\\Temp\\ipykernel_6800\\168836570.py:3: UserWarning: To copy construct from a tensor, it is recommended to use sourceTensor.clone().detach() or sourceTensor.clone().detach().requires_grad_(True), rather than torch.tensor(sourceTensor).\n",
      "  spin_test = torch.tensor(spin_test, dtype=torch.float32)\n",
      "C:\\Users\\sugay\\AppData\\Local\\Temp\\ipykernel_6800\\168836570.py:4: UserWarning: To copy construct from a tensor, it is recommended to use sourceTensor.clone().detach() or sourceTensor.clone().detach().requires_grad_(True), rather than torch.tensor(sourceTensor).\n",
      "  label_train = torch.tensor(label_train, dtype=torch.float32)\n",
      "C:\\Users\\sugay\\AppData\\Local\\Temp\\ipykernel_6800\\168836570.py:5: UserWarning: To copy construct from a tensor, it is recommended to use sourceTensor.clone().detach() or sourceTensor.clone().detach().requires_grad_(True), rather than torch.tensor(sourceTensor).\n",
      "  label_test = torch.tensor(label_test, dtype=torch.float32)\n"
     ]
    }
   ],
   "source": [
    "# PyTorchのテンソルに変換\n",
    "spin_train = torch.tensor(spin_train, dtype=torch.float32)\n",
    "spin_test = torch.tensor(spin_test, dtype=torch.float32)\n",
    "label_train = torch.tensor(label_train, dtype=torch.float32)  \n",
    "label_test = torch.tensor(label_test, dtype=torch.float32)    "
   ]
  },
  {
   "cell_type": "markdown",
   "metadata": {},
   "source": [
    "正解データはone-hot表現にする必要がある"
   ]
  },
  {
   "cell_type": "code",
   "execution_count": 10,
   "metadata": {},
   "outputs": [],
   "source": [
    "# テンソルを新しいテンソルに変換する関数を定義\n",
    "def to_one_hot(data, num_classes=20):\n",
    "    # one-hotベクトルの初期化\n",
    "    one_hot = torch.zeros(len(data), num_classes)\n",
    "    # 各要素を20次元のone-hotベクトルに変換\n",
    "    for i, val in enumerate(data):\n",
    "        index = int(torch.round((val - 0.05) / 0.05))\n",
    "        one_hot[i, index] = 1.0\n",
    "    \n",
    "    return one_hot\n",
    "\n",
    "# label_train,temp_testをone-hotベクトルに変換\n",
    "one_hot_label_train = to_one_hot(label_train, num_classes=20)\n",
    "one_hot_label_test = to_one_hot(label_test, num_classes=20)"
   ]
  },
  {
   "cell_type": "code",
   "execution_count": 11,
   "metadata": {},
   "outputs": [],
   "source": [
    "# データセットの作成\n",
    "train_dataset = TensorDataset(spin_train, one_hot_label_train)\n",
    "test_dataset = TensorDataset(spin_test, one_hot_label_test)"
   ]
  },
  {
   "cell_type": "code",
   "execution_count": 12,
   "metadata": {},
   "outputs": [],
   "source": [
    "# 前処理を定義\n",
    "transform = transforms.Compose([\n",
    "    transforms.RandomHorizontalFlip(p=0.5),\n",
    "    transforms.RandomVerticalFlip(p=0.5),\n",
    "])\n",
    "\n",
    "# データセットに前処理を適用\n",
    "transformed_train_dataset = [(transform(tensor_sample), label) for tensor_sample, label in train_dataset]\n",
    "transformed_test_dataset = [(transform(tensor_sample), label) for tensor_sample, label in test_dataset]"
   ]
  },
  {
   "cell_type": "code",
   "execution_count": 13,
   "metadata": {},
   "outputs": [],
   "source": [
    "# DataLoaderの設定\n",
    "train_loader = DataLoader(transformed_train_dataset, batch_size=500, shuffle=True)\n",
    "test_loader = DataLoader(transformed_test_dataset, batch_size=500)"
   ]
  },
  {
   "cell_type": "markdown",
   "metadata": {},
   "source": [
    "モデルを定義"
   ]
  },
  {
   "cell_type": "code",
   "execution_count": 14,
   "metadata": {},
   "outputs": [],
   "source": [
    "class CNN(nn.Module):\n",
    "    def __init__(self,output_size):\n",
    "        super(CNN, self).__init__()\n",
    "        \n",
    "        # 畳み込み層\n",
    "        self.conv1 = nn.Conv2d(in_channels=1, out_channels=64, kernel_size=2, stride=2, bias=True)\n",
    "        self.conv2 = nn.Conv2d(in_channels=64, out_channels=32, kernel_size=2, stride=2, bias=True)\n",
    "        self.conv3 = nn.Conv2d(in_channels=32, out_channels=3, kernel_size=4, stride=4, bias=True)\n",
    "        \n",
    "        # 畳み込みの部分\n",
    "        self.conv = nn.Sequential(\n",
    "            self.conv1,   \n",
    "            nn.ReLU(inplace=True),\n",
    "            self.conv2,   \n",
    "            nn.ReLU(inplace=True),\n",
    "            self.conv3,   \n",
    "            nn.ReLU(inplace=True)\n",
    "        )\n",
    "        # 全結合の部分\n",
    "        self.fc = nn.Sequential(\n",
    "            nn.Linear(3, output_size, bias=True),\n",
    "        )\n",
    "    \n",
    "    def forward(self, x):\n",
    "        x = self.conv(x)\n",
    "        x = x.view(x.size(0), -1)\n",
    "        x = self.fc(x)\n",
    "        return x\n"
   ]
  },
  {
   "cell_type": "markdown",
   "metadata": {},
   "source": [
    "モデルのインスタンス化"
   ]
  },
  {
   "cell_type": "code",
   "execution_count": 15,
   "metadata": {},
   "outputs": [
    {
     "name": "stdout",
     "output_type": "stream",
     "text": [
      "CNN(\n",
      "  (conv1): Conv2d(1, 64, kernel_size=(2, 2), stride=(2, 2))\n",
      "  (conv2): Conv2d(64, 32, kernel_size=(2, 2), stride=(2, 2))\n",
      "  (conv3): Conv2d(32, 3, kernel_size=(4, 4), stride=(4, 4))\n",
      "  (conv): Sequential(\n",
      "    (0): Conv2d(1, 64, kernel_size=(2, 2), stride=(2, 2))\n",
      "    (1): ReLU(inplace=True)\n",
      "    (2): Conv2d(64, 32, kernel_size=(2, 2), stride=(2, 2))\n",
      "    (3): ReLU(inplace=True)\n",
      "    (4): Conv2d(32, 3, kernel_size=(4, 4), stride=(4, 4))\n",
      "    (5): ReLU(inplace=True)\n",
      "  )\n",
      "  (fc): Sequential(\n",
      "    (0): Linear(in_features=3, out_features=20, bias=True)\n",
      "  )\n",
      ")\n"
     ]
    }
   ],
   "source": [
    "input_size = 16*16\n",
    "output_size = 20\n",
    "\n",
    "model = CNN(output_size)\n",
    "model.to(device)\n",
    "# モデルの概要表示\n",
    "print(model)"
   ]
  },
  {
   "cell_type": "markdown",
   "metadata": {},
   "source": [
    "損失関数と最適化アルゴリズムの設定"
   ]
  },
  {
   "cell_type": "code",
   "execution_count": 16,
   "metadata": {},
   "outputs": [],
   "source": [
    "criterion = nn.CrossEntropyLoss()   # クロスエントロピー誤差\n",
    "optimizer = optim.Adam(model.parameters(), lr=0.004)     # Adam,L2正則化{, weight_decay=5e-4}"
   ]
  },
  {
   "cell_type": "markdown",
   "metadata": {},
   "source": [
    "学習の実行"
   ]
  },
  {
   "cell_type": "code",
   "execution_count": 17,
   "metadata": {},
   "outputs": [
    {
     "name": "stdout",
     "output_type": "stream",
     "text": [
      "epoch: 0, loss: 2.900018107891083, acc: 0.09319999814033508, test loss: 2.780262702703476, test acc: 0.10085000842809677\n",
      "epoch: 1, loss: 2.6715458154678347, acc: 0.08700000494718552, test loss: 2.5669995546340942, test acc: 0.11134998500347137\n",
      "epoch: 2, loss: 2.51962086558342, acc: 0.10715000331401825, test loss: 2.468130314350128, test acc: 0.10819997638463974\n",
      "epoch: 3, loss: 2.446714127063751, acc: 0.11254999786615372, test loss: 2.409596878290176, test acc: 0.10284998267889023\n",
      "epoch: 4, loss: 2.393247753381729, acc: 0.11624999344348907, test loss: 2.3677208721637726, test acc: 0.13654999434947968\n",
      "epoch: 5, loss: 2.347881430387497, acc: 0.13734999299049377, test loss: 2.322657895088196, test acc: 0.13774999976158142\n",
      "epoch: 6, loss: 2.315250700712204, acc: 0.1421000063419342, test loss: 2.292634719610214, test acc: 0.17110000550746918\n",
      "epoch: 7, loss: 2.283895707130432, acc: 0.1743999868631363, test loss: 2.265344375371933, test acc: 0.1778000146150589\n",
      "epoch: 8, loss: 2.260443091392517, acc: 0.1834000200033188, test loss: 2.2429159700870516, test acc: 0.1986999809741974\n",
      "epoch: 9, loss: 2.2376101136207582, acc: 0.1889999955892563, test loss: 2.227306431531906, test acc: 0.1992499977350235\n",
      "epoch: 10, loss: 2.218400228023529, acc: 0.2026500254869461, test loss: 2.207056224346161, test acc: 0.19839999079704285\n",
      "epoch: 11, loss: 2.2006412923336027, acc: 0.20600000023841858, test loss: 2.1882349610328675, test acc: 0.2030000239610672\n",
      "epoch: 12, loss: 2.1849460542201995, acc: 0.21274998784065247, test loss: 2.172778904438019, test acc: 0.2030000388622284\n",
      "epoch: 13, loss: 2.168574994802475, acc: 0.21484994888305664, test loss: 2.1554091393947603, test acc: 0.23034997284412384\n",
      "epoch: 14, loss: 2.1472050964832308, acc: 0.21254996955394745, test loss: 2.133278262615204, test acc: 0.24295000731945038\n",
      "epoch: 15, loss: 2.123606985807419, acc: 0.2157999724149704, test loss: 2.10914825797081, test acc: 0.22859998047351837\n",
      "epoch: 16, loss: 2.105227071046829, acc: 0.22929999232292175, test loss: 2.097309535741806, test acc: 0.24015001952648163\n",
      "epoch: 17, loss: 2.089249473810196, acc: 0.24039995670318604, test loss: 2.085955500602722, test acc: 0.23594999313354492\n",
      "epoch: 18, loss: 2.073979252576828, acc: 0.24150002002716064, test loss: 2.0802736282348633, test acc: 0.21474997699260712\n",
      "epoch: 19, loss: 2.058604967594147, acc: 0.2430500090122223, test loss: 2.054849606752396, test acc: 0.25849995017051697\n",
      "epoch: 20, loss: 2.0405841737985613, acc: 0.24320001900196075, test loss: 2.0353268414735792, test acc: 0.2510499358177185\n",
      "epoch: 21, loss: 2.025232973694801, acc: 0.24769997596740723, test loss: 2.022553077340126, test acc: 0.2495500147342682\n",
      "epoch: 22, loss: 2.0146419584751127, acc: 0.24779999256134033, test loss: 2.008918562531471, test acc: 0.23194999992847443\n",
      "epoch: 23, loss: 1.998127019405365, acc: 0.24734997749328613, test loss: 2.0001233190298082, test acc: 0.2327999770641327\n",
      "epoch: 24, loss: 1.9792300820350648, acc: 0.2635499835014343, test loss: 1.9732238113880158, test acc: 0.2619999945163727\n",
      "epoch: 25, loss: 1.9630557775497437, acc: 0.26170000433921814, test loss: 1.9496892273426056, test acc: 0.2721499800682068\n",
      "epoch: 26, loss: 1.9393964558839798, acc: 0.2634499967098236, test loss: 1.9423034459352493, test acc: 0.2859000265598297\n",
      "epoch: 27, loss: 1.9317392498254775, acc: 0.26580002903938293, test loss: 1.9195963710546493, test acc: 0.28849995136260986\n",
      "epoch: 28, loss: 1.912213522195816, acc: 0.27410000562667847, test loss: 1.9135370254516602, test acc: 0.2678999900817871\n",
      "epoch: 29, loss: 1.8869922399520873, acc: 0.27369996905326843, test loss: 1.8478802859783172, test acc: 0.25609999895095825\n",
      "epoch: 30, loss: 1.8081963926553726, acc: 0.27744999527931213, test loss: 1.80718936920166, test acc: 0.2720000147819519\n",
      "epoch: 31, loss: 1.7640874326229095, acc: 0.2941001057624817, test loss: 1.7640058189630508, test acc: 0.27914997935295105\n",
      "epoch: 32, loss: 1.7403227478265761, acc: 0.2924499809741974, test loss: 1.733854454755783, test acc: 0.28485003113746643\n",
      "epoch: 33, loss: 1.6941136807203292, acc: 0.3003999888896942, test loss: 1.6634761422872544, test acc: 0.30289995670318604\n",
      "epoch: 34, loss: 1.63564031124115, acc: 0.31574997305870056, test loss: 1.6556033968925477, test acc: 0.312250018119812\n",
      "epoch: 35, loss: 1.6194592773914338, acc: 0.3234499990940094, test loss: 1.629029420018196, test acc: 0.32780003547668457\n",
      "epoch: 36, loss: 1.6095571607351302, acc: 0.32735002040863037, test loss: 1.6100122064352036, test acc: 0.3349999785423279\n",
      "epoch: 37, loss: 1.5867579519748687, acc: 0.33785003423690796, test loss: 1.6089114427566529, test acc: 0.3276500105857849\n",
      "epoch: 38, loss: 1.572458839416504, acc: 0.3444499969482422, test loss: 1.6160762757062912, test acc: 0.33535003662109375\n",
      "epoch: 39, loss: 1.5683677703142167, acc: 0.3465999960899353, test loss: 1.5941933184862136, test acc: 0.33810001611709595\n",
      "epoch: 40, loss: 1.558374160528183, acc: 0.35270002484321594, test loss: 1.611045715212822, test acc: 0.323199987411499\n",
      "epoch: 41, loss: 1.568636405467987, acc: 0.34665003418922424, test loss: 1.6203072845935822, test acc: 0.32715001702308655\n",
      "epoch: 42, loss: 1.5554848849773406, acc: 0.3499499559402466, test loss: 1.5996256649494172, test acc: 0.33640000224113464\n",
      "epoch: 43, loss: 1.5517209947109223, acc: 0.3525000214576721, test loss: 1.6030568212270737, test acc: 0.3306500315666199\n",
      "epoch: 44, loss: 1.544248753786087, acc: 0.35639992356300354, test loss: 1.6075385749340056, test acc: 0.3322499990463257\n",
      "epoch: 45, loss: 1.5433107137680053, acc: 0.3617500364780426, test loss: 1.6235964268445968, test acc: 0.33260002732276917\n",
      "epoch: 46, loss: 1.5630310207605362, acc: 0.35089996457099915, test loss: 1.5943997532129288, test acc: 0.3312000036239624\n",
      "epoch: 47, loss: 1.5430486500263214, acc: 0.36330002546310425, test loss: 1.6214286983013153, test acc: 0.3278999626636505\n",
      "epoch: 48, loss: 1.5403875350952148, acc: 0.3607999086380005, test loss: 1.6109874457120896, test acc: 0.33674997091293335\n",
      "epoch: 49, loss: 1.532362875342369, acc: 0.36455005407333374, test loss: 1.6310474693775177, test acc: 0.32169994711875916\n",
      "epoch: 50, loss: 1.533623668551445, acc: 0.3607500195503235, test loss: 1.6186984300613403, test acc: 0.3217499554157257\n",
      "epoch: 51, loss: 1.5307747036218644, acc: 0.36134999990463257, test loss: 1.5961858868598937, test acc: 0.339199960231781\n",
      "epoch: 52, loss: 1.5279693067073823, acc: 0.3652000427246094, test loss: 1.6017184644937514, test acc: 0.3418499827384949\n",
      "epoch: 53, loss: 1.5276853054761887, acc: 0.3670499920845032, test loss: 1.6281778514385223, test acc: 0.3340499699115753\n",
      "epoch: 54, loss: 1.5292448669672012, acc: 0.36389997601509094, test loss: 1.6084843426942825, test acc: 0.3354499936103821\n",
      "epoch: 55, loss: 1.5237181901931762, acc: 0.3674499988555908, test loss: 1.606887510418892, test acc: 0.3398999869823456\n",
      "epoch: 56, loss: 1.5303171217441558, acc: 0.3627500832080841, test loss: 1.6192755311727525, test acc: 0.3365499973297119\n",
      "epoch: 57, loss: 1.5234493732452392, acc: 0.36744993925094604, test loss: 1.6128084242343903, test acc: 0.3301999866962433\n",
      "epoch: 58, loss: 1.5182990372180938, acc: 0.36795005202293396, test loss: 1.6151352643966674, test acc: 0.33684998750686646\n",
      "epoch: 59, loss: 1.5130026549100877, acc: 0.3721500039100647, test loss: 1.6102056831121445, test acc: 0.34040001034736633\n",
      "epoch: 60, loss: 1.51695374250412, acc: 0.3662499785423279, test loss: 1.6170177161693573, test acc: 0.33834993839263916\n",
      "epoch: 61, loss: 1.5201820373535155, acc: 0.3680500090122223, test loss: 1.6083251923322677, test acc: 0.33149999380111694\n",
      "epoch: 62, loss: 1.5166941076517104, acc: 0.37150001525878906, test loss: 1.610829707980156, test acc: 0.33845001459121704\n",
      "epoch: 63, loss: 1.5163223057985307, acc: 0.37389999628067017, test loss: 1.6136430859565736, test acc: 0.3393499553203583\n",
      "epoch: 64, loss: 1.5176964461803437, acc: 0.3673499822616577, test loss: 1.610771867632866, test acc: 0.34039998054504395\n",
      "epoch: 65, loss: 1.509746104478836, acc: 0.375650018453598, test loss: 1.6096524477005005, test acc: 0.3308999538421631\n",
      "epoch: 66, loss: 1.5104978948831558, acc: 0.3709999918937683, test loss: 1.6362831801176072, test acc: 0.33420002460479736\n",
      "epoch: 67, loss: 1.5119487643241882, acc: 0.3750000298023224, test loss: 1.613743793964386, test acc: 0.33970001339912415\n",
      "epoch: 68, loss: 1.5088101506233216, acc: 0.37470006942749023, test loss: 1.620921605825424, test acc: 0.33514997363090515\n",
      "epoch: 69, loss: 1.5157133221626282, acc: 0.36854997277259827, test loss: 1.6298702716827393, test acc: 0.33539995551109314\n",
      "epoch: 70, loss: 1.5122972071170806, acc: 0.37255004048347473, test loss: 1.6293504804372787, test acc: 0.3381499946117401\n",
      "epoch: 71, loss: 1.5117577344179154, acc: 0.3724500238895416, test loss: 1.618099868297577, test acc: 0.33914998173713684\n",
      "epoch: 72, loss: 1.5087206274271012, acc: 0.372700035572052, test loss: 1.638150292634964, test acc: 0.33524996042251587\n",
      "epoch: 73, loss: 1.5045178443193437, acc: 0.3726999759674072, test loss: 1.6225376695394516, test acc: 0.3372500240802765\n",
      "epoch: 74, loss: 1.5132810741662979, acc: 0.3693999946117401, test loss: 1.6150618135929107, test acc: 0.33729997277259827\n",
      "epoch: 75, loss: 1.5002231895923615, acc: 0.3786499798297882, test loss: 1.6362141609191894, test acc: 0.33789998292922974\n",
      "epoch: 76, loss: 1.5061108022928238, acc: 0.37595003843307495, test loss: 1.6527464866638184, test acc: 0.33445003628730774\n",
      "epoch: 77, loss: 1.503553608059883, acc: 0.37655001878738403, test loss: 1.6424801051616669, test acc: 0.3328999876976013\n",
      "epoch: 78, loss: 1.5037284672260285, acc: 0.3762499690055847, test loss: 1.6397931784391404, test acc: 0.3371000289916992\n",
      "epoch: 79, loss: 1.4984497994184494, acc: 0.3790000081062317, test loss: 1.6268895328044892, test acc: 0.3406499922275543\n",
      "epoch: 80, loss: 1.4987305581569672, acc: 0.37384992837905884, test loss: 1.6315003097057343, test acc: 0.3349999785423279\n",
      "epoch: 81, loss: 1.4941875100135804, acc: 0.3827000558376312, test loss: 1.632898998260498, test acc: 0.3331499993801117\n",
      "epoch: 82, loss: 1.5112101018428803, acc: 0.37369999289512634, test loss: 1.689766588807106, test acc: 0.3286000192165375\n",
      "epoch: 83, loss: 1.4976460099220277, acc: 0.3799499571323395, test loss: 1.6347688823938369, test acc: 0.3410499691963196\n",
      "epoch: 84, loss: 1.4954750180244445, acc: 0.3797000050544739, test loss: 1.636684998869896, test acc: 0.3392000198364258\n",
      "epoch: 85, loss: 1.5012837499380112, acc: 0.38040000200271606, test loss: 1.641194486618042, test acc: 0.3379499912261963\n",
      "epoch: 86, loss: 1.5011590719223022, acc: 0.37415000796318054, test loss: 1.6668006986379624, test acc: 0.32979995012283325\n",
      "epoch: 87, loss: 1.502562540769577, acc: 0.37949997186660767, test loss: 1.6522012650966644, test acc: 0.33785003423690796\n",
      "epoch: 88, loss: 1.497740125656128, acc: 0.3776000142097473, test loss: 1.6313401490449906, test acc: 0.3385999798774719\n",
      "epoch: 89, loss: 1.4942747682332993, acc: 0.3797999322414398, test loss: 1.6473903238773346, test acc: 0.3404999375343323\n",
      "epoch: 90, loss: 1.4900051683187485, acc: 0.37905004620552063, test loss: 1.637846401333809, test acc: 0.34380003809928894\n",
      "epoch: 91, loss: 1.5030688226222992, acc: 0.3800499737262726, test loss: 1.6665355890989304, test acc: 0.33215001225471497\n",
      "epoch: 92, loss: 1.4906317740678787, acc: 0.3814000189304352, test loss: 1.6414096266031266, test acc: 0.3418000042438507\n",
      "epoch: 93, loss: 1.4891505479812621, acc: 0.3848499655723572, test loss: 1.6426188111305238, test acc: 0.341450035572052\n",
      "epoch: 94, loss: 1.4927919924259185, acc: 0.3831499218940735, test loss: 1.653045681118965, test acc: 0.3363000750541687\n",
      "epoch: 95, loss: 1.4928225457668305, acc: 0.37759995460510254, test loss: 1.646295204758644, test acc: 0.34314996004104614\n",
      "epoch: 96, loss: 1.4940890312194823, acc: 0.37765002250671387, test loss: 1.6533683776855468, test acc: 0.33904996514320374\n",
      "epoch: 97, loss: 1.4862142294645309, acc: 0.3885499835014343, test loss: 1.6565239161252976, test acc: 0.33889999985694885\n",
      "epoch: 98, loss: 1.4911079466342927, acc: 0.3823499381542206, test loss: 1.6577162802219392, test acc: 0.33890002965927124\n",
      "epoch: 99, loss: 1.4969911694526672, acc: 0.3801000118255615, test loss: 1.6630035907030105, test acc: 0.33180004358291626\n"
     ]
    }
   ],
   "source": [
    "num_epochs = 100\n",
    "train_losses = []\n",
    "train_accs = []\n",
    "test_losses = []\n",
    "test_accs = []\n",
    "for epoch in range(num_epochs):\n",
    "    running_loss = 0.0\n",
    "    running_acc = 0.0\n",
    "    for inputs, targets in train_loader:\n",
    "        inputs = inputs.to(device)\n",
    "        targets = targets.to(device)\n",
    "        optimizer.zero_grad()\n",
    "        output = model(inputs)\n",
    "        loss = criterion(output, targets)\n",
    "        loss.backward()\n",
    "        running_loss += loss.item()\n",
    "        pred = torch.argmax(output, dim=1)      \n",
    "        targets = torch.argmax(targets, dim=1) \n",
    "        running_acc += torch.mean(pred.eq(targets).float().cpu()) \n",
    "        optimizer.step()\n",
    "    running_loss /= len(train_loader)   \n",
    "    running_acc /= len(train_loader)    \n",
    "    train_losses.append(running_loss)\n",
    "    train_accs.append(running_acc)\n",
    "    #\n",
    "    #   test loop\n",
    "    #\n",
    "    test_running_loss = 0.0\n",
    "    test_running_acc = 0.0\n",
    "    for test_inputs, test_targets in test_loader:\n",
    "        test_inputs = test_inputs.to(device)\n",
    "        test_targets = test_targets.to(device)\n",
    "        test_output = model(test_inputs)\n",
    "        test_loss = criterion(test_output, test_targets)\n",
    "        test_running_loss += test_loss.item()\n",
    "        test_pred = torch.argmax(test_output, dim=1)      \n",
    "        test_targets = torch.argmax(test_targets, dim=1)  \n",
    "        test_running_acc += torch.mean(test_pred.eq(test_targets).float().cpu()) \n",
    "    test_running_loss /= len(test_loader)   \n",
    "    test_running_acc /= len(test_loader)    \n",
    "    test_losses.append(test_running_loss)\n",
    "    test_accs.append(test_running_acc)\n",
    "        \n",
    "    print(\"epoch: {}, loss: {}, acc: {}, test loss: {}, test acc: {}\".format(epoch, running_loss, running_acc, test_running_loss, test_running_acc))"
   ]
  },
  {
   "cell_type": "markdown",
   "metadata": {},
   "source": [
    "モデルの保存"
   ]
  },
  {
   "cell_type": "code",
   "execution_count": 18,
   "metadata": {},
   "outputs": [],
   "source": [
    "Ising_size = int(np.sqrt(input_size))\n",
    "hidden_size = 3\n",
    "class_name = type(model).__name__\n",
    "\n",
    "file_path = f'../data storage/prm_data_L{Ising_size}_{class_name}_Nh{hidden_size}.pth'\n",
    "\n",
    "torch.save(model.state_dict(), file_path)"
   ]
  },
  {
   "cell_type": "code",
   "execution_count": null,
   "metadata": {},
   "outputs": [],
   "source": []
  }
 ],
 "metadata": {
  "kernelspec": {
   "display_name": "base",
   "language": "python",
   "name": "python3"
  },
  "language_info": {
   "codemirror_mode": {
    "name": "ipython",
    "version": 3
   },
   "file_extension": ".py",
   "mimetype": "text/x-python",
   "name": "python",
   "nbconvert_exporter": "python",
   "pygments_lexer": "ipython3",
   "version": "3.10.9"
  },
  "orig_nbformat": 4
 },
 "nbformat": 4,
 "nbformat_minor": 2
}
