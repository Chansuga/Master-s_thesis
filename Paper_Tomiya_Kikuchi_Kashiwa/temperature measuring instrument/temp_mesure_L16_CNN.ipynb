{
 "cells": [
  {
   "cell_type": "code",
   "execution_count": 1,
   "metadata": {},
   "outputs": [
    {
     "name": "stderr",
     "output_type": "stream",
     "text": [
      "c:\\Users\\sugay\\anaconda3\\lib\\site-packages\\torchvision\\io\\image.py:13: UserWarning: Failed to load image Python extension: '[WinError 127] 指定されたプロシージャが見つかりません。'If you don't plan on using image functionality from `torchvision.io`, you can ignore this warning. Otherwise, there might be something wrong with your environment. Did you have `libjpeg` or `libpng` installed before building `torchvision` from source?\n",
      "  warn(\n"
     ]
    }
   ],
   "source": [
    "import os\n",
    "import numpy as np\n",
    "import torch\n",
    "import torch.nn as nn\n",
    "import torch.optim as optim\n",
    "import torch.nn.functional as F\n",
    "from torchvision import transforms\n",
    "from torch.utils.data import DataLoader, TensorDataset\n",
    "import matplotlib.pyplot as plt\n",
    "import pickle\n",
    "from sklearn.model_selection import train_test_split"
   ]
  },
  {
   "cell_type": "code",
   "execution_count": 2,
   "metadata": {},
   "outputs": [
    {
     "data": {
      "text/plain": [
       "'cpu'"
      ]
     },
     "execution_count": 2,
     "metadata": {},
     "output_type": "execute_result"
    }
   ],
   "source": [
    "# cudaが使えるか確認\n",
    "device = \"cuda\" if torch.cuda.is_available() else \"cpu\"\n",
    "device"
   ]
  },
  {
   "cell_type": "markdown",
   "metadata": {},
   "source": [
    "データの読み込み"
   ]
  },
  {
   "cell_type": "markdown",
   "metadata": {},
   "source": [
    "GPUで作ったPickleのファイルは，CPUではそのままでは使えないため，工夫が必要．\n",
    "\n",
    "https://www.kunita-gamefactory.com/post/%E3%80%90pytorch%E3%80%91gpu%E3%81%A7%E8%A8%93%E7%B7%B4%E3%81%95%E3%81%9B%E3%81%9F%E3%83%A2%E3%83%87%E3%83%AB%E3%82%92cpu%E3%81%A7%E8%AA%AD%E3%81%BF%E8%BE%BC%E3%82%82%E3%81%86%E3%81%A8%E3%81%97%E3%81%9F%E3%81%8A%E8%A9%B1\n",
    "\n",
    "を真似したらうまくCPU上でもファイルを読み込むことができるようになった．"
   ]
  },
  {
   "cell_type": "code",
   "execution_count": 3,
   "metadata": {},
   "outputs": [],
   "source": [
    "import io\n",
    "        \n",
    "class CPU_Unpickler(pickle.Unpickler):\n",
    "    def find_class(self, module, name):\n",
    "        if module == 'torch.storage' and name == '_load_from_bytes':\n",
    "            return lambda b: torch.load(io.BytesIO(b), map_location='cpu')\n",
    "        else: return super().find_class(module, name)"
   ]
  },
  {
   "cell_type": "code",
   "execution_count": 4,
   "metadata": {},
   "outputs": [],
   "source": [
    "# ファイルの相対パスを指定\n",
    "file_path = '../data storage/Ising_data_L16_v3.pkl'\n",
    "\n",
    "if torch.cuda.is_available():\n",
    "    with open(file_path, 'rb') as file:\n",
    "        loaded_data = pickle.load(file)\n",
    "else:\n",
    "    with open(file_path, 'rb') as file:\n",
    "        loaded_data = CPU_Unpickler(file).load()\n",
    "        \n",
    "# 読み込んだデータを個々の変数に分割\n",
    "spin_data, label_data = loaded_data"
   ]
  },
  {
   "cell_type": "code",
   "execution_count": 5,
   "metadata": {},
   "outputs": [],
   "source": [
    "# # 磁化を計算\n",
    "# def magnetization(state):\n",
    "#     return np.mean(state)\n",
    "\n",
    "# for i in range(len(spin_data)):\n",
    "#     mag = magnetization(spin_data[i])\n",
    "#     if mag > 0:\n",
    "#         spin_data[i] *= -1"
   ]
  },
  {
   "cell_type": "code",
   "execution_count": 6,
   "metadata": {},
   "outputs": [],
   "source": [
    "# データのリストをNumPy配列に変換\n",
    "spin_data_np = np.array(spin_data)\n",
    "label_data_np = np.array(label_data)\n",
    "\n",
    "# NumPy配列をPyTorchテンソルに変換\n",
    "spin_data_tensor = torch.from_numpy(spin_data_np)\n",
    "label_data_tensor = torch.from_numpy(label_data_np)"
   ]
  },
  {
   "cell_type": "code",
   "execution_count": 7,
   "metadata": {},
   "outputs": [
    {
     "data": {
      "text/plain": [
       "torch.Size([40000, 1, 16, 16])"
      ]
     },
     "execution_count": 7,
     "metadata": {},
     "output_type": "execute_result"
    }
   ],
   "source": [
    "spin_data_tensor = spin_data_tensor.unsqueeze(1)\n",
    "spin_data_tensor.shape"
   ]
  },
  {
   "cell_type": "code",
   "execution_count": 8,
   "metadata": {},
   "outputs": [],
   "source": [
    "# サンプルデータを訓練用とテスト用に分割(5:5)\n",
    "spin_train, spin_test, label_train, label_test = train_test_split(spin_data_tensor, label_data_tensor, test_size=0.5)"
   ]
  },
  {
   "cell_type": "code",
   "execution_count": 9,
   "metadata": {},
   "outputs": [
    {
     "name": "stderr",
     "output_type": "stream",
     "text": [
      "C:\\Users\\sugay\\AppData\\Local\\Temp\\ipykernel_5928\\168836570.py:2: UserWarning: To copy construct from a tensor, it is recommended to use sourceTensor.clone().detach() or sourceTensor.clone().detach().requires_grad_(True), rather than torch.tensor(sourceTensor).\n",
      "  spin_train = torch.tensor(spin_train, dtype=torch.float32)\n",
      "C:\\Users\\sugay\\AppData\\Local\\Temp\\ipykernel_5928\\168836570.py:3: UserWarning: To copy construct from a tensor, it is recommended to use sourceTensor.clone().detach() or sourceTensor.clone().detach().requires_grad_(True), rather than torch.tensor(sourceTensor).\n",
      "  spin_test = torch.tensor(spin_test, dtype=torch.float32)\n",
      "C:\\Users\\sugay\\AppData\\Local\\Temp\\ipykernel_5928\\168836570.py:4: UserWarning: To copy construct from a tensor, it is recommended to use sourceTensor.clone().detach() or sourceTensor.clone().detach().requires_grad_(True), rather than torch.tensor(sourceTensor).\n",
      "  label_train = torch.tensor(label_train, dtype=torch.float32)\n",
      "C:\\Users\\sugay\\AppData\\Local\\Temp\\ipykernel_5928\\168836570.py:5: UserWarning: To copy construct from a tensor, it is recommended to use sourceTensor.clone().detach() or sourceTensor.clone().detach().requires_grad_(True), rather than torch.tensor(sourceTensor).\n",
      "  label_test = torch.tensor(label_test, dtype=torch.float32)\n"
     ]
    }
   ],
   "source": [
    "# PyTorchのテンソルに変換\n",
    "spin_train = torch.tensor(spin_train, dtype=torch.float32)\n",
    "spin_test = torch.tensor(spin_test, dtype=torch.float32)\n",
    "label_train = torch.tensor(label_train, dtype=torch.float32)  \n",
    "label_test = torch.tensor(label_test, dtype=torch.float32)    "
   ]
  },
  {
   "cell_type": "markdown",
   "metadata": {},
   "source": [
    "正解データはone-hot表現にする必要がある"
   ]
  },
  {
   "cell_type": "code",
   "execution_count": 10,
   "metadata": {},
   "outputs": [],
   "source": [
    "# テンソルを新しいテンソルに変換する関数を定義\n",
    "def to_one_hot(data, num_classes=20):\n",
    "    # one-hotベクトルの初期化\n",
    "    one_hot = torch.zeros(len(data), num_classes)\n",
    "    # 各要素を20次元のone-hotベクトルに変換\n",
    "    for i, val in enumerate(data):\n",
    "        index = int(torch.round((val - 0.05) / 0.05))\n",
    "        one_hot[i, index] = 1.0\n",
    "    \n",
    "    return one_hot\n",
    "\n",
    "# label_train,temp_testをone-hotベクトルに変換\n",
    "one_hot_label_train = to_one_hot(label_train, num_classes=20)\n",
    "one_hot_label_test = to_one_hot(label_test, num_classes=20)"
   ]
  },
  {
   "cell_type": "code",
   "execution_count": 11,
   "metadata": {},
   "outputs": [],
   "source": [
    "# データセットの作成\n",
    "train_dataset = TensorDataset(spin_train, one_hot_label_train)\n",
    "test_dataset = TensorDataset(spin_test, one_hot_label_test)"
   ]
  },
  {
   "cell_type": "code",
   "execution_count": 12,
   "metadata": {},
   "outputs": [],
   "source": [
    "# 前処理を定義\n",
    "transform = transforms.Compose([\n",
    "    transforms.RandomHorizontalFlip(p=0.5),\n",
    "    transforms.RandomVerticalFlip(p=0.5),\n",
    "])\n",
    "\n",
    "# データセットに前処理を適用\n",
    "transformed_train_dataset = [(transform(tensor_sample), label) for tensor_sample, label in train_dataset]\n",
    "transformed_test_dataset = [(transform(tensor_sample), label) for tensor_sample, label in test_dataset]"
   ]
  },
  {
   "cell_type": "code",
   "execution_count": 13,
   "metadata": {},
   "outputs": [],
   "source": [
    "# DataLoaderの設定\n",
    "train_loader = DataLoader(transformed_train_dataset, batch_size=500, shuffle=True)\n",
    "test_loader = DataLoader(transformed_test_dataset, batch_size=500)"
   ]
  },
  {
   "cell_type": "markdown",
   "metadata": {},
   "source": [
    "モデルを定義"
   ]
  },
  {
   "cell_type": "code",
   "execution_count": 14,
   "metadata": {},
   "outputs": [],
   "source": [
    "class CNN(nn.Module):\n",
    "    def __init__(self,output_size):\n",
    "        super(CNN, self).__init__()\n",
    "        \n",
    "        # 畳み込み層\n",
    "        self.conv1 = nn.Conv2d(in_channels=1, out_channels=64, kernel_size=2, stride=2, bias=True)\n",
    "        self.conv2 = nn.Conv2d(in_channels=64, out_channels=32, kernel_size=2, stride=2, bias=True)\n",
    "        self.conv3 = nn.Conv2d(in_channels=32, out_channels=3, kernel_size=4, stride=4, bias=True)\n",
    "        \n",
    "        # 畳み込みの部分\n",
    "        self.conv = nn.Sequential(\n",
    "            self.conv1,   \n",
    "            nn.ReLU(inplace=True),\n",
    "            self.conv2,   \n",
    "            nn.ReLU(inplace=True),\n",
    "            self.conv3,   \n",
    "            nn.ReLU(inplace=True)\n",
    "        )\n",
    "        # 全結合の部分\n",
    "        self.fc = nn.Sequential(\n",
    "            nn.Linear(3, output_size, bias=True),\n",
    "        )\n",
    "    \n",
    "    def forward(self, x):\n",
    "        x = self.conv(x)\n",
    "        x = x.view(x.size(0), -1)\n",
    "        x = self.fc(x)\n",
    "        return x\n"
   ]
  },
  {
   "cell_type": "markdown",
   "metadata": {},
   "source": [
    "モデルのインスタンス化"
   ]
  },
  {
   "cell_type": "code",
   "execution_count": 15,
   "metadata": {},
   "outputs": [
    {
     "name": "stdout",
     "output_type": "stream",
     "text": [
      "CNN(\n",
      "  (conv1): Conv2d(1, 64, kernel_size=(2, 2), stride=(2, 2))\n",
      "  (conv2): Conv2d(64, 32, kernel_size=(2, 2), stride=(2, 2))\n",
      "  (conv3): Conv2d(32, 3, kernel_size=(4, 4), stride=(4, 4))\n",
      "  (conv): Sequential(\n",
      "    (0): Conv2d(1, 64, kernel_size=(2, 2), stride=(2, 2))\n",
      "    (1): ReLU(inplace=True)\n",
      "    (2): Conv2d(64, 32, kernel_size=(2, 2), stride=(2, 2))\n",
      "    (3): ReLU(inplace=True)\n",
      "    (4): Conv2d(32, 3, kernel_size=(4, 4), stride=(4, 4))\n",
      "    (5): ReLU(inplace=True)\n",
      "  )\n",
      "  (fc): Sequential(\n",
      "    (0): Linear(in_features=3, out_features=20, bias=True)\n",
      "  )\n",
      ")\n"
     ]
    }
   ],
   "source": [
    "input_size = 16*16\n",
    "output_size = 20\n",
    "\n",
    "model = CNN(output_size)\n",
    "model.to(device)\n",
    "# モデルの概要表示\n",
    "print(model)"
   ]
  },
  {
   "cell_type": "markdown",
   "metadata": {},
   "source": [
    "損失関数と最適化アルゴリズムの設定"
   ]
  },
  {
   "cell_type": "code",
   "execution_count": 16,
   "metadata": {},
   "outputs": [],
   "source": [
    "criterion = nn.CrossEntropyLoss()   # クロスエントロピー誤差\n",
    "optimizer = optim.Adam(model.parameters(), lr=0.004)     # Adam,L2正則化{, weight_decay=5e-4}"
   ]
  },
  {
   "cell_type": "markdown",
   "metadata": {},
   "source": [
    "学習の実行"
   ]
  },
  {
   "cell_type": "code",
   "execution_count": 17,
   "metadata": {},
   "outputs": [
    {
     "name": "stdout",
     "output_type": "stream",
     "text": [
      "epoch: 0, loss: 3.024760401248932, acc: 0.051249999552965164, test loss: 3.014609158039093, test acc: 0.048700001090765\n",
      "epoch: 1, loss: 3.008274018764496, acc: 0.05130000039935112, test loss: 3.004192441701889, test acc: 0.048700001090765\n",
      "epoch: 2, loss: 3.000791299343109, acc: 0.05130000039935112, test loss: 2.999505412578583, test acc: 0.048700001090765\n",
      "epoch: 3, loss: 2.9974709689617156, acc: 0.05130000039935112, test loss: 2.9976287186145782, test acc: 0.048700001090765\n",
      "epoch: 4, loss: 2.99627371430397, acc: 0.05129999667406082, test loss: 2.9969496011734007, test acc: 0.048700001090765\n",
      "epoch: 5, loss: 2.995833283662796, acc: 0.05129999667406082, test loss: 2.9967549979686736, test acc: 0.048700001090765\n",
      "epoch: 6, loss: 2.99570592045784, acc: 0.049550000578165054, test loss: 2.996685141324997, test acc: 0.048700001090765\n",
      "epoch: 7, loss: 2.995673215389252, acc: 0.05130000784993172, test loss: 2.9965668857097625, test acc: 0.048700001090765\n",
      "epoch: 8, loss: 2.995669984817505, acc: 0.04769999906420708, test loss: 2.996615082025528, test acc: 0.048200007528066635\n",
      "epoch: 9, loss: 2.995653063058853, acc: 0.049449995160102844, test loss: 2.996622794866562, test acc: 0.048200007528066635\n",
      "epoch: 10, loss: 2.995736223459244, acc: 0.05180000141263008, test loss: 2.9966343224048613, test acc: 0.048200007528066635\n",
      "epoch: 11, loss: 2.9956402838230134, acc: 0.05009999871253967, test loss: 2.9966305017471315, test acc: 0.048200007528066635\n",
      "epoch: 12, loss: 2.9956357359886168, acc: 0.0515500009059906, test loss: 2.9965221285820007, test acc: 0.04840000346302986\n",
      "epoch: 13, loss: 2.9956762373447416, acc: 0.05145000293850899, test loss: 2.996730160713196, test acc: 0.048200007528066635\n",
      "epoch: 14, loss: 2.9956723928451536, acc: 0.05180000513792038, test loss: 2.996584790945053, test acc: 0.048200007528066635\n",
      "epoch: 15, loss: 2.995683753490448, acc: 0.0487000048160553, test loss: 2.9966045022010803, test acc: 0.048200007528066635\n",
      "epoch: 16, loss: 2.995750904083252, acc: 0.051799993962049484, test loss: 2.9965966999530793, test acc: 0.048200007528066635\n",
      "epoch: 17, loss: 2.995648115873337, acc: 0.051149994134902954, test loss: 2.996581423282623, test acc: 0.04840000346302986\n",
      "epoch: 18, loss: 2.9956688225269317, acc: 0.0502999909222126, test loss: 2.9965777575969694, test acc: 0.048650000244379044\n",
      "epoch: 19, loss: 2.995634937286377, acc: 0.05039999634027481, test loss: 2.9965599298477175, test acc: 0.048200007528066635\n",
      "epoch: 20, loss: 2.9956701159477235, acc: 0.05059999227523804, test loss: 2.99663582444191, test acc: 0.04840000346302986\n",
      "epoch: 21, loss: 2.99566308259964, acc: 0.0507499985396862, test loss: 2.9965248882770537, test acc: 0.048200007528066635\n",
      "epoch: 22, loss: 2.9956623017787933, acc: 0.04845000058412552, test loss: 2.9966420769691466, test acc: 0.048200007528066635\n",
      "epoch: 23, loss: 2.995724546909332, acc: 0.050300002098083496, test loss: 2.996632254123688, test acc: 0.04840000346302986\n",
      "epoch: 24, loss: 2.9956644892692568, acc: 0.05184999853372574, test loss: 2.9966704189777373, test acc: 0.048200007528066635\n",
      "epoch: 25, loss: 2.9957194924354553, acc: 0.05040000006556511, test loss: 2.9965698957443236, test acc: 0.048200007528066635\n",
      "epoch: 26, loss: 2.9956849217414856, acc: 0.049400005489587784, test loss: 2.99664568901062, test acc: 0.04840000346302986\n",
      "epoch: 27, loss: 2.9957010626792906, acc: 0.04919999837875366, test loss: 2.996770906448364, test acc: 0.048650000244379044\n",
      "epoch: 28, loss: 2.9957081198692324, acc: 0.051350004971027374, test loss: 2.996633952856064, test acc: 0.048200007528066635\n",
      "epoch: 29, loss: 2.995714545249939, acc: 0.05115000158548355, test loss: 2.9964976251125335, test acc: 0.048200007528066635\n",
      "epoch: 30, loss: 2.995703417062759, acc: 0.04804999381303787, test loss: 2.996526062488556, test acc: 0.048200007528066635\n",
      "epoch: 31, loss: 2.9956960439682008, acc: 0.05185000225901604, test loss: 2.996650701761246, test acc: 0.04840000346302986\n",
      "epoch: 32, loss: 2.9956546247005464, acc: 0.05159999802708626, test loss: 2.9966840982437133, test acc: 0.04840000346302986\n",
      "epoch: 33, loss: 2.995713597536087, acc: 0.04685000702738762, test loss: 2.9966637909412386, test acc: 0.048650000244379044\n",
      "epoch: 34, loss: 2.995659476518631, acc: 0.048399996012449265, test loss: 2.9965813398361205, test acc: 0.048200007528066635\n",
      "epoch: 35, loss: 2.995727890729904, acc: 0.049000002443790436, test loss: 2.9967437863349913, test acc: 0.04840000346302986\n",
      "epoch: 36, loss: 2.9957492887973785, acc: 0.04944999888539314, test loss: 2.996567177772522, test acc: 0.048650000244379044\n",
      "epoch: 37, loss: 2.995685303211212, acc: 0.05055000260472298, test loss: 2.9966461658477783, test acc: 0.048200007528066635\n",
      "epoch: 38, loss: 2.9957314491271974, acc: 0.04930000379681587, test loss: 2.9966519296169283, test acc: 0.048200007528066635\n",
      "epoch: 39, loss: 2.995612549781799, acc: 0.0507500059902668, test loss: 2.9966088831424713, test acc: 0.048200007528066635\n",
      "epoch: 40, loss: 2.9956639289855955, acc: 0.05024999380111694, test loss: 2.996534079313278, test acc: 0.048200007528066635\n",
      "epoch: 41, loss: 2.995682293176651, acc: 0.05070000886917114, test loss: 2.9966254115104674, test acc: 0.04840000346302986\n",
      "epoch: 42, loss: 2.995687836408615, acc: 0.05174999684095383, test loss: 2.9964850306510926, test acc: 0.048200007528066635\n",
      "epoch: 43, loss: 2.9956242859363558, acc: 0.05180000513792038, test loss: 2.996614158153534, test acc: 0.048200007528066635\n",
      "epoch: 44, loss: 2.9957374155521395, acc: 0.05060000345110893, test loss: 2.9966708600521086, test acc: 0.048200007528066635\n",
      "epoch: 45, loss: 2.995694154500961, acc: 0.04809999465942383, test loss: 2.996651703119278, test acc: 0.04840000346302986\n",
      "epoch: 46, loss: 2.9956852734088897, acc: 0.050849996507167816, test loss: 2.996583116054535, test acc: 0.048200007528066635\n",
      "epoch: 47, loss: 2.9957272887229918, acc: 0.04724999889731407, test loss: 2.996608757972717, test acc: 0.04840000346302986\n",
      "epoch: 48, loss: 2.9956807613372805, acc: 0.05020000413060188, test loss: 2.996611386537552, test acc: 0.048200007528066635\n",
      "epoch: 49, loss: 2.995679897069931, acc: 0.05035000294446945, test loss: 2.99652459025383, test acc: 0.048200007528066635\n",
      "epoch: 50, loss: 2.9956836819648744, acc: 0.04845000058412552, test loss: 2.9966314911842344, test acc: 0.048200007528066635\n",
      "epoch: 51, loss: 2.9956674098968508, acc: 0.05054999515414238, test loss: 2.9965959668159483, test acc: 0.048200007528066635\n",
      "epoch: 52, loss: 2.995700311660767, acc: 0.05180001258850098, test loss: 2.9967122793197634, test acc: 0.048200007528066635\n",
      "epoch: 53, loss: 2.9956881046295165, acc: 0.05065000057220459, test loss: 2.9966162979602813, test acc: 0.04840000346302986\n",
      "epoch: 54, loss: 2.9956685483455656, acc: 0.0486999973654747, test loss: 2.996648383140564, test acc: 0.048200007528066635\n",
      "epoch: 55, loss: 2.995662498474121, acc: 0.05180000141263008, test loss: 2.99662070274353, test acc: 0.048200007528066635\n",
      "epoch: 56, loss: 2.99568150639534, acc: 0.047599997371435165, test loss: 2.9966155648231507, test acc: 0.04840000346302986\n",
      "epoch: 57, loss: 2.995650738477707, acc: 0.049299996346235275, test loss: 2.996661764383316, test acc: 0.048700001090765\n",
      "epoch: 58, loss: 2.9957431674003603, acc: 0.05054999515414238, test loss: 2.9966781079769134, test acc: 0.048200007528066635\n",
      "epoch: 59, loss: 2.9957493782043456, acc: 0.050199996680021286, test loss: 2.9966948509216307, test acc: 0.048200007528066635\n",
      "epoch: 60, loss: 2.9956948161125183, acc: 0.051350004971027374, test loss: 2.9966663360595702, test acc: 0.04840000346302986\n",
      "epoch: 61, loss: 2.995715522766113, acc: 0.05120000243186951, test loss: 2.996554708480835, test acc: 0.048200007528066635\n",
      "epoch: 62, loss: 2.9957237362861635, acc: 0.049999989569187164, test loss: 2.99666308760643, test acc: 0.048200007528066635\n",
      "epoch: 63, loss: 2.995713073015213, acc: 0.047349996864795685, test loss: 2.9966436624526978, test acc: 0.048700001090765\n",
      "epoch: 64, loss: 2.9956709146499634, acc: 0.049650005996227264, test loss: 2.996650290489197, test acc: 0.048200007528066635\n",
      "epoch: 65, loss: 2.9956471741199495, acc: 0.051799993962049484, test loss: 2.9965489506721497, test acc: 0.048200007528066635\n",
      "epoch: 66, loss: 2.9956849217414856, acc: 0.04854999855160713, test loss: 2.9966531574726103, test acc: 0.04840000346302986\n",
      "epoch: 67, loss: 2.9956893503665922, acc: 0.04859999567270279, test loss: 2.996675419807434, test acc: 0.048200007528066635\n",
      "epoch: 68, loss: 2.9956864535808565, acc: 0.05000000447034836, test loss: 2.996620309352875, test acc: 0.048200007528066635\n",
      "epoch: 69, loss: 2.995675194263458, acc: 0.0507499985396862, test loss: 2.996669942140579, test acc: 0.04840000346302986\n",
      "epoch: 70, loss: 2.9956974387168884, acc: 0.049949999898672104, test loss: 2.996695399284363, test acc: 0.048200007528066635\n",
      "epoch: 71, loss: 2.9957296371459963, acc: 0.0502999909222126, test loss: 2.9965708374977114, test acc: 0.04840000346302986\n",
      "epoch: 72, loss: 2.9956901371479034, acc: 0.04979998618364334, test loss: 2.9966855227947233, test acc: 0.048200007528066635\n",
      "epoch: 73, loss: 2.995670032501221, acc: 0.05060000345110893, test loss: 2.996630299091339, test acc: 0.048200007528066635\n",
      "epoch: 74, loss: 2.9956615209579467, acc: 0.049049995839595795, test loss: 2.996552813053131, test acc: 0.048200007528066635\n",
      "epoch: 75, loss: 2.9956676363945007, acc: 0.051799993962049484, test loss: 2.9966222941875458, test acc: 0.048200007528066635\n",
      "epoch: 76, loss: 2.9956766843795775, acc: 0.05139999836683273, test loss: 2.9966553330421446, test acc: 0.04840000346302986\n",
      "epoch: 77, loss: 2.99563530087471, acc: 0.0494999960064888, test loss: 2.9966573774814607, test acc: 0.048650000244379044\n",
      "epoch: 78, loss: 2.99563969373703, acc: 0.05150000378489494, test loss: 2.996688336133957, test acc: 0.048200007528066635\n",
      "epoch: 79, loss: 2.995654398202896, acc: 0.05054999515414238, test loss: 2.9965911149978637, test acc: 0.048200007528066635\n",
      "epoch: 80, loss: 2.995650941133499, acc: 0.05180000513792038, test loss: 2.996555060148239, test acc: 0.048200007528066635\n",
      "epoch: 81, loss: 2.9957017064094544, acc: 0.04739999771118164, test loss: 2.9966094136238097, test acc: 0.04840000346302986\n",
      "epoch: 82, loss: 2.9956866979598997, acc: 0.05014999955892563, test loss: 2.9966586768627166, test acc: 0.048200007528066635\n",
      "epoch: 83, loss: 2.9957086086273192, acc: 0.04830000549554825, test loss: 2.996613770723343, test acc: 0.048200007528066635\n",
      "epoch: 84, loss: 2.99572212100029, acc: 0.049400001764297485, test loss: 2.9965704143047334, test acc: 0.04840000346302986\n",
      "epoch: 85, loss: 2.995697444677353, acc: 0.05134999752044678, test loss: 2.9966719448566437, test acc: 0.048200007528066635\n",
      "epoch: 86, loss: 2.995719885826111, acc: 0.05119999498128891, test loss: 2.996581035852432, test acc: 0.04840000346302986\n",
      "epoch: 87, loss: 2.9956989526748656, acc: 0.051249999552965164, test loss: 2.9966138660907746, test acc: 0.048200007528066635\n",
      "epoch: 88, loss: 2.9956893920898438, acc: 0.051799990236759186, test loss: 2.9966241002082823, test acc: 0.048200007528066635\n",
      "epoch: 89, loss: 2.995654934644699, acc: 0.048750005662441254, test loss: 2.9966557323932648, test acc: 0.04840000346302986\n",
      "epoch: 90, loss: 2.995706778764725, acc: 0.0486999973654747, test loss: 2.996567815542221, test acc: 0.04840000346302986\n",
      "epoch: 91, loss: 2.99572069644928, acc: 0.0515500009059906, test loss: 2.996602874994278, test acc: 0.048200007528066635\n",
      "epoch: 92, loss: 2.995634585618973, acc: 0.05180000141263008, test loss: 2.996637445688248, test acc: 0.048200007528066635\n",
      "epoch: 93, loss: 2.9957256734371187, acc: 0.0494999960064888, test loss: 2.996571350097656, test acc: 0.048200007528066635\n",
      "epoch: 94, loss: 2.9956842422485352, acc: 0.04729999974370003, test loss: 2.996585935354233, test acc: 0.048650000244379044\n",
      "epoch: 95, loss: 2.9957003355026246, acc: 0.051149994134902954, test loss: 2.996687811613083, test acc: 0.048200007528066635\n",
      "epoch: 96, loss: 2.995677626132965, acc: 0.04784999042749405, test loss: 2.9966001391410826, test acc: 0.048200007528066635\n",
      "epoch: 97, loss: 2.9957234263420105, acc: 0.05004999786615372, test loss: 2.9964910566806795, test acc: 0.04840000346302986\n",
      "epoch: 98, loss: 2.9957198798656464, acc: 0.05159999057650566, test loss: 2.996589517593384, test acc: 0.04840000346302986\n",
      "epoch: 99, loss: 2.9956360280513765, acc: 0.05149999260902405, test loss: 2.9966740190982817, test acc: 0.048200007528066635\n"
     ]
    }
   ],
   "source": [
    "num_epochs = 100\n",
    "train_losses = []\n",
    "train_accs = []\n",
    "test_losses = []\n",
    "test_accs = []\n",
    "for epoch in range(num_epochs):\n",
    "    running_loss = 0.0\n",
    "    running_acc = 0.0\n",
    "    for inputs, targets in train_loader:\n",
    "        inputs = inputs.to(device)\n",
    "        targets = targets.to(device)\n",
    "        optimizer.zero_grad()\n",
    "        output = model(inputs)\n",
    "        loss = criterion(output, targets)\n",
    "        loss.backward()\n",
    "        running_loss += loss.item()\n",
    "        pred = torch.argmax(output, dim=1)      \n",
    "        targets = torch.argmax(targets, dim=1) \n",
    "        running_acc += torch.mean(pred.eq(targets).float().cpu()) \n",
    "        optimizer.step()\n",
    "    running_loss /= len(train_loader)   \n",
    "    running_acc /= len(train_loader)    \n",
    "    train_losses.append(running_loss)\n",
    "    train_accs.append(running_acc)\n",
    "    #\n",
    "    #   test loop\n",
    "    #\n",
    "    test_running_loss = 0.0\n",
    "    test_running_acc = 0.0\n",
    "    for test_inputs, test_targets in test_loader:\n",
    "        test_inputs = test_inputs.to(device)\n",
    "        test_targets = test_targets.to(device)\n",
    "        test_output = model(test_inputs)\n",
    "        test_loss = criterion(test_output, test_targets)\n",
    "        test_running_loss += test_loss.item()\n",
    "        test_pred = torch.argmax(test_output, dim=1)      \n",
    "        test_targets = torch.argmax(test_targets, dim=1)  \n",
    "        test_running_acc += torch.mean(test_pred.eq(test_targets).float().cpu()) \n",
    "    test_running_loss /= len(test_loader)   \n",
    "    test_running_acc /= len(test_loader)    \n",
    "    test_losses.append(test_running_loss)\n",
    "    test_accs.append(test_running_acc)\n",
    "        \n",
    "    print(\"epoch: {}, loss: {}, acc: {}, test loss: {}, test acc: {}\".format(epoch, running_loss, running_acc, test_running_loss, test_running_acc))"
   ]
  },
  {
   "cell_type": "markdown",
   "metadata": {},
   "source": [
    "モデルの保存"
   ]
  },
  {
   "cell_type": "code",
   "execution_count": 18,
   "metadata": {},
   "outputs": [],
   "source": [
    "Ising_size = int(np.sqrt(input_size))\n",
    "hidden_size = 3\n",
    "class_name = type(model).__name__\n",
    "\n",
    "file_path = f'../data storage/prm_data_L{Ising_size}_{class_name}_Nh{hidden_size}.pth'\n",
    "\n",
    "torch.save(model.state_dict(), file_path)"
   ]
  },
  {
   "cell_type": "code",
   "execution_count": null,
   "metadata": {},
   "outputs": [],
   "source": []
  }
 ],
 "metadata": {
  "kernelspec": {
   "display_name": "base",
   "language": "python",
   "name": "python3"
  },
  "language_info": {
   "codemirror_mode": {
    "name": "ipython",
    "version": 3
   },
   "file_extension": ".py",
   "mimetype": "text/x-python",
   "name": "python",
   "nbconvert_exporter": "python",
   "pygments_lexer": "ipython3",
   "version": "3.10.9"
  },
  "orig_nbformat": 4
 },
 "nbformat": 4,
 "nbformat_minor": 2
}
