{
 "cells": [
  {
   "cell_type": "code",
   "execution_count": 1,
   "metadata": {},
   "outputs": [],
   "source": [
    "import torch\n",
    "import pickle\n",
    "\n",
    "# データをバイナリ形式で読み込む\n",
    "with open('data.pkl', 'rb') as file:\n",
    "    loaded_data = pickle.load(file)\n",
    "\n",
    "# 読み込んだデータを元の変数に戻す\n",
    "spin_data, temp_data = loaded_data"
   ]
  },
  {
   "cell_type": "code",
   "execution_count": 6,
   "metadata": {},
   "outputs": [
    {
     "data": {
      "text/plain": [
       "tensor([[  0,   0,   0, 255, 255, 255, 255, 255,   0,   0],\n",
       "        [  0,   0,   0, 255, 255, 255, 255, 255,   0,   0],\n",
       "        [  0,   0,   0, 255, 255, 255, 255, 255,   0,   0],\n",
       "        [  0,   0,   0, 255, 255, 255, 255, 255,   0,   0],\n",
       "        [  0,   0,   0, 255, 255, 255, 255, 255,   0,   0],\n",
       "        [  0,   0,   0, 255, 255, 255, 255, 255,   0,   0],\n",
       "        [  0,   0,   0, 255, 255, 255, 255, 255,   0,   0],\n",
       "        [  0,   0,   0, 255, 255, 255, 255, 255,   0,   0],\n",
       "        [  0,   0,   0, 255, 255, 255, 255, 255,   0,   0],\n",
       "        [  0,   0,   0, 255, 255, 255, 255, 255,   0,   0]], dtype=torch.uint8)"
      ]
     },
     "execution_count": 6,
     "metadata": {},
     "output_type": "execute_result"
    }
   ],
   "source": [
    "spin_data[1]"
   ]
  },
  {
   "cell_type": "code",
   "execution_count": null,
   "metadata": {},
   "outputs": [],
   "source": []
  }
 ],
 "metadata": {
  "kernelspec": {
   "display_name": "base",
   "language": "python",
   "name": "python3"
  },
  "language_info": {
   "codemirror_mode": {
    "name": "ipython",
    "version": 3
   },
   "file_extension": ".py",
   "mimetype": "text/x-python",
   "name": "python",
   "nbconvert_exporter": "python",
   "pygments_lexer": "ipython3",
   "version": "3.9.13"
  },
  "orig_nbformat": 4
 },
 "nbformat": 4,
 "nbformat_minor": 2
}
