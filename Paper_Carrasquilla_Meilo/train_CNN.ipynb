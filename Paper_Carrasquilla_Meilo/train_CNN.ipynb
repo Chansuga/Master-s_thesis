{
 "cells": [
  {
   "cell_type": "code",
   "execution_count": 140,
   "metadata": {},
   "outputs": [],
   "source": [
    "import numpy as np\n",
    "import matplotlib.pyplot as plt\n",
    "import torch\n",
    "import torch.nn as nn\n",
    "import torch.optim as optim\n",
    "from torch.utils.data import DataLoader, TensorDataset"
   ]
  },
  {
   "cell_type": "code",
   "execution_count": 141,
   "metadata": {},
   "outputs": [],
   "source": [
    "N_dis = 10**2   # 捨てる個数\n",
    "N_trj = 10**3   # トータルのアップデート回数\n",
    "N_sav = 10      # アップデート10回ごとに配位を保存\n",
    "prm_list = [\n",
    "    # beta, # of_trj, # of_discard, file_name, save_every\n",
    "    [0.90, N_trj, N_dis, \"conf/L32b090_\", N_sav],\n",
    "    [0.85, N_trj, N_dis, \"conf/L32b085_\", N_sav],\n",
    "    [0.80, N_trj, N_dis, \"conf/L32b080_\", N_sav],\n",
    "    [0.75, N_trj, N_dis, \"conf/L32b075_\", N_sav],\n",
    "    [0.70, N_trj, N_dis, \"conf/L32b070_\", N_sav],\n",
    "    [0.65, N_trj, N_dis, \"conf/L32b065_\", N_sav],\n",
    "    [0.60, N_trj, N_dis, \"conf/L32b060_\", N_sav],\n",
    "    [0.55, N_trj, N_dis, \"conf/L32b055_\", N_sav],\n",
    "    [0.50, N_trj, N_dis, \"conf/L32b050_\", N_sav],\n",
    "    [0.47, N_trj, N_dis, \"conf/L32b047_\", N_sav],\n",
    "    [0.42, N_trj, N_dis, \"conf/L32b042_\", N_sav],\n",
    "    [0.40, N_trj, N_dis, \"conf/L32b040_\", N_sav],\n",
    "    [0.35, N_trj, N_dis, \"conf/L32b035_\", N_sav],\n",
    "    [0.30, N_trj, N_dis, \"conf/L32b030_\", N_sav],\n",
    "    [0.25, N_trj, N_dis, \"conf/L32b025_\", N_sav],\n",
    "    [0.20, N_trj, N_dis, \"conf/L32b020_\", N_sav],\n",
    "    [0.15, N_trj, N_dis, \"conf/L32b015_\", N_sav],\n",
    "    [0.10, N_trj, N_dis, \"conf/L32b010_\", N_sav],\n",
    "    [0.05, N_trj, N_dis, \"conf/L32b005_\", N_sav],\n",
    "    [0.00, N_trj, N_dis, \"conf/L32b000_\", N_sav],\n",
    "    ]"
   ]
  },
  {
   "cell_type": "code",
   "execution_count": 142,
   "metadata": {},
   "outputs": [],
   "source": [
    "nconf = 90     # 各ベータでの配位の生成\n",
    "betacr = 0.440686\n",
    "\n",
    "data = []\n",
    "labels = []\n",
    "betas = []\n",
    "nprm = len(prm_list)\n",
    "for ibeta in range(nprm):\n",
    "    beta = prm_list[ibeta][0]\n",
    "    fname = prm_list[ibeta][3]\n",
    "    for itrj in range(nconf):\n",
    "        npsc = np.load(f\"{fname}{itrj}.npy\")\n",
    "        data.append(npsc)\n",
    "        if beta > betacr:\n",
    "            labels.append([0, 1])   # 低温相の one-hot ベクトル\n",
    "        else:\n",
    "            labels.append([1, 0])   # 高温相の one-hot ベクトル\n",
    "        betas.append(beta)\n",
    "data = np.array(data)\n",
    "labels = np.array(labels)\n",
    "\n",
    "train_data = data[0::2]\n",
    "train_labels = labels[0::2]\n",
    "train_betas = betas[0::2]\n",
    "\n",
    "val_data = data[1::2]\n",
    "val_labels = labels[1::2]\n",
    "val_betas = betas[1::2]"
   ]
  },
  {
   "cell_type": "code",
   "execution_count": 143,
   "metadata": {},
   "outputs": [
    {
     "name": "stdout",
     "output_type": "stream",
     "text": [
      "train_data.shape =  (900, 32, 32)\n",
      "val_data.shape =  (900, 32, 32)\n"
     ]
    }
   ],
   "source": [
    "# データのサイズを確認\n",
    "print(\"train_data.shape = \", train_data.shape)\n",
    "print(\"val_data.shape = \", val_data.shape)"
   ]
  },
  {
   "cell_type": "markdown",
   "metadata": {},
   "source": [
    "ここからモデルを定義して学習を行う．富谷さんの書籍ではtensorflowを用いているが，ここからはpytorchで実装を行う"
   ]
  },
  {
   "cell_type": "code",
   "execution_count": 146,
   "metadata": {},
   "outputs": [],
   "source": [
    "# tensor型に変換\n",
    "train_data_tensor = torch.tensor(train_data, dtype=torch.float32).unsqueeze(1)\n",
    "train_labels_tensor = torch.tensor(train_labels, dtype=torch.float32)\n",
    "train_betas_tensor = torch.tensor(train_betas, dtype=torch.float32)\n",
    "\n",
    "val_data_tensor = torch.tensor(val_data, dtype=torch.float32).unsqueeze(1)\n",
    "val_labels_tensor = torch.tensor(val_labels, dtype=torch.float32)\n",
    "val_betas_tensor = torch.tensor(val_betas, dtype=torch.float32)"
   ]
  },
  {
   "cell_type": "code",
   "execution_count": 147,
   "metadata": {},
   "outputs": [],
   "source": [
    "# データセットの作成\n",
    "train_dataset = TensorDataset(train_data_tensor, train_labels_tensor, train_betas_tensor)\n",
    "val_dataset = TensorDataset(val_data_tensor, val_labels_tensor, val_betas_tensor)"
   ]
  },
  {
   "cell_type": "code",
   "execution_count": 148,
   "metadata": {},
   "outputs": [
    {
     "data": {
      "text/plain": [
       "(torch.Size([30, 1, 32, 32]), torch.Size([30, 2]), torch.Size([30]))"
      ]
     },
     "execution_count": 148,
     "metadata": {},
     "output_type": "execute_result"
    }
   ],
   "source": [
    "# DataLoaderの設定（バッチサイズ32）\n",
    "train_loader = DataLoader(train_dataset, batch_size=30, shuffle=True)\n",
    "val_loader = DataLoader(val_dataset, batch_size=30)\n",
    "# サイズを確認\n",
    "train_data, train_label, train_beta = next(iter(train_loader))\n",
    "train_data.shape, train_label.shape, train_beta.shape"
   ]
  },
  {
   "cell_type": "code",
   "execution_count": 149,
   "metadata": {},
   "outputs": [],
   "source": [
    "# モデルを定義\n",
    "class CNN(nn.Module):\n",
    "    def __init__(self, hidden_size, output_size, in_channels, out_channels):\n",
    "        super(CNN, self).__init__()\n",
    "        self.conv = nn.Conv2d(in_channels, out_channels, kernel_size=4, stride=4, bias=False)\n",
    "        self.flatten = nn.Flatten()\n",
    "        self.fc1 = nn.Linear(out_channels*8*8, hidden_size)\n",
    "        self.fc2 = nn.Linear(hidden_size, output_size)\n",
    "        \n",
    "    def forward(self, x):\n",
    "        x = self.conv(x)\n",
    "        x = torch.relu(x)\n",
    "        x = self.flatten(x)\n",
    "        x = torch.relu(self.fc1(x))\n",
    "        x = torch.sigmoid(self.fc2(x))\n",
    "        return x"
   ]
  },
  {
   "cell_type": "code",
   "execution_count": 150,
   "metadata": {},
   "outputs": [],
   "source": [
    "# class CNN(nn.Module):\n",
    "#     def __init__(self, hidden_size, output_size, in_channels, out_channels):\n",
    "#         super(CNN, self).__init__()\n",
    "#         # 畳み込み部分\n",
    "#         self.conv = nn.Sequential(\n",
    "#             nn.Conv2d(in_channels, out_channels, kernel_size=4, stride=4, bias=False),\n",
    "#             nn.ReLU(inplace=True),\n",
    "#         )\n",
    "#         # 全結合部分\n",
    "#         self.fc = nn.Sequential(\n",
    "#             nn.Flatten(),\n",
    "#             nn.Linear(out_channels * 8 * 8, hidden_size),\n",
    "#             nn.ReLU(inplace=True),\n",
    "#             nn.Linear(hidden_size, output_size),\n",
    "#             nn.Sigmoid()\n",
    "#         )\n",
    "\n",
    "#     def forward(self, x):\n",
    "#         x = self.conv(x)\n",
    "#         x = self.fc(x)\n",
    "#         return x\n"
   ]
  },
  {
   "cell_type": "code",
   "execution_count": 152,
   "metadata": {},
   "outputs": [
    {
     "name": "stdout",
     "output_type": "stream",
     "text": [
      "CNN(\n",
      "  (conv): Conv2d(1, 1, kernel_size=(4, 4), stride=(4, 4), bias=False)\n",
      "  (flatten): Flatten(start_dim=1, end_dim=-1)\n",
      "  (fc1): Linear(in_features=64, out_features=100, bias=True)\n",
      "  (fc2): Linear(in_features=100, out_features=2, bias=True)\n",
      ")\n"
     ]
    }
   ],
   "source": [
    "# モデルのインスタンス化\n",
    "in_channels  = 1\n",
    "out_channels = 1\n",
    "hidden_size = 100\n",
    "output_size = 2\n",
    "model = CNN(hidden_size, output_size, in_channels, out_channels)\n",
    "# モデルの概要表示\n",
    "print(model)"
   ]
  },
  {
   "cell_type": "code",
   "execution_count": 153,
   "metadata": {},
   "outputs": [],
   "source": [
    "# 損失関数と最適化手法を定義\n",
    "criterion = nn.BCELoss()   # バイナリクロスエントロピー誤差\n",
    "optimizer = optim.Adam(model.parameters(), lr=0.001)     # Adam"
   ]
  },
  {
   "cell_type": "code",
   "execution_count": 154,
   "metadata": {},
   "outputs": [
    {
     "name": "stdout",
     "output_type": "stream",
     "text": [
      "epoch: 0, loss: 0.544256670276324, acc: 0.6122222542762756, val loss: 0.46309893652796746, val acc: 0.5444446206092834\n",
      "epoch: 1, loss: 0.4049972663323084, acc: 0.7911109924316406, val loss: 0.3471276101966699, val acc: 0.9411110281944275\n",
      "epoch: 2, loss: 0.2829655225078265, acc: 0.9766666293144226, val loss: 0.233817212531964, val acc: 0.9888888597488403\n",
      "epoch: 3, loss: 0.17655932505925495, acc: 0.9933333992958069, val loss: 0.1612290988365809, val acc: 0.9933332800865173\n",
      "epoch: 4, loss: 0.10835824956496556, acc: 0.995555579662323, val loss: 0.10282802979151408, val acc: 0.9944444298744202\n",
      "epoch: 5, loss: 0.06891877328356107, acc: 0.9988889098167419, val loss: 0.06826897341137131, val acc: 0.995555579662323\n",
      "epoch: 6, loss: 0.045294698948661484, acc: 0.9988889098167419, val loss: 0.05101201127593716, val acc: 0.995555579662323\n",
      "epoch: 7, loss: 0.03206846180061499, acc: 0.9988889098167419, val loss: 0.03791766559394697, val acc: 0.9977777600288391\n",
      "epoch: 8, loss: 0.02283997628837824, acc: 1.0, val loss: 0.03362105549410141, val acc: 0.995555579662323\n",
      "epoch: 9, loss: 0.017333045601844788, acc: 1.0, val loss: 0.02547796982107684, val acc: 0.996666669845581\n",
      "epoch: 10, loss: 0.013206737302243709, acc: 1.0, val loss: 0.021656500697523975, val acc: 0.996666669845581\n",
      "epoch: 11, loss: 0.01049582998578747, acc: 1.0, val loss: 0.01913610012755574, val acc: 0.996666669845581\n",
      "epoch: 12, loss: 0.008614247703614334, acc: 1.0, val loss: 0.017581506742862983, val acc: 0.996666669845581\n",
      "epoch: 13, loss: 0.007147923763841391, acc: 1.0, val loss: 0.01597654946623758, val acc: 0.996666669845581\n",
      "epoch: 14, loss: 0.006107163902682563, acc: 1.0, val loss: 0.01456361014425056, val acc: 0.996666669845581\n",
      "epoch: 15, loss: 0.0051577191062582035, acc: 1.0, val loss: 0.013466579590264397, val acc: 0.9977777600288391\n",
      "epoch: 16, loss: 0.004478714832415184, acc: 1.0, val loss: 0.012484970391475751, val acc: 0.996666669845581\n",
      "epoch: 17, loss: 0.003936470707412809, acc: 1.0, val loss: 0.01192716879255992, val acc: 0.996666669845581\n",
      "epoch: 18, loss: 0.0034922968673830232, acc: 1.0, val loss: 0.011209671322770494, val acc: 0.996666669845581\n",
      "epoch: 19, loss: 0.0030949881960016987, acc: 1.0, val loss: 0.010796766652007742, val acc: 0.996666669845581\n"
     ]
    }
   ],
   "source": [
    "# 学習の実行\n",
    "num_epochs = 20\n",
    "train_losses = []\n",
    "train_accs = []\n",
    "val_losses = []\n",
    "val_accs = []\n",
    "for epoch in range(num_epochs):\n",
    "    # train loop\n",
    "    running_loss = 0.0\n",
    "    running_acc = 0.0\n",
    "    for inputs, targets, beta in train_loader:\n",
    "        optimizer.zero_grad()\n",
    "        output = model(inputs)\n",
    "        loss = criterion(output, targets)\n",
    "        loss.backward()\n",
    "        running_loss += loss.item()\n",
    "        pred = torch.argmax(output, dim=1)      \n",
    "        targets = torch.argmax(targets, dim=1)  \n",
    "        running_acc += torch.mean(pred.eq(targets).float().cpu()) \n",
    "        optimizer.step()\n",
    "    running_loss /= len(train_loader)   \n",
    "    running_acc /= len(train_loader)    \n",
    "    train_losses.append(running_loss)\n",
    "    train_accs.append(running_acc)\n",
    "\n",
    "    #   val loop\n",
    "    val_running_loss = 0.0\n",
    "    val_running_acc = 0.0\n",
    "    for val_inputs, val_targets, val_beta in val_loader:\n",
    "        val_output = model(val_inputs)\n",
    "        val_loss = criterion(val_output, val_targets)\n",
    "        val_running_loss += val_loss.item()\n",
    "        val_pred = torch.argmax(val_output, dim=1)      \n",
    "        val_targets = torch.argmax(val_targets, dim=1)  \n",
    "        val_running_acc += torch.mean(val_pred.eq(val_targets).float().cpu()) \n",
    "    val_running_loss /= len(val_loader)   \n",
    "    val_running_acc /= len(val_loader)    \n",
    "    val_losses.append(val_running_loss)\n",
    "    val_accs.append(val_running_acc)\n",
    "        \n",
    "    print(\"epoch: {}, loss: {}, acc: {}, val loss: {}, val acc: {}\".format(epoch, running_loss, running_acc, val_running_loss, val_running_acc))"
   ]
  },
  {
   "cell_type": "code",
   "execution_count": 155,
   "metadata": {},
   "outputs": [
    {
     "name": "stdout",
     "output_type": "stream",
     "text": [
      "No. 0\n",
      "tensor([[3.4383e-05, 9.9997e-01]], grad_fn=<SigmoidBackward0>)\n",
      "tensor([0., 1.])\n",
      "tensor(0.9000)\n",
      "No. 200\n",
      "tensor([[8.5575e-05, 9.9992e-01]], grad_fn=<SigmoidBackward0>)\n",
      "tensor([0., 1.])\n",
      "tensor(0.7000)\n",
      "No. 400\n",
      "tensor([[2.9049e-04, 9.9974e-01]], grad_fn=<SigmoidBackward0>)\n",
      "tensor([0., 1.])\n",
      "tensor(0.5000)\n",
      "No. 600\n",
      "tensor([[0.9954, 0.0052]], grad_fn=<SigmoidBackward0>)\n",
      "tensor([1., 0.])\n",
      "tensor(0.3000)\n",
      "No. 800\n",
      "tensor([[0.9953, 0.0056]], grad_fn=<SigmoidBackward0>)\n",
      "tensor([1., 0.])\n",
      "tensor(0.1000)\n"
     ]
    }
   ],
   "source": [
    "for i in range(0, 900, 200):\n",
    "    A = val_data_tensor[i].unsqueeze(0)\n",
    "    B = val_labels_tensor[i]\n",
    "    C = val_betas_tensor[i]\n",
    "\n",
    "    print(\"No.\", i)\n",
    "    print(model(A))\n",
    "    print(B)\n",
    "    print(C)"
   ]
  },
  {
   "cell_type": "code",
   "execution_count": 158,
   "metadata": {},
   "outputs": [
    {
     "name": "stdout",
     "output_type": "stream",
     "text": [
      "0.9 4.1116553e-05 0.99996084\n",
      "0.85 4.0528306e-05 0.9999618\n",
      "0.8 4.3366555e-05 0.99995846\n",
      "0.75 4.556362e-05 0.9999565\n",
      "0.7 5.4751745e-05 0.99994725\n",
      "0.65 9.932494e-05 0.99990237\n",
      "0.6 0.00012715693 0.9998747\n",
      "0.55 0.0002805864 0.99971664\n",
      "0.5 0.0015078149 0.9985366\n",
      "0.47 0.040311955 0.9621413\n",
      "0.42 0.9593674 0.04517117\n",
      "0.4 0.99581385 0.004825811\n",
      "0.35 0.9904382 0.010349889\n",
      "0.3 0.99090177 0.009702136\n",
      "0.25 0.99025023 0.010164782\n",
      "0.2 0.9910596 0.009166709\n",
      "0.15 0.98967 0.009884772\n",
      "0.1 0.98822343 0.011591988\n",
      "0.05 0.9895562 0.0102356635\n",
      "0.0 0.98794633 0.012035286\n"
     ]
    },
    {
     "data": {
      "image/png": "[encoded data removed]",
      "text/plain": [
       "<Figure size 640x480 with 1 Axes>"
      ]
     },
     "metadata": {},
     "output_type": "display_data"
    }
   ],
   "source": [
    "# 各逆温度での予測(確率)を可視化\n",
    "xs = []\n",
    "y1s = []\n",
    "y2s = []\n",
    "Ndatamax = 900\n",
    "Nsameclass = 45\n",
    "for ii in range(0, Ndatamax, Nsameclass):\n",
    "    val_data = val_data_tensor\n",
    "    res = model(val_data[ii : ii+Nsameclass])\n",
    "    x = val_betas[ii]\n",
    "    y1 = np.mean(res.detach().numpy().T[0])\n",
    "    y2 = np.mean(res.detach().numpy().T[1])    \n",
    "    xs.append(x)\n",
    "    y1s.append(y1)\n",
    "    y2s.append(y2)\n",
    "    print(x, y1, y2)\n",
    "plt.axvline(x=0.440686, ymin=0, ymax=1, ls=\"dashed\", color=\"gray\", label=\"Critical\")\n",
    "plt.plot(xs, y1s, label=\"class:high\", marker=\"o\", color=\"red\")\n",
    "plt.plot(xs, y2s, label=\"class:low\", marker=\"o\", color=\"blue\")\n",
    "plt.legend()\n",
    "plt.xlabel(r\"$\\beta = 1/T$\")\n",
    "plt.ylabel(r\"Prob\")\n",
    "# 図をファイルとして保存\n",
    "plt.savefig('plot.png')  # ファイル名を適切に指定\n",
    "plt.show()"
   ]
  },
  {
   "cell_type": "code",
   "execution_count": null,
   "metadata": {},
   "outputs": [],
   "source": []
  },
  {
   "cell_type": "code",
   "execution_count": null,
   "metadata": {},
   "outputs": [],
   "source": []
  }
 ],
 "metadata": {
  "kernelspec": {
   "display_name": "base",
   "language": "python",
   "name": "python3"
  },
  "language_info": {
   "codemirror_mode": {
    "name": "ipython",
    "version": 3
   },
   "file_extension": ".py",
   "mimetype": "text/x-python",
   "name": "python",
   "nbconvert_exporter": "python",
   "pygments_lexer": "ipython3",
   "version": "3.9.13"
  }
 },
 "nbformat": 4,
 "nbformat_minor": 2
}
