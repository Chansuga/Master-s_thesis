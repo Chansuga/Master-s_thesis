{
 "cells": [
  {
   "cell_type": "code",
   "execution_count": 1,
   "metadata": {},
   "outputs": [],
   "source": [
    "import numpy as np\n",
    "import matplotlib.pyplot as plt\n",
    "import torch\n",
    "import torch.nn as nn\n",
    "import torch.optim as optim\n",
    "from torch.utils.data import DataLoader, TensorDataset"
   ]
  },
  {
   "cell_type": "code",
   "execution_count": 2,
   "metadata": {},
   "outputs": [],
   "source": [
    "N_dis = 10**2   # 捨てる個数\n",
    "N_trj = 10**3   # トータルのアップデート回数\n",
    "N_sav = 10      # アップデート10回ごとに配位を保存\n",
    "prm_list = [\n",
    "    # beta, # of_trj, # of_discard, file_name, save_every\n",
    "    # [1.00, N_trj, N_dis, \"conf_tri/L32b025_\", N_sav],  \n",
    "    [0.54, N_trj, N_dis, \"conf_tri/L32b090_\", N_sav],  \n",
    "    [0.51, N_trj, N_dis, \"conf_tri/L32b090_\", N_sav],\n",
    "    [0.48, N_trj, N_dis, \"conf_tri/L32b085_\", N_sav],\n",
    "    [0.45, N_trj, N_dis, \"conf_tri/L32b080_\", N_sav],\n",
    "    [0.42, N_trj, N_dis, \"conf_tri/L32b075_\", N_sav],\n",
    "    [0.39, N_trj, N_dis, \"conf_tri/L32b070_\", N_sav],\n",
    "    [0.36, N_trj, N_dis, \"conf_tri/L32b065_\", N_sav],\n",
    "    [0.33, N_trj, N_dis, \"conf_tri/L32b060_\", N_sav],\n",
    "    [0.31, N_trj, N_dis, \"conf_tri/L32b055_\", N_sav],\n",
    "    [0.29, N_trj, N_dis, \"conf_tri/L32b050_\", N_sav],\n",
    "    [0.25, N_trj, N_dis, \"conf_tri/L32b047_\", N_sav],\n",
    "    [0.23, N_trj, N_dis, \"conf_tri/L32b040_\", N_sav],\n",
    "    [0.21, N_trj, N_dis, \"conf_tri/L32b035_\", N_sav],\n",
    "    [0.18, N_trj, N_dis, \"conf_tri/L32b030_\", N_sav],\n",
    "    [0.15, N_trj, N_dis, \"conf_tri/L32b025_\", N_sav],\n",
    "    [0.12, N_trj, N_dis, \"conf_tri/L32b020_\", N_sav],\n",
    "    [0.09, N_trj, N_dis, \"conf_tri/L32b015_\", N_sav],\n",
    "    [0.06, N_trj, N_dis, \"conf_tri/L32b010_\", N_sav],\n",
    "    [0.03, N_trj, N_dis, \"conf_tri/L32b005_\", N_sav],\n",
    "    [0.00, N_trj, N_dis, \"conf_tri/L32b000_\", N_sav],\n",
    "    ]"
   ]
  },
  {
   "cell_type": "code",
   "execution_count": 3,
   "metadata": {},
   "outputs": [],
   "source": [
    "nconf = 90     # 各ベータでの配位の生成\n",
    "betacr = 0.2747\n",
    "\n",
    "data = []\n",
    "labels = []\n",
    "betas = []\n",
    "nprm = len(prm_list)\n",
    "for ibeta in range(nprm):\n",
    "    beta = prm_list[ibeta][0]\n",
    "    fname = prm_list[ibeta][3]\n",
    "    for itrj in range(nconf):\n",
    "        npsc = np.load(f\"{fname}{itrj}.npy\")\n",
    "        data.append(npsc)\n",
    "        if beta > betacr:\n",
    "            labels.append([0, 1])   # 低温相の one-hot ベクトル\n",
    "        else:\n",
    "            labels.append([1, 0])   # 高温相の one-hot ベクトル\n",
    "        betas.append(beta)\n",
    "data = np.array(data)\n",
    "labels = np.array(labels)\n",
    "\n",
    "train_data = data[0::2]\n",
    "train_labels = labels[0::2]\n",
    "train_betas = betas[0::2]\n",
    "\n",
    "val_data = data[1::2]\n",
    "val_labels = labels[1::2]\n",
    "val_betas = betas[1::2]"
   ]
  },
  {
   "cell_type": "code",
   "execution_count": 4,
   "metadata": {},
   "outputs": [
    {
     "name": "stdout",
     "output_type": "stream",
     "text": [
      "train_data.hape =  (900, 32, 32)\n",
      "val_data.hape =  (900, 32, 32)\n"
     ]
    }
   ],
   "source": [
    "# データのサイズを確認\n",
    "print(\"train_data.hape = \", train_data.shape)\n",
    "print(\"val_data.hape = \", val_data.shape)"
   ]
  },
  {
   "cell_type": "markdown",
   "metadata": {},
   "source": [
    "ここからモデルを定義して学習を行う．富谷さんの書籍ではtensorflowを用いているが，ここからはpytorchで実装を行う"
   ]
  },
  {
   "cell_type": "code",
   "execution_count": 5,
   "metadata": {},
   "outputs": [],
   "source": [
    "# tensor型に変換\n",
    "train_data_tensor = torch.tensor(train_data, dtype=torch.float32)\n",
    "train_labels_tensor = torch.tensor(train_labels, dtype=torch.float32)\n",
    "train_betas_tensor = torch.tensor(train_betas, dtype=torch.float32)\n",
    "\n",
    "val_data_tensor = torch.tensor(val_data, dtype=torch.float32)\n",
    "val_labels_tensor = torch.tensor(val_labels, dtype=torch.float32)\n",
    "val_betas_tensor = torch.tensor(val_betas, dtype=torch.float32)"
   ]
  },
  {
   "cell_type": "code",
   "execution_count": 6,
   "metadata": {},
   "outputs": [],
   "source": [
    "# データセットの作成\n",
    "train_dataset = TensorDataset(train_data_tensor, train_labels_tensor, train_betas_tensor)\n",
    "val_dataset = TensorDataset(val_data_tensor, val_labels_tensor, val_betas_tensor)"
   ]
  },
  {
   "cell_type": "code",
   "execution_count": 7,
   "metadata": {},
   "outputs": [
    {
     "data": {
      "text/plain": [
       "(torch.Size([32, 32, 32]), torch.Size([32, 2]), torch.Size([32]))"
      ]
     },
     "execution_count": 7,
     "metadata": {},
     "output_type": "execute_result"
    }
   ],
   "source": [
    "# DataLoaderの設定（バッチサイズ32）\n",
    "train_loader = DataLoader(train_dataset, batch_size=32, shuffle=True)\n",
    "val_loader = DataLoader(val_dataset, batch_size=32)\n",
    "# サイズを確認\n",
    "train_data, train_label, train_beta = next(iter(train_loader))\n",
    "train_data.shape, train_label.shape, train_beta.shape"
   ]
  },
  {
   "cell_type": "code",
   "execution_count": 8,
   "metadata": {},
   "outputs": [],
   "source": [
    "# モデルを定義\n",
    "class FCNN(nn.Module):\n",
    "    def __init__(self, input_size, hidden_size, output_size):\n",
    "        super(FCNN, self).__init__()\n",
    "        self.flatten = nn.Flatten()\n",
    "        self.fc1 = nn.Linear(input_size, hidden_size)\n",
    "        self.fc2 = nn.Linear(hidden_size, output_size)\n",
    "        \n",
    "    def forward(self, x):\n",
    "        x = self.flatten(x)\n",
    "        x = torch.relu(self.fc1(x))\n",
    "        x = torch.sigmoid(self.fc2(x))\n",
    "        return x"
   ]
  },
  {
   "cell_type": "code",
   "execution_count": 9,
   "metadata": {},
   "outputs": [
    {
     "name": "stdout",
     "output_type": "stream",
     "text": [
      "FCNN(\n",
      "  (flatten): Flatten(start_dim=1, end_dim=-1)\n",
      "  (fc1): Linear(in_features=1024, out_features=100, bias=True)\n",
      "  (fc2): Linear(in_features=100, out_features=2, bias=True)\n",
      ")\n"
     ]
    }
   ],
   "source": [
    "# モデルのインスタンス化\n",
    "input_size = 32*32\n",
    "hidden_size = 100\n",
    "output_size = 2\n",
    "model = FCNN(input_size, hidden_size, output_size)\n",
    "# モデルの概要表示\n",
    "print(model)"
   ]
  },
  {
   "cell_type": "code",
   "execution_count": 10,
   "metadata": {},
   "outputs": [],
   "source": [
    "# 損失関数と最適化手法を定義\n",
    "criterion = nn.BCELoss()   # バイナリクロスエントロピー誤差\n",
    "optimizer = optim.Adam(model.parameters(), lr=0.001)     # Adam"
   ]
  },
  {
   "cell_type": "code",
   "execution_count": 11,
   "metadata": {},
   "outputs": [
    {
     "name": "stdout",
     "output_type": "stream",
     "text": [
      "epoch: 0, loss: 0.33136589259936894, acc: 0.8405172228813171, val loss: 0.24722479977484407, val acc: 0.9536637663841248\n",
      "epoch: 1, loss: 0.1357986824265842, acc: 0.9773706793785095, val loss: 0.15788699554857508, val acc: 0.9730603694915771\n",
      "epoch: 2, loss: 0.04051047711279886, acc: 1.0, val loss: 0.11904034231677009, val acc: 0.9795258641242981\n",
      "epoch: 3, loss: 0.017653716374830954, acc: 1.0, val loss: 0.09597727448623307, val acc: 0.9838362336158752\n",
      "epoch: 4, loss: 0.008668038480240723, acc: 1.0, val loss: 0.08205399370816505, val acc: 0.9892241358757019\n",
      "epoch: 5, loss: 0.005710900568499647, acc: 1.0, val loss: 0.07511510044147646, val acc: 0.9892241358757019\n",
      "epoch: 6, loss: 0.003921053374330674, acc: 1.0, val loss: 0.06981164014272007, val acc: 0.9892241358757019\n",
      "epoch: 7, loss: 0.0029626092632654413, acc: 1.0, val loss: 0.06673654073855342, val acc: 0.9892241358757019\n",
      "epoch: 8, loss: 0.0023875340763158327, acc: 1.0, val loss: 0.06361159499020091, val acc: 0.9903017282485962\n",
      "epoch: 9, loss: 0.0019403832547109701, acc: 1.0, val loss: 0.0612993535629859, val acc: 0.9903017282485962\n"
     ]
    }
   ],
   "source": [
    "# 学習の実行\n",
    "num_epochs = 10\n",
    "train_losses = []\n",
    "train_accs = []\n",
    "val_losses = []\n",
    "val_accs = []\n",
    "for epoch in range(num_epochs):\n",
    "    # train loop\n",
    "    running_loss = 0.0\n",
    "    running_acc = 0.0\n",
    "    for inputs, targets, beta in train_loader:\n",
    "        optimizer.zero_grad()\n",
    "        output = model(inputs)\n",
    "        loss = criterion(output, targets)\n",
    "        loss.backward()\n",
    "        running_loss += loss.item()\n",
    "        pred = torch.argmax(output, dim=1)      \n",
    "        targets = torch.argmax(targets, dim=1)  \n",
    "        running_acc += torch.mean(pred.eq(targets).float().cpu()) \n",
    "        optimizer.step()\n",
    "    running_loss /= len(train_loader)   \n",
    "    running_acc /= len(train_loader)    \n",
    "    train_losses.append(running_loss)\n",
    "    train_accs.append(running_acc)\n",
    "\n",
    "    #   val loop\n",
    "    val_running_loss = 0.0\n",
    "    val_running_acc = 0.0\n",
    "    for val_inputs, val_targets, val_beta in val_loader:\n",
    "        val_output = model(val_inputs)\n",
    "        val_loss = criterion(val_output, val_targets)\n",
    "        val_running_loss += val_loss.item()\n",
    "        val_pred = torch.argmax(val_output, dim=1)      \n",
    "        val_targets = torch.argmax(val_targets, dim=1)  \n",
    "        val_running_acc += torch.mean(val_pred.eq(val_targets).float().cpu()) \n",
    "    val_running_loss /= len(val_loader)   \n",
    "    val_running_acc /= len(val_loader)    \n",
    "    val_losses.append(val_running_loss)\n",
    "    val_accs.append(val_running_acc)\n",
    "        \n",
    "    print(\"epoch: {}, loss: {}, acc: {}, val loss: {}, val acc: {}\".format(epoch, running_loss, running_acc, val_running_loss, val_running_acc))"
   ]
  },
  {
   "cell_type": "code",
   "execution_count": 12,
   "metadata": {},
   "outputs": [
    {
     "name": "stdout",
     "output_type": "stream",
     "text": [
      "No. 0\n",
      "tensor([[1.3543e-04, 9.9988e-01]], grad_fn=<SigmoidBackward0>)\n",
      "tensor([0., 1.])\n",
      "tensor(0.5400)\n",
      "No. 200\n",
      "tensor([[1.5564e-04, 9.9986e-01]], grad_fn=<SigmoidBackward0>)\n",
      "tensor([0., 1.])\n",
      "tensor(0.4200)\n",
      "No. 400\n",
      "tensor([[2.9982e-04, 9.9970e-01]], grad_fn=<SigmoidBackward0>)\n",
      "tensor([0., 1.])\n",
      "tensor(0.3100)\n",
      "No. 600\n",
      "tensor([[0.9804, 0.0244]], grad_fn=<SigmoidBackward0>)\n",
      "tensor([1., 0.])\n",
      "tensor(0.1800)\n",
      "No. 800\n",
      "tensor([[0.6961, 0.3056]], grad_fn=<SigmoidBackward0>)\n",
      "tensor([1., 0.])\n",
      "tensor(0.0600)\n"
     ]
    }
   ],
   "source": [
    "for i in range(0, 900, 200):\n",
    "    A = val_data_tensor[i].unsqueeze(0)\n",
    "    B = val_labels_tensor[i]\n",
    "    C = val_betas_tensor[i]\n",
    "\n",
    "    print(\"No.\", i)\n",
    "    print(model(A))\n",
    "    print(B)\n",
    "    print(C)"
   ]
  },
  {
   "cell_type": "code",
   "execution_count": 14,
   "metadata": {},
   "outputs": [
    {
     "name": "stdout",
     "output_type": "stream",
     "text": [
      "0.54 0.00013421393 0.99987596\n",
      "0.51 0.00013421393 0.99987596\n",
      "0.48 0.00013821844 0.9998737\n",
      "0.45 0.00014208122 0.9998711\n",
      "0.42 0.00014873211 0.9998635\n",
      "0.39 0.00016639476 0.99984795\n",
      "0.36 0.00019778758 0.9998215\n",
      "0.33 0.00028144292 0.999742\n",
      "0.31 0.0004020989 0.9996418\n",
      "0.29 0.0017342455 0.99830735\n",
      "0.25 0.9387203 0.052894946\n",
      "0.23 0.9239909 0.066740036\n",
      "0.21 0.85845345 0.14756939\n",
      "0.18 0.9070109 0.09447526\n",
      "0.15 0.9301499 0.07088103\n",
      "0.12 0.8896108 0.108678184\n",
      "0.09 0.86487573 0.12724507\n",
      "0.06 0.86264366 0.12546724\n",
      "0.03 0.8859683 0.10580906\n",
      "0.0 0.88391334 0.10423911\n"
     ]
    },
    {
     "data": {
      "image/png": "[encoded data removed]",
      "text/plain": [
       "<Figure size 640x480 with 1 Axes>"
      ]
     },
     "metadata": {},
     "output_type": "display_data"
    }
   ],
   "source": [
    "# 各逆温度での予測(確率)を可視化\n",
    "xs = []\n",
    "y1s = []\n",
    "y2s = []\n",
    "Ndatamax = 900\n",
    "Nsameclass = 45\n",
    "for ii in range(0, Ndatamax, Nsameclass):\n",
    "    val_data = val_data_tensor.unsqueeze(1)\n",
    "    res = model(val_data[ii : ii+Nsameclass])\n",
    "    x = val_betas[ii]\n",
    "    y1 = np.mean(res.detach().numpy().T[0])\n",
    "    y2 = np.mean(res.detach().numpy().T[1])    \n",
    "    xs.append(x)\n",
    "    y1s.append(y1)\n",
    "    y2s.append(y2)\n",
    "    print(x, y1, y2)\n",
    "plt.axvline(x=0.2747, ymin=0, ymax=1, ls=\"dashed\", color=\"gray\", label=\"Critical\")\n",
    "plt.plot(xs, y1s, label=\"class:high\", marker=\"o\", color=\"red\")\n",
    "plt.plot(xs, y2s, label=\"class:low\", marker=\"o\", color=\"blue\")\n",
    "plt.legend()\n",
    "plt.xlabel(r\"$\\beta = 1/T$\")\n",
    "plt.ylabel(r\"Prob\")\n",
    "# 図をファイルとして保存\n",
    "plt.savefig('plot_square_FCNN_tri_data.png')  # ファイル名を適切に指定\n",
    "plt.show()"
   ]
  },
  {
   "cell_type": "code",
   "execution_count": null,
   "metadata": {},
   "outputs": [],
   "source": []
  }
 ],
 "metadata": {
  "kernelspec": {
   "display_name": "base",
   "language": "python",
   "name": "python3"
  },
  "language_info": {
   "codemirror_mode": {
    "name": "ipython",
    "version": 3
   },
   "file_extension": ".py",
   "mimetype": "text/x-python",
   "name": "python",
   "nbconvert_exporter": "python",
   "pygments_lexer": "ipython3",
   "version": "3.10.9"
  }
 },
 "nbformat": 4,
 "nbformat_minor": 2
}
