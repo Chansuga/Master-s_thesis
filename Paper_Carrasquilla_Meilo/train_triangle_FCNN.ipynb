{
 "cells": [
  {
   "cell_type": "code",
   "execution_count": 1,
   "metadata": {},
   "outputs": [],
   "source": [
    "import numpy as np\n",
    "import matplotlib.pyplot as plt\n",
    "import torch\n",
    "import torch.nn as nn\n",
    "import torch.optim as optim\n",
    "from torch.utils.data import DataLoader, TensorDataset"
   ]
  },
  {
   "cell_type": "code",
   "execution_count": 2,
   "metadata": {},
   "outputs": [],
   "source": [
    "N_dis = 10**2   # 捨てる個数\n",
    "N_trj = 10**3   # トータルのアップデート回数\n",
    "N_sav = 10      # アップデート10回ごとに配位を保存\n",
    "prm_list = [\n",
    "    # beta, # of_trj, # of_discard, file_name, save_every\n",
    "    # [1.00, N_trj, N_dis, \"conf_tri/L32b025_\", N_sav],  \n",
    "    [0.54, N_trj, N_dis, \"conf_tri/L32b090_\", N_sav],  \n",
    "    [0.51, N_trj, N_dis, \"conf_tri/L32b090_\", N_sav],\n",
    "    [0.48, N_trj, N_dis, \"conf_tri/L32b085_\", N_sav],\n",
    "    [0.45, N_trj, N_dis, \"conf_tri/L32b080_\", N_sav],\n",
    "    [0.42, N_trj, N_dis, \"conf_tri/L32b075_\", N_sav],\n",
    "    [0.39, N_trj, N_dis, \"conf_tri/L32b070_\", N_sav],\n",
    "    [0.36, N_trj, N_dis, \"conf_tri/L32b065_\", N_sav],\n",
    "    [0.33, N_trj, N_dis, \"conf_tri/L32b060_\", N_sav],\n",
    "    [0.31, N_trj, N_dis, \"conf_tri/L32b055_\", N_sav],\n",
    "    [0.29, N_trj, N_dis, \"conf_tri/L32b050_\", N_sav],\n",
    "    [0.25, N_trj, N_dis, \"conf_tri/L32b047_\", N_sav],\n",
    "    [0.23, N_trj, N_dis, \"conf_tri/L32b040_\", N_sav],\n",
    "    [0.21, N_trj, N_dis, \"conf_tri/L32b035_\", N_sav],\n",
    "    [0.18, N_trj, N_dis, \"conf_tri/L32b030_\", N_sav],\n",
    "    [0.15, N_trj, N_dis, \"conf_tri/L32b025_\", N_sav],\n",
    "    [0.12, N_trj, N_dis, \"conf_tri/L32b020_\", N_sav],\n",
    "    [0.09, N_trj, N_dis, \"conf_tri/L32b015_\", N_sav],\n",
    "    [0.06, N_trj, N_dis, \"conf_tri/L32b010_\", N_sav],\n",
    "    [0.03, N_trj, N_dis, \"conf_tri/L32b005_\", N_sav],\n",
    "    [0.00, N_trj, N_dis, \"conf_tri/L32b000_\", N_sav],\n",
    "    ]"
   ]
  },
  {
   "cell_type": "code",
   "execution_count": 3,
   "metadata": {},
   "outputs": [],
   "source": [
    "nconf = 90     # 各ベータでの配位の生成\n",
    "betacr = 0.2747\n",
    "\n",
    "data = []\n",
    "labels = []\n",
    "betas = []\n",
    "nprm = len(prm_list)\n",
    "for ibeta in range(nprm):\n",
    "    beta = prm_list[ibeta][0]\n",
    "    fname = prm_list[ibeta][3]\n",
    "    for itrj in range(nconf):\n",
    "        npsc = np.load(f\"{fname}{itrj}.npy\")\n",
    "        data.append(npsc)\n",
    "        if beta > betacr:\n",
    "            labels.append([0, 1])   # 低温相の one-hot ベクトル\n",
    "        else:\n",
    "            labels.append([1, 0])   # 高温相の one-hot ベクトル\n",
    "        betas.append(beta)\n",
    "data = np.array(data)\n",
    "labels = np.array(labels)\n",
    "\n",
    "train_data = data[0::2]\n",
    "train_labels = labels[0::2]\n",
    "train_betas = betas[0::2]\n",
    "\n",
    "val_data = data[1::2]\n",
    "val_labels = labels[1::2]\n",
    "val_betas = betas[1::2]"
   ]
  },
  {
   "cell_type": "code",
   "execution_count": 4,
   "metadata": {},
   "outputs": [
    {
     "name": "stdout",
     "output_type": "stream",
     "text": [
      "train_data.hape =  (900, 32, 32)\n",
      "val_data.hape =  (900, 32, 32)\n"
     ]
    }
   ],
   "source": [
    "# データのサイズを確認\n",
    "print(\"train_data.hape = \", train_data.shape)\n",
    "print(\"val_data.hape = \", val_data.shape)"
   ]
  },
  {
   "cell_type": "markdown",
   "metadata": {},
   "source": [
    "ここからモデルを定義して学習を行う．富谷さんの書籍ではtensorflowを用いているが，ここからはpytorchで実装を行う"
   ]
  },
  {
   "cell_type": "code",
   "execution_count": 5,
   "metadata": {},
   "outputs": [],
   "source": [
    "# tensor型に変換\n",
    "train_data_tensor = torch.tensor(train_data, dtype=torch.float32)\n",
    "train_labels_tensor = torch.tensor(train_labels, dtype=torch.float32)\n",
    "train_betas_tensor = torch.tensor(train_betas, dtype=torch.float32)\n",
    "\n",
    "val_data_tensor = torch.tensor(val_data, dtype=torch.float32)\n",
    "val_labels_tensor = torch.tensor(val_labels, dtype=torch.float32)\n",
    "val_betas_tensor = torch.tensor(val_betas, dtype=torch.float32)"
   ]
  },
  {
   "cell_type": "code",
   "execution_count": 6,
   "metadata": {},
   "outputs": [],
   "source": [
    "# データセットの作成\n",
    "train_dataset = TensorDataset(train_data_tensor, train_labels_tensor, train_betas_tensor)\n",
    "val_dataset = TensorDataset(val_data_tensor, val_labels_tensor, val_betas_tensor)"
   ]
  },
  {
   "cell_type": "code",
   "execution_count": 7,
   "metadata": {},
   "outputs": [
    {
     "data": {
      "text/plain": [
       "(torch.Size([32, 32, 32]), torch.Size([32, 2]), torch.Size([32]))"
      ]
     },
     "execution_count": 7,
     "metadata": {},
     "output_type": "execute_result"
    }
   ],
   "source": [
    "# DataLoaderの設定（バッチサイズ32）\n",
    "train_loader = DataLoader(train_dataset, batch_size=32, shuffle=True)\n",
    "val_loader = DataLoader(val_dataset, batch_size=32)\n",
    "# サイズを確認\n",
    "train_data, train_label, train_beta = next(iter(train_loader))\n",
    "train_data.shape, train_label.shape, train_beta.shape"
   ]
  },
  {
   "cell_type": "code",
   "execution_count": 8,
   "metadata": {},
   "outputs": [],
   "source": [
    "# モデルを定義\n",
    "class FCNN(nn.Module):\n",
    "    def __init__(self, input_size, hidden_size, output_size):\n",
    "        super(FCNN, self).__init__()\n",
    "        self.flatten = nn.Flatten()\n",
    "        self.fc1 = nn.Linear(input_size, hidden_size)\n",
    "        self.fc2 = nn.Linear(hidden_size, output_size)\n",
    "        \n",
    "    def forward(self, x):\n",
    "        x = self.flatten(x)\n",
    "        x = torch.relu(self.fc1(x))\n",
    "        x = torch.sigmoid(self.fc2(x))\n",
    "        return x"
   ]
  },
  {
   "cell_type": "code",
   "execution_count": 9,
   "metadata": {},
   "outputs": [
    {
     "name": "stdout",
     "output_type": "stream",
     "text": [
      "FCNN(\n",
      "  (flatten): Flatten(start_dim=1, end_dim=-1)\n",
      "  (fc1): Linear(in_features=1024, out_features=100, bias=True)\n",
      "  (fc2): Linear(in_features=100, out_features=2, bias=True)\n",
      ")\n"
     ]
    }
   ],
   "source": [
    "# モデルのインスタンス化\n",
    "input_size = 32*32\n",
    "hidden_size = 100\n",
    "output_size = 2\n",
    "model = FCNN(input_size, hidden_size, output_size)\n",
    "# モデルの概要表示\n",
    "print(model)"
   ]
  },
  {
   "cell_type": "code",
   "execution_count": 10,
   "metadata": {},
   "outputs": [],
   "source": [
    "# 損失関数と最適化手法を定義\n",
    "criterion = nn.BCELoss()   # バイナリクロスエントロピー誤差\n",
    "optimizer = optim.Adam(model.parameters(), lr=0.001)     # Adam"
   ]
  },
  {
   "cell_type": "code",
   "execution_count": 11,
   "metadata": {},
   "outputs": [
    {
     "name": "stdout",
     "output_type": "stream",
     "text": [
      "epoch: 0, loss: 0.2867139711462218, acc: 0.90625, val loss: 0.20202036340046545, val acc: 0.9773706793785095\n",
      "epoch: 1, loss: 0.09133459833161585, acc: 0.9978448152542114, val loss: 0.12315512960776687, val acc: 0.9892241358757019\n",
      "epoch: 2, loss: 0.0279266564817778, acc: 1.0, val loss: 0.08981563250437893, val acc: 0.9892241358757019\n",
      "epoch: 3, loss: 0.012042853017819339, acc: 1.0, val loss: 0.07489169800075991, val acc: 0.9892241358757019\n",
      "epoch: 4, loss: 0.0066248409867543595, acc: 1.0, val loss: 0.06726253478575081, val acc: 0.9892241358757019\n",
      "epoch: 5, loss: 0.004323134335271758, acc: 1.0, val loss: 0.06126389936754753, val acc: 0.9892241358757019\n",
      "epoch: 6, loss: 0.003082664209771259, acc: 1.0, val loss: 0.057542037956440695, val acc: 0.9892241358757019\n",
      "epoch: 7, loss: 0.002358607863525635, acc: 1.0, val loss: 0.054683621135060596, val acc: 0.9892241358757019\n",
      "epoch: 8, loss: 0.0017937661905307323, acc: 1.0, val loss: 0.05235230770756908, val acc: 0.9892241358757019\n",
      "epoch: 9, loss: 0.0014905313688234009, acc: 1.0, val loss: 0.050450114076927, val acc: 0.9892241358757019\n"
     ]
    }
   ],
   "source": [
    "# 学習の実行\n",
    "num_epochs = 10\n",
    "train_losses = []\n",
    "train_accs = []\n",
    "val_losses = []\n",
    "val_accs = []\n",
    "for epoch in range(num_epochs):\n",
    "    # train loop\n",
    "    running_loss = 0.0\n",
    "    running_acc = 0.0\n",
    "    for inputs, targets, beta in train_loader:\n",
    "        optimizer.zero_grad()\n",
    "        output = model(inputs)\n",
    "        loss = criterion(output, targets)\n",
    "        loss.backward()\n",
    "        running_loss += loss.item()\n",
    "        pred = torch.argmax(output, dim=1)      \n",
    "        targets = torch.argmax(targets, dim=1)  \n",
    "        running_acc += torch.mean(pred.eq(targets).float().cpu()) \n",
    "        optimizer.step()\n",
    "    running_loss /= len(train_loader)   \n",
    "    running_acc /= len(train_loader)    \n",
    "    train_losses.append(running_loss)\n",
    "    train_accs.append(running_acc)\n",
    "\n",
    "    #   val loop\n",
    "    val_running_loss = 0.0\n",
    "    val_running_acc = 0.0\n",
    "    for val_inputs, val_targets, val_beta in val_loader:\n",
    "        val_output = model(val_inputs)\n",
    "        val_loss = criterion(val_output, val_targets)\n",
    "        val_running_loss += val_loss.item()\n",
    "        val_pred = torch.argmax(val_output, dim=1)      \n",
    "        val_targets = torch.argmax(val_targets, dim=1)  \n",
    "        val_running_acc += torch.mean(val_pred.eq(val_targets).float().cpu()) \n",
    "    val_running_loss /= len(val_loader)   \n",
    "    val_running_acc /= len(val_loader)    \n",
    "    val_losses.append(val_running_loss)\n",
    "    val_accs.append(val_running_acc)\n",
    "        \n",
    "    print(\"epoch: {}, loss: {}, acc: {}, val loss: {}, val acc: {}\".format(epoch, running_loss, running_acc, val_running_loss, val_running_acc))"
   ]
  },
  {
   "cell_type": "code",
   "execution_count": 12,
   "metadata": {},
   "outputs": [
    {
     "name": "stdout",
     "output_type": "stream",
     "text": [
      "No. 0\n",
      "tensor([[7.3910e-05, 9.9993e-01]], grad_fn=<SigmoidBackward0>)\n",
      "tensor([0., 1.])\n",
      "tensor(0.5400)\n",
      "No. 200\n",
      "tensor([[8.7917e-05, 9.9992e-01]], grad_fn=<SigmoidBackward0>)\n",
      "tensor([0., 1.])\n",
      "tensor(0.4200)\n",
      "No. 400\n",
      "tensor([[1.9395e-04, 9.9981e-01]], grad_fn=<SigmoidBackward0>)\n",
      "tensor([0., 1.])\n",
      "tensor(0.3100)\n",
      "No. 600\n",
      "tensor([[0.9646, 0.0235]], grad_fn=<SigmoidBackward0>)\n",
      "tensor([1., 0.])\n",
      "tensor(0.1800)\n",
      "No. 800\n",
      "tensor([[0.7771, 0.1724]], grad_fn=<SigmoidBackward0>)\n",
      "tensor([1., 0.])\n",
      "tensor(0.0600)\n"
     ]
    }
   ],
   "source": [
    "for i in range(0, 900, 200):\n",
    "    A = val_data_tensor[i].unsqueeze(0)\n",
    "    B = val_labels_tensor[i]\n",
    "    C = val_betas_tensor[i]\n",
    "\n",
    "    print(\"No.\", i)\n",
    "    print(model(A))\n",
    "    print(B)\n",
    "    print(C)"
   ]
  },
  {
   "cell_type": "code",
   "execution_count": 13,
   "metadata": {},
   "outputs": [
    {
     "name": "stdout",
     "output_type": "stream",
     "text": [
      "0.54 7.547136e-05 0.9999286\n",
      "0.51 7.547136e-05 0.9999286\n",
      "0.48 7.737463e-05 0.99992675\n",
      "0.45 7.882292e-05 0.99992555\n",
      "0.42 8.519245e-05 0.99991965\n",
      "0.39 9.630713e-05 0.99990886\n",
      "0.36 0.00012191083 0.9998886\n",
      "0.33 0.00017530829 0.9998343\n",
      "0.31 0.0002576188 0.9997484\n",
      "0.29 0.0012318286 0.9988618\n",
      "0.25 0.95172495 0.0476234\n",
      "0.23 0.92865425 0.060985755\n",
      "0.21 0.88923746 0.10929648\n",
      "0.18 0.9162034 0.07650466\n",
      "0.15 0.94255227 0.05807601\n",
      "0.12 0.89204025 0.09943897\n",
      "0.09 0.90320706 0.09332044\n",
      "0.06 0.877076 0.11552553\n",
      "0.03 0.9094564 0.08824074\n",
      "0.0 0.90991193 0.08758738\n"
     ]
    },
    {
     "data": {
      "image/png": "[encoded data removed]",
      "text/plain": [
       "<Figure size 640x480 with 1 Axes>"
      ]
     },
     "metadata": {},
     "output_type": "display_data"
    }
   ],
   "source": [
    "# 各逆温度での予測(確率)を可視化\n",
    "xs = []\n",
    "y1s = []\n",
    "y2s = []\n",
    "Ndatamax = 900\n",
    "Nsameclass = 45\n",
    "for ii in range(0, Ndatamax, Nsameclass):\n",
    "    val_data = val_data_tensor.unsqueeze(1)\n",
    "    res = model(val_data[ii : ii+Nsameclass])\n",
    "    x = val_betas[ii]\n",
    "    y1 = np.mean(res.detach().numpy().T[0])\n",
    "    y2 = np.mean(res.detach().numpy().T[1])    \n",
    "    xs.append(x)\n",
    "    y1s.append(y1)\n",
    "    y2s.append(y2)\n",
    "    print(x, y1, y2)\n",
    "plt.axvline(x=0.2747, ymin=0, ymax=1, ls=\"dashed\", color=\"gray\", label=\"Critical\")\n",
    "plt.plot(xs, y1s, label=\"class:high\", marker=\"o\", color=\"red\")\n",
    "plt.plot(xs, y2s, label=\"class:low\", marker=\"o\", color=\"blue\")\n",
    "plt.legend()\n",
    "plt.xlabel(r\"$\\beta = 1/T$\")\n",
    "plt.ylabel(r\"Prob\")\n",
    "# 図をファイルとして保存\n",
    "plt.savefig('plot_triangle_FCNN.png')  # ファイル名を適切に指定\n",
    "plt.show()"
   ]
  },
  {
   "cell_type": "code",
   "execution_count": null,
   "metadata": {},
   "outputs": [],
   "source": []
  }
 ],
 "metadata": {
  "kernelspec": {
   "display_name": "base",
   "language": "python",
   "name": "python3"
  },
  "language_info": {
   "codemirror_mode": {
    "name": "ipython",
    "version": 3
   },
   "file_extension": ".py",
   "mimetype": "text/x-python",
   "name": "python",
   "nbconvert_exporter": "python",
   "pygments_lexer": "ipython3",
   "version": "3.10.9"
  }
 },
 "nbformat": 4,
 "nbformat_minor": 2
}
