{
 "cells": [
  {
   "cell_type": "code",
   "execution_count": 1,
   "metadata": {},
   "outputs": [],
   "source": [
    "import numpy as np\n",
    "import matplotlib.pyplot as plt\n",
    "import torch\n",
    "import torch.nn as nn\n",
    "import torch.optim as optim\n",
    "from torch.utils.data import DataLoader, TensorDataset"
   ]
  },
  {
   "cell_type": "code",
   "execution_count": 2,
   "metadata": {},
   "outputs": [],
   "source": [
    "N_dis = 10**2   # 捨てる個数\n",
    "N_trj = 10**3   # トータルのアップデート回数\n",
    "N_sav = 10      # アップデート10回ごとに配位を保存\n",
    "prm_list = [\n",
    "    # beta, # of_trj, # of_discard, file_name, save_every\n",
    "    # [1.00, N_trj, N_dis, \"conf_tri/L32b025_\", N_sav],  \n",
    "    [0.54, N_trj, N_dis, \"conf_tri/L32b090_\", N_sav],  \n",
    "    [0.51, N_trj, N_dis, \"conf_tri/L32b090_\", N_sav],\n",
    "    [0.48, N_trj, N_dis, \"conf_tri/L32b085_\", N_sav],\n",
    "    [0.45, N_trj, N_dis, \"conf_tri/L32b080_\", N_sav],\n",
    "    [0.42, N_trj, N_dis, \"conf_tri/L32b075_\", N_sav],\n",
    "    [0.39, N_trj, N_dis, \"conf_tri/L32b070_\", N_sav],\n",
    "    [0.36, N_trj, N_dis, \"conf_tri/L32b065_\", N_sav],\n",
    "    [0.33, N_trj, N_dis, \"conf_tri/L32b060_\", N_sav],\n",
    "    [0.31, N_trj, N_dis, \"conf_tri/L32b055_\", N_sav],\n",
    "    [0.29, N_trj, N_dis, \"conf_tri/L32b050_\", N_sav],\n",
    "    [0.25, N_trj, N_dis, \"conf_tri/L32b047_\", N_sav],\n",
    "    [0.23, N_trj, N_dis, \"conf_tri/L32b040_\", N_sav],\n",
    "    [0.21, N_trj, N_dis, \"conf_tri/L32b035_\", N_sav],\n",
    "    [0.18, N_trj, N_dis, \"conf_tri/L32b030_\", N_sav],\n",
    "    [0.15, N_trj, N_dis, \"conf_tri/L32b025_\", N_sav],\n",
    "    [0.12, N_trj, N_dis, \"conf_tri/L32b020_\", N_sav],\n",
    "    [0.09, N_trj, N_dis, \"conf_tri/L32b015_\", N_sav],\n",
    "    [0.06, N_trj, N_dis, \"conf_tri/L32b010_\", N_sav],\n",
    "    [0.03, N_trj, N_dis, \"conf_tri/L32b005_\", N_sav],\n",
    "    [0.00, N_trj, N_dis, \"conf_tri/L32b000_\", N_sav],\n",
    "    ]"
   ]
  },
  {
   "cell_type": "code",
   "execution_count": 3,
   "metadata": {},
   "outputs": [],
   "source": [
    "nconf = 90     # 各ベータでの配位の生成\n",
    "betacr = 0.2747\n",
    "\n",
    "data = []\n",
    "labels = []\n",
    "betas = []\n",
    "nprm = len(prm_list)\n",
    "for ibeta in range(nprm):\n",
    "    beta = prm_list[ibeta][0]\n",
    "    fname = prm_list[ibeta][3]\n",
    "    for itrj in range(nconf):\n",
    "        npsc = np.load(f\"{fname}{itrj}.npy\")\n",
    "        data.append(npsc)\n",
    "        if beta > betacr:\n",
    "            labels.append([0, 1])   # 低温相の one-hot ベクトル\n",
    "        else:\n",
    "            labels.append([1, 0])   # 高温相の one-hot ベクトル\n",
    "        betas.append(beta)\n",
    "data = np.array(data)\n",
    "labels = np.array(labels)\n",
    "\n",
    "train_data = data[0::2]\n",
    "train_labels = labels[0::2]\n",
    "train_betas = betas[0::2]\n",
    "\n",
    "val_data = data[1::2]\n",
    "val_labels = labels[1::2]\n",
    "val_betas = betas[1::2]"
   ]
  },
  {
   "cell_type": "code",
   "execution_count": 4,
   "metadata": {},
   "outputs": [
    {
     "name": "stdout",
     "output_type": "stream",
     "text": [
      "train_data.hape =  (900, 32, 32)\n",
      "val_data.hape =  (900, 32, 32)\n"
     ]
    }
   ],
   "source": [
    "# データのサイズを確認\n",
    "print(\"train_data.hape = \", train_data.shape)\n",
    "print(\"val_data.hape = \", val_data.shape)"
   ]
  },
  {
   "cell_type": "markdown",
   "metadata": {},
   "source": [
    "ここからモデルを定義して学習を行う．富谷さんの書籍ではtensorflowを用いているが，ここからはpytorchで実装を行う"
   ]
  },
  {
   "cell_type": "code",
   "execution_count": 5,
   "metadata": {},
   "outputs": [],
   "source": [
    "# tensor型に変換\n",
    "train_data_tensor = torch.tensor(train_data, dtype=torch.float32).unsqueeze(1)\n",
    "train_labels_tensor = torch.tensor(train_labels, dtype=torch.float32)\n",
    "train_betas_tensor = torch.tensor(train_betas, dtype=torch.float32)\n",
    "\n",
    "val_data_tensor = torch.tensor(val_data, dtype=torch.float32).unsqueeze(1)\n",
    "val_labels_tensor = torch.tensor(val_labels, dtype=torch.float32)\n",
    "val_betas_tensor = torch.tensor(val_betas, dtype=torch.float32)"
   ]
  },
  {
   "cell_type": "code",
   "execution_count": 6,
   "metadata": {},
   "outputs": [],
   "source": [
    "# データセットの作成\n",
    "train_dataset = TensorDataset(train_data_tensor, train_labels_tensor, train_betas_tensor)\n",
    "val_dataset = TensorDataset(val_data_tensor, val_labels_tensor, val_betas_tensor)"
   ]
  },
  {
   "cell_type": "code",
   "execution_count": 7,
   "metadata": {},
   "outputs": [
    {
     "data": {
      "text/plain": [
       "(torch.Size([32, 1, 32, 32]), torch.Size([32, 2]), torch.Size([32]))"
      ]
     },
     "execution_count": 7,
     "metadata": {},
     "output_type": "execute_result"
    }
   ],
   "source": [
    "# DataLoaderの設定（バッチサイズ32）\n",
    "train_loader = DataLoader(train_dataset, batch_size=32, shuffle=True)\n",
    "val_loader = DataLoader(val_dataset, batch_size=32)\n",
    "# サイズを確認\n",
    "train_data, train_label, train_beta = next(iter(train_loader))\n",
    "train_data.shape, train_label.shape, train_beta.shape"
   ]
  },
  {
   "cell_type": "code",
   "execution_count": 8,
   "metadata": {},
   "outputs": [],
   "source": [
    "# モデルを定義\n",
    "class CNN(nn.Module):\n",
    "    def __init__(self, hidden_size, output_size, in_channels, out_channels):\n",
    "        super(CNN, self).__init__()\n",
    "        self.conv = nn.Conv2d(in_channels, out_channels, kernel_size=4, stride=4, bias=False)\n",
    "        self.flatten = nn.Flatten()\n",
    "        self.fc1 = nn.Linear(out_channels*8*8, hidden_size)\n",
    "        self.fc2 = nn.Linear(hidden_size, output_size)\n",
    "        \n",
    "    def forward(self, x):\n",
    "        x = self.conv(x)\n",
    "        x = torch.relu(x)\n",
    "        x = self.flatten(x)\n",
    "        x = torch.relu(self.fc1(x))\n",
    "        x = torch.sigmoid(self.fc2(x))\n",
    "        return x"
   ]
  },
  {
   "cell_type": "code",
   "execution_count": 9,
   "metadata": {},
   "outputs": [
    {
     "name": "stdout",
     "output_type": "stream",
     "text": [
      "CNN(\n",
      "  (conv): Conv2d(1, 1, kernel_size=(4, 4), stride=(4, 4), bias=False)\n",
      "  (flatten): Flatten(start_dim=1, end_dim=-1)\n",
      "  (fc1): Linear(in_features=64, out_features=100, bias=True)\n",
      "  (fc2): Linear(in_features=100, out_features=2, bias=True)\n",
      ")\n"
     ]
    }
   ],
   "source": [
    "# モデルのインスタンス化\n",
    "in_channels  = 1\n",
    "out_channels = 1\n",
    "hidden_size = 100\n",
    "output_size = 2\n",
    "model = CNN(hidden_size, output_size, in_channels, out_channels)\n",
    "# モデルの概要表示\n",
    "print(model)"
   ]
  },
  {
   "cell_type": "code",
   "execution_count": 10,
   "metadata": {},
   "outputs": [],
   "source": [
    "# 損失関数と最適化手法を定義\n",
    "criterion = nn.BCELoss()   # バイナリクロスエントロピー誤差\n",
    "optimizer = optim.Adam(model.parameters(), lr=0.001)     # Adam"
   ]
  },
  {
   "cell_type": "code",
   "execution_count": 11,
   "metadata": {},
   "outputs": [
    {
     "name": "stdout",
     "output_type": "stream",
     "text": [
      "epoch: 0, loss: 0.5894376430018194, acc: 0.5269396305084229, val loss: 0.45921444584583415, val acc: 0.8448275923728943\n",
      "epoch: 1, loss: 0.3882072012999962, acc: 0.9159482717514038, val loss: 0.31893364256569023, val acc: 0.954741358757019\n",
      "epoch: 2, loss: 0.29919393566148034, acc: 0.9741379022598267, val loss: 0.25869060542177535, val acc: 0.9795258641242981\n",
      "epoch: 3, loss: 0.23742381046558247, acc: 0.9870689511299133, val loss: 0.20490152318961918, val acc: 0.9903017282485962\n",
      "epoch: 4, loss: 0.18728015340607743, acc: 0.9946120977401733, val loss: 0.15663993144648727, val acc: 0.9946120977401733\n",
      "epoch: 5, loss: 0.13993819520391268, acc: 0.9967672228813171, val loss: 0.11631696909296743, val acc: 0.9978448152542114\n",
      "epoch: 6, loss: 0.1023414070750105, acc: 0.9989224076271057, val loss: 0.08514453091754995, val acc: 0.9989224076271057\n",
      "epoch: 7, loss: 0.07234955816690264, acc: 1.0, val loss: 0.06353919184565994, val acc: 0.9989224076271057\n",
      "epoch: 8, loss: 0.053880338717637394, acc: 1.0, val loss: 0.048118206672370434, val acc: 0.9989224076271057\n",
      "epoch: 9, loss: 0.04131889465297091, acc: 1.0, val loss: 0.037517967995191956, val acc: 0.9989224076271057\n"
     ]
    }
   ],
   "source": [
    "# 学習の実行\n",
    "num_epochs = 10\n",
    "train_losses = []\n",
    "train_accs = []\n",
    "val_losses = []\n",
    "val_accs = []\n",
    "for epoch in range(num_epochs):\n",
    "    # train loop\n",
    "    running_loss = 0.0\n",
    "    running_acc = 0.0\n",
    "    for inputs, targets, beta in train_loader:\n",
    "        optimizer.zero_grad()\n",
    "        output = model(inputs)\n",
    "        loss = criterion(output, targets)\n",
    "        loss.backward()\n",
    "        running_loss += loss.item()\n",
    "        pred = torch.argmax(output, dim=1)      \n",
    "        targets = torch.argmax(targets, dim=1)  \n",
    "        running_acc += torch.mean(pred.eq(targets).float().cpu()) \n",
    "        optimizer.step()\n",
    "    running_loss /= len(train_loader)   \n",
    "    running_acc /= len(train_loader)    \n",
    "    train_losses.append(running_loss)\n",
    "    train_accs.append(running_acc)\n",
    "\n",
    "    #   val loop\n",
    "    val_running_loss = 0.0\n",
    "    val_running_acc = 0.0\n",
    "    for val_inputs, val_targets, val_beta in val_loader:\n",
    "        val_output = model(val_inputs)\n",
    "        val_loss = criterion(val_output, val_targets)\n",
    "        val_running_loss += val_loss.item()\n",
    "        val_pred = torch.argmax(val_output, dim=1)      \n",
    "        val_targets = torch.argmax(val_targets, dim=1)  \n",
    "        val_running_acc += torch.mean(val_pred.eq(val_targets).float().cpu()) \n",
    "    val_running_loss /= len(val_loader)   \n",
    "    val_running_acc /= len(val_loader)    \n",
    "    val_losses.append(val_running_loss)\n",
    "    val_accs.append(val_running_acc)\n",
    "        \n",
    "    print(\"epoch: {}, loss: {}, acc: {}, val loss: {}, val acc: {}\".format(epoch, running_loss, running_acc, val_running_loss, val_running_acc))"
   ]
  },
  {
   "cell_type": "code",
   "execution_count": 12,
   "metadata": {},
   "outputs": [
    {
     "name": "stdout",
     "output_type": "stream",
     "text": [
      "0.54 0.061299767 0.93010366\n",
      "0.51 0.061299767 0.93010366\n",
      "0.48 0.061299767 0.93010366\n",
      "0.45 0.06130256 0.9301009\n",
      "0.42 0.061299767 0.93010366\n",
      "0.39 0.061299767 0.93010366\n",
      "0.36 0.06151883 0.92984813\n",
      "0.33 0.063003145 0.92819875\n",
      "0.31 0.06522505 0.92620164\n",
      "0.29 0.112665646 0.8753774\n",
      "0.25 0.9992963 0.00074328034\n",
      "0.23 0.99982053 0.00018679527\n",
      "0.21 0.99868315 0.0013583195\n",
      "0.18 0.99884 0.0012424618\n",
      "0.15 0.9976857 0.0022312468\n",
      "0.12 0.99699205 0.0029872477\n",
      "0.09 0.9980661 0.0019080308\n",
      "0.06 0.9971907 0.0027850629\n",
      "0.03 0.996423 0.0035720854\n",
      "0.0 0.9968376 0.0033097155\n"
     ]
    },
    {
     "data": {
      "image/png": "[encoded data removed]",
      "text/plain": [
       "<Figure size 640x480 with 1 Axes>"
      ]
     },
     "metadata": {},
     "output_type": "display_data"
    }
   ],
   "source": [
    "# 各逆温度での予測(確率)を可視化\n",
    "xs = []\n",
    "y1s = []\n",
    "y2s = []\n",
    "Ndatamax = 900\n",
    "Nsameclass = 45\n",
    "for ii in range(0, Ndatamax, Nsameclass):\n",
    "    val_data = val_data_tensor\n",
    "    res = model(val_data[ii : ii+Nsameclass])\n",
    "    x = val_betas[ii]\n",
    "    y1 = np.mean(res.detach().numpy().T[0])\n",
    "    y2 = np.mean(res.detach().numpy().T[1])    \n",
    "    xs.append(x)\n",
    "    y1s.append(y1)\n",
    "    y2s.append(y2)\n",
    "    print(x, y1, y2)\n",
    "plt.axvline(x=0.2747, ymin=0, ymax=1, ls=\"dashed\", color=\"gray\", label=\"Critical\")\n",
    "plt.plot(xs, y1s, label=\"class:high\", marker=\"o\", color=\"red\")\n",
    "plt.plot(xs, y2s, label=\"class:low\", marker=\"o\", color=\"blue\")\n",
    "plt.legend()\n",
    "plt.xlabel(r\"$\\beta = 1/T$\")\n",
    "plt.ylabel(r\"Prob\")\n",
    "# 図をファイルとして保存\n",
    "plt.savefig('plot_triangle_CNN.png')  # ファイル名を適切に指定\n",
    "plt.show()"
   ]
  },
  {
   "cell_type": "code",
   "execution_count": null,
   "metadata": {},
   "outputs": [],
   "source": []
  }
 ],
 "metadata": {
  "kernelspec": {
   "display_name": "base",
   "language": "python",
   "name": "python3"
  },
  "language_info": {
   "codemirror_mode": {
    "name": "ipython",
    "version": 3
   },
   "file_extension": ".py",
   "mimetype": "text/x-python",
   "name": "python",
   "nbconvert_exporter": "python",
   "pygments_lexer": "ipython3",
   "version": "3.10.9"
  }
 },
 "nbformat": 4,
 "nbformat_minor": 2
}
